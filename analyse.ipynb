{
 "cells": [
  {
   "cell_type": "markdown",
   "metadata": {},
   "source": [
    "# Application d'analyse des données de Formule 1 saison 2022\n",
    "celle que je peux récupérer en tout cas\n",
    "\n",
    "Cette application est réutilisable pour les prochaines saisons\n",
    "\n",
    "## Imports"
   ]
  },
  {
   "cell_type": "code",
   "execution_count": 6,
   "metadata": {},
   "outputs": [],
   "source": [
    "%matplotlib inline\n",
    "import numpy as np \n",
    "import matplotlib.pyplot as plt\n",
    "import pandas as pd\n",
    "import seaborn as sns\n",
    "import json"
   ]
  },
  {
   "cell_type": "markdown",
   "metadata": {},
   "source": [
    "## Backend\n",
    "dans cette partie, je fais tous ce qui ne relève pas de l'affichage des graphs.\n",
    "Cela permet d'avoir directement toutes les données d'un coup pour ensuite juste avoir a\n",
    "choisir le graph a afficher"
   ]
  },
  {
   "cell_type": "code",
   "execution_count": 13,
   "metadata": {},
   "outputs": [],
   "source": [
    "# import data\n",
    "data_result = pd.read_csv('data/race_result.csv', sep=\",\")\n",
    "data_points = pd.read_csv('data/race_points.csv', sep=\",\")\n",
    "jsonfile = open(\"teams.json\")\n",
    "teams_pilot = json.load(jsonfile)"
   ]
  },
  {
   "cell_type": "markdown",
   "metadata": {},
   "source": [
    "## Frontend\n",
    "Ici les affichages seront séparé pour pouvoir choisir ce qu'on affiche\n",
    "\n",
    "### Test data import"
   ]
  },
  {
   "cell_type": "code",
   "execution_count": 14,
   "metadata": {},
   "outputs": [
    {
     "name": "stdout",
     "output_type": "stream",
     "text": [
      "Empty DataFrame\n",
      "Columns: [location, date, ham, rus, ver, per, lec, sai, gas, tsu, ric, nor, oco, alo, vet, str, lat, alb, bot, zho, mag, sch]\n",
      "Index: []\n",
      "\n",
      "[0 rows x 22 columns]\n",
      "Empty DataFrame\n",
      "Columns: [location, date, ham, rus, ver, per, lec, sai, gas, tsu, ric, nor, oco, alo, vet, str, lat, alb, bot, zho, mag, sch]\n",
      "Index: []\n",
      "\n",
      "[0 rows x 22 columns]\n",
      "{'redbull': ['ver', 'per'], 'mrecedes': ['ham', 'rus'], 'ferrari': ['lec', 'sai'], 'mclaren': ['ric', 'nor'], 'alpine': ['alo', 'oco'], 'alphatauri': ['gas', 'tsu'], 'astonmartin': ['vet', 'str'], 'williams': ['lat', 'alb'], 'alfaromeo': ['bot', 'zho'], 'haas': ['mag', 'sch']}\n"
     ]
    }
   ],
   "source": [
    "print(data_result)\n",
    "print(data_points)\n",
    "print(teams_pilot)"
   ]
  }
 ],
 "metadata": {
  "interpreter": {
   "hash": "74e49f77052160c67e9f621b74dbbe50153074d8416d58a878eca4082e3600bb"
  },
  "kernelspec": {
   "display_name": "Python 3.9.7 64-bit (windows store)",
   "language": "python",
   "name": "python3"
  },
  "language_info": {
   "codemirror_mode": {
    "name": "ipython",
    "version": 3
   },
   "file_extension": ".py",
   "mimetype": "text/x-python",
   "name": "python",
   "nbconvert_exporter": "python",
   "pygments_lexer": "ipython3",
   "version": "3.9.10"
  },
  "orig_nbformat": 4
 },
 "nbformat": 4,
 "nbformat_minor": 2
}
