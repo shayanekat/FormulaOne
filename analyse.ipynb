{
 "cells": [
  {
   "cell_type": "markdown",
   "metadata": {},
   "source": [
    "# Application d'analyse des données de Formule 1 saison 2022\n",
    "celle que je peux récupérer en tout cas\n",
    "\n",
    "Cette application est réutilisable pour les prochaines saisons\n",
    "\n",
    "## Imports"
   ]
  },
  {
   "cell_type": "code",
   "execution_count": 2,
   "metadata": {},
   "outputs": [],
   "source": [
    "%matplotlib inline\n",
    "import numpy as np \n",
    "import matplotlib.pyplot as plt\n",
    "import pandas as pd\n",
    "import seaborn as sns\n",
    "import json\n",
    "import xml.etree.cElementTree as et"
   ]
  },
  {
   "cell_type": "markdown",
   "metadata": {},
   "source": [
    "## Backend\n",
    "dans cette partie, je fais tous ce qui ne relève pas de l'affichage des graphs.\n",
    "Cela permet d'avoir directement toutes les données d'un coup pour ensuite juste avoir a\n",
    "choisir le graph a afficher"
   ]
  },
  {
   "cell_type": "code",
   "execution_count": 4,
   "metadata": {},
   "outputs": [],
   "source": [
    "# import data\n",
    "data_result = pd.read_csv('data/race_result.csv', sep=\",\")\n",
    "data_points = pd.read_csv('data/race_points.csv', sep=\",\")\n",
    "data_times = pd.read_csv('data/race_times.csv', sep=\",\")\n",
    "data_best_lap = pd.read_csv('data/race_best_lap.csv', sep=\",\")\n",
    "\n",
    "X = [i for i in range(1, data_result.shape[1]+1)]\n",
    "\n",
    "jsonfile = open(\"teams.json\")\n",
    "teams_pilot = json.load(jsonfile)\n",
    "\n",
    "# get each pilot's data\n",
    "pilots_data = {\n",
    "    \"ham\": [[] for i in range(4)],\n",
    "    \"rus\": [[] for i in range(4)],\n",
    "    \"ver\": [[] for i in range(4)],\n",
    "    \"per\": [[] for i in range(4)],\n",
    "    \"lec\": [[] for i in range(4)],\n",
    "    \"sai\": [[] for i in range(4)],\n",
    "    \"gas\": [[] for i in range(4)],\n",
    "    \"tsu\": [[] for i in range(4)],\n",
    "    \"ric\": [[] for i in range(4)],\n",
    "    \"nor\": [[] for i in range(4)],\n",
    "    \"oco\": [[] for i in range(4)],\n",
    "    \"alo\": [[] for i in range(4)],\n",
    "    \"vet\": [[] for i in range(4)],\n",
    "    \"str\": [[] for i in range(4)],\n",
    "    \"lat\": [[] for i in range(4)],\n",
    "    \"alb\": [[] for i in range(4)],\n",
    "    \"bot\": [[] for i in range(4)],\n",
    "    \"zho\": [[] for i in range(4)],\n",
    "    \"mag\": [[] for i in range(4)],\n",
    "    \"sch\": [[] for i in range(4)]\n",
    "}\n",
    "\n",
    "for pilot in pilots_data.keys():\n",
    "    pilots_data[pilot][0] = data_result[pilot]\n",
    "    pilots_data[pilot][1] = data_points[pilot]\n",
    "    pilots_data[pilot][2] = data_times[pilot]\n",
    "    pilots_data[pilot][3] = data_best_lap[pilot]\n",
    "        \n"
   ]
  },
  {
   "cell_type": "markdown",
   "metadata": {},
   "source": [
    "## Frontend\n",
    "Ici les affichages seront séparé pour pouvoir choisir ce qu'on affiche\n",
    "\n",
    "### Test data import"
   ]
  },
  {
   "cell_type": "code",
   "execution_count": 5,
   "metadata": {},
   "outputs": [
    {
     "name": "stdout",
     "output_type": "stream",
     "text": [
      "Empty DataFrame\n",
      "Columns: [location, date, ham, rus, ver, per, lec, sai, gas, tsu, ric, nor, oco, alo, vet, str, lat, alb, bot, zho, mag, sch]\n",
      "Index: []\n",
      "\n",
      "[0 rows x 22 columns]\n",
      "Empty DataFrame\n",
      "Columns: [location, date, ham, rus, ver, per, lec, sai, gas, tsu, ric, nor, oco, alo, vet, str, lat, alb, bot, zho, mag, sch]\n",
      "Index: []\n",
      "\n",
      "[0 rows x 22 columns]\n",
      "Empty DataFrame\n",
      "Columns: [location, date, ham, rus, ver, per, lec, sai, gas, tsu, ric, nor, oco, alo, vet, str, lat, alb, bot, zho, mag, sch]\n",
      "Index: []\n",
      "\n",
      "[0 rows x 22 columns]\n",
      "Empty DataFrame\n",
      "Columns: [location, date, ham, rus, ver, per, lec, sai, gas, tsu, ric, nor, oco, alo, vet, str, lat, alb, bot, zho, mag, sch]\n",
      "Index: []\n",
      "\n",
      "[0 rows x 22 columns]\n",
      "{'ham': [Series([], Name: ham, dtype: object), Series([], Name: ham, dtype: object), Series([], Name: ham, dtype: object), Series([], Name: ham, dtype: object)], 'rus': [Series([], Name: rus, dtype: object), Series([], Name: rus, dtype: object), Series([], Name: rus, dtype: object), Series([], Name: rus, dtype: object)], 'ver': [Series([], Name: ver, dtype: object), Series([], Name: ver, dtype: object), Series([], Name: ver, dtype: object), Series([], Name: ver, dtype: object)], 'per': [Series([], Name: per, dtype: object), Series([], Name: per, dtype: object), Series([], Name: per, dtype: object), Series([], Name: per, dtype: object)], 'lec': [Series([], Name: lec, dtype: object), Series([], Name: lec, dtype: object), Series([], Name: lec, dtype: object), Series([], Name: lec, dtype: object)], 'sai': [Series([], Name: sai, dtype: object), Series([], Name: sai, dtype: object), Series([], Name: sai, dtype: object), Series([], Name: sai, dtype: object)], 'gas': [Series([], Name: gas, dtype: object), Series([], Name: gas, dtype: object), Series([], Name: gas, dtype: object), Series([], Name: gas, dtype: object)], 'tsu': [Series([], Name: tsu, dtype: object), Series([], Name: tsu, dtype: object), Series([], Name: tsu, dtype: object), Series([], Name: tsu, dtype: object)], 'ric': [Series([], Name: ric, dtype: object), Series([], Name: ric, dtype: object), Series([], Name: ric, dtype: object), Series([], Name: ric, dtype: object)], 'nor': [Series([], Name: nor, dtype: object), Series([], Name: nor, dtype: object), Series([], Name: nor, dtype: object), Series([], Name: nor, dtype: object)], 'oco': [Series([], Name: oco, dtype: object), Series([], Name: oco, dtype: object), Series([], Name: oco, dtype: object), Series([], Name: oco, dtype: object)], 'alo': [Series([], Name: alo, dtype: object), Series([], Name: alo, dtype: object), Series([], Name: alo, dtype: object), Series([], Name: alo, dtype: object)], 'vet': [Series([], Name: vet, dtype: object), Series([], Name: vet, dtype: object), Series([], Name: vet, dtype: object), Series([], Name: vet, dtype: object)], 'str': [Series([], Name: str, dtype: object), Series([], Name: str, dtype: object), Series([], Name: str, dtype: object), Series([], Name: str, dtype: object)], 'lat': [Series([], Name: lat, dtype: object), Series([], Name: lat, dtype: object), Series([], Name: lat, dtype: object), Series([], Name: lat, dtype: object)], 'alb': [Series([], Name: alb, dtype: object), Series([], Name: alb, dtype: object), Series([], Name: alb, dtype: object), Series([], Name: alb, dtype: object)], 'bot': [Series([], Name: bot, dtype: object), Series([], Name: bot, dtype: object), Series([], Name: bot, dtype: object), Series([], Name: bot, dtype: object)], 'zho': [Series([], Name: zho, dtype: object), Series([], Name: zho, dtype: object), Series([], Name: zho, dtype: object), Series([], Name: zho, dtype: object)], 'mag': [Series([], Name: mag, dtype: object), Series([], Name: mag, dtype: object), Series([], Name: mag, dtype: object), Series([], Name: mag, dtype: object)], 'sch': [Series([], Name: sch, dtype: object), Series([], Name: sch, dtype: object), Series([], Name: sch, dtype: object), Series([], Name: sch, dtype: object)]}\n",
      "{'redbull': ['ver', 'per'], 'mrecedes': ['ham', 'rus'], 'ferrari': ['lec', 'sai'], 'mclaren': ['ric', 'nor'], 'alpine': ['alo', 'oco'], 'alphatauri': ['gas', 'tsu'], 'astonmartin': ['vet', 'str'], 'williams': ['lat', 'alb'], 'alfaromeo': ['bot', 'zho'], 'haas': ['mag', 'sch']}\n"
     ]
    }
   ],
   "source": [
    "print(data_result)\n",
    "print(data_points)\n",
    "print(data_times)\n",
    "print(data_best_lap)\n",
    "\n",
    "print(pilots_data)\n",
    "\n",
    "print(teams_pilot)"
   ]
  }
 ],
 "metadata": {
  "interpreter": {
   "hash": "74e49f77052160c67e9f621b74dbbe50153074d8416d58a878eca4082e3600bb"
  },
  "kernelspec": {
   "display_name": "Python 3.9.7 64-bit (windows store)",
   "language": "python",
   "name": "python3"
  },
  "language_info": {
   "codemirror_mode": {
    "name": "ipython",
    "version": 3
   },
   "file_extension": ".py",
   "mimetype": "text/x-python",
   "name": "python",
   "nbconvert_exporter": "python",
   "pygments_lexer": "ipython3",
   "version": "3.9.10"
  },
  "orig_nbformat": 4
 },
 "nbformat": 4,
 "nbformat_minor": 2
}
