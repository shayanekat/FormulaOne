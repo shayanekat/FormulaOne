{
 "cells": [
  {
   "cell_type": "markdown",
   "metadata": {},
   "source": [
    "# Application d'analyse des données de Formule 1 saison 2022\n",
    "celle que je peux récupérer en tout cas\n",
    "\n",
    "Cette application est réutilisable pour les prochaines saisons\n",
    "\n",
    "## Imports"
   ]
  },
  {
   "cell_type": "code",
   "execution_count": 4,
   "metadata": {},
   "outputs": [],
   "source": [
    "%matplotlib inline\n",
    "import numpy as np \n",
    "import matplotlib.pyplot as plt\n",
    "import pandas as pd\n",
    "import seaborn as sns\n",
    "import json"
   ]
  },
  {
   "cell_type": "markdown",
   "metadata": {},
   "source": [
    "## Backend\n",
    "dans cette partie, je fais tous ce qui ne relève pas de l'affichage des graphs.\n",
    "Cela permet d'avoir directement toutes les données d'un coup pour ensuite juste avoir a\n",
    "choisir le graph a afficher"
   ]
  },
  {
   "cell_type": "code",
   "execution_count": 25,
   "metadata": {},
   "outputs": [],
   "source": [
    "# import data\n",
    "data_speed = pd.read_csv('data/race_avg_speed.csv', sep=\",\")\n",
    "data_points = pd.read_csv('data/race_points.csv', sep=\",\")\n",
    "data_times = pd.read_csv('data/race_time.csv', sep=\",\")\n",
    "data_best_lap = pd.read_csv('data/race_best_lap.csv', sep=\",\")\n",
    "data_grid = pd.read_csv(\"data/race_grid.csv\", sep=\",\")\n",
    "data_result = pd.read_csv(\"data/race_result.csv\")\n",
    "\n",
    "X = [i for i in range(1, data_points.shape[0]+1)]\n",
    "n = 6\n",
    "\n",
    "jsonfile = open(\"teams.json\")\n",
    "teams_pilot = json.load(jsonfile)\n",
    "\n",
    "pdata = pd.concat([data_result, data_points, data_grid, data_speed, data_times, data_best_lap])\n",
    "        \n"
   ]
  },
  {
   "cell_type": "markdown",
   "metadata": {},
   "source": [
    "## Frontend\n",
    "Ici les affichages seront séparé pour pouvoir choisir ce qu'on affiche\n",
    "\n",
    "### Test data import"
   ]
  },
  {
   "cell_type": "code",
   "execution_count": 26,
   "metadata": {},
   "outputs": [
    {
     "name": "stdout",
     "output_type": "stream",
     "text": [
      "        ham       rus     ver      per       lec       sai      gas       tsu  \\\n",
      "0     3.000     4.000   19.00   18.000     1.000     2.000   20.000     8.000   \n",
      "0    15.000    12.000    0.00    0.000    26.000    18.000    0.000     4.000   \n",
      "0     5.000     9.000    2.00    4.000     1.000     3.000   10.000    16.000   \n",
      "0   202.469   202.313  204.14  202.762   206.018   203.501  200.189   200.642   \n",
      "0  5863.259  5864.795     NaN      NaN  5853.584  5859.182      NaN  5873.970   \n",
      "0    96.228    96.302   95.44   96.089    94.570    95.740   97.324    97.104   \n",
      "\n",
      "        ric       nor  ...       alo       vet       str       lat       alb  \\\n",
      "0    14.000    15.000  ...     9.000    12.000    16.000    13.000     6.000   \n",
      "0     0.000     0.000  ...     2.000     0.000     0.000     0.000     8.000   \n",
      "0    18.000    13.000  ...     8.000    19.000    20.000    14.000     6.000   \n",
      "0   200.318   200.882  ...   201.412   200.555   198.300   200.125   201.691   \n",
      "0  5908.559  5909.919  ...  5875.974  5899.457  5915.379  5907.516  5869.703   \n",
      "0    97.261    96.988  ...    96.733    97.146    98.251    97.355    96.599   \n",
      "\n",
      "        bot       zho  mag  sch  Unnamed: 20  \n",
      "0    10.000     5.000  NaN  NaN          NaN  \n",
      "0     1.000    10.000  NaN  NaN          NaN  \n",
      "0    15.000     7.000  NaN  NaN          NaN  \n",
      "0   201.512   201.641  NaN  NaN          NaN  \n",
      "0  5876.648  5868.338  NaN  NaN          NaN  \n",
      "0    96.685    96.623  NaN  NaN          NaN  \n",
      "\n",
      "[6 rows x 21 columns]\n"
     ]
    },
    {
     "data": {
      "text/plain": [
       "<AxesSubplot:>"
      ]
     },
     "execution_count": 26,
     "metadata": {},
     "output_type": "execute_result"
    },
    {
     "data": {
      "image/png": "[encoded data removed]",
      "text/plain": [
       "<Figure size 432x288 with 2 Axes>"
      ]
     },
     "metadata": {
      "needs_background": "light"
     },
     "output_type": "display_data"
    }
   ],
   "source": [
    "print(data_result)\n",
    "print(data_points)\n",
    "print(data_times)\n",
    "print(data_best_lap)\n",
    "print(data_grid)\n",
    "\n",
    "print(pilots_data)\n",
    "print(pdata)\n",
    "sns.heatmap(pdata.isna())\n",
    "\n",
    "print(teams_pilot)"
   ]
  },
  {
   "cell_type": "markdown",
   "metadata": {},
   "source": [
    "### nuage de point\n",
    "un graph avec la position sur la grille en x, et le classement en y. cela permet de predire si l'ordre de la grille est conservé"
   ]
  },
  {
   "cell_type": "code",
   "execution_count": 16,
   "metadata": {},
   "outputs": [
    {
     "data": {
      "text/plain": [
       "Text(0, 0.5, 'classement')"
      ]
     },
     "execution_count": 16,
     "metadata": {},
     "output_type": "execute_result"
    },
    {
     "data": {
      "image/png": "[encoded data removed]",
      "text/plain": [
       "<Figure size 432x288 with 1 Axes>"
      ]
     },
     "metadata": {
      "needs_background": "light"
     },
     "output_type": "display_data"
    }
   ],
   "source": [
    "plt.scatter(data_grid, data_result)\n",
    "plt.xlabel(\"position sur la grille\")\n",
    "plt.ylabel(\"classement\")"
   ]
  },
  {
   "cell_type": "markdown",
   "metadata": {},
   "source": [
    "toujours un nuage de point, mais avec les temps totaux en x et temps du meilleur tour en y"
   ]
  },
  {
   "cell_type": "code",
   "execution_count": 17,
   "metadata": {},
   "outputs": [
    {
     "data": {
      "text/plain": [
       "Text(0, 0.5, 'temps meilleur tour (s)')"
      ]
     },
     "execution_count": 17,
     "metadata": {},
     "output_type": "execute_result"
    },
    {
     "data": {
      "image/png": "[encoded data removed]",
      "text/plain": [
       "<Figure size 432x288 with 1 Axes>"
      ]
     },
     "metadata": {
      "needs_background": "light"
     },
     "output_type": "display_data"
    }
   ],
   "source": [
    "plt.scatter(data_times, data_best_lap)\n",
    "plt.xlabel(\"temps total (s)\")\n",
    "plt.ylabel(\"temps meilleur tour (s)\")"
   ]
  }
 ],
 "metadata": {
  "interpreter": {
   "hash": "74e49f77052160c67e9f621b74dbbe50153074d8416d58a878eca4082e3600bb"
  },
  "kernelspec": {
   "display_name": "Python 3.9.7 64-bit (windows store)",
   "language": "python",
   "name": "python3"
  },
  "language_info": {
   "codemirror_mode": {
    "name": "ipython",
    "version": 3
   },
   "file_extension": ".py",
   "mimetype": "text/x-python",
   "name": "python",
   "nbconvert_exporter": "python",
   "pygments_lexer": "ipython3",
   "version": "3.9.11"
  },
  "orig_nbformat": 4
 },
 "nbformat": 4,
 "nbformat_minor": 2
}
