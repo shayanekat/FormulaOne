{
 "cells": [
  {
   "cell_type": "markdown",
   "metadata": {},
   "source": [
    "# Application d'analyse des données de Formule 1 saison 2023\n",
    "Ceci est la version 2023\n",
    "\n",
    "Cette fois, je part de la base de ce que j'a fait la saison précédente et essayer d'avoir\n",
    "une meilleur data visualisation\n",
    "\n",
    "Je vais vraiment essayer de séparer entre les batailles principales\n",
    "\n",
    "## Imports"
   ]
  },
  {
   "cell_type": "code",
   "execution_count": null,
   "metadata": {},
   "outputs": [],
   "source": [
    "import pandas as pd\n",
    "import numpy as np\n",
    "import cufflinks as cf\n",
    "import plotly.express as px\n",
    "import chart_studio.plotly as py\n",
    "import seaborn as sns\n",
    "%matplotlib inline\n",
    "import matplotlib.pyplot as plt\n",
    "\n",
    "from plotly.offline import download_plotlyjs, init_notebook_mode, plot, iplot\n",
    "import plotly.graph_objs as go\n",
    "import json"
   ]
  },
  {
   "cell_type": "markdown",
   "metadata": {},
   "source": [
    "## Partie Générale\n",
    "\n",
    "Dans cette partie, je m'intéresse à la vision générale de la saison.\n",
    "C'est cette partie qui reste très proche de la version 2022\n",
    "\n",
    "### Backend"
   ]
  },
  {
   "cell_type": "code",
   "execution_count": null,
   "metadata": {},
   "outputs": [],
   "source": [
    "# importation des données\n",
    "data_all = pd.read_csv(\"data.csv\", sep=\",\")\n",
    "data_all[\"index\"] = data_all.groupby(\"pilot\").cumcount()\n",
    "data_all[\"index\"] += 1\n",
    "\n",
    "# dataset des points cumulés par pilote\n",
    "data_points = data_all[[\"pilot\", \"points\"]].copy()\n",
    "data_points[\"cum_points\"] = data_points.groupby(\"pilot\").cumsum()\n",
    "data_points[\"index\"] = data_points.groupby(\"pilot\").cumcount()\n",
    "\n",
    "# extraction des pilotes par écurie\n",
    "with open(\"teams.json\") as jsonfile:\n",
    "    teams_pilot = json.load(jsonfile)\n",
    "data_team_points = {}\n",
    "for team in teams_pilot.keys():\n",
    "    data_team_points[team] = []\n",
    "    \n",
    "# pour chaque équipe on fait la somme des points de chaque pilote de l'équipe\n",
    "for team in teams_pilot.keys():\n",
    "    s = 0\n",
    "    j = 0\n",
    "    for i in range(data_points.shape[0]):\n",
    "        if data_points.iloc[i][\"pilot\"] in teams_pilot[team]:\n",
    "            s += data_points.iloc[i][\"points\"]\n",
    "            j += 1\n",
    "        if j == len(teams_pilot[team]):\n",
    "            j = 0\n",
    "            data_team_points[team].append(s)\n",
    "data_team_points = pd.DataFrame(data_team_points)\n",
    "test = []\n",
    "for i in range(data_team_points.shape[0]):\n",
    "    for team in teams_pilot.keys():\n",
    "        test.append([team, data_team_points.iloc[i][team]])\n",
    "data_team_points = pd.DataFrame(test, columns=[\"team\", \"points\"])\n",
    "data_team_points[\"index\"] = data_team_points.groupby(\"team\").cumcount()"
   ]
  },
  {
   "cell_type": "markdown",
   "metadata": {},
   "source": [
    "### Frontend"
   ]
  },
  {
   "cell_type": "markdown",
   "metadata": {},
   "source": [
    "## Partie Bataille entre pilotes\n",
    "\n",
    "Ici je m'interesse surtout au bataille entre les pilotes\n",
    "\n",
    "### Backend"
   ]
  },
  {
   "cell_type": "markdown",
   "metadata": {},
   "source": [
    "### Frontend"
   ]
  },
  {
   "cell_type": "markdown",
   "metadata": {},
   "source": [
    "## Partie Bataille entre les écuries\n",
    "\n",
    "Ici je m'interesse surtout au bataille entre les écuries\n",
    "\n",
    "### Backend"
   ]
  },
  {
   "cell_type": "markdown",
   "metadata": {},
   "source": [
    "### Frontend"
   ]
  }
 ],
 "metadata": {
  "kernelspec": {
   "display_name": "Python 3.9.13 64-bit (microsoft store)",
   "language": "python",
   "name": "python3"
  },
  "language_info": {
   "name": "python",
   "version": "3.9.13"
  },
  "orig_nbformat": 4,
  "vscode": {
   "interpreter": {
    "hash": "1e2a176fe7a67fa3cea0a9a4aae115db165f4a49b3f93416714d96c39a447e3b"
   }
  }
 },
 "nbformat": 4,
 "nbformat_minor": 2
}
