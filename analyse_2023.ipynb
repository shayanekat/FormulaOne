{
 "cells": [
  {
   "cell_type": "markdown",
   "metadata": {},
   "source": [
    "# Application d'analyse des données de Formule 1 saison 2023\n",
    "Ceci est la version 2023\n",
    "\n",
    "Cette fois, je part de la base de ce que j'a fait la saison précédente et essayer d'avoir\n",
    "une meilleur data visualisation\n",
    "\n",
    "Je vais vraiment essayer de séparer entre les batailles principales\n",
    "\n",
    "## Imports"
   ]
  },
  {
   "cell_type": "code",
   "execution_count": 1,
   "metadata": {},
   "outputs": [],
   "source": [
    "import pandas as pd\n",
    "import numpy as np\n",
    "import cufflinks as cf\n",
    "import plotly.express as px\n",
    "import chart_studio.plotly as py\n",
    "import seaborn as sns\n",
    "%matplotlib inline\n",
    "import matplotlib.pyplot as plt\n",
    "\n",
    "from plotly.offline import download_plotlyjs, init_notebook_mode, plot, iplot\n",
    "import plotly.graph_objs as go\n",
    "import json"
   ]
  },
  {
   "cell_type": "markdown",
   "metadata": {},
   "source": [
    "## Partie Générale\n",
    "\n",
    "Dans cette partie, je m'intéresse à la vision générale de la saison.\n",
    "C'est cette partie qui reste très proche de la version 2022\n",
    "\n",
    "### Backend"
   ]
  },
  {
   "cell_type": "code",
   "execution_count": 9,
   "metadata": {},
   "outputs": [],
   "source": [
    "# importation des données\n",
    "data_all = pd.read_csv(\"data_2023.csv\", sep=\",\")\n",
    "data_all[\"index\"] = data_all.groupby(\"pilot\").cumcount()\n",
    "data_all[\"index\"] += 1\n",
    "\n",
    "# dataset des points cumulés par pilote\n",
    "data_points = data_all[[\"pilot\", \"points\"]].copy()\n",
    "data_points[\"cum_points\"] = data_points.groupby(\"pilot\").cumsum()\n",
    "data_points[\"index\"] = data_points.groupby(\"pilot\").cumcount()\n",
    "\n",
    "# extraction des pilotes par écurie\n",
    "with open(\"teams_2023.json\") as jsonfile:\n",
    "    teams_pilot = json.load(jsonfile)\n",
    "data_team_points = {}\n",
    "for team in teams_pilot.keys():\n",
    "    data_team_points[team] = []\n",
    "    \n",
    "# pour chaque équipe on fait la somme des points de chaque pilote de l'équipe\n",
    "for team in teams_pilot.keys():\n",
    "    s = 0\n",
    "    j = 0\n",
    "    for i in range(data_points.shape[0]):\n",
    "        if data_points.iloc[i][\"pilot\"] in teams_pilot[team]:\n",
    "            s += data_points.iloc[i][\"points\"]\n",
    "            j += 1\n",
    "        if j == len(teams_pilot[team]):\n",
    "            j = 0\n",
    "            data_team_points[team].append(s)\n",
    "data_team_points = pd.DataFrame(data_team_points)\n",
    "test = []\n",
    "for i in range(data_team_points.shape[0]):\n",
    "    for team in teams_pilot.keys():\n",
    "        test.append([team, data_team_points.iloc[i][team]])\n",
    "data_team_points = pd.DataFrame(test, columns=[\"team\", \"points\"])\n",
    "data_team_points[\"index\"] = data_team_points.groupby(\"team\").cumcount()"
   ]
  },
  {
   "cell_type": "markdown",
   "metadata": {},
   "source": [
    "### Frontend"
   ]
  },
  {
   "cell_type": "markdown",
   "metadata": {},
   "source": [
    "## Partie Bataille entre pilotes\n",
    "\n",
    "Ici je m'interesse surtout au bataille entre les pilotes\n",
    "\n",
    "### Backend"
   ]
  },
  {
   "cell_type": "code",
   "execution_count": 12,
   "metadata": {},
   "outputs": [
    {
     "name": "stdout",
     "output_type": "stream",
     "text": [
      "   pilot  points  cum_points  index\n",
      "0    ham      15          15      0\n",
      "1    rus      12          12      0\n",
      "2    ver       0           0      0\n",
      "3    per       0           0      0\n",
      "5    sai      18          18      0\n",
      "20   ham      16          31      1\n",
      "21   rus      18          30      1\n",
      "22   ver       2           2      1\n",
      "23   per       1           1      1\n",
      "25   sai      15          33      1\n",
      "   pilot  points  cum_points  index\n",
      "0    ham      15          15      0\n",
      "1    rus      12          12      0\n",
      "2    ver       0           0      0\n",
      "3    per       0           0      0\n",
      "5    sai      18          18      0\n",
      "20   ham      16          31      1\n",
      "21   rus      18          30      1\n",
      "22   ver       2           2      1\n",
      "23   per       1           1      1\n",
      "25   sai      15          33      1\n"
     ]
    }
   ],
   "source": [
    "# extraire les batailles entre pilotes\n",
    "with open(\"battles.json\") as jsonfile:\n",
    "    battles = json.load(jsonfile)\n",
    "pilot_battles = battles[\"battles\"][\"pilots\"]\n",
    "top_battle = pilot_battles[0]\n",
    "middle_battle = pilot_battles[1]\n",
    "\n",
    "# récupérer les données des batailles\n",
    "df_top = data_all[data_all[\"pilot\"].isin(top_battle)]\n",
    "df_mid = data_all[data_all[\"pilot\"].isin(middle_battle)]\n",
    "\n",
    "# somme cumulée des points des pilotes\n",
    "data_points_top = df_top[[\"pilot\", \"points\"]].copy()\n",
    "data_points_top[\"cum_points\"] = data_points_top.groupby(\"pilot\").cumsum()\n",
    "data_points_top[\"index\"] = data_points_top.groupby(\"pilot\").cumcount()\n",
    "data_points_mid = df_top[[\"pilot\", \"points\"]].copy()\n",
    "data_points_mid[\"cum_points\"] = data_points_mid.groupby(\"pilot\").cumsum()\n",
    "data_points_mid[\"index\"] = data_points_mid.groupby(\"pilot\").cumcount()\n",
    "print(data_points_top)\n",
    "print(data_points_mid)"
   ]
  },
  {
   "cell_type": "markdown",
   "metadata": {},
   "source": [
    "### Frontend"
   ]
  },
  {
   "cell_type": "markdown",
   "metadata": {},
   "source": [
    "## Partie Bataille entre les écuries\n",
    "\n",
    "Ici je m'interesse surtout au bataille entre les écuries\n",
    "\n",
    "### Backend"
   ]
  },
  {
   "cell_type": "markdown",
   "metadata": {},
   "source": [
    "### Frontend"
   ]
  }
 ],
 "metadata": {
  "kernelspec": {
   "display_name": "Python 3.8.8 ('base')",
   "language": "python",
   "name": "python3"
  },
  "language_info": {
   "codemirror_mode": {
    "name": "ipython",
    "version": 3
   },
   "file_extension": ".py",
   "mimetype": "text/x-python",
   "name": "python",
   "nbconvert_exporter": "python",
   "pygments_lexer": "ipython3",
   "version": "3.8.8"
  },
  "orig_nbformat": 4,
  "vscode": {
   "interpreter": {
    "hash": "cdf54784e4194863932daca799813273889bc3cfec74d26aea943e0a147c9107"
   }
  }
 },
 "nbformat": 4,
 "nbformat_minor": 2
}
