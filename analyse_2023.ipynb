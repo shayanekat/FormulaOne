{
 "cells": [
  {
   "cell_type": "markdown",
   "metadata": {},
   "source": [
    "# Formula 1 data analysis application season 2023\n",
    "This is the 2023 version\n",
    "\n",
    "This time, I start from what I did last year and try to have a better data visualisation\n",
    "\n",
    "I will try to separate the battles\n",
    "\n",
    "## Imports"
   ]
  },
  {
   "cell_type": "code",
   "execution_count": 1,
   "metadata": {},
   "outputs": [],
   "source": [
    "import pandas as pd\n",
    "import numpy as np\n",
    "import cufflinks as cf\n",
    "import plotly.express as px\n",
    "import chart_studio.plotly as py\n",
    "import seaborn as sns\n",
    "%matplotlib inline\n",
    "import matplotlib.pyplot as plt\n",
    "\n",
    "from plotly.offline import download_plotlyjs, init_notebook_mode, plot, iplot\n",
    "import plotly.graph_objs as go\n",
    "import json"
   ]
  },
  {
   "cell_type": "markdown",
   "metadata": {},
   "source": [
    "## General Part\n",
    "In this part, I will be interested on the general visualisation of the season\n",
    "It will stay close to what I did last year\n",
    "\n",
    "### Backend"
   ]
  },
  {
   "cell_type": "code",
   "execution_count": 26,
   "metadata": {},
   "outputs": [],
   "source": [
    "# Import data\n",
    "data_all = pd.read_csv(\"data_2023.csv\", sep=\",\")\n",
    "data_all[\"index\"] = data_all.groupby(\"pilot\").cumcount()\n",
    "data_all[\"index\"] += 1\n",
    "\n",
    "# dataset of the cumulative points of each pilot\n",
    "data_points = data_all[[\"pilot\", \"points\"]].copy()\n",
    "data_points[\"cum_points\"] = data_points.groupby(\"pilot\").cumsum()\n",
    "data_points[\"index\"] = data_points.groupby(\"pilot\").cumcount()\n",
    "\n",
    "# extraction of pilots per team\n",
    "with open(\"teams_2023.json\") as jsonfile:\n",
    "    teams_pilot = json.load(jsonfile)\n",
    "data_team_points = {}\n",
    "for team in teams_pilot.keys():\n",
    "    data_team_points[team] = []\n",
    "    \n",
    "# for each team we do the sum of the points of each pilot of the team\n",
    "for team in teams_pilot.keys():\n",
    "    s = 0\n",
    "    j = 0\n",
    "    for i in range(data_points.shape[0]):\n",
    "        if data_points.iloc[i][\"pilot\"] in teams_pilot[team]:\n",
    "            s += data_points.iloc[i][\"points\"]\n",
    "            j += 1\n",
    "        if j == len(teams_pilot[team]):\n",
    "            j = 0\n",
    "            data_team_points[team].append(s)\n",
    "data_team_points = pd.DataFrame(data_team_points)\n",
    "test = []\n",
    "for i in range(data_team_points.shape[0]):\n",
    "    for team in teams_pilot.keys():\n",
    "        test.append([team, data_team_points.iloc[i][team]])\n",
    "data_team_points = pd.DataFrame(test, columns=[\"team\", \"points\"])\n",
    "data_team_points[\"index\"] = data_team_points.groupby(\"team\").cumcount()"
   ]
  },
  {
   "cell_type": "markdown",
   "metadata": {},
   "source": [
    "### Frontend"
   ]
  },
  {
   "cell_type": "markdown",
   "metadata": {},
   "source": [
    "## Partie Bataille entre pilotes\n",
    "\n",
    "Here I am interested on the battles between pilots\n",
    "\n",
    "### Backend"
   ]
  },
  {
   "cell_type": "code",
   "execution_count": 35,
   "metadata": {},
   "outputs": [
    {
     "name": "stdout",
     "output_type": "stream",
     "text": [
      "   pilot  points  cum_points  index  diff\n",
      "8    pia       0           0      0    -6\n",
      "9    nor       0           0      0    -6\n",
      "10   oco       6           6      0     0\n",
      "11   gas       2           2      0    -4\n",
      "28   pia       0           0      1   -12\n",
      "29   nor       0           0      1   -12\n",
      "30   oco       6          12      1     0\n",
      "31   gas       0           2      1   -10\n"
     ]
    }
   ],
   "source": [
    "# extract the battles between pilots\n",
    "with open(\"battles.json\") as jsonfile:\n",
    "    battles = json.load(jsonfile)\n",
    "pilot_battles = battles[\"battles\"][\"pilots\"]\n",
    "top_battle = pilot_battles[0]\n",
    "middle_battle = pilot_battles[1]\n",
    "\n",
    "# get the data of the battles\n",
    "df_top = data_all[data_all[\"pilot\"].isin(top_battle)]\n",
    "df_mid = data_all[data_all[\"pilot\"].isin(middle_battle)]\n",
    "\n",
    "# sum of the cumulative points of the pilots\n",
    "data_points_top = df_top[[\"pilot\", \"points\"]].copy()\n",
    "data_points_top[\"cum_points\"] = data_points_top.groupby(\"pilot\").cumsum()\n",
    "data_points_top[\"index\"] = data_points_top.groupby(\"pilot\").cumcount()\n",
    "data_points_mid = df_mid[[\"pilot\", \"points\"]].copy()\n",
    "data_points_mid[\"cum_points\"] = data_points_mid.groupby(\"pilot\").cumsum()\n",
    "data_points_mid[\"index\"] = data_points_mid.groupby(\"pilot\").cumcount()\n",
    "\n",
    "# difference of points with one of the pilots of the battle with the same\n",
    "top_base = \"lec\"\n",
    "data_points_top[\"diff\"] = data_points_top[\"cum_points\"] - data_points_top[data_points_top[\"pilot\"] == top_base][\"cum_points\"].values[data_points_top[\"index\"]]\n",
    "mid_base = \"oco\"\n",
    "data_points_mid[\"diff\"] = data_points_mid[\"cum_points\"] - data_points_mid[data_points_mid[\"pilot\"] == mid_base][\"cum_points\"].values[data_points_mid[\"index\"]]"
   ]
  },
  {
   "cell_type": "markdown",
   "metadata": {},
   "source": [
    "### Frontend"
   ]
  },
  {
   "cell_type": "markdown",
   "metadata": {},
   "source": [
    "## Teams battle Part\n",
    "\n",
    "Here I am interested on the battles between teams\n",
    "\n",
    "### Backend"
   ]
  },
  {
   "cell_type": "markdown",
   "metadata": {},
   "source": [
    "### Frontend"
   ]
  }
 ],
 "metadata": {
  "kernelspec": {
   "display_name": "Python 3.8.8 ('base')",
   "language": "python",
   "name": "python3"
  },
  "language_info": {
   "codemirror_mode": {
    "name": "ipython",
    "version": 3
   },
   "file_extension": ".py",
   "mimetype": "text/x-python",
   "name": "python",
   "nbconvert_exporter": "python",
   "pygments_lexer": "ipython3",
   "version": "3.8.8"
  },
  "orig_nbformat": 4,
  "vscode": {
   "interpreter": {
    "hash": "cdf54784e4194863932daca799813273889bc3cfec74d26aea943e0a147c9107"
   }
  }
 },
 "nbformat": 4,
 "nbformat_minor": 2
}
