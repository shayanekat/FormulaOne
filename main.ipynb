{
 "cells": [
  {
   "cell_type": "markdown",
   "metadata": {},
   "source": [
    "# Formula 1 data analysis application season 2025\n",
    "This is the 2025 version\n",
    "\n",
    "This time, I use fastf1 for race data\n",
    "\n",
    "<h2 style=\"color: red;\">DON'T FORGET TO UPDATE RACE INDEX</h2>\n",
    "<h2 style=\"color: red;\">RUN GLOBALDATA.PY FIRST UPDATING THE RACE INDEX THERE TOO</h2>"
   ]
  },
  {
   "cell_type": "code",
   "execution_count": null,
   "metadata": {},
   "outputs": [],
   "source": [
    "from racenameindex import RaceNameIndex\n",
    "\n",
    "race_idx = RaceNameIndex.Melbourne\n",
    "race_year = 2025"
   ]
  },
  {
   "cell_type": "code",
   "execution_count": 2,
   "metadata": {},
   "outputs": [
    {
     "name": "stderr",
     "output_type": "stream",
     "text": [
      "req         WARNING \tDEFAULT CACHE ENABLED! (175.3 MB) C:\\Users\\Shayane\\AppData\\Local\\Temp\\fastf1\n",
      "core           INFO \tLoading data for Dutch Grand Prix - Race [v3.4.0]\n",
      "req            INFO \tUsing cached data for session_info\n",
      "req            INFO \tUsing cached data for driver_info\n",
      "req            INFO \tUsing cached data for session_status_data\n",
      "req            INFO \tUsing cached data for lap_count\n",
      "req            INFO \tUsing cached data for track_status_data\n",
      "req            INFO \tUsing cached data for _extended_timing_data\n",
      "req            INFO \tUsing cached data for timing_app_data\n",
      "core           INFO \tProcessing timing data...\n",
      "req            INFO \tUsing cached data for car_data\n",
      "req            INFO \tUsing cached data for position_data\n",
      "req            INFO \tUsing cached data for weather_data\n",
      "req            INFO \tUsing cached data for race_control_messages\n",
      "core           INFO \tFinished loading data for 20 drivers: ['4', '1', '16', '81', '55', '11', '63', '44', '10', '14', '27', '3', '18', '23', '31', '2', '22', '20', '77', '24']\n",
      "core           INFO \tLoading data for Dutch Grand Prix - Qualifying [v3.4.0]\n",
      "req            INFO \tUsing cached data for session_info\n",
      "req            INFO \tUsing cached data for driver_info\n",
      "req            INFO \tUsing cached data for session_status_data\n",
      "req            INFO \tUsing cached data for track_status_data\n",
      "req            INFO \tUsing cached data for _extended_timing_data\n",
      "req            INFO \tUsing cached data for timing_app_data\n",
      "core           INFO \tProcessing timing data...\n",
      "core        WARNING \tNo lap data for driver 2\n",
      "core        WARNING \tFailed to perform lap accuracy check - all laps marked as inaccurate (driver 2)\n",
      "req            INFO \tUsing cached data for car_data\n",
      "req            INFO \tUsing cached data for position_data\n",
      "req            INFO \tUsing cached data for weather_data\n",
      "req            INFO \tUsing cached data for race_control_messages\n",
      "core           INFO \tFinished loading data for 20 drivers: ['4', '1', '81', '63', '11', '16', '14', '18', '10', '55', '44', '22', '27', '20', '3', '31', '77', '24', '23', '2']\n",
      "C:\\Users\\Shayane\\AppData\\Local\\Temp\\ipykernel_27928\\4178340316.py:51: FutureWarning: Series.__getitem__ treating keys as positions is deprecated. In a future version, integer keys will always be treated as labels (consistent with DataFrame behavior). To access a value by position, use `ser.iloc[pos]`\n",
      "  lap = quali_session.laps.pick_driver(r1['Abbreviation'][0]).pick_fastest()\n",
      "C:\\Users\\Shayane\\AppData\\Local\\Temp\\ipykernel_27928\\4178340316.py:52: FutureWarning: Series.__getitem__ treating keys as positions is deprecated. In a future version, integer keys will always be treated as labels (consistent with DataFrame behavior). To access a value by position, use `ser.iloc[pos]`\n",
      "  lap2 = quali_session.laps.pick_driver(r2['Abbreviation'][0]).pick_fastest()\n",
      "C:\\Users\\Shayane\\AppData\\Local\\Temp\\ipykernel_27928\\4178340316.py:53: FutureWarning: Series.__getitem__ treating keys as positions is deprecated. In a future version, integer keys will always be treated as labels (consistent with DataFrame behavior). To access a value by position, use `ser.iloc[pos]`\n",
      "  colormap = {r1['Abbreviation'][0]: ff1plt.get_driver_color(r1['Abbreviation'][0], quali_session), r2['Abbreviation'][0]: ff1plt.get_driver_color(r2['Abbreviation'][0], quali_session)}\n",
      "req            INFO \tUsing cached data for driver_info\n",
      "core        WARNING \tFailed to preserve data type for column 'X' while merging telemetry.\n",
      "core        WARNING \tFailed to preserve data type for column 'Y' while merging telemetry.\n",
      "core        WARNING \tFailed to preserve data type for column 'Z' while merging telemetry.\n",
      "core        WARNING \tFailed to preserve data type for column 'X' while merging telemetry.\n",
      "core        WARNING \tFailed to preserve data type for column 'Y' while merging telemetry.\n",
      "core        WARNING \tFailed to preserve data type for column 'Z' while merging telemetry.\n",
      "req            INFO \tUsing cached data for driver_info\n"
     ]
    },
    {
     "name": "stdout",
     "output_type": "stream",
     "text": [
      "15\n",
      "15\n",
      "[15 15 15 15 15 15 15 15 15 15 15 15 15 15 15 15 15 15 15 15 15 14 14 14\n",
      " 14 14 14 14 14 14 14 14 14 14 14 14 14 14 14 14 14 14 13 13 13 13 13 13\n",
      " 13 13 13 13 13 13 13 13 13 13 13 13 13 13 13 12 12 12 12 12 12 12 12 12\n",
      " 12 12 12 12 12 12 12 12 12 12 12 12 11 11 11 11 11 11 11 11 11 11 11 11\n",
      " 11 11 11 11 11 11 11 11 11 10 10 10 10 10 10 10 10 10 10 10 10 10 10 10\n",
      " 10 10 10 10 10 10  9  9  9  9  9  9  9  9  9  9  9  9  9  9  9  9  9  9\n",
      "  9  9  9  8  8  8  8  8  8  8  8  8  8  8  8  8  8  8  8  8  8  8  8  8\n",
      "  7  7  7  7  7  7  7  7  7  7  7  7  7  7  7  7  7  7  7  7  7  6  6  6\n",
      "  6  6  6  6  6  6  6  6  6  6  6  6  6  6  6  6  6  6  5  5  5  5  5  5\n",
      "  5  5  5  5  5  5  5  5  5  5  5  5  5  5  5  4  4  4  4  4  4  4  4  4\n",
      "  4  4  4  4  4  4  4  4  4  4  4  4  3  3  3  3  3  3  3  3  3  3  3  3\n",
      "  3  3  3  3  3  3  3  3  3  2  2  2  2  2  2  2  2  2  2  2  2  2  2  2\n",
      "  2  2  2  2  2  2  1  1  1  1  1  1  1  1  1  1  1  1  1  1  1  1  1  1\n",
      "  1  1]\n"
     ]
    }
   ],
   "source": [
    "# BackEnd\n",
    "import fastf1 as ff1\n",
    "import fastf1.plotting as ff1plt\n",
    "import numpy as np\n",
    "import pandas as pd\n",
    "import plotly.express as px\n",
    "from fastf1.core import Laps\n",
    "import globaldata as gd\n",
    "import json\n",
    "\n",
    "# init\n",
    "ff1plt.setup_mpl(mpl_timedelta_support=True, misc_mpl_mods=False, color_scheme='fastf1')\n",
    "\n",
    "# last race data\n",
    "race = ff1.get_session(race_year, race_idx, 'R')\n",
    "race.load()\n",
    "driver_laps = race.laps.pick_drivers(race.drivers)\n",
    "driver_laps = driver_laps.reset_index()[driver_laps[\"IsAccurate\"] == True] \n",
    "driver_laps[\"LapTime(s)\"] = driver_laps[\"LapTime\"].dt.total_seconds()\n",
    "driver_laps[\"Time(s)\"] = driver_laps[\"Time\"].dt.total_seconds()\n",
    "average_lap_time = driver_laps.groupby(\"Driver\")[\"LapTime(s)\"].mean().reset_index()\n",
    "fastest = average_lap_time[\"LapTime(s)\"].min()\n",
    "average_lap_time['LapTimeDelta'] = average_lap_time['LapTime(s)'] - fastest\n",
    "finishing_order = [race.get_driver(i)[\"Abbreviation\"] for i in race.drivers]\n",
    "average_lap_time[\"Position\"] = average_lap_time[\"Driver\"].apply(lambda x: finishing_order.index(x) + 1)\n",
    "average_lap_time = average_lap_time.sort_values(by=\"Position\")\n",
    "# average_lap_time[\"Driver\"] = average_lap_time[\"Driver\"].str\n",
    "\n",
    "# qualifying data\n",
    "quali_session = ff1.get_session(race_year, race_idx, 'Q')\n",
    "quali_session.load()\n",
    "quali_data = quali_session.laps.pick_drivers(quali_session.drivers)\n",
    "quali_data = quali_data.reset_index()[quali_data[\"IsAccurate\"] == True]\n",
    "list_fastest_laps = list()\n",
    "for drv in quali_data[\"Driver\"].unique():\n",
    "    drvs_fastest_lap = quali_data.pick_driver(drv).pick_fastest()\n",
    "    list_fastest_laps.append(drvs_fastest_lap)\n",
    "fastest_laps = Laps(list_fastest_laps) \\\n",
    "    .sort_values(by='LapTime') \\\n",
    "    .reset_index(drop=True)\n",
    "pole_lap = fastest_laps.pick_fastest()\n",
    "fastest_laps['LapTimeDelta'] = fastest_laps['LapTime'] - pole_lap['LapTime']\n",
    "fastest_laps[\"LapTime\"] = fastest_laps[\"LapTime\"].dt.total_seconds()\n",
    "fastest_laps[\"LapTimeDelta\"] = fastest_laps[\"LapTimeDelta\"].dt.total_seconds()\n",
    "# fastest_laps[\"Driver\"] = fastest_laps[\"Driver\"].str\n",
    "\n",
    "# backend for 2 fastest drivers comparison\n",
    "result = quali_session.results\n",
    "r1 = result.loc[result['Position'] == 1]\n",
    "r2 = result.loc[result['Position'] == 2]\n",
    "lap = quali_session.laps.pick_driver(r1['Abbreviation'][0]).pick_fastest()\n",
    "lap2 = quali_session.laps.pick_driver(r2['Abbreviation'][0]).pick_fastest()\n",
    "colormap = {r1['Abbreviation'][0]: ff1plt.get_driver_color(r1['Abbreviation'][0], quali_session), r2['Abbreviation'][0]: ff1plt.get_driver_color(r2['Abbreviation'][0], quali_session)}\n",
    "tel = lap.get_telemetry()\n",
    "tel2 = lap2.get_telemetry()\n",
    "driver = lap.Driver\n",
    "driver2 = lap2.Driver\n",
    "x = np.array(tel['X'].values)\n",
    "y = np.array(tel['Y'].values)\n",
    "x2 = np.array(tel2['X'].values)\n",
    "y2 = np.array(tel2['Y'].values)\n",
    "def cumDist(x, y):\n",
    "    dist = np.sqrt(np.diff(x)**2 + np.diff(y)**2)\n",
    "    cumdist = np.cumsum(dist)\n",
    "    return np.concatenate(([0], cumdist))\n",
    "cd = cumDist(x, y)\n",
    "cd2 = cumDist(x2, y2)\n",
    "time = np.array(tel['Time'].values)\n",
    "time2 = np.array(tel2['Time'].values)\n",
    "dif = []\n",
    "for i in range(len(cd)):\n",
    "    cpd = cd[i]\n",
    "    t = time[i]\n",
    "    if t not in time2:\n",
    "        cpd2 = np.interp(np.float64(t), np.float64(time2), np.float64(cd2))\n",
    "    else:\n",
    "        cpd2 = cd2[np.where(time2 == t)[0][0]]\n",
    "    if cpd2 > cpd:\n",
    "        dif.append(driver2)\n",
    "    else:\n",
    "        dif.append(driver)\n",
    "qualy2 = pd.DataFrame({'X': x, 'Y': y, 'Driver': dif})\n",
    "\n",
    "# gap to winner\n",
    "winner_lap = driver_laps[driver_laps[\"Position\"] == 1].iloc[-1]\n",
    "winner_driver = winner_lap[\"Driver\"]\n",
    "winner_times = driver_laps[driver_laps[\"Driver\"] == winner_driver][[\"LapNumber\", \"Time(s)\"]].set_index(\"LapNumber\")\n",
    "driver_laps = driver_laps.merge(winner_times, on=\"LapNumber\", suffixes=(\"\", \"_Winner\"))\n",
    "driver_laps['GapToWinner'] = driver_laps['Time(s)'] - driver_laps['Time(s)_Winner']\n",
    "\n",
    "# stints\n",
    "stints = driver_laps[[\"Driver\", \"Stint\", \"Compound\", \"LapNumber\"]]\n",
    "stints = stints.groupby([\"Driver\", \"Stint\", \"Compound\"])\n",
    "stints = stints.count().reset_index()\n",
    "stints = stints.rename(columns={\"LapNumber\": \"StintLength\"})\n",
    "stint_idxs = {drv: [1] for drv in stints[\"Driver\"].unique()}\n",
    "# stints[\"Driver\"] = stints[\"Driver\"].str\n",
    "\n",
    "# colors\n",
    "driver_colors = ff1plt.get_driver_color_mapping(session=race)\n",
    "team_colors = {ff1plt.get_team_name_by_driver(driver, race): ff1plt.get_team_color(ff1plt.get_team_name_by_driver(driver, race), race) for driver in ff1plt.list_driver_abbreviations(race)}\n",
    "compound_colors = {}\n",
    "for compound in stints[\"Compound\"].unique():\n",
    "    compound_colors[compound] = ff1plt.get_compound_color(compound, session=race)\n",
    "\n",
    "# global year driver\n",
    "print(race_idx)\n",
    "global_df = gd.update_data(race_year, race_idx)\n",
    "\n",
    "# global year team\n",
    "global_team_df = global_df.groupby([\"raceIndex\", \"team\"]).sum().reset_index()\n",
    "global_team_df = global_team_df.drop(columns=[\"driver\", \"quali\", \"result\"])\n",
    "\n",
    "# leclerc\n",
    "df_lec = global_df[global_df[\"driver\"] == \"LEC\"]\n",
    "dico = {\"position\": [], \"qualy\": [], \"result\": []}\n",
    "for i in range(1, 21):\n",
    "    dico[\"position\"].append(i)\n",
    "    dico[\"qualy\"].append(df_lec[\"quali\"].value_counts().get(i, 0))\n",
    "    dico[\"result\"].append(df_lec[\"result\"].value_counts().get(i, 0))\n",
    "df_lec = pd.DataFrame(dico)\n",
    "dfq = df_lec[df_lec[\"qualy\"] > 0]\n",
    "dfr = df_lec[df_lec[\"result\"] > 0]"
   ]
  },
  {
   "cell_type": "markdown",
   "metadata": {},
   "source": [
    "## Last Race"
   ]
  },
  {
   "cell_type": "markdown",
   "metadata": {},
   "source": [
    "### Race"
   ]
  },
  {
   "cell_type": "code",
   "execution_count": 34,
   "metadata": {},
   "outputs": [
    {
     "data": {
      "application/vnd.plotly.v1+json": {
       "config": {
        "plotlyServerURL": "https://plot.ly"
       },
       "data": [
        {
         "hovertemplate": "Driver=%{x}<br>LapTime(s)=%{y}<extra></extra>",
         "legendgroup": "",
         "marker": {
          "color": "#636efa",
          "symbol": "circle"
         },
         "mode": "markers",
         "name": "",
         "orientation": "v",
         "showlegend": false,
         "type": "scatter",
         "x": [
          "NOR",
          "VER",
          "LEC",
          "PIA",
          "SAI",
          "PER",
          "RUS",
          "HAM",
          "GAS",
          "ALO",
          "HUL",
          "RIC",
          "STR",
          "ALB",
          "OCO",
          "SAR",
          "TSU",
          "MAG",
          "BOT",
          "ZHO"
         ],
         "xaxis": "x",
         "y": [
          75.22101449275362,
          75.56573913043478,
          75.57173913043478,
          75.59642028985508,
          75.61726086956523,
          75.71608695652174,
          75.53892537313433,
          75.53776119402984,
          76.34560294117648,
          76.41975,
          76.49642647058823,
          76.48663235294119,
          76.54157352941176,
          76.47821212121212,
          76.87457352941176,
          77.07935294117647,
          76.83322727272729,
          77.07835294117648,
          77.01363076923077,
          77.42073846153846
         ],
         "yaxis": "y"
        }
       ],
       "layout": {
        "legend": {
         "tracegroupgap": 0
        },
        "template": {
         "data": {
          "bar": [
           {
            "error_x": {
             "color": "#f2f5fa"
            },
            "error_y": {
             "color": "#f2f5fa"
            },
            "marker": {
             "line": {
              "color": "rgb(17,17,17)",
              "width": 0.5
             },
             "pattern": {
              "fillmode": "overlay",
              "size": 10,
              "solidity": 0.2
             }
            },
            "type": "bar"
           }
          ],
          "barpolar": [
           {
            "marker": {
             "line": {
              "color": "rgb(17,17,17)",
              "width": 0.5
             },
             "pattern": {
              "fillmode": "overlay",
              "size": 10,
              "solidity": 0.2
             }
            },
            "type": "barpolar"
           }
          ],
          "carpet": [
           {
            "aaxis": {
             "endlinecolor": "#A2B1C6",
             "gridcolor": "#506784",
             "linecolor": "#506784",
             "minorgridcolor": "#506784",
             "startlinecolor": "#A2B1C6"
            },
            "baxis": {
             "endlinecolor": "#A2B1C6",
             "gridcolor": "#506784",
             "linecolor": "#506784",
             "minorgridcolor": "#506784",
             "startlinecolor": "#A2B1C6"
            },
            "type": "carpet"
           }
          ],
          "choropleth": [
           {
            "colorbar": {
             "outlinewidth": 0,
             "ticks": ""
            },
            "type": "choropleth"
           }
          ],
          "contour": [
           {
            "colorbar": {
             "outlinewidth": 0,
             "ticks": ""
            },
            "colorscale": [
             [
              0,
              "#0d0887"
             ],
             [
              0.1111111111111111,
              "#46039f"
             ],
             [
              0.2222222222222222,
              "#7201a8"
             ],
             [
              0.3333333333333333,
              "#9c179e"
             ],
             [
              0.4444444444444444,
              "#bd3786"
             ],
             [
              0.5555555555555556,
              "#d8576b"
             ],
             [
              0.6666666666666666,
              "#ed7953"
             ],
             [
              0.7777777777777778,
              "#fb9f3a"
             ],
             [
              0.8888888888888888,
              "#fdca26"
             ],
             [
              1,
              "#f0f921"
             ]
            ],
            "type": "contour"
           }
          ],
          "contourcarpet": [
           {
            "colorbar": {
             "outlinewidth": 0,
             "ticks": ""
            },
            "type": "contourcarpet"
           }
          ],
          "heatmap": [
           {
            "colorbar": {
             "outlinewidth": 0,
             "ticks": ""
            },
            "colorscale": [
             [
              0,
              "#0d0887"
             ],
             [
              0.1111111111111111,
              "#46039f"
             ],
             [
              0.2222222222222222,
              "#7201a8"
             ],
             [
              0.3333333333333333,
              "#9c179e"
             ],
             [
              0.4444444444444444,
              "#bd3786"
             ],
             [
              0.5555555555555556,
              "#d8576b"
             ],
             [
              0.6666666666666666,
              "#ed7953"
             ],
             [
              0.7777777777777778,
              "#fb9f3a"
             ],
             [
              0.8888888888888888,
              "#fdca26"
             ],
             [
              1,
              "#f0f921"
             ]
            ],
            "type": "heatmap"
           }
          ],
          "heatmapgl": [
           {
            "colorbar": {
             "outlinewidth": 0,
             "ticks": ""
            },
            "colorscale": [
             [
              0,
              "#0d0887"
             ],
             [
              0.1111111111111111,
              "#46039f"
             ],
             [
              0.2222222222222222,
              "#7201a8"
             ],
             [
              0.3333333333333333,
              "#9c179e"
             ],
             [
              0.4444444444444444,
              "#bd3786"
             ],
             [
              0.5555555555555556,
              "#d8576b"
             ],
             [
              0.6666666666666666,
              "#ed7953"
             ],
             [
              0.7777777777777778,
              "#fb9f3a"
             ],
             [
              0.8888888888888888,
              "#fdca26"
             ],
             [
              1,
              "#f0f921"
             ]
            ],
            "type": "heatmapgl"
           }
          ],
          "histogram": [
           {
            "marker": {
             "pattern": {
              "fillmode": "overlay",
              "size": 10,
              "solidity": 0.2
             }
            },
            "type": "histogram"
           }
          ],
          "histogram2d": [
           {
            "colorbar": {
             "outlinewidth": 0,
             "ticks": ""
            },
            "colorscale": [
             [
              0,
              "#0d0887"
             ],
             [
              0.1111111111111111,
              "#46039f"
             ],
             [
              0.2222222222222222,
              "#7201a8"
             ],
             [
              0.3333333333333333,
              "#9c179e"
             ],
             [
              0.4444444444444444,
              "#bd3786"
             ],
             [
              0.5555555555555556,
              "#d8576b"
             ],
             [
              0.6666666666666666,
              "#ed7953"
             ],
             [
              0.7777777777777778,
              "#fb9f3a"
             ],
             [
              0.8888888888888888,
              "#fdca26"
             ],
             [
              1,
              "#f0f921"
             ]
            ],
            "type": "histogram2d"
           }
          ],
          "histogram2dcontour": [
           {
            "colorbar": {
             "outlinewidth": 0,
             "ticks": ""
            },
            "colorscale": [
             [
              0,
              "#0d0887"
             ],
             [
              0.1111111111111111,
              "#46039f"
             ],
             [
              0.2222222222222222,
              "#7201a8"
             ],
             [
              0.3333333333333333,
              "#9c179e"
             ],
             [
              0.4444444444444444,
              "#bd3786"
             ],
             [
              0.5555555555555556,
              "#d8576b"
             ],
             [
              0.6666666666666666,
              "#ed7953"
             ],
             [
              0.7777777777777778,
              "#fb9f3a"
             ],
             [
              0.8888888888888888,
              "#fdca26"
             ],
             [
              1,
              "#f0f921"
             ]
            ],
            "type": "histogram2dcontour"
           }
          ],
          "mesh3d": [
           {
            "colorbar": {
             "outlinewidth": 0,
             "ticks": ""
            },
            "type": "mesh3d"
           }
          ],
          "parcoords": [
           {
            "line": {
             "colorbar": {
              "outlinewidth": 0,
              "ticks": ""
             }
            },
            "type": "parcoords"
           }
          ],
          "pie": [
           {
            "automargin": true,
            "type": "pie"
           }
          ],
          "scatter": [
           {
            "marker": {
             "line": {
              "color": "#283442"
             }
            },
            "type": "scatter"
           }
          ],
          "scatter3d": [
           {
            "line": {
             "colorbar": {
              "outlinewidth": 0,
              "ticks": ""
             }
            },
            "marker": {
             "colorbar": {
              "outlinewidth": 0,
              "ticks": ""
             }
            },
            "type": "scatter3d"
           }
          ],
          "scattercarpet": [
           {
            "marker": {
             "colorbar": {
              "outlinewidth": 0,
              "ticks": ""
             }
            },
            "type": "scattercarpet"
           }
          ],
          "scattergeo": [
           {
            "marker": {
             "colorbar": {
              "outlinewidth": 0,
              "ticks": ""
             }
            },
            "type": "scattergeo"
           }
          ],
          "scattergl": [
           {
            "marker": {
             "line": {
              "color": "#283442"
             }
            },
            "type": "scattergl"
           }
          ],
          "scattermapbox": [
           {
            "marker": {
             "colorbar": {
              "outlinewidth": 0,
              "ticks": ""
             }
            },
            "type": "scattermapbox"
           }
          ],
          "scatterpolar": [
           {
            "marker": {
             "colorbar": {
              "outlinewidth": 0,
              "ticks": ""
             }
            },
            "type": "scatterpolar"
           }
          ],
          "scatterpolargl": [
           {
            "marker": {
             "colorbar": {
              "outlinewidth": 0,
              "ticks": ""
             }
            },
            "type": "scatterpolargl"
           }
          ],
          "scatterternary": [
           {
            "marker": {
             "colorbar": {
              "outlinewidth": 0,
              "ticks": ""
             }
            },
            "type": "scatterternary"
           }
          ],
          "surface": [
           {
            "colorbar": {
             "outlinewidth": 0,
             "ticks": ""
            },
            "colorscale": [
             [
              0,
              "#0d0887"
             ],
             [
              0.1111111111111111,
              "#46039f"
             ],
             [
              0.2222222222222222,
              "#7201a8"
             ],
             [
              0.3333333333333333,
              "#9c179e"
             ],
             [
              0.4444444444444444,
              "#bd3786"
             ],
             [
              0.5555555555555556,
              "#d8576b"
             ],
             [
              0.6666666666666666,
              "#ed7953"
             ],
             [
              0.7777777777777778,
              "#fb9f3a"
             ],
             [
              0.8888888888888888,
              "#fdca26"
             ],
             [
              1,
              "#f0f921"
             ]
            ],
            "type": "surface"
           }
          ],
          "table": [
           {
            "cells": {
             "fill": {
              "color": "#506784"
             },
             "line": {
              "color": "rgb(17,17,17)"
             }
            },
            "header": {
             "fill": {
              "color": "#2a3f5f"
             },
             "line": {
              "color": "rgb(17,17,17)"
             }
            },
            "type": "table"
           }
          ]
         },
         "layout": {
          "annotationdefaults": {
           "arrowcolor": "#f2f5fa",
           "arrowhead": 0,
           "arrowwidth": 1
          },
          "autotypenumbers": "strict",
          "coloraxis": {
           "colorbar": {
            "outlinewidth": 0,
            "ticks": ""
           }
          },
          "colorscale": {
           "diverging": [
            [
             0,
             "#8e0152"
            ],
            [
             0.1,
             "#c51b7d"
            ],
            [
             0.2,
             "#de77ae"
            ],
            [
             0.3,
             "#f1b6da"
            ],
            [
             0.4,
             "#fde0ef"
            ],
            [
             0.5,
             "#f7f7f7"
            ],
            [
             0.6,
             "#e6f5d0"
            ],
            [
             0.7,
             "#b8e186"
            ],
            [
             0.8,
             "#7fbc41"
            ],
            [
             0.9,
             "#4d9221"
            ],
            [
             1,
             "#276419"
            ]
           ],
           "sequential": [
            [
             0,
             "#0d0887"
            ],
            [
             0.1111111111111111,
             "#46039f"
            ],
            [
             0.2222222222222222,
             "#7201a8"
            ],
            [
             0.3333333333333333,
             "#9c179e"
            ],
            [
             0.4444444444444444,
             "#bd3786"
            ],
            [
             0.5555555555555556,
             "#d8576b"
            ],
            [
             0.6666666666666666,
             "#ed7953"
            ],
            [
             0.7777777777777778,
             "#fb9f3a"
            ],
            [
             0.8888888888888888,
             "#fdca26"
            ],
            [
             1,
             "#f0f921"
            ]
           ],
           "sequentialminus": [
            [
             0,
             "#0d0887"
            ],
            [
             0.1111111111111111,
             "#46039f"
            ],
            [
             0.2222222222222222,
             "#7201a8"
            ],
            [
             0.3333333333333333,
             "#9c179e"
            ],
            [
             0.4444444444444444,
             "#bd3786"
            ],
            [
             0.5555555555555556,
             "#d8576b"
            ],
            [
             0.6666666666666666,
             "#ed7953"
            ],
            [
             0.7777777777777778,
             "#fb9f3a"
            ],
            [
             0.8888888888888888,
             "#fdca26"
            ],
            [
             1,
             "#f0f921"
            ]
           ]
          },
          "colorway": [
           "#636efa",
           "#EF553B",
           "#00cc96",
           "#ab63fa",
           "#FFA15A",
           "#19d3f3",
           "#FF6692",
           "#B6E880",
           "#FF97FF",
           "#FECB52"
          ],
          "font": {
           "color": "#f2f5fa"
          },
          "geo": {
           "bgcolor": "rgb(17,17,17)",
           "lakecolor": "rgb(17,17,17)",
           "landcolor": "rgb(17,17,17)",
           "showlakes": true,
           "showland": true,
           "subunitcolor": "#506784"
          },
          "hoverlabel": {
           "align": "left"
          },
          "hovermode": "closest",
          "mapbox": {
           "style": "dark"
          },
          "paper_bgcolor": "rgb(17,17,17)",
          "plot_bgcolor": "rgb(17,17,17)",
          "polar": {
           "angularaxis": {
            "gridcolor": "#506784",
            "linecolor": "#506784",
            "ticks": ""
           },
           "bgcolor": "rgb(17,17,17)",
           "radialaxis": {
            "gridcolor": "#506784",
            "linecolor": "#506784",
            "ticks": ""
           }
          },
          "scene": {
           "xaxis": {
            "backgroundcolor": "rgb(17,17,17)",
            "gridcolor": "#506784",
            "gridwidth": 2,
            "linecolor": "#506784",
            "showbackground": true,
            "ticks": "",
            "zerolinecolor": "#C8D4E3"
           },
           "yaxis": {
            "backgroundcolor": "rgb(17,17,17)",
            "gridcolor": "#506784",
            "gridwidth": 2,
            "linecolor": "#506784",
            "showbackground": true,
            "ticks": "",
            "zerolinecolor": "#C8D4E3"
           },
           "zaxis": {
            "backgroundcolor": "rgb(17,17,17)",
            "gridcolor": "#506784",
            "gridwidth": 2,
            "linecolor": "#506784",
            "showbackground": true,
            "ticks": "",
            "zerolinecolor": "#C8D4E3"
           }
          },
          "shapedefaults": {
           "line": {
            "color": "#f2f5fa"
           }
          },
          "sliderdefaults": {
           "bgcolor": "#C8D4E3",
           "bordercolor": "rgb(17,17,17)",
           "borderwidth": 1,
           "tickwidth": 0
          },
          "ternary": {
           "aaxis": {
            "gridcolor": "#506784",
            "linecolor": "#506784",
            "ticks": ""
           },
           "baxis": {
            "gridcolor": "#506784",
            "linecolor": "#506784",
            "ticks": ""
           },
           "bgcolor": "rgb(17,17,17)",
           "caxis": {
            "gridcolor": "#506784",
            "linecolor": "#506784",
            "ticks": ""
           }
          },
          "title": {
           "x": 0.05
          },
          "updatemenudefaults": {
           "bgcolor": "#506784",
           "borderwidth": 0
          },
          "xaxis": {
           "automargin": true,
           "gridcolor": "#283442",
           "linecolor": "#506784",
           "ticks": "",
           "title": {
            "standoff": 15
           },
           "zerolinecolor": "#283442",
           "zerolinewidth": 2
          },
          "yaxis": {
           "automargin": true,
           "gridcolor": "#283442",
           "linecolor": "#506784",
           "ticks": "",
           "title": {
            "standoff": 15
           },
           "zerolinecolor": "#283442",
           "zerolinewidth": 2
          }
         }
        },
        "title": {
         "text": "Average lap time per driver"
        },
        "xaxis": {
         "anchor": "y",
         "domain": [
          0,
          1
         ],
         "title": {
          "text": "Driver"
         }
        },
        "yaxis": {
         "anchor": "x",
         "domain": [
          0,
          1
         ],
         "title": {
          "text": "LapTime(s)"
         }
        }
       }
      }
     },
     "metadata": {},
     "output_type": "display_data"
    }
   ],
   "source": [
    "# get the average lap time per driver\n",
    "px.scatter(average_lap_time, x=\"Driver\", y=\"LapTime(s)\", title=\"Average lap time per driver\", template=\"plotly_dark\")"
   ]
  },
  {
   "cell_type": "code",
   "execution_count": 35,
   "metadata": {},
   "outputs": [
    {
     "data": {
      "application/vnd.plotly.v1+json": {
       "config": {
        "plotlyServerURL": "https://plot.ly"
       },
       "data": [
        {
         "hovertemplate": "Driver=NOR<br>LapNumber=%{x}<br>LapTime(s)=%{y}<extra></extra>",
         "legendgroup": "NOR",
         "line": {
          "color": "#ff8000",
          "dash": "solid"
         },
         "marker": {
          "symbol": "circle"
         },
         "mode": "lines",
         "name": "NOR",
         "showlegend": true,
         "type": "scattergl",
         "x": [
          2,
          3,
          4,
          5,
          6,
          7,
          8,
          9,
          10,
          11,
          12,
          13,
          14,
          15,
          16,
          17,
          18,
          19,
          20,
          21,
          22,
          23,
          24,
          25,
          26,
          27,
          30,
          31,
          32,
          35,
          36,
          37,
          38,
          39,
          40,
          41,
          42,
          43,
          44,
          45,
          46,
          47,
          48,
          49,
          50,
          51,
          52,
          53,
          54,
          55,
          56,
          57,
          58,
          59,
          60,
          61,
          62,
          63,
          64,
          65,
          66,
          67,
          68,
          69,
          70,
          71,
          72
         ],
         "xaxis": "x",
         "y": [
          76.134,
          76.496,
          76.304,
          76.271,
          76.225,
          76.395,
          76.169,
          76.477,
          76.292,
          76.303,
          76.2,
          76.242,
          76.47,
          76.227,
          75.689,
          76.085,
          76.066,
          75.899,
          76.043,
          75.729,
          75.796,
          75.784,
          75.692,
          75.709,
          75.873,
          75.744,
          74.571,
          74.391,
          74.476,
          74.474,
          74.312,
          74.724,
          74.557,
          74.707,
          74.639,
          75.01,
          75.205,
          74.791,
          74.577,
          74.831,
          74.603,
          74.892,
          74.776,
          74.911,
          74.575,
          74.832,
          74.687,
          74.738,
          74.468,
          74.599,
          74.816,
          74.867,
          75.098,
          74.979,
          74.518,
          75.046,
          75.008,
          74.31,
          74.858,
          74.786,
          74.624,
          74.688,
          74.66,
          74.657,
          74.871,
          75.007,
          73.817
         ],
         "yaxis": "y"
        },
        {
         "hovertemplate": "Driver=VER<br>LapNumber=%{x}<br>LapTime(s)=%{y}<extra></extra>",
         "legendgroup": "VER",
         "line": {
          "color": "#0600ef",
          "dash": "solid"
         },
         "marker": {
          "symbol": "circle"
         },
         "mode": "lines",
         "name": "VER",
         "showlegend": true,
         "type": "scattergl",
         "x": [
          2,
          3,
          4,
          5,
          6,
          7,
          8,
          9,
          10,
          11,
          12,
          13,
          14,
          15,
          16,
          17,
          18,
          19,
          20,
          21,
          22,
          23,
          24,
          25,
          26,
          29,
          30,
          31,
          32,
          35,
          36,
          37,
          38,
          39,
          40,
          41,
          42,
          43,
          44,
          45,
          46,
          47,
          48,
          49,
          50,
          51,
          52,
          53,
          54,
          55,
          56,
          57,
          58,
          59,
          60,
          61,
          62,
          63,
          64,
          65,
          66,
          67,
          68,
          69,
          70,
          71,
          72
         ],
         "xaxis": "x",
         "y": [
          76.106,
          76.131,
          76.432,
          76.181,
          76.155,
          76.281,
          76.347,
          76.252,
          76.455,
          76.36,
          76.538,
          76.338,
          76.466,
          76.222,
          76.235,
          76.304,
          76.901,
          75.946,
          76.625,
          76.416,
          76.411,
          76.586,
          76.33,
          76.652,
          76.517,
          75.041,
          74.752,
          75.15,
          74.888,
          74.909,
          75.131,
          75.065,
          75.045,
          75.138,
          75.095,
          75.016,
          75.095,
          75.299,
          75.333,
          75.099,
          75.155,
          75.32,
          74.981,
          75.129,
          75.023,
          75.139,
          75.232,
          74.822,
          75.018,
          74.758,
          75.065,
          75.013,
          75.355,
          75.132,
          75,
          75.394,
          74.941,
          75.088,
          75.287,
          74.992,
          75.052,
          75.251,
          75.052,
          74.972,
          75.153,
          75.544,
          75.889
         ],
         "yaxis": "y"
        },
        {
         "hovertemplate": "Driver=LEC<br>LapNumber=%{x}<br>LapTime(s)=%{y}<extra></extra>",
         "legendgroup": "LEC",
         "line": {
          "color": "#e8002d",
          "dash": "solid"
         },
         "marker": {
          "symbol": "circle"
         },
         "mode": "lines",
         "name": "LEC",
         "showlegend": true,
         "type": "scattergl",
         "x": [
          2,
          3,
          4,
          5,
          6,
          7,
          8,
          9,
          10,
          11,
          12,
          13,
          14,
          15,
          16,
          17,
          18,
          19,
          20,
          21,
          22,
          23,
          26,
          27,
          28,
          29,
          30,
          31,
          32,
          35,
          36,
          37,
          38,
          39,
          40,
          41,
          42,
          43,
          44,
          45,
          46,
          47,
          48,
          49,
          50,
          51,
          52,
          53,
          54,
          55,
          56,
          57,
          58,
          59,
          60,
          61,
          62,
          63,
          64,
          65,
          66,
          67,
          68,
          69,
          70,
          71,
          72
         ],
         "xaxis": "x",
         "y": [
          76.695,
          76.475,
          76.131,
          76.806,
          76.565,
          76.637,
          76.541,
          76.73,
          76.614,
          76.513,
          76.512,
          76.631,
          76.358,
          76.37,
          76.491,
          76.369,
          76.417,
          76.518,
          76.391,
          76.283,
          76.75,
          76.728,
          75.756,
          75.023,
          75.852,
          75.562,
          75.248,
          75.277,
          75.542,
          74.926,
          75.268,
          76.059,
          74.796,
          75.237,
          75.379,
          75.091,
          75.213,
          75.376,
          74.837,
          75.11,
          74.871,
          75.296,
          75.08,
          75.287,
          75.411,
          75.017,
          74.646,
          74.974,
          75.075,
          75.615,
          75.077,
          74.974,
          75.48,
          74.89,
          74.915,
          75.003,
          74.585,
          75.153,
          74.974,
          74.881,
          74.882,
          74.771,
          74.833,
          75.013,
          74.765,
          74.975,
          74.765
         ],
         "yaxis": "y"
        },
        {
         "hovertemplate": "Driver=PIA<br>LapNumber=%{x}<br>LapTime(s)=%{y}<extra></extra>",
         "legendgroup": "PIA",
         "line": {
          "color": "#ff8000",
          "dash": "solid"
         },
         "marker": {
          "symbol": "circle"
         },
         "mode": "lines",
         "name": "PIA",
         "showlegend": true,
         "type": "scattergl",
         "x": [
          2,
          3,
          4,
          5,
          6,
          7,
          8,
          9,
          10,
          11,
          12,
          13,
          14,
          15,
          16,
          17,
          18,
          19,
          20,
          21,
          22,
          23,
          24,
          25,
          26,
          27,
          28,
          29,
          30,
          31,
          32,
          35,
          36,
          37,
          38,
          39,
          40,
          41,
          42,
          43,
          44,
          45,
          46,
          47,
          48,
          49,
          50,
          51,
          52,
          53,
          54,
          55,
          56,
          57,
          58,
          59,
          60,
          61,
          62,
          63,
          64,
          65,
          66,
          67,
          68,
          69,
          70,
          71,
          72
         ],
         "xaxis": "x",
         "y": [
          76.24,
          76.264,
          76.678,
          76.76,
          76.528,
          76.954,
          76.659,
          76.817,
          76.512,
          76.52,
          76.463,
          76.514,
          76.471,
          76.382,
          76.384,
          76.348,
          76.493,
          76.515,
          76.331,
          76.534,
          76.847,
          76.723,
          76.798,
          76.408,
          76.062,
          75.937,
          75.932,
          76.067,
          76.089,
          76.582,
          76.214,
          74.937,
          74.237,
          74.308,
          74.491,
          74.43,
          74.613,
          74.536,
          74.44,
          74.677,
          74.564,
          74.574,
          74.597,
          75.257,
          75.154,
          75.414,
          75.325,
          75.165,
          75.116,
          75.34,
          75.002,
          75.305,
          75.079,
          75.088,
          75.072,
          75.052,
          74.991,
          75.012,
          74.832,
          74.965,
          74.932,
          75.052,
          74.639,
          74.975,
          74.777,
          75.083,
          75.014,
          74.99,
          75.092
         ],
         "yaxis": "y"
        },
        {
         "hovertemplate": "Driver=SAI<br>LapNumber=%{x}<br>LapTime(s)=%{y}<extra></extra>",
         "legendgroup": "SAI",
         "line": {
          "color": "#e8002d",
          "dash": "solid"
         },
         "marker": {
          "symbol": "circle"
         },
         "mode": "lines",
         "name": "SAI",
         "showlegend": true,
         "type": "scattergl",
         "x": [
          2,
          3,
          4,
          5,
          6,
          7,
          8,
          9,
          10,
          11,
          12,
          13,
          14,
          15,
          16,
          17,
          18,
          19,
          20,
          21,
          22,
          23,
          24,
          25,
          26,
          27,
          28,
          29,
          32,
          35,
          36,
          37,
          38,
          39,
          40,
          41,
          42,
          43,
          44,
          45,
          46,
          47,
          48,
          49,
          50,
          51,
          52,
          53,
          54,
          55,
          56,
          57,
          58,
          59,
          60,
          61,
          62,
          63,
          64,
          65,
          66,
          67,
          68,
          69,
          70,
          71,
          72
         ],
         "xaxis": "x",
         "y": [
          77.277,
          76.875,
          76.823,
          76.962,
          76.576,
          76.848,
          76.204,
          76.836,
          76.836,
          77.855,
          76.58,
          76.524,
          76.651,
          76.347,
          76.476,
          76.38,
          76.174,
          76.647,
          76.645,
          76.283,
          76.56,
          76.667,
          76.734,
          76.49,
          76.32,
          76.594,
          76.386,
          76.566,
          75.843,
          74.807,
          74.739,
          74.701,
          74.719,
          74.943,
          74.117,
          74.768,
          74.985,
          74.671,
          74.952,
          75.143,
          75.06,
          75.105,
          75.431,
          75.023,
          74.962,
          74.972,
          74.831,
          74.848,
          75.149,
          75.343,
          75.132,
          74.652,
          74.507,
          74.488,
          74.865,
          75.244,
          75.078,
          74.817,
          74.605,
          74.672,
          74.75,
          75.098,
          75.051,
          75.13,
          75.101,
          74.442,
          74.631
         ],
         "yaxis": "y"
        },
        {
         "hovertemplate": "Driver=PER<br>LapNumber=%{x}<br>LapTime(s)=%{y}<extra></extra>",
         "legendgroup": "PER",
         "line": {
          "color": "#0600ef",
          "dash": "solid"
         },
         "marker": {
          "symbol": "circle"
         },
         "mode": "lines",
         "name": "PER",
         "showlegend": true,
         "type": "scattergl",
         "x": [
          2,
          3,
          4,
          5,
          6,
          7,
          8,
          9,
          10,
          11,
          12,
          13,
          14,
          15,
          16,
          17,
          18,
          19,
          20,
          21,
          22,
          23,
          24,
          25,
          26,
          27,
          28,
          31,
          32,
          35,
          36,
          37,
          38,
          39,
          40,
          41,
          42,
          43,
          44,
          45,
          46,
          47,
          48,
          49,
          50,
          51,
          52,
          53,
          54,
          55,
          56,
          57,
          58,
          59,
          60,
          61,
          62,
          63,
          64,
          65,
          66,
          67,
          68,
          69,
          70,
          71,
          72
         ],
         "xaxis": "x",
         "y": [
          76.479,
          76.421,
          76.566,
          76.747,
          76.386,
          76.862,
          77.107,
          76.898,
          76.708,
          76.403,
          76.387,
          76.599,
          76.708,
          76.581,
          76.572,
          76.467,
          76.731,
          76.623,
          76.529,
          76.529,
          76.684,
          77.003,
          77.07,
          76.432,
          76.505,
          76.361,
          76.57,
          75.296,
          75.031,
          75.106,
          74.846,
          75.121,
          75.102,
          74.949,
          74.792,
          74.879,
          74.828,
          74.93,
          75.143,
          75.138,
          75.103,
          76.486,
          75.601,
          75.492,
          75.314,
          75.12,
          75.046,
          75.266,
          75.169,
          75.45,
          75.521,
          75.714,
          76.198,
          75.287,
          75.197,
          75.063,
          75.034,
          75.081,
          74.699,
          74.932,
          74.61,
          74.849,
          75.132,
          74.587,
          74.851,
          74.924,
          74.956
         ],
         "yaxis": "y"
        },
        {
         "hovertemplate": "Driver=RUS<br>LapNumber=%{x}<br>LapTime(s)=%{y}<extra></extra>",
         "legendgroup": "RUS",
         "line": {
          "color": "#27f4d2",
          "dash": "solid"
         },
         "marker": {
          "symbol": "circle"
         },
         "mode": "lines",
         "name": "RUS",
         "showlegend": true,
         "type": "scattergl",
         "x": [
          2,
          3,
          4,
          5,
          6,
          7,
          8,
          9,
          10,
          11,
          12,
          13,
          14,
          15,
          16,
          17,
          18,
          19,
          20,
          21,
          22,
          23,
          24,
          27,
          28,
          29,
          30,
          31,
          32,
          35,
          36,
          37,
          38,
          39,
          40,
          41,
          42,
          43,
          44,
          45,
          46,
          47,
          48,
          49,
          50,
          51,
          52,
          53,
          56,
          57,
          58,
          59,
          60,
          61,
          62,
          63,
          64,
          65,
          66,
          67,
          68,
          69,
          70,
          71,
          72
         ],
         "xaxis": "x",
         "y": [
          76.389,
          76.532,
          76.633,
          76.562,
          76.448,
          76.596,
          76.62,
          76.62,
          76.725,
          76.366,
          76.383,
          76.646,
          76.312,
          76.336,
          76.257,
          76.265,
          76.582,
          76.572,
          76.631,
          76.641,
          76.733,
          76.755,
          76.961,
          74.532,
          75.748,
          77.452,
          75.663,
          75.833,
          75.625,
          74.906,
          75.125,
          75.258,
          75.548,
          75.294,
          76.372,
          75.537,
          75.454,
          75.603,
          75.305,
          74.91,
          74.846,
          75.064,
          75.361,
          75.096,
          75.161,
          75.263,
          75.344,
          75.441,
          73.972,
          73.927,
          74.129,
          74.072,
          74.09,
          74.286,
          74.717,
          75.431,
          74.769,
          74.347,
          74.401,
          74.287,
          74.203,
          74.078,
          74.207,
          74.822,
          74.459
         ],
         "yaxis": "y"
        },
        {
         "hovertemplate": "Driver=HAM<br>LapNumber=%{x}<br>LapTime(s)=%{y}<extra></extra>",
         "legendgroup": "HAM",
         "line": {
          "color": "#27f4d2",
          "dash": "solid"
         },
         "marker": {
          "symbol": "circle"
         },
         "mode": "lines",
         "name": "HAM",
         "showlegend": true,
         "type": "scattergl",
         "x": [
          2,
          3,
          4,
          5,
          6,
          7,
          8,
          9,
          10,
          11,
          12,
          13,
          14,
          15,
          16,
          17,
          18,
          19,
          20,
          21,
          22,
          25,
          26,
          27,
          28,
          29,
          30,
          31,
          32,
          35,
          36,
          37,
          38,
          39,
          40,
          41,
          42,
          43,
          44,
          45,
          46,
          47,
          50,
          51,
          52,
          53,
          54,
          55,
          56,
          57,
          58,
          59,
          60,
          61,
          62,
          63,
          64,
          65,
          66,
          67,
          68,
          69,
          70,
          71,
          72
         ],
         "xaxis": "x",
         "y": [
          77.761,
          76.489,
          76.974,
          76.854,
          76.594,
          77.063,
          77.471,
          77.148,
          76.906,
          77.617,
          77.85,
          77.382,
          76.619,
          76.686,
          76.692,
          76.851,
          76.621,
          76.743,
          76.686,
          77.126,
          77.871,
          75.725,
          76.433,
          75.75,
          75.958,
          75.457,
          75.435,
          75.278,
          75.262,
          74.805,
          75.098,
          74.893,
          74.895,
          75.096,
          75.002,
          74.767,
          74.709,
          74.723,
          74.904,
          76.022,
          75.511,
          75.768,
          73.883,
          74.047,
          74.047,
          74.263,
          74.353,
          74.444,
          74.48,
          74.35,
          74.477,
          73.968,
          73.977,
          74.038,
          73.878,
          74.422,
          74.832,
          74.01,
          74.243,
          74.406,
          74.353,
          74.416,
          75.898,
          74.898,
          75.688
         ],
         "yaxis": "y"
        },
        {
         "hovertemplate": "Driver=GAS<br>LapNumber=%{x}<br>LapTime(s)=%{y}<extra></extra>",
         "legendgroup": "GAS",
         "line": {
          "color": "#ff87bc",
          "dash": "solid"
         },
         "marker": {
          "symbol": "circle"
         },
         "mode": "lines",
         "name": "GAS",
         "showlegend": true,
         "type": "scattergl",
         "x": [
          2,
          3,
          4,
          5,
          6,
          7,
          8,
          9,
          10,
          11,
          12,
          13,
          14,
          15,
          16,
          17,
          18,
          19,
          20,
          21,
          22,
          23,
          24,
          25,
          26,
          27,
          28,
          29,
          30,
          31,
          35,
          36,
          37,
          38,
          39,
          40,
          41,
          42,
          43,
          44,
          45,
          46,
          47,
          48,
          49,
          50,
          51,
          52,
          53,
          54,
          55,
          56,
          57,
          58,
          59,
          60,
          61,
          62,
          63,
          64,
          65,
          66,
          67,
          68,
          69,
          70,
          71
         ],
         "xaxis": "x",
         "y": [
          76.896,
          76.914,
          76.934,
          76.735,
          76.551,
          76.913,
          77.081,
          76.909,
          76.965,
          79.464,
          77.375,
          76.961,
          76.929,
          77.12,
          76.975,
          77.261,
          77.076,
          77.034,
          77.135,
          77.265,
          77.24,
          77.09,
          76.916,
          77.052,
          76.972,
          76.757,
          77.516,
          79.144,
          77.752,
          77.353,
          75.264,
          76.516,
          76.055,
          75.926,
          78.161,
          76.394,
          75.858,
          76.021,
          75.978,
          75.672,
          75.621,
          75.611,
          76.002,
          75.366,
          75.606,
          75.643,
          75.483,
          75.196,
          74.987,
          74.855,
          75.256,
          75.219,
          75.147,
          75.794,
          75.583,
          76.583,
          76.371,
          75.24,
          75.351,
          75.381,
          75.494,
          75.329,
          75.067,
          75.331,
          75.281,
          75.444,
          75.553
         ],
         "yaxis": "y"
        },
        {
         "hovertemplate": "Driver=ALO<br>LapNumber=%{x}<br>LapTime(s)=%{y}<extra></extra>",
         "legendgroup": "ALO",
         "line": {
          "color": "#00665f",
          "dash": "solid"
         },
         "marker": {
          "symbol": "circle"
         },
         "mode": "lines",
         "name": "ALO",
         "showlegend": true,
         "type": "scattergl",
         "x": [
          2,
          3,
          4,
          5,
          6,
          7,
          8,
          9,
          10,
          11,
          12,
          13,
          14,
          15,
          16,
          17,
          18,
          19,
          20,
          21,
          22,
          23,
          24,
          25,
          26,
          27,
          28,
          29,
          30,
          35,
          36,
          37,
          38,
          39,
          40,
          41,
          42,
          43,
          44,
          45,
          46,
          47,
          48,
          49,
          50,
          51,
          52,
          53,
          54,
          55,
          56,
          57,
          58,
          59,
          60,
          61,
          62,
          63,
          64,
          65,
          66,
          67,
          68,
          69,
          70,
          71
         ],
         "xaxis": "x",
         "y": [
          77.392,
          76.865,
          76.661,
          77.135,
          76.7,
          77.167,
          77.995,
          77.448,
          77.528,
          77.672,
          77.509,
          77.112,
          77.27,
          77.287,
          78.446,
          77.508,
          77.478,
          77.336,
          76.815,
          76.963,
          77.138,
          77.83,
          77.006,
          77.156,
          78.012,
          77.174,
          77.217,
          77.457,
          77.251,
          75.741,
          76.762,
          76.125,
          76.138,
          76.357,
          77.345,
          76.67,
          76.349,
          75.865,
          75.823,
          75.985,
          75.831,
          75.749,
          75.481,
          75.647,
          75.268,
          75.014,
          75.151,
          75.048,
          75.039,
          75.242,
          75.193,
          76.238,
          77.097,
          75.352,
          75.621,
          75.506,
          75.984,
          75.653,
          75.297,
          75.198,
          75.285,
          75.65,
          76.027,
          76.211,
          75.822,
          74.972
         ],
         "yaxis": "y"
        },
        {
         "hovertemplate": "Driver=HUL<br>LapNumber=%{x}<br>LapTime(s)=%{y}<extra></extra>",
         "legendgroup": "HUL",
         "line": {
          "color": "#b6babd",
          "dash": "solid"
         },
         "marker": {
          "symbol": "circle"
         },
         "mode": "lines",
         "name": "HUL",
         "showlegend": true,
         "type": "scattergl",
         "x": [
          2,
          3,
          4,
          5,
          6,
          7,
          8,
          9,
          10,
          11,
          12,
          13,
          16,
          17,
          18,
          19,
          20,
          21,
          22,
          23,
          24,
          25,
          26,
          27,
          28,
          29,
          30,
          31,
          32,
          35,
          36,
          37,
          38,
          39,
          40,
          41,
          42,
          43,
          44,
          45,
          46,
          47,
          48,
          49,
          50,
          51,
          52,
          53,
          54,
          55,
          56,
          57,
          58,
          59,
          60,
          61,
          62,
          63,
          64,
          65,
          66,
          67,
          68,
          69,
          70,
          71
         ],
         "xaxis": "x",
         "y": [
          77.461,
          77.247,
          77.04,
          76.757,
          76.731,
          77.039,
          77.416,
          77.373,
          77.994,
          77.714,
          77.627,
          77.704,
          75.932,
          76.203,
          76.066,
          75.867,
          75.953,
          76.281,
          77.053,
          76.658,
          76.652,
          76.387,
          76.734,
          76.173,
          76.849,
          77.546,
          76.739,
          76.315,
          76.548,
          76.313,
          76.638,
          76.072,
          76.73,
          76.284,
          76.321,
          76.462,
          76.448,
          75.896,
          76.182,
          75.983,
          75.846,
          75.83,
          75.938,
          76.053,
          75.805,
          75.705,
          75.856,
          75.733,
          76.179,
          76.449,
          76.464,
          76.261,
          76.107,
          75.657,
          78.585,
          76.441,
          76.295,
          77.307,
          76.32,
          76.254,
          76.114,
          75.918,
          76.03,
          75.881,
          75.91,
          76.222
         ],
         "yaxis": "y"
        },
        {
         "hovertemplate": "Driver=RIC<br>LapNumber=%{x}<br>LapTime(s)=%{y}<extra></extra>",
         "legendgroup": "RIC",
         "line": {
          "color": "#364aa9",
          "dash": "solid"
         },
         "marker": {
          "symbol": "circle"
         },
         "mode": "lines",
         "name": "RIC",
         "showlegend": true,
         "type": "scattergl",
         "x": [
          2,
          3,
          4,
          5,
          6,
          7,
          8,
          9,
          10,
          11,
          12,
          13,
          14,
          15,
          16,
          17,
          18,
          19,
          20,
          21,
          22,
          23,
          24,
          25,
          26,
          27,
          28,
          31,
          32,
          35,
          36,
          37,
          38,
          39,
          40,
          41,
          42,
          43,
          44,
          45,
          46,
          47,
          48,
          49,
          50,
          51,
          52,
          53,
          54,
          55,
          56,
          57,
          58,
          59,
          60,
          61,
          62,
          63,
          64,
          65,
          66,
          67,
          68,
          69,
          70,
          71
         ],
         "xaxis": "x",
         "y": [
          79.111,
          77.667,
          77.402,
          77.115,
          77.076,
          77.447,
          77.37,
          77.494,
          77.645,
          77.608,
          77.614,
          78.112,
          77.699,
          77.444,
          77.17,
          77.489,
          77.301,
          77.117,
          77.318,
          77.619,
          77.163,
          77.412,
          77.229,
          77.248,
          77.182,
          77.109,
          77.9,
          76.288,
          75.984,
          76.259,
          75.543,
          75.568,
          76.164,
          75.986,
          75.923,
          76.164,
          76.308,
          76.344,
          76.302,
          76.293,
          75.825,
          75.872,
          77.598,
          75.913,
          75.709,
          75.309,
          75.222,
          75.633,
          75.374,
          75.419,
          75.354,
          75.692,
          75.487,
          75.675,
          75.53,
          75.544,
          75.444,
          75.413,
          75.553,
          75.536,
          75.481,
          75.449,
          75.68,
          76.055,
          75.91,
          76.216
         ],
         "yaxis": "y"
        },
        {
         "hovertemplate": "Driver=STR<br>LapNumber=%{x}<br>LapTime(s)=%{y}<extra></extra>",
         "legendgroup": "STR",
         "line": {
          "color": "#00665f",
          "dash": "solid"
         },
         "marker": {
          "symbol": "circle"
         },
         "mode": "lines",
         "name": "STR",
         "showlegend": true,
         "type": "scattergl",
         "x": [
          2,
          3,
          4,
          5,
          6,
          7,
          8,
          9,
          10,
          11,
          12,
          13,
          14,
          15,
          16,
          17,
          18,
          19,
          20,
          21,
          22,
          23,
          24,
          25,
          26,
          27,
          28,
          29,
          32,
          35,
          36,
          37,
          38,
          39,
          40,
          41,
          42,
          43,
          44,
          45,
          46,
          47,
          48,
          49,
          50,
          51,
          52,
          53,
          54,
          55,
          56,
          57,
          58,
          59,
          60,
          61,
          62,
          63,
          64,
          65,
          66,
          67,
          68,
          69,
          70,
          71
         ],
         "xaxis": "x",
         "y": [
          77.513,
          77.178,
          76.778,
          76.936,
          76.887,
          77.353,
          76.923,
          77.454,
          77.334,
          77.737,
          77.677,
          77.837,
          78.37,
          77.533,
          77.847,
          77.47,
          77.28,
          77.608,
          77.379,
          77.153,
          77.351,
          77.302,
          77.479,
          77.582,
          77.628,
          77.414,
          78.003,
          77.959,
          75.32,
          75.719,
          75.967,
          75.506,
          76.322,
          76.245,
          77.511,
          77.001,
          76.716,
          76.479,
          75.994,
          75.781,
          75.783,
          75.741,
          75.736,
          75.644,
          75.674,
          75.255,
          77.472,
          75.44,
          75.47,
          75.371,
          75.396,
          75.931,
          75.749,
          75.509,
          75.624,
          75.448,
          75.483,
          75.692,
          75.825,
          75.711,
          75.823,
          75.934,
          75.986,
          75.945,
          76.158,
          76.12
         ],
         "yaxis": "y"
        },
        {
         "hovertemplate": "Driver=ALB<br>LapNumber=%{x}<br>LapTime(s)=%{y}<extra></extra>",
         "legendgroup": "ALB",
         "line": {
          "color": "#00a0dd",
          "dash": "solid"
         },
         "marker": {
          "symbol": "circle"
         },
         "mode": "lines",
         "name": "ALB",
         "showlegend": true,
         "type": "scattergl",
         "x": [
          2,
          3,
          4,
          5,
          6,
          7,
          8,
          9,
          10,
          11,
          14,
          15,
          16,
          17,
          18,
          19,
          20,
          21,
          22,
          23,
          24,
          25,
          26,
          27,
          28,
          29,
          30,
          31,
          32,
          35,
          36,
          37,
          38,
          39,
          40,
          41,
          42,
          43,
          44,
          45,
          46,
          47,
          48,
          49,
          50,
          51,
          52,
          53,
          56,
          57,
          58,
          59,
          60,
          61,
          62,
          63,
          64,
          65,
          66,
          67,
          68,
          69,
          70,
          71
         ],
         "xaxis": "x",
         "y": [
          79.114,
          78.072,
          77.747,
          77.438,
          76.959,
          77.558,
          77.266,
          77.898,
          77.291,
          77.427,
          76.267,
          75.52,
          76.007,
          76.622,
          76.601,
          77.533,
          78.639,
          76.401,
          76.184,
          76.176,
          76.317,
          76.49,
          76.357,
          76.516,
          76.642,
          77.328,
          77.169,
          76.79,
          76.801,
          76.26,
          76.535,
          76.411,
          76.45,
          80.078,
          77.452,
          77.33,
          76.849,
          77.775,
          76.456,
          76.457,
          77.244,
          77.653,
          76.608,
          76.373,
          76.318,
          75.903,
          76.044,
          76.491,
          75.334,
          75.897,
          76.04,
          74.787,
          74.603,
          75.257,
          74.847,
          75.283,
          74.694,
          75.102,
          75.095,
          74.999,
          75.01,
          74.877,
          74.836,
          74.434
         ],
         "yaxis": "y"
        },
        {
         "hovertemplate": "Driver=OCO<br>LapNumber=%{x}<br>LapTime(s)=%{y}<extra></extra>",
         "legendgroup": "OCO",
         "line": {
          "color": "#ff87bc",
          "dash": "solid"
         },
         "marker": {
          "symbol": "circle"
         },
         "mode": "lines",
         "name": "OCO",
         "showlegend": true,
         "type": "scattergl",
         "x": [
          2,
          3,
          4,
          5,
          6,
          7,
          8,
          9,
          10,
          11,
          12,
          13,
          14,
          15,
          16,
          17,
          18,
          19,
          20,
          21,
          22,
          23,
          24,
          25,
          26,
          27,
          28,
          29,
          32,
          35,
          36,
          37,
          38,
          39,
          40,
          41,
          42,
          43,
          44,
          45,
          46,
          47,
          48,
          49,
          50,
          51,
          52,
          53,
          54,
          55,
          56,
          57,
          58,
          59,
          60,
          61,
          62,
          63,
          64,
          65,
          66,
          67,
          68,
          69,
          70,
          71
         ],
         "xaxis": "x",
         "y": [
          79.229,
          77.768,
          77.671,
          77.327,
          77.467,
          77.104,
          77.699,
          77.284,
          77.752,
          77.384,
          77.678,
          77.926,
          77.735,
          78.856,
          77.666,
          77.836,
          77.648,
          77.705,
          77.518,
          77.593,
          78.405,
          77.875,
          77.498,
          77.417,
          78.166,
          78.099,
          77.821,
          77.681,
          76.26,
          75.622,
          75.609,
          75.566,
          75.902,
          75.78,
          76.027,
          77.121,
          78.371,
          76.151,
          75.85,
          75.867,
          76.141,
          75.711,
          76.079,
          76.257,
          75.39,
          77.756,
          75.907,
          75.948,
          75.862,
          75.831,
          75.952,
          79.487,
          75.936,
          75.786,
          75.629,
          77.515,
          75.998,
          75.618,
          75.753,
          75.741,
          75.771,
          77.406,
          75.41,
          77.218,
          77.351,
          75.946
         ],
         "yaxis": "y"
        },
        {
         "hovertemplate": "Driver=SAR<br>LapNumber=%{x}<br>LapTime(s)=%{y}<extra></extra>",
         "legendgroup": "SAR",
         "line": {
          "color": "#00a0dd",
          "dash": "solid"
         },
         "marker": {
          "symbol": "circle"
         },
         "mode": "lines",
         "name": "SAR",
         "showlegend": true,
         "type": "scattergl",
         "x": [
          2,
          3,
          4,
          5,
          6,
          7,
          8,
          9,
          10,
          11,
          12,
          13,
          14,
          15,
          16,
          17,
          18,
          19,
          20,
          21,
          24,
          25,
          26,
          27,
          28,
          29,
          30,
          31,
          32,
          35,
          36,
          37,
          38,
          39,
          40,
          41,
          42,
          43,
          44,
          45,
          46,
          47,
          48,
          49,
          50,
          51,
          52,
          53,
          54,
          55,
          56,
          57,
          58,
          59,
          60,
          61,
          62,
          63,
          64,
          65,
          66,
          67,
          68,
          69,
          70,
          71
         ],
         "xaxis": "x",
         "y": [
          79.031,
          78.339,
          77.936,
          77.487,
          77.66,
          77.898,
          77.589,
          77.929,
          77.843,
          77.424,
          77.6,
          77.448,
          77.542,
          77.534,
          77.84,
          79.184,
          78.011,
          78.035,
          78.02,
          77.713,
          75.714,
          75.856,
          75.539,
          75.886,
          75.875,
          76.039,
          76.931,
          76.967,
          76.421,
          76.532,
          76.37,
          76.484,
          76.979,
          76.983,
          76.907,
          79.422,
          77.217,
          77.512,
          76.551,
          76.611,
          78.611,
          76.843,
          76.13,
          76.163,
          78.22,
          76.258,
          76.399,
          76.279,
          76.617,
          77.6,
          76.314,
          76.486,
          78.672,
          76.84,
          76.594,
          76.79,
          77.22,
          77.827,
          76.434,
          76.418,
          76.468,
          76.162,
          76.371,
          77.002,
          76.706,
          76.2
         ],
         "yaxis": "y"
        },
        {
         "hovertemplate": "Driver=TSU<br>LapNumber=%{x}<br>LapTime(s)=%{y}<extra></extra>",
         "legendgroup": "TSU",
         "line": {
          "color": "#364aa9",
          "dash": "solid"
         },
         "marker": {
          "symbol": "circle"
         },
         "mode": "lines",
         "name": "TSU",
         "showlegend": true,
         "type": "scattergl",
         "x": [
          2,
          3,
          4,
          5,
          6,
          7,
          8,
          9,
          10,
          11,
          12,
          13,
          16,
          17,
          18,
          19,
          20,
          21,
          22,
          23,
          24,
          25,
          26,
          27,
          28,
          29,
          30,
          31,
          35,
          36,
          37,
          38,
          39,
          40,
          41,
          42,
          43,
          44,
          45,
          46,
          47,
          48,
          49,
          50,
          51,
          52,
          53,
          54,
          55,
          56,
          57,
          58,
          59,
          60,
          61,
          62,
          63,
          64,
          65,
          66,
          67,
          68,
          69,
          70,
          71
         ],
         "xaxis": "x",
         "y": [
          78.781,
          77.209,
          76.957,
          76.551,
          77.22,
          77.267,
          77.081,
          77.527,
          77.372,
          77.321,
          77.627,
          77.809,
          75.552,
          75.73,
          76.262,
          76.291,
          76.336,
          76.407,
          77.323,
          76.889,
          76.774,
          77.878,
          76.816,
          77.173,
          77.353,
          76.856,
          77.414,
          76.986,
          75.561,
          75.59,
          75.674,
          76.033,
          75.998,
          76.108,
          77.992,
          76.912,
          77.554,
          76.381,
          76.57,
          78.391,
          77.252,
          76.072,
          76.13,
          78.292,
          76.183,
          76.358,
          76.479,
          76.501,
          77.796,
          76.243,
          77.84,
          76.913,
          76.989,
          76.805,
          76.61,
          77.773,
          77.575,
          76.304,
          76.419,
          76.412,
          76.336,
          76.192,
          76.809,
          76.903,
          76.39
         ],
         "yaxis": "y"
        },
        {
         "hovertemplate": "Driver=MAG<br>LapNumber=%{x}<br>LapTime(s)=%{y}<extra></extra>",
         "legendgroup": "MAG",
         "line": {
          "color": "#b6babd",
          "dash": "solid"
         },
         "marker": {
          "symbol": "circle"
         },
         "mode": "lines",
         "name": "MAG",
         "showlegend": true,
         "type": "scattergl",
         "x": [
          2,
          3,
          4,
          5,
          6,
          7,
          8,
          9,
          10,
          11,
          12,
          13,
          14,
          15,
          16,
          17,
          18,
          19,
          20,
          21,
          22,
          23,
          24,
          25,
          26,
          27,
          28,
          29,
          30,
          31,
          32,
          35,
          36,
          37,
          38,
          39,
          42,
          43,
          44,
          45,
          46,
          47,
          48,
          49,
          50,
          51,
          52,
          53,
          54,
          55,
          56,
          57,
          58,
          59,
          60,
          61,
          62,
          63,
          64,
          65,
          66,
          67,
          68,
          69,
          70,
          71
         ],
         "xaxis": "x",
         "y": [
          77.487,
          83.466,
          76.363,
          76.869,
          76.918,
          78.058,
          77.147,
          77.494,
          77.554,
          77.316,
          77.659,
          76.902,
          77.22,
          77.559,
          77.588,
          77.967,
          77.549,
          77.358,
          77.272,
          76.648,
          77.458,
          76.944,
          76.991,
          76.749,
          76.882,
          76.738,
          77.082,
          77.536,
          77.662,
          77.191,
          77.873,
          76.949,
          77.085,
          77.16,
          77.434,
          80.604,
          74.954,
          75.403,
          75.504,
          75.231,
          75.452,
          76.422,
          76.252,
          78.402,
          75.944,
          76.33,
          76.419,
          76.3,
          77.928,
          76.386,
          77.754,
          76.902,
          76.562,
          76.88,
          76.605,
          77,
          78.763,
          76.399,
          76.365,
          76.667,
          76.261,
          76.323,
          76.05,
          76.59,
          77.298,
          76.293
         ],
         "yaxis": "y"
        },
        {
         "hovertemplate": "Driver=BOT<br>LapNumber=%{x}<br>LapTime(s)=%{y}<extra></extra>",
         "legendgroup": "BOT",
         "line": {
          "color": "#00e700",
          "dash": "solid"
         },
         "marker": {
          "symbol": "circle"
         },
         "mode": "lines",
         "name": "BOT",
         "showlegend": true,
         "type": "scattergl",
         "x": [
          2,
          3,
          4,
          5,
          6,
          7,
          8,
          9,
          10,
          11,
          12,
          13,
          14,
          17,
          18,
          19,
          20,
          21,
          22,
          23,
          24,
          25,
          26,
          27,
          28,
          29,
          30,
          31,
          32,
          35,
          36,
          37,
          38,
          39,
          40,
          41,
          42,
          45,
          46,
          47,
          48,
          49,
          50,
          51,
          52,
          53,
          54,
          55,
          56,
          57,
          58,
          59,
          60,
          61,
          62,
          63,
          64,
          65,
          66,
          67,
          68,
          69,
          70
         ],
         "xaxis": "x",
         "y": [
          78.403,
          78.388,
          77.218,
          77.343,
          76.882,
          77.439,
          77.204,
          77.746,
          77.577,
          77.539,
          77.841,
          78.003,
          78.092,
          76.073,
          76.399,
          76.582,
          76.898,
          76.847,
          76.694,
          76.681,
          76.594,
          76.892,
          76.799,
          76.813,
          77.221,
          77.253,
          77.034,
          77.164,
          77.841,
          76.797,
          77.807,
          77.16,
          77.492,
          77.256,
          77.148,
          77.507,
          78.697,
          75.822,
          76.152,
          78.314,
          76.144,
          76.626,
          76.348,
          76.453,
          76.43,
          76.357,
          76.066,
          76.304,
          77.851,
          78.463,
          76.069,
          76.225,
          76.639,
          76.334,
          76.595,
          76.373,
          76.361,
          76.234,
          76.479,
          76.389,
          76.394,
          77.284,
          76.206
         ],
         "yaxis": "y"
        },
        {
         "hovertemplate": "Driver=ZHO<br>LapNumber=%{x}<br>LapTime(s)=%{y}<extra></extra>",
         "legendgroup": "ZHO",
         "line": {
          "color": "#00e700",
          "dash": "solid"
         },
         "marker": {
          "symbol": "circle"
         },
         "mode": "lines",
         "name": "ZHO",
         "showlegend": true,
         "type": "scattergl",
         "x": [
          2,
          3,
          4,
          5,
          6,
          7,
          8,
          9,
          10,
          11,
          12,
          13,
          14,
          15,
          16,
          17,
          20,
          21,
          22,
          23,
          24,
          25,
          26,
          27,
          28,
          29,
          30,
          31,
          32,
          35,
          36,
          37,
          38,
          39,
          40,
          41,
          42,
          43,
          44,
          45,
          46,
          47,
          48,
          49,
          50,
          53,
          54,
          55,
          56,
          57,
          58,
          59,
          60,
          61,
          62,
          63,
          64,
          65,
          66,
          67,
          68,
          69,
          70
         ],
         "xaxis": "x",
         "y": [
          79.338,
          78.203,
          78.108,
          78.166,
          77.981,
          78.332,
          78.564,
          78.029,
          78.154,
          77.854,
          78.114,
          77.83,
          78.456,
          77.953,
          78.234,
          78.194,
          76.808,
          76.715,
          76.726,
          77.295,
          76.443,
          76.777,
          76.4,
          78.19,
          76.556,
          77.148,
          76.863,
          77.968,
          77.091,
          77.221,
          78.29,
          77.573,
          77.784,
          78.968,
          77.774,
          79.115,
          78.117,
          81.195,
          78.167,
          78.973,
          77.856,
          77.537,
          77.238,
          77.065,
          77.351,
          75.913,
          75.76,
          75.803,
          76.04,
          76.42,
          76.413,
          76.359,
          77.641,
          76.399,
          76.256,
          75.871,
          79.34,
          76.036,
          75.737,
          75.724,
          77.757,
          75.865,
          75.798
         ],
         "yaxis": "y"
        }
       ],
       "layout": {
        "legend": {
         "title": {
          "text": "Driver"
         },
         "tracegroupgap": 0
        },
        "template": {
         "data": {
          "bar": [
           {
            "error_x": {
             "color": "#f2f5fa"
            },
            "error_y": {
             "color": "#f2f5fa"
            },
            "marker": {
             "line": {
              "color": "rgb(17,17,17)",
              "width": 0.5
             },
             "pattern": {
              "fillmode": "overlay",
              "size": 10,
              "solidity": 0.2
             }
            },
            "type": "bar"
           }
          ],
          "barpolar": [
           {
            "marker": {
             "line": {
              "color": "rgb(17,17,17)",
              "width": 0.5
             },
             "pattern": {
              "fillmode": "overlay",
              "size": 10,
              "solidity": 0.2
             }
            },
            "type": "barpolar"
           }
          ],
          "carpet": [
           {
            "aaxis": {
             "endlinecolor": "#A2B1C6",
             "gridcolor": "#506784",
             "linecolor": "#506784",
             "minorgridcolor": "#506784",
             "startlinecolor": "#A2B1C6"
            },
            "baxis": {
             "endlinecolor": "#A2B1C6",
             "gridcolor": "#506784",
             "linecolor": "#506784",
             "minorgridcolor": "#506784",
             "startlinecolor": "#A2B1C6"
            },
            "type": "carpet"
           }
          ],
          "choropleth": [
           {
            "colorbar": {
             "outlinewidth": 0,
             "ticks": ""
            },
            "type": "choropleth"
           }
          ],
          "contour": [
           {
            "colorbar": {
             "outlinewidth": 0,
             "ticks": ""
            },
            "colorscale": [
             [
              0,
              "#0d0887"
             ],
             [
              0.1111111111111111,
              "#46039f"
             ],
             [
              0.2222222222222222,
              "#7201a8"
             ],
             [
              0.3333333333333333,
              "#9c179e"
             ],
             [
              0.4444444444444444,
              "#bd3786"
             ],
             [
              0.5555555555555556,
              "#d8576b"
             ],
             [
              0.6666666666666666,
              "#ed7953"
             ],
             [
              0.7777777777777778,
              "#fb9f3a"
             ],
             [
              0.8888888888888888,
              "#fdca26"
             ],
             [
              1,
              "#f0f921"
             ]
            ],
            "type": "contour"
           }
          ],
          "contourcarpet": [
           {
            "colorbar": {
             "outlinewidth": 0,
             "ticks": ""
            },
            "type": "contourcarpet"
           }
          ],
          "heatmap": [
           {
            "colorbar": {
             "outlinewidth": 0,
             "ticks": ""
            },
            "colorscale": [
             [
              0,
              "#0d0887"
             ],
             [
              0.1111111111111111,
              "#46039f"
             ],
             [
              0.2222222222222222,
              "#7201a8"
             ],
             [
              0.3333333333333333,
              "#9c179e"
             ],
             [
              0.4444444444444444,
              "#bd3786"
             ],
             [
              0.5555555555555556,
              "#d8576b"
             ],
             [
              0.6666666666666666,
              "#ed7953"
             ],
             [
              0.7777777777777778,
              "#fb9f3a"
             ],
             [
              0.8888888888888888,
              "#fdca26"
             ],
             [
              1,
              "#f0f921"
             ]
            ],
            "type": "heatmap"
           }
          ],
          "heatmapgl": [
           {
            "colorbar": {
             "outlinewidth": 0,
             "ticks": ""
            },
            "colorscale": [
             [
              0,
              "#0d0887"
             ],
             [
              0.1111111111111111,
              "#46039f"
             ],
             [
              0.2222222222222222,
              "#7201a8"
             ],
             [
              0.3333333333333333,
              "#9c179e"
             ],
             [
              0.4444444444444444,
              "#bd3786"
             ],
             [
              0.5555555555555556,
              "#d8576b"
             ],
             [
              0.6666666666666666,
              "#ed7953"
             ],
             [
              0.7777777777777778,
              "#fb9f3a"
             ],
             [
              0.8888888888888888,
              "#fdca26"
             ],
             [
              1,
              "#f0f921"
             ]
            ],
            "type": "heatmapgl"
           }
          ],
          "histogram": [
           {
            "marker": {
             "pattern": {
              "fillmode": "overlay",
              "size": 10,
              "solidity": 0.2
             }
            },
            "type": "histogram"
           }
          ],
          "histogram2d": [
           {
            "colorbar": {
             "outlinewidth": 0,
             "ticks": ""
            },
            "colorscale": [
             [
              0,
              "#0d0887"
             ],
             [
              0.1111111111111111,
              "#46039f"
             ],
             [
              0.2222222222222222,
              "#7201a8"
             ],
             [
              0.3333333333333333,
              "#9c179e"
             ],
             [
              0.4444444444444444,
              "#bd3786"
             ],
             [
              0.5555555555555556,
              "#d8576b"
             ],
             [
              0.6666666666666666,
              "#ed7953"
             ],
             [
              0.7777777777777778,
              "#fb9f3a"
             ],
             [
              0.8888888888888888,
              "#fdca26"
             ],
             [
              1,
              "#f0f921"
             ]
            ],
            "type": "histogram2d"
           }
          ],
          "histogram2dcontour": [
           {
            "colorbar": {
             "outlinewidth": 0,
             "ticks": ""
            },
            "colorscale": [
             [
              0,
              "#0d0887"
             ],
             [
              0.1111111111111111,
              "#46039f"
             ],
             [
              0.2222222222222222,
              "#7201a8"
             ],
             [
              0.3333333333333333,
              "#9c179e"
             ],
             [
              0.4444444444444444,
              "#bd3786"
             ],
             [
              0.5555555555555556,
              "#d8576b"
             ],
             [
              0.6666666666666666,
              "#ed7953"
             ],
             [
              0.7777777777777778,
              "#fb9f3a"
             ],
             [
              0.8888888888888888,
              "#fdca26"
             ],
             [
              1,
              "#f0f921"
             ]
            ],
            "type": "histogram2dcontour"
           }
          ],
          "mesh3d": [
           {
            "colorbar": {
             "outlinewidth": 0,
             "ticks": ""
            },
            "type": "mesh3d"
           }
          ],
          "parcoords": [
           {
            "line": {
             "colorbar": {
              "outlinewidth": 0,
              "ticks": ""
             }
            },
            "type": "parcoords"
           }
          ],
          "pie": [
           {
            "automargin": true,
            "type": "pie"
           }
          ],
          "scatter": [
           {
            "marker": {
             "line": {
              "color": "#283442"
             }
            },
            "type": "scatter"
           }
          ],
          "scatter3d": [
           {
            "line": {
             "colorbar": {
              "outlinewidth": 0,
              "ticks": ""
             }
            },
            "marker": {
             "colorbar": {
              "outlinewidth": 0,
              "ticks": ""
             }
            },
            "type": "scatter3d"
           }
          ],
          "scattercarpet": [
           {
            "marker": {
             "colorbar": {
              "outlinewidth": 0,
              "ticks": ""
             }
            },
            "type": "scattercarpet"
           }
          ],
          "scattergeo": [
           {
            "marker": {
             "colorbar": {
              "outlinewidth": 0,
              "ticks": ""
             }
            },
            "type": "scattergeo"
           }
          ],
          "scattergl": [
           {
            "marker": {
             "line": {
              "color": "#283442"
             }
            },
            "type": "scattergl"
           }
          ],
          "scattermapbox": [
           {
            "marker": {
             "colorbar": {
              "outlinewidth": 0,
              "ticks": ""
             }
            },
            "type": "scattermapbox"
           }
          ],
          "scatterpolar": [
           {
            "marker": {
             "colorbar": {
              "outlinewidth": 0,
              "ticks": ""
             }
            },
            "type": "scatterpolar"
           }
          ],
          "scatterpolargl": [
           {
            "marker": {
             "colorbar": {
              "outlinewidth": 0,
              "ticks": ""
             }
            },
            "type": "scatterpolargl"
           }
          ],
          "scatterternary": [
           {
            "marker": {
             "colorbar": {
              "outlinewidth": 0,
              "ticks": ""
             }
            },
            "type": "scatterternary"
           }
          ],
          "surface": [
           {
            "colorbar": {
             "outlinewidth": 0,
             "ticks": ""
            },
            "colorscale": [
             [
              0,
              "#0d0887"
             ],
             [
              0.1111111111111111,
              "#46039f"
             ],
             [
              0.2222222222222222,
              "#7201a8"
             ],
             [
              0.3333333333333333,
              "#9c179e"
             ],
             [
              0.4444444444444444,
              "#bd3786"
             ],
             [
              0.5555555555555556,
              "#d8576b"
             ],
             [
              0.6666666666666666,
              "#ed7953"
             ],
             [
              0.7777777777777778,
              "#fb9f3a"
             ],
             [
              0.8888888888888888,
              "#fdca26"
             ],
             [
              1,
              "#f0f921"
             ]
            ],
            "type": "surface"
           }
          ],
          "table": [
           {
            "cells": {
             "fill": {
              "color": "#506784"
             },
             "line": {
              "color": "rgb(17,17,17)"
             }
            },
            "header": {
             "fill": {
              "color": "#2a3f5f"
             },
             "line": {
              "color": "rgb(17,17,17)"
             }
            },
            "type": "table"
           }
          ]
         },
         "layout": {
          "annotationdefaults": {
           "arrowcolor": "#f2f5fa",
           "arrowhead": 0,
           "arrowwidth": 1
          },
          "autotypenumbers": "strict",
          "coloraxis": {
           "colorbar": {
            "outlinewidth": 0,
            "ticks": ""
           }
          },
          "colorscale": {
           "diverging": [
            [
             0,
             "#8e0152"
            ],
            [
             0.1,
             "#c51b7d"
            ],
            [
             0.2,
             "#de77ae"
            ],
            [
             0.3,
             "#f1b6da"
            ],
            [
             0.4,
             "#fde0ef"
            ],
            [
             0.5,
             "#f7f7f7"
            ],
            [
             0.6,
             "#e6f5d0"
            ],
            [
             0.7,
             "#b8e186"
            ],
            [
             0.8,
             "#7fbc41"
            ],
            [
             0.9,
             "#4d9221"
            ],
            [
             1,
             "#276419"
            ]
           ],
           "sequential": [
            [
             0,
             "#0d0887"
            ],
            [
             0.1111111111111111,
             "#46039f"
            ],
            [
             0.2222222222222222,
             "#7201a8"
            ],
            [
             0.3333333333333333,
             "#9c179e"
            ],
            [
             0.4444444444444444,
             "#bd3786"
            ],
            [
             0.5555555555555556,
             "#d8576b"
            ],
            [
             0.6666666666666666,
             "#ed7953"
            ],
            [
             0.7777777777777778,
             "#fb9f3a"
            ],
            [
             0.8888888888888888,
             "#fdca26"
            ],
            [
             1,
             "#f0f921"
            ]
           ],
           "sequentialminus": [
            [
             0,
             "#0d0887"
            ],
            [
             0.1111111111111111,
             "#46039f"
            ],
            [
             0.2222222222222222,
             "#7201a8"
            ],
            [
             0.3333333333333333,
             "#9c179e"
            ],
            [
             0.4444444444444444,
             "#bd3786"
            ],
            [
             0.5555555555555556,
             "#d8576b"
            ],
            [
             0.6666666666666666,
             "#ed7953"
            ],
            [
             0.7777777777777778,
             "#fb9f3a"
            ],
            [
             0.8888888888888888,
             "#fdca26"
            ],
            [
             1,
             "#f0f921"
            ]
           ]
          },
          "colorway": [
           "#636efa",
           "#EF553B",
           "#00cc96",
           "#ab63fa",
           "#FFA15A",
           "#19d3f3",
           "#FF6692",
           "#B6E880",
           "#FF97FF",
           "#FECB52"
          ],
          "font": {
           "color": "#f2f5fa"
          },
          "geo": {
           "bgcolor": "rgb(17,17,17)",
           "lakecolor": "rgb(17,17,17)",
           "landcolor": "rgb(17,17,17)",
           "showlakes": true,
           "showland": true,
           "subunitcolor": "#506784"
          },
          "hoverlabel": {
           "align": "left"
          },
          "hovermode": "closest",
          "mapbox": {
           "style": "dark"
          },
          "paper_bgcolor": "rgb(17,17,17)",
          "plot_bgcolor": "rgb(17,17,17)",
          "polar": {
           "angularaxis": {
            "gridcolor": "#506784",
            "linecolor": "#506784",
            "ticks": ""
           },
           "bgcolor": "rgb(17,17,17)",
           "radialaxis": {
            "gridcolor": "#506784",
            "linecolor": "#506784",
            "ticks": ""
           }
          },
          "scene": {
           "xaxis": {
            "backgroundcolor": "rgb(17,17,17)",
            "gridcolor": "#506784",
            "gridwidth": 2,
            "linecolor": "#506784",
            "showbackground": true,
            "ticks": "",
            "zerolinecolor": "#C8D4E3"
           },
           "yaxis": {
            "backgroundcolor": "rgb(17,17,17)",
            "gridcolor": "#506784",
            "gridwidth": 2,
            "linecolor": "#506784",
            "showbackground": true,
            "ticks": "",
            "zerolinecolor": "#C8D4E3"
           },
           "zaxis": {
            "backgroundcolor": "rgb(17,17,17)",
            "gridcolor": "#506784",
            "gridwidth": 2,
            "linecolor": "#506784",
            "showbackground": true,
            "ticks": "",
            "zerolinecolor": "#C8D4E3"
           }
          },
          "shapedefaults": {
           "line": {
            "color": "#f2f5fa"
           }
          },
          "sliderdefaults": {
           "bgcolor": "#C8D4E3",
           "bordercolor": "rgb(17,17,17)",
           "borderwidth": 1,
           "tickwidth": 0
          },
          "ternary": {
           "aaxis": {
            "gridcolor": "#506784",
            "linecolor": "#506784",
            "ticks": ""
           },
           "baxis": {
            "gridcolor": "#506784",
            "linecolor": "#506784",
            "ticks": ""
           },
           "bgcolor": "rgb(17,17,17)",
           "caxis": {
            "gridcolor": "#506784",
            "linecolor": "#506784",
            "ticks": ""
           }
          },
          "title": {
           "x": 0.05
          },
          "updatemenudefaults": {
           "bgcolor": "#506784",
           "borderwidth": 0
          },
          "xaxis": {
           "automargin": true,
           "gridcolor": "#283442",
           "linecolor": "#506784",
           "ticks": "",
           "title": {
            "standoff": 15
           },
           "zerolinecolor": "#283442",
           "zerolinewidth": 2
          },
          "yaxis": {
           "automargin": true,
           "gridcolor": "#283442",
           "linecolor": "#506784",
           "ticks": "",
           "title": {
            "standoff": 15
           },
           "zerolinecolor": "#283442",
           "zerolinewidth": 2
          }
         }
        },
        "title": {
         "text": "Lap times per driver per lap"
        },
        "xaxis": {
         "anchor": "y",
         "domain": [
          0,
          1
         ],
         "title": {
          "text": "LapNumber"
         }
        },
        "yaxis": {
         "anchor": "x",
         "domain": [
          0,
          1
         ],
         "title": {
          "text": "LapTime(s)"
         }
        }
       }
      }
     },
     "metadata": {},
     "output_type": "display_data"
    }
   ],
   "source": [
    "# line plot of the lap times per driver per lap with color per driver\n",
    "px.line(driver_laps, x=\"LapNumber\", y=\"LapTime(s)\", color=\"Driver\", title=\"Lap times per driver per lap\", template=\"plotly_dark\", color_discrete_map=driver_colors)"
   ]
  },
  {
   "cell_type": "code",
   "execution_count": 36,
   "metadata": {},
   "outputs": [
    {
     "data": {
      "application/vnd.plotly.v1+json": {
       "config": {
        "plotlyServerURL": "https://plot.ly"
       },
       "data": [
        {
         "hovertemplate": "Driver=NOR<br>LapNumber=%{x}<br>Position=%{y}<extra></extra>",
         "legendgroup": "NOR",
         "line": {
          "color": "#ff8000",
          "dash": "solid"
         },
         "marker": {
          "symbol": "circle"
         },
         "mode": "lines",
         "name": "NOR",
         "showlegend": true,
         "type": "scattergl",
         "x": [
          2,
          3,
          4,
          5,
          6,
          7,
          8,
          9,
          10,
          11,
          12,
          13,
          14,
          15,
          16,
          17,
          18,
          19,
          20,
          21,
          22,
          23,
          24,
          25,
          26,
          27,
          30,
          31,
          32,
          35,
          36,
          37,
          38,
          39,
          40,
          41,
          42,
          43,
          44,
          45,
          46,
          47,
          48,
          49,
          50,
          51,
          52,
          53,
          54,
          55,
          56,
          57,
          58,
          59,
          60,
          61,
          62,
          63,
          64,
          65,
          66,
          67,
          68,
          69,
          70,
          71,
          72
         ],
         "xaxis": "x",
         "y": [
          2,
          2,
          2,
          2,
          2,
          2,
          2,
          2,
          2,
          2,
          2,
          2,
          2,
          2,
          2,
          2,
          1,
          1,
          1,
          1,
          1,
          1,
          1,
          1,
          1,
          1,
          2,
          2,
          2,
          1,
          1,
          1,
          1,
          1,
          1,
          1,
          1,
          1,
          1,
          1,
          1,
          1,
          1,
          1,
          1,
          1,
          1,
          1,
          1,
          1,
          1,
          1,
          1,
          1,
          1,
          1,
          1,
          1,
          1,
          1,
          1,
          1,
          1,
          1,
          1,
          1,
          1
         ],
         "yaxis": "y"
        },
        {
         "hovertemplate": "Driver=VER<br>LapNumber=%{x}<br>Position=%{y}<extra></extra>",
         "legendgroup": "VER",
         "line": {
          "color": "#0600ef",
          "dash": "solid"
         },
         "marker": {
          "symbol": "circle"
         },
         "mode": "lines",
         "name": "VER",
         "showlegend": true,
         "type": "scattergl",
         "x": [
          2,
          3,
          4,
          5,
          6,
          7,
          8,
          9,
          10,
          11,
          12,
          13,
          14,
          15,
          16,
          17,
          18,
          19,
          20,
          21,
          22,
          23,
          24,
          25,
          26,
          29,
          30,
          31,
          32,
          35,
          36,
          37,
          38,
          39,
          40,
          41,
          42,
          43,
          44,
          45,
          46,
          47,
          48,
          49,
          50,
          51,
          52,
          53,
          54,
          55,
          56,
          57,
          58,
          59,
          60,
          61,
          62,
          63,
          64,
          65,
          66,
          67,
          68,
          69,
          70,
          71,
          72
         ],
         "xaxis": "x",
         "y": [
          1,
          1,
          1,
          1,
          1,
          1,
          1,
          1,
          1,
          1,
          1,
          1,
          1,
          1,
          1,
          1,
          2,
          2,
          2,
          2,
          2,
          2,
          2,
          2,
          2,
          5,
          4,
          3,
          3,
          2,
          2,
          2,
          2,
          2,
          2,
          2,
          2,
          2,
          2,
          2,
          2,
          2,
          2,
          2,
          2,
          2,
          2,
          2,
          2,
          2,
          2,
          2,
          2,
          2,
          2,
          2,
          2,
          2,
          2,
          2,
          2,
          2,
          2,
          2,
          2,
          2,
          2
         ],
         "yaxis": "y"
        },
        {
         "hovertemplate": "Driver=LEC<br>LapNumber=%{x}<br>Position=%{y}<extra></extra>",
         "legendgroup": "LEC",
         "line": {
          "color": "#e8002d",
          "dash": "solid"
         },
         "marker": {
          "symbol": "circle"
         },
         "mode": "lines",
         "name": "LEC",
         "showlegend": true,
         "type": "scattergl",
         "x": [
          2,
          3,
          4,
          5,
          6,
          7,
          8,
          9,
          10,
          11,
          12,
          13,
          14,
          15,
          16,
          17,
          18,
          19,
          20,
          21,
          22,
          23,
          26,
          27,
          28,
          29,
          30,
          31,
          32,
          35,
          36,
          37,
          38,
          39,
          40,
          41,
          42,
          43,
          44,
          45,
          46,
          47,
          48,
          49,
          50,
          51,
          52,
          53,
          54,
          55,
          56,
          57,
          58,
          59,
          60,
          61,
          62,
          63,
          64,
          65,
          66,
          67,
          68,
          69,
          70,
          71,
          72
         ],
         "xaxis": "x",
         "y": [
          5,
          5,
          5,
          5,
          5,
          5,
          5,
          5,
          5,
          5,
          5,
          5,
          5,
          5,
          5,
          5,
          5,
          5,
          5,
          5,
          5,
          5,
          7,
          7,
          6,
          6,
          5,
          4,
          4,
          3,
          3,
          3,
          3,
          3,
          3,
          3,
          3,
          3,
          3,
          3,
          3,
          3,
          3,
          3,
          3,
          3,
          3,
          3,
          3,
          3,
          3,
          3,
          3,
          3,
          3,
          3,
          3,
          3,
          3,
          3,
          3,
          3,
          3,
          3,
          3,
          3,
          3
         ],
         "yaxis": "y"
        },
        {
         "hovertemplate": "Driver=PIA<br>LapNumber=%{x}<br>Position=%{y}<extra></extra>",
         "legendgroup": "PIA",
         "line": {
          "color": "#ff8000",
          "dash": "solid"
         },
         "marker": {
          "symbol": "circle"
         },
         "mode": "lines",
         "name": "PIA",
         "showlegend": true,
         "type": "scattergl",
         "x": [
          2,
          3,
          4,
          5,
          6,
          7,
          8,
          9,
          10,
          11,
          12,
          13,
          14,
          15,
          16,
          17,
          18,
          19,
          20,
          21,
          22,
          23,
          24,
          25,
          26,
          27,
          28,
          29,
          30,
          31,
          32,
          35,
          36,
          37,
          38,
          39,
          40,
          41,
          42,
          43,
          44,
          45,
          46,
          47,
          48,
          49,
          50,
          51,
          52,
          53,
          54,
          55,
          56,
          57,
          58,
          59,
          60,
          61,
          62,
          63,
          64,
          65,
          66,
          67,
          68,
          69,
          70,
          71,
          72
         ],
         "xaxis": "x",
         "y": [
          4,
          4,
          4,
          4,
          4,
          4,
          4,
          4,
          4,
          4,
          4,
          4,
          4,
          4,
          4,
          4,
          4,
          4,
          4,
          4,
          4,
          4,
          4,
          3,
          3,
          3,
          2,
          1,
          1,
          1,
          1,
          5,
          5,
          5,
          5,
          5,
          4,
          4,
          4,
          4,
          4,
          4,
          4,
          4,
          4,
          4,
          4,
          4,
          4,
          4,
          4,
          4,
          4,
          4,
          4,
          4,
          4,
          4,
          4,
          4,
          4,
          4,
          4,
          4,
          4,
          4,
          4,
          4,
          4
         ],
         "yaxis": "y"
        },
        {
         "hovertemplate": "Driver=SAI<br>LapNumber=%{x}<br>Position=%{y}<extra></extra>",
         "legendgroup": "SAI",
         "line": {
          "color": "#e8002d",
          "dash": "solid"
         },
         "marker": {
          "symbol": "circle"
         },
         "mode": "lines",
         "name": "SAI",
         "showlegend": true,
         "type": "scattergl",
         "x": [
          2,
          3,
          4,
          5,
          6,
          7,
          8,
          9,
          10,
          11,
          12,
          13,
          14,
          15,
          16,
          17,
          18,
          19,
          20,
          21,
          22,
          23,
          24,
          25,
          26,
          27,
          28,
          29,
          32,
          35,
          36,
          37,
          38,
          39,
          40,
          41,
          42,
          43,
          44,
          45,
          46,
          47,
          48,
          49,
          50,
          51,
          52,
          53,
          54,
          55,
          56,
          57,
          58,
          59,
          60,
          61,
          62,
          63,
          64,
          65,
          66,
          67,
          68,
          69,
          70,
          71,
          72
         ],
         "xaxis": "x",
         "y": [
          9,
          9,
          9,
          9,
          9,
          9,
          8,
          8,
          8,
          7,
          7,
          7,
          7,
          7,
          7,
          7,
          7,
          7,
          7,
          7,
          7,
          7,
          7,
          6,
          5,
          5,
          4,
          2,
          8,
          7,
          7,
          7,
          7,
          7,
          7,
          7,
          7,
          7,
          7,
          7,
          7,
          6,
          6,
          6,
          6,
          6,
          6,
          6,
          5,
          5,
          5,
          5,
          5,
          5,
          5,
          5,
          5,
          5,
          5,
          5,
          5,
          5,
          5,
          5,
          5,
          5,
          5
         ],
         "yaxis": "y"
        },
        {
         "hovertemplate": "Driver=PER<br>LapNumber=%{x}<br>Position=%{y}<extra></extra>",
         "legendgroup": "PER",
         "line": {
          "color": "#0600ef",
          "dash": "solid"
         },
         "marker": {
          "symbol": "circle"
         },
         "mode": "lines",
         "name": "PER",
         "showlegend": true,
         "type": "scattergl",
         "x": [
          2,
          3,
          4,
          5,
          6,
          7,
          8,
          9,
          10,
          11,
          12,
          13,
          14,
          15,
          16,
          17,
          18,
          19,
          20,
          21,
          22,
          23,
          24,
          25,
          26,
          27,
          28,
          31,
          32,
          35,
          36,
          37,
          38,
          39,
          40,
          41,
          42,
          43,
          44,
          45,
          46,
          47,
          48,
          49,
          50,
          51,
          52,
          53,
          54,
          55,
          56,
          57,
          58,
          59,
          60,
          61,
          62,
          63,
          64,
          65,
          66,
          67,
          68,
          69,
          70,
          71,
          72
         ],
         "xaxis": "x",
         "y": [
          6,
          6,
          6,
          6,
          6,
          6,
          6,
          6,
          6,
          6,
          6,
          6,
          6,
          6,
          6,
          6,
          6,
          6,
          6,
          6,
          6,
          6,
          6,
          5,
          4,
          4,
          3,
          7,
          6,
          6,
          6,
          6,
          6,
          6,
          6,
          6,
          6,
          6,
          6,
          6,
          6,
          7,
          7,
          7,
          7,
          7,
          7,
          7,
          7,
          6,
          6,
          6,
          6,
          6,
          6,
          6,
          6,
          6,
          6,
          6,
          6,
          6,
          6,
          6,
          6,
          6,
          6
         ],
         "yaxis": "y"
        },
        {
         "hovertemplate": "Driver=RUS<br>LapNumber=%{x}<br>Position=%{y}<extra></extra>",
         "legendgroup": "RUS",
         "line": {
          "color": "#27f4d2",
          "dash": "solid"
         },
         "marker": {
          "symbol": "circle"
         },
         "mode": "lines",
         "name": "RUS",
         "showlegend": true,
         "type": "scattergl",
         "x": [
          2,
          3,
          4,
          5,
          6,
          7,
          8,
          9,
          10,
          11,
          12,
          13,
          14,
          15,
          16,
          17,
          18,
          19,
          20,
          21,
          22,
          23,
          24,
          27,
          28,
          29,
          30,
          31,
          32,
          35,
          36,
          37,
          38,
          39,
          40,
          41,
          42,
          43,
          44,
          45,
          46,
          47,
          48,
          49,
          50,
          51,
          52,
          53,
          56,
          57,
          58,
          59,
          60,
          61,
          62,
          63,
          64,
          65,
          66,
          67,
          68,
          69,
          70,
          71,
          72
         ],
         "xaxis": "x",
         "y": [
          3,
          3,
          3,
          3,
          3,
          3,
          3,
          3,
          3,
          3,
          3,
          3,
          3,
          3,
          3,
          3,
          3,
          3,
          3,
          3,
          3,
          3,
          3,
          8,
          8,
          7,
          6,
          5,
          5,
          4,
          4,
          4,
          4,
          4,
          5,
          5,
          5,
          5,
          5,
          5,
          5,
          5,
          5,
          5,
          5,
          5,
          5,
          5,
          7,
          7,
          7,
          7,
          7,
          7,
          7,
          7,
          7,
          7,
          7,
          7,
          7,
          7,
          7,
          7,
          7
         ],
         "yaxis": "y"
        },
        {
         "hovertemplate": "Driver=HAM<br>LapNumber=%{x}<br>Position=%{y}<extra></extra>",
         "legendgroup": "HAM",
         "line": {
          "color": "#27f4d2",
          "dash": "solid"
         },
         "marker": {
          "symbol": "circle"
         },
         "mode": "lines",
         "name": "HAM",
         "showlegend": true,
         "type": "scattergl",
         "x": [
          2,
          3,
          4,
          5,
          6,
          7,
          8,
          9,
          10,
          11,
          12,
          13,
          14,
          15,
          16,
          17,
          18,
          19,
          20,
          21,
          22,
          25,
          26,
          27,
          28,
          29,
          30,
          31,
          32,
          35,
          36,
          37,
          38,
          39,
          40,
          41,
          42,
          43,
          44,
          45,
          46,
          47,
          50,
          51,
          52,
          53,
          54,
          55,
          56,
          57,
          58,
          59,
          60,
          61,
          62,
          63,
          64,
          65,
          66,
          67,
          68,
          69,
          70,
          71,
          72
         ],
         "xaxis": "x",
         "y": [
          12,
          12,
          12,
          12,
          12,
          12,
          12,
          12,
          11,
          11,
          11,
          11,
          10,
          10,
          9,
          9,
          9,
          9,
          9,
          9,
          9,
          15,
          15,
          14,
          14,
          12,
          10,
          10,
          9,
          8,
          8,
          8,
          8,
          8,
          8,
          8,
          8,
          8,
          8,
          8,
          8,
          8,
          8,
          8,
          8,
          8,
          8,
          8,
          8,
          8,
          8,
          8,
          8,
          8,
          8,
          8,
          8,
          8,
          8,
          8,
          8,
          8,
          8,
          8,
          8
         ],
         "yaxis": "y"
        },
        {
         "hovertemplate": "Driver=GAS<br>LapNumber=%{x}<br>Position=%{y}<extra></extra>",
         "legendgroup": "GAS",
         "line": {
          "color": "#ff87bc",
          "dash": "solid"
         },
         "marker": {
          "symbol": "circle"
         },
         "mode": "lines",
         "name": "GAS",
         "showlegend": true,
         "type": "scattergl",
         "x": [
          2,
          3,
          4,
          5,
          6,
          7,
          8,
          9,
          10,
          11,
          12,
          13,
          14,
          15,
          16,
          17,
          18,
          19,
          20,
          21,
          22,
          23,
          24,
          25,
          26,
          27,
          28,
          29,
          30,
          31,
          35,
          36,
          37,
          38,
          39,
          40,
          41,
          42,
          43,
          44,
          45,
          46,
          47,
          48,
          49,
          50,
          51,
          52,
          53,
          54,
          55,
          56,
          57,
          58,
          59,
          60,
          61,
          62,
          63,
          64,
          65,
          66,
          67,
          68,
          69,
          70,
          71
         ],
         "xaxis": "x",
         "y": [
          7,
          7,
          7,
          7,
          7,
          7,
          7,
          7,
          7,
          8,
          8,
          8,
          8,
          8,
          8,
          8,
          8,
          8,
          8,
          8,
          8,
          8,
          8,
          7,
          6,
          6,
          7,
          8,
          7,
          6,
          12,
          12,
          12,
          12,
          11,
          10,
          10,
          10,
          10,
          10,
          10,
          10,
          10,
          10,
          10,
          10,
          10,
          10,
          10,
          10,
          10,
          10,
          10,
          10,
          10,
          9,
          9,
          9,
          9,
          9,
          9,
          9,
          9,
          9,
          9,
          9,
          9
         ],
         "yaxis": "y"
        },
        {
         "hovertemplate": "Driver=ALO<br>LapNumber=%{x}<br>Position=%{y}<extra></extra>",
         "legendgroup": "ALO",
         "line": {
          "color": "#00665f",
          "dash": "solid"
         },
         "marker": {
          "symbol": "circle"
         },
         "mode": "lines",
         "name": "ALO",
         "showlegend": true,
         "type": "scattergl",
         "x": [
          2,
          3,
          4,
          5,
          6,
          7,
          8,
          9,
          10,
          11,
          12,
          13,
          14,
          15,
          16,
          17,
          18,
          19,
          20,
          21,
          22,
          23,
          24,
          25,
          26,
          27,
          28,
          29,
          30,
          35,
          36,
          37,
          38,
          39,
          40,
          41,
          42,
          43,
          44,
          45,
          46,
          47,
          48,
          49,
          50,
          51,
          52,
          53,
          54,
          55,
          56,
          57,
          58,
          59,
          60,
          61,
          62,
          63,
          64,
          65,
          66,
          67,
          68,
          69,
          70,
          71
         ],
         "xaxis": "x",
         "y": [
          8,
          8,
          8,
          8,
          8,
          8,
          9,
          9,
          9,
          9,
          9,
          9,
          9,
          9,
          10,
          10,
          10,
          10,
          10,
          10,
          10,
          10,
          9,
          9,
          9,
          9,
          9,
          9,
          8,
          13,
          13,
          13,
          13,
          12,
          12,
          11,
          11,
          11,
          11,
          11,
          11,
          11,
          11,
          11,
          11,
          11,
          11,
          11,
          11,
          11,
          11,
          11,
          11,
          11,
          11,
          11,
          11,
          10,
          10,
          10,
          10,
          10,
          10,
          10,
          10,
          10
         ],
         "yaxis": "y"
        },
        {
         "hovertemplate": "Driver=HUL<br>LapNumber=%{x}<br>Position=%{y}<extra></extra>",
         "legendgroup": "HUL",
         "line": {
          "color": "#b6babd",
          "dash": "solid"
         },
         "marker": {
          "symbol": "circle"
         },
         "mode": "lines",
         "name": "HUL",
         "showlegend": true,
         "type": "scattergl",
         "x": [
          2,
          3,
          4,
          5,
          6,
          7,
          8,
          9,
          10,
          11,
          12,
          13,
          16,
          17,
          18,
          19,
          20,
          21,
          22,
          23,
          24,
          25,
          26,
          27,
          28,
          29,
          30,
          31,
          32,
          35,
          36,
          37,
          38,
          39,
          40,
          41,
          42,
          43,
          44,
          45,
          46,
          47,
          48,
          49,
          50,
          51,
          52,
          53,
          54,
          55,
          56,
          57,
          58,
          59,
          60,
          61,
          62,
          63,
          64,
          65,
          66,
          67,
          68,
          69,
          70,
          71
         ],
         "xaxis": "x",
         "y": [
          11,
          11,
          11,
          11,
          11,
          11,
          11,
          11,
          12,
          12,
          12,
          12,
          17,
          17,
          16,
          16,
          16,
          16,
          15,
          15,
          14,
          13,
          13,
          13,
          13,
          13,
          13,
          12,
          10,
          9,
          9,
          9,
          9,
          9,
          9,
          9,
          9,
          9,
          9,
          9,
          9,
          9,
          9,
          9,
          9,
          9,
          9,
          9,
          9,
          9,
          9,
          9,
          9,
          9,
          10,
          10,
          10,
          11,
          11,
          11,
          11,
          11,
          11,
          11,
          11,
          11
         ],
         "yaxis": "y"
        },
        {
         "hovertemplate": "Driver=RIC<br>LapNumber=%{x}<br>Position=%{y}<extra></extra>",
         "legendgroup": "RIC",
         "line": {
          "color": "#364aa9",
          "dash": "solid"
         },
         "marker": {
          "symbol": "circle"
         },
         "mode": "lines",
         "name": "RIC",
         "showlegend": true,
         "type": "scattergl",
         "x": [
          2,
          3,
          4,
          5,
          6,
          7,
          8,
          9,
          10,
          11,
          12,
          13,
          14,
          15,
          16,
          17,
          18,
          19,
          20,
          21,
          22,
          23,
          24,
          25,
          26,
          27,
          28,
          31,
          32,
          35,
          36,
          37,
          38,
          39,
          40,
          41,
          42,
          43,
          44,
          45,
          46,
          47,
          48,
          49,
          50,
          51,
          52,
          53,
          54,
          55,
          56,
          57,
          58,
          59,
          60,
          61,
          62,
          63,
          64,
          65,
          66,
          67,
          68,
          69,
          70,
          71
         ],
         "xaxis": "x",
         "y": [
          15,
          15,
          15,
          15,
          15,
          15,
          15,
          15,
          15,
          15,
          15,
          15,
          15,
          12,
          12,
          12,
          12,
          12,
          12,
          12,
          12,
          12,
          11,
          11,
          11,
          11,
          11,
          17,
          17,
          16,
          15,
          15,
          15,
          15,
          14,
          14,
          14,
          14,
          14,
          14,
          13,
          13,
          13,
          13,
          13,
          13,
          13,
          13,
          13,
          13,
          13,
          13,
          13,
          13,
          13,
          13,
          13,
          13,
          13,
          13,
          13,
          13,
          13,
          13,
          13,
          13
         ],
         "yaxis": "y"
        },
        {
         "hovertemplate": "Driver=STR<br>LapNumber=%{x}<br>Position=%{y}<extra></extra>",
         "legendgroup": "STR",
         "line": {
          "color": "#00665f",
          "dash": "solid"
         },
         "marker": {
          "symbol": "circle"
         },
         "mode": "lines",
         "name": "STR",
         "showlegend": true,
         "type": "scattergl",
         "x": [
          2,
          3,
          4,
          5,
          6,
          7,
          8,
          9,
          10,
          11,
          12,
          13,
          14,
          15,
          16,
          17,
          18,
          19,
          20,
          21,
          22,
          23,
          24,
          25,
          26,
          27,
          28,
          29,
          32,
          35,
          36,
          37,
          38,
          39,
          40,
          41,
          42,
          43,
          44,
          45,
          46,
          47,
          48,
          49,
          50,
          51,
          52,
          53,
          54,
          55,
          56,
          57,
          58,
          59,
          60,
          61,
          62,
          63,
          64,
          65,
          66,
          67,
          68,
          69,
          70,
          71
         ],
         "xaxis": "x",
         "y": [
          10,
          10,
          10,
          10,
          10,
          10,
          10,
          10,
          10,
          10,
          10,
          10,
          11,
          11,
          11,
          11,
          11,
          11,
          11,
          11,
          11,
          11,
          10,
          10,
          10,
          10,
          10,
          10,
          16,
          14,
          14,
          14,
          14,
          14,
          13,
          13,
          13,
          12,
          12,
          12,
          12,
          12,
          12,
          12,
          12,
          12,
          12,
          12,
          12,
          12,
          12,
          12,
          12,
          12,
          12,
          12,
          12,
          12,
          12,
          12,
          12,
          12,
          12,
          12,
          12,
          12
         ],
         "yaxis": "y"
        },
        {
         "hovertemplate": "Driver=ALB<br>LapNumber=%{x}<br>Position=%{y}<extra></extra>",
         "legendgroup": "ALB",
         "line": {
          "color": "#00a0dd",
          "dash": "solid"
         },
         "marker": {
          "symbol": "circle"
         },
         "mode": "lines",
         "name": "ALB",
         "showlegend": true,
         "type": "scattergl",
         "x": [
          2,
          3,
          4,
          5,
          6,
          7,
          8,
          9,
          10,
          11,
          14,
          15,
          16,
          17,
          18,
          19,
          20,
          21,
          22,
          23,
          24,
          25,
          26,
          27,
          28,
          29,
          30,
          31,
          32,
          35,
          36,
          37,
          38,
          39,
          40,
          41,
          42,
          43,
          44,
          45,
          46,
          47,
          48,
          49,
          50,
          51,
          52,
          53,
          56,
          57,
          58,
          59,
          60,
          61,
          62,
          63,
          64,
          65,
          66,
          67,
          68,
          69,
          70,
          71
         ],
         "xaxis": "x",
         "y": [
          17,
          17,
          17,
          17,
          17,
          17,
          17,
          17,
          17,
          17,
          20,
          20,
          19,
          19,
          18,
          18,
          18,
          18,
          18,
          17,
          17,
          17,
          17,
          17,
          17,
          17,
          15,
          14,
          12,
          11,
          11,
          11,
          11,
          10,
          11,
          12,
          12,
          13,
          13,
          13,
          14,
          14,
          14,
          14,
          14,
          14,
          14,
          14,
          18,
          17,
          15,
          15,
          15,
          15,
          15,
          15,
          15,
          15,
          15,
          15,
          15,
          14,
          14,
          14
         ],
         "yaxis": "y"
        },
        {
         "hovertemplate": "Driver=OCO<br>LapNumber=%{x}<br>Position=%{y}<extra></extra>",
         "legendgroup": "OCO",
         "line": {
          "color": "#ff87bc",
          "dash": "solid"
         },
         "marker": {
          "symbol": "circle"
         },
         "mode": "lines",
         "name": "OCO",
         "showlegend": true,
         "type": "scattergl",
         "x": [
          2,
          3,
          4,
          5,
          6,
          7,
          8,
          9,
          10,
          11,
          12,
          13,
          14,
          15,
          16,
          17,
          18,
          19,
          20,
          21,
          22,
          23,
          24,
          25,
          26,
          27,
          28,
          29,
          32,
          35,
          36,
          37,
          38,
          39,
          40,
          41,
          42,
          43,
          44,
          45,
          46,
          47,
          48,
          49,
          50,
          51,
          52,
          53,
          54,
          55,
          56,
          57,
          58,
          59,
          60,
          61,
          62,
          63,
          64,
          65,
          66,
          67,
          68,
          69,
          70,
          71
         ],
         "xaxis": "x",
         "y": [
          16,
          16,
          16,
          16,
          16,
          16,
          16,
          16,
          16,
          16,
          16,
          16,
          16,
          13,
          13,
          13,
          13,
          13,
          13,
          13,
          14,
          14,
          13,
          14,
          14,
          15,
          15,
          15,
          19,
          18,
          18,
          18,
          18,
          18,
          18,
          16,
          16,
          15,
          15,
          15,
          15,
          15,
          15,
          15,
          15,
          15,
          15,
          15,
          15,
          14,
          14,
          14,
          14,
          14,
          14,
          14,
          14,
          14,
          14,
          14,
          14,
          14,
          14,
          15,
          15,
          15
         ],
         "yaxis": "y"
        },
        {
         "hovertemplate": "Driver=SAR<br>LapNumber=%{x}<br>Position=%{y}<extra></extra>",
         "legendgroup": "SAR",
         "line": {
          "color": "#00a0dd",
          "dash": "solid"
         },
         "marker": {
          "symbol": "circle"
         },
         "mode": "lines",
         "name": "SAR",
         "showlegend": true,
         "type": "scattergl",
         "x": [
          2,
          3,
          4,
          5,
          6,
          7,
          8,
          9,
          10,
          11,
          12,
          13,
          14,
          15,
          16,
          17,
          18,
          19,
          20,
          21,
          24,
          25,
          26,
          27,
          28,
          29,
          30,
          31,
          32,
          35,
          36,
          37,
          38,
          39,
          40,
          41,
          42,
          43,
          44,
          45,
          46,
          47,
          48,
          49,
          50,
          51,
          52,
          53,
          54,
          55,
          56,
          57,
          58,
          59,
          60,
          61,
          62,
          63,
          64,
          65,
          66,
          67,
          68,
          69,
          70,
          71
         ],
         "xaxis": "x",
         "y": [
          18,
          18,
          18,
          18,
          18,
          18,
          18,
          18,
          18,
          18,
          17,
          17,
          17,
          14,
          14,
          15,
          15,
          15,
          15,
          15,
          19,
          19,
          19,
          19,
          19,
          19,
          19,
          18,
          18,
          17,
          17,
          17,
          17,
          17,
          17,
          17,
          17,
          16,
          16,
          16,
          16,
          16,
          16,
          16,
          16,
          16,
          16,
          16,
          16,
          15,
          15,
          15,
          16,
          16,
          16,
          16,
          16,
          16,
          16,
          16,
          16,
          16,
          16,
          16,
          16,
          16
         ],
         "yaxis": "y"
        },
        {
         "hovertemplate": "Driver=TSU<br>LapNumber=%{x}<br>Position=%{y}<extra></extra>",
         "legendgroup": "TSU",
         "line": {
          "color": "#364aa9",
          "dash": "solid"
         },
         "marker": {
          "symbol": "circle"
         },
         "mode": "lines",
         "name": "TSU",
         "showlegend": true,
         "type": "scattergl",
         "x": [
          2,
          3,
          4,
          5,
          6,
          7,
          8,
          9,
          10,
          11,
          12,
          13,
          16,
          17,
          18,
          19,
          20,
          21,
          22,
          23,
          24,
          25,
          26,
          27,
          28,
          29,
          30,
          31,
          35,
          36,
          37,
          38,
          39,
          40,
          41,
          42,
          43,
          44,
          45,
          46,
          47,
          48,
          49,
          50,
          51,
          52,
          53,
          54,
          55,
          56,
          57,
          58,
          59,
          60,
          61,
          62,
          63,
          64,
          65,
          66,
          67,
          68,
          69,
          70,
          71
         ],
         "xaxis": "x",
         "y": [
          13,
          13,
          13,
          13,
          13,
          13,
          13,
          13,
          13,
          13,
          13,
          13,
          18,
          18,
          17,
          17,
          17,
          17,
          16,
          16,
          15,
          16,
          16,
          16,
          16,
          16,
          14,
          13,
          19,
          19,
          19,
          19,
          19,
          19,
          18,
          18,
          17,
          17,
          17,
          17,
          17,
          17,
          17,
          17,
          17,
          17,
          17,
          17,
          16,
          16,
          16,
          17,
          17,
          17,
          17,
          17,
          17,
          17,
          17,
          17,
          17,
          17,
          17,
          17,
          17
         ],
         "yaxis": "y"
        },
        {
         "hovertemplate": "Driver=MAG<br>LapNumber=%{x}<br>Position=%{y}<extra></extra>",
         "legendgroup": "MAG",
         "line": {
          "color": "#b6babd",
          "dash": "solid"
         },
         "marker": {
          "symbol": "circle"
         },
         "mode": "lines",
         "name": "MAG",
         "showlegend": true,
         "type": "scattergl",
         "x": [
          2,
          3,
          4,
          5,
          6,
          7,
          8,
          9,
          10,
          11,
          12,
          13,
          14,
          15,
          16,
          17,
          18,
          19,
          20,
          21,
          22,
          23,
          24,
          25,
          26,
          27,
          28,
          29,
          30,
          31,
          32,
          35,
          36,
          37,
          38,
          39,
          42,
          43,
          44,
          45,
          46,
          47,
          48,
          49,
          50,
          51,
          52,
          53,
          54,
          55,
          56,
          57,
          58,
          59,
          60,
          61,
          62,
          63,
          64,
          65,
          66,
          67,
          68,
          69,
          70,
          71
         ],
         "xaxis": "x",
         "y": [
          19,
          20,
          20,
          20,
          20,
          20,
          19,
          19,
          19,
          19,
          19,
          18,
          18,
          15,
          15,
          14,
          14,
          14,
          14,
          14,
          13,
          13,
          12,
          12,
          12,
          12,
          12,
          11,
          12,
          11,
          11,
          10,
          10,
          10,
          10,
          13,
          19,
          19,
          18,
          18,
          18,
          18,
          18,
          18,
          18,
          18,
          18,
          18,
          18,
          17,
          17,
          18,
          18,
          18,
          18,
          18,
          18,
          18,
          18,
          18,
          18,
          18,
          18,
          18,
          18,
          18
         ],
         "yaxis": "y"
        },
        {
         "hovertemplate": "Driver=BOT<br>LapNumber=%{x}<br>Position=%{y}<extra></extra>",
         "legendgroup": "BOT",
         "line": {
          "color": "#00e700",
          "dash": "solid"
         },
         "marker": {
          "symbol": "circle"
         },
         "mode": "lines",
         "name": "BOT",
         "showlegend": true,
         "type": "scattergl",
         "x": [
          2,
          3,
          4,
          5,
          6,
          7,
          8,
          9,
          10,
          11,
          12,
          13,
          14,
          17,
          18,
          19,
          20,
          21,
          22,
          23,
          24,
          25,
          26,
          27,
          28,
          29,
          30,
          31,
          32,
          35,
          36,
          37,
          38,
          39,
          40,
          41,
          42,
          45,
          46,
          47,
          48,
          49,
          50,
          51,
          52,
          53,
          54,
          55,
          56,
          57,
          58,
          59,
          60,
          61,
          62,
          63,
          64,
          65,
          66,
          67,
          68,
          69,
          70
         ],
         "xaxis": "x",
         "y": [
          14,
          14,
          14,
          14,
          14,
          14,
          14,
          14,
          14,
          14,
          14,
          14,
          14,
          20,
          20,
          19,
          19,
          19,
          19,
          18,
          18,
          18,
          18,
          18,
          18,
          18,
          17,
          15,
          15,
          15,
          16,
          16,
          16,
          16,
          16,
          15,
          15,
          19,
          19,
          19,
          19,
          19,
          19,
          19,
          19,
          19,
          19,
          19,
          19,
          19,
          19,
          19,
          19,
          19,
          19,
          19,
          19,
          19,
          19,
          19,
          19,
          19,
          19
         ],
         "yaxis": "y"
        },
        {
         "hovertemplate": "Driver=ZHO<br>LapNumber=%{x}<br>Position=%{y}<extra></extra>",
         "legendgroup": "ZHO",
         "line": {
          "color": "#00e700",
          "dash": "solid"
         },
         "marker": {
          "symbol": "circle"
         },
         "mode": "lines",
         "name": "ZHO",
         "showlegend": true,
         "type": "scattergl",
         "x": [
          2,
          3,
          4,
          5,
          6,
          7,
          8,
          9,
          10,
          11,
          12,
          13,
          14,
          15,
          16,
          17,
          20,
          21,
          22,
          23,
          24,
          25,
          26,
          27,
          28,
          29,
          30,
          31,
          32,
          35,
          36,
          37,
          38,
          39,
          40,
          41,
          42,
          43,
          44,
          45,
          46,
          47,
          48,
          49,
          50,
          53,
          54,
          55,
          56,
          57,
          58,
          59,
          60,
          61,
          62,
          63,
          64,
          65,
          66,
          67,
          68,
          69,
          70
         ],
         "xaxis": "x",
         "y": [
          20,
          19,
          19,
          19,
          19,
          19,
          20,
          20,
          20,
          20,
          20,
          19,
          19,
          17,
          16,
          16,
          20,
          20,
          20,
          20,
          20,
          20,
          20,
          20,
          20,
          20,
          20,
          20,
          20,
          20,
          20,
          20,
          20,
          20,
          20,
          20,
          20,
          20,
          20,
          20,
          20,
          20,
          20,
          20,
          20,
          20,
          20,
          20,
          20,
          20,
          20,
          20,
          20,
          20,
          20,
          20,
          20,
          20,
          20,
          20,
          20,
          20,
          20
         ],
         "yaxis": "y"
        }
       ],
       "layout": {
        "legend": {
         "title": {
          "text": "Driver"
         },
         "tracegroupgap": 0
        },
        "template": {
         "data": {
          "bar": [
           {
            "error_x": {
             "color": "#f2f5fa"
            },
            "error_y": {
             "color": "#f2f5fa"
            },
            "marker": {
             "line": {
              "color": "rgb(17,17,17)",
              "width": 0.5
             },
             "pattern": {
              "fillmode": "overlay",
              "size": 10,
              "solidity": 0.2
             }
            },
            "type": "bar"
           }
          ],
          "barpolar": [
           {
            "marker": {
             "line": {
              "color": "rgb(17,17,17)",
              "width": 0.5
             },
             "pattern": {
              "fillmode": "overlay",
              "size": 10,
              "solidity": 0.2
             }
            },
            "type": "barpolar"
           }
          ],
          "carpet": [
           {
            "aaxis": {
             "endlinecolor": "#A2B1C6",
             "gridcolor": "#506784",
             "linecolor": "#506784",
             "minorgridcolor": "#506784",
             "startlinecolor": "#A2B1C6"
            },
            "baxis": {
             "endlinecolor": "#A2B1C6",
             "gridcolor": "#506784",
             "linecolor": "#506784",
             "minorgridcolor": "#506784",
             "startlinecolor": "#A2B1C6"
            },
            "type": "carpet"
           }
          ],
          "choropleth": [
           {
            "colorbar": {
             "outlinewidth": 0,
             "ticks": ""
            },
            "type": "choropleth"
           }
          ],
          "contour": [
           {
            "colorbar": {
             "outlinewidth": 0,
             "ticks": ""
            },
            "colorscale": [
             [
              0,
              "#0d0887"
             ],
             [
              0.1111111111111111,
              "#46039f"
             ],
             [
              0.2222222222222222,
              "#7201a8"
             ],
             [
              0.3333333333333333,
              "#9c179e"
             ],
             [
              0.4444444444444444,
              "#bd3786"
             ],
             [
              0.5555555555555556,
              "#d8576b"
             ],
             [
              0.6666666666666666,
              "#ed7953"
             ],
             [
              0.7777777777777778,
              "#fb9f3a"
             ],
             [
              0.8888888888888888,
              "#fdca26"
             ],
             [
              1,
              "#f0f921"
             ]
            ],
            "type": "contour"
           }
          ],
          "contourcarpet": [
           {
            "colorbar": {
             "outlinewidth": 0,
             "ticks": ""
            },
            "type": "contourcarpet"
           }
          ],
          "heatmap": [
           {
            "colorbar": {
             "outlinewidth": 0,
             "ticks": ""
            },
            "colorscale": [
             [
              0,
              "#0d0887"
             ],
             [
              0.1111111111111111,
              "#46039f"
             ],
             [
              0.2222222222222222,
              "#7201a8"
             ],
             [
              0.3333333333333333,
              "#9c179e"
             ],
             [
              0.4444444444444444,
              "#bd3786"
             ],
             [
              0.5555555555555556,
              "#d8576b"
             ],
             [
              0.6666666666666666,
              "#ed7953"
             ],
             [
              0.7777777777777778,
              "#fb9f3a"
             ],
             [
              0.8888888888888888,
              "#fdca26"
             ],
             [
              1,
              "#f0f921"
             ]
            ],
            "type": "heatmap"
           }
          ],
          "heatmapgl": [
           {
            "colorbar": {
             "outlinewidth": 0,
             "ticks": ""
            },
            "colorscale": [
             [
              0,
              "#0d0887"
             ],
             [
              0.1111111111111111,
              "#46039f"
             ],
             [
              0.2222222222222222,
              "#7201a8"
             ],
             [
              0.3333333333333333,
              "#9c179e"
             ],
             [
              0.4444444444444444,
              "#bd3786"
             ],
             [
              0.5555555555555556,
              "#d8576b"
             ],
             [
              0.6666666666666666,
              "#ed7953"
             ],
             [
              0.7777777777777778,
              "#fb9f3a"
             ],
             [
              0.8888888888888888,
              "#fdca26"
             ],
             [
              1,
              "#f0f921"
             ]
            ],
            "type": "heatmapgl"
           }
          ],
          "histogram": [
           {
            "marker": {
             "pattern": {
              "fillmode": "overlay",
              "size": 10,
              "solidity": 0.2
             }
            },
            "type": "histogram"
           }
          ],
          "histogram2d": [
           {
            "colorbar": {
             "outlinewidth": 0,
             "ticks": ""
            },
            "colorscale": [
             [
              0,
              "#0d0887"
             ],
             [
              0.1111111111111111,
              "#46039f"
             ],
             [
              0.2222222222222222,
              "#7201a8"
             ],
             [
              0.3333333333333333,
              "#9c179e"
             ],
             [
              0.4444444444444444,
              "#bd3786"
             ],
             [
              0.5555555555555556,
              "#d8576b"
             ],
             [
              0.6666666666666666,
              "#ed7953"
             ],
             [
              0.7777777777777778,
              "#fb9f3a"
             ],
             [
              0.8888888888888888,
              "#fdca26"
             ],
             [
              1,
              "#f0f921"
             ]
            ],
            "type": "histogram2d"
           }
          ],
          "histogram2dcontour": [
           {
            "colorbar": {
             "outlinewidth": 0,
             "ticks": ""
            },
            "colorscale": [
             [
              0,
              "#0d0887"
             ],
             [
              0.1111111111111111,
              "#46039f"
             ],
             [
              0.2222222222222222,
              "#7201a8"
             ],
             [
              0.3333333333333333,
              "#9c179e"
             ],
             [
              0.4444444444444444,
              "#bd3786"
             ],
             [
              0.5555555555555556,
              "#d8576b"
             ],
             [
              0.6666666666666666,
              "#ed7953"
             ],
             [
              0.7777777777777778,
              "#fb9f3a"
             ],
             [
              0.8888888888888888,
              "#fdca26"
             ],
             [
              1,
              "#f0f921"
             ]
            ],
            "type": "histogram2dcontour"
           }
          ],
          "mesh3d": [
           {
            "colorbar": {
             "outlinewidth": 0,
             "ticks": ""
            },
            "type": "mesh3d"
           }
          ],
          "parcoords": [
           {
            "line": {
             "colorbar": {
              "outlinewidth": 0,
              "ticks": ""
             }
            },
            "type": "parcoords"
           }
          ],
          "pie": [
           {
            "automargin": true,
            "type": "pie"
           }
          ],
          "scatter": [
           {
            "marker": {
             "line": {
              "color": "#283442"
             }
            },
            "type": "scatter"
           }
          ],
          "scatter3d": [
           {
            "line": {
             "colorbar": {
              "outlinewidth": 0,
              "ticks": ""
             }
            },
            "marker": {
             "colorbar": {
              "outlinewidth": 0,
              "ticks": ""
             }
            },
            "type": "scatter3d"
           }
          ],
          "scattercarpet": [
           {
            "marker": {
             "colorbar": {
              "outlinewidth": 0,
              "ticks": ""
             }
            },
            "type": "scattercarpet"
           }
          ],
          "scattergeo": [
           {
            "marker": {
             "colorbar": {
              "outlinewidth": 0,
              "ticks": ""
             }
            },
            "type": "scattergeo"
           }
          ],
          "scattergl": [
           {
            "marker": {
             "line": {
              "color": "#283442"
             }
            },
            "type": "scattergl"
           }
          ],
          "scattermapbox": [
           {
            "marker": {
             "colorbar": {
              "outlinewidth": 0,
              "ticks": ""
             }
            },
            "type": "scattermapbox"
           }
          ],
          "scatterpolar": [
           {
            "marker": {
             "colorbar": {
              "outlinewidth": 0,
              "ticks": ""
             }
            },
            "type": "scatterpolar"
           }
          ],
          "scatterpolargl": [
           {
            "marker": {
             "colorbar": {
              "outlinewidth": 0,
              "ticks": ""
             }
            },
            "type": "scatterpolargl"
           }
          ],
          "scatterternary": [
           {
            "marker": {
             "colorbar": {
              "outlinewidth": 0,
              "ticks": ""
             }
            },
            "type": "scatterternary"
           }
          ],
          "surface": [
           {
            "colorbar": {
             "outlinewidth": 0,
             "ticks": ""
            },
            "colorscale": [
             [
              0,
              "#0d0887"
             ],
             [
              0.1111111111111111,
              "#46039f"
             ],
             [
              0.2222222222222222,
              "#7201a8"
             ],
             [
              0.3333333333333333,
              "#9c179e"
             ],
             [
              0.4444444444444444,
              "#bd3786"
             ],
             [
              0.5555555555555556,
              "#d8576b"
             ],
             [
              0.6666666666666666,
              "#ed7953"
             ],
             [
              0.7777777777777778,
              "#fb9f3a"
             ],
             [
              0.8888888888888888,
              "#fdca26"
             ],
             [
              1,
              "#f0f921"
             ]
            ],
            "type": "surface"
           }
          ],
          "table": [
           {
            "cells": {
             "fill": {
              "color": "#506784"
             },
             "line": {
              "color": "rgb(17,17,17)"
             }
            },
            "header": {
             "fill": {
              "color": "#2a3f5f"
             },
             "line": {
              "color": "rgb(17,17,17)"
             }
            },
            "type": "table"
           }
          ]
         },
         "layout": {
          "annotationdefaults": {
           "arrowcolor": "#f2f5fa",
           "arrowhead": 0,
           "arrowwidth": 1
          },
          "autotypenumbers": "strict",
          "coloraxis": {
           "colorbar": {
            "outlinewidth": 0,
            "ticks": ""
           }
          },
          "colorscale": {
           "diverging": [
            [
             0,
             "#8e0152"
            ],
            [
             0.1,
             "#c51b7d"
            ],
            [
             0.2,
             "#de77ae"
            ],
            [
             0.3,
             "#f1b6da"
            ],
            [
             0.4,
             "#fde0ef"
            ],
            [
             0.5,
             "#f7f7f7"
            ],
            [
             0.6,
             "#e6f5d0"
            ],
            [
             0.7,
             "#b8e186"
            ],
            [
             0.8,
             "#7fbc41"
            ],
            [
             0.9,
             "#4d9221"
            ],
            [
             1,
             "#276419"
            ]
           ],
           "sequential": [
            [
             0,
             "#0d0887"
            ],
            [
             0.1111111111111111,
             "#46039f"
            ],
            [
             0.2222222222222222,
             "#7201a8"
            ],
            [
             0.3333333333333333,
             "#9c179e"
            ],
            [
             0.4444444444444444,
             "#bd3786"
            ],
            [
             0.5555555555555556,
             "#d8576b"
            ],
            [
             0.6666666666666666,
             "#ed7953"
            ],
            [
             0.7777777777777778,
             "#fb9f3a"
            ],
            [
             0.8888888888888888,
             "#fdca26"
            ],
            [
             1,
             "#f0f921"
            ]
           ],
           "sequentialminus": [
            [
             0,
             "#0d0887"
            ],
            [
             0.1111111111111111,
             "#46039f"
            ],
            [
             0.2222222222222222,
             "#7201a8"
            ],
            [
             0.3333333333333333,
             "#9c179e"
            ],
            [
             0.4444444444444444,
             "#bd3786"
            ],
            [
             0.5555555555555556,
             "#d8576b"
            ],
            [
             0.6666666666666666,
             "#ed7953"
            ],
            [
             0.7777777777777778,
             "#fb9f3a"
            ],
            [
             0.8888888888888888,
             "#fdca26"
            ],
            [
             1,
             "#f0f921"
            ]
           ]
          },
          "colorway": [
           "#636efa",
           "#EF553B",
           "#00cc96",
           "#ab63fa",
           "#FFA15A",
           "#19d3f3",
           "#FF6692",
           "#B6E880",
           "#FF97FF",
           "#FECB52"
          ],
          "font": {
           "color": "#f2f5fa"
          },
          "geo": {
           "bgcolor": "rgb(17,17,17)",
           "lakecolor": "rgb(17,17,17)",
           "landcolor": "rgb(17,17,17)",
           "showlakes": true,
           "showland": true,
           "subunitcolor": "#506784"
          },
          "hoverlabel": {
           "align": "left"
          },
          "hovermode": "closest",
          "mapbox": {
           "style": "dark"
          },
          "paper_bgcolor": "rgb(17,17,17)",
          "plot_bgcolor": "rgb(17,17,17)",
          "polar": {
           "angularaxis": {
            "gridcolor": "#506784",
            "linecolor": "#506784",
            "ticks": ""
           },
           "bgcolor": "rgb(17,17,17)",
           "radialaxis": {
            "gridcolor": "#506784",
            "linecolor": "#506784",
            "ticks": ""
           }
          },
          "scene": {
           "xaxis": {
            "backgroundcolor": "rgb(17,17,17)",
            "gridcolor": "#506784",
            "gridwidth": 2,
            "linecolor": "#506784",
            "showbackground": true,
            "ticks": "",
            "zerolinecolor": "#C8D4E3"
           },
           "yaxis": {
            "backgroundcolor": "rgb(17,17,17)",
            "gridcolor": "#506784",
            "gridwidth": 2,
            "linecolor": "#506784",
            "showbackground": true,
            "ticks": "",
            "zerolinecolor": "#C8D4E3"
           },
           "zaxis": {
            "backgroundcolor": "rgb(17,17,17)",
            "gridcolor": "#506784",
            "gridwidth": 2,
            "linecolor": "#506784",
            "showbackground": true,
            "ticks": "",
            "zerolinecolor": "#C8D4E3"
           }
          },
          "shapedefaults": {
           "line": {
            "color": "#f2f5fa"
           }
          },
          "sliderdefaults": {
           "bgcolor": "#C8D4E3",
           "bordercolor": "rgb(17,17,17)",
           "borderwidth": 1,
           "tickwidth": 0
          },
          "ternary": {
           "aaxis": {
            "gridcolor": "#506784",
            "linecolor": "#506784",
            "ticks": ""
           },
           "baxis": {
            "gridcolor": "#506784",
            "linecolor": "#506784",
            "ticks": ""
           },
           "bgcolor": "rgb(17,17,17)",
           "caxis": {
            "gridcolor": "#506784",
            "linecolor": "#506784",
            "ticks": ""
           }
          },
          "title": {
           "x": 0.05
          },
          "updatemenudefaults": {
           "bgcolor": "#506784",
           "borderwidth": 0
          },
          "xaxis": {
           "automargin": true,
           "gridcolor": "#283442",
           "linecolor": "#506784",
           "ticks": "",
           "title": {
            "standoff": 15
           },
           "zerolinecolor": "#283442",
           "zerolinewidth": 2
          },
          "yaxis": {
           "automargin": true,
           "gridcolor": "#283442",
           "linecolor": "#506784",
           "ticks": "",
           "title": {
            "standoff": 15
           },
           "zerolinecolor": "#283442",
           "zerolinewidth": 2
          }
         }
        },
        "title": {
         "text": "Position evolution per driver"
        },
        "xaxis": {
         "anchor": "y",
         "domain": [
          0,
          1
         ],
         "title": {
          "text": "LapNumber"
         }
        },
        "yaxis": {
         "anchor": "x",
         "autorange": "reversed",
         "domain": [
          0,
          1
         ],
         "title": {
          "text": "Position"
         }
        }
       }
      }
     },
     "metadata": {},
     "output_type": "display_data"
    }
   ],
   "source": [
    "# position evolution per driver per lap (reverse y-axis)\n",
    "fig = px.line(driver_laps, x=\"LapNumber\", y=\"Position\", color=\"Driver\", title=\"Position evolution per driver\", template=\"plotly_dark\", color_discrete_map=driver_colors)\n",
    "fig.update_yaxes(autorange=\"reversed\")\n",
    "fig"
   ]
  },
  {
   "cell_type": "code",
   "execution_count": 37,
   "metadata": {},
   "outputs": [
    {
     "data": {
      "application/vnd.plotly.v1+json": {
       "config": {
        "plotlyServerURL": "https://plot.ly"
       },
       "data": [
        {
         "alignmentgroup": "True",
         "hovertemplate": "Compound=MEDIUM<br>StintLength=%{x}<br>Driver=%{y}<extra></extra>",
         "legendgroup": "MEDIUM",
         "marker": {
          "color": "#ffd12e",
          "pattern": {
           "shape": ""
          }
         },
         "name": "MEDIUM",
         "offsetgroup": "MEDIUM",
         "orientation": "h",
         "showlegend": true,
         "textposition": "auto",
         "type": "bar",
         "x": [
          10,
          16,
          29,
          26,
          30,
          12,
          22,
          30,
          26,
          28,
          27,
          31,
          27,
          23,
          28,
          20,
          28,
          16,
          25,
          16
         ],
         "xaxis": "x",
         "y": [
          "ALB",
          "ALB",
          "ALO",
          "BOT",
          "GAS",
          "HUL",
          "LEC",
          "MAG",
          "NOR",
          "OCO",
          "PER",
          "PIA",
          "RIC",
          "RUS",
          "SAI",
          "SAR",
          "STR",
          "TSU",
          "VER",
          "ZHO"
         ],
         "yaxis": "y"
        },
        {
         "alignmentgroup": "True",
         "hovertemplate": "Compound=HARD<br>StintLength=%{x}<br>Driver=%{y}<extra></extra>",
         "legendgroup": "HARD",
         "marker": {
          "color": "#f0f0ec",
          "pattern": {
           "shape": ""
          }
         },
         "name": "HARD",
         "offsetgroup": "HARD",
         "orientation": "h",
         "showlegend": true,
         "textposition": "auto",
         "type": "bar",
         "x": [
          38,
          37,
          24,
          37,
          21,
          54,
          45,
          36,
          41,
          38,
          40,
          38,
          39,
          25,
          39,
          46,
          38,
          37,
          42,
          29
         ],
         "xaxis": "x",
         "y": [
          "ALB",
          "ALO",
          "BOT",
          "GAS",
          "HAM",
          "HUL",
          "LEC",
          "MAG",
          "NOR",
          "OCO",
          "PER",
          "PIA",
          "RIC",
          "RUS",
          "SAI",
          "SAR",
          "STR",
          "TSU",
          "VER",
          "ZHO"
         ],
         "yaxis": "y"
        },
        {
         "alignmentgroup": "True",
         "hovertemplate": "Compound=SOFT<br>StintLength=%{x}<br>Driver=%{y}<extra></extra>",
         "legendgroup": "SOFT",
         "marker": {
          "color": "#da291c",
          "pattern": {
           "shape": ""
          }
         },
         "name": "SOFT",
         "offsetgroup": "SOFT",
         "orientation": "h",
         "showlegend": true,
         "textposition": "auto",
         "type": "bar",
         "x": [
          13,
          21,
          23,
          17,
          12,
          18
         ],
         "xaxis": "x",
         "y": [
          "BOT",
          "HAM",
          "HAM",
          "RUS",
          "TSU",
          "ZHO"
         ],
         "yaxis": "y"
        }
       ],
       "layout": {
        "barmode": "relative",
        "legend": {
         "title": {
          "text": "Compound"
         },
         "tracegroupgap": 0
        },
        "template": {
         "data": {
          "bar": [
           {
            "error_x": {
             "color": "#f2f5fa"
            },
            "error_y": {
             "color": "#f2f5fa"
            },
            "marker": {
             "line": {
              "color": "rgb(17,17,17)",
              "width": 0.5
             },
             "pattern": {
              "fillmode": "overlay",
              "size": 10,
              "solidity": 0.2
             }
            },
            "type": "bar"
           }
          ],
          "barpolar": [
           {
            "marker": {
             "line": {
              "color": "rgb(17,17,17)",
              "width": 0.5
             },
             "pattern": {
              "fillmode": "overlay",
              "size": 10,
              "solidity": 0.2
             }
            },
            "type": "barpolar"
           }
          ],
          "carpet": [
           {
            "aaxis": {
             "endlinecolor": "#A2B1C6",
             "gridcolor": "#506784",
             "linecolor": "#506784",
             "minorgridcolor": "#506784",
             "startlinecolor": "#A2B1C6"
            },
            "baxis": {
             "endlinecolor": "#A2B1C6",
             "gridcolor": "#506784",
             "linecolor": "#506784",
             "minorgridcolor": "#506784",
             "startlinecolor": "#A2B1C6"
            },
            "type": "carpet"
           }
          ],
          "choropleth": [
           {
            "colorbar": {
             "outlinewidth": 0,
             "ticks": ""
            },
            "type": "choropleth"
           }
          ],
          "contour": [
           {
            "colorbar": {
             "outlinewidth": 0,
             "ticks": ""
            },
            "colorscale": [
             [
              0,
              "#0d0887"
             ],
             [
              0.1111111111111111,
              "#46039f"
             ],
             [
              0.2222222222222222,
              "#7201a8"
             ],
             [
              0.3333333333333333,
              "#9c179e"
             ],
             [
              0.4444444444444444,
              "#bd3786"
             ],
             [
              0.5555555555555556,
              "#d8576b"
             ],
             [
              0.6666666666666666,
              "#ed7953"
             ],
             [
              0.7777777777777778,
              "#fb9f3a"
             ],
             [
              0.8888888888888888,
              "#fdca26"
             ],
             [
              1,
              "#f0f921"
             ]
            ],
            "type": "contour"
           }
          ],
          "contourcarpet": [
           {
            "colorbar": {
             "outlinewidth": 0,
             "ticks": ""
            },
            "type": "contourcarpet"
           }
          ],
          "heatmap": [
           {
            "colorbar": {
             "outlinewidth": 0,
             "ticks": ""
            },
            "colorscale": [
             [
              0,
              "#0d0887"
             ],
             [
              0.1111111111111111,
              "#46039f"
             ],
             [
              0.2222222222222222,
              "#7201a8"
             ],
             [
              0.3333333333333333,
              "#9c179e"
             ],
             [
              0.4444444444444444,
              "#bd3786"
             ],
             [
              0.5555555555555556,
              "#d8576b"
             ],
             [
              0.6666666666666666,
              "#ed7953"
             ],
             [
              0.7777777777777778,
              "#fb9f3a"
             ],
             [
              0.8888888888888888,
              "#fdca26"
             ],
             [
              1,
              "#f0f921"
             ]
            ],
            "type": "heatmap"
           }
          ],
          "heatmapgl": [
           {
            "colorbar": {
             "outlinewidth": 0,
             "ticks": ""
            },
            "colorscale": [
             [
              0,
              "#0d0887"
             ],
             [
              0.1111111111111111,
              "#46039f"
             ],
             [
              0.2222222222222222,
              "#7201a8"
             ],
             [
              0.3333333333333333,
              "#9c179e"
             ],
             [
              0.4444444444444444,
              "#bd3786"
             ],
             [
              0.5555555555555556,
              "#d8576b"
             ],
             [
              0.6666666666666666,
              "#ed7953"
             ],
             [
              0.7777777777777778,
              "#fb9f3a"
             ],
             [
              0.8888888888888888,
              "#fdca26"
             ],
             [
              1,
              "#f0f921"
             ]
            ],
            "type": "heatmapgl"
           }
          ],
          "histogram": [
           {
            "marker": {
             "pattern": {
              "fillmode": "overlay",
              "size": 10,
              "solidity": 0.2
             }
            },
            "type": "histogram"
           }
          ],
          "histogram2d": [
           {
            "colorbar": {
             "outlinewidth": 0,
             "ticks": ""
            },
            "colorscale": [
             [
              0,
              "#0d0887"
             ],
             [
              0.1111111111111111,
              "#46039f"
             ],
             [
              0.2222222222222222,
              "#7201a8"
             ],
             [
              0.3333333333333333,
              "#9c179e"
             ],
             [
              0.4444444444444444,
              "#bd3786"
             ],
             [
              0.5555555555555556,
              "#d8576b"
             ],
             [
              0.6666666666666666,
              "#ed7953"
             ],
             [
              0.7777777777777778,
              "#fb9f3a"
             ],
             [
              0.8888888888888888,
              "#fdca26"
             ],
             [
              1,
              "#f0f921"
             ]
            ],
            "type": "histogram2d"
           }
          ],
          "histogram2dcontour": [
           {
            "colorbar": {
             "outlinewidth": 0,
             "ticks": ""
            },
            "colorscale": [
             [
              0,
              "#0d0887"
             ],
             [
              0.1111111111111111,
              "#46039f"
             ],
             [
              0.2222222222222222,
              "#7201a8"
             ],
             [
              0.3333333333333333,
              "#9c179e"
             ],
             [
              0.4444444444444444,
              "#bd3786"
             ],
             [
              0.5555555555555556,
              "#d8576b"
             ],
             [
              0.6666666666666666,
              "#ed7953"
             ],
             [
              0.7777777777777778,
              "#fb9f3a"
             ],
             [
              0.8888888888888888,
              "#fdca26"
             ],
             [
              1,
              "#f0f921"
             ]
            ],
            "type": "histogram2dcontour"
           }
          ],
          "mesh3d": [
           {
            "colorbar": {
             "outlinewidth": 0,
             "ticks": ""
            },
            "type": "mesh3d"
           }
          ],
          "parcoords": [
           {
            "line": {
             "colorbar": {
              "outlinewidth": 0,
              "ticks": ""
             }
            },
            "type": "parcoords"
           }
          ],
          "pie": [
           {
            "automargin": true,
            "type": "pie"
           }
          ],
          "scatter": [
           {
            "marker": {
             "line": {
              "color": "#283442"
             }
            },
            "type": "scatter"
           }
          ],
          "scatter3d": [
           {
            "line": {
             "colorbar": {
              "outlinewidth": 0,
              "ticks": ""
             }
            },
            "marker": {
             "colorbar": {
              "outlinewidth": 0,
              "ticks": ""
             }
            },
            "type": "scatter3d"
           }
          ],
          "scattercarpet": [
           {
            "marker": {
             "colorbar": {
              "outlinewidth": 0,
              "ticks": ""
             }
            },
            "type": "scattercarpet"
           }
          ],
          "scattergeo": [
           {
            "marker": {
             "colorbar": {
              "outlinewidth": 0,
              "ticks": ""
             }
            },
            "type": "scattergeo"
           }
          ],
          "scattergl": [
           {
            "marker": {
             "line": {
              "color": "#283442"
             }
            },
            "type": "scattergl"
           }
          ],
          "scattermapbox": [
           {
            "marker": {
             "colorbar": {
              "outlinewidth": 0,
              "ticks": ""
             }
            },
            "type": "scattermapbox"
           }
          ],
          "scatterpolar": [
           {
            "marker": {
             "colorbar": {
              "outlinewidth": 0,
              "ticks": ""
             }
            },
            "type": "scatterpolar"
           }
          ],
          "scatterpolargl": [
           {
            "marker": {
             "colorbar": {
              "outlinewidth": 0,
              "ticks": ""
             }
            },
            "type": "scatterpolargl"
           }
          ],
          "scatterternary": [
           {
            "marker": {
             "colorbar": {
              "outlinewidth": 0,
              "ticks": ""
             }
            },
            "type": "scatterternary"
           }
          ],
          "surface": [
           {
            "colorbar": {
             "outlinewidth": 0,
             "ticks": ""
            },
            "colorscale": [
             [
              0,
              "#0d0887"
             ],
             [
              0.1111111111111111,
              "#46039f"
             ],
             [
              0.2222222222222222,
              "#7201a8"
             ],
             [
              0.3333333333333333,
              "#9c179e"
             ],
             [
              0.4444444444444444,
              "#bd3786"
             ],
             [
              0.5555555555555556,
              "#d8576b"
             ],
             [
              0.6666666666666666,
              "#ed7953"
             ],
             [
              0.7777777777777778,
              "#fb9f3a"
             ],
             [
              0.8888888888888888,
              "#fdca26"
             ],
             [
              1,
              "#f0f921"
             ]
            ],
            "type": "surface"
           }
          ],
          "table": [
           {
            "cells": {
             "fill": {
              "color": "#506784"
             },
             "line": {
              "color": "rgb(17,17,17)"
             }
            },
            "header": {
             "fill": {
              "color": "#2a3f5f"
             },
             "line": {
              "color": "rgb(17,17,17)"
             }
            },
            "type": "table"
           }
          ]
         },
         "layout": {
          "annotationdefaults": {
           "arrowcolor": "#f2f5fa",
           "arrowhead": 0,
           "arrowwidth": 1
          },
          "autotypenumbers": "strict",
          "coloraxis": {
           "colorbar": {
            "outlinewidth": 0,
            "ticks": ""
           }
          },
          "colorscale": {
           "diverging": [
            [
             0,
             "#8e0152"
            ],
            [
             0.1,
             "#c51b7d"
            ],
            [
             0.2,
             "#de77ae"
            ],
            [
             0.3,
             "#f1b6da"
            ],
            [
             0.4,
             "#fde0ef"
            ],
            [
             0.5,
             "#f7f7f7"
            ],
            [
             0.6,
             "#e6f5d0"
            ],
            [
             0.7,
             "#b8e186"
            ],
            [
             0.8,
             "#7fbc41"
            ],
            [
             0.9,
             "#4d9221"
            ],
            [
             1,
             "#276419"
            ]
           ],
           "sequential": [
            [
             0,
             "#0d0887"
            ],
            [
             0.1111111111111111,
             "#46039f"
            ],
            [
             0.2222222222222222,
             "#7201a8"
            ],
            [
             0.3333333333333333,
             "#9c179e"
            ],
            [
             0.4444444444444444,
             "#bd3786"
            ],
            [
             0.5555555555555556,
             "#d8576b"
            ],
            [
             0.6666666666666666,
             "#ed7953"
            ],
            [
             0.7777777777777778,
             "#fb9f3a"
            ],
            [
             0.8888888888888888,
             "#fdca26"
            ],
            [
             1,
             "#f0f921"
            ]
           ],
           "sequentialminus": [
            [
             0,
             "#0d0887"
            ],
            [
             0.1111111111111111,
             "#46039f"
            ],
            [
             0.2222222222222222,
             "#7201a8"
            ],
            [
             0.3333333333333333,
             "#9c179e"
            ],
            [
             0.4444444444444444,
             "#bd3786"
            ],
            [
             0.5555555555555556,
             "#d8576b"
            ],
            [
             0.6666666666666666,
             "#ed7953"
            ],
            [
             0.7777777777777778,
             "#fb9f3a"
            ],
            [
             0.8888888888888888,
             "#fdca26"
            ],
            [
             1,
             "#f0f921"
            ]
           ]
          },
          "colorway": [
           "#636efa",
           "#EF553B",
           "#00cc96",
           "#ab63fa",
           "#FFA15A",
           "#19d3f3",
           "#FF6692",
           "#B6E880",
           "#FF97FF",
           "#FECB52"
          ],
          "font": {
           "color": "#f2f5fa"
          },
          "geo": {
           "bgcolor": "rgb(17,17,17)",
           "lakecolor": "rgb(17,17,17)",
           "landcolor": "rgb(17,17,17)",
           "showlakes": true,
           "showland": true,
           "subunitcolor": "#506784"
          },
          "hoverlabel": {
           "align": "left"
          },
          "hovermode": "closest",
          "mapbox": {
           "style": "dark"
          },
          "paper_bgcolor": "rgb(17,17,17)",
          "plot_bgcolor": "rgb(17,17,17)",
          "polar": {
           "angularaxis": {
            "gridcolor": "#506784",
            "linecolor": "#506784",
            "ticks": ""
           },
           "bgcolor": "rgb(17,17,17)",
           "radialaxis": {
            "gridcolor": "#506784",
            "linecolor": "#506784",
            "ticks": ""
           }
          },
          "scene": {
           "xaxis": {
            "backgroundcolor": "rgb(17,17,17)",
            "gridcolor": "#506784",
            "gridwidth": 2,
            "linecolor": "#506784",
            "showbackground": true,
            "ticks": "",
            "zerolinecolor": "#C8D4E3"
           },
           "yaxis": {
            "backgroundcolor": "rgb(17,17,17)",
            "gridcolor": "#506784",
            "gridwidth": 2,
            "linecolor": "#506784",
            "showbackground": true,
            "ticks": "",
            "zerolinecolor": "#C8D4E3"
           },
           "zaxis": {
            "backgroundcolor": "rgb(17,17,17)",
            "gridcolor": "#506784",
            "gridwidth": 2,
            "linecolor": "#506784",
            "showbackground": true,
            "ticks": "",
            "zerolinecolor": "#C8D4E3"
           }
          },
          "shapedefaults": {
           "line": {
            "color": "#f2f5fa"
           }
          },
          "sliderdefaults": {
           "bgcolor": "#C8D4E3",
           "bordercolor": "rgb(17,17,17)",
           "borderwidth": 1,
           "tickwidth": 0
          },
          "ternary": {
           "aaxis": {
            "gridcolor": "#506784",
            "linecolor": "#506784",
            "ticks": ""
           },
           "baxis": {
            "gridcolor": "#506784",
            "linecolor": "#506784",
            "ticks": ""
           },
           "bgcolor": "rgb(17,17,17)",
           "caxis": {
            "gridcolor": "#506784",
            "linecolor": "#506784",
            "ticks": ""
           }
          },
          "title": {
           "x": 0.05
          },
          "updatemenudefaults": {
           "bgcolor": "#506784",
           "borderwidth": 0
          },
          "xaxis": {
           "automargin": true,
           "gridcolor": "#283442",
           "linecolor": "#506784",
           "ticks": "",
           "title": {
            "standoff": 15
           },
           "zerolinecolor": "#283442",
           "zerolinewidth": 2
          },
          "yaxis": {
           "automargin": true,
           "gridcolor": "#283442",
           "linecolor": "#506784",
           "ticks": "",
           "title": {
            "standoff": 15
           },
           "zerolinecolor": "#283442",
           "zerolinewidth": 2
          }
         }
        },
        "title": {
         "text": "Stint length per driver"
        },
        "xaxis": {
         "anchor": "y",
         "domain": [
          0,
          1
         ],
         "title": {
          "text": "StintLength"
         }
        },
        "yaxis": {
         "anchor": "x",
         "domain": [
          0,
          1
         ],
         "tickmode": "linear",
         "title": {
          "text": "Driver"
         }
        }
       }
      }
     },
     "metadata": {},
     "output_type": "display_data"
    }
   ],
   "source": [
    "# type of tyre per driver per lap (horizontal bar plot)\n",
    "fig = px.bar(stints, x=\"StintLength\", y=\"Driver\", color=\"Compound\", title=\"Stint length per driver\", template=\"plotly_dark\", color_discrete_map=compound_colors, orientation=\"h\")\n",
    "fig.update_yaxes(tickmode=\"linear\")\n",
    "fig"
   ]
  },
  {
   "cell_type": "code",
   "execution_count": 9,
   "metadata": {},
   "outputs": [
    {
     "data": {
      "application/vnd.plotly.v1+json": {
       "config": {
        "plotlyServerURL": "https://plot.ly"
       },
       "data": [
        {
         "hovertemplate": "Compound=MEDIUM<br>LapNumber=%{x}<br>LapTime(s)=%{y}<extra></extra>",
         "legendgroup": "MEDIUM",
         "marker": {
          "color": "#ffd12e",
          "symbol": "circle"
         },
         "mode": "markers",
         "name": "MEDIUM",
         "showlegend": true,
         "type": "scattergl",
         "x": [
          2,
          3,
          4,
          5,
          6,
          7,
          8,
          9,
          10,
          11,
          12,
          13,
          14,
          15,
          16,
          17,
          18,
          19,
          20,
          21,
          22,
          23,
          24,
          25,
          26,
          27,
          2,
          3,
          4,
          5,
          6,
          7,
          8,
          9,
          10,
          11,
          12,
          13,
          14,
          15,
          16,
          17,
          18,
          19,
          20,
          21,
          22,
          23,
          24,
          25,
          26,
          2,
          3,
          4,
          5,
          6,
          7,
          8,
          9,
          10,
          11,
          12,
          13,
          14,
          15,
          16,
          17,
          18,
          19,
          20,
          21,
          22,
          23,
          2,
          3,
          4,
          5,
          6,
          7,
          8,
          9,
          10,
          11,
          12,
          13,
          14,
          15,
          16,
          17,
          18,
          19,
          20,
          21,
          22,
          23,
          24,
          25,
          26,
          27,
          28,
          29,
          30,
          31,
          32,
          2,
          3,
          4,
          5,
          6,
          7,
          8,
          9,
          10,
          11,
          12,
          13,
          14,
          15,
          16,
          17,
          18,
          19,
          20,
          21,
          22,
          23,
          24,
          25,
          26,
          27,
          28,
          29,
          2,
          3,
          4,
          5,
          6,
          7,
          8,
          9,
          10,
          11,
          12,
          13,
          14,
          15,
          16,
          17,
          18,
          19,
          20,
          21,
          22,
          23,
          24,
          25,
          26,
          27,
          28,
          2,
          3,
          4,
          5,
          6,
          7,
          8,
          9,
          10,
          11,
          12,
          13,
          14,
          15,
          16,
          17,
          18,
          19,
          20,
          21,
          22,
          23,
          24,
          2,
          3,
          4,
          5,
          6,
          7,
          8,
          9,
          10,
          11,
          12,
          13,
          14,
          15,
          16,
          17,
          18,
          19,
          20,
          21,
          22,
          23,
          24,
          25,
          26,
          27,
          28,
          29,
          30,
          31,
          2,
          3,
          4,
          5,
          6,
          7,
          8,
          9,
          10,
          11,
          12,
          13,
          14,
          15,
          16,
          17,
          18,
          19,
          20,
          21,
          22,
          23,
          24,
          25,
          26,
          27,
          28,
          29,
          30,
          2,
          3,
          4,
          5,
          6,
          7,
          8,
          9,
          10,
          11,
          12,
          13,
          2,
          3,
          4,
          5,
          6,
          7,
          8,
          9,
          10,
          11,
          12,
          13,
          14,
          15,
          16,
          17,
          18,
          19,
          20,
          21,
          22,
          23,
          24,
          25,
          26,
          27,
          28,
          2,
          3,
          4,
          5,
          6,
          7,
          8,
          9,
          10,
          11,
          12,
          13,
          14,
          15,
          16,
          17,
          18,
          19,
          20,
          21,
          22,
          23,
          24,
          25,
          26,
          27,
          28,
          29,
          2,
          3,
          4,
          5,
          6,
          7,
          8,
          9,
          10,
          11,
          56,
          57,
          58,
          59,
          60,
          61,
          62,
          63,
          64,
          65,
          66,
          67,
          68,
          69,
          70,
          71,
          2,
          3,
          4,
          5,
          6,
          7,
          8,
          9,
          10,
          11,
          12,
          13,
          14,
          15,
          16,
          17,
          18,
          19,
          20,
          21,
          22,
          23,
          24,
          25,
          26,
          27,
          28,
          29,
          2,
          3,
          4,
          5,
          6,
          7,
          8,
          9,
          10,
          11,
          12,
          13,
          14,
          15,
          16,
          17,
          18,
          19,
          20,
          21,
          16,
          17,
          18,
          19,
          20,
          21,
          22,
          23,
          24,
          25,
          26,
          27,
          28,
          29,
          30,
          31,
          42,
          43,
          44,
          45,
          46,
          47,
          48,
          49,
          50,
          51,
          52,
          53,
          54,
          55,
          56,
          57,
          58,
          59,
          60,
          61,
          62,
          63,
          64,
          65,
          66,
          67,
          68,
          69,
          70,
          71,
          45,
          46,
          47,
          48,
          49,
          50,
          51,
          52,
          53,
          54,
          55,
          56,
          57,
          58,
          59,
          60,
          61,
          62,
          63,
          64,
          65,
          66,
          67,
          68,
          69,
          70,
          2,
          3,
          4,
          5,
          6,
          7,
          8,
          9,
          10,
          11,
          12,
          13,
          14,
          15,
          16,
          17
         ],
         "xaxis": "x",
         "y": [
          76.134,
          76.496,
          76.304,
          76.271,
          76.225,
          76.395,
          76.169,
          76.477,
          76.292,
          76.303,
          76.2,
          76.242,
          76.47,
          76.227,
          75.689,
          76.085,
          76.066,
          75.899,
          76.043,
          75.729,
          75.796,
          75.784,
          75.692,
          75.709,
          75.873,
          75.744,
          76.106,
          76.131,
          76.432,
          76.181,
          76.155,
          76.281,
          76.347,
          76.252,
          76.455,
          76.36,
          76.538,
          76.338,
          76.466,
          76.222,
          76.235,
          76.304,
          76.901,
          75.946,
          76.625,
          76.416,
          76.411,
          76.586,
          76.33,
          76.652,
          76.517,
          76.695,
          76.475,
          76.131,
          76.806,
          76.565,
          76.637,
          76.541,
          76.73,
          76.614,
          76.513,
          76.512,
          76.631,
          76.358,
          76.37,
          76.491,
          76.369,
          76.417,
          76.518,
          76.391,
          76.283,
          76.75,
          76.728,
          76.24,
          76.264,
          76.678,
          76.76,
          76.528,
          76.954,
          76.659,
          76.817,
          76.512,
          76.52,
          76.463,
          76.514,
          76.471,
          76.382,
          76.384,
          76.348,
          76.493,
          76.515,
          76.331,
          76.534,
          76.847,
          76.723,
          76.798,
          76.408,
          76.062,
          75.937,
          75.932,
          76.067,
          76.089,
          76.582,
          76.214,
          77.277,
          76.875,
          76.823,
          76.962,
          76.576,
          76.848,
          76.204,
          76.836,
          76.836,
          77.855,
          76.58,
          76.524,
          76.651,
          76.347,
          76.476,
          76.38,
          76.174,
          76.647,
          76.645,
          76.283,
          76.56,
          76.667,
          76.734,
          76.49,
          76.32,
          76.594,
          76.386,
          76.566,
          76.479,
          76.421,
          76.566,
          76.747,
          76.386,
          76.862,
          77.107,
          76.898,
          76.708,
          76.403,
          76.387,
          76.599,
          76.708,
          76.581,
          76.572,
          76.467,
          76.731,
          76.623,
          76.529,
          76.529,
          76.684,
          77.003,
          77.07,
          76.432,
          76.505,
          76.361,
          76.57,
          76.389,
          76.532,
          76.633,
          76.562,
          76.448,
          76.596,
          76.62,
          76.62,
          76.725,
          76.366,
          76.383,
          76.646,
          76.312,
          76.336,
          76.257,
          76.265,
          76.582,
          76.572,
          76.631,
          76.641,
          76.733,
          76.755,
          76.961,
          76.896,
          76.914,
          76.934,
          76.735,
          76.551,
          76.913,
          77.081,
          76.909,
          76.965,
          79.464,
          77.375,
          76.961,
          76.929,
          77.12,
          76.975,
          77.261,
          77.076,
          77.034,
          77.135,
          77.265,
          77.24,
          77.09,
          76.916,
          77.052,
          76.972,
          76.757,
          77.516,
          79.144,
          77.752,
          77.353,
          77.392,
          76.865,
          76.661,
          77.135,
          76.7,
          77.167,
          77.995,
          77.448,
          77.528,
          77.672,
          77.509,
          77.112,
          77.27,
          77.287,
          78.446,
          77.508,
          77.478,
          77.336,
          76.815,
          76.963,
          77.138,
          77.83,
          77.006,
          77.156,
          78.012,
          77.174,
          77.217,
          77.457,
          77.251,
          77.461,
          77.247,
          77.04,
          76.757,
          76.731,
          77.039,
          77.416,
          77.373,
          77.994,
          77.714,
          77.627,
          77.704,
          79.111,
          77.667,
          77.402,
          77.115,
          77.076,
          77.447,
          77.37,
          77.494,
          77.645,
          77.608,
          77.614,
          78.112,
          77.699,
          77.444,
          77.17,
          77.489,
          77.301,
          77.117,
          77.318,
          77.619,
          77.163,
          77.412,
          77.229,
          77.248,
          77.182,
          77.109,
          77.9,
          77.513,
          77.178,
          76.778,
          76.936,
          76.887,
          77.353,
          76.923,
          77.454,
          77.334,
          77.737,
          77.677,
          77.837,
          78.37,
          77.533,
          77.847,
          77.47,
          77.28,
          77.608,
          77.379,
          77.153,
          77.351,
          77.302,
          77.479,
          77.582,
          77.628,
          77.414,
          78.003,
          77.959,
          79.114,
          78.072,
          77.747,
          77.438,
          76.959,
          77.558,
          77.266,
          77.898,
          77.291,
          77.427,
          75.334,
          75.897,
          76.04,
          74.787,
          74.603,
          75.257,
          74.847,
          75.283,
          74.694,
          75.102,
          75.095,
          74.999,
          75.01,
          74.877,
          74.836,
          74.434,
          79.229,
          77.768,
          77.671,
          77.327,
          77.467,
          77.104,
          77.699,
          77.284,
          77.752,
          77.384,
          77.678,
          77.926,
          77.735,
          78.856,
          77.666,
          77.836,
          77.648,
          77.705,
          77.518,
          77.593,
          78.405,
          77.875,
          77.498,
          77.417,
          78.166,
          78.099,
          77.821,
          77.681,
          79.031,
          78.339,
          77.936,
          77.487,
          77.66,
          77.898,
          77.589,
          77.929,
          77.843,
          77.424,
          77.6,
          77.448,
          77.542,
          77.534,
          77.84,
          79.184,
          78.011,
          78.035,
          78.02,
          77.713,
          75.552,
          75.73,
          76.262,
          76.291,
          76.336,
          76.407,
          77.323,
          76.889,
          76.774,
          77.878,
          76.816,
          77.173,
          77.353,
          76.856,
          77.414,
          76.986,
          74.954,
          75.403,
          75.504,
          75.231,
          75.452,
          76.422,
          76.252,
          78.402,
          75.944,
          76.33,
          76.419,
          76.3,
          77.928,
          76.386,
          77.754,
          76.902,
          76.562,
          76.88,
          76.605,
          77,
          78.763,
          76.399,
          76.365,
          76.667,
          76.261,
          76.323,
          76.05,
          76.59,
          77.298,
          76.293,
          75.822,
          76.152,
          78.314,
          76.144,
          76.626,
          76.348,
          76.453,
          76.43,
          76.357,
          76.066,
          76.304,
          77.851,
          78.463,
          76.069,
          76.225,
          76.639,
          76.334,
          76.595,
          76.373,
          76.361,
          76.234,
          76.479,
          76.389,
          76.394,
          77.284,
          76.206,
          79.338,
          78.203,
          78.108,
          78.166,
          77.981,
          78.332,
          78.564,
          78.029,
          78.154,
          77.854,
          78.114,
          77.83,
          78.456,
          77.953,
          78.234,
          78.194
         ],
         "yaxis": "y"
        },
        {
         "hovertemplate": "Compound=HARD<br>LapNumber=%{x}<br>LapTime(s)=%{y}<extra></extra>",
         "legendgroup": "HARD",
         "marker": {
          "color": "#f0f0ec",
          "symbol": "circle"
         },
         "mode": "markers",
         "name": "HARD",
         "showlegend": true,
         "type": "scattergl",
         "x": [
          30,
          31,
          32,
          35,
          36,
          37,
          38,
          39,
          40,
          41,
          42,
          43,
          44,
          45,
          46,
          47,
          48,
          49,
          50,
          51,
          52,
          53,
          54,
          55,
          56,
          57,
          58,
          59,
          60,
          61,
          62,
          63,
          64,
          65,
          66,
          67,
          68,
          69,
          70,
          71,
          72,
          29,
          30,
          31,
          32,
          35,
          36,
          37,
          38,
          39,
          40,
          41,
          42,
          43,
          44,
          45,
          46,
          47,
          48,
          49,
          50,
          51,
          52,
          53,
          54,
          55,
          56,
          57,
          58,
          59,
          60,
          61,
          62,
          63,
          64,
          65,
          66,
          67,
          68,
          69,
          70,
          71,
          72,
          26,
          27,
          28,
          29,
          30,
          31,
          32,
          35,
          36,
          37,
          38,
          39,
          40,
          41,
          42,
          43,
          44,
          45,
          46,
          47,
          48,
          49,
          50,
          51,
          52,
          53,
          54,
          55,
          56,
          57,
          58,
          59,
          60,
          61,
          62,
          63,
          64,
          65,
          66,
          67,
          68,
          69,
          70,
          71,
          72,
          35,
          36,
          37,
          38,
          39,
          40,
          41,
          42,
          43,
          44,
          45,
          46,
          47,
          48,
          49,
          50,
          51,
          52,
          53,
          54,
          55,
          56,
          57,
          58,
          59,
          60,
          61,
          62,
          63,
          64,
          65,
          66,
          67,
          68,
          69,
          70,
          71,
          72,
          32,
          35,
          36,
          37,
          38,
          39,
          40,
          41,
          42,
          43,
          44,
          45,
          46,
          47,
          48,
          49,
          50,
          51,
          52,
          53,
          54,
          55,
          56,
          57,
          58,
          59,
          60,
          61,
          62,
          63,
          64,
          65,
          66,
          67,
          68,
          69,
          70,
          71,
          72,
          31,
          32,
          35,
          36,
          37,
          38,
          39,
          40,
          41,
          42,
          43,
          44,
          45,
          46,
          47,
          48,
          49,
          50,
          51,
          52,
          53,
          54,
          55,
          56,
          57,
          58,
          59,
          60,
          61,
          62,
          63,
          64,
          65,
          66,
          67,
          68,
          69,
          70,
          71,
          72,
          27,
          28,
          29,
          30,
          31,
          32,
          35,
          36,
          37,
          38,
          39,
          40,
          41,
          42,
          43,
          44,
          45,
          46,
          47,
          48,
          49,
          50,
          51,
          52,
          53,
          25,
          26,
          27,
          28,
          29,
          30,
          31,
          32,
          35,
          36,
          37,
          38,
          39,
          40,
          41,
          42,
          43,
          44,
          45,
          46,
          47,
          35,
          36,
          37,
          38,
          39,
          40,
          41,
          42,
          43,
          44,
          45,
          46,
          47,
          48,
          49,
          50,
          51,
          52,
          53,
          54,
          55,
          56,
          57,
          58,
          59,
          60,
          61,
          62,
          63,
          64,
          65,
          66,
          67,
          68,
          69,
          70,
          71,
          35,
          36,
          37,
          38,
          39,
          40,
          41,
          42,
          43,
          44,
          45,
          46,
          47,
          48,
          49,
          50,
          51,
          52,
          53,
          54,
          55,
          56,
          57,
          58,
          59,
          60,
          61,
          62,
          63,
          64,
          65,
          66,
          67,
          68,
          69,
          70,
          71,
          16,
          17,
          18,
          19,
          20,
          21,
          22,
          23,
          24,
          25,
          26,
          27,
          28,
          29,
          30,
          31,
          32,
          35,
          36,
          37,
          38,
          39,
          40,
          41,
          42,
          43,
          44,
          45,
          46,
          47,
          48,
          49,
          50,
          51,
          52,
          53,
          54,
          55,
          56,
          57,
          58,
          59,
          60,
          61,
          62,
          63,
          64,
          65,
          66,
          67,
          68,
          69,
          70,
          71,
          31,
          32,
          35,
          36,
          37,
          38,
          39,
          40,
          41,
          42,
          43,
          44,
          45,
          46,
          47,
          48,
          49,
          50,
          51,
          52,
          53,
          54,
          55,
          56,
          57,
          58,
          59,
          60,
          61,
          62,
          63,
          64,
          65,
          66,
          67,
          68,
          69,
          70,
          71,
          32,
          35,
          36,
          37,
          38,
          39,
          40,
          41,
          42,
          43,
          44,
          45,
          46,
          47,
          48,
          49,
          50,
          51,
          52,
          53,
          54,
          55,
          56,
          57,
          58,
          59,
          60,
          61,
          62,
          63,
          64,
          65,
          66,
          67,
          68,
          69,
          70,
          71,
          14,
          15,
          16,
          17,
          18,
          19,
          20,
          21,
          22,
          23,
          24,
          25,
          26,
          27,
          28,
          29,
          30,
          31,
          32,
          35,
          36,
          37,
          38,
          39,
          40,
          41,
          42,
          43,
          44,
          45,
          46,
          47,
          48,
          49,
          50,
          51,
          52,
          53,
          32,
          35,
          36,
          37,
          38,
          39,
          40,
          41,
          42,
          43,
          44,
          45,
          46,
          47,
          48,
          49,
          50,
          51,
          52,
          53,
          54,
          55,
          56,
          57,
          58,
          59,
          60,
          61,
          62,
          63,
          64,
          65,
          66,
          67,
          68,
          69,
          70,
          71,
          24,
          25,
          26,
          27,
          28,
          29,
          30,
          31,
          32,
          35,
          36,
          37,
          38,
          39,
          40,
          41,
          42,
          43,
          44,
          45,
          46,
          47,
          48,
          49,
          50,
          51,
          52,
          53,
          54,
          55,
          56,
          57,
          58,
          59,
          60,
          61,
          62,
          63,
          64,
          65,
          66,
          67,
          68,
          69,
          70,
          71,
          35,
          36,
          37,
          38,
          39,
          40,
          41,
          42,
          43,
          44,
          45,
          46,
          47,
          48,
          49,
          50,
          51,
          52,
          53,
          54,
          55,
          56,
          57,
          58,
          59,
          60,
          61,
          62,
          63,
          64,
          65,
          66,
          67,
          68,
          69,
          70,
          71,
          2,
          3,
          4,
          5,
          6,
          7,
          8,
          9,
          10,
          11,
          12,
          13,
          14,
          15,
          16,
          17,
          18,
          19,
          20,
          21,
          22,
          23,
          24,
          25,
          26,
          27,
          28,
          29,
          30,
          31,
          32,
          35,
          36,
          37,
          38,
          39,
          17,
          18,
          19,
          20,
          21,
          22,
          23,
          24,
          25,
          26,
          27,
          28,
          29,
          30,
          31,
          32,
          35,
          36,
          37,
          38,
          39,
          40,
          41,
          42,
          20,
          21,
          22,
          23,
          24,
          25,
          26,
          27,
          28,
          29,
          30,
          31,
          32,
          35,
          36,
          37,
          38,
          39,
          40,
          41,
          42,
          43,
          44,
          45,
          46,
          47,
          48,
          49,
          50
         ],
         "xaxis": "x",
         "y": [
          74.571,
          74.391,
          74.476,
          74.474,
          74.312,
          74.724,
          74.557,
          74.707,
          74.639,
          75.01,
          75.205,
          74.791,
          74.577,
          74.831,
          74.603,
          74.892,
          74.776,
          74.911,
          74.575,
          74.832,
          74.687,
          74.738,
          74.468,
          74.599,
          74.816,
          74.867,
          75.098,
          74.979,
          74.518,
          75.046,
          75.008,
          74.31,
          74.858,
          74.786,
          74.624,
          74.688,
          74.66,
          74.657,
          74.871,
          75.007,
          73.817,
          75.041,
          74.752,
          75.15,
          74.888,
          74.909,
          75.131,
          75.065,
          75.045,
          75.138,
          75.095,
          75.016,
          75.095,
          75.299,
          75.333,
          75.099,
          75.155,
          75.32,
          74.981,
          75.129,
          75.023,
          75.139,
          75.232,
          74.822,
          75.018,
          74.758,
          75.065,
          75.013,
          75.355,
          75.132,
          75,
          75.394,
          74.941,
          75.088,
          75.287,
          74.992,
          75.052,
          75.251,
          75.052,
          74.972,
          75.153,
          75.544,
          75.889,
          75.756,
          75.023,
          75.852,
          75.562,
          75.248,
          75.277,
          75.542,
          74.926,
          75.268,
          76.059,
          74.796,
          75.237,
          75.379,
          75.091,
          75.213,
          75.376,
          74.837,
          75.11,
          74.871,
          75.296,
          75.08,
          75.287,
          75.411,
          75.017,
          74.646,
          74.974,
          75.075,
          75.615,
          75.077,
          74.974,
          75.48,
          74.89,
          74.915,
          75.003,
          74.585,
          75.153,
          74.974,
          74.881,
          74.882,
          74.771,
          74.833,
          75.013,
          74.765,
          74.975,
          74.765,
          74.937,
          74.237,
          74.308,
          74.491,
          74.43,
          74.613,
          74.536,
          74.44,
          74.677,
          74.564,
          74.574,
          74.597,
          75.257,
          75.154,
          75.414,
          75.325,
          75.165,
          75.116,
          75.34,
          75.002,
          75.305,
          75.079,
          75.088,
          75.072,
          75.052,
          74.991,
          75.012,
          74.832,
          74.965,
          74.932,
          75.052,
          74.639,
          74.975,
          74.777,
          75.083,
          75.014,
          74.99,
          75.092,
          75.843,
          74.807,
          74.739,
          74.701,
          74.719,
          74.943,
          74.117,
          74.768,
          74.985,
          74.671,
          74.952,
          75.143,
          75.06,
          75.105,
          75.431,
          75.023,
          74.962,
          74.972,
          74.831,
          74.848,
          75.149,
          75.343,
          75.132,
          74.652,
          74.507,
          74.488,
          74.865,
          75.244,
          75.078,
          74.817,
          74.605,
          74.672,
          74.75,
          75.098,
          75.051,
          75.13,
          75.101,
          74.442,
          74.631,
          75.296,
          75.031,
          75.106,
          74.846,
          75.121,
          75.102,
          74.949,
          74.792,
          74.879,
          74.828,
          74.93,
          75.143,
          75.138,
          75.103,
          76.486,
          75.601,
          75.492,
          75.314,
          75.12,
          75.046,
          75.266,
          75.169,
          75.45,
          75.521,
          75.714,
          76.198,
          75.287,
          75.197,
          75.063,
          75.034,
          75.081,
          74.699,
          74.932,
          74.61,
          74.849,
          75.132,
          74.587,
          74.851,
          74.924,
          74.956,
          74.532,
          75.748,
          77.452,
          75.663,
          75.833,
          75.625,
          74.906,
          75.125,
          75.258,
          75.548,
          75.294,
          76.372,
          75.537,
          75.454,
          75.603,
          75.305,
          74.91,
          74.846,
          75.064,
          75.361,
          75.096,
          75.161,
          75.263,
          75.344,
          75.441,
          75.725,
          76.433,
          75.75,
          75.958,
          75.457,
          75.435,
          75.278,
          75.262,
          74.805,
          75.098,
          74.893,
          74.895,
          75.096,
          75.002,
          74.767,
          74.709,
          74.723,
          74.904,
          76.022,
          75.511,
          75.768,
          75.264,
          76.516,
          76.055,
          75.926,
          78.161,
          76.394,
          75.858,
          76.021,
          75.978,
          75.672,
          75.621,
          75.611,
          76.002,
          75.366,
          75.606,
          75.643,
          75.483,
          75.196,
          74.987,
          74.855,
          75.256,
          75.219,
          75.147,
          75.794,
          75.583,
          76.583,
          76.371,
          75.24,
          75.351,
          75.381,
          75.494,
          75.329,
          75.067,
          75.331,
          75.281,
          75.444,
          75.553,
          75.741,
          76.762,
          76.125,
          76.138,
          76.357,
          77.345,
          76.67,
          76.349,
          75.865,
          75.823,
          75.985,
          75.831,
          75.749,
          75.481,
          75.647,
          75.268,
          75.014,
          75.151,
          75.048,
          75.039,
          75.242,
          75.193,
          76.238,
          77.097,
          75.352,
          75.621,
          75.506,
          75.984,
          75.653,
          75.297,
          75.198,
          75.285,
          75.65,
          76.027,
          76.211,
          75.822,
          74.972,
          75.932,
          76.203,
          76.066,
          75.867,
          75.953,
          76.281,
          77.053,
          76.658,
          76.652,
          76.387,
          76.734,
          76.173,
          76.849,
          77.546,
          76.739,
          76.315,
          76.548,
          76.313,
          76.638,
          76.072,
          76.73,
          76.284,
          76.321,
          76.462,
          76.448,
          75.896,
          76.182,
          75.983,
          75.846,
          75.83,
          75.938,
          76.053,
          75.805,
          75.705,
          75.856,
          75.733,
          76.179,
          76.449,
          76.464,
          76.261,
          76.107,
          75.657,
          78.585,
          76.441,
          76.295,
          77.307,
          76.32,
          76.254,
          76.114,
          75.918,
          76.03,
          75.881,
          75.91,
          76.222,
          76.288,
          75.984,
          76.259,
          75.543,
          75.568,
          76.164,
          75.986,
          75.923,
          76.164,
          76.308,
          76.344,
          76.302,
          76.293,
          75.825,
          75.872,
          77.598,
          75.913,
          75.709,
          75.309,
          75.222,
          75.633,
          75.374,
          75.419,
          75.354,
          75.692,
          75.487,
          75.675,
          75.53,
          75.544,
          75.444,
          75.413,
          75.553,
          75.536,
          75.481,
          75.449,
          75.68,
          76.055,
          75.91,
          76.216,
          75.32,
          75.719,
          75.967,
          75.506,
          76.322,
          76.245,
          77.511,
          77.001,
          76.716,
          76.479,
          75.994,
          75.781,
          75.783,
          75.741,
          75.736,
          75.644,
          75.674,
          75.255,
          77.472,
          75.44,
          75.47,
          75.371,
          75.396,
          75.931,
          75.749,
          75.509,
          75.624,
          75.448,
          75.483,
          75.692,
          75.825,
          75.711,
          75.823,
          75.934,
          75.986,
          75.945,
          76.158,
          76.12,
          76.267,
          75.52,
          76.007,
          76.622,
          76.601,
          77.533,
          78.639,
          76.401,
          76.184,
          76.176,
          76.317,
          76.49,
          76.357,
          76.516,
          76.642,
          77.328,
          77.169,
          76.79,
          76.801,
          76.26,
          76.535,
          76.411,
          76.45,
          80.078,
          77.452,
          77.33,
          76.849,
          77.775,
          76.456,
          76.457,
          77.244,
          77.653,
          76.608,
          76.373,
          76.318,
          75.903,
          76.044,
          76.491,
          76.26,
          75.622,
          75.609,
          75.566,
          75.902,
          75.78,
          76.027,
          77.121,
          78.371,
          76.151,
          75.85,
          75.867,
          76.141,
          75.711,
          76.079,
          76.257,
          75.39,
          77.756,
          75.907,
          75.948,
          75.862,
          75.831,
          75.952,
          79.487,
          75.936,
          75.786,
          75.629,
          77.515,
          75.998,
          75.618,
          75.753,
          75.741,
          75.771,
          77.406,
          75.41,
          77.218,
          77.351,
          75.946,
          75.714,
          75.856,
          75.539,
          75.886,
          75.875,
          76.039,
          76.931,
          76.967,
          76.421,
          76.532,
          76.37,
          76.484,
          76.979,
          76.983,
          76.907,
          79.422,
          77.217,
          77.512,
          76.551,
          76.611,
          78.611,
          76.843,
          76.13,
          76.163,
          78.22,
          76.258,
          76.399,
          76.279,
          76.617,
          77.6,
          76.314,
          76.486,
          78.672,
          76.84,
          76.594,
          76.79,
          77.22,
          77.827,
          76.434,
          76.418,
          76.468,
          76.162,
          76.371,
          77.002,
          76.706,
          76.2,
          75.561,
          75.59,
          75.674,
          76.033,
          75.998,
          76.108,
          77.992,
          76.912,
          77.554,
          76.381,
          76.57,
          78.391,
          77.252,
          76.072,
          76.13,
          78.292,
          76.183,
          76.358,
          76.479,
          76.501,
          77.796,
          76.243,
          77.84,
          76.913,
          76.989,
          76.805,
          76.61,
          77.773,
          77.575,
          76.304,
          76.419,
          76.412,
          76.336,
          76.192,
          76.809,
          76.903,
          76.39,
          77.487,
          83.466,
          76.363,
          76.869,
          76.918,
          78.058,
          77.147,
          77.494,
          77.554,
          77.316,
          77.659,
          76.902,
          77.22,
          77.559,
          77.588,
          77.967,
          77.549,
          77.358,
          77.272,
          76.648,
          77.458,
          76.944,
          76.991,
          76.749,
          76.882,
          76.738,
          77.082,
          77.536,
          77.662,
          77.191,
          77.873,
          76.949,
          77.085,
          77.16,
          77.434,
          80.604,
          76.073,
          76.399,
          76.582,
          76.898,
          76.847,
          76.694,
          76.681,
          76.594,
          76.892,
          76.799,
          76.813,
          77.221,
          77.253,
          77.034,
          77.164,
          77.841,
          76.797,
          77.807,
          77.16,
          77.492,
          77.256,
          77.148,
          77.507,
          78.697,
          76.808,
          76.715,
          76.726,
          77.295,
          76.443,
          76.777,
          76.4,
          78.19,
          76.556,
          77.148,
          76.863,
          77.968,
          77.091,
          77.221,
          78.29,
          77.573,
          77.784,
          78.968,
          77.774,
          79.115,
          78.117,
          81.195,
          78.167,
          78.973,
          77.856,
          77.537,
          77.238,
          77.065,
          77.351
         ],
         "yaxis": "y"
        },
        {
         "hovertemplate": "Compound=SOFT<br>LapNumber=%{x}<br>LapTime(s)=%{y}<extra></extra>",
         "legendgroup": "SOFT",
         "marker": {
          "color": "#da291c",
          "symbol": "circle"
         },
         "mode": "markers",
         "name": "SOFT",
         "showlegend": true,
         "type": "scattergl",
         "x": [
          56,
          57,
          58,
          59,
          60,
          61,
          62,
          63,
          64,
          65,
          66,
          67,
          68,
          69,
          70,
          71,
          72,
          2,
          3,
          4,
          5,
          6,
          7,
          8,
          9,
          10,
          11,
          12,
          13,
          14,
          15,
          16,
          17,
          18,
          19,
          20,
          21,
          22,
          50,
          51,
          52,
          53,
          54,
          55,
          56,
          57,
          58,
          59,
          60,
          61,
          62,
          63,
          64,
          65,
          66,
          67,
          68,
          69,
          70,
          71,
          72,
          2,
          3,
          4,
          5,
          6,
          7,
          8,
          9,
          10,
          11,
          12,
          13,
          2,
          3,
          4,
          5,
          6,
          7,
          8,
          9,
          10,
          11,
          12,
          13,
          14,
          53,
          54,
          55,
          56,
          57,
          58,
          59,
          60,
          61,
          62,
          63,
          64,
          65,
          66,
          67,
          68,
          69,
          70
         ],
         "xaxis": "x",
         "y": [
          73.972,
          73.927,
          74.129,
          74.072,
          74.09,
          74.286,
          74.717,
          75.431,
          74.769,
          74.347,
          74.401,
          74.287,
          74.203,
          74.078,
          74.207,
          74.822,
          74.459,
          77.761,
          76.489,
          76.974,
          76.854,
          76.594,
          77.063,
          77.471,
          77.148,
          76.906,
          77.617,
          77.85,
          77.382,
          76.619,
          76.686,
          76.692,
          76.851,
          76.621,
          76.743,
          76.686,
          77.126,
          77.871,
          73.883,
          74.047,
          74.047,
          74.263,
          74.353,
          74.444,
          74.48,
          74.35,
          74.477,
          73.968,
          73.977,
          74.038,
          73.878,
          74.422,
          74.832,
          74.01,
          74.243,
          74.406,
          74.353,
          74.416,
          75.898,
          74.898,
          75.688,
          78.781,
          77.209,
          76.957,
          76.551,
          77.22,
          77.267,
          77.081,
          77.527,
          77.372,
          77.321,
          77.627,
          77.809,
          78.403,
          78.388,
          77.218,
          77.343,
          76.882,
          77.439,
          77.204,
          77.746,
          77.577,
          77.539,
          77.841,
          78.003,
          78.092,
          75.913,
          75.76,
          75.803,
          76.04,
          76.42,
          76.413,
          76.359,
          77.641,
          76.399,
          76.256,
          75.871,
          79.34,
          76.036,
          75.737,
          75.724,
          77.757,
          75.865,
          75.798
         ],
         "yaxis": "y"
        }
       ],
       "layout": {
        "legend": {
         "title": {
          "text": "Compound"
         },
         "tracegroupgap": 0
        },
        "template": {
         "data": {
          "bar": [
           {
            "error_x": {
             "color": "#f2f5fa"
            },
            "error_y": {
             "color": "#f2f5fa"
            },
            "marker": {
             "line": {
              "color": "rgb(17,17,17)",
              "width": 0.5
             },
             "pattern": {
              "fillmode": "overlay",
              "size": 10,
              "solidity": 0.2
             }
            },
            "type": "bar"
           }
          ],
          "barpolar": [
           {
            "marker": {
             "line": {
              "color": "rgb(17,17,17)",
              "width": 0.5
             },
             "pattern": {
              "fillmode": "overlay",
              "size": 10,
              "solidity": 0.2
             }
            },
            "type": "barpolar"
           }
          ],
          "carpet": [
           {
            "aaxis": {
             "endlinecolor": "#A2B1C6",
             "gridcolor": "#506784",
             "linecolor": "#506784",
             "minorgridcolor": "#506784",
             "startlinecolor": "#A2B1C6"
            },
            "baxis": {
             "endlinecolor": "#A2B1C6",
             "gridcolor": "#506784",
             "linecolor": "#506784",
             "minorgridcolor": "#506784",
             "startlinecolor": "#A2B1C6"
            },
            "type": "carpet"
           }
          ],
          "choropleth": [
           {
            "colorbar": {
             "outlinewidth": 0,
             "ticks": ""
            },
            "type": "choropleth"
           }
          ],
          "contour": [
           {
            "colorbar": {
             "outlinewidth": 0,
             "ticks": ""
            },
            "colorscale": [
             [
              0,
              "#0d0887"
             ],
             [
              0.1111111111111111,
              "#46039f"
             ],
             [
              0.2222222222222222,
              "#7201a8"
             ],
             [
              0.3333333333333333,
              "#9c179e"
             ],
             [
              0.4444444444444444,
              "#bd3786"
             ],
             [
              0.5555555555555556,
              "#d8576b"
             ],
             [
              0.6666666666666666,
              "#ed7953"
             ],
             [
              0.7777777777777778,
              "#fb9f3a"
             ],
             [
              0.8888888888888888,
              "#fdca26"
             ],
             [
              1,
              "#f0f921"
             ]
            ],
            "type": "contour"
           }
          ],
          "contourcarpet": [
           {
            "colorbar": {
             "outlinewidth": 0,
             "ticks": ""
            },
            "type": "contourcarpet"
           }
          ],
          "heatmap": [
           {
            "colorbar": {
             "outlinewidth": 0,
             "ticks": ""
            },
            "colorscale": [
             [
              0,
              "#0d0887"
             ],
             [
              0.1111111111111111,
              "#46039f"
             ],
             [
              0.2222222222222222,
              "#7201a8"
             ],
             [
              0.3333333333333333,
              "#9c179e"
             ],
             [
              0.4444444444444444,
              "#bd3786"
             ],
             [
              0.5555555555555556,
              "#d8576b"
             ],
             [
              0.6666666666666666,
              "#ed7953"
             ],
             [
              0.7777777777777778,
              "#fb9f3a"
             ],
             [
              0.8888888888888888,
              "#fdca26"
             ],
             [
              1,
              "#f0f921"
             ]
            ],
            "type": "heatmap"
           }
          ],
          "heatmapgl": [
           {
            "colorbar": {
             "outlinewidth": 0,
             "ticks": ""
            },
            "colorscale": [
             [
              0,
              "#0d0887"
             ],
             [
              0.1111111111111111,
              "#46039f"
             ],
             [
              0.2222222222222222,
              "#7201a8"
             ],
             [
              0.3333333333333333,
              "#9c179e"
             ],
             [
              0.4444444444444444,
              "#bd3786"
             ],
             [
              0.5555555555555556,
              "#d8576b"
             ],
             [
              0.6666666666666666,
              "#ed7953"
             ],
             [
              0.7777777777777778,
              "#fb9f3a"
             ],
             [
              0.8888888888888888,
              "#fdca26"
             ],
             [
              1,
              "#f0f921"
             ]
            ],
            "type": "heatmapgl"
           }
          ],
          "histogram": [
           {
            "marker": {
             "pattern": {
              "fillmode": "overlay",
              "size": 10,
              "solidity": 0.2
             }
            },
            "type": "histogram"
           }
          ],
          "histogram2d": [
           {
            "colorbar": {
             "outlinewidth": 0,
             "ticks": ""
            },
            "colorscale": [
             [
              0,
              "#0d0887"
             ],
             [
              0.1111111111111111,
              "#46039f"
             ],
             [
              0.2222222222222222,
              "#7201a8"
             ],
             [
              0.3333333333333333,
              "#9c179e"
             ],
             [
              0.4444444444444444,
              "#bd3786"
             ],
             [
              0.5555555555555556,
              "#d8576b"
             ],
             [
              0.6666666666666666,
              "#ed7953"
             ],
             [
              0.7777777777777778,
              "#fb9f3a"
             ],
             [
              0.8888888888888888,
              "#fdca26"
             ],
             [
              1,
              "#f0f921"
             ]
            ],
            "type": "histogram2d"
           }
          ],
          "histogram2dcontour": [
           {
            "colorbar": {
             "outlinewidth": 0,
             "ticks": ""
            },
            "colorscale": [
             [
              0,
              "#0d0887"
             ],
             [
              0.1111111111111111,
              "#46039f"
             ],
             [
              0.2222222222222222,
              "#7201a8"
             ],
             [
              0.3333333333333333,
              "#9c179e"
             ],
             [
              0.4444444444444444,
              "#bd3786"
             ],
             [
              0.5555555555555556,
              "#d8576b"
             ],
             [
              0.6666666666666666,
              "#ed7953"
             ],
             [
              0.7777777777777778,
              "#fb9f3a"
             ],
             [
              0.8888888888888888,
              "#fdca26"
             ],
             [
              1,
              "#f0f921"
             ]
            ],
            "type": "histogram2dcontour"
           }
          ],
          "mesh3d": [
           {
            "colorbar": {
             "outlinewidth": 0,
             "ticks": ""
            },
            "type": "mesh3d"
           }
          ],
          "parcoords": [
           {
            "line": {
             "colorbar": {
              "outlinewidth": 0,
              "ticks": ""
             }
            },
            "type": "parcoords"
           }
          ],
          "pie": [
           {
            "automargin": true,
            "type": "pie"
           }
          ],
          "scatter": [
           {
            "marker": {
             "line": {
              "color": "#283442"
             }
            },
            "type": "scatter"
           }
          ],
          "scatter3d": [
           {
            "line": {
             "colorbar": {
              "outlinewidth": 0,
              "ticks": ""
             }
            },
            "marker": {
             "colorbar": {
              "outlinewidth": 0,
              "ticks": ""
             }
            },
            "type": "scatter3d"
           }
          ],
          "scattercarpet": [
           {
            "marker": {
             "colorbar": {
              "outlinewidth": 0,
              "ticks": ""
             }
            },
            "type": "scattercarpet"
           }
          ],
          "scattergeo": [
           {
            "marker": {
             "colorbar": {
              "outlinewidth": 0,
              "ticks": ""
             }
            },
            "type": "scattergeo"
           }
          ],
          "scattergl": [
           {
            "marker": {
             "line": {
              "color": "#283442"
             }
            },
            "type": "scattergl"
           }
          ],
          "scattermapbox": [
           {
            "marker": {
             "colorbar": {
              "outlinewidth": 0,
              "ticks": ""
             }
            },
            "type": "scattermapbox"
           }
          ],
          "scatterpolar": [
           {
            "marker": {
             "colorbar": {
              "outlinewidth": 0,
              "ticks": ""
             }
            },
            "type": "scatterpolar"
           }
          ],
          "scatterpolargl": [
           {
            "marker": {
             "colorbar": {
              "outlinewidth": 0,
              "ticks": ""
             }
            },
            "type": "scatterpolargl"
           }
          ],
          "scatterternary": [
           {
            "marker": {
             "colorbar": {
              "outlinewidth": 0,
              "ticks": ""
             }
            },
            "type": "scatterternary"
           }
          ],
          "surface": [
           {
            "colorbar": {
             "outlinewidth": 0,
             "ticks": ""
            },
            "colorscale": [
             [
              0,
              "#0d0887"
             ],
             [
              0.1111111111111111,
              "#46039f"
             ],
             [
              0.2222222222222222,
              "#7201a8"
             ],
             [
              0.3333333333333333,
              "#9c179e"
             ],
             [
              0.4444444444444444,
              "#bd3786"
             ],
             [
              0.5555555555555556,
              "#d8576b"
             ],
             [
              0.6666666666666666,
              "#ed7953"
             ],
             [
              0.7777777777777778,
              "#fb9f3a"
             ],
             [
              0.8888888888888888,
              "#fdca26"
             ],
             [
              1,
              "#f0f921"
             ]
            ],
            "type": "surface"
           }
          ],
          "table": [
           {
            "cells": {
             "fill": {
              "color": "#506784"
             },
             "line": {
              "color": "rgb(17,17,17)"
             }
            },
            "header": {
             "fill": {
              "color": "#2a3f5f"
             },
             "line": {
              "color": "rgb(17,17,17)"
             }
            },
            "type": "table"
           }
          ]
         },
         "layout": {
          "annotationdefaults": {
           "arrowcolor": "#f2f5fa",
           "arrowhead": 0,
           "arrowwidth": 1
          },
          "autotypenumbers": "strict",
          "coloraxis": {
           "colorbar": {
            "outlinewidth": 0,
            "ticks": ""
           }
          },
          "colorscale": {
           "diverging": [
            [
             0,
             "#8e0152"
            ],
            [
             0.1,
             "#c51b7d"
            ],
            [
             0.2,
             "#de77ae"
            ],
            [
             0.3,
             "#f1b6da"
            ],
            [
             0.4,
             "#fde0ef"
            ],
            [
             0.5,
             "#f7f7f7"
            ],
            [
             0.6,
             "#e6f5d0"
            ],
            [
             0.7,
             "#b8e186"
            ],
            [
             0.8,
             "#7fbc41"
            ],
            [
             0.9,
             "#4d9221"
            ],
            [
             1,
             "#276419"
            ]
           ],
           "sequential": [
            [
             0,
             "#0d0887"
            ],
            [
             0.1111111111111111,
             "#46039f"
            ],
            [
             0.2222222222222222,
             "#7201a8"
            ],
            [
             0.3333333333333333,
             "#9c179e"
            ],
            [
             0.4444444444444444,
             "#bd3786"
            ],
            [
             0.5555555555555556,
             "#d8576b"
            ],
            [
             0.6666666666666666,
             "#ed7953"
            ],
            [
             0.7777777777777778,
             "#fb9f3a"
            ],
            [
             0.8888888888888888,
             "#fdca26"
            ],
            [
             1,
             "#f0f921"
            ]
           ],
           "sequentialminus": [
            [
             0,
             "#0d0887"
            ],
            [
             0.1111111111111111,
             "#46039f"
            ],
            [
             0.2222222222222222,
             "#7201a8"
            ],
            [
             0.3333333333333333,
             "#9c179e"
            ],
            [
             0.4444444444444444,
             "#bd3786"
            ],
            [
             0.5555555555555556,
             "#d8576b"
            ],
            [
             0.6666666666666666,
             "#ed7953"
            ],
            [
             0.7777777777777778,
             "#fb9f3a"
            ],
            [
             0.8888888888888888,
             "#fdca26"
            ],
            [
             1,
             "#f0f921"
            ]
           ]
          },
          "colorway": [
           "#636efa",
           "#EF553B",
           "#00cc96",
           "#ab63fa",
           "#FFA15A",
           "#19d3f3",
           "#FF6692",
           "#B6E880",
           "#FF97FF",
           "#FECB52"
          ],
          "font": {
           "color": "#f2f5fa"
          },
          "geo": {
           "bgcolor": "rgb(17,17,17)",
           "lakecolor": "rgb(17,17,17)",
           "landcolor": "rgb(17,17,17)",
           "showlakes": true,
           "showland": true,
           "subunitcolor": "#506784"
          },
          "hoverlabel": {
           "align": "left"
          },
          "hovermode": "closest",
          "mapbox": {
           "style": "dark"
          },
          "paper_bgcolor": "rgb(17,17,17)",
          "plot_bgcolor": "rgb(17,17,17)",
          "polar": {
           "angularaxis": {
            "gridcolor": "#506784",
            "linecolor": "#506784",
            "ticks": ""
           },
           "bgcolor": "rgb(17,17,17)",
           "radialaxis": {
            "gridcolor": "#506784",
            "linecolor": "#506784",
            "ticks": ""
           }
          },
          "scene": {
           "xaxis": {
            "backgroundcolor": "rgb(17,17,17)",
            "gridcolor": "#506784",
            "gridwidth": 2,
            "linecolor": "#506784",
            "showbackground": true,
            "ticks": "",
            "zerolinecolor": "#C8D4E3"
           },
           "yaxis": {
            "backgroundcolor": "rgb(17,17,17)",
            "gridcolor": "#506784",
            "gridwidth": 2,
            "linecolor": "#506784",
            "showbackground": true,
            "ticks": "",
            "zerolinecolor": "#C8D4E3"
           },
           "zaxis": {
            "backgroundcolor": "rgb(17,17,17)",
            "gridcolor": "#506784",
            "gridwidth": 2,
            "linecolor": "#506784",
            "showbackground": true,
            "ticks": "",
            "zerolinecolor": "#C8D4E3"
           }
          },
          "shapedefaults": {
           "line": {
            "color": "#f2f5fa"
           }
          },
          "sliderdefaults": {
           "bgcolor": "#C8D4E3",
           "bordercolor": "rgb(17,17,17)",
           "borderwidth": 1,
           "tickwidth": 0
          },
          "ternary": {
           "aaxis": {
            "gridcolor": "#506784",
            "linecolor": "#506784",
            "ticks": ""
           },
           "baxis": {
            "gridcolor": "#506784",
            "linecolor": "#506784",
            "ticks": ""
           },
           "bgcolor": "rgb(17,17,17)",
           "caxis": {
            "gridcolor": "#506784",
            "linecolor": "#506784",
            "ticks": ""
           }
          },
          "title": {
           "x": 0.05
          },
          "updatemenudefaults": {
           "bgcolor": "#506784",
           "borderwidth": 0
          },
          "xaxis": {
           "automargin": true,
           "gridcolor": "#283442",
           "linecolor": "#506784",
           "ticks": "",
           "title": {
            "standoff": 15
           },
           "zerolinecolor": "#283442",
           "zerolinewidth": 2
          },
          "yaxis": {
           "automargin": true,
           "gridcolor": "#283442",
           "linecolor": "#506784",
           "ticks": "",
           "title": {
            "standoff": 15
           },
           "zerolinecolor": "#283442",
           "zerolinewidth": 2
          }
         }
        },
        "title": {
         "text": "Lap time per lap depending on tire compound"
        },
        "xaxis": {
         "anchor": "y",
         "domain": [
          0,
          1
         ],
         "title": {
          "text": "LapNumber"
         }
        },
        "yaxis": {
         "anchor": "x",
         "domain": [
          0,
          1
         ],
         "title": {
          "text": "LapTime(s)"
         }
        }
       }
      }
     },
     "metadata": {},
     "output_type": "display_data"
    }
   ],
   "source": [
    "# laptime depending on tire compound\n",
    "px.scatter(driver_laps, x=\"LapNumber\", y=\"LapTime(s)\", color=\"Compound\", title=\"Lap time per lap depending on tire compound\", template=\"plotly_dark\", color_discrete_map=compound_colors)"
   ]
  },
  {
   "cell_type": "code",
   "execution_count": 38,
   "metadata": {},
   "outputs": [
    {
     "data": {
      "application/vnd.plotly.v1+json": {
       "config": {
        "plotlyServerURL": "https://plot.ly"
       },
       "data": [
        {
         "hovertemplate": "Driver=NOR<br>LapNumber=%{x}<br>GapToWinner=%{y}<extra></extra>",
         "legendgroup": "NOR",
         "line": {
          "color": "#ff8000",
          "dash": "solid"
         },
         "marker": {
          "symbol": "circle"
         },
         "mode": "lines",
         "name": "NOR",
         "showlegend": true,
         "type": "scattergl",
         "x": [
          2,
          3,
          4,
          5,
          6,
          7,
          8,
          9,
          10,
          11,
          12,
          13,
          14,
          15,
          16,
          17,
          18,
          19,
          20,
          21,
          22,
          23,
          24,
          25,
          26,
          27,
          30,
          31,
          32,
          35,
          36,
          37,
          38,
          39,
          40,
          41,
          42,
          43,
          44,
          45,
          46,
          47,
          48,
          49,
          50,
          51,
          52,
          53,
          54,
          55,
          56,
          57,
          58,
          59,
          60,
          61,
          62,
          63,
          64,
          65,
          66,
          67,
          68,
          69,
          70,
          71,
          72
         ],
         "xaxis": "x",
         "y": [
          -1.8659999999999854,
          -1.6340000000000146,
          -2.007999999999811,
          -2.4970000000002983,
          -2.799999999999727,
          -3.3589999999999236,
          -3.8489999999997053,
          -4.189000000000306,
          -4.408999999999651,
          -4.626000000000204,
          -4.889000000000124,
          -5.161000000000058,
          -5.161999999999352,
          -5.317000000000007,
          -6.012000000000626,
          -6.275000000000546,
          -6.7020000000002256,
          -7.318000000000211,
          -7.606000000000677,
          -8.411000000000058,
          -9.461999999999534,
          -10.40099999999984,
          -11.507000000000517,
          -12.206000000000131,
          -12.394999999999527,
          -12.588000000000648,
          8.286000000000058,
          6.095000000000255,
          4.356999999999971,
          -21.190999999999804,
          -21.115999999999985,
          -20.699999999999818,
          -20.634000000000015,
          -20.35699999999997,
          -20.33099999999922,
          -19.85699999999997,
          -19.092000000000553,
          -18.978000000000065,
          -18.965000000000146,
          -18.70799999999963,
          -18.701999999999316,
          -19.067000000000007,
          -19.44499999999971,
          -19.94800000000032,
          -20.69800000000032,
          -21.03099999999995,
          -21.460000000000036,
          -22.061999999999898,
          -22.59599999999955,
          -23.30199999999968,
          -23.5649999999996,
          -23.786000000000058,
          -23.75999999999931,
          -23.83300000000054,
          -24.306000000000495,
          -24.271999999999935,
          -24.09600000000046,
          -24.751000000000204,
          -24.82499999999891,
          -25.09100000000035,
          -25.105999999999767,
          -25.39300000000003,
          -25.51000000000022,
          -25.936000000001513,
          -26.078999999999724,
          -26.061999999999898,
          -27.337000000001353
         ],
         "yaxis": "y"
        },
        {
         "hovertemplate": "Driver=VER<br>LapNumber=%{x}<br>GapToWinner=%{y}<extra></extra>",
         "legendgroup": "VER",
         "line": {
          "color": "#0600ef",
          "dash": "solid"
         },
         "marker": {
          "symbol": "circle"
         },
         "mode": "lines",
         "name": "VER",
         "showlegend": true,
         "type": "scattergl",
         "x": [
          2,
          3,
          4,
          5,
          6,
          7,
          8,
          9,
          10,
          11,
          12,
          13,
          14,
          15,
          16,
          17,
          18,
          19,
          20,
          21,
          22,
          23,
          24,
          25,
          26,
          29,
          30,
          31,
          32,
          35,
          36,
          37,
          38,
          39,
          40,
          41,
          42,
          43,
          44,
          45,
          46,
          47,
          48,
          49,
          50,
          51,
          52,
          53,
          54,
          55,
          56,
          57,
          58,
          59,
          60,
          61,
          62,
          63,
          64,
          65,
          66,
          67,
          68,
          69,
          70,
          71,
          72
         ],
         "xaxis": "x",
         "y": [
          -2.856999999999971,
          -2.9900000000002365,
          -3.2359999999998763,
          -3.8150000000000546,
          -4.188000000000102,
          -4.861000000000331,
          -5.1729999999997744,
          -5.738000000000284,
          -5.795000000000073,
          -5.955000000000837,
          -5.880000000000109,
          -6.056000000000495,
          -6.060999999999694,
          -6.221000000000458,
          -6.369999999999891,
          -6.414000000000669,
          -6.005999999999403,
          -6.574999999999818,
          -6.280999999999949,
          -6.3989999999994325,
          -6.835000000000036,
          -6.971999999999753,
          -7.440000000000509,
          -7.195999999999913,
          -6.7409999999999854,
          14.82799999999952,
          13.490999999999985,
          12.059000000000196,
          10.732999999999265,
          -13.323999999999614,
          -12.430000000000291,
          -11.672999999999774,
          -11.118999999999687,
          -10.411000000000058,
          -9.929000000000087,
          -9.448999999999614,
          -8.793999999999869,
          -8.17199999999957,
          -7.403000000000247,
          -6.877999999999702,
          -6.319999999999709,
          -6.257000000000517,
          -6.4299999999993815,
          -6.7150000000001455,
          -7.016999999999825,
          -7.042999999999665,
          -6.92699999999968,
          -7.4450000000006185,
          -7.429000000000087,
          -7.975999999999658,
          -7.989999999999782,
          -8.06500000000051,
          -7.781999999999243,
          -7.7020000000002256,
          -7.693000000000211,
          -7.310999999999694,
          -7.2020000000002256,
          -7.0789999999997235,
          -6.723999999998341,
          -6.78400000000147,
          -6.370999999999185,
          -6.095000000001164,
          -5.819999999999709,
          -5.931000000000495,
          -5.791999999999462,
          -5.237999999999374,
          -4.441000000000713
         ],
         "yaxis": "y"
        },
        {
         "hovertemplate": "Driver=LEC<br>LapNumber=%{x}<br>GapToWinner=%{y}<extra></extra>",
         "legendgroup": "LEC",
         "line": {
          "color": "#e8002d",
          "dash": "solid"
         },
         "marker": {
          "symbol": "circle"
         },
         "mode": "lines",
         "name": "LEC",
         "showlegend": true,
         "type": "scattergl",
         "x": [
          2,
          3,
          4,
          5,
          6,
          7,
          8,
          9,
          10,
          11,
          12,
          13,
          14,
          15,
          16,
          17,
          18,
          19,
          20,
          21,
          22,
          23,
          26,
          27,
          28,
          29,
          30,
          31,
          32,
          35,
          36,
          37,
          38,
          39,
          40,
          41,
          42,
          43,
          44,
          45,
          46,
          47,
          48,
          49,
          50,
          51,
          52,
          53,
          54,
          55,
          56,
          57,
          58,
          59,
          60,
          61,
          62,
          63,
          64,
          65,
          66,
          67,
          68,
          69,
          70,
          71,
          72
         ],
         "xaxis": "x",
         "y": [
          1.1390000000001237,
          1.349999999999909,
          0.8029999999998836,
          0.8489999999997053,
          0.8859999999999673,
          0.56899999999996,
          0.45100000000002183,
          0.363999999999578,
          0.46600000000034925,
          0.45899999999983265,
          0.5079999999998108,
          0.625,
          0.5120000000006257,
          0.5,
          0.6069999999999709,
          0.6279999999997017,
          0.5520000000005894,
          0.555000000000291,
          0.6149999999997817,
          0.3640000000004875,
          0.26700000000073487,
          0.272000000000844,
          19.946000000000822,
          19.031999999999243,
          18.952000000000226,
          18.447000000000116,
          17.605999999999767,
          16.301000000000386,
          15.628999999999905,
          -8.282000000000153,
          -7.251000000000204,
          -5.5,
          -5.194999999999709,
          -4.38799999999992,
          -3.621999999999389,
          -3.0670000000000073,
          -2.293999999999869,
          -1.5950000000002547,
          -1.3220000000001164,
          -0.7860000000000582,
          -0.5119999999997162,
          -0.47299999999995634,
          -0.5469999999995707,
          -0.6739999999999782,
          -0.5879999999997381,
          -0.7359999999998763,
          -1.206000000000131,
          -1.5720000000001164,
          -1.4989999999997963,
          -1.1890000000003056,
          -1.1909999999998035,
          -1.305000000000291,
          -0.8969999999999345,
          -1.0590000000001965,
          -1.1350000000002183,
          -1.1440000000002328,
          -1.3910000000005311,
          -1.2029999999995198,
          -1.1610000000000582,
          -1.3320000000003347,
          -1.0889999999999418,
          -1.2929999999996653,
          -1.2370000000009895,
          -1.3070000000006985,
          -1.5560000000004948,
          -1.5709999999999127,
          -1.8980000000010477
         ],
         "yaxis": "y"
        },
        {
         "hovertemplate": "Driver=PIA<br>LapNumber=%{x}<br>GapToWinner=%{y}<extra></extra>",
         "legendgroup": "PIA",
         "line": {
          "color": "#ff8000",
          "dash": "solid"
         },
         "marker": {
          "symbol": "circle"
         },
         "mode": "lines",
         "name": "PIA",
         "showlegend": true,
         "type": "scattergl",
         "x": [
          2,
          3,
          4,
          5,
          6,
          7,
          8,
          9,
          10,
          11,
          12,
          13,
          14,
          15,
          16,
          17,
          18,
          19,
          20,
          21,
          22,
          23,
          24,
          25,
          26,
          27,
          28,
          29,
          30,
          31,
          32,
          35,
          36,
          37,
          38,
          39,
          40,
          41,
          42,
          43,
          44,
          45,
          46,
          47,
          48,
          49,
          50,
          51,
          52,
          53,
          54,
          55,
          56,
          57,
          58,
          59,
          60,
          61,
          62,
          63,
          64,
          65,
          66,
          67,
          68,
          69,
          70,
          71,
          72
         ],
         "xaxis": "x",
         "y": [
          0,
          0,
          0,
          0,
          0,
          0,
          0,
          0,
          0,
          0,
          0,
          0,
          0,
          0,
          0,
          0,
          0,
          0,
          0,
          0,
          0,
          0,
          0,
          0,
          0,
          0,
          0,
          0,
          0,
          0,
          0,
          0,
          0,
          0,
          0,
          0,
          0,
          0,
          0,
          0,
          0,
          0,
          0,
          0,
          0,
          0,
          0,
          0,
          0,
          0,
          0,
          0,
          0,
          0,
          0,
          0,
          0,
          0,
          0,
          0,
          0,
          0,
          0,
          0,
          0,
          0,
          0,
          0,
          0
         ],
         "yaxis": "y"
        },
        {
         "hovertemplate": "Driver=SAI<br>LapNumber=%{x}<br>GapToWinner=%{y}<extra></extra>",
         "legendgroup": "SAI",
         "line": {
          "color": "#e8002d",
          "dash": "solid"
         },
         "marker": {
          "symbol": "circle"
         },
         "mode": "lines",
         "name": "SAI",
         "showlegend": true,
         "type": "scattergl",
         "x": [
          2,
          3,
          4,
          5,
          6,
          7,
          8,
          9,
          10,
          11,
          12,
          13,
          14,
          15,
          16,
          17,
          18,
          19,
          20,
          21,
          22,
          23,
          24,
          25,
          26,
          27,
          28,
          29,
          32,
          35,
          36,
          37,
          38,
          39,
          40,
          41,
          42,
          43,
          44,
          45,
          46,
          47,
          48,
          49,
          50,
          51,
          52,
          53,
          54,
          55,
          56,
          57,
          58,
          59,
          60,
          61,
          62,
          63,
          64,
          65,
          66,
          67,
          68,
          69,
          70,
          71,
          72
         ],
         "xaxis": "x",
         "y": [
          3.8730000000000473,
          4.483999999999924,
          4.628999999999905,
          4.830999999999676,
          4.878999999999905,
          4.7729999999996835,
          4.318000000000211,
          4.336999999999534,
          4.661000000000058,
          5.995999999999185,
          6.113000000000284,
          6.1229999999995925,
          6.302999999999884,
          6.268000000000029,
          6.359999999999673,
          6.391999999999825,
          6.07300000000032,
          6.204999999999927,
          6.518999999999323,
          6.268000000000029,
          5.981000000000677,
          5.925000000000182,
          5.860999999999876,
          5.943000000000211,
          6.201000000000022,
          6.857999999999265,
          7.311999999999898,
          7.810999999999694,
          29.359999999999673,
          5.265000000000327,
          5.766999999999825,
          6.1599999999998545,
          6.38799999999992,
          6.90099999999984,
          6.405000000000655,
          6.637000000000626,
          7.181999999999789,
          7.176000000000386,
          7.563999999999396,
          8.13299999999981,
          8.596000000000458,
          8.443999999999505,
          8.721000000000458,
          8.329999999999927,
          7.9669999999996435,
          7.774000000000342,
          7.488999999999578,
          6.996999999999389,
          7.144000000000233,
          7.181999999999789,
          7.235000000000582,
          6.798999999999978,
          6.234000000000378,
          5.670000000000073,
          5.543999999999869,
          5.77599999999984,
          6.0219999999999345,
          5.873999999999796,
          5.54700000000048,
          5.166999999999462,
          5.278000000000247,
          5.40099999999984,
          5.674999999999272,
          5.721999999999753,
          5.808999999999287,
          5.261000000000422,
          4.799999999999272
         ],
         "yaxis": "y"
        },
        {
         "hovertemplate": "Driver=PER<br>LapNumber=%{x}<br>GapToWinner=%{y}<extra></extra>",
         "legendgroup": "PER",
         "line": {
          "color": "#0600ef",
          "dash": "solid"
         },
         "marker": {
          "symbol": "circle"
         },
         "mode": "lines",
         "name": "PER",
         "showlegend": true,
         "type": "scattergl",
         "x": [
          2,
          3,
          4,
          5,
          6,
          7,
          8,
          9,
          10,
          11,
          12,
          13,
          14,
          15,
          16,
          17,
          18,
          19,
          20,
          21,
          22,
          23,
          24,
          25,
          26,
          27,
          28,
          31,
          32,
          35,
          36,
          37,
          38,
          39,
          40,
          41,
          42,
          43,
          44,
          45,
          46,
          47,
          48,
          49,
          50,
          51,
          52,
          53,
          54,
          55,
          56,
          57,
          58,
          59,
          60,
          61,
          62,
          63,
          64,
          65,
          66,
          67,
          68,
          69,
          70,
          71,
          72
         ],
         "xaxis": "x",
         "y": [
          1.5320000000001528,
          1.6889999999998508,
          1.5770000000002256,
          1.5639999999998508,
          1.4220000000000255,
          1.3299999999999272,
          1.7780000000002474,
          1.8589999999994689,
          2.055000000000291,
          1.9379999999991924,
          1.86200000000008,
          1.9470000000001164,
          2.1840000000001965,
          2.382999999999811,
          2.5709999999999127,
          2.6899999999996,
          2.9279999999998836,
          3.036000000000058,
          3.233999999999469,
          3.229000000000269,
          3.066000000000713,
          3.3460000000004584,
          3.6179999999994834,
          3.6419999999998254,
          4.085000000000036,
          4.5090000000000146,
          5.1469999999999345,
          28.425000000000182,
          27.24199999999928,
          2.9849999999996726,
          3.594000000000051,
          4.407000000000153,
          5.018000000000029,
          5.536999999999352,
          5.716000000000349,
          6.0590000000001965,
          6.447000000000116,
          6.699999999999818,
          7.278999999999542,
          7.842999999999847,
          8.34900000000016,
          9.57799999999952,
          10.025000000000546,
          10.103000000000065,
          10.091999999999643,
          10.04699999999957,
          9.976999999999862,
          9.902999999999338,
          10.070000000000618,
          10.215000000000146,
          10.657000000000153,
          11.282999999999447,
          12.40900000000056,
          12.644000000000233,
          12.849999999999454,
          12.90099999999984,
          13.102999999999156,
          13.218999999999141,
          12.986000000000786,
          12.865999999999985,
          12.836999999999534,
          12.71099999999933,
          13.065999999998894,
          12.569999999999709,
          12.406999999999243,
          12.34100000000035,
          12.204999999999927
         ],
         "yaxis": "y"
        },
        {
         "hovertemplate": "Driver=RUS<br>LapNumber=%{x}<br>GapToWinner=%{y}<extra></extra>",
         "legendgroup": "RUS",
         "line": {
          "color": "#27f4d2",
          "dash": "solid"
         },
         "marker": {
          "symbol": "circle"
         },
         "mode": "lines",
         "name": "RUS",
         "showlegend": true,
         "type": "scattergl",
         "x": [
          2,
          3,
          4,
          5,
          6,
          7,
          8,
          9,
          10,
          11,
          12,
          13,
          14,
          15,
          16,
          17,
          18,
          19,
          20,
          21,
          22,
          23,
          24,
          27,
          28,
          29,
          30,
          31,
          32,
          35,
          36,
          37,
          38,
          39,
          40,
          41,
          42,
          43,
          44,
          45,
          46,
          47,
          48,
          49,
          50,
          51,
          52,
          53,
          56,
          57,
          58,
          59,
          60,
          61,
          62,
          63,
          64,
          65,
          66,
          67,
          68,
          69,
          70,
          71,
          72
         ],
         "xaxis": "x",
         "y": [
          -0.7599999999997635,
          -0.4920000000001892,
          -0.5369999999998072,
          -0.7350000000001273,
          -0.8150000000000546,
          -1.1730000000002292,
          -1.211999999999989,
          -1.4090000000005602,
          -1.1959999999999127,
          -1.3500000000003638,
          -1.430000000000291,
          -1.298000000000684,
          -1.4569999999994252,
          -1.5030000000006112,
          -1.6300000000001091,
          -1.7130000000006476,
          -1.6239999999997963,
          -1.5670000000000073,
          -1.2669999999998254,
          -1.1599999999998545,
          -1.2739999999994325,
          -1.2419999999992797,
          -1.079000000000633,
          20.034999999999854,
          19.850999999999658,
          21.235999999999876,
          20.80999999999949,
          20.061000000000604,
          19.471999999999753,
          -4.019000000000233,
          -3.131000000000313,
          -2.1809999999995853,
          -1.1239999999997963,
          -0.2600000000002183,
          1.4990000000007058,
          2.5,
          3.5140000000001237,
          4.440000000000509,
          5.180999999999585,
          5.516999999999825,
          5.766000000000531,
          5.57300000000032,
          5.780000000000655,
          5.461999999999534,
          5.2979999999997744,
          5.395999999999731,
          5.623999999999796,
          5.724999999999454,
          26.621000000000095,
          25.460000000000036,
          24.517000000000735,
          23.537000000000262,
          22.635999999999513,
          21.909999999999854,
          21.795000000000073,
          22.261000000000422,
          22.097999999999956,
          21.39300000000003,
          21.155000000000655,
          20.467000000000553,
          19.89300000000003,
          18.88799999999901,
          18.08100000000013,
          17.913000000000466,
          17.279999999998836
         ],
         "yaxis": "y"
        },
        {
         "hovertemplate": "Driver=HAM<br>LapNumber=%{x}<br>GapToWinner=%{y}<extra></extra>",
         "legendgroup": "HAM",
         "line": {
          "color": "#27f4d2",
          "dash": "solid"
         },
         "marker": {
          "symbol": "circle"
         },
         "mode": "lines",
         "name": "HAM",
         "showlegend": true,
         "type": "scattergl",
         "x": [
          2,
          3,
          4,
          5,
          6,
          7,
          8,
          9,
          10,
          11,
          12,
          13,
          14,
          15,
          16,
          17,
          18,
          19,
          20,
          21,
          22,
          25,
          26,
          27,
          28,
          29,
          30,
          31,
          32,
          35,
          36,
          37,
          38,
          39,
          40,
          41,
          42,
          43,
          44,
          45,
          46,
          47,
          50,
          51,
          52,
          53,
          54,
          55,
          56,
          57,
          58,
          59,
          60,
          61,
          62,
          63,
          64,
          65,
          66,
          67,
          68,
          69,
          70,
          71,
          72
         ],
         "xaxis": "x",
         "y": [
          6.163000000000011,
          6.38799999999992,
          6.6840000000001965,
          6.777999999999793,
          6.844000000000051,
          6.9529999999999745,
          7.765000000000327,
          8.095999999999549,
          8.489999999999782,
          9.586999999999534,
          10.97400000000016,
          11.841999999999643,
          11.989999999999782,
          12.293999999999869,
          12.601999999999862,
          13.104999999999563,
          13.233000000000175,
          13.46100000000024,
          13.815999999999804,
          14.408000000000357,
          15.432000000000698,
          36.17399999999998,
          36.54500000000007,
          36.357999999999265,
          36.384000000000015,
          35.77399999999943,
          35.11999999999989,
          33.81600000000071,
          32.86399999999958,
          8.831000000000131,
          9.692000000000007,
          10.277000000000044,
          10.680999999999585,
          11.346999999999753,
          11.736000000000786,
          11.967000000000553,
          12.235999999999876,
          12.282000000000153,
          12.621999999999389,
          14.070000000000618,
          14.984000000000378,
          15.49499999999989,
          35.34699999999975,
          34.22900000000027,
          33.159999999999854,
          32.08299999999963,
          31.434000000000196,
          30.57300000000032,
          29.97400000000016,
          29.235999999999876,
          28.64100000000053,
          27.55699999999979,
          26.542999999999665,
          25.569000000000415,
          24.61499999999978,
          24.072000000000116,
          23.97200000000157,
          22.929999999998472,
          22.53399999999965,
          21.965000000000146,
          21.540999999999258,
          20.873999999999796,
          21.75799999999981,
          21.665999999999258,
          22.261999999998807
         ],
         "yaxis": "y"
        },
        {
         "hovertemplate": "Driver=GAS<br>LapNumber=%{x}<br>GapToWinner=%{y}<extra></extra>",
         "legendgroup": "GAS",
         "line": {
          "color": "#ff87bc",
          "dash": "solid"
         },
         "marker": {
          "symbol": "circle"
         },
         "mode": "lines",
         "name": "GAS",
         "showlegend": true,
         "type": "scattergl",
         "x": [
          2,
          3,
          4,
          5,
          6,
          7,
          8,
          9,
          10,
          11,
          12,
          13,
          14,
          15,
          16,
          17,
          18,
          19,
          20,
          21,
          22,
          23,
          24,
          25,
          26,
          27,
          28,
          29,
          30,
          31,
          35,
          36,
          37,
          38,
          39,
          40,
          41,
          42,
          43,
          44,
          45,
          46,
          47,
          48,
          49,
          50,
          51,
          52,
          53,
          54,
          55,
          56,
          57,
          58,
          59,
          60,
          61,
          62,
          63,
          64,
          65,
          66,
          67,
          68,
          69,
          70,
          71
         ],
         "xaxis": "x",
         "y": [
          2.6720000000000255,
          3.3220000000001164,
          3.5779999999999745,
          3.5529999999998836,
          3.576000000000022,
          3.5349999999998545,
          3.9570000000003347,
          4.048999999999978,
          4.5020000000004075,
          7.445999999999913,
          8.358000000000175,
          8.804999999999382,
          9.26299999999992,
          10.000999999999294,
          10.591999999999643,
          11.50500000000011,
          12.088000000000648,
          12.606999999999971,
          13.411000000000058,
          14.141999999999825,
          14.535000000000764,
          14.902000000000044,
          15.019999999999527,
          15.66400000000067,
          16.574000000000524,
          17.393999999999323,
          18.978000000000065,
          22.05499999999938,
          23.717999999999847,
          24.489000000000487,
          28.082000000000335,
          30.360999999999876,
          32.108000000000175,
          33.542999999999665,
          37.27399999999943,
          39.05500000000029,
          40.37700000000041,
          41.95799999999963,
          43.259000000000015,
          44.36700000000019,
          45.41399999999976,
          46.42800000000079,
          47.172999999999774,
          47.38500000000022,
          47.576999999999316,
          47.89499999999953,
          48.21299999999974,
          48.292999999999665,
          47.9399999999996,
          47.793000000000575,
          47.74399999999969,
          47.884000000000015,
          47.9429999999993,
          48.664999999999964,
          49.19599999999991,
          50.787999999999556,
          52.146999999999935,
          52.55500000000029,
          52.940999999998894,
          53.39000000000124,
          53.831999999998516,
          54.522000000000844,
          54.61399999999958,
          55.167999999999665,
          55.365999999999985,
          55.79600000000028,
          56.35900000000038
         ],
         "yaxis": "y"
        },
        {
         "hovertemplate": "Driver=ALO<br>LapNumber=%{x}<br>GapToWinner=%{y}<extra></extra>",
         "legendgroup": "ALO",
         "line": {
          "color": "#00665f",
          "dash": "solid"
         },
         "marker": {
          "symbol": "circle"
         },
         "mode": "lines",
         "name": "ALO",
         "showlegend": true,
         "type": "scattergl",
         "x": [
          2,
          3,
          4,
          5,
          6,
          7,
          8,
          9,
          10,
          11,
          12,
          13,
          14,
          15,
          16,
          17,
          18,
          19,
          20,
          21,
          22,
          23,
          24,
          25,
          26,
          27,
          28,
          29,
          30,
          35,
          36,
          37,
          38,
          39,
          40,
          41,
          42,
          43,
          44,
          45,
          46,
          47,
          48,
          49,
          50,
          51,
          52,
          53,
          54,
          55,
          56,
          57,
          58,
          59,
          60,
          61,
          62,
          63,
          64,
          65,
          66,
          67,
          68,
          69,
          70,
          71
         ],
         "xaxis": "x",
         "y": [
          3.2400000000002365,
          3.8409999999998945,
          3.824000000000069,
          4.199000000000069,
          4.371000000000095,
          4.583999999999833,
          5.920000000000073,
          6.550999999999476,
          7.567000000000007,
          8.719000000000051,
          9.764999999999418,
          10.362999999999374,
          11.162000000000262,
          12.067000000000007,
          14.128999999999905,
          15.28899999999976,
          16.274000000000342,
          17.095000000000255,
          17.578999999999724,
          18.00799999999981,
          18.298999999999978,
          19.40600000000086,
          19.613999999999578,
          20.36200000000008,
          22.312000000000808,
          23.548999999999978,
          24.833999999999833,
          26.22400000000016,
          27.385999999999513,
          29.39099999999962,
          31.916000000000167,
          33.733000000000175,
          35.38000000000011,
          37.30699999999979,
          40.03900000000067,
          42.173000000000684,
          44.081999999999425,
          45.27000000000044,
          46.52899999999954,
          47.94000000000051,
          49.17399999999998,
          49.66600000000017,
          49.99300000000039,
          50.22599999999966,
          50.16899999999987,
          50.01800000000003,
          50.052999999999884,
          49.76099999999951,
          49.798000000000684,
          49.73499999999967,
          49.84900000000016,
          50.998999999999796,
          53.02400000000034,
          53.323999999999614,
          53.95399999999972,
          54.44800000000032,
          55.600000000000364,
          56.288000000000466,
          56.65300000000025,
          56.79899999999907,
          57.44499999999971,
          58.11999999999898,
          59.36999999999898,
          60.49799999999959,
          61.306000000000495,
          61.288000000000466
         ],
         "yaxis": "y"
        },
        {
         "hovertemplate": "Driver=HUL<br>LapNumber=%{x}<br>GapToWinner=%{y}<extra></extra>",
         "legendgroup": "HUL",
         "line": {
          "color": "#b6babd",
          "dash": "solid"
         },
         "marker": {
          "symbol": "circle"
         },
         "mode": "lines",
         "name": "HUL",
         "showlegend": true,
         "type": "scattergl",
         "x": [
          2,
          3,
          4,
          5,
          6,
          7,
          8,
          9,
          10,
          11,
          12,
          13,
          16,
          17,
          18,
          19,
          20,
          21,
          22,
          23,
          24,
          25,
          26,
          27,
          28,
          29,
          30,
          31,
          32,
          35,
          36,
          37,
          38,
          39,
          40,
          41,
          42,
          43,
          44,
          45,
          46,
          47,
          48,
          49,
          50,
          51,
          52,
          53,
          54,
          55,
          56,
          57,
          58,
          59,
          60,
          61,
          62,
          63,
          64,
          65,
          66,
          67,
          68,
          69,
          70,
          71
         ],
         "xaxis": "x",
         "y": [
          5.014999999999873,
          5.998000000000047,
          6.360000000000127,
          6.356999999999971,
          6.559999999999945,
          6.644999999999982,
          7.402000000000044,
          7.957999999999629,
          9.4399999999996,
          10.634000000000015,
          11.797999999999774,
          12.987999999999374,
          36.22699999999986,
          36.081999999999425,
          35.655000000000655,
          35.00699999999961,
          34.628999999999905,
          34.376000000000204,
          34.582000000000335,
          34.517000000000735,
          34.371000000000095,
          34.350000000000364,
          35.021999999999935,
          35.25799999999981,
          36.17500000000018,
          37.65399999999954,
          38.30400000000009,
          38.03700000000026,
          38.370999999999185,
          18.89099999999962,
          21.29200000000037,
          23.055999999999585,
          25.295000000000073,
          27.148999999999432,
          28.85699999999997,
          30.783000000000357,
          32.79100000000017,
          34.01000000000022,
          35.6279999999997,
          37.03700000000026,
          38.28600000000006,
          38.85899999999947,
          39.64300000000003,
          40.28199999999924,
          40.761999999999716,
          41.30199999999968,
          42.04200000000037,
          42.43499999999949,
          43.61200000000008,
          44.75600000000031,
          46.14100000000053,
          47.313999999999396,
          48.34900000000016,
          48.95399999999972,
          52.547999999999774,
          53.97699999999986,
          55.44000000000051,
          57.78199999999924,
          59.17000000000007,
          60.37199999999939,
          61.84699999999975,
          62.789999999999054,
          64.04299999999967,
          64.84099999999853,
          65.73699999999917,
          66.96900000000096
         ],
         "yaxis": "y"
        },
        {
         "hovertemplate": "Driver=RIC<br>LapNumber=%{x}<br>GapToWinner=%{y}<extra></extra>",
         "legendgroup": "RIC",
         "line": {
          "color": "#364aa9",
          "dash": "solid"
         },
         "marker": {
          "symbol": "circle"
         },
         "mode": "lines",
         "name": "RIC",
         "showlegend": true,
         "type": "scattergl",
         "x": [
          2,
          3,
          4,
          5,
          6,
          7,
          8,
          9,
          10,
          11,
          12,
          13,
          14,
          15,
          16,
          17,
          18,
          19,
          20,
          21,
          22,
          23,
          24,
          25,
          26,
          27,
          28,
          31,
          32,
          35,
          36,
          37,
          38,
          39,
          40,
          41,
          42,
          43,
          44,
          45,
          46,
          47,
          48,
          49,
          50,
          51,
          52,
          53,
          54,
          55,
          56,
          57,
          58,
          59,
          60,
          61,
          62,
          63,
          64,
          65,
          66,
          67,
          68,
          69,
          70,
          71
         ],
         "xaxis": "x",
         "y": [
          8.182999999999993,
          9.585999999999785,
          10.309999999999945,
          10.664999999999964,
          11.213000000000193,
          11.705999999999676,
          12.417000000000371,
          13.094000000000051,
          14.226999999999862,
          15.3149999999996,
          16.46599999999944,
          18.063999999999396,
          19.29200000000037,
          20.35399999999936,
          21.139999999999418,
          22.28099999999995,
          23.088999999999942,
          23.690999999999804,
          24.677999999999884,
          25.76299999999992,
          26.079000000000633,
          26.76800000000003,
          27.198999999999614,
          28.03900000000067,
          29.15900000000056,
          30.33099999999922,
          32.29899999999998,
          57.39400000000023,
          57.16399999999976,
          36.43199999999979,
          37.738000000000284,
          38.99799999999959,
          40.67100000000028,
          42.22699999999986,
          43.53700000000026,
          45.164999999999964,
          47.03299999999945,
          48.69999999999982,
          50.4380000000001,
          52.15700000000015,
          53.38500000000022,
          54,
          56.444000000000415,
          56.9429999999993,
          57.327000000000226,
          57.47099999999955,
          57.577000000000226,
          57.86999999999989,
          58.24200000000019,
          58.35599999999977,
          58.63100000000031,
          59.23499999999967,
          59.650000000000546,
          60.27300000000014,
          60.8119999999999,
          61.34400000000005,
          61.95600000000013,
          62.40400000000045,
          63.025000000001455,
          63.509000000000015,
          64.35100000000057,
          64.82499999999891,
          65.72799999999916,
          66.69999999999891,
          67.59599999999955,
          68.82200000000012
         ],
         "yaxis": "y"
        },
        {
         "hovertemplate": "Driver=STR<br>LapNumber=%{x}<br>GapToWinner=%{y}<extra></extra>",
         "legendgroup": "STR",
         "line": {
          "color": "#00665f",
          "dash": "solid"
         },
         "marker": {
          "symbol": "circle"
         },
         "mode": "lines",
         "name": "STR",
         "showlegend": true,
         "type": "scattergl",
         "x": [
          2,
          3,
          4,
          5,
          6,
          7,
          8,
          9,
          10,
          11,
          12,
          13,
          14,
          15,
          16,
          17,
          18,
          19,
          20,
          21,
          22,
          23,
          24,
          25,
          26,
          27,
          28,
          29,
          32,
          35,
          36,
          37,
          38,
          39,
          40,
          41,
          42,
          43,
          44,
          45,
          46,
          47,
          48,
          49,
          50,
          51,
          52,
          53,
          54,
          55,
          56,
          57,
          58,
          59,
          60,
          61,
          62,
          63,
          64,
          65,
          66,
          67,
          68,
          69,
          70,
          71
         ],
         "xaxis": "x",
         "y": [
          4.338000000000193,
          5.251999999999953,
          5.351999999999862,
          5.527999999999793,
          5.887000000000171,
          6.286000000000058,
          6.550000000000182,
          7.186999999999898,
          8.009000000000015,
          9.225999999999658,
          10.4399999999996,
          11.76299999999992,
          13.662000000000262,
          14.813000000000102,
          16.27599999999984,
          17.39800000000014,
          18.1850000000004,
          19.278000000000247,
          20.326000000000022,
          20.94499999999971,
          21.449000000000524,
          22.028000000000247,
          22.708999999999833,
          23.88300000000072,
          25.449000000000524,
          26.925999999999476,
          28.99699999999939,
          30.889000000000124,
          53.024999999999636,
          31.123000000000502,
          32.853000000000065,
          34.051000000000386,
          35.88199999999961,
          37.697000000000116,
          40.595000000000255,
          43.0600000000004,
          45.33599999999933,
          47.13799999999992,
          48.56800000000021,
          49.775000000000546,
          50.96100000000024,
          51.44499999999971,
          52.027000000000044,
          52.25699999999961,
          52.60599999999977,
          52.69599999999991,
          55.05199999999968,
          55.152000000000044,
          55.61999999999989,
          55.685999999999694,
          56.00300000000061,
          56.84599999999955,
          57.52300000000014,
          57.97999999999956,
          58.613000000000284,
          59.04899999999998,
          59.69999999999891,
          60.42699999999968,
          61.32000000000153,
          61.97899999999936,
          63.163000000000466,
          64.12199999999939,
          65.33100000000013,
          66.1929999999993,
          67.33699999999953,
          68.46700000000055
         ],
         "yaxis": "y"
        },
        {
         "hovertemplate": "Driver=ALB<br>LapNumber=%{x}<br>GapToWinner=%{y}<extra></extra>",
         "legendgroup": "ALB",
         "line": {
          "color": "#00a0dd",
          "dash": "solid"
         },
         "marker": {
          "symbol": "circle"
         },
         "mode": "lines",
         "name": "ALB",
         "showlegend": true,
         "type": "scattergl",
         "x": [
          2,
          3,
          4,
          5,
          6,
          7,
          8,
          9,
          10,
          11,
          14,
          15,
          16,
          17,
          18,
          19,
          20,
          21,
          22,
          23,
          24,
          25,
          26,
          27,
          28,
          29,
          30,
          31,
          32,
          35,
          36,
          37,
          38,
          39,
          40,
          41,
          42,
          43,
          44,
          45,
          46,
          47,
          48,
          49,
          50,
          51,
          52,
          53,
          56,
          57,
          58,
          59,
          60,
          61,
          62,
          63,
          64,
          65,
          66,
          67,
          68,
          69,
          70,
          71
         ],
         "xaxis": "x",
         "y": [
          8.771000000000186,
          10.578999999999724,
          11.648000000000138,
          12.326000000000022,
          12.757000000000062,
          13.360999999999876,
          13.968000000000302,
          15.048999999999978,
          15.82800000000043,
          16.734999999999673,
          39.77900000000045,
          38.91699999999946,
          38.539999999999964,
          38.813999999999396,
          38.92200000000048,
          39.9399999999996,
          42.24799999999959,
          42.11499999999978,
          41.452000000000226,
          40.905000000000655,
          40.42399999999998,
          40.50600000000031,
          40.801000000000386,
          41.3799999999992,
          42.090000000000146,
          43.35099999999966,
          44.430999999999585,
          44.639000000000124,
          45.22599999999966,
          25.134000000000015,
          27.43199999999979,
          29.534999999999854,
          31.493999999999687,
          37.141999999999825,
          39.98100000000068,
          42.775000000000546,
          45.1840000000002,
          48.28200000000015,
          50.17399999999998,
          52.05699999999979,
          54.70400000000063,
          57.099999999999454,
          58.55400000000009,
          59.51299999999992,
          60.50600000000031,
          61.24399999999969,
          62.17199999999957,
          63.32299999999941,
          87.17900000000009,
          87.98799999999937,
          88.95600000000013,
          88.6909999999998,
          88.30299999999988,
          88.54800000000068,
          88.5630000000001,
          88.8809999999994,
          88.64300000000003,
          88.6929999999993,
          89.14899999999943,
          89.17299999999886,
          89.40599999999904,
          89.19999999999891,
          89.02199999999903,
          88.46600000000035
         ],
         "yaxis": "y"
        },
        {
         "hovertemplate": "Driver=OCO<br>LapNumber=%{x}<br>GapToWinner=%{y}<extra></extra>",
         "legendgroup": "OCO",
         "line": {
          "color": "#ff87bc",
          "dash": "solid"
         },
         "marker": {
          "symbol": "circle"
         },
         "mode": "lines",
         "name": "OCO",
         "showlegend": true,
         "type": "scattergl",
         "x": [
          2,
          3,
          4,
          5,
          6,
          7,
          8,
          9,
          10,
          11,
          12,
          13,
          14,
          15,
          16,
          17,
          18,
          19,
          20,
          21,
          22,
          23,
          24,
          25,
          26,
          27,
          28,
          29,
          32,
          35,
          36,
          37,
          38,
          39,
          40,
          41,
          42,
          43,
          44,
          45,
          46,
          47,
          48,
          49,
          50,
          51,
          52,
          53,
          54,
          55,
          56,
          57,
          58,
          59,
          60,
          61,
          62,
          63,
          64,
          65,
          66,
          67,
          68,
          69,
          70,
          71
         ],
         "xaxis": "x",
         "y": [
          8.512000000000171,
          10.016000000000076,
          11.009000000000015,
          11.576000000000022,
          12.514999999999873,
          12.664999999999964,
          13.705000000000382,
          14.17199999999957,
          15.412000000000262,
          16.27599999999984,
          17.490999999999985,
          18.902999999999338,
          20.16700000000037,
          22.64099999999962,
          23.922999999999774,
          25.411000000000058,
          26.565999999999804,
          27.756000000000313,
          28.94300000000021,
          30.002000000000407,
          31.5600000000004,
          32.712000000000444,
          33.41199999999935,
          34.42100000000028,
          36.525000000000546,
          38.6869999999999,
          40.57600000000002,
          42.1899999999996,
          66.32999999999993,
          45.08799999999974,
          46.460000000000036,
          47.71799999999985,
          49.128999999999905,
          50.47899999999936,
          51.89300000000003,
          54.478000000000065,
          58.40899999999965,
          59.88299999999981,
          61.16899999999987,
          62.462000000000444,
          64.00600000000031,
          64.46000000000004,
          65.38500000000022,
          66.22800000000007,
          66.29299999999967,
          68.88400000000001,
          69.67500000000018,
          70.28299999999945,
          71.14300000000003,
          71.66899999999987,
          72.54200000000037,
          76.9409999999998,
          77.80500000000029,
          78.53899999999976,
          79.17699999999968,
          81.68000000000029,
          82.84599999999955,
          83.4989999999998,
          84.32000000000153,
          85.00900000000001,
          86.14099999999962,
          88.57200000000012,
          89.20499999999993,
          91.33999999999833,
          93.67699999999968,
          94.63299999999981
         ],
         "yaxis": "y"
        },
        {
         "hovertemplate": "Driver=SAR<br>LapNumber=%{x}<br>GapToWinner=%{y}<extra></extra>",
         "legendgroup": "SAR",
         "line": {
          "color": "#00a0dd",
          "dash": "solid"
         },
         "marker": {
          "symbol": "circle"
         },
         "mode": "lines",
         "name": "SAR",
         "showlegend": true,
         "type": "scattergl",
         "x": [
          2,
          3,
          4,
          5,
          6,
          7,
          8,
          9,
          10,
          11,
          12,
          13,
          14,
          15,
          16,
          17,
          18,
          19,
          20,
          21,
          24,
          25,
          26,
          27,
          28,
          29,
          30,
          31,
          32,
          35,
          36,
          37,
          38,
          39,
          40,
          41,
          42,
          43,
          44,
          45,
          46,
          47,
          48,
          49,
          50,
          51,
          52,
          53,
          54,
          55,
          56,
          57,
          58,
          59,
          60,
          61,
          62,
          63,
          64,
          65,
          66,
          67,
          68,
          69,
          70,
          71
         ],
         "xaxis": "x",
         "y": [
          9.242999999999938,
          11.317999999999756,
          12.576000000000022,
          13.302999999999884,
          14.434999999999945,
          15.378999999999905,
          16.309000000000196,
          17.420999999999367,
          18.752000000000407,
          19.65599999999995,
          20.792999999999665,
          21.72699999999986,
          22.797999999999774,
          23.949999999999818,
          25.40599999999995,
          28.24199999999928,
          29.76000000000022,
          31.279999999999745,
          32.96900000000005,
          34.14800000000014,
          59.0659999999998,
          58.514000000000124,
          57.990999999999985,
          57.9399999999996,
          57.88299999999981,
          57.85499999999956,
          58.697000000000116,
          59.082000000000335,
          59.28899999999976,
          39.73199999999997,
          41.86499999999978,
          44.04100000000017,
          46.52900000000045,
          49.081999999999425,
          51.376000000000204,
          56.262000000000626,
          59.03899999999976,
          61.873999999999796,
          63.860999999999876,
          65.89800000000014,
          69.91200000000026,
          71.49799999999959,
          72.47400000000016,
          73.22299999999996,
          76.11799999999948,
          77.21100000000024,
          78.49399999999969,
          79.43299999999999,
          81.04800000000068,
          83.34299999999985,
          84.57800000000043,
          85.97599999999966,
          89.57600000000002,
          91.36399999999958,
          92.96699999999964,
          94.7450000000008,
          97.13299999999981,
          99.99499999999898,
          101.49700000000121,
          102.86299999999937,
          104.69200000000092,
          105.878999999999,
          107.47299999999996,
          109.39199999999983,
          111.08400000000074,
          112.29399999999987
         ],
         "yaxis": "y"
        },
        {
         "hovertemplate": "Driver=TSU<br>LapNumber=%{x}<br>GapToWinner=%{y}<extra></extra>",
         "legendgroup": "TSU",
         "line": {
          "color": "#364aa9",
          "dash": "solid"
         },
         "marker": {
          "symbol": "circle"
         },
         "mode": "lines",
         "name": "TSU",
         "showlegend": true,
         "type": "scattergl",
         "x": [
          2,
          3,
          4,
          5,
          6,
          7,
          8,
          9,
          10,
          11,
          12,
          13,
          16,
          17,
          18,
          19,
          20,
          21,
          22,
          23,
          24,
          25,
          26,
          27,
          28,
          29,
          30,
          31,
          35,
          36,
          37,
          38,
          39,
          40,
          41,
          42,
          43,
          44,
          45,
          46,
          47,
          48,
          49,
          50,
          51,
          52,
          53,
          54,
          55,
          56,
          57,
          58,
          59,
          60,
          61,
          62,
          63,
          64,
          65,
          66,
          67,
          68,
          69,
          70,
          71
         ],
         "xaxis": "x",
         "y": [
          6.780999999999949,
          7.726000000000113,
          8.00500000000011,
          7.795999999999822,
          8.487999999999829,
          8.80099999999993,
          9.223000000000411,
          9.932999999999993,
          10.792999999999665,
          11.594000000000051,
          12.75799999999981,
          14.052999999999884,
          37.41100000000006,
          36.792999999999665,
          36.5619999999999,
          36.33799999999974,
          36.34299999999985,
          36.21600000000035,
          36.69200000000001,
          36.858000000000175,
          36.83399999999983,
          38.30400000000009,
          39.05799999999999,
          40.29399999999987,
          41.715000000000146,
          42.503999999999905,
          43.82899999999972,
          44.233000000000175,
          46.220000000000255,
          47.57300000000032,
          48.939000000000306,
          50.48099999999977,
          52.04899999999998,
          53.54400000000078,
          57,
          59.47199999999975,
          62.34900000000016,
          64.16600000000017,
          66.16200000000026,
          69.95600000000013,
          71.95100000000002,
          72.8690000000006,
          73.58500000000004,
          76.55199999999968,
          77.56999999999971,
          78.8119999999999,
          79.95100000000002,
          81.45000000000073,
          83.9409999999998,
          85.10500000000047,
          87.85699999999997,
          89.69800000000032,
          91.63500000000022,
          93.44899999999961,
          95.04700000000048,
          97.98799999999937,
          100.59799999999996,
          101.97000000000116,
          103.33699999999953,
          105.11000000000058,
          106.47099999999955,
          107.88600000000042,
          109.61199999999917,
          111.5010000000002,
          112.90099999999984
         ],
         "yaxis": "y"
        },
        {
         "hovertemplate": "Driver=MAG<br>LapNumber=%{x}<br>GapToWinner=%{y}<extra></extra>",
         "legendgroup": "MAG",
         "line": {
          "color": "#b6babd",
          "dash": "solid"
         },
         "marker": {
          "symbol": "circle"
         },
         "mode": "lines",
         "name": "MAG",
         "showlegend": true,
         "type": "scattergl",
         "x": [
          2,
          3,
          4,
          5,
          6,
          7,
          8,
          9,
          10,
          11,
          12,
          13,
          14,
          15,
          16,
          17,
          18,
          19,
          20,
          21,
          22,
          23,
          24,
          25,
          26,
          27,
          28,
          29,
          30,
          31,
          32,
          35,
          36,
          37,
          38,
          39,
          42,
          43,
          44,
          45,
          46,
          47,
          48,
          49,
          50,
          51,
          52,
          53,
          54,
          55,
          56,
          57,
          58,
          59,
          60,
          61,
          62,
          63,
          64,
          65,
          66,
          67,
          68,
          69,
          70,
          71
         ],
         "xaxis": "x",
         "y": [
          9.380999999999858,
          16.583000000000084,
          16.26800000000003,
          16.376999999999953,
          16.766999999999825,
          17.871000000000095,
          18.35900000000038,
          19.036000000000058,
          20.07800000000043,
          20.873999999999796,
          22.06999999999971,
          22.45799999999963,
          23.207000000000335,
          24.384000000000015,
          25.587999999999738,
          27.206999999999425,
          28.26299999999992,
          29.105999999999767,
          30.04699999999957,
          30.161000000000058,
          30.771999999999935,
          30.993000000000393,
          31.185999999999694,
          31.527000000000044,
          32.34700000000066,
          33.14799999999923,
          34.297999999999774,
          35.766999999999825,
          37.340000000000146,
          37.949000000000524,
          39.607999999999265,
          22.511999999999716,
          25.359999999999673,
          28.211999999999534,
          31.154999999999745,
          37.32899999999972,
          67.81999999999971,
          68.54600000000028,
          69.48599999999988,
          70.14300000000003,
          70.9980000000005,
          72.16299999999956,
          73.26100000000042,
          76.2489999999998,
          76.86799999999948,
          78.03300000000036,
          79.33600000000024,
          80.29599999999937,
          83.22200000000066,
          84.30299999999988,
          86.97800000000007,
          88.79199999999946,
          90.28200000000015,
          92.10999999999967,
          93.72400000000016,
          95.71199999999953,
          99.64300000000003,
          101.07699999999932,
          102.51000000000022,
          104.125,
          105.74699999999939,
          107.09499999999935,
          108.3680000000004,
          109.875,
          112.15899999999965,
          113.46199999999953
         ],
         "yaxis": "y"
        },
        {
         "hovertemplate": "Driver=BOT<br>LapNumber=%{x}<br>GapToWinner=%{y}<extra></extra>",
         "legendgroup": "BOT",
         "line": {
          "color": "#00e700",
          "dash": "solid"
         },
         "marker": {
          "symbol": "circle"
         },
         "mode": "lines",
         "name": "BOT",
         "showlegend": true,
         "type": "scattergl",
         "x": [
          2,
          3,
          4,
          5,
          6,
          7,
          8,
          9,
          10,
          11,
          12,
          13,
          14,
          17,
          18,
          19,
          20,
          21,
          22,
          23,
          24,
          25,
          26,
          27,
          28,
          29,
          30,
          31,
          32,
          35,
          36,
          37,
          38,
          39,
          40,
          41,
          42,
          45,
          46,
          47,
          48,
          49,
          50,
          51,
          52,
          53,
          54,
          55,
          56,
          57,
          58,
          59,
          60,
          61,
          62,
          63,
          64,
          65,
          66,
          67,
          68,
          69,
          70
         ],
         "xaxis": "x",
         "y": [
          6.885999999999967,
          9.009999999999764,
          9.550000000000182,
          10.13299999999981,
          10.48700000000008,
          10.971999999999753,
          11.51700000000028,
          12.445999999999913,
          13.511000000000422,
          14.529999999999745,
          15.907999999999447,
          17.396999999999935,
          19.01800000000003,
          44.67399999999998,
          44.57999999999993,
          44.646999999999935,
          45.21399999999994,
          45.527000000000044,
          45.374000000000706,
          45.332000000000335,
          45.1279999999997,
          45.61200000000008,
          46.34900000000016,
          47.224999999999454,
          48.514000000000124,
          49.69999999999982,
          50.64499999999953,
          51.22700000000077,
          52.85399999999936,
          36.29899999999998,
          39.86899999999969,
          42.72099999999955,
          45.72199999999975,
          48.547999999999774,
          51.08300000000054,
          54.05400000000009,
          58.310999999999694,
          87.14100000000053,
          88.69600000000082,
          91.7529999999997,
          92.7430000000004,
          93.95499999999993,
          94.97800000000007,
          96.26599999999962,
          97.57999999999993,
          98.59699999999975,
          99.66100000000006,
          100.65999999999985,
          103.4320000000007,
          106.80699999999979,
          107.80400000000009,
          108.97699999999986,
          110.625,
          111.94700000000012,
          113.70999999999913,
          115.1180000000004,
          116.54700000000048,
          117.72899999999936,
          119.5689999999995,
          120.98300000000017,
          122.60000000000036,
          124.80099999999948,
          125.9930000000004
         ],
         "yaxis": "y"
        },
        {
         "hovertemplate": "Driver=ZHO<br>LapNumber=%{x}<br>GapToWinner=%{y}<extra></extra>",
         "legendgroup": "ZHO",
         "line": {
          "color": "#00e700",
          "dash": "solid"
         },
         "marker": {
          "symbol": "circle"
         },
         "mode": "lines",
         "name": "ZHO",
         "showlegend": true,
         "type": "scattergl",
         "x": [
          2,
          3,
          4,
          5,
          6,
          7,
          8,
          9,
          10,
          11,
          12,
          13,
          14,
          15,
          16,
          17,
          20,
          21,
          22,
          23,
          24,
          25,
          26,
          27,
          28,
          29,
          30,
          31,
          32,
          35,
          36,
          37,
          38,
          39,
          40,
          41,
          42,
          43,
          44,
          45,
          46,
          47,
          48,
          49,
          50,
          53,
          54,
          55,
          56,
          57,
          58,
          59,
          60,
          61,
          62,
          63,
          64,
          65,
          66,
          67,
          68,
          69,
          70
         ],
         "xaxis": "x",
         "y": [
          10.075000000000273,
          12.014000000000124,
          13.44399999999996,
          14.849999999999909,
          16.302999999999884,
          17.68100000000004,
          19.58600000000024,
          20.797999999999774,
          22.4399999999996,
          23.773999999999432,
          25.425000000000182,
          26.740999999999985,
          28.726000000000568,
          30.29699999999957,
          32.146999999999935,
          33.99299999999948,
          60.823999999999614,
          61.00500000000011,
          60.884000000000015,
          61.45600000000013,
          61.10099999999966,
          61.470000000000255,
          61.80799999999999,
          64.0609999999997,
          64.68499999999949,
          65.76599999999962,
          66.53999999999996,
          67.92600000000039,
          68.80299999999988,
          51.52400000000034,
          55.577000000000226,
          58.84199999999964,
          62.13500000000022,
          66.67299999999977,
          69.83400000000074,
          74.41300000000047,
          78.09000000000015,
          84.60800000000017,
          88.21099999999933,
          92.61000000000058,
          95.8690000000006,
          98.14900000000034,
          100.23300000000017,
          101.88400000000001,
          103.90999999999985,
          134.41499999999996,
          135.17300000000068,
          135.67100000000028,
          136.63200000000052,
          137.96399999999994,
          139.3050000000003,
          140.61200000000008,
          143.26199999999972,
          144.64899999999943,
          146.07300000000032,
          146.97899999999936,
          151.38700000000063,
          152.37099999999919,
          153.46899999999914,
          154.21799999999894,
          157.19800000000032,
          157.97999999999956,
          158.7639999999992
         ],
         "yaxis": "y"
        }
       ],
       "layout": {
        "legend": {
         "title": {
          "text": "Driver"
         },
         "tracegroupgap": 0
        },
        "template": {
         "data": {
          "bar": [
           {
            "error_x": {
             "color": "#f2f5fa"
            },
            "error_y": {
             "color": "#f2f5fa"
            },
            "marker": {
             "line": {
              "color": "rgb(17,17,17)",
              "width": 0.5
             },
             "pattern": {
              "fillmode": "overlay",
              "size": 10,
              "solidity": 0.2
             }
            },
            "type": "bar"
           }
          ],
          "barpolar": [
           {
            "marker": {
             "line": {
              "color": "rgb(17,17,17)",
              "width": 0.5
             },
             "pattern": {
              "fillmode": "overlay",
              "size": 10,
              "solidity": 0.2
             }
            },
            "type": "barpolar"
           }
          ],
          "carpet": [
           {
            "aaxis": {
             "endlinecolor": "#A2B1C6",
             "gridcolor": "#506784",
             "linecolor": "#506784",
             "minorgridcolor": "#506784",
             "startlinecolor": "#A2B1C6"
            },
            "baxis": {
             "endlinecolor": "#A2B1C6",
             "gridcolor": "#506784",
             "linecolor": "#506784",
             "minorgridcolor": "#506784",
             "startlinecolor": "#A2B1C6"
            },
            "type": "carpet"
           }
          ],
          "choropleth": [
           {
            "colorbar": {
             "outlinewidth": 0,
             "ticks": ""
            },
            "type": "choropleth"
           }
          ],
          "contour": [
           {
            "colorbar": {
             "outlinewidth": 0,
             "ticks": ""
            },
            "colorscale": [
             [
              0,
              "#0d0887"
             ],
             [
              0.1111111111111111,
              "#46039f"
             ],
             [
              0.2222222222222222,
              "#7201a8"
             ],
             [
              0.3333333333333333,
              "#9c179e"
             ],
             [
              0.4444444444444444,
              "#bd3786"
             ],
             [
              0.5555555555555556,
              "#d8576b"
             ],
             [
              0.6666666666666666,
              "#ed7953"
             ],
             [
              0.7777777777777778,
              "#fb9f3a"
             ],
             [
              0.8888888888888888,
              "#fdca26"
             ],
             [
              1,
              "#f0f921"
             ]
            ],
            "type": "contour"
           }
          ],
          "contourcarpet": [
           {
            "colorbar": {
             "outlinewidth": 0,
             "ticks": ""
            },
            "type": "contourcarpet"
           }
          ],
          "heatmap": [
           {
            "colorbar": {
             "outlinewidth": 0,
             "ticks": ""
            },
            "colorscale": [
             [
              0,
              "#0d0887"
             ],
             [
              0.1111111111111111,
              "#46039f"
             ],
             [
              0.2222222222222222,
              "#7201a8"
             ],
             [
              0.3333333333333333,
              "#9c179e"
             ],
             [
              0.4444444444444444,
              "#bd3786"
             ],
             [
              0.5555555555555556,
              "#d8576b"
             ],
             [
              0.6666666666666666,
              "#ed7953"
             ],
             [
              0.7777777777777778,
              "#fb9f3a"
             ],
             [
              0.8888888888888888,
              "#fdca26"
             ],
             [
              1,
              "#f0f921"
             ]
            ],
            "type": "heatmap"
           }
          ],
          "heatmapgl": [
           {
            "colorbar": {
             "outlinewidth": 0,
             "ticks": ""
            },
            "colorscale": [
             [
              0,
              "#0d0887"
             ],
             [
              0.1111111111111111,
              "#46039f"
             ],
             [
              0.2222222222222222,
              "#7201a8"
             ],
             [
              0.3333333333333333,
              "#9c179e"
             ],
             [
              0.4444444444444444,
              "#bd3786"
             ],
             [
              0.5555555555555556,
              "#d8576b"
             ],
             [
              0.6666666666666666,
              "#ed7953"
             ],
             [
              0.7777777777777778,
              "#fb9f3a"
             ],
             [
              0.8888888888888888,
              "#fdca26"
             ],
             [
              1,
              "#f0f921"
             ]
            ],
            "type": "heatmapgl"
           }
          ],
          "histogram": [
           {
            "marker": {
             "pattern": {
              "fillmode": "overlay",
              "size": 10,
              "solidity": 0.2
             }
            },
            "type": "histogram"
           }
          ],
          "histogram2d": [
           {
            "colorbar": {
             "outlinewidth": 0,
             "ticks": ""
            },
            "colorscale": [
             [
              0,
              "#0d0887"
             ],
             [
              0.1111111111111111,
              "#46039f"
             ],
             [
              0.2222222222222222,
              "#7201a8"
             ],
             [
              0.3333333333333333,
              "#9c179e"
             ],
             [
              0.4444444444444444,
              "#bd3786"
             ],
             [
              0.5555555555555556,
              "#d8576b"
             ],
             [
              0.6666666666666666,
              "#ed7953"
             ],
             [
              0.7777777777777778,
              "#fb9f3a"
             ],
             [
              0.8888888888888888,
              "#fdca26"
             ],
             [
              1,
              "#f0f921"
             ]
            ],
            "type": "histogram2d"
           }
          ],
          "histogram2dcontour": [
           {
            "colorbar": {
             "outlinewidth": 0,
             "ticks": ""
            },
            "colorscale": [
             [
              0,
              "#0d0887"
             ],
             [
              0.1111111111111111,
              "#46039f"
             ],
             [
              0.2222222222222222,
              "#7201a8"
             ],
             [
              0.3333333333333333,
              "#9c179e"
             ],
             [
              0.4444444444444444,
              "#bd3786"
             ],
             [
              0.5555555555555556,
              "#d8576b"
             ],
             [
              0.6666666666666666,
              "#ed7953"
             ],
             [
              0.7777777777777778,
              "#fb9f3a"
             ],
             [
              0.8888888888888888,
              "#fdca26"
             ],
             [
              1,
              "#f0f921"
             ]
            ],
            "type": "histogram2dcontour"
           }
          ],
          "mesh3d": [
           {
            "colorbar": {
             "outlinewidth": 0,
             "ticks": ""
            },
            "type": "mesh3d"
           }
          ],
          "parcoords": [
           {
            "line": {
             "colorbar": {
              "outlinewidth": 0,
              "ticks": ""
             }
            },
            "type": "parcoords"
           }
          ],
          "pie": [
           {
            "automargin": true,
            "type": "pie"
           }
          ],
          "scatter": [
           {
            "marker": {
             "line": {
              "color": "#283442"
             }
            },
            "type": "scatter"
           }
          ],
          "scatter3d": [
           {
            "line": {
             "colorbar": {
              "outlinewidth": 0,
              "ticks": ""
             }
            },
            "marker": {
             "colorbar": {
              "outlinewidth": 0,
              "ticks": ""
             }
            },
            "type": "scatter3d"
           }
          ],
          "scattercarpet": [
           {
            "marker": {
             "colorbar": {
              "outlinewidth": 0,
              "ticks": ""
             }
            },
            "type": "scattercarpet"
           }
          ],
          "scattergeo": [
           {
            "marker": {
             "colorbar": {
              "outlinewidth": 0,
              "ticks": ""
             }
            },
            "type": "scattergeo"
           }
          ],
          "scattergl": [
           {
            "marker": {
             "line": {
              "color": "#283442"
             }
            },
            "type": "scattergl"
           }
          ],
          "scattermapbox": [
           {
            "marker": {
             "colorbar": {
              "outlinewidth": 0,
              "ticks": ""
             }
            },
            "type": "scattermapbox"
           }
          ],
          "scatterpolar": [
           {
            "marker": {
             "colorbar": {
              "outlinewidth": 0,
              "ticks": ""
             }
            },
            "type": "scatterpolar"
           }
          ],
          "scatterpolargl": [
           {
            "marker": {
             "colorbar": {
              "outlinewidth": 0,
              "ticks": ""
             }
            },
            "type": "scatterpolargl"
           }
          ],
          "scatterternary": [
           {
            "marker": {
             "colorbar": {
              "outlinewidth": 0,
              "ticks": ""
             }
            },
            "type": "scatterternary"
           }
          ],
          "surface": [
           {
            "colorbar": {
             "outlinewidth": 0,
             "ticks": ""
            },
            "colorscale": [
             [
              0,
              "#0d0887"
             ],
             [
              0.1111111111111111,
              "#46039f"
             ],
             [
              0.2222222222222222,
              "#7201a8"
             ],
             [
              0.3333333333333333,
              "#9c179e"
             ],
             [
              0.4444444444444444,
              "#bd3786"
             ],
             [
              0.5555555555555556,
              "#d8576b"
             ],
             [
              0.6666666666666666,
              "#ed7953"
             ],
             [
              0.7777777777777778,
              "#fb9f3a"
             ],
             [
              0.8888888888888888,
              "#fdca26"
             ],
             [
              1,
              "#f0f921"
             ]
            ],
            "type": "surface"
           }
          ],
          "table": [
           {
            "cells": {
             "fill": {
              "color": "#506784"
             },
             "line": {
              "color": "rgb(17,17,17)"
             }
            },
            "header": {
             "fill": {
              "color": "#2a3f5f"
             },
             "line": {
              "color": "rgb(17,17,17)"
             }
            },
            "type": "table"
           }
          ]
         },
         "layout": {
          "annotationdefaults": {
           "arrowcolor": "#f2f5fa",
           "arrowhead": 0,
           "arrowwidth": 1
          },
          "autotypenumbers": "strict",
          "coloraxis": {
           "colorbar": {
            "outlinewidth": 0,
            "ticks": ""
           }
          },
          "colorscale": {
           "diverging": [
            [
             0,
             "#8e0152"
            ],
            [
             0.1,
             "#c51b7d"
            ],
            [
             0.2,
             "#de77ae"
            ],
            [
             0.3,
             "#f1b6da"
            ],
            [
             0.4,
             "#fde0ef"
            ],
            [
             0.5,
             "#f7f7f7"
            ],
            [
             0.6,
             "#e6f5d0"
            ],
            [
             0.7,
             "#b8e186"
            ],
            [
             0.8,
             "#7fbc41"
            ],
            [
             0.9,
             "#4d9221"
            ],
            [
             1,
             "#276419"
            ]
           ],
           "sequential": [
            [
             0,
             "#0d0887"
            ],
            [
             0.1111111111111111,
             "#46039f"
            ],
            [
             0.2222222222222222,
             "#7201a8"
            ],
            [
             0.3333333333333333,
             "#9c179e"
            ],
            [
             0.4444444444444444,
             "#bd3786"
            ],
            [
             0.5555555555555556,
             "#d8576b"
            ],
            [
             0.6666666666666666,
             "#ed7953"
            ],
            [
             0.7777777777777778,
             "#fb9f3a"
            ],
            [
             0.8888888888888888,
             "#fdca26"
            ],
            [
             1,
             "#f0f921"
            ]
           ],
           "sequentialminus": [
            [
             0,
             "#0d0887"
            ],
            [
             0.1111111111111111,
             "#46039f"
            ],
            [
             0.2222222222222222,
             "#7201a8"
            ],
            [
             0.3333333333333333,
             "#9c179e"
            ],
            [
             0.4444444444444444,
             "#bd3786"
            ],
            [
             0.5555555555555556,
             "#d8576b"
            ],
            [
             0.6666666666666666,
             "#ed7953"
            ],
            [
             0.7777777777777778,
             "#fb9f3a"
            ],
            [
             0.8888888888888888,
             "#fdca26"
            ],
            [
             1,
             "#f0f921"
            ]
           ]
          },
          "colorway": [
           "#636efa",
           "#EF553B",
           "#00cc96",
           "#ab63fa",
           "#FFA15A",
           "#19d3f3",
           "#FF6692",
           "#B6E880",
           "#FF97FF",
           "#FECB52"
          ],
          "font": {
           "color": "#f2f5fa"
          },
          "geo": {
           "bgcolor": "rgb(17,17,17)",
           "lakecolor": "rgb(17,17,17)",
           "landcolor": "rgb(17,17,17)",
           "showlakes": true,
           "showland": true,
           "subunitcolor": "#506784"
          },
          "hoverlabel": {
           "align": "left"
          },
          "hovermode": "closest",
          "mapbox": {
           "style": "dark"
          },
          "paper_bgcolor": "rgb(17,17,17)",
          "plot_bgcolor": "rgb(17,17,17)",
          "polar": {
           "angularaxis": {
            "gridcolor": "#506784",
            "linecolor": "#506784",
            "ticks": ""
           },
           "bgcolor": "rgb(17,17,17)",
           "radialaxis": {
            "gridcolor": "#506784",
            "linecolor": "#506784",
            "ticks": ""
           }
          },
          "scene": {
           "xaxis": {
            "backgroundcolor": "rgb(17,17,17)",
            "gridcolor": "#506784",
            "gridwidth": 2,
            "linecolor": "#506784",
            "showbackground": true,
            "ticks": "",
            "zerolinecolor": "#C8D4E3"
           },
           "yaxis": {
            "backgroundcolor": "rgb(17,17,17)",
            "gridcolor": "#506784",
            "gridwidth": 2,
            "linecolor": "#506784",
            "showbackground": true,
            "ticks": "",
            "zerolinecolor": "#C8D4E3"
           },
           "zaxis": {
            "backgroundcolor": "rgb(17,17,17)",
            "gridcolor": "#506784",
            "gridwidth": 2,
            "linecolor": "#506784",
            "showbackground": true,
            "ticks": "",
            "zerolinecolor": "#C8D4E3"
           }
          },
          "shapedefaults": {
           "line": {
            "color": "#f2f5fa"
           }
          },
          "sliderdefaults": {
           "bgcolor": "#C8D4E3",
           "bordercolor": "rgb(17,17,17)",
           "borderwidth": 1,
           "tickwidth": 0
          },
          "ternary": {
           "aaxis": {
            "gridcolor": "#506784",
            "linecolor": "#506784",
            "ticks": ""
           },
           "baxis": {
            "gridcolor": "#506784",
            "linecolor": "#506784",
            "ticks": ""
           },
           "bgcolor": "rgb(17,17,17)",
           "caxis": {
            "gridcolor": "#506784",
            "linecolor": "#506784",
            "ticks": ""
           }
          },
          "title": {
           "x": 0.05
          },
          "updatemenudefaults": {
           "bgcolor": "#506784",
           "borderwidth": 0
          },
          "xaxis": {
           "automargin": true,
           "gridcolor": "#283442",
           "linecolor": "#506784",
           "ticks": "",
           "title": {
            "standoff": 15
           },
           "zerolinecolor": "#283442",
           "zerolinewidth": 2
          },
          "yaxis": {
           "automargin": true,
           "gridcolor": "#283442",
           "linecolor": "#506784",
           "ticks": "",
           "title": {
            "standoff": 15
           },
           "zerolinecolor": "#283442",
           "zerolinewidth": 2
          }
         }
        },
        "title": {
         "text": "Écart temporel au vainqueur par pilote"
        },
        "xaxis": {
         "anchor": "y",
         "domain": [
          0,
          1
         ],
         "title": {
          "text": "LapNumber"
         }
        },
        "yaxis": {
         "anchor": "x",
         "autorange": "reversed",
         "domain": [
          0,
          1
         ],
         "title": {
          "text": "GapToWinner"
         }
        }
       }
      }
     },
     "metadata": {},
     "output_type": "display_data"
    }
   ],
   "source": [
    "# gap to winner\n",
    "fig = px.line(driver_laps, x=\"LapNumber\", y=\"GapToWinner\", color=\"Driver\",\n",
    "              title=\"Écart temporel au vainqueur par pilote\",\n",
    "              template=\"plotly_dark\", color_discrete_map=driver_colors)\n",
    "fig.update_yaxes(autorange=\"reversed\")\n",
    "fig"
   ]
  },
  {
   "cell_type": "markdown",
   "metadata": {},
   "source": [
    "### Qualifying"
   ]
  },
  {
   "cell_type": "code",
   "execution_count": 39,
   "metadata": {},
   "outputs": [
    {
     "data": {
      "application/vnd.plotly.v1+json": {
       "config": {
        "plotlyServerURL": "https://plot.ly"
       },
       "data": [
        {
         "hovertemplate": "Driver=%{x}<br>LapTime=%{y}<extra></extra>",
         "legendgroup": "NOR",
         "marker": {
          "color": "#ff8000",
          "symbol": "circle"
         },
         "mode": "markers",
         "name": "NOR",
         "orientation": "v",
         "showlegend": true,
         "type": "scatter",
         "x": [
          "NOR"
         ],
         "xaxis": "x",
         "y": [
          69.673
         ],
         "yaxis": "y"
        },
        {
         "hovertemplate": "Driver=%{x}<br>LapTime=%{y}<extra></extra>",
         "legendgroup": "VER",
         "marker": {
          "color": "#0600ef",
          "symbol": "circle"
         },
         "mode": "markers",
         "name": "VER",
         "orientation": "v",
         "showlegend": true,
         "type": "scatter",
         "x": [
          "VER"
         ],
         "xaxis": "x",
         "y": [
          70.029
         ],
         "yaxis": "y"
        },
        {
         "hovertemplate": "Driver=%{x}<br>LapTime=%{y}<extra></extra>",
         "legendgroup": "PIA",
         "marker": {
          "color": "#ff8000",
          "symbol": "circle"
         },
         "mode": "markers",
         "name": "PIA",
         "orientation": "v",
         "showlegend": true,
         "type": "scatter",
         "x": [
          "PIA"
         ],
         "xaxis": "x",
         "y": [
          70.172
         ],
         "yaxis": "y"
        },
        {
         "hovertemplate": "Driver=%{x}<br>LapTime=%{y}<extra></extra>",
         "legendgroup": "RUS",
         "marker": {
          "color": "#27f4d2",
          "symbol": "circle"
         },
         "mode": "markers",
         "name": "RUS",
         "orientation": "v",
         "showlegend": true,
         "type": "scatter",
         "x": [
          "RUS"
         ],
         "xaxis": "x",
         "y": [
          70.244
         ],
         "yaxis": "y"
        },
        {
         "hovertemplate": "Driver=%{x}<br>LapTime=%{y}<extra></extra>",
         "legendgroup": "PER",
         "marker": {
          "color": "#0600ef",
          "symbol": "circle"
         },
         "mode": "markers",
         "name": "PER",
         "orientation": "v",
         "showlegend": true,
         "type": "scatter",
         "x": [
          "PER"
         ],
         "xaxis": "x",
         "y": [
          70.416
         ],
         "yaxis": "y"
        },
        {
         "hovertemplate": "Driver=%{x}<br>LapTime=%{y}<extra></extra>",
         "legendgroup": "LEC",
         "marker": {
          "color": "#e8002d",
          "symbol": "circle"
         },
         "mode": "markers",
         "name": "LEC",
         "orientation": "v",
         "showlegend": true,
         "type": "scatter",
         "x": [
          "LEC"
         ],
         "xaxis": "x",
         "y": [
          70.582
         ],
         "yaxis": "y"
        },
        {
         "hovertemplate": "Driver=%{x}<br>LapTime=%{y}<extra></extra>",
         "legendgroup": "ALO",
         "marker": {
          "color": "#00665f",
          "symbol": "circle"
         },
         "mode": "markers",
         "name": "ALO",
         "orientation": "v",
         "showlegend": true,
         "type": "scatter",
         "x": [
          "ALO"
         ],
         "xaxis": "x",
         "y": [
          70.633
         ],
         "yaxis": "y"
        },
        {
         "hovertemplate": "Driver=%{x}<br>LapTime=%{y}<extra></extra>",
         "legendgroup": "ALB",
         "marker": {
          "color": "#00a0dd",
          "symbol": "circle"
         },
         "mode": "markers",
         "name": "ALB",
         "orientation": "v",
         "showlegend": true,
         "type": "scatter",
         "x": [
          "ALB"
         ],
         "xaxis": "x",
         "y": [
          70.653
         ],
         "yaxis": "y"
        },
        {
         "hovertemplate": "Driver=%{x}<br>LapTime=%{y}<extra></extra>",
         "legendgroup": "STR",
         "marker": {
          "color": "#00665f",
          "symbol": "circle"
         },
         "mode": "markers",
         "name": "STR",
         "orientation": "v",
         "showlegend": true,
         "type": "scatter",
         "x": [
          "STR"
         ],
         "xaxis": "x",
         "y": [
          70.661
         ],
         "yaxis": "y"
        },
        {
         "hovertemplate": "Driver=%{x}<br>LapTime=%{y}<extra></extra>",
         "legendgroup": "GAS",
         "marker": {
          "color": "#ff87bc",
          "symbol": "circle"
         },
         "mode": "markers",
         "name": "GAS",
         "orientation": "v",
         "showlegend": true,
         "type": "scatter",
         "x": [
          "GAS"
         ],
         "xaxis": "x",
         "y": [
          70.815
         ],
         "yaxis": "y"
        },
        {
         "hovertemplate": "Driver=%{x}<br>LapTime=%{y}<extra></extra>",
         "legendgroup": "SAI",
         "marker": {
          "color": "#e8002d",
          "symbol": "circle"
         },
         "mode": "markers",
         "name": "SAI",
         "orientation": "v",
         "showlegend": true,
         "type": "scatter",
         "x": [
          "SAI"
         ],
         "xaxis": "x",
         "y": [
          70.914
         ],
         "yaxis": "y"
        },
        {
         "hovertemplate": "Driver=%{x}<br>LapTime=%{y}<extra></extra>",
         "legendgroup": "HAM",
         "marker": {
          "color": "#27f4d2",
          "symbol": "circle"
         },
         "mode": "markers",
         "name": "HAM",
         "orientation": "v",
         "showlegend": true,
         "type": "scatter",
         "x": [
          "HAM"
         ],
         "xaxis": "x",
         "y": [
          70.948
         ],
         "yaxis": "y"
        },
        {
         "hovertemplate": "Driver=%{x}<br>LapTime=%{y}<extra></extra>",
         "legendgroup": "TSU",
         "marker": {
          "color": "#364aa9",
          "symbol": "circle"
         },
         "mode": "markers",
         "name": "TSU",
         "orientation": "v",
         "showlegend": true,
         "type": "scatter",
         "x": [
          "TSU"
         ],
         "xaxis": "x",
         "y": [
          70.955
         ],
         "yaxis": "y"
        },
        {
         "hovertemplate": "Driver=%{x}<br>LapTime=%{y}<extra></extra>",
         "legendgroup": "HUL",
         "marker": {
          "color": "#b6babd",
          "symbol": "circle"
         },
         "mode": "markers",
         "name": "HUL",
         "orientation": "v",
         "showlegend": true,
         "type": "scatter",
         "x": [
          "HUL"
         ],
         "xaxis": "x",
         "y": [
          71.215
         ],
         "yaxis": "y"
        },
        {
         "hovertemplate": "Driver=%{x}<br>LapTime=%{y}<extra></extra>",
         "legendgroup": "MAG",
         "marker": {
          "color": "#b6babd",
          "symbol": "circle"
         },
         "mode": "markers",
         "name": "MAG",
         "orientation": "v",
         "showlegend": true,
         "type": "scatter",
         "x": [
          "MAG"
         ],
         "xaxis": "x",
         "y": [
          71.295
         ],
         "yaxis": "y"
        },
        {
         "hovertemplate": "Driver=%{x}<br>LapTime=%{y}<extra></extra>",
         "legendgroup": "RIC",
         "marker": {
          "color": "#364aa9",
          "symbol": "circle"
         },
         "mode": "markers",
         "name": "RIC",
         "orientation": "v",
         "showlegend": true,
         "type": "scatter",
         "x": [
          "RIC"
         ],
         "xaxis": "x",
         "y": [
          71.943
         ],
         "yaxis": "y"
        },
        {
         "hovertemplate": "Driver=%{x}<br>LapTime=%{y}<extra></extra>",
         "legendgroup": "OCO",
         "marker": {
          "color": "#ff87bc",
          "symbol": "circle"
         },
         "mode": "markers",
         "name": "OCO",
         "orientation": "v",
         "showlegend": true,
         "type": "scatter",
         "x": [
          "OCO"
         ],
         "xaxis": "x",
         "y": [
          71.995
         ],
         "yaxis": "y"
        },
        {
         "hovertemplate": "Driver=%{x}<br>LapTime=%{y}<extra></extra>",
         "legendgroup": "BOT",
         "marker": {
          "color": "#00e700",
          "symbol": "circle"
         },
         "mode": "markers",
         "name": "BOT",
         "orientation": "v",
         "showlegend": true,
         "type": "scatter",
         "x": [
          "BOT"
         ],
         "xaxis": "x",
         "y": [
          72.168
         ],
         "yaxis": "y"
        },
        {
         "hovertemplate": "Driver=%{x}<br>LapTime=%{y}<extra></extra>",
         "legendgroup": "ZHO",
         "marker": {
          "color": "#00e700",
          "symbol": "circle"
         },
         "mode": "markers",
         "name": "ZHO",
         "orientation": "v",
         "showlegend": true,
         "type": "scatter",
         "x": [
          "ZHO"
         ],
         "xaxis": "x",
         "y": [
          73.261
         ],
         "yaxis": "y"
        }
       ],
       "layout": {
        "annotations": [
         {
          "showarrow": false,
          "text": "107% rule",
          "x": 1,
          "xanchor": "right",
          "xref": "x domain",
          "y": 74.55011,
          "yanchor": "top",
          "yref": "y"
         },
         {
          "showarrow": false,
          "text": "eliminated in Q1",
          "x": 15,
          "xanchor": "left",
          "xref": "x",
          "y": 0,
          "yanchor": "bottom",
          "yref": "y domain"
         },
         {
          "showarrow": false,
          "text": "eliminated in Q2",
          "x": 10,
          "xanchor": "left",
          "xref": "x",
          "y": 0,
          "yanchor": "bottom",
          "yref": "y domain"
         }
        ],
        "legend": {
         "title": {
          "text": "Driver"
         },
         "tracegroupgap": 0
        },
        "shapes": [
         {
          "line": {
           "color": "red",
           "dash": "dot"
          },
          "type": "line",
          "x0": 0,
          "x1": 1,
          "xref": "x domain",
          "y0": 74.55011,
          "y1": 74.55011,
          "yref": "y"
         },
         {
          "line": {
           "color": "red",
           "dash": "dot"
          },
          "type": "line",
          "x0": 15,
          "x1": 15,
          "xref": "x",
          "y0": 0,
          "y1": 1,
          "yref": "y domain"
         },
         {
          "line": {
           "color": "red",
           "dash": "dot"
          },
          "type": "line",
          "x0": 10,
          "x1": 10,
          "xref": "x",
          "y0": 0,
          "y1": 1,
          "yref": "y domain"
         }
        ],
        "template": {
         "data": {
          "bar": [
           {
            "error_x": {
             "color": "#f2f5fa"
            },
            "error_y": {
             "color": "#f2f5fa"
            },
            "marker": {
             "line": {
              "color": "rgb(17,17,17)",
              "width": 0.5
             },
             "pattern": {
              "fillmode": "overlay",
              "size": 10,
              "solidity": 0.2
             }
            },
            "type": "bar"
           }
          ],
          "barpolar": [
           {
            "marker": {
             "line": {
              "color": "rgb(17,17,17)",
              "width": 0.5
             },
             "pattern": {
              "fillmode": "overlay",
              "size": 10,
              "solidity": 0.2
             }
            },
            "type": "barpolar"
           }
          ],
          "carpet": [
           {
            "aaxis": {
             "endlinecolor": "#A2B1C6",
             "gridcolor": "#506784",
             "linecolor": "#506784",
             "minorgridcolor": "#506784",
             "startlinecolor": "#A2B1C6"
            },
            "baxis": {
             "endlinecolor": "#A2B1C6",
             "gridcolor": "#506784",
             "linecolor": "#506784",
             "minorgridcolor": "#506784",
             "startlinecolor": "#A2B1C6"
            },
            "type": "carpet"
           }
          ],
          "choropleth": [
           {
            "colorbar": {
             "outlinewidth": 0,
             "ticks": ""
            },
            "type": "choropleth"
           }
          ],
          "contour": [
           {
            "colorbar": {
             "outlinewidth": 0,
             "ticks": ""
            },
            "colorscale": [
             [
              0,
              "#0d0887"
             ],
             [
              0.1111111111111111,
              "#46039f"
             ],
             [
              0.2222222222222222,
              "#7201a8"
             ],
             [
              0.3333333333333333,
              "#9c179e"
             ],
             [
              0.4444444444444444,
              "#bd3786"
             ],
             [
              0.5555555555555556,
              "#d8576b"
             ],
             [
              0.6666666666666666,
              "#ed7953"
             ],
             [
              0.7777777777777778,
              "#fb9f3a"
             ],
             [
              0.8888888888888888,
              "#fdca26"
             ],
             [
              1,
              "#f0f921"
             ]
            ],
            "type": "contour"
           }
          ],
          "contourcarpet": [
           {
            "colorbar": {
             "outlinewidth": 0,
             "ticks": ""
            },
            "type": "contourcarpet"
           }
          ],
          "heatmap": [
           {
            "colorbar": {
             "outlinewidth": 0,
             "ticks": ""
            },
            "colorscale": [
             [
              0,
              "#0d0887"
             ],
             [
              0.1111111111111111,
              "#46039f"
             ],
             [
              0.2222222222222222,
              "#7201a8"
             ],
             [
              0.3333333333333333,
              "#9c179e"
             ],
             [
              0.4444444444444444,
              "#bd3786"
             ],
             [
              0.5555555555555556,
              "#d8576b"
             ],
             [
              0.6666666666666666,
              "#ed7953"
             ],
             [
              0.7777777777777778,
              "#fb9f3a"
             ],
             [
              0.8888888888888888,
              "#fdca26"
             ],
             [
              1,
              "#f0f921"
             ]
            ],
            "type": "heatmap"
           }
          ],
          "heatmapgl": [
           {
            "colorbar": {
             "outlinewidth": 0,
             "ticks": ""
            },
            "colorscale": [
             [
              0,
              "#0d0887"
             ],
             [
              0.1111111111111111,
              "#46039f"
             ],
             [
              0.2222222222222222,
              "#7201a8"
             ],
             [
              0.3333333333333333,
              "#9c179e"
             ],
             [
              0.4444444444444444,
              "#bd3786"
             ],
             [
              0.5555555555555556,
              "#d8576b"
             ],
             [
              0.6666666666666666,
              "#ed7953"
             ],
             [
              0.7777777777777778,
              "#fb9f3a"
             ],
             [
              0.8888888888888888,
              "#fdca26"
             ],
             [
              1,
              "#f0f921"
             ]
            ],
            "type": "heatmapgl"
           }
          ],
          "histogram": [
           {
            "marker": {
             "pattern": {
              "fillmode": "overlay",
              "size": 10,
              "solidity": 0.2
             }
            },
            "type": "histogram"
           }
          ],
          "histogram2d": [
           {
            "colorbar": {
             "outlinewidth": 0,
             "ticks": ""
            },
            "colorscale": [
             [
              0,
              "#0d0887"
             ],
             [
              0.1111111111111111,
              "#46039f"
             ],
             [
              0.2222222222222222,
              "#7201a8"
             ],
             [
              0.3333333333333333,
              "#9c179e"
             ],
             [
              0.4444444444444444,
              "#bd3786"
             ],
             [
              0.5555555555555556,
              "#d8576b"
             ],
             [
              0.6666666666666666,
              "#ed7953"
             ],
             [
              0.7777777777777778,
              "#fb9f3a"
             ],
             [
              0.8888888888888888,
              "#fdca26"
             ],
             [
              1,
              "#f0f921"
             ]
            ],
            "type": "histogram2d"
           }
          ],
          "histogram2dcontour": [
           {
            "colorbar": {
             "outlinewidth": 0,
             "ticks": ""
            },
            "colorscale": [
             [
              0,
              "#0d0887"
             ],
             [
              0.1111111111111111,
              "#46039f"
             ],
             [
              0.2222222222222222,
              "#7201a8"
             ],
             [
              0.3333333333333333,
              "#9c179e"
             ],
             [
              0.4444444444444444,
              "#bd3786"
             ],
             [
              0.5555555555555556,
              "#d8576b"
             ],
             [
              0.6666666666666666,
              "#ed7953"
             ],
             [
              0.7777777777777778,
              "#fb9f3a"
             ],
             [
              0.8888888888888888,
              "#fdca26"
             ],
             [
              1,
              "#f0f921"
             ]
            ],
            "type": "histogram2dcontour"
           }
          ],
          "mesh3d": [
           {
            "colorbar": {
             "outlinewidth": 0,
             "ticks": ""
            },
            "type": "mesh3d"
           }
          ],
          "parcoords": [
           {
            "line": {
             "colorbar": {
              "outlinewidth": 0,
              "ticks": ""
             }
            },
            "type": "parcoords"
           }
          ],
          "pie": [
           {
            "automargin": true,
            "type": "pie"
           }
          ],
          "scatter": [
           {
            "marker": {
             "line": {
              "color": "#283442"
             }
            },
            "type": "scatter"
           }
          ],
          "scatter3d": [
           {
            "line": {
             "colorbar": {
              "outlinewidth": 0,
              "ticks": ""
             }
            },
            "marker": {
             "colorbar": {
              "outlinewidth": 0,
              "ticks": ""
             }
            },
            "type": "scatter3d"
           }
          ],
          "scattercarpet": [
           {
            "marker": {
             "colorbar": {
              "outlinewidth": 0,
              "ticks": ""
             }
            },
            "type": "scattercarpet"
           }
          ],
          "scattergeo": [
           {
            "marker": {
             "colorbar": {
              "outlinewidth": 0,
              "ticks": ""
             }
            },
            "type": "scattergeo"
           }
          ],
          "scattergl": [
           {
            "marker": {
             "line": {
              "color": "#283442"
             }
            },
            "type": "scattergl"
           }
          ],
          "scattermapbox": [
           {
            "marker": {
             "colorbar": {
              "outlinewidth": 0,
              "ticks": ""
             }
            },
            "type": "scattermapbox"
           }
          ],
          "scatterpolar": [
           {
            "marker": {
             "colorbar": {
              "outlinewidth": 0,
              "ticks": ""
             }
            },
            "type": "scatterpolar"
           }
          ],
          "scatterpolargl": [
           {
            "marker": {
             "colorbar": {
              "outlinewidth": 0,
              "ticks": ""
             }
            },
            "type": "scatterpolargl"
           }
          ],
          "scatterternary": [
           {
            "marker": {
             "colorbar": {
              "outlinewidth": 0,
              "ticks": ""
             }
            },
            "type": "scatterternary"
           }
          ],
          "surface": [
           {
            "colorbar": {
             "outlinewidth": 0,
             "ticks": ""
            },
            "colorscale": [
             [
              0,
              "#0d0887"
             ],
             [
              0.1111111111111111,
              "#46039f"
             ],
             [
              0.2222222222222222,
              "#7201a8"
             ],
             [
              0.3333333333333333,
              "#9c179e"
             ],
             [
              0.4444444444444444,
              "#bd3786"
             ],
             [
              0.5555555555555556,
              "#d8576b"
             ],
             [
              0.6666666666666666,
              "#ed7953"
             ],
             [
              0.7777777777777778,
              "#fb9f3a"
             ],
             [
              0.8888888888888888,
              "#fdca26"
             ],
             [
              1,
              "#f0f921"
             ]
            ],
            "type": "surface"
           }
          ],
          "table": [
           {
            "cells": {
             "fill": {
              "color": "#506784"
             },
             "line": {
              "color": "rgb(17,17,17)"
             }
            },
            "header": {
             "fill": {
              "color": "#2a3f5f"
             },
             "line": {
              "color": "rgb(17,17,17)"
             }
            },
            "type": "table"
           }
          ]
         },
         "layout": {
          "annotationdefaults": {
           "arrowcolor": "#f2f5fa",
           "arrowhead": 0,
           "arrowwidth": 1
          },
          "autotypenumbers": "strict",
          "coloraxis": {
           "colorbar": {
            "outlinewidth": 0,
            "ticks": ""
           }
          },
          "colorscale": {
           "diverging": [
            [
             0,
             "#8e0152"
            ],
            [
             0.1,
             "#c51b7d"
            ],
            [
             0.2,
             "#de77ae"
            ],
            [
             0.3,
             "#f1b6da"
            ],
            [
             0.4,
             "#fde0ef"
            ],
            [
             0.5,
             "#f7f7f7"
            ],
            [
             0.6,
             "#e6f5d0"
            ],
            [
             0.7,
             "#b8e186"
            ],
            [
             0.8,
             "#7fbc41"
            ],
            [
             0.9,
             "#4d9221"
            ],
            [
             1,
             "#276419"
            ]
           ],
           "sequential": [
            [
             0,
             "#0d0887"
            ],
            [
             0.1111111111111111,
             "#46039f"
            ],
            [
             0.2222222222222222,
             "#7201a8"
            ],
            [
             0.3333333333333333,
             "#9c179e"
            ],
            [
             0.4444444444444444,
             "#bd3786"
            ],
            [
             0.5555555555555556,
             "#d8576b"
            ],
            [
             0.6666666666666666,
             "#ed7953"
            ],
            [
             0.7777777777777778,
             "#fb9f3a"
            ],
            [
             0.8888888888888888,
             "#fdca26"
            ],
            [
             1,
             "#f0f921"
            ]
           ],
           "sequentialminus": [
            [
             0,
             "#0d0887"
            ],
            [
             0.1111111111111111,
             "#46039f"
            ],
            [
             0.2222222222222222,
             "#7201a8"
            ],
            [
             0.3333333333333333,
             "#9c179e"
            ],
            [
             0.4444444444444444,
             "#bd3786"
            ],
            [
             0.5555555555555556,
             "#d8576b"
            ],
            [
             0.6666666666666666,
             "#ed7953"
            ],
            [
             0.7777777777777778,
             "#fb9f3a"
            ],
            [
             0.8888888888888888,
             "#fdca26"
            ],
            [
             1,
             "#f0f921"
            ]
           ]
          },
          "colorway": [
           "#636efa",
           "#EF553B",
           "#00cc96",
           "#ab63fa",
           "#FFA15A",
           "#19d3f3",
           "#FF6692",
           "#B6E880",
           "#FF97FF",
           "#FECB52"
          ],
          "font": {
           "color": "#f2f5fa"
          },
          "geo": {
           "bgcolor": "rgb(17,17,17)",
           "lakecolor": "rgb(17,17,17)",
           "landcolor": "rgb(17,17,17)",
           "showlakes": true,
           "showland": true,
           "subunitcolor": "#506784"
          },
          "hoverlabel": {
           "align": "left"
          },
          "hovermode": "closest",
          "mapbox": {
           "style": "dark"
          },
          "paper_bgcolor": "rgb(17,17,17)",
          "plot_bgcolor": "rgb(17,17,17)",
          "polar": {
           "angularaxis": {
            "gridcolor": "#506784",
            "linecolor": "#506784",
            "ticks": ""
           },
           "bgcolor": "rgb(17,17,17)",
           "radialaxis": {
            "gridcolor": "#506784",
            "linecolor": "#506784",
            "ticks": ""
           }
          },
          "scene": {
           "xaxis": {
            "backgroundcolor": "rgb(17,17,17)",
            "gridcolor": "#506784",
            "gridwidth": 2,
            "linecolor": "#506784",
            "showbackground": true,
            "ticks": "",
            "zerolinecolor": "#C8D4E3"
           },
           "yaxis": {
            "backgroundcolor": "rgb(17,17,17)",
            "gridcolor": "#506784",
            "gridwidth": 2,
            "linecolor": "#506784",
            "showbackground": true,
            "ticks": "",
            "zerolinecolor": "#C8D4E3"
           },
           "zaxis": {
            "backgroundcolor": "rgb(17,17,17)",
            "gridcolor": "#506784",
            "gridwidth": 2,
            "linecolor": "#506784",
            "showbackground": true,
            "ticks": "",
            "zerolinecolor": "#C8D4E3"
           }
          },
          "shapedefaults": {
           "line": {
            "color": "#f2f5fa"
           }
          },
          "sliderdefaults": {
           "bgcolor": "#C8D4E3",
           "bordercolor": "rgb(17,17,17)",
           "borderwidth": 1,
           "tickwidth": 0
          },
          "ternary": {
           "aaxis": {
            "gridcolor": "#506784",
            "linecolor": "#506784",
            "ticks": ""
           },
           "baxis": {
            "gridcolor": "#506784",
            "linecolor": "#506784",
            "ticks": ""
           },
           "bgcolor": "rgb(17,17,17)",
           "caxis": {
            "gridcolor": "#506784",
            "linecolor": "#506784",
            "ticks": ""
           }
          },
          "title": {
           "x": 0.05
          },
          "updatemenudefaults": {
           "bgcolor": "#506784",
           "borderwidth": 0
          },
          "xaxis": {
           "automargin": true,
           "gridcolor": "#283442",
           "linecolor": "#506784",
           "ticks": "",
           "title": {
            "standoff": 15
           },
           "zerolinecolor": "#283442",
           "zerolinewidth": 2
          },
          "yaxis": {
           "automargin": true,
           "gridcolor": "#283442",
           "linecolor": "#506784",
           "ticks": "",
           "title": {
            "standoff": 15
           },
           "zerolinecolor": "#283442",
           "zerolinewidth": 2
          }
         }
        },
        "title": {
         "text": "Qualifying lap time delta to pole"
        },
        "xaxis": {
         "anchor": "y",
         "categoryarray": [
          "NOR",
          "VER",
          "PIA",
          "RUS",
          "PER",
          "LEC",
          "ALO",
          "ALB",
          "STR",
          "GAS",
          "SAI",
          "HAM",
          "TSU",
          "HUL",
          "MAG",
          "RIC",
          "OCO",
          "BOT",
          "ZHO"
         ],
         "categoryorder": "array",
         "domain": [
          0,
          1
         ],
         "title": {
          "text": "Driver"
         }
        },
        "yaxis": {
         "anchor": "x",
         "domain": [
          0,
          1
         ],
         "title": {
          "text": "LapTime"
         }
        }
       }
      }
     },
     "metadata": {},
     "output_type": "display_data"
    }
   ],
   "source": [
    "# qualifying time\n",
    "fig = px.scatter(fastest_laps, x=\"Driver\", y=\"LapTime\", title=\"Qualifying lap time delta to pole\", template=\"plotly_dark\", color=\"Driver\", color_discrete_map=driver_colors)\n",
    "\n",
    "# lines constants\n",
    "hundredsevenrule = pole_lap[\"LapTime\"] * 1.07\n",
    "hundredsevenrule = hundredsevenrule.total_seconds()\n",
    "q1toq2 = 15\n",
    "q2toq3 = 10\n",
    "\n",
    "# add lines\n",
    "fig.add_hline(y=hundredsevenrule, line_dash=\"dot\", line_color=\"red\", annotation_text=\"107% rule\", annotation_position=\"bottom right\") # 107% rule\n",
    "fig.add_vline(x=q1toq2, line_dash=\"dot\", line_color=\"red\", annotation_text=\"eliminated in Q1\", annotation_position=\"bottom right\") # Q1 to Q2\n",
    "fig.add_vline(x=q2toq3, line_dash=\"dot\", line_color=\"red\", annotation_text=\"eliminated in Q2\", annotation_position=\"bottom right\") # Q2 to Q3"
   ]
  },
  {
   "cell_type": "code",
   "execution_count": 40,
   "metadata": {},
   "outputs": [
    {
     "name": "stderr",
     "output_type": "stream",
     "text": [
      "C:\\Users\\Shayane\\AppData\\Local\\Temp\\ipykernel_13796\\966582036.py:2: FutureWarning:\n",
      "\n",
      "Series.__getitem__ treating keys as positions is deprecated. In a future version, integer keys will always be treated as labels (consistent with DataFrame behavior). To access a value by position, use `ser.iloc[pos]`\n",
      "\n"
     ]
    },
    {
     "data": {
      "application/vnd.plotly.v1+json": {
       "config": {
        "plotlyServerURL": "https://plot.ly"
       },
       "data": [
        {
         "hovertemplate": "Driver=NOR<br>X=%{x}<br>Y=%{y}<extra></extra>",
         "legendgroup": "NOR",
         "marker": {
          "color": "#ff8000",
          "symbol": "circle"
         },
         "mode": "markers",
         "name": "NOR",
         "orientation": "v",
         "showlegend": true,
         "type": "scatter",
         "x": [
          550.7642305330132,
          604.9189776980803,
          669.7338224756899,
          672,
          751.1323164893962,
          802,
          995,
          1017.5793439014886,
          1057,
          1115.202280177997,
          1152,
          1315,
          1341.5451677401925,
          1891,
          2098.267216750782,
          2107,
          2141.2642568006477,
          2273.0730479233844,
          2292,
          2273,
          2268.221842648669,
          2249.939309209401,
          2240,
          2215.405733677692,
          2181,
          2178.3507609518965,
          2137.0873013287955,
          2124,
          2070,
          2067.1808937048922,
          1854.5011188827325,
          1790,
          1788.3634905043557,
          1770,
          1769.2944547488546,
          1769,
          1791,
          1795.9191472979655,
          1802,
          1765,
          1728.2367953714327,
          1687,
          1633.8955896269315,
          1554,
          1471.9238959211064,
          1379,
          1276.4436491315969,
          1220.670237327955,
          1196,
          1159.0137531235698,
          1055.7663038463045,
          1044,
          781,
          773.4994124718326,
          807.4750841553674,
          832,
          1130,
          1155.8114378708312,
          1245.186787244654,
          1300,
          1347,
          1355.7338348092803,
          1507.75995158155,
          1536,
          1707.2075204316168,
          1756,
          1797.8521065996656,
          1811,
          1888.0990525525563,
          1992,
          2171,
          2184.041172575114,
          2258.385225230415,
          2295,
          2311.7510019421616,
          2450,
          2478.9767987663154,
          2653.6982828164287,
          2705,
          2774.1925064449624,
          2941.7198216869474,
          2984,
          3078.5379828347814,
          3198.9892703734554,
          3271,
          3397.004183058423,
          3476,
          3653.0983704565506,
          3786,
          3883.53684621489,
          3921,
          4154.016029968609,
          4224,
          4309.165765440658,
          4363,
          4449.681495026633,
          4581.166944871556,
          4625,
          4750.769923829616,
          4853,
          4986,
          5063.728728162805,
          5159,
          5240.620191325802,
          5326,
          5485.684428107788,
          5489,
          5640,
          5651.138798191178,
          5808,
          5847.219742497094,
          5966.390772860482,
          5983,
          6114.890176671238,
          6150,
          6291,
          6302.317537031403,
          6475,
          6536.336817565332,
          6634,
          6757,
          6799.0582047790085,
          6918,
          7054.332032242305,
          7078,
          7289.0156661712135,
          7479,
          7595.744756333474,
          7688,
          7832,
          7891.252642841744,
          7970,
          8011.307628992815,
          8087,
          8125.251010218244,
          8250,
          8305.05293350688,
          8395,
          8469.875234036494,
          8565,
          8628.861027318242,
          8643,
          8684,
          8691.623798860026,
          8703,
          8697.182767207356,
          8682,
          8644.759242842994,
          8575,
          8545.353255851256,
          8523,
          8472.8064729405,
          8437,
          8312.94108791502,
          8311,
          8241,
          8235.169825510042,
          8155,
          8071,
          8065.773198911484,
          7980.387070451779,
          7978,
          7894,
          7850.688909105575,
          7825.8768860098335,
          7820,
          7779.606455136602,
          7765,
          7713,
          7674.216848365466,
          7643,
          7577.788230874853,
          7525,
          7357.207507471817,
          7353,
          7158.0254958235655,
          7136,
          7067,
          7044.486593843141,
          6879,
          6827.762487367535,
          6641,
          6620.121164591218,
          6535,
          6452.9668071398855,
          6364,
          6314.3325189718835,
          6210.8879354450155,
          6207,
          6079,
          6010.177135281445,
          5984,
          5863.147546942062,
          5851,
          5792.482536867883,
          5774,
          5663.7529756730855,
          5662,
          5655,
          5590,
          5568.9566732734775,
          5556,
          5513.2859467165845,
          5513,
          5512,
          5516.519892626316,
          5525,
          5580,
          5583.752383856277,
          5617.395190254032,
          5644.275667259049,
          5649,
          5689.772916557347,
          5706,
          5721,
          5756.393821709336,
          5789,
          5904.039105030012,
          5912,
          5958,
          6006.623792779988,
          6098,
          6131.124119207501,
          6218,
          6275.576898044262,
          6358,
          6436.747532684348,
          6472,
          6525.824819688034,
          6594,
          6674.833466272294,
          6688,
          6862,
          6870.022685193262,
          6966,
          7024,
          7068.017877505743,
          7098,
          7191,
          7220.860020409501,
          7294.641241330793,
          7316,
          7363.987264298216,
          7380,
          7393.266027811914,
          7403,
          7421.081039765665,
          7428,
          7450,
          7455.254515263762,
          7458,
          7458.853814289319,
          7457,
          7442.697897906976,
          7424,
          7414.107482930938,
          7392,
          7371.497482036568,
          7306,
          7288.119960831561,
          7264,
          7183.024098519686,
          7107,
          7079.401916021256,
          7006,
          6937.477060475634,
          6836,
          6775.849335551056,
          6695.453398057387,
          6652,
          6584,
          6556.918661569696,
          6454.589454614362,
          6452,
          6347,
          6086,
          6076.418629880198,
          5953,
          5933.098705911046,
          5842,
          5587.872057623628,
          5584,
          5505.305140773075,
          5459.171936964291,
          5437,
          5332.153720724906,
          5207,
          5046.594087142266,
          4902,
          4873.5511482415695,
          4799.7594862954475,
          4761,
          4643.678490251323,
          4474,
          4337.441886531573,
          4173.255244150973,
          4140,
          4086.0728611367786,
          4037,
          3907.7713613670167,
          3769.107718416371,
          3749,
          3615,
          3502,
          3476.1381412763644,
          3348,
          3179,
          3167.4745579084984,
          3014.173783246266,
          2995,
          2861.277496212842,
          2828,
          2718.574163789831,
          2650,
          2569.1860370755962,
          2532,
          2489,
          2480.949424252662,
          2396.887384222519,
          2319,
          2288.091256979552,
          2227,
          2199.836761862114,
          1724,
          1702.8303158330982,
          1602.6175112088372,
          1586,
          1214.6312643256251,
          1253,
          1271.1634774080514,
          1283,
          1284.881063989472,
          1298,
          1310.3083895334973,
          1327,
          1339.2992635610208,
          1354,
          1358.2283703792723,
          1398.6334101124385,
          1401,
          1411.0107227298145,
          1424,
          1431.1379751723641,
          1456,
          1465.0750964677368,
          1485,
          1500.3001424010513,
          1513,
          1531.320432237519,
          1543,
          1548.7217049411688,
          1561,
          1571.8167034660607,
          1583,
          1595.3703786357285,
          1599,
          1598.6342091140473,
          1585,
          1579.1549382970065,
          1549.7995888633736,
          1510,
          1457,
          1428.9195992837192,
          1419,
          1329,
          1301.9456235877956,
          1182,
          1126.4740324232948,
          1075,
          978.7466395176165,
          951,
          801,
          776.2781006162234,
          566.2703897706662,
          551,
          465.7728298194891,
          423,
          326.32272908964654,
          242,
          218.86699757471771,
          150,
          61.04368485594316,
          45,
          -48.569905402419735,
          -139,
          -213.86859818134974,
          -244,
          -369.5074234309533,
          -420,
          -461.91135057812744,
          -538,
          -597.5196667662545,
          -700,
          -793.7169032457145,
          -845,
          -884,
          -935.6090792031601,
          -954,
          -991,
          -1005.2920562018184,
          -1014.0579914936019,
          -1013,
          -998,
          -983.3542613978499,
          -979,
          -932,
          -869.1090425719788,
          -766.8231103038099,
          -765,
          -715.0795915150571,
          -696,
          -620.8842158842558,
          -619,
          -559,
          -513.126002692995,
          -511,
          -426.0047382809881,
          -414,
          -364.8578366029733,
          -334,
          -319.9310893072111,
          -254,
          -231.7240131550024,
          -192,
          -116,
          -95.43758702498698,
          -31,
          -20.318465835644567,
          -6,
          102,
          116.76736427460443,
          159,
          256,
          295.99946389071727,
          313.24174732646406,
          322,
          393,
          422.9485723650673,
          474,
          485.1921661511423,
          524.3602095848178
         ],
         "xaxis": "x",
         "y": [
          3883.151079995143,
          4015.2113480116404,
          4173.462109205593,
          4179,
          4372.66069501069,
          4497,
          4969,
          5024.046518026005,
          5121,
          5266.084224741913,
          5358,
          5881,
          5974.603845232129,
          6703,
          6650.174263678131,
          6646,
          6624.866057507475,
          6401.854060299979,
          6326,
          6071,
          6044.348764729514,
          5979.724374464884,
          5951,
          5878.459834265997,
          5778,
          5770.474929936556,
          5658.759370382413,
          5626,
          5498,
          5491.468684987697,
          5000.904396933445,
          4781,
          4773.55097233587,
          4611,
          4590.231227415157,
          4530,
          4242,
          4187.746843196924,
          4060,
          3832,
          3761.185730589958,
          3702,
          3642.785008902664,
          3587,
          3543.065436353359,
          3498,
          3454.1992695208264,
          3436.388457842347,
          3428,
          3414.8583818699835,
          3376.355294623068,
          3372,
          3233,
          3227.7964979313647,
          2651.606229221721,
          2634,
          2595,
          2599.9118130502497,
          2623.706762675437,
          2640,
          2654,
          2656.6300495131813,
          2703.145194241211,
          2712,
          2777.6342308250323,
          2796,
          2811.2315689476336,
          2816,
          2844.3997120929466,
          2879,
          2935,
          2939.0070789162387,
          2960.2605172367494,
          2968,
          2971.684898223098,
          3000,
          3004.669044876292,
          3026.175153897626,
          3031,
          3036.1909719756554,
          3038.5107268664224,
          3037,
          3031.6620507163534,
          3021.764971808589,
          3014,
          2995.2106309659366,
          2981,
          2947.6306233068694,
          2922,
          2903.023938184617,
          2897,
          2864.705404750679,
          2857,
          2851.927648924015,
          2852,
          2853.7299559600488,
          2865.2592625041534,
          2873,
          2902.044630307674,
          2930,
          2980,
          3015.490557401462,
          3062,
          3106.631663628107,
          3157,
          3254.9525549010123,
          3257,
          3348,
          3354.2916627821505,
          3438,
          3457.1789240039134,
          3506.194177570939,
          3512,
          3552.9004572616004,
          3562,
          3590,
          3591.7212938888797,
          3611,
          3615.6012505405106,
          3621,
          3625,
          3625.9645174299235,
          3628,
          3628.2007137699593,
          3628,
          3624.917760752683,
          3621,
          3617.084073831121,
          3609,
          3592,
          3581.800399700487,
          3564,
          3552.3630141573767,
          3526,
          3509.6269996585343,
          3443,
          3408.253440153215,
          3330,
          3242.7524816480654,
          3119,
          3004.4341645609366,
          2958,
          2819,
          2774.44176385853,
          2554,
          2445.089702972832,
          2386,
          2272.924115360147,
          2088,
          2029.8564438040846,
          1997,
          1916.6226007086532,
          1859,
          1664.0762279648238,
          1661,
          1549,
          1539.643292627584,
          1410,
          1268,
          1258.9602715569695,
          1099.9081386003902,
          1095,
          916,
          820.4014613610306,
          761.7153438224383,
          748,
          654.6713497549295,
          622,
          512,
          436.14201915966373,
          383,
          295.1501297017915,
          236,
          131.28361989998484,
          130,
          81.82063502394591,
          77,
          70,
          69.45128586698893,
          66,
          68.42230004913097,
          85,
          87.26333594900638,
          101,
          118.05654948592091,
          139,
          152.51502348824076,
          185.61972829499695,
          187,
          238,
          270.58260264345176,
          284,
          354.8410699952012,
          363,
          405.9662909110324,
          421,
          523.4930458820415,
          525,
          531,
          611,
          643.0625190626828,
          665,
          780.2594068132405,
          782,
          864,
          886.2045043907067,
          909,
          1007,
          1013.0391304032975,
          1059.9762073277736,
          1083.6387347936873,
          1088,
          1126.0688788481275,
          1140,
          1152,
          1180.3178956056545,
          1203,
          1271.425441296079,
          1276,
          1299,
          1318.7988879724408,
          1355,
          1367.280260531883,
          1390,
          1403.0099233195047,
          1421,
          1434.3222916736968,
          1438,
          1444.666520252339,
          1454,
          1466.7352136135235,
          1469,
          1504,
          1505.892286021001,
          1531,
          1549,
          1563.9911448319865,
          1575,
          1615,
          1630.5263273877554,
          1676.993454338517,
          1694,
          1741.8022017506064,
          1760,
          1778.2405998645077,
          1799,
          1836.2555531935568,
          1852,
          1924,
          1955.7875079542862,
          1984,
          2007.9679738557177,
          2038,
          2112.636300443449,
          2187,
          2221.409227185982,
          2253,
          2280.588007602904,
          2367,
          2389.693907510658,
          2404,
          2448.9056420105944,
          2491,
          2507.399135649408,
          2521,
          2534.3402158506724,
          2554,
          2564.6824856928365,
          2573.955692896828,
          2580,
          2589,
          2592.54996982746,
          2605.6838064487383,
          2606,
          2618,
          2638,
          2638.365364175995,
          2641,
          2641.1622707471042,
          2640,
          2626.242139746436,
          2626,
          2620.5675269317626,
          2615.512878562374,
          2613,
          2601.0171257024035,
          2584,
          2555.828028124288,
          2527,
          2521.1010966156064,
          2503.9344791927956,
          2494,
          2463.354942364907,
          2417,
          2375.8168187930796,
          2320.484804596027,
          2309,
          2290.0710942115907,
          2272,
          2222.8238991304506,
          2171.1531691509754,
          2164,
          2119,
          2084,
          2076.2611090110713,
          2038,
          1983,
          1979.1650576696873,
          1926.9506829321417,
          1920,
          1868.4220765817288,
          1855,
          1809.46406080206,
          1780,
          1744.323485772262,
          1727,
          1706,
          1702.0156144045088,
          1659.8053035745284,
          1621,
          1606.150814089418,
          1579,
          1568.5845642614172,
          1767,
          1776.087602204348,
          1794.7903134975272,
          1795,
          1334.28065432363,
          1104,
          1001.1611788214078,
          936,
          925.4326456227901,
          849,
          777.8402585844314,
          682,
          611.7236172411656,
          528,
          503.95732872221936,
          274.49491282342143,
          261,
          203.63233626237835,
          128,
          86.26644814360034,
          -59,
          -111.63987564693282,
          -225,
          -310.83727148080857,
          -382,
          -485.28388011084155,
          -554,
          -587.9350108393353,
          -661,
          -725.701908881493,
          -795,
          -881.1722906124724,
          -924,
          -1053.9778491764625,
          -1183,
          -1212.6046285053758,
          -1293.060806299897,
          -1357,
          -1427,
          -1456.679627864658,
          -1466,
          -1531,
          -1545.5707673875695,
          -1589,
          -1598.7609708275766,
          -1604,
          -1607.217859936729,
          -1607,
          -1600,
          -1598.673837971984,
          -1587.8358215037379,
          -1587,
          -1581.766307975758,
          -1578,
          -1567.30247970954,
          -1555,
          -1550.9575775422886,
          -1537,
          -1514.4824316368392,
          -1510,
          -1480.63920960682,
          -1447,
          -1417.1523521324975,
          -1404,
          -1339.0695322949755,
          -1309,
          -1282.2900521257238,
          -1225,
          -1172.2643921022766,
          -1074,
          -966.291698917704,
          -883,
          -818,
          -712.5722432400069,
          -667,
          -552,
          -480.6849951052674,
          -296.6407309145336,
          -277,
          -150,
          -75.77191458784306,
          -57,
          94,
          248.13103498938023,
          484.67333534690863,
          489,
          619.1462366725823,
          671,
          864.1769892678514,
          869,
          1023,
          1141.4859079565297,
          1147,
          1367.833903933649,
          1399,
          1525.9882927867075,
          1605,
          1641.4469362812767,
          1813,
          1871.2405671827603,
          1975,
          2172,
          2225.083578210598,
          2392,
          2420.1904581833496,
          2458,
          2737,
          2775.681803445727,
          2886,
          3135,
          3237.7395202041857,
          3283.1826203521236,
          3306,
          3490,
          3567.0924040373893,
          3696,
          3723.5479640973554,
          3818.287498296084
         ],
         "yaxis": "y"
        },
        {
         "hovertemplate": "Driver=VER<br>X=%{x}<br>Y=%{y}<extra></extra>",
         "legendgroup": "VER",
         "marker": {
          "color": "#0600ef",
          "symbol": "circle"
         },
         "mode": "markers",
         "name": "VER",
         "orientation": "v",
         "showlegend": true,
         "type": "scatter",
         "x": [
          833.0970511142705,
          870.8773327951141,
          878,
          937.3800883365059,
          1187.7352567039252,
          1207,
          1216.7054876253092,
          1371.1595028508218,
          1372,
          1405,
          1420.4847483045562,
          1451,
          1454.0593870453847,
          1496,
          1526.0400766543523,
          1551,
          1565.2537662057468,
          1613,
          1687,
          1691.710279552396,
          1760,
          1788.0173789213832,
          1924.5509459506352,
          1980,
          2008.5038323502035,
          2177,
          2179.811205484276,
          2207,
          2234.8535693529757,
          2255,
          2300.616361851621,
          2296,
          2022,
          2011.9310644137659,
          1951.9218477670765,
          1937,
          1878,
          1775.4950548718664,
          1799.898512739752,
          1780,
          938.3130026705561,
          909,
          706,
          695.2797622283686,
          668,
          662.389016506563,
          644,
          644.9440613933724,
          648,
          661.1423718269224,
          664,
          692,
          702.070623448264,
          921.3791967456443,
          923,
          984.4725840653807,
          1014,
          1601.050473160692,
          1639,
          6746,
          6284.016792949236,
          6179,
          2123,
          2065.91083427178,
          2035,
          1953.7700601722424,
          1952,
          1894.724704279464,
          1873,
          1840.4762214786572,
          1801,
          1562.1740713062104,
          1489.098025494191,
          1482,
          1471,
          1424.6893863555615,
          1408,
          1370,
          1331.880170636135,
          1311,
          1286.4391045073055,
          1269,
          1240,
          1238.1282365618306,
          1221.1332913341882,
          1219,
          1206.0685952740682,
          1206,
          1209,
          1223,
          1231.2642126764952
         ],
         "xaxis": "x",
         "y": [
          4572.641392997295,
          4664.583775835295,
          4682,
          4827.728981054063,
          5447.343030668676,
          5512,
          5544.90947738413,
          6085.068414717382,
          6088,
          6199,
          6246.6833881323155,
          6330,
          6337.557020245043,
          6429,
          6481.08002270856,
          6517,
          6535.4918066565515,
          6588,
          6644,
          6646.935487093591,
          6679,
          6686.335460168476,
          6705.859217493788,
          6694,
          6684.463933034498,
          6583,
          6579.510145837707,
          6545,
          6505.327161979338,
          6461,
          6269.692030757918,
          6229,
          5390,
          5367.888407874902,
          5235.044271107976,
          5201,
          5062,
          4417.574229982386,
          4017.794620067395,
          3876,
          3329.7205809844786,
          3314,
          3150,
          3130.6958003055342,
          3077,
          3062.39474790325,
          2949,
          2908.780605283375,
          2882,
          2828.2602060293925,
          2819,
          2756,
          2743.0758800541316,
          2599.3269149698663,
          2599,
          2587.513585048906,
          2585,
          2735.2092721811528,
          2751,
          2567,
          2624.332756107407,
          2633,
          1547,
          1543.4118662637163,
          1551,
          1593.8327452024778,
          1595,
          1645.0487445206697,
          1667,
          1697.1877699331337,
          1726,
          1794.50036609803,
          1787.168317430954,
          1786,
          1784,
          1769.898842287515,
          1763,
          1744,
          1719.2765508849807,
          1702,
          1676.6944992081078,
          1655,
          1609,
          1605.1905252369493,
          1561.8547755377826,
          1555,
          1478.924610964292,
          1477,
          1382,
          1286,
          1235.9644471047227
         ],
         "yaxis": "y"
        }
       ],
       "layout": {
        "legend": {
         "title": {
          "text": "Driver"
         },
         "tracegroupgap": 0
        },
        "template": {
         "data": {
          "bar": [
           {
            "error_x": {
             "color": "#f2f5fa"
            },
            "error_y": {
             "color": "#f2f5fa"
            },
            "marker": {
             "line": {
              "color": "rgb(17,17,17)",
              "width": 0.5
             },
             "pattern": {
              "fillmode": "overlay",
              "size": 10,
              "solidity": 0.2
             }
            },
            "type": "bar"
           }
          ],
          "barpolar": [
           {
            "marker": {
             "line": {
              "color": "rgb(17,17,17)",
              "width": 0.5
             },
             "pattern": {
              "fillmode": "overlay",
              "size": 10,
              "solidity": 0.2
             }
            },
            "type": "barpolar"
           }
          ],
          "carpet": [
           {
            "aaxis": {
             "endlinecolor": "#A2B1C6",
             "gridcolor": "#506784",
             "linecolor": "#506784",
             "minorgridcolor": "#506784",
             "startlinecolor": "#A2B1C6"
            },
            "baxis": {
             "endlinecolor": "#A2B1C6",
             "gridcolor": "#506784",
             "linecolor": "#506784",
             "minorgridcolor": "#506784",
             "startlinecolor": "#A2B1C6"
            },
            "type": "carpet"
           }
          ],
          "choropleth": [
           {
            "colorbar": {
             "outlinewidth": 0,
             "ticks": ""
            },
            "type": "choropleth"
           }
          ],
          "contour": [
           {
            "colorbar": {
             "outlinewidth": 0,
             "ticks": ""
            },
            "colorscale": [
             [
              0,
              "#0d0887"
             ],
             [
              0.1111111111111111,
              "#46039f"
             ],
             [
              0.2222222222222222,
              "#7201a8"
             ],
             [
              0.3333333333333333,
              "#9c179e"
             ],
             [
              0.4444444444444444,
              "#bd3786"
             ],
             [
              0.5555555555555556,
              "#d8576b"
             ],
             [
              0.6666666666666666,
              "#ed7953"
             ],
             [
              0.7777777777777778,
              "#fb9f3a"
             ],
             [
              0.8888888888888888,
              "#fdca26"
             ],
             [
              1,
              "#f0f921"
             ]
            ],
            "type": "contour"
           }
          ],
          "contourcarpet": [
           {
            "colorbar": {
             "outlinewidth": 0,
             "ticks": ""
            },
            "type": "contourcarpet"
           }
          ],
          "heatmap": [
           {
            "colorbar": {
             "outlinewidth": 0,
             "ticks": ""
            },
            "colorscale": [
             [
              0,
              "#0d0887"
             ],
             [
              0.1111111111111111,
              "#46039f"
             ],
             [
              0.2222222222222222,
              "#7201a8"
             ],
             [
              0.3333333333333333,
              "#9c179e"
             ],
             [
              0.4444444444444444,
              "#bd3786"
             ],
             [
              0.5555555555555556,
              "#d8576b"
             ],
             [
              0.6666666666666666,
              "#ed7953"
             ],
             [
              0.7777777777777778,
              "#fb9f3a"
             ],
             [
              0.8888888888888888,
              "#fdca26"
             ],
             [
              1,
              "#f0f921"
             ]
            ],
            "type": "heatmap"
           }
          ],
          "heatmapgl": [
           {
            "colorbar": {
             "outlinewidth": 0,
             "ticks": ""
            },
            "colorscale": [
             [
              0,
              "#0d0887"
             ],
             [
              0.1111111111111111,
              "#46039f"
             ],
             [
              0.2222222222222222,
              "#7201a8"
             ],
             [
              0.3333333333333333,
              "#9c179e"
             ],
             [
              0.4444444444444444,
              "#bd3786"
             ],
             [
              0.5555555555555556,
              "#d8576b"
             ],
             [
              0.6666666666666666,
              "#ed7953"
             ],
             [
              0.7777777777777778,
              "#fb9f3a"
             ],
             [
              0.8888888888888888,
              "#fdca26"
             ],
             [
              1,
              "#f0f921"
             ]
            ],
            "type": "heatmapgl"
           }
          ],
          "histogram": [
           {
            "marker": {
             "pattern": {
              "fillmode": "overlay",
              "size": 10,
              "solidity": 0.2
             }
            },
            "type": "histogram"
           }
          ],
          "histogram2d": [
           {
            "colorbar": {
             "outlinewidth": 0,
             "ticks": ""
            },
            "colorscale": [
             [
              0,
              "#0d0887"
             ],
             [
              0.1111111111111111,
              "#46039f"
             ],
             [
              0.2222222222222222,
              "#7201a8"
             ],
             [
              0.3333333333333333,
              "#9c179e"
             ],
             [
              0.4444444444444444,
              "#bd3786"
             ],
             [
              0.5555555555555556,
              "#d8576b"
             ],
             [
              0.6666666666666666,
              "#ed7953"
             ],
             [
              0.7777777777777778,
              "#fb9f3a"
             ],
             [
              0.8888888888888888,
              "#fdca26"
             ],
             [
              1,
              "#f0f921"
             ]
            ],
            "type": "histogram2d"
           }
          ],
          "histogram2dcontour": [
           {
            "colorbar": {
             "outlinewidth": 0,
             "ticks": ""
            },
            "colorscale": [
             [
              0,
              "#0d0887"
             ],
             [
              0.1111111111111111,
              "#46039f"
             ],
             [
              0.2222222222222222,
              "#7201a8"
             ],
             [
              0.3333333333333333,
              "#9c179e"
             ],
             [
              0.4444444444444444,
              "#bd3786"
             ],
             [
              0.5555555555555556,
              "#d8576b"
             ],
             [
              0.6666666666666666,
              "#ed7953"
             ],
             [
              0.7777777777777778,
              "#fb9f3a"
             ],
             [
              0.8888888888888888,
              "#fdca26"
             ],
             [
              1,
              "#f0f921"
             ]
            ],
            "type": "histogram2dcontour"
           }
          ],
          "mesh3d": [
           {
            "colorbar": {
             "outlinewidth": 0,
             "ticks": ""
            },
            "type": "mesh3d"
           }
          ],
          "parcoords": [
           {
            "line": {
             "colorbar": {
              "outlinewidth": 0,
              "ticks": ""
             }
            },
            "type": "parcoords"
           }
          ],
          "pie": [
           {
            "automargin": true,
            "type": "pie"
           }
          ],
          "scatter": [
           {
            "marker": {
             "line": {
              "color": "#283442"
             }
            },
            "type": "scatter"
           }
          ],
          "scatter3d": [
           {
            "line": {
             "colorbar": {
              "outlinewidth": 0,
              "ticks": ""
             }
            },
            "marker": {
             "colorbar": {
              "outlinewidth": 0,
              "ticks": ""
             }
            },
            "type": "scatter3d"
           }
          ],
          "scattercarpet": [
           {
            "marker": {
             "colorbar": {
              "outlinewidth": 0,
              "ticks": ""
             }
            },
            "type": "scattercarpet"
           }
          ],
          "scattergeo": [
           {
            "marker": {
             "colorbar": {
              "outlinewidth": 0,
              "ticks": ""
             }
            },
            "type": "scattergeo"
           }
          ],
          "scattergl": [
           {
            "marker": {
             "line": {
              "color": "#283442"
             }
            },
            "type": "scattergl"
           }
          ],
          "scattermapbox": [
           {
            "marker": {
             "colorbar": {
              "outlinewidth": 0,
              "ticks": ""
             }
            },
            "type": "scattermapbox"
           }
          ],
          "scatterpolar": [
           {
            "marker": {
             "colorbar": {
              "outlinewidth": 0,
              "ticks": ""
             }
            },
            "type": "scatterpolar"
           }
          ],
          "scatterpolargl": [
           {
            "marker": {
             "colorbar": {
              "outlinewidth": 0,
              "ticks": ""
             }
            },
            "type": "scatterpolargl"
           }
          ],
          "scatterternary": [
           {
            "marker": {
             "colorbar": {
              "outlinewidth": 0,
              "ticks": ""
             }
            },
            "type": "scatterternary"
           }
          ],
          "surface": [
           {
            "colorbar": {
             "outlinewidth": 0,
             "ticks": ""
            },
            "colorscale": [
             [
              0,
              "#0d0887"
             ],
             [
              0.1111111111111111,
              "#46039f"
             ],
             [
              0.2222222222222222,
              "#7201a8"
             ],
             [
              0.3333333333333333,
              "#9c179e"
             ],
             [
              0.4444444444444444,
              "#bd3786"
             ],
             [
              0.5555555555555556,
              "#d8576b"
             ],
             [
              0.6666666666666666,
              "#ed7953"
             ],
             [
              0.7777777777777778,
              "#fb9f3a"
             ],
             [
              0.8888888888888888,
              "#fdca26"
             ],
             [
              1,
              "#f0f921"
             ]
            ],
            "type": "surface"
           }
          ],
          "table": [
           {
            "cells": {
             "fill": {
              "color": "#506784"
             },
             "line": {
              "color": "rgb(17,17,17)"
             }
            },
            "header": {
             "fill": {
              "color": "#2a3f5f"
             },
             "line": {
              "color": "rgb(17,17,17)"
             }
            },
            "type": "table"
           }
          ]
         },
         "layout": {
          "annotationdefaults": {
           "arrowcolor": "#f2f5fa",
           "arrowhead": 0,
           "arrowwidth": 1
          },
          "autotypenumbers": "strict",
          "coloraxis": {
           "colorbar": {
            "outlinewidth": 0,
            "ticks": ""
           }
          },
          "colorscale": {
           "diverging": [
            [
             0,
             "#8e0152"
            ],
            [
             0.1,
             "#c51b7d"
            ],
            [
             0.2,
             "#de77ae"
            ],
            [
             0.3,
             "#f1b6da"
            ],
            [
             0.4,
             "#fde0ef"
            ],
            [
             0.5,
             "#f7f7f7"
            ],
            [
             0.6,
             "#e6f5d0"
            ],
            [
             0.7,
             "#b8e186"
            ],
            [
             0.8,
             "#7fbc41"
            ],
            [
             0.9,
             "#4d9221"
            ],
            [
             1,
             "#276419"
            ]
           ],
           "sequential": [
            [
             0,
             "#0d0887"
            ],
            [
             0.1111111111111111,
             "#46039f"
            ],
            [
             0.2222222222222222,
             "#7201a8"
            ],
            [
             0.3333333333333333,
             "#9c179e"
            ],
            [
             0.4444444444444444,
             "#bd3786"
            ],
            [
             0.5555555555555556,
             "#d8576b"
            ],
            [
             0.6666666666666666,
             "#ed7953"
            ],
            [
             0.7777777777777778,
             "#fb9f3a"
            ],
            [
             0.8888888888888888,
             "#fdca26"
            ],
            [
             1,
             "#f0f921"
            ]
           ],
           "sequentialminus": [
            [
             0,
             "#0d0887"
            ],
            [
             0.1111111111111111,
             "#46039f"
            ],
            [
             0.2222222222222222,
             "#7201a8"
            ],
            [
             0.3333333333333333,
             "#9c179e"
            ],
            [
             0.4444444444444444,
             "#bd3786"
            ],
            [
             0.5555555555555556,
             "#d8576b"
            ],
            [
             0.6666666666666666,
             "#ed7953"
            ],
            [
             0.7777777777777778,
             "#fb9f3a"
            ],
            [
             0.8888888888888888,
             "#fdca26"
            ],
            [
             1,
             "#f0f921"
            ]
           ]
          },
          "colorway": [
           "#636efa",
           "#EF553B",
           "#00cc96",
           "#ab63fa",
           "#FFA15A",
           "#19d3f3",
           "#FF6692",
           "#B6E880",
           "#FF97FF",
           "#FECB52"
          ],
          "font": {
           "color": "#f2f5fa"
          },
          "geo": {
           "bgcolor": "rgb(17,17,17)",
           "lakecolor": "rgb(17,17,17)",
           "landcolor": "rgb(17,17,17)",
           "showlakes": true,
           "showland": true,
           "subunitcolor": "#506784"
          },
          "hoverlabel": {
           "align": "left"
          },
          "hovermode": "closest",
          "mapbox": {
           "style": "dark"
          },
          "paper_bgcolor": "rgb(17,17,17)",
          "plot_bgcolor": "rgb(17,17,17)",
          "polar": {
           "angularaxis": {
            "gridcolor": "#506784",
            "linecolor": "#506784",
            "ticks": ""
           },
           "bgcolor": "rgb(17,17,17)",
           "radialaxis": {
            "gridcolor": "#506784",
            "linecolor": "#506784",
            "ticks": ""
           }
          },
          "scene": {
           "xaxis": {
            "backgroundcolor": "rgb(17,17,17)",
            "gridcolor": "#506784",
            "gridwidth": 2,
            "linecolor": "#506784",
            "showbackground": true,
            "ticks": "",
            "zerolinecolor": "#C8D4E3"
           },
           "yaxis": {
            "backgroundcolor": "rgb(17,17,17)",
            "gridcolor": "#506784",
            "gridwidth": 2,
            "linecolor": "#506784",
            "showbackground": true,
            "ticks": "",
            "zerolinecolor": "#C8D4E3"
           },
           "zaxis": {
            "backgroundcolor": "rgb(17,17,17)",
            "gridcolor": "#506784",
            "gridwidth": 2,
            "linecolor": "#506784",
            "showbackground": true,
            "ticks": "",
            "zerolinecolor": "#C8D4E3"
           }
          },
          "shapedefaults": {
           "line": {
            "color": "#f2f5fa"
           }
          },
          "sliderdefaults": {
           "bgcolor": "#C8D4E3",
           "bordercolor": "rgb(17,17,17)",
           "borderwidth": 1,
           "tickwidth": 0
          },
          "ternary": {
           "aaxis": {
            "gridcolor": "#506784",
            "linecolor": "#506784",
            "ticks": ""
           },
           "baxis": {
            "gridcolor": "#506784",
            "linecolor": "#506784",
            "ticks": ""
           },
           "bgcolor": "rgb(17,17,17)",
           "caxis": {
            "gridcolor": "#506784",
            "linecolor": "#506784",
            "ticks": ""
           }
          },
          "title": {
           "x": 0.05
          },
          "updatemenudefaults": {
           "bgcolor": "#506784",
           "borderwidth": 0
          },
          "xaxis": {
           "automargin": true,
           "gridcolor": "#283442",
           "linecolor": "#506784",
           "ticks": "",
           "title": {
            "standoff": 15
           },
           "zerolinecolor": "#283442",
           "zerolinewidth": 2
          },
          "yaxis": {
           "automargin": true,
           "gridcolor": "#283442",
           "linecolor": "#506784",
           "ticks": "",
           "title": {
            "standoff": 15
           },
           "zerolinecolor": "#283442",
           "zerolinewidth": 2
          }
         }
        },
        "title": {
         "text": "NOR vs VER in qualy"
        },
        "xaxis": {
         "anchor": "y",
         "domain": [
          0,
          1
         ],
         "title": {
          "text": "X"
         }
        },
        "yaxis": {
         "anchor": "x",
         "domain": [
          0,
          1
         ],
         "title": {
          "text": "Y"
         }
        }
       }
      }
     },
     "metadata": {},
     "output_type": "display_data"
    }
   ],
   "source": [
    "# 2 fastest drivers of qualy comparison\n",
    "px.scatter(qualy2, x='X', y='Y', color='Driver', color_discrete_map=colormap, title=f\"{r1[\"Abbreviation\"][0]} vs {r2[\"Abbreviation\"][0]} in qualy\", template=\"plotly_dark\")"
   ]
  },
  {
   "cell_type": "markdown",
   "metadata": {},
   "source": [
    "## Global"
   ]
  },
  {
   "cell_type": "markdown",
   "metadata": {},
   "source": [
    "### General"
   ]
  },
  {
   "cell_type": "code",
   "execution_count": 41,
   "metadata": {},
   "outputs": [
    {
     "data": {
      "application/vnd.plotly.v1+json": {
       "config": {
        "plotlyServerURL": "https://plot.ly"
       },
       "data": [
        {
         "hovertemplate": "driver=BEA<br>raceIndex=%{x}<br>standing=%{y}<extra></extra>",
         "legendgroup": "BEA",
         "line": {
          "color": "#636efa",
          "dash": "solid"
         },
         "marker": {
          "symbol": "circle"
         },
         "mode": "lines+markers",
         "name": "BEA",
         "orientation": "v",
         "showlegend": true,
         "type": "scatter",
         "x": [
          10,
          9,
          8,
          7,
          6,
          5,
          4,
          3,
          2
         ],
         "xaxis": "x",
         "y": [
          6,
          6,
          6,
          6,
          6,
          6,
          6,
          6,
          6
         ],
         "yaxis": "y"
        },
        {
         "hovertemplate": "driver=SAR<br>raceIndex=%{x}<br>standing=%{y}<extra></extra>",
         "legendgroup": "SAR",
         "line": {
          "color": "#00a0dd",
          "dash": "solid"
         },
         "marker": {
          "symbol": "circle"
         },
         "mode": "lines+markers",
         "name": "SAR",
         "orientation": "v",
         "showlegend": true,
         "type": "scatter",
         "x": [
          10,
          9,
          8,
          7,
          6,
          5,
          4,
          3,
          2,
          1
         ],
         "xaxis": "x",
         "y": [
          0,
          0,
          0,
          0,
          0,
          0,
          0,
          0,
          0,
          0
         ],
         "yaxis": "y"
        },
        {
         "hovertemplate": "driver=ALB<br>raceIndex=%{x}<br>standing=%{y}<extra></extra>",
         "legendgroup": "ALB",
         "line": {
          "color": "#00a0dd",
          "dash": "solid"
         },
         "marker": {
          "symbol": "circle"
         },
         "mode": "lines+markers",
         "name": "ALB",
         "orientation": "v",
         "showlegend": true,
         "type": "scatter",
         "x": [
          10,
          9,
          8,
          7,
          6,
          5,
          4,
          3,
          2,
          1
         ],
         "xaxis": "x",
         "y": [
          2,
          2,
          2,
          0,
          0,
          0,
          0,
          0,
          0,
          0
         ],
         "yaxis": "y"
        },
        {
         "hovertemplate": "driver=RIC<br>raceIndex=%{x}<br>standing=%{y}<extra></extra>",
         "legendgroup": "RIC",
         "line": {
          "color": "#364aa9",
          "dash": "solid"
         },
         "marker": {
          "symbol": "circle"
         },
         "mode": "lines+markers",
         "name": "RIC",
         "orientation": "v",
         "showlegend": true,
         "type": "scatter",
         "x": [
          10,
          9,
          8,
          7,
          6,
          5,
          4,
          3,
          2,
          1
         ],
         "xaxis": "x",
         "y": [
          9,
          9,
          5,
          5,
          5,
          0,
          0,
          0,
          0,
          0
         ],
         "yaxis": "y"
        },
        {
         "hovertemplate": "driver=TSU<br>raceIndex=%{x}<br>standing=%{y}<extra></extra>",
         "legendgroup": "TSU",
         "line": {
          "color": "#364aa9",
          "dash": "solid"
         },
         "marker": {
          "symbol": "circle"
         },
         "mode": "lines+markers",
         "name": "TSU",
         "orientation": "v",
         "showlegend": true,
         "type": "scatter",
         "x": [
          10,
          9,
          8,
          7,
          6,
          5,
          4,
          3,
          2,
          1
         ],
         "xaxis": "x",
         "y": [
          19,
          19,
          19,
          15,
          14,
          7,
          7,
          6,
          0,
          0
         ],
         "yaxis": "y"
        },
        {
         "hovertemplate": "driver=MAG<br>raceIndex=%{x}<br>standing=%{y}<extra></extra>",
         "legendgroup": "MAG",
         "line": {
          "color": "#b6babd",
          "dash": "solid"
         },
         "marker": {
          "symbol": "circle"
         },
         "mode": "lines+markers",
         "name": "MAG",
         "orientation": "v",
         "showlegend": true,
         "type": "scatter",
         "x": [
          10,
          9,
          8,
          7,
          6,
          5,
          4,
          3,
          2,
          1
         ],
         "xaxis": "x",
         "y": [
          1,
          1,
          1,
          1,
          1,
          1,
          1,
          1,
          0,
          0
         ],
         "yaxis": "y"
        },
        {
         "hovertemplate": "driver=ZHO<br>raceIndex=%{x}<br>standing=%{y}<extra></extra>",
         "legendgroup": "ZHO",
         "line": {
          "color": "#00e700",
          "dash": "solid"
         },
         "marker": {
          "symbol": "circle"
         },
         "mode": "lines+markers",
         "name": "ZHO",
         "orientation": "v",
         "showlegend": true,
         "type": "scatter",
         "x": [
          10,
          9,
          8,
          7,
          6,
          5,
          4,
          3,
          2,
          1
         ],
         "xaxis": "x",
         "y": [
          0,
          0,
          0,
          0,
          0,
          0,
          0,
          0,
          0,
          0
         ],
         "yaxis": "y"
        },
        {
         "hovertemplate": "driver=STR<br>raceIndex=%{x}<br>standing=%{y}<extra></extra>",
         "legendgroup": "STR",
         "line": {
          "color": "#00665f",
          "dash": "solid"
         },
         "marker": {
          "symbol": "circle"
         },
         "mode": "lines+markers",
         "name": "STR",
         "orientation": "v",
         "showlegend": true,
         "type": "scatter",
         "x": [
          10,
          9,
          8,
          7,
          6,
          5,
          4,
          3,
          2,
          1
         ],
         "xaxis": "x",
         "y": [
          17,
          17,
          11,
          11,
          9,
          9,
          9,
          9,
          1,
          1
         ],
         "yaxis": "y"
        },
        {
         "hovertemplate": "driver=HUL<br>raceIndex=%{x}<br>standing=%{y}<extra></extra>",
         "legendgroup": "HUL",
         "line": {
          "color": "#b6babd",
          "dash": "solid"
         },
         "marker": {
          "symbol": "circle"
         },
         "mode": "lines+markers",
         "name": "HUL",
         "orientation": "v",
         "showlegend": true,
         "type": "scatter",
         "x": [
          10,
          9,
          8,
          7,
          6,
          5,
          4,
          3,
          2,
          1
         ],
         "xaxis": "x",
         "y": [
          6,
          6,
          6,
          6,
          6,
          4,
          3,
          3,
          1,
          0
         ],
         "yaxis": "y"
        },
        {
         "hovertemplate": "driver=BOT<br>raceIndex=%{x}<br>standing=%{y}<extra></extra>",
         "legendgroup": "BOT",
         "line": {
          "color": "#00e700",
          "dash": "solid"
         },
         "marker": {
          "symbol": "circle"
         },
         "mode": "lines+markers",
         "name": "BOT",
         "orientation": "v",
         "showlegend": true,
         "type": "scatter",
         "x": [
          10,
          9,
          8,
          7,
          6,
          5,
          4,
          3,
          2,
          1
         ],
         "xaxis": "x",
         "y": [
          0,
          0,
          0,
          0,
          0,
          0,
          0,
          0,
          0,
          0
         ],
         "yaxis": "y"
        },
        {
         "hovertemplate": "driver=ALO<br>raceIndex=%{x}<br>standing=%{y}<extra></extra>",
         "legendgroup": "ALO",
         "line": {
          "color": "#00665f",
          "dash": "solid"
         },
         "marker": {
          "symbol": "circle"
         },
         "mode": "lines+markers",
         "name": "ALO",
         "orientation": "v",
         "showlegend": true,
         "type": "scatter",
         "x": [
          10,
          9,
          8,
          7,
          6,
          5,
          4,
          3,
          2,
          1
         ],
         "xaxis": "x",
         "y": [
          41,
          41,
          33,
          33,
          33,
          31,
          24,
          16,
          12,
          2
         ],
         "yaxis": "y"
        },
        {
         "hovertemplate": "driver=PIA<br>raceIndex=%{x}<br>standing=%{y}<extra></extra>",
         "legendgroup": "PIA",
         "line": {
          "color": "#ff8000",
          "dash": "solid"
         },
         "marker": {
          "symbol": "circle"
         },
         "mode": "lines+markers",
         "name": "PIA",
         "orientation": "v",
         "showlegend": true,
         "type": "scatter",
         "x": [
          10,
          9,
          8,
          7,
          6,
          5,
          4,
          3,
          2,
          1
         ],
         "xaxis": "x",
         "y": [
          87,
          81,
          71,
          53,
          41,
          38,
          32,
          28,
          16,
          4
         ],
         "yaxis": "y"
        },
        {
         "hovertemplate": "driver=OCO<br>raceIndex=%{x}<br>standing=%{y}<extra></extra>",
         "legendgroup": "OCO",
         "line": {
          "color": "#ff87bc",
          "dash": "solid"
         },
         "marker": {
          "symbol": "circle"
         },
         "mode": "lines+markers",
         "name": "OCO",
         "orientation": "v",
         "showlegend": true,
         "type": "scatter",
         "x": [
          10,
          9,
          8,
          7,
          6,
          5,
          4,
          3,
          2,
          1
         ],
         "xaxis": "x",
         "y": [
          3,
          2,
          1,
          1,
          1,
          0,
          0,
          0,
          0,
          0
         ],
         "yaxis": "y"
        },
        {
         "hovertemplate": "driver=PER<br>raceIndex=%{x}<br>standing=%{y}<extra></extra>",
         "legendgroup": "PER",
         "line": {
          "color": "#0600ef",
          "dash": "solid"
         },
         "marker": {
          "symbol": "circle"
         },
         "mode": "lines+markers",
         "name": "PER",
         "orientation": "v",
         "showlegend": true,
         "type": "scatter",
         "x": [
          10,
          9,
          8,
          7,
          6,
          5,
          4,
          3,
          2,
          1
         ],
         "xaxis": "x",
         "y": [
          111,
          107,
          107,
          107,
          103,
          85,
          64,
          46,
          36,
          18
         ],
         "yaxis": "y"
        },
        {
         "hovertemplate": "driver=GAS<br>raceIndex=%{x}<br>standing=%{y}<extra></extra>",
         "legendgroup": "GAS",
         "line": {
          "color": "#ff87bc",
          "dash": "solid"
         },
         "marker": {
          "symbol": "circle"
         },
         "mode": "lines+markers",
         "name": "GAS",
         "orientation": "v",
         "showlegend": true,
         "type": "scatter",
         "x": [
          10,
          9,
          8,
          7,
          6,
          5,
          4,
          3,
          2,
          1
         ],
         "xaxis": "x",
         "y": [
          5,
          3,
          1,
          0,
          0,
          0,
          0,
          0,
          0,
          0
         ],
         "yaxis": "y"
        },
        {
         "hovertemplate": "driver=SAI<br>raceIndex=%{x}<br>standing=%{y}<extra></extra>",
         "legendgroup": "SAI",
         "line": {
          "color": "#e8002d",
          "dash": "solid"
         },
         "marker": {
          "symbol": "circle"
         },
         "mode": "lines+markers",
         "name": "SAI",
         "orientation": "v",
         "showlegend": true,
         "type": "scatter",
         "x": [
          10,
          9,
          8,
          7,
          6,
          5,
          4,
          3,
          2,
          1
         ],
         "xaxis": "x",
         "y": [
          116,
          108,
          108,
          93,
          83,
          69,
          55,
          40,
          15,
          15
         ],
         "yaxis": "y"
        },
        {
         "hovertemplate": "driver=LEC<br>raceIndex=%{x}<br>standing=%{y}<extra></extra>",
         "legendgroup": "LEC",
         "line": {
          "color": "#e8002d",
          "dash": "solid"
         },
         "marker": {
          "symbol": "circle"
         },
         "mode": "lines+markers",
         "name": "LEC",
         "orientation": "v",
         "showlegend": true,
         "type": "scatter",
         "x": [
          10,
          9,
          8,
          7,
          6,
          5,
          4,
          3,
          2,
          1
         ],
         "xaxis": "x",
         "y": [
          148,
          138,
          138,
          113,
          98,
          76,
          59,
          47,
          28,
          12
         ],
         "yaxis": "y"
        },
        {
         "hovertemplate": "driver=RUS<br>raceIndex=%{x}<br>standing=%{y}<extra></extra>",
         "legendgroup": "RUS",
         "line": {
          "color": "#27f4d2",
          "dash": "solid"
         },
         "marker": {
          "symbol": "circle"
         },
         "mode": "lines+markers",
         "name": "RUS",
         "orientation": "v",
         "showlegend": true,
         "type": "scatter",
         "x": [
          10,
          9,
          8,
          7,
          6,
          5,
          4,
          3,
          2,
          1
         ],
         "xaxis": "x",
         "y": [
          81,
          69,
          54,
          44,
          37,
          33,
          24,
          18,
          18,
          10
         ],
         "yaxis": "y"
        },
        {
         "hovertemplate": "driver=HAM<br>raceIndex=%{x}<br>standing=%{y}<extra></extra>",
         "legendgroup": "HAM",
         "line": {
          "color": "#27f4d2",
          "dash": "solid"
         },
         "marker": {
          "symbol": "circle"
         },
         "mode": "lines+markers",
         "name": "HAM",
         "orientation": "v",
         "showlegend": true,
         "type": "scatter",
         "x": [
          10,
          9,
          8,
          7,
          6,
          5,
          4,
          3,
          2,
          1
         ],
         "xaxis": "x",
         "y": [
          70,
          55,
          42,
          35,
          27,
          19,
          10,
          8,
          8,
          6
         ],
         "yaxis": "y"
        },
        {
         "hovertemplate": "driver=VER<br>raceIndex=%{x}<br>standing=%{y}<extra></extra>",
         "legendgroup": "VER",
         "line": {
          "color": "#0600ef",
          "dash": "solid"
         },
         "marker": {
          "symbol": "circle"
         },
         "mode": "lines+markers",
         "name": "VER",
         "orientation": "v",
         "showlegend": true,
         "type": "scatter",
         "x": [
          10,
          9,
          8,
          7,
          6,
          5,
          4,
          3,
          2,
          1
         ],
         "xaxis": "x",
         "y": [
          219,
          194,
          169,
          161,
          136,
          110,
          77,
          51,
          51,
          26
         ],
         "yaxis": "y"
        },
        {
         "hovertemplate": "driver=NOR<br>raceIndex=%{x}<br>standing=%{y}<extra></extra>",
         "legendgroup": "NOR",
         "line": {
          "color": "#ff8000",
          "dash": "solid"
         },
         "marker": {
          "symbol": "circle"
         },
         "mode": "lines+markers",
         "name": "NOR",
         "orientation": "v",
         "showlegend": true,
         "type": "scatter",
         "x": [
          10,
          9,
          8,
          7,
          6,
          5,
          4,
          3,
          2,
          1
         ],
         "xaxis": "x",
         "y": [
          150,
          131,
          113,
          101,
          83,
          58,
          37,
          27,
          12,
          8
         ],
         "yaxis": "y"
        }
       ],
       "layout": {
        "legend": {
         "title": {
          "text": "driver"
         },
         "tracegroupgap": 0
        },
        "template": {
         "data": {
          "bar": [
           {
            "error_x": {
             "color": "#f2f5fa"
            },
            "error_y": {
             "color": "#f2f5fa"
            },
            "marker": {
             "line": {
              "color": "rgb(17,17,17)",
              "width": 0.5
             },
             "pattern": {
              "fillmode": "overlay",
              "size": 10,
              "solidity": 0.2
             }
            },
            "type": "bar"
           }
          ],
          "barpolar": [
           {
            "marker": {
             "line": {
              "color": "rgb(17,17,17)",
              "width": 0.5
             },
             "pattern": {
              "fillmode": "overlay",
              "size": 10,
              "solidity": 0.2
             }
            },
            "type": "barpolar"
           }
          ],
          "carpet": [
           {
            "aaxis": {
             "endlinecolor": "#A2B1C6",
             "gridcolor": "#506784",
             "linecolor": "#506784",
             "minorgridcolor": "#506784",
             "startlinecolor": "#A2B1C6"
            },
            "baxis": {
             "endlinecolor": "#A2B1C6",
             "gridcolor": "#506784",
             "linecolor": "#506784",
             "minorgridcolor": "#506784",
             "startlinecolor": "#A2B1C6"
            },
            "type": "carpet"
           }
          ],
          "choropleth": [
           {
            "colorbar": {
             "outlinewidth": 0,
             "ticks": ""
            },
            "type": "choropleth"
           }
          ],
          "contour": [
           {
            "colorbar": {
             "outlinewidth": 0,
             "ticks": ""
            },
            "colorscale": [
             [
              0,
              "#0d0887"
             ],
             [
              0.1111111111111111,
              "#46039f"
             ],
             [
              0.2222222222222222,
              "#7201a8"
             ],
             [
              0.3333333333333333,
              "#9c179e"
             ],
             [
              0.4444444444444444,
              "#bd3786"
             ],
             [
              0.5555555555555556,
              "#d8576b"
             ],
             [
              0.6666666666666666,
              "#ed7953"
             ],
             [
              0.7777777777777778,
              "#fb9f3a"
             ],
             [
              0.8888888888888888,
              "#fdca26"
             ],
             [
              1,
              "#f0f921"
             ]
            ],
            "type": "contour"
           }
          ],
          "contourcarpet": [
           {
            "colorbar": {
             "outlinewidth": 0,
             "ticks": ""
            },
            "type": "contourcarpet"
           }
          ],
          "heatmap": [
           {
            "colorbar": {
             "outlinewidth": 0,
             "ticks": ""
            },
            "colorscale": [
             [
              0,
              "#0d0887"
             ],
             [
              0.1111111111111111,
              "#46039f"
             ],
             [
              0.2222222222222222,
              "#7201a8"
             ],
             [
              0.3333333333333333,
              "#9c179e"
             ],
             [
              0.4444444444444444,
              "#bd3786"
             ],
             [
              0.5555555555555556,
              "#d8576b"
             ],
             [
              0.6666666666666666,
              "#ed7953"
             ],
             [
              0.7777777777777778,
              "#fb9f3a"
             ],
             [
              0.8888888888888888,
              "#fdca26"
             ],
             [
              1,
              "#f0f921"
             ]
            ],
            "type": "heatmap"
           }
          ],
          "heatmapgl": [
           {
            "colorbar": {
             "outlinewidth": 0,
             "ticks": ""
            },
            "colorscale": [
             [
              0,
              "#0d0887"
             ],
             [
              0.1111111111111111,
              "#46039f"
             ],
             [
              0.2222222222222222,
              "#7201a8"
             ],
             [
              0.3333333333333333,
              "#9c179e"
             ],
             [
              0.4444444444444444,
              "#bd3786"
             ],
             [
              0.5555555555555556,
              "#d8576b"
             ],
             [
              0.6666666666666666,
              "#ed7953"
             ],
             [
              0.7777777777777778,
              "#fb9f3a"
             ],
             [
              0.8888888888888888,
              "#fdca26"
             ],
             [
              1,
              "#f0f921"
             ]
            ],
            "type": "heatmapgl"
           }
          ],
          "histogram": [
           {
            "marker": {
             "pattern": {
              "fillmode": "overlay",
              "size": 10,
              "solidity": 0.2
             }
            },
            "type": "histogram"
           }
          ],
          "histogram2d": [
           {
            "colorbar": {
             "outlinewidth": 0,
             "ticks": ""
            },
            "colorscale": [
             [
              0,
              "#0d0887"
             ],
             [
              0.1111111111111111,
              "#46039f"
             ],
             [
              0.2222222222222222,
              "#7201a8"
             ],
             [
              0.3333333333333333,
              "#9c179e"
             ],
             [
              0.4444444444444444,
              "#bd3786"
             ],
             [
              0.5555555555555556,
              "#d8576b"
             ],
             [
              0.6666666666666666,
              "#ed7953"
             ],
             [
              0.7777777777777778,
              "#fb9f3a"
             ],
             [
              0.8888888888888888,
              "#fdca26"
             ],
             [
              1,
              "#f0f921"
             ]
            ],
            "type": "histogram2d"
           }
          ],
          "histogram2dcontour": [
           {
            "colorbar": {
             "outlinewidth": 0,
             "ticks": ""
            },
            "colorscale": [
             [
              0,
              "#0d0887"
             ],
             [
              0.1111111111111111,
              "#46039f"
             ],
             [
              0.2222222222222222,
              "#7201a8"
             ],
             [
              0.3333333333333333,
              "#9c179e"
             ],
             [
              0.4444444444444444,
              "#bd3786"
             ],
             [
              0.5555555555555556,
              "#d8576b"
             ],
             [
              0.6666666666666666,
              "#ed7953"
             ],
             [
              0.7777777777777778,
              "#fb9f3a"
             ],
             [
              0.8888888888888888,
              "#fdca26"
             ],
             [
              1,
              "#f0f921"
             ]
            ],
            "type": "histogram2dcontour"
           }
          ],
          "mesh3d": [
           {
            "colorbar": {
             "outlinewidth": 0,
             "ticks": ""
            },
            "type": "mesh3d"
           }
          ],
          "parcoords": [
           {
            "line": {
             "colorbar": {
              "outlinewidth": 0,
              "ticks": ""
             }
            },
            "type": "parcoords"
           }
          ],
          "pie": [
           {
            "automargin": true,
            "type": "pie"
           }
          ],
          "scatter": [
           {
            "marker": {
             "line": {
              "color": "#283442"
             }
            },
            "type": "scatter"
           }
          ],
          "scatter3d": [
           {
            "line": {
             "colorbar": {
              "outlinewidth": 0,
              "ticks": ""
             }
            },
            "marker": {
             "colorbar": {
              "outlinewidth": 0,
              "ticks": ""
             }
            },
            "type": "scatter3d"
           }
          ],
          "scattercarpet": [
           {
            "marker": {
             "colorbar": {
              "outlinewidth": 0,
              "ticks": ""
             }
            },
            "type": "scattercarpet"
           }
          ],
          "scattergeo": [
           {
            "marker": {
             "colorbar": {
              "outlinewidth": 0,
              "ticks": ""
             }
            },
            "type": "scattergeo"
           }
          ],
          "scattergl": [
           {
            "marker": {
             "line": {
              "color": "#283442"
             }
            },
            "type": "scattergl"
           }
          ],
          "scattermapbox": [
           {
            "marker": {
             "colorbar": {
              "outlinewidth": 0,
              "ticks": ""
             }
            },
            "type": "scattermapbox"
           }
          ],
          "scatterpolar": [
           {
            "marker": {
             "colorbar": {
              "outlinewidth": 0,
              "ticks": ""
             }
            },
            "type": "scatterpolar"
           }
          ],
          "scatterpolargl": [
           {
            "marker": {
             "colorbar": {
              "outlinewidth": 0,
              "ticks": ""
             }
            },
            "type": "scatterpolargl"
           }
          ],
          "scatterternary": [
           {
            "marker": {
             "colorbar": {
              "outlinewidth": 0,
              "ticks": ""
             }
            },
            "type": "scatterternary"
           }
          ],
          "surface": [
           {
            "colorbar": {
             "outlinewidth": 0,
             "ticks": ""
            },
            "colorscale": [
             [
              0,
              "#0d0887"
             ],
             [
              0.1111111111111111,
              "#46039f"
             ],
             [
              0.2222222222222222,
              "#7201a8"
             ],
             [
              0.3333333333333333,
              "#9c179e"
             ],
             [
              0.4444444444444444,
              "#bd3786"
             ],
             [
              0.5555555555555556,
              "#d8576b"
             ],
             [
              0.6666666666666666,
              "#ed7953"
             ],
             [
              0.7777777777777778,
              "#fb9f3a"
             ],
             [
              0.8888888888888888,
              "#fdca26"
             ],
             [
              1,
              "#f0f921"
             ]
            ],
            "type": "surface"
           }
          ],
          "table": [
           {
            "cells": {
             "fill": {
              "color": "#506784"
             },
             "line": {
              "color": "rgb(17,17,17)"
             }
            },
            "header": {
             "fill": {
              "color": "#2a3f5f"
             },
             "line": {
              "color": "rgb(17,17,17)"
             }
            },
            "type": "table"
           }
          ]
         },
         "layout": {
          "annotationdefaults": {
           "arrowcolor": "#f2f5fa",
           "arrowhead": 0,
           "arrowwidth": 1
          },
          "autotypenumbers": "strict",
          "coloraxis": {
           "colorbar": {
            "outlinewidth": 0,
            "ticks": ""
           }
          },
          "colorscale": {
           "diverging": [
            [
             0,
             "#8e0152"
            ],
            [
             0.1,
             "#c51b7d"
            ],
            [
             0.2,
             "#de77ae"
            ],
            [
             0.3,
             "#f1b6da"
            ],
            [
             0.4,
             "#fde0ef"
            ],
            [
             0.5,
             "#f7f7f7"
            ],
            [
             0.6,
             "#e6f5d0"
            ],
            [
             0.7,
             "#b8e186"
            ],
            [
             0.8,
             "#7fbc41"
            ],
            [
             0.9,
             "#4d9221"
            ],
            [
             1,
             "#276419"
            ]
           ],
           "sequential": [
            [
             0,
             "#0d0887"
            ],
            [
             0.1111111111111111,
             "#46039f"
            ],
            [
             0.2222222222222222,
             "#7201a8"
            ],
            [
             0.3333333333333333,
             "#9c179e"
            ],
            [
             0.4444444444444444,
             "#bd3786"
            ],
            [
             0.5555555555555556,
             "#d8576b"
            ],
            [
             0.6666666666666666,
             "#ed7953"
            ],
            [
             0.7777777777777778,
             "#fb9f3a"
            ],
            [
             0.8888888888888888,
             "#fdca26"
            ],
            [
             1,
             "#f0f921"
            ]
           ],
           "sequentialminus": [
            [
             0,
             "#0d0887"
            ],
            [
             0.1111111111111111,
             "#46039f"
            ],
            [
             0.2222222222222222,
             "#7201a8"
            ],
            [
             0.3333333333333333,
             "#9c179e"
            ],
            [
             0.4444444444444444,
             "#bd3786"
            ],
            [
             0.5555555555555556,
             "#d8576b"
            ],
            [
             0.6666666666666666,
             "#ed7953"
            ],
            [
             0.7777777777777778,
             "#fb9f3a"
            ],
            [
             0.8888888888888888,
             "#fdca26"
            ],
            [
             1,
             "#f0f921"
            ]
           ]
          },
          "colorway": [
           "#636efa",
           "#EF553B",
           "#00cc96",
           "#ab63fa",
           "#FFA15A",
           "#19d3f3",
           "#FF6692",
           "#B6E880",
           "#FF97FF",
           "#FECB52"
          ],
          "font": {
           "color": "#f2f5fa"
          },
          "geo": {
           "bgcolor": "rgb(17,17,17)",
           "lakecolor": "rgb(17,17,17)",
           "landcolor": "rgb(17,17,17)",
           "showlakes": true,
           "showland": true,
           "subunitcolor": "#506784"
          },
          "hoverlabel": {
           "align": "left"
          },
          "hovermode": "closest",
          "mapbox": {
           "style": "dark"
          },
          "paper_bgcolor": "rgb(17,17,17)",
          "plot_bgcolor": "rgb(17,17,17)",
          "polar": {
           "angularaxis": {
            "gridcolor": "#506784",
            "linecolor": "#506784",
            "ticks": ""
           },
           "bgcolor": "rgb(17,17,17)",
           "radialaxis": {
            "gridcolor": "#506784",
            "linecolor": "#506784",
            "ticks": ""
           }
          },
          "scene": {
           "xaxis": {
            "backgroundcolor": "rgb(17,17,17)",
            "gridcolor": "#506784",
            "gridwidth": 2,
            "linecolor": "#506784",
            "showbackground": true,
            "ticks": "",
            "zerolinecolor": "#C8D4E3"
           },
           "yaxis": {
            "backgroundcolor": "rgb(17,17,17)",
            "gridcolor": "#506784",
            "gridwidth": 2,
            "linecolor": "#506784",
            "showbackground": true,
            "ticks": "",
            "zerolinecolor": "#C8D4E3"
           },
           "zaxis": {
            "backgroundcolor": "rgb(17,17,17)",
            "gridcolor": "#506784",
            "gridwidth": 2,
            "linecolor": "#506784",
            "showbackground": true,
            "ticks": "",
            "zerolinecolor": "#C8D4E3"
           }
          },
          "shapedefaults": {
           "line": {
            "color": "#f2f5fa"
           }
          },
          "sliderdefaults": {
           "bgcolor": "#C8D4E3",
           "bordercolor": "rgb(17,17,17)",
           "borderwidth": 1,
           "tickwidth": 0
          },
          "ternary": {
           "aaxis": {
            "gridcolor": "#506784",
            "linecolor": "#506784",
            "ticks": ""
           },
           "baxis": {
            "gridcolor": "#506784",
            "linecolor": "#506784",
            "ticks": ""
           },
           "bgcolor": "rgb(17,17,17)",
           "caxis": {
            "gridcolor": "#506784",
            "linecolor": "#506784",
            "ticks": ""
           }
          },
          "title": {
           "x": 0.05
          },
          "updatemenudefaults": {
           "bgcolor": "#506784",
           "borderwidth": 0
          },
          "xaxis": {
           "automargin": true,
           "gridcolor": "#283442",
           "linecolor": "#506784",
           "ticks": "",
           "title": {
            "standoff": 15
           },
           "zerolinecolor": "#283442",
           "zerolinewidth": 2
          },
          "yaxis": {
           "automargin": true,
           "gridcolor": "#283442",
           "linecolor": "#506784",
           "ticks": "",
           "title": {
            "standoff": 15
           },
           "zerolinecolor": "#283442",
           "zerolinewidth": 2
          }
         }
        },
        "title": {
         "text": "Driver standing"
        },
        "xaxis": {
         "anchor": "y",
         "domain": [
          0,
          1
         ],
         "title": {
          "text": "raceIndex"
         }
        },
        "yaxis": {
         "anchor": "x",
         "domain": [
          0,
          1
         ],
         "title": {
          "text": "standing"
         }
        }
       }
      }
     },
     "metadata": {},
     "output_type": "display_data"
    }
   ],
   "source": [
    "# driver standing\n",
    "px.line(global_df, x=\"raceIndex\", y=\"standing\", color=\"driver\", title=\"Driver standing\", template=\"plotly_dark\", markers=True, color_discrete_map=driver_colors)"
   ]
  },
  {
   "cell_type": "code",
   "execution_count": 43,
   "metadata": {},
   "outputs": [
    {
     "data": {
      "application/vnd.plotly.v1+json": {
       "config": {
        "plotlyServerURL": "https://plot.ly"
       },
       "data": [
        {
         "hovertemplate": "team=Alpine F1 Team<br>raceIndex=%{x}<br>standing=%{y}<extra></extra>",
         "legendgroup": "Alpine F1 Team",
         "line": {
          "color": "#636efa",
          "dash": "solid"
         },
         "marker": {
          "symbol": "circle"
         },
         "mode": "lines+markers",
         "name": "Alpine F1 Team",
         "orientation": "v",
         "showlegend": true,
         "type": "scatter",
         "x": [
          1,
          2,
          3,
          4,
          5,
          6,
          7,
          8,
          9,
          10
         ],
         "xaxis": "x",
         "y": [
          0,
          0,
          0,
          0,
          0,
          1,
          1,
          2,
          5,
          8
         ],
         "yaxis": "y"
        },
        {
         "hovertemplate": "team=Aston Martin<br>raceIndex=%{x}<br>standing=%{y}<extra></extra>",
         "legendgroup": "Aston Martin",
         "line": {
          "color": "#00665f",
          "dash": "solid"
         },
         "marker": {
          "symbol": "circle"
         },
         "mode": "lines+markers",
         "name": "Aston Martin",
         "orientation": "v",
         "showlegend": true,
         "type": "scatter",
         "x": [
          1,
          2,
          3,
          4,
          5,
          6,
          7,
          8,
          9,
          10
         ],
         "xaxis": "x",
         "y": [
          3,
          13,
          25,
          33,
          40,
          42,
          44,
          44,
          58,
          58
         ],
         "yaxis": "y"
        },
        {
         "hovertemplate": "team=Ferrari<br>raceIndex=%{x}<br>standing=%{y}<extra></extra>",
         "legendgroup": "Ferrari",
         "line": {
          "color": "#e8002d",
          "dash": "solid"
         },
         "marker": {
          "symbol": "circle"
         },
         "mode": "lines+markers",
         "name": "Ferrari",
         "orientation": "v",
         "showlegend": true,
         "type": "scatter",
         "x": [
          1,
          2,
          3,
          4,
          5,
          6,
          7,
          8,
          9,
          10
         ],
         "xaxis": "x",
         "y": [
          27,
          34,
          87,
          114,
          145,
          181,
          206,
          246,
          246,
          264
         ],
         "yaxis": "y"
        },
        {
         "hovertemplate": "team=Haas F1 Team<br>raceIndex=%{x}<br>standing=%{y}<extra></extra>",
         "legendgroup": "Haas F1 Team",
         "line": {
          "color": "#b6babd",
          "dash": "solid"
         },
         "marker": {
          "symbol": "circle"
         },
         "mode": "lines+markers",
         "name": "Haas F1 Team",
         "orientation": "v",
         "showlegend": true,
         "type": "scatter",
         "x": [
          1,
          2,
          3,
          4,
          5,
          6,
          7,
          8,
          9,
          10
         ],
         "xaxis": "x",
         "y": [
          0,
          1,
          4,
          4,
          5,
          7,
          7,
          7,
          7,
          7
         ],
         "yaxis": "y"
        },
        {
         "hovertemplate": "team=McLaren<br>raceIndex=%{x}<br>standing=%{y}<extra></extra>",
         "legendgroup": "McLaren",
         "line": {
          "color": "#ff8000",
          "dash": "solid"
         },
         "marker": {
          "symbol": "circle"
         },
         "mode": "lines+markers",
         "name": "McLaren",
         "orientation": "v",
         "showlegend": true,
         "type": "scatter",
         "x": [
          1,
          2,
          3,
          4,
          5,
          6,
          7,
          8,
          9,
          10
         ],
         "xaxis": "x",
         "y": [
          12,
          28,
          55,
          69,
          96,
          124,
          154,
          184,
          212,
          237
         ],
         "yaxis": "y"
        },
        {
         "hovertemplate": "team=Mercedes<br>raceIndex=%{x}<br>standing=%{y}<extra></extra>",
         "legendgroup": "Mercedes",
         "line": {
          "color": "#27f4d2",
          "dash": "solid"
         },
         "marker": {
          "symbol": "circle"
         },
         "mode": "lines+markers",
         "name": "Mercedes",
         "orientation": "v",
         "showlegend": true,
         "type": "scatter",
         "x": [
          1,
          2,
          3,
          4,
          5,
          6,
          7,
          8,
          9,
          10
         ],
         "xaxis": "x",
         "y": [
          16,
          26,
          26,
          34,
          52,
          64,
          79,
          96,
          124,
          151
         ],
         "yaxis": "y"
        },
        {
         "hovertemplate": "team=RB F1 Team<br>raceIndex=%{x}<br>standing=%{y}<extra></extra>",
         "legendgroup": "RB F1 Team",
         "line": {
          "color": "#EF553B",
          "dash": "solid"
         },
         "marker": {
          "symbol": "circle"
         },
         "mode": "lines+markers",
         "name": "RB F1 Team",
         "orientation": "v",
         "showlegend": true,
         "type": "scatter",
         "x": [
          1,
          2,
          3,
          4,
          5,
          6,
          7,
          8,
          9,
          10
         ],
         "xaxis": "x",
         "y": [
          0,
          0,
          6,
          7,
          7,
          19,
          20,
          24,
          28,
          28
         ],
         "yaxis": "y"
        },
        {
         "hovertemplate": "team=Red Bull<br>raceIndex=%{x}<br>standing=%{y}<extra></extra>",
         "legendgroup": "Red Bull",
         "line": {
          "color": "#00cc96",
          "dash": "solid"
         },
         "marker": {
          "symbol": "circle"
         },
         "mode": "lines+markers",
         "name": "Red Bull",
         "orientation": "v",
         "showlegend": true,
         "type": "scatter",
         "x": [
          1,
          2,
          3,
          4,
          5,
          6,
          7,
          8,
          9,
          10
         ],
         "xaxis": "x",
         "y": [
          44,
          87,
          97,
          141,
          195,
          239,
          268,
          276,
          301,
          330
         ],
         "yaxis": "y"
        },
        {
         "hovertemplate": "team=Sauber<br>raceIndex=%{x}<br>standing=%{y}<extra></extra>",
         "legendgroup": "Sauber",
         "line": {
          "color": "#ab63fa",
          "dash": "solid"
         },
         "marker": {
          "symbol": "circle"
         },
         "mode": "lines+markers",
         "name": "Sauber",
         "orientation": "v",
         "showlegend": true,
         "type": "scatter",
         "x": [
          1,
          2,
          3,
          4,
          5,
          6,
          7,
          8,
          9,
          10
         ],
         "xaxis": "x",
         "y": [
          0,
          0,
          0,
          0,
          0,
          0,
          0,
          0,
          0,
          0
         ],
         "yaxis": "y"
        },
        {
         "hovertemplate": "team=Williams<br>raceIndex=%{x}<br>standing=%{y}<extra></extra>",
         "legendgroup": "Williams",
         "line": {
          "color": "#00a0dd",
          "dash": "solid"
         },
         "marker": {
          "symbol": "circle"
         },
         "mode": "lines+markers",
         "name": "Williams",
         "orientation": "v",
         "showlegend": true,
         "type": "scatter",
         "x": [
          1,
          2,
          3,
          4,
          5,
          6,
          7,
          8,
          9,
          10
         ],
         "xaxis": "x",
         "y": [
          0,
          0,
          0,
          0,
          0,
          0,
          0,
          2,
          2,
          2
         ],
         "yaxis": "y"
        }
       ],
       "layout": {
        "legend": {
         "title": {
          "text": "team"
         },
         "tracegroupgap": 0
        },
        "template": {
         "data": {
          "bar": [
           {
            "error_x": {
             "color": "#f2f5fa"
            },
            "error_y": {
             "color": "#f2f5fa"
            },
            "marker": {
             "line": {
              "color": "rgb(17,17,17)",
              "width": 0.5
             },
             "pattern": {
              "fillmode": "overlay",
              "size": 10,
              "solidity": 0.2
             }
            },
            "type": "bar"
           }
          ],
          "barpolar": [
           {
            "marker": {
             "line": {
              "color": "rgb(17,17,17)",
              "width": 0.5
             },
             "pattern": {
              "fillmode": "overlay",
              "size": 10,
              "solidity": 0.2
             }
            },
            "type": "barpolar"
           }
          ],
          "carpet": [
           {
            "aaxis": {
             "endlinecolor": "#A2B1C6",
             "gridcolor": "#506784",
             "linecolor": "#506784",
             "minorgridcolor": "#506784",
             "startlinecolor": "#A2B1C6"
            },
            "baxis": {
             "endlinecolor": "#A2B1C6",
             "gridcolor": "#506784",
             "linecolor": "#506784",
             "minorgridcolor": "#506784",
             "startlinecolor": "#A2B1C6"
            },
            "type": "carpet"
           }
          ],
          "choropleth": [
           {
            "colorbar": {
             "outlinewidth": 0,
             "ticks": ""
            },
            "type": "choropleth"
           }
          ],
          "contour": [
           {
            "colorbar": {
             "outlinewidth": 0,
             "ticks": ""
            },
            "colorscale": [
             [
              0,
              "#0d0887"
             ],
             [
              0.1111111111111111,
              "#46039f"
             ],
             [
              0.2222222222222222,
              "#7201a8"
             ],
             [
              0.3333333333333333,
              "#9c179e"
             ],
             [
              0.4444444444444444,
              "#bd3786"
             ],
             [
              0.5555555555555556,
              "#d8576b"
             ],
             [
              0.6666666666666666,
              "#ed7953"
             ],
             [
              0.7777777777777778,
              "#fb9f3a"
             ],
             [
              0.8888888888888888,
              "#fdca26"
             ],
             [
              1,
              "#f0f921"
             ]
            ],
            "type": "contour"
           }
          ],
          "contourcarpet": [
           {
            "colorbar": {
             "outlinewidth": 0,
             "ticks": ""
            },
            "type": "contourcarpet"
           }
          ],
          "heatmap": [
           {
            "colorbar": {
             "outlinewidth": 0,
             "ticks": ""
            },
            "colorscale": [
             [
              0,
              "#0d0887"
             ],
             [
              0.1111111111111111,
              "#46039f"
             ],
             [
              0.2222222222222222,
              "#7201a8"
             ],
             [
              0.3333333333333333,
              "#9c179e"
             ],
             [
              0.4444444444444444,
              "#bd3786"
             ],
             [
              0.5555555555555556,
              "#d8576b"
             ],
             [
              0.6666666666666666,
              "#ed7953"
             ],
             [
              0.7777777777777778,
              "#fb9f3a"
             ],
             [
              0.8888888888888888,
              "#fdca26"
             ],
             [
              1,
              "#f0f921"
             ]
            ],
            "type": "heatmap"
           }
          ],
          "heatmapgl": [
           {
            "colorbar": {
             "outlinewidth": 0,
             "ticks": ""
            },
            "colorscale": [
             [
              0,
              "#0d0887"
             ],
             [
              0.1111111111111111,
              "#46039f"
             ],
             [
              0.2222222222222222,
              "#7201a8"
             ],
             [
              0.3333333333333333,
              "#9c179e"
             ],
             [
              0.4444444444444444,
              "#bd3786"
             ],
             [
              0.5555555555555556,
              "#d8576b"
             ],
             [
              0.6666666666666666,
              "#ed7953"
             ],
             [
              0.7777777777777778,
              "#fb9f3a"
             ],
             [
              0.8888888888888888,
              "#fdca26"
             ],
             [
              1,
              "#f0f921"
             ]
            ],
            "type": "heatmapgl"
           }
          ],
          "histogram": [
           {
            "marker": {
             "pattern": {
              "fillmode": "overlay",
              "size": 10,
              "solidity": 0.2
             }
            },
            "type": "histogram"
           }
          ],
          "histogram2d": [
           {
            "colorbar": {
             "outlinewidth": 0,
             "ticks": ""
            },
            "colorscale": [
             [
              0,
              "#0d0887"
             ],
             [
              0.1111111111111111,
              "#46039f"
             ],
             [
              0.2222222222222222,
              "#7201a8"
             ],
             [
              0.3333333333333333,
              "#9c179e"
             ],
             [
              0.4444444444444444,
              "#bd3786"
             ],
             [
              0.5555555555555556,
              "#d8576b"
             ],
             [
              0.6666666666666666,
              "#ed7953"
             ],
             [
              0.7777777777777778,
              "#fb9f3a"
             ],
             [
              0.8888888888888888,
              "#fdca26"
             ],
             [
              1,
              "#f0f921"
             ]
            ],
            "type": "histogram2d"
           }
          ],
          "histogram2dcontour": [
           {
            "colorbar": {
             "outlinewidth": 0,
             "ticks": ""
            },
            "colorscale": [
             [
              0,
              "#0d0887"
             ],
             [
              0.1111111111111111,
              "#46039f"
             ],
             [
              0.2222222222222222,
              "#7201a8"
             ],
             [
              0.3333333333333333,
              "#9c179e"
             ],
             [
              0.4444444444444444,
              "#bd3786"
             ],
             [
              0.5555555555555556,
              "#d8576b"
             ],
             [
              0.6666666666666666,
              "#ed7953"
             ],
             [
              0.7777777777777778,
              "#fb9f3a"
             ],
             [
              0.8888888888888888,
              "#fdca26"
             ],
             [
              1,
              "#f0f921"
             ]
            ],
            "type": "histogram2dcontour"
           }
          ],
          "mesh3d": [
           {
            "colorbar": {
             "outlinewidth": 0,
             "ticks": ""
            },
            "type": "mesh3d"
           }
          ],
          "parcoords": [
           {
            "line": {
             "colorbar": {
              "outlinewidth": 0,
              "ticks": ""
             }
            },
            "type": "parcoords"
           }
          ],
          "pie": [
           {
            "automargin": true,
            "type": "pie"
           }
          ],
          "scatter": [
           {
            "marker": {
             "line": {
              "color": "#283442"
             }
            },
            "type": "scatter"
           }
          ],
          "scatter3d": [
           {
            "line": {
             "colorbar": {
              "outlinewidth": 0,
              "ticks": ""
             }
            },
            "marker": {
             "colorbar": {
              "outlinewidth": 0,
              "ticks": ""
             }
            },
            "type": "scatter3d"
           }
          ],
          "scattercarpet": [
           {
            "marker": {
             "colorbar": {
              "outlinewidth": 0,
              "ticks": ""
             }
            },
            "type": "scattercarpet"
           }
          ],
          "scattergeo": [
           {
            "marker": {
             "colorbar": {
              "outlinewidth": 0,
              "ticks": ""
             }
            },
            "type": "scattergeo"
           }
          ],
          "scattergl": [
           {
            "marker": {
             "line": {
              "color": "#283442"
             }
            },
            "type": "scattergl"
           }
          ],
          "scattermapbox": [
           {
            "marker": {
             "colorbar": {
              "outlinewidth": 0,
              "ticks": ""
             }
            },
            "type": "scattermapbox"
           }
          ],
          "scatterpolar": [
           {
            "marker": {
             "colorbar": {
              "outlinewidth": 0,
              "ticks": ""
             }
            },
            "type": "scatterpolar"
           }
          ],
          "scatterpolargl": [
           {
            "marker": {
             "colorbar": {
              "outlinewidth": 0,
              "ticks": ""
             }
            },
            "type": "scatterpolargl"
           }
          ],
          "scatterternary": [
           {
            "marker": {
             "colorbar": {
              "outlinewidth": 0,
              "ticks": ""
             }
            },
            "type": "scatterternary"
           }
          ],
          "surface": [
           {
            "colorbar": {
             "outlinewidth": 0,
             "ticks": ""
            },
            "colorscale": [
             [
              0,
              "#0d0887"
             ],
             [
              0.1111111111111111,
              "#46039f"
             ],
             [
              0.2222222222222222,
              "#7201a8"
             ],
             [
              0.3333333333333333,
              "#9c179e"
             ],
             [
              0.4444444444444444,
              "#bd3786"
             ],
             [
              0.5555555555555556,
              "#d8576b"
             ],
             [
              0.6666666666666666,
              "#ed7953"
             ],
             [
              0.7777777777777778,
              "#fb9f3a"
             ],
             [
              0.8888888888888888,
              "#fdca26"
             ],
             [
              1,
              "#f0f921"
             ]
            ],
            "type": "surface"
           }
          ],
          "table": [
           {
            "cells": {
             "fill": {
              "color": "#506784"
             },
             "line": {
              "color": "rgb(17,17,17)"
             }
            },
            "header": {
             "fill": {
              "color": "#2a3f5f"
             },
             "line": {
              "color": "rgb(17,17,17)"
             }
            },
            "type": "table"
           }
          ]
         },
         "layout": {
          "annotationdefaults": {
           "arrowcolor": "#f2f5fa",
           "arrowhead": 0,
           "arrowwidth": 1
          },
          "autotypenumbers": "strict",
          "coloraxis": {
           "colorbar": {
            "outlinewidth": 0,
            "ticks": ""
           }
          },
          "colorscale": {
           "diverging": [
            [
             0,
             "#8e0152"
            ],
            [
             0.1,
             "#c51b7d"
            ],
            [
             0.2,
             "#de77ae"
            ],
            [
             0.3,
             "#f1b6da"
            ],
            [
             0.4,
             "#fde0ef"
            ],
            [
             0.5,
             "#f7f7f7"
            ],
            [
             0.6,
             "#e6f5d0"
            ],
            [
             0.7,
             "#b8e186"
            ],
            [
             0.8,
             "#7fbc41"
            ],
            [
             0.9,
             "#4d9221"
            ],
            [
             1,
             "#276419"
            ]
           ],
           "sequential": [
            [
             0,
             "#0d0887"
            ],
            [
             0.1111111111111111,
             "#46039f"
            ],
            [
             0.2222222222222222,
             "#7201a8"
            ],
            [
             0.3333333333333333,
             "#9c179e"
            ],
            [
             0.4444444444444444,
             "#bd3786"
            ],
            [
             0.5555555555555556,
             "#d8576b"
            ],
            [
             0.6666666666666666,
             "#ed7953"
            ],
            [
             0.7777777777777778,
             "#fb9f3a"
            ],
            [
             0.8888888888888888,
             "#fdca26"
            ],
            [
             1,
             "#f0f921"
            ]
           ],
           "sequentialminus": [
            [
             0,
             "#0d0887"
            ],
            [
             0.1111111111111111,
             "#46039f"
            ],
            [
             0.2222222222222222,
             "#7201a8"
            ],
            [
             0.3333333333333333,
             "#9c179e"
            ],
            [
             0.4444444444444444,
             "#bd3786"
            ],
            [
             0.5555555555555556,
             "#d8576b"
            ],
            [
             0.6666666666666666,
             "#ed7953"
            ],
            [
             0.7777777777777778,
             "#fb9f3a"
            ],
            [
             0.8888888888888888,
             "#fdca26"
            ],
            [
             1,
             "#f0f921"
            ]
           ]
          },
          "colorway": [
           "#636efa",
           "#EF553B",
           "#00cc96",
           "#ab63fa",
           "#FFA15A",
           "#19d3f3",
           "#FF6692",
           "#B6E880",
           "#FF97FF",
           "#FECB52"
          ],
          "font": {
           "color": "#f2f5fa"
          },
          "geo": {
           "bgcolor": "rgb(17,17,17)",
           "lakecolor": "rgb(17,17,17)",
           "landcolor": "rgb(17,17,17)",
           "showlakes": true,
           "showland": true,
           "subunitcolor": "#506784"
          },
          "hoverlabel": {
           "align": "left"
          },
          "hovermode": "closest",
          "mapbox": {
           "style": "dark"
          },
          "paper_bgcolor": "rgb(17,17,17)",
          "plot_bgcolor": "rgb(17,17,17)",
          "polar": {
           "angularaxis": {
            "gridcolor": "#506784",
            "linecolor": "#506784",
            "ticks": ""
           },
           "bgcolor": "rgb(17,17,17)",
           "radialaxis": {
            "gridcolor": "#506784",
            "linecolor": "#506784",
            "ticks": ""
           }
          },
          "scene": {
           "xaxis": {
            "backgroundcolor": "rgb(17,17,17)",
            "gridcolor": "#506784",
            "gridwidth": 2,
            "linecolor": "#506784",
            "showbackground": true,
            "ticks": "",
            "zerolinecolor": "#C8D4E3"
           },
           "yaxis": {
            "backgroundcolor": "rgb(17,17,17)",
            "gridcolor": "#506784",
            "gridwidth": 2,
            "linecolor": "#506784",
            "showbackground": true,
            "ticks": "",
            "zerolinecolor": "#C8D4E3"
           },
           "zaxis": {
            "backgroundcolor": "rgb(17,17,17)",
            "gridcolor": "#506784",
            "gridwidth": 2,
            "linecolor": "#506784",
            "showbackground": true,
            "ticks": "",
            "zerolinecolor": "#C8D4E3"
           }
          },
          "shapedefaults": {
           "line": {
            "color": "#f2f5fa"
           }
          },
          "sliderdefaults": {
           "bgcolor": "#C8D4E3",
           "bordercolor": "rgb(17,17,17)",
           "borderwidth": 1,
           "tickwidth": 0
          },
          "ternary": {
           "aaxis": {
            "gridcolor": "#506784",
            "linecolor": "#506784",
            "ticks": ""
           },
           "baxis": {
            "gridcolor": "#506784",
            "linecolor": "#506784",
            "ticks": ""
           },
           "bgcolor": "rgb(17,17,17)",
           "caxis": {
            "gridcolor": "#506784",
            "linecolor": "#506784",
            "ticks": ""
           }
          },
          "title": {
           "x": 0.05
          },
          "updatemenudefaults": {
           "bgcolor": "#506784",
           "borderwidth": 0
          },
          "xaxis": {
           "automargin": true,
           "gridcolor": "#283442",
           "linecolor": "#506784",
           "ticks": "",
           "title": {
            "standoff": 15
           },
           "zerolinecolor": "#283442",
           "zerolinewidth": 2
          },
          "yaxis": {
           "automargin": true,
           "gridcolor": "#283442",
           "linecolor": "#506784",
           "ticks": "",
           "title": {
            "standoff": 15
           },
           "zerolinecolor": "#283442",
           "zerolinewidth": 2
          }
         }
        },
        "title": {
         "text": "Team standing"
        },
        "xaxis": {
         "anchor": "y",
         "domain": [
          0,
          1
         ],
         "title": {
          "text": "raceIndex"
         }
        },
        "yaxis": {
         "anchor": "x",
         "domain": [
          0,
          1
         ],
         "title": {
          "text": "standing"
         }
        }
       }
      }
     },
     "metadata": {},
     "output_type": "display_data"
    }
   ],
   "source": [
    "# team standing\n",
    "px.line(global_team_df, x=\"raceIndex\", y=\"standing\", color=\"team\", title=\"Team standing\", template=\"plotly_dark\", markers=True, color_discrete_map=team_colors)"
   ]
  },
  {
   "cell_type": "code",
   "execution_count": 44,
   "metadata": {},
   "outputs": [
    {
     "data": {
      "application/vnd.plotly.v1+json": {
       "config": {
        "plotlyServerURL": "https://plot.ly"
       },
       "data": [
        {
         "hovertemplate": "driver=BEA<br>raceIndex=%{x}<br>quali=%{y}<extra></extra>",
         "legendgroup": "BEA",
         "line": {
          "color": "#636efa",
          "dash": "solid"
         },
         "marker": {
          "symbol": "circle"
         },
         "mode": "lines+markers",
         "name": "BEA",
         "orientation": "v",
         "showlegend": true,
         "type": "scatter",
         "x": [
          10,
          9,
          8,
          7,
          6,
          5,
          4,
          3,
          2
         ],
         "xaxis": "x",
         "y": [
          null,
          null,
          null,
          null,
          null,
          null,
          null,
          null,
          11
         ],
         "yaxis": "y"
        },
        {
         "hovertemplate": "driver=SAR<br>raceIndex=%{x}<br>quali=%{y}<extra></extra>",
         "legendgroup": "SAR",
         "line": {
          "color": "#00a0dd",
          "dash": "solid"
         },
         "marker": {
          "symbol": "circle"
         },
         "mode": "lines+markers",
         "name": "SAR",
         "orientation": "v",
         "showlegend": true,
         "type": "scatter",
         "x": [
          10,
          9,
          8,
          7,
          6,
          5,
          4,
          3,
          2,
          1
         ],
         "xaxis": "x",
         "y": [
          20,
          13,
          17,
          20,
          17,
          20,
          19,
          null,
          19,
          18
         ],
         "yaxis": "y"
        },
        {
         "hovertemplate": "driver=ALB<br>raceIndex=%{x}<br>quali=%{y}<extra></extra>",
         "legendgroup": "ALB",
         "line": {
          "color": "#00a0dd",
          "dash": "solid"
         },
         "marker": {
          "symbol": "circle"
         },
         "mode": "lines+markers",
         "name": "ALB",
         "orientation": "v",
         "showlegend": true,
         "type": "scatter",
         "x": [
          10,
          9,
          8,
          7,
          6,
          5,
          4,
          3,
          2,
          1
         ],
         "xaxis": "x",
         "y": [
          19,
          10,
          9,
          14,
          14,
          14,
          14,
          12,
          12,
          13
         ],
         "yaxis": "y"
        },
        {
         "hovertemplate": "driver=RIC<br>raceIndex=%{x}<br>quali=%{y}<extra></extra>",
         "legendgroup": "RIC",
         "line": {
          "color": "#364aa9",
          "dash": "solid"
         },
         "marker": {
          "symbol": "circle"
         },
         "mode": "lines+markers",
         "name": "RIC",
         "orientation": "v",
         "showlegend": true,
         "type": "scatter",
         "x": [
          10,
          9,
          8,
          7,
          6,
          5,
          4,
          3,
          2,
          1
         ],
         "xaxis": "x",
         "y": [
          18,
          5,
          13,
          9,
          18,
          12,
          11,
          18,
          14,
          14
         ],
         "yaxis": "y"
        },
        {
         "hovertemplate": "driver=TSU<br>raceIndex=%{x}<br>quali=%{y}<extra></extra>",
         "legendgroup": "TSU",
         "line": {
          "color": "#364aa9",
          "dash": "solid"
         },
         "marker": {
          "symbol": "circle"
         },
         "mode": "lines+markers",
         "name": "TSU",
         "orientation": "v",
         "showlegend": true,
         "type": "scatter",
         "x": [
          10,
          9,
          8,
          7,
          6,
          5,
          4,
          3,
          2,
          1
         ],
         "xaxis": "x",
         "y": [
          17,
          8,
          8,
          7,
          10,
          19,
          10,
          8,
          9,
          11
         ],
         "yaxis": "y"
        },
        {
         "hovertemplate": "driver=MAG<br>raceIndex=%{x}<br>quali=%{y}<extra></extra>",
         "legendgroup": "MAG",
         "line": {
          "color": "#b6babd",
          "dash": "solid"
         },
         "marker": {
          "symbol": "circle"
         },
         "mode": "lines+markers",
         "name": "MAG",
         "orientation": "v",
         "showlegend": true,
         "type": "scatter",
         "x": [
          10,
          9,
          8,
          7,
          6,
          5,
          4,
          3,
          2,
          1
         ],
         "xaxis": "x",
         "y": [
          16,
          14,
          15,
          18,
          19,
          17,
          18,
          14,
          13,
          15
         ],
         "yaxis": "y"
        },
        {
         "hovertemplate": "driver=ZHO<br>raceIndex=%{x}<br>quali=%{y}<extra></extra>",
         "legendgroup": "ZHO",
         "line": {
          "color": "#00e700",
          "dash": "solid"
         },
         "marker": {
          "symbol": "circle"
         },
         "mode": "lines+markers",
         "name": "ZHO",
         "orientation": "v",
         "showlegend": true,
         "type": "scatter",
         "x": [
          10,
          9,
          8,
          7,
          6,
          5,
          4,
          3,
          2,
          1
         ],
         "xaxis": "x",
         "y": [
          15,
          20,
          20,
          17,
          20,
          16,
          20,
          19,
          20,
          17
         ],
         "yaxis": "y"
        },
        {
         "hovertemplate": "driver=STR<br>raceIndex=%{x}<br>quali=%{y}<extra></extra>",
         "legendgroup": "STR",
         "line": {
          "color": "#00665f",
          "dash": "solid"
         },
         "marker": {
          "symbol": "circle"
         },
         "mode": "lines+markers",
         "name": "STR",
         "orientation": "v",
         "showlegend": true,
         "type": "scatter",
         "x": [
          10,
          9,
          8,
          7,
          6,
          5,
          4,
          3,
          2,
          1
         ],
         "xaxis": "x",
         "y": [
          14,
          9,
          14,
          13,
          11,
          11,
          16,
          9,
          10,
          12
         ],
         "yaxis": "y"
        },
        {
         "hovertemplate": "driver=HUL<br>raceIndex=%{x}<br>quali=%{y}<extra></extra>",
         "legendgroup": "HUL",
         "line": {
          "color": "#b6babd",
          "dash": "solid"
         },
         "marker": {
          "symbol": "circle"
         },
         "mode": "lines+markers",
         "name": "HUL",
         "orientation": "v",
         "showlegend": true,
         "type": "scatter",
         "x": [
          10,
          9,
          8,
          7,
          6,
          5,
          4,
          3,
          2,
          1
         ],
         "xaxis": "x",
         "y": [
          13,
          19,
          12,
          10,
          9,
          9,
          12,
          16,
          15,
          10
         ],
         "yaxis": "y"
        },
        {
         "hovertemplate": "driver=BOT<br>raceIndex=%{x}<br>quali=%{y}<extra></extra>",
         "legendgroup": "BOT",
         "line": {
          "color": "#00e700",
          "dash": "solid"
         },
         "marker": {
          "symbol": "circle"
         },
         "mode": "lines+markers",
         "name": "BOT",
         "orientation": "v",
         "showlegend": true,
         "type": "scatter",
         "x": [
          10,
          9,
          8,
          7,
          6,
          5,
          4,
          3,
          2,
          1
         ],
         "xaxis": "x",
         "y": [
          12,
          17,
          19,
          16,
          16,
          10,
          13,
          13,
          16,
          16
         ],
         "yaxis": "y"
        },
        {
         "hovertemplate": "driver=ALO<br>raceIndex=%{x}<br>quali=%{y}<extra></extra>",
         "legendgroup": "ALO",
         "line": {
          "color": "#00665f",
          "dash": "solid"
         },
         "marker": {
          "symbol": "circle"
         },
         "mode": "lines+markers",
         "name": "ALO",
         "orientation": "v",
         "showlegend": true,
         "type": "scatter",
         "x": [
          10,
          9,
          8,
          7,
          6,
          5,
          4,
          3,
          2,
          1
         ],
         "xaxis": "x",
         "y": [
          11,
          6,
          16,
          19,
          15,
          3,
          5,
          10,
          4,
          6
         ],
         "yaxis": "y"
        },
        {
         "hovertemplate": "driver=PIA<br>raceIndex=%{x}<br>quali=%{y}<extra></extra>",
         "legendgroup": "PIA",
         "line": {
          "color": "#ff8000",
          "dash": "solid"
         },
         "marker": {
          "symbol": "circle"
         },
         "mode": "lines+markers",
         "name": "PIA",
         "orientation": "v",
         "showlegend": true,
         "type": "scatter",
         "x": [
          10,
          9,
          8,
          7,
          6,
          5,
          4,
          3,
          2,
          1
         ],
         "xaxis": "x",
         "y": [
          10,
          4,
          2,
          2,
          6,
          5,
          6,
          6,
          5,
          8
         ],
         "yaxis": "y"
        },
        {
         "hovertemplate": "driver=OCO<br>raceIndex=%{x}<br>quali=%{y}<extra></extra>",
         "legendgroup": "OCO",
         "line": {
          "color": "#ff87bc",
          "dash": "solid"
         },
         "marker": {
          "symbol": "circle"
         },
         "mode": "lines+markers",
         "name": "OCO",
         "orientation": "v",
         "showlegend": true,
         "type": "scatter",
         "x": [
          10,
          9,
          8,
          7,
          6,
          5,
          4,
          3,
          2,
          1
         ],
         "xaxis": "x",
         "y": [
          9,
          18,
          11,
          12,
          13,
          13,
          15,
          15,
          17,
          19
         ],
         "yaxis": "y"
        },
        {
         "hovertemplate": "driver=PER<br>raceIndex=%{x}<br>quali=%{y}<extra></extra>",
         "legendgroup": "PER",
         "line": {
          "color": "#0600ef",
          "dash": "solid"
         },
         "marker": {
          "symbol": "circle"
         },
         "mode": "lines+markers",
         "name": "PER",
         "orientation": "v",
         "showlegend": true,
         "type": "scatter",
         "x": [
          10,
          9,
          8,
          7,
          6,
          5,
          4,
          3,
          2,
          1
         ],
         "xaxis": "x",
         "y": [
          8,
          16,
          18,
          11,
          4,
          2,
          2,
          3,
          3,
          5
         ],
         "yaxis": "y"
        },
        {
         "hovertemplate": "driver=GAS<br>raceIndex=%{x}<br>quali=%{y}<extra></extra>",
         "legendgroup": "GAS",
         "line": {
          "color": "#ff87bc",
          "dash": "solid"
         },
         "marker": {
          "symbol": "circle"
         },
         "mode": "lines+markers",
         "name": "GAS",
         "orientation": "v",
         "showlegend": true,
         "type": "scatter",
         "x": [
          10,
          9,
          8,
          7,
          6,
          5,
          4,
          3,
          2,
          1
         ],
         "xaxis": "x",
         "y": [
          7,
          15,
          10,
          15,
          12,
          15,
          17,
          17,
          18,
          20
         ],
         "yaxis": "y"
        },
        {
         "hovertemplate": "driver=SAI<br>raceIndex=%{x}<br>quali=%{y}<extra></extra>",
         "legendgroup": "SAI",
         "line": {
          "color": "#e8002d",
          "dash": "solid"
         },
         "marker": {
          "symbol": "circle"
         },
         "mode": "lines+markers",
         "name": "SAI",
         "orientation": "v",
         "showlegend": true,
         "type": "scatter",
         "x": [
          10,
          9,
          8,
          7,
          6,
          5,
          4,
          3,
          2,
          1
         ],
         "xaxis": "x",
         "y": [
          6,
          12,
          3,
          5,
          3,
          7,
          4,
          2,
          null,
          4
         ],
         "yaxis": "y"
        },
        {
         "hovertemplate": "driver=LEC<br>raceIndex=%{x}<br>quali=%{y}<extra></extra>",
         "legendgroup": "LEC",
         "line": {
          "color": "#e8002d",
          "dash": "solid"
         },
         "marker": {
          "symbol": "circle"
         },
         "mode": "lines+markers",
         "name": "LEC",
         "orientation": "v",
         "showlegend": true,
         "type": "scatter",
         "x": [
          10,
          9,
          8,
          7,
          6,
          5,
          4,
          3,
          2,
          1
         ],
         "xaxis": "x",
         "y": [
          5,
          11,
          1,
          4,
          2,
          6,
          8,
          5,
          2,
          2
         ],
         "yaxis": "y"
        },
        {
         "hovertemplate": "driver=RUS<br>raceIndex=%{x}<br>quali=%{y}<extra></extra>",
         "legendgroup": "RUS",
         "line": {
          "color": "#27f4d2",
          "dash": "solid"
         },
         "marker": {
          "symbol": "circle"
         },
         "mode": "lines+markers",
         "name": "RUS",
         "orientation": "v",
         "showlegend": true,
         "type": "scatter",
         "x": [
          10,
          9,
          8,
          7,
          6,
          5,
          4,
          3,
          2,
          1
         ],
         "xaxis": "x",
         "y": [
          4,
          1,
          5,
          6,
          7,
          8,
          9,
          7,
          7,
          3
         ],
         "yaxis": "y"
        },
        {
         "hovertemplate": "driver=HAM<br>raceIndex=%{x}<br>quali=%{y}<extra></extra>",
         "legendgroup": "HAM",
         "line": {
          "color": "#27f4d2",
          "dash": "solid"
         },
         "marker": {
          "symbol": "circle"
         },
         "mode": "lines+markers",
         "name": "HAM",
         "orientation": "v",
         "showlegend": true,
         "type": "scatter",
         "x": [
          10,
          9,
          8,
          7,
          6,
          5,
          4,
          3,
          2,
          1
         ],
         "xaxis": "x",
         "y": [
          3,
          7,
          7,
          8,
          8,
          18,
          7,
          11,
          8,
          9
         ],
         "yaxis": "y"
        },
        {
         "hovertemplate": "driver=VER<br>raceIndex=%{x}<br>quali=%{y}<extra></extra>",
         "legendgroup": "VER",
         "line": {
          "color": "#0600ef",
          "dash": "solid"
         },
         "marker": {
          "symbol": "circle"
         },
         "mode": "lines+markers",
         "name": "VER",
         "orientation": "v",
         "showlegend": true,
         "type": "scatter",
         "x": [
          10,
          9,
          8,
          7,
          6,
          5,
          4,
          3,
          2,
          1
         ],
         "xaxis": "x",
         "y": [
          2,
          2,
          6,
          1,
          1,
          1,
          1,
          1,
          1,
          1
         ],
         "yaxis": "y"
        },
        {
         "hovertemplate": "driver=NOR<br>raceIndex=%{x}<br>quali=%{y}<extra></extra>",
         "legendgroup": "NOR",
         "line": {
          "color": "#ff8000",
          "dash": "solid"
         },
         "marker": {
          "symbol": "circle"
         },
         "mode": "lines+markers",
         "name": "NOR",
         "orientation": "v",
         "showlegend": true,
         "type": "scatter",
         "x": [
          10,
          9,
          8,
          7,
          6,
          5,
          4,
          3,
          2,
          1
         ],
         "xaxis": "x",
         "y": [
          1,
          3,
          4,
          3,
          5,
          4,
          3,
          4,
          6,
          7
         ],
         "yaxis": "y"
        }
       ],
       "layout": {
        "legend": {
         "title": {
          "text": "driver"
         },
         "tracegroupgap": 0
        },
        "template": {
         "data": {
          "bar": [
           {
            "error_x": {
             "color": "#f2f5fa"
            },
            "error_y": {
             "color": "#f2f5fa"
            },
            "marker": {
             "line": {
              "color": "rgb(17,17,17)",
              "width": 0.5
             },
             "pattern": {
              "fillmode": "overlay",
              "size": 10,
              "solidity": 0.2
             }
            },
            "type": "bar"
           }
          ],
          "barpolar": [
           {
            "marker": {
             "line": {
              "color": "rgb(17,17,17)",
              "width": 0.5
             },
             "pattern": {
              "fillmode": "overlay",
              "size": 10,
              "solidity": 0.2
             }
            },
            "type": "barpolar"
           }
          ],
          "carpet": [
           {
            "aaxis": {
             "endlinecolor": "#A2B1C6",
             "gridcolor": "#506784",
             "linecolor": "#506784",
             "minorgridcolor": "#506784",
             "startlinecolor": "#A2B1C6"
            },
            "baxis": {
             "endlinecolor": "#A2B1C6",
             "gridcolor": "#506784",
             "linecolor": "#506784",
             "minorgridcolor": "#506784",
             "startlinecolor": "#A2B1C6"
            },
            "type": "carpet"
           }
          ],
          "choropleth": [
           {
            "colorbar": {
             "outlinewidth": 0,
             "ticks": ""
            },
            "type": "choropleth"
           }
          ],
          "contour": [
           {
            "colorbar": {
             "outlinewidth": 0,
             "ticks": ""
            },
            "colorscale": [
             [
              0,
              "#0d0887"
             ],
             [
              0.1111111111111111,
              "#46039f"
             ],
             [
              0.2222222222222222,
              "#7201a8"
             ],
             [
              0.3333333333333333,
              "#9c179e"
             ],
             [
              0.4444444444444444,
              "#bd3786"
             ],
             [
              0.5555555555555556,
              "#d8576b"
             ],
             [
              0.6666666666666666,
              "#ed7953"
             ],
             [
              0.7777777777777778,
              "#fb9f3a"
             ],
             [
              0.8888888888888888,
              "#fdca26"
             ],
             [
              1,
              "#f0f921"
             ]
            ],
            "type": "contour"
           }
          ],
          "contourcarpet": [
           {
            "colorbar": {
             "outlinewidth": 0,
             "ticks": ""
            },
            "type": "contourcarpet"
           }
          ],
          "heatmap": [
           {
            "colorbar": {
             "outlinewidth": 0,
             "ticks": ""
            },
            "colorscale": [
             [
              0,
              "#0d0887"
             ],
             [
              0.1111111111111111,
              "#46039f"
             ],
             [
              0.2222222222222222,
              "#7201a8"
             ],
             [
              0.3333333333333333,
              "#9c179e"
             ],
             [
              0.4444444444444444,
              "#bd3786"
             ],
             [
              0.5555555555555556,
              "#d8576b"
             ],
             [
              0.6666666666666666,
              "#ed7953"
             ],
             [
              0.7777777777777778,
              "#fb9f3a"
             ],
             [
              0.8888888888888888,
              "#fdca26"
             ],
             [
              1,
              "#f0f921"
             ]
            ],
            "type": "heatmap"
           }
          ],
          "heatmapgl": [
           {
            "colorbar": {
             "outlinewidth": 0,
             "ticks": ""
            },
            "colorscale": [
             [
              0,
              "#0d0887"
             ],
             [
              0.1111111111111111,
              "#46039f"
             ],
             [
              0.2222222222222222,
              "#7201a8"
             ],
             [
              0.3333333333333333,
              "#9c179e"
             ],
             [
              0.4444444444444444,
              "#bd3786"
             ],
             [
              0.5555555555555556,
              "#d8576b"
             ],
             [
              0.6666666666666666,
              "#ed7953"
             ],
             [
              0.7777777777777778,
              "#fb9f3a"
             ],
             [
              0.8888888888888888,
              "#fdca26"
             ],
             [
              1,
              "#f0f921"
             ]
            ],
            "type": "heatmapgl"
           }
          ],
          "histogram": [
           {
            "marker": {
             "pattern": {
              "fillmode": "overlay",
              "size": 10,
              "solidity": 0.2
             }
            },
            "type": "histogram"
           }
          ],
          "histogram2d": [
           {
            "colorbar": {
             "outlinewidth": 0,
             "ticks": ""
            },
            "colorscale": [
             [
              0,
              "#0d0887"
             ],
             [
              0.1111111111111111,
              "#46039f"
             ],
             [
              0.2222222222222222,
              "#7201a8"
             ],
             [
              0.3333333333333333,
              "#9c179e"
             ],
             [
              0.4444444444444444,
              "#bd3786"
             ],
             [
              0.5555555555555556,
              "#d8576b"
             ],
             [
              0.6666666666666666,
              "#ed7953"
             ],
             [
              0.7777777777777778,
              "#fb9f3a"
             ],
             [
              0.8888888888888888,
              "#fdca26"
             ],
             [
              1,
              "#f0f921"
             ]
            ],
            "type": "histogram2d"
           }
          ],
          "histogram2dcontour": [
           {
            "colorbar": {
             "outlinewidth": 0,
             "ticks": ""
            },
            "colorscale": [
             [
              0,
              "#0d0887"
             ],
             [
              0.1111111111111111,
              "#46039f"
             ],
             [
              0.2222222222222222,
              "#7201a8"
             ],
             [
              0.3333333333333333,
              "#9c179e"
             ],
             [
              0.4444444444444444,
              "#bd3786"
             ],
             [
              0.5555555555555556,
              "#d8576b"
             ],
             [
              0.6666666666666666,
              "#ed7953"
             ],
             [
              0.7777777777777778,
              "#fb9f3a"
             ],
             [
              0.8888888888888888,
              "#fdca26"
             ],
             [
              1,
              "#f0f921"
             ]
            ],
            "type": "histogram2dcontour"
           }
          ],
          "mesh3d": [
           {
            "colorbar": {
             "outlinewidth": 0,
             "ticks": ""
            },
            "type": "mesh3d"
           }
          ],
          "parcoords": [
           {
            "line": {
             "colorbar": {
              "outlinewidth": 0,
              "ticks": ""
             }
            },
            "type": "parcoords"
           }
          ],
          "pie": [
           {
            "automargin": true,
            "type": "pie"
           }
          ],
          "scatter": [
           {
            "marker": {
             "line": {
              "color": "#283442"
             }
            },
            "type": "scatter"
           }
          ],
          "scatter3d": [
           {
            "line": {
             "colorbar": {
              "outlinewidth": 0,
              "ticks": ""
             }
            },
            "marker": {
             "colorbar": {
              "outlinewidth": 0,
              "ticks": ""
             }
            },
            "type": "scatter3d"
           }
          ],
          "scattercarpet": [
           {
            "marker": {
             "colorbar": {
              "outlinewidth": 0,
              "ticks": ""
             }
            },
            "type": "scattercarpet"
           }
          ],
          "scattergeo": [
           {
            "marker": {
             "colorbar": {
              "outlinewidth": 0,
              "ticks": ""
             }
            },
            "type": "scattergeo"
           }
          ],
          "scattergl": [
           {
            "marker": {
             "line": {
              "color": "#283442"
             }
            },
            "type": "scattergl"
           }
          ],
          "scattermapbox": [
           {
            "marker": {
             "colorbar": {
              "outlinewidth": 0,
              "ticks": ""
             }
            },
            "type": "scattermapbox"
           }
          ],
          "scatterpolar": [
           {
            "marker": {
             "colorbar": {
              "outlinewidth": 0,
              "ticks": ""
             }
            },
            "type": "scatterpolar"
           }
          ],
          "scatterpolargl": [
           {
            "marker": {
             "colorbar": {
              "outlinewidth": 0,
              "ticks": ""
             }
            },
            "type": "scatterpolargl"
           }
          ],
          "scatterternary": [
           {
            "marker": {
             "colorbar": {
              "outlinewidth": 0,
              "ticks": ""
             }
            },
            "type": "scatterternary"
           }
          ],
          "surface": [
           {
            "colorbar": {
             "outlinewidth": 0,
             "ticks": ""
            },
            "colorscale": [
             [
              0,
              "#0d0887"
             ],
             [
              0.1111111111111111,
              "#46039f"
             ],
             [
              0.2222222222222222,
              "#7201a8"
             ],
             [
              0.3333333333333333,
              "#9c179e"
             ],
             [
              0.4444444444444444,
              "#bd3786"
             ],
             [
              0.5555555555555556,
              "#d8576b"
             ],
             [
              0.6666666666666666,
              "#ed7953"
             ],
             [
              0.7777777777777778,
              "#fb9f3a"
             ],
             [
              0.8888888888888888,
              "#fdca26"
             ],
             [
              1,
              "#f0f921"
             ]
            ],
            "type": "surface"
           }
          ],
          "table": [
           {
            "cells": {
             "fill": {
              "color": "#506784"
             },
             "line": {
              "color": "rgb(17,17,17)"
             }
            },
            "header": {
             "fill": {
              "color": "#2a3f5f"
             },
             "line": {
              "color": "rgb(17,17,17)"
             }
            },
            "type": "table"
           }
          ]
         },
         "layout": {
          "annotationdefaults": {
           "arrowcolor": "#f2f5fa",
           "arrowhead": 0,
           "arrowwidth": 1
          },
          "autotypenumbers": "strict",
          "coloraxis": {
           "colorbar": {
            "outlinewidth": 0,
            "ticks": ""
           }
          },
          "colorscale": {
           "diverging": [
            [
             0,
             "#8e0152"
            ],
            [
             0.1,
             "#c51b7d"
            ],
            [
             0.2,
             "#de77ae"
            ],
            [
             0.3,
             "#f1b6da"
            ],
            [
             0.4,
             "#fde0ef"
            ],
            [
             0.5,
             "#f7f7f7"
            ],
            [
             0.6,
             "#e6f5d0"
            ],
            [
             0.7,
             "#b8e186"
            ],
            [
             0.8,
             "#7fbc41"
            ],
            [
             0.9,
             "#4d9221"
            ],
            [
             1,
             "#276419"
            ]
           ],
           "sequential": [
            [
             0,
             "#0d0887"
            ],
            [
             0.1111111111111111,
             "#46039f"
            ],
            [
             0.2222222222222222,
             "#7201a8"
            ],
            [
             0.3333333333333333,
             "#9c179e"
            ],
            [
             0.4444444444444444,
             "#bd3786"
            ],
            [
             0.5555555555555556,
             "#d8576b"
            ],
            [
             0.6666666666666666,
             "#ed7953"
            ],
            [
             0.7777777777777778,
             "#fb9f3a"
            ],
            [
             0.8888888888888888,
             "#fdca26"
            ],
            [
             1,
             "#f0f921"
            ]
           ],
           "sequentialminus": [
            [
             0,
             "#0d0887"
            ],
            [
             0.1111111111111111,
             "#46039f"
            ],
            [
             0.2222222222222222,
             "#7201a8"
            ],
            [
             0.3333333333333333,
             "#9c179e"
            ],
            [
             0.4444444444444444,
             "#bd3786"
            ],
            [
             0.5555555555555556,
             "#d8576b"
            ],
            [
             0.6666666666666666,
             "#ed7953"
            ],
            [
             0.7777777777777778,
             "#fb9f3a"
            ],
            [
             0.8888888888888888,
             "#fdca26"
            ],
            [
             1,
             "#f0f921"
            ]
           ]
          },
          "colorway": [
           "#636efa",
           "#EF553B",
           "#00cc96",
           "#ab63fa",
           "#FFA15A",
           "#19d3f3",
           "#FF6692",
           "#B6E880",
           "#FF97FF",
           "#FECB52"
          ],
          "font": {
           "color": "#f2f5fa"
          },
          "geo": {
           "bgcolor": "rgb(17,17,17)",
           "lakecolor": "rgb(17,17,17)",
           "landcolor": "rgb(17,17,17)",
           "showlakes": true,
           "showland": true,
           "subunitcolor": "#506784"
          },
          "hoverlabel": {
           "align": "left"
          },
          "hovermode": "closest",
          "mapbox": {
           "style": "dark"
          },
          "paper_bgcolor": "rgb(17,17,17)",
          "plot_bgcolor": "rgb(17,17,17)",
          "polar": {
           "angularaxis": {
            "gridcolor": "#506784",
            "linecolor": "#506784",
            "ticks": ""
           },
           "bgcolor": "rgb(17,17,17)",
           "radialaxis": {
            "gridcolor": "#506784",
            "linecolor": "#506784",
            "ticks": ""
           }
          },
          "scene": {
           "xaxis": {
            "backgroundcolor": "rgb(17,17,17)",
            "gridcolor": "#506784",
            "gridwidth": 2,
            "linecolor": "#506784",
            "showbackground": true,
            "ticks": "",
            "zerolinecolor": "#C8D4E3"
           },
           "yaxis": {
            "backgroundcolor": "rgb(17,17,17)",
            "gridcolor": "#506784",
            "gridwidth": 2,
            "linecolor": "#506784",
            "showbackground": true,
            "ticks": "",
            "zerolinecolor": "#C8D4E3"
           },
           "zaxis": {
            "backgroundcolor": "rgb(17,17,17)",
            "gridcolor": "#506784",
            "gridwidth": 2,
            "linecolor": "#506784",
            "showbackground": true,
            "ticks": "",
            "zerolinecolor": "#C8D4E3"
           }
          },
          "shapedefaults": {
           "line": {
            "color": "#f2f5fa"
           }
          },
          "sliderdefaults": {
           "bgcolor": "#C8D4E3",
           "bordercolor": "rgb(17,17,17)",
           "borderwidth": 1,
           "tickwidth": 0
          },
          "ternary": {
           "aaxis": {
            "gridcolor": "#506784",
            "linecolor": "#506784",
            "ticks": ""
           },
           "baxis": {
            "gridcolor": "#506784",
            "linecolor": "#506784",
            "ticks": ""
           },
           "bgcolor": "rgb(17,17,17)",
           "caxis": {
            "gridcolor": "#506784",
            "linecolor": "#506784",
            "ticks": ""
           }
          },
          "title": {
           "x": 0.05
          },
          "updatemenudefaults": {
           "bgcolor": "#506784",
           "borderwidth": 0
          },
          "xaxis": {
           "automargin": true,
           "gridcolor": "#283442",
           "linecolor": "#506784",
           "ticks": "",
           "title": {
            "standoff": 15
           },
           "zerolinecolor": "#283442",
           "zerolinewidth": 2
          },
          "yaxis": {
           "automargin": true,
           "gridcolor": "#283442",
           "linecolor": "#506784",
           "ticks": "",
           "title": {
            "standoff": 15
           },
           "zerolinecolor": "#283442",
           "zerolinewidth": 2
          }
         }
        },
        "title": {
         "text": "Quali result through the season"
        },
        "xaxis": {
         "anchor": "y",
         "domain": [
          0,
          1
         ],
         "title": {
          "text": "raceIndex"
         }
        },
        "yaxis": {
         "anchor": "x",
         "autorange": "reversed",
         "domain": [
          0,
          1
         ],
         "title": {
          "text": "quali"
         }
        }
       }
      }
     },
     "metadata": {},
     "output_type": "display_data"
    }
   ],
   "source": [
    "# qualy result through the season\n",
    "fig = px.line(global_df, x=\"raceIndex\", y=\"quali\", color=\"driver\", title=\"Quali result through the season\", template=\"plotly_dark\", markers=True, color_discrete_map=driver_colors)\n",
    "fig.update_yaxes(autorange=\"reversed\")"
   ]
  },
  {
   "cell_type": "code",
   "execution_count": 45,
   "metadata": {},
   "outputs": [
    {
     "data": {
      "application/vnd.plotly.v1+json": {
       "config": {
        "plotlyServerURL": "https://plot.ly"
       },
       "data": [
        {
         "hovertemplate": "driver=BEA<br>raceIndex=%{x}<br>result=%{y}<extra></extra>",
         "legendgroup": "BEA",
         "line": {
          "color": "#636efa",
          "dash": "solid"
         },
         "marker": {
          "symbol": "circle"
         },
         "mode": "lines+markers",
         "name": "BEA",
         "orientation": "v",
         "showlegend": true,
         "type": "scatter",
         "x": [
          10,
          9,
          8,
          7,
          6,
          5,
          4,
          3,
          2
         ],
         "xaxis": "x",
         "y": [
          null,
          null,
          null,
          null,
          null,
          null,
          null,
          null,
          7
         ],
         "yaxis": "y"
        },
        {
         "hovertemplate": "driver=SAR<br>raceIndex=%{x}<br>result=%{y}<extra></extra>",
         "legendgroup": "SAR",
         "line": {
          "color": "#00a0dd",
          "dash": "solid"
         },
         "marker": {
          "symbol": "circle"
         },
         "mode": "lines+markers",
         "name": "SAR",
         "orientation": "v",
         "showlegend": true,
         "type": "scatter",
         "x": [
          10,
          9,
          8,
          7,
          6,
          5,
          4,
          3,
          2,
          1
         ],
         "xaxis": "x",
         "y": [
          20,
          20,
          15,
          17,
          20,
          17,
          17,
          null,
          14,
          20
         ],
         "yaxis": "y"
        },
        {
         "hovertemplate": "driver=ALB<br>raceIndex=%{x}<br>result=%{y}<extra></extra>",
         "legendgroup": "ALB",
         "line": {
          "color": "#00a0dd",
          "dash": "solid"
         },
         "marker": {
          "symbol": "circle"
         },
         "mode": "lines+markers",
         "name": "ALB",
         "orientation": "v",
         "showlegend": true,
         "type": "scatter",
         "x": [
          10,
          9,
          8,
          7,
          6,
          5,
          4,
          3,
          2,
          1
         ],
         "xaxis": "x",
         "y": [
          18,
          17,
          9,
          20,
          18,
          12,
          20,
          11,
          11,
          15
         ],
         "yaxis": "y"
        },
        {
         "hovertemplate": "driver=RIC<br>raceIndex=%{x}<br>result=%{y}<extra></extra>",
         "legendgroup": "RIC",
         "line": {
          "color": "#364aa9",
          "dash": "solid"
         },
         "marker": {
          "symbol": "circle"
         },
         "mode": "lines+markers",
         "name": "RIC",
         "orientation": "v",
         "showlegend": true,
         "type": "scatter",
         "x": [
          10,
          9,
          8,
          7,
          6,
          5,
          4,
          3,
          2,
          1
         ],
         "xaxis": "x",
         "y": [
          15,
          8,
          12,
          13,
          15,
          18,
          19,
          12,
          16,
          13
         ],
         "yaxis": "y"
        },
        {
         "hovertemplate": "driver=TSU<br>raceIndex=%{x}<br>result=%{y}<extra></extra>",
         "legendgroup": "TSU",
         "line": {
          "color": "#364aa9",
          "dash": "solid"
         },
         "marker": {
          "symbol": "circle"
         },
         "mode": "lines+markers",
         "name": "TSU",
         "orientation": "v",
         "showlegend": true,
         "type": "scatter",
         "x": [
          10,
          9,
          8,
          7,
          6,
          5,
          4,
          3,
          2,
          1
         ],
         "xaxis": "x",
         "y": [
          19,
          14,
          8,
          10,
          7,
          19,
          10,
          7,
          15,
          14
         ],
         "yaxis": "y"
        },
        {
         "hovertemplate": "driver=MAG<br>raceIndex=%{x}<br>result=%{y}<extra></extra>",
         "legendgroup": "MAG",
         "line": {
          "color": "#b6babd",
          "dash": "solid"
         },
         "marker": {
          "symbol": "circle"
         },
         "mode": "lines+markers",
         "name": "MAG",
         "orientation": "v",
         "showlegend": true,
         "type": "scatter",
         "x": [
          10,
          9,
          8,
          7,
          6,
          5,
          4,
          3,
          2,
          1
         ],
         "xaxis": "x",
         "y": [
          17,
          12,
          20,
          12,
          19,
          16,
          13,
          10,
          12,
          12
         ],
         "yaxis": "y"
        },
        {
         "hovertemplate": "driver=ZHO<br>raceIndex=%{x}<br>result=%{y}<extra></extra>",
         "legendgroup": "ZHO",
         "line": {
          "color": "#00e700",
          "dash": "solid"
         },
         "marker": {
          "symbol": "circle"
         },
         "mode": "lines+markers",
         "name": "ZHO",
         "orientation": "v",
         "showlegend": true,
         "type": "scatter",
         "x": [
          10,
          9,
          8,
          7,
          6,
          5,
          4,
          3,
          2,
          1
         ],
         "xaxis": "x",
         "y": [
          13,
          15,
          16,
          15,
          14,
          14,
          18,
          15,
          18,
          11
         ],
         "yaxis": "y"
        },
        {
         "hovertemplate": "driver=STR<br>raceIndex=%{x}<br>result=%{y}<extra></extra>",
         "legendgroup": "STR",
         "line": {
          "color": "#00665f",
          "dash": "solid"
         },
         "marker": {
          "symbol": "circle"
         },
         "mode": "lines+markers",
         "name": "STR",
         "orientation": "v",
         "showlegend": true,
         "type": "scatter",
         "x": [
          10,
          9,
          8,
          7,
          6,
          5,
          4,
          3,
          2,
          1
         ],
         "xaxis": "x",
         "y": [
          14,
          7,
          14,
          9,
          17,
          15,
          12,
          6,
          19,
          10
         ],
         "yaxis": "y"
        },
        {
         "hovertemplate": "driver=HUL<br>raceIndex=%{x}<br>result=%{y}<extra></extra>",
         "legendgroup": "HUL",
         "line": {
          "color": "#b6babd",
          "dash": "solid"
         },
         "marker": {
          "symbol": "circle"
         },
         "mode": "lines+markers",
         "name": "HUL",
         "orientation": "v",
         "showlegend": true,
         "type": "scatter",
         "x": [
          10,
          9,
          8,
          7,
          6,
          5,
          4,
          3,
          2,
          1
         ],
         "xaxis": "x",
         "y": [
          11,
          11,
          19,
          11,
          11,
          10,
          11,
          9,
          10,
          16
         ],
         "yaxis": "y"
        },
        {
         "hovertemplate": "driver=BOT<br>raceIndex=%{x}<br>result=%{y}<extra></extra>",
         "legendgroup": "BOT",
         "line": {
          "color": "#00e700",
          "dash": "solid"
         },
         "marker": {
          "symbol": "circle"
         },
         "mode": "lines+markers",
         "name": "BOT",
         "orientation": "v",
         "showlegend": true,
         "type": "scatter",
         "x": [
          10,
          9,
          8,
          7,
          6,
          5,
          4,
          3,
          2,
          1
         ],
         "xaxis": "x",
         "y": [
          16,
          13,
          13,
          18,
          16,
          20,
          14,
          14,
          17,
          19
         ],
         "yaxis": "y"
        },
        {
         "hovertemplate": "driver=ALO<br>raceIndex=%{x}<br>result=%{y}<extra></extra>",
         "legendgroup": "ALO",
         "line": {
          "color": "#00665f",
          "dash": "solid"
         },
         "marker": {
          "symbol": "circle"
         },
         "mode": "lines+markers",
         "name": "ALO",
         "orientation": "v",
         "showlegend": true,
         "type": "scatter",
         "x": [
          10,
          9,
          8,
          7,
          6,
          5,
          4,
          3,
          2,
          1
         ],
         "xaxis": "x",
         "y": [
          12,
          6,
          11,
          19,
          9,
          7,
          6,
          8,
          5,
          9
         ],
         "yaxis": "y"
        },
        {
         "hovertemplate": "driver=PIA<br>raceIndex=%{x}<br>result=%{y}<extra></extra>",
         "legendgroup": "PIA",
         "line": {
          "color": "#ff8000",
          "dash": "solid"
         },
         "marker": {
          "symbol": "circle"
         },
         "mode": "lines+markers",
         "name": "PIA",
         "orientation": "v",
         "showlegend": true,
         "type": "scatter",
         "x": [
          10,
          9,
          8,
          7,
          6,
          5,
          4,
          3,
          2,
          1
         ],
         "xaxis": "x",
         "y": [
          7,
          5,
          2,
          4,
          13,
          8,
          8,
          4,
          4,
          8
         ],
         "yaxis": "y"
        },
        {
         "hovertemplate": "driver=OCO<br>raceIndex=%{x}<br>result=%{y}<extra></extra>",
         "legendgroup": "OCO",
         "line": {
          "color": "#ff87bc",
          "dash": "solid"
         },
         "marker": {
          "symbol": "circle"
         },
         "mode": "lines+markers",
         "name": "OCO",
         "orientation": "v",
         "showlegend": true,
         "type": "scatter",
         "x": [
          10,
          9,
          8,
          7,
          6,
          5,
          4,
          3,
          2,
          1
         ],
         "xaxis": "x",
         "y": [
          10,
          10,
          17,
          14,
          10,
          11,
          15,
          16,
          13,
          17
         ],
         "yaxis": "y"
        },
        {
         "hovertemplate": "driver=PER<br>raceIndex=%{x}<br>result=%{y}<extra></extra>",
         "legendgroup": "PER",
         "line": {
          "color": "#0600ef",
          "dash": "solid"
         },
         "marker": {
          "symbol": "circle"
         },
         "mode": "lines+markers",
         "name": "PER",
         "orientation": "v",
         "showlegend": true,
         "type": "scatter",
         "x": [
          10,
          9,
          8,
          7,
          6,
          5,
          4,
          3,
          2,
          1
         ],
         "xaxis": "x",
         "y": [
          8,
          18,
          18,
          8,
          4,
          3,
          2,
          5,
          2,
          2
         ],
         "yaxis": "y"
        },
        {
         "hovertemplate": "driver=GAS<br>raceIndex=%{x}<br>result=%{y}<extra></extra>",
         "legendgroup": "GAS",
         "line": {
          "color": "#ff87bc",
          "dash": "solid"
         },
         "marker": {
          "symbol": "circle"
         },
         "mode": "lines+markers",
         "name": "GAS",
         "orientation": "v",
         "showlegend": true,
         "type": "scatter",
         "x": [
          10,
          9,
          8,
          7,
          6,
          5,
          4,
          3,
          2,
          1
         ],
         "xaxis": "x",
         "y": [
          9,
          9,
          10,
          16,
          12,
          13,
          16,
          13,
          20,
          18
         ],
         "yaxis": "y"
        },
        {
         "hovertemplate": "driver=SAI<br>raceIndex=%{x}<br>result=%{y}<extra></extra>",
         "legendgroup": "SAI",
         "line": {
          "color": "#e8002d",
          "dash": "solid"
         },
         "marker": {
          "symbol": "circle"
         },
         "mode": "lines+markers",
         "name": "SAI",
         "orientation": "v",
         "showlegend": true,
         "type": "scatter",
         "x": [
          10,
          9,
          8,
          7,
          6,
          5,
          4,
          3,
          2,
          1
         ],
         "xaxis": "x",
         "y": [
          6,
          16,
          3,
          5,
          5,
          5,
          3,
          1,
          null,
          3
         ],
         "yaxis": "y"
        },
        {
         "hovertemplate": "driver=LEC<br>raceIndex=%{x}<br>result=%{y}<extra></extra>",
         "legendgroup": "LEC",
         "line": {
          "color": "#e8002d",
          "dash": "solid"
         },
         "marker": {
          "symbol": "circle"
         },
         "mode": "lines+markers",
         "name": "LEC",
         "orientation": "v",
         "showlegend": true,
         "type": "scatter",
         "x": [
          10,
          9,
          8,
          7,
          6,
          5,
          4,
          3,
          2,
          1
         ],
         "xaxis": "x",
         "y": [
          5,
          19,
          1,
          3,
          3,
          4,
          4,
          2,
          3,
          4
         ],
         "yaxis": "y"
        },
        {
         "hovertemplate": "driver=RUS<br>raceIndex=%{x}<br>result=%{y}<extra></extra>",
         "legendgroup": "RUS",
         "line": {
          "color": "#27f4d2",
          "dash": "solid"
         },
         "marker": {
          "symbol": "circle"
         },
         "mode": "lines+markers",
         "name": "RUS",
         "orientation": "v",
         "showlegend": true,
         "type": "scatter",
         "x": [
          10,
          9,
          8,
          7,
          6,
          5,
          4,
          3,
          2,
          1
         ],
         "xaxis": "x",
         "y": [
          4,
          3,
          5,
          7,
          8,
          6,
          7,
          17,
          6,
          5
         ],
         "yaxis": "y"
        },
        {
         "hovertemplate": "driver=HAM<br>raceIndex=%{x}<br>result=%{y}<extra></extra>",
         "legendgroup": "HAM",
         "line": {
          "color": "#27f4d2",
          "dash": "solid"
         },
         "marker": {
          "symbol": "circle"
         },
         "mode": "lines+markers",
         "name": "HAM",
         "orientation": "v",
         "showlegend": true,
         "type": "scatter",
         "x": [
          10,
          9,
          8,
          7,
          6,
          5,
          4,
          3,
          2,
          1
         ],
         "xaxis": "x",
         "y": [
          3,
          4,
          7,
          6,
          6,
          9,
          9,
          18,
          9,
          7
         ],
         "yaxis": "y"
        },
        {
         "hovertemplate": "driver=VER<br>raceIndex=%{x}<br>result=%{y}<extra></extra>",
         "legendgroup": "VER",
         "line": {
          "color": "#0600ef",
          "dash": "solid"
         },
         "marker": {
          "symbol": "circle"
         },
         "mode": "lines+markers",
         "name": "VER",
         "orientation": "v",
         "showlegend": true,
         "type": "scatter",
         "x": [
          10,
          9,
          8,
          7,
          6,
          5,
          4,
          3,
          2,
          1
         ],
         "xaxis": "x",
         "y": [
          1,
          1,
          6,
          1,
          2,
          1,
          1,
          19,
          1,
          1
         ],
         "yaxis": "y"
        },
        {
         "hovertemplate": "driver=NOR<br>raceIndex=%{x}<br>result=%{y}<extra></extra>",
         "legendgroup": "NOR",
         "line": {
          "color": "#ff8000",
          "dash": "solid"
         },
         "marker": {
          "symbol": "circle"
         },
         "mode": "lines+markers",
         "name": "NOR",
         "orientation": "v",
         "showlegend": true,
         "type": "scatter",
         "x": [
          10,
          9,
          8,
          7,
          6,
          5,
          4,
          3,
          2,
          1
         ],
         "xaxis": "x",
         "y": [
          2,
          2,
          4,
          2,
          1,
          2,
          5,
          3,
          8,
          6
         ],
         "yaxis": "y"
        }
       ],
       "layout": {
        "legend": {
         "title": {
          "text": "driver"
         },
         "tracegroupgap": 0
        },
        "template": {
         "data": {
          "bar": [
           {
            "error_x": {
             "color": "#f2f5fa"
            },
            "error_y": {
             "color": "#f2f5fa"
            },
            "marker": {
             "line": {
              "color": "rgb(17,17,17)",
              "width": 0.5
             },
             "pattern": {
              "fillmode": "overlay",
              "size": 10,
              "solidity": 0.2
             }
            },
            "type": "bar"
           }
          ],
          "barpolar": [
           {
            "marker": {
             "line": {
              "color": "rgb(17,17,17)",
              "width": 0.5
             },
             "pattern": {
              "fillmode": "overlay",
              "size": 10,
              "solidity": 0.2
             }
            },
            "type": "barpolar"
           }
          ],
          "carpet": [
           {
            "aaxis": {
             "endlinecolor": "#A2B1C6",
             "gridcolor": "#506784",
             "linecolor": "#506784",
             "minorgridcolor": "#506784",
             "startlinecolor": "#A2B1C6"
            },
            "baxis": {
             "endlinecolor": "#A2B1C6",
             "gridcolor": "#506784",
             "linecolor": "#506784",
             "minorgridcolor": "#506784",
             "startlinecolor": "#A2B1C6"
            },
            "type": "carpet"
           }
          ],
          "choropleth": [
           {
            "colorbar": {
             "outlinewidth": 0,
             "ticks": ""
            },
            "type": "choropleth"
           }
          ],
          "contour": [
           {
            "colorbar": {
             "outlinewidth": 0,
             "ticks": ""
            },
            "colorscale": [
             [
              0,
              "#0d0887"
             ],
             [
              0.1111111111111111,
              "#46039f"
             ],
             [
              0.2222222222222222,
              "#7201a8"
             ],
             [
              0.3333333333333333,
              "#9c179e"
             ],
             [
              0.4444444444444444,
              "#bd3786"
             ],
             [
              0.5555555555555556,
              "#d8576b"
             ],
             [
              0.6666666666666666,
              "#ed7953"
             ],
             [
              0.7777777777777778,
              "#fb9f3a"
             ],
             [
              0.8888888888888888,
              "#fdca26"
             ],
             [
              1,
              "#f0f921"
             ]
            ],
            "type": "contour"
           }
          ],
          "contourcarpet": [
           {
            "colorbar": {
             "outlinewidth": 0,
             "ticks": ""
            },
            "type": "contourcarpet"
           }
          ],
          "heatmap": [
           {
            "colorbar": {
             "outlinewidth": 0,
             "ticks": ""
            },
            "colorscale": [
             [
              0,
              "#0d0887"
             ],
             [
              0.1111111111111111,
              "#46039f"
             ],
             [
              0.2222222222222222,
              "#7201a8"
             ],
             [
              0.3333333333333333,
              "#9c179e"
             ],
             [
              0.4444444444444444,
              "#bd3786"
             ],
             [
              0.5555555555555556,
              "#d8576b"
             ],
             [
              0.6666666666666666,
              "#ed7953"
             ],
             [
              0.7777777777777778,
              "#fb9f3a"
             ],
             [
              0.8888888888888888,
              "#fdca26"
             ],
             [
              1,
              "#f0f921"
             ]
            ],
            "type": "heatmap"
           }
          ],
          "heatmapgl": [
           {
            "colorbar": {
             "outlinewidth": 0,
             "ticks": ""
            },
            "colorscale": [
             [
              0,
              "#0d0887"
             ],
             [
              0.1111111111111111,
              "#46039f"
             ],
             [
              0.2222222222222222,
              "#7201a8"
             ],
             [
              0.3333333333333333,
              "#9c179e"
             ],
             [
              0.4444444444444444,
              "#bd3786"
             ],
             [
              0.5555555555555556,
              "#d8576b"
             ],
             [
              0.6666666666666666,
              "#ed7953"
             ],
             [
              0.7777777777777778,
              "#fb9f3a"
             ],
             [
              0.8888888888888888,
              "#fdca26"
             ],
             [
              1,
              "#f0f921"
             ]
            ],
            "type": "heatmapgl"
           }
          ],
          "histogram": [
           {
            "marker": {
             "pattern": {
              "fillmode": "overlay",
              "size": 10,
              "solidity": 0.2
             }
            },
            "type": "histogram"
           }
          ],
          "histogram2d": [
           {
            "colorbar": {
             "outlinewidth": 0,
             "ticks": ""
            },
            "colorscale": [
             [
              0,
              "#0d0887"
             ],
             [
              0.1111111111111111,
              "#46039f"
             ],
             [
              0.2222222222222222,
              "#7201a8"
             ],
             [
              0.3333333333333333,
              "#9c179e"
             ],
             [
              0.4444444444444444,
              "#bd3786"
             ],
             [
              0.5555555555555556,
              "#d8576b"
             ],
             [
              0.6666666666666666,
              "#ed7953"
             ],
             [
              0.7777777777777778,
              "#fb9f3a"
             ],
             [
              0.8888888888888888,
              "#fdca26"
             ],
             [
              1,
              "#f0f921"
             ]
            ],
            "type": "histogram2d"
           }
          ],
          "histogram2dcontour": [
           {
            "colorbar": {
             "outlinewidth": 0,
             "ticks": ""
            },
            "colorscale": [
             [
              0,
              "#0d0887"
             ],
             [
              0.1111111111111111,
              "#46039f"
             ],
             [
              0.2222222222222222,
              "#7201a8"
             ],
             [
              0.3333333333333333,
              "#9c179e"
             ],
             [
              0.4444444444444444,
              "#bd3786"
             ],
             [
              0.5555555555555556,
              "#d8576b"
             ],
             [
              0.6666666666666666,
              "#ed7953"
             ],
             [
              0.7777777777777778,
              "#fb9f3a"
             ],
             [
              0.8888888888888888,
              "#fdca26"
             ],
             [
              1,
              "#f0f921"
             ]
            ],
            "type": "histogram2dcontour"
           }
          ],
          "mesh3d": [
           {
            "colorbar": {
             "outlinewidth": 0,
             "ticks": ""
            },
            "type": "mesh3d"
           }
          ],
          "parcoords": [
           {
            "line": {
             "colorbar": {
              "outlinewidth": 0,
              "ticks": ""
             }
            },
            "type": "parcoords"
           }
          ],
          "pie": [
           {
            "automargin": true,
            "type": "pie"
           }
          ],
          "scatter": [
           {
            "marker": {
             "line": {
              "color": "#283442"
             }
            },
            "type": "scatter"
           }
          ],
          "scatter3d": [
           {
            "line": {
             "colorbar": {
              "outlinewidth": 0,
              "ticks": ""
             }
            },
            "marker": {
             "colorbar": {
              "outlinewidth": 0,
              "ticks": ""
             }
            },
            "type": "scatter3d"
           }
          ],
          "scattercarpet": [
           {
            "marker": {
             "colorbar": {
              "outlinewidth": 0,
              "ticks": ""
             }
            },
            "type": "scattercarpet"
           }
          ],
          "scattergeo": [
           {
            "marker": {
             "colorbar": {
              "outlinewidth": 0,
              "ticks": ""
             }
            },
            "type": "scattergeo"
           }
          ],
          "scattergl": [
           {
            "marker": {
             "line": {
              "color": "#283442"
             }
            },
            "type": "scattergl"
           }
          ],
          "scattermapbox": [
           {
            "marker": {
             "colorbar": {
              "outlinewidth": 0,
              "ticks": ""
             }
            },
            "type": "scattermapbox"
           }
          ],
          "scatterpolar": [
           {
            "marker": {
             "colorbar": {
              "outlinewidth": 0,
              "ticks": ""
             }
            },
            "type": "scatterpolar"
           }
          ],
          "scatterpolargl": [
           {
            "marker": {
             "colorbar": {
              "outlinewidth": 0,
              "ticks": ""
             }
            },
            "type": "scatterpolargl"
           }
          ],
          "scatterternary": [
           {
            "marker": {
             "colorbar": {
              "outlinewidth": 0,
              "ticks": ""
             }
            },
            "type": "scatterternary"
           }
          ],
          "surface": [
           {
            "colorbar": {
             "outlinewidth": 0,
             "ticks": ""
            },
            "colorscale": [
             [
              0,
              "#0d0887"
             ],
             [
              0.1111111111111111,
              "#46039f"
             ],
             [
              0.2222222222222222,
              "#7201a8"
             ],
             [
              0.3333333333333333,
              "#9c179e"
             ],
             [
              0.4444444444444444,
              "#bd3786"
             ],
             [
              0.5555555555555556,
              "#d8576b"
             ],
             [
              0.6666666666666666,
              "#ed7953"
             ],
             [
              0.7777777777777778,
              "#fb9f3a"
             ],
             [
              0.8888888888888888,
              "#fdca26"
             ],
             [
              1,
              "#f0f921"
             ]
            ],
            "type": "surface"
           }
          ],
          "table": [
           {
            "cells": {
             "fill": {
              "color": "#506784"
             },
             "line": {
              "color": "rgb(17,17,17)"
             }
            },
            "header": {
             "fill": {
              "color": "#2a3f5f"
             },
             "line": {
              "color": "rgb(17,17,17)"
             }
            },
            "type": "table"
           }
          ]
         },
         "layout": {
          "annotationdefaults": {
           "arrowcolor": "#f2f5fa",
           "arrowhead": 0,
           "arrowwidth": 1
          },
          "autotypenumbers": "strict",
          "coloraxis": {
           "colorbar": {
            "outlinewidth": 0,
            "ticks": ""
           }
          },
          "colorscale": {
           "diverging": [
            [
             0,
             "#8e0152"
            ],
            [
             0.1,
             "#c51b7d"
            ],
            [
             0.2,
             "#de77ae"
            ],
            [
             0.3,
             "#f1b6da"
            ],
            [
             0.4,
             "#fde0ef"
            ],
            [
             0.5,
             "#f7f7f7"
            ],
            [
             0.6,
             "#e6f5d0"
            ],
            [
             0.7,
             "#b8e186"
            ],
            [
             0.8,
             "#7fbc41"
            ],
            [
             0.9,
             "#4d9221"
            ],
            [
             1,
             "#276419"
            ]
           ],
           "sequential": [
            [
             0,
             "#0d0887"
            ],
            [
             0.1111111111111111,
             "#46039f"
            ],
            [
             0.2222222222222222,
             "#7201a8"
            ],
            [
             0.3333333333333333,
             "#9c179e"
            ],
            [
             0.4444444444444444,
             "#bd3786"
            ],
            [
             0.5555555555555556,
             "#d8576b"
            ],
            [
             0.6666666666666666,
             "#ed7953"
            ],
            [
             0.7777777777777778,
             "#fb9f3a"
            ],
            [
             0.8888888888888888,
             "#fdca26"
            ],
            [
             1,
             "#f0f921"
            ]
           ],
           "sequentialminus": [
            [
             0,
             "#0d0887"
            ],
            [
             0.1111111111111111,
             "#46039f"
            ],
            [
             0.2222222222222222,
             "#7201a8"
            ],
            [
             0.3333333333333333,
             "#9c179e"
            ],
            [
             0.4444444444444444,
             "#bd3786"
            ],
            [
             0.5555555555555556,
             "#d8576b"
            ],
            [
             0.6666666666666666,
             "#ed7953"
            ],
            [
             0.7777777777777778,
             "#fb9f3a"
            ],
            [
             0.8888888888888888,
             "#fdca26"
            ],
            [
             1,
             "#f0f921"
            ]
           ]
          },
          "colorway": [
           "#636efa",
           "#EF553B",
           "#00cc96",
           "#ab63fa",
           "#FFA15A",
           "#19d3f3",
           "#FF6692",
           "#B6E880",
           "#FF97FF",
           "#FECB52"
          ],
          "font": {
           "color": "#f2f5fa"
          },
          "geo": {
           "bgcolor": "rgb(17,17,17)",
           "lakecolor": "rgb(17,17,17)",
           "landcolor": "rgb(17,17,17)",
           "showlakes": true,
           "showland": true,
           "subunitcolor": "#506784"
          },
          "hoverlabel": {
           "align": "left"
          },
          "hovermode": "closest",
          "mapbox": {
           "style": "dark"
          },
          "paper_bgcolor": "rgb(17,17,17)",
          "plot_bgcolor": "rgb(17,17,17)",
          "polar": {
           "angularaxis": {
            "gridcolor": "#506784",
            "linecolor": "#506784",
            "ticks": ""
           },
           "bgcolor": "rgb(17,17,17)",
           "radialaxis": {
            "gridcolor": "#506784",
            "linecolor": "#506784",
            "ticks": ""
           }
          },
          "scene": {
           "xaxis": {
            "backgroundcolor": "rgb(17,17,17)",
            "gridcolor": "#506784",
            "gridwidth": 2,
            "linecolor": "#506784",
            "showbackground": true,
            "ticks": "",
            "zerolinecolor": "#C8D4E3"
           },
           "yaxis": {
            "backgroundcolor": "rgb(17,17,17)",
            "gridcolor": "#506784",
            "gridwidth": 2,
            "linecolor": "#506784",
            "showbackground": true,
            "ticks": "",
            "zerolinecolor": "#C8D4E3"
           },
           "zaxis": {
            "backgroundcolor": "rgb(17,17,17)",
            "gridcolor": "#506784",
            "gridwidth": 2,
            "linecolor": "#506784",
            "showbackground": true,
            "ticks": "",
            "zerolinecolor": "#C8D4E3"
           }
          },
          "shapedefaults": {
           "line": {
            "color": "#f2f5fa"
           }
          },
          "sliderdefaults": {
           "bgcolor": "#C8D4E3",
           "bordercolor": "rgb(17,17,17)",
           "borderwidth": 1,
           "tickwidth": 0
          },
          "ternary": {
           "aaxis": {
            "gridcolor": "#506784",
            "linecolor": "#506784",
            "ticks": ""
           },
           "baxis": {
            "gridcolor": "#506784",
            "linecolor": "#506784",
            "ticks": ""
           },
           "bgcolor": "rgb(17,17,17)",
           "caxis": {
            "gridcolor": "#506784",
            "linecolor": "#506784",
            "ticks": ""
           }
          },
          "title": {
           "x": 0.05
          },
          "updatemenudefaults": {
           "bgcolor": "#506784",
           "borderwidth": 0
          },
          "xaxis": {
           "automargin": true,
           "gridcolor": "#283442",
           "linecolor": "#506784",
           "ticks": "",
           "title": {
            "standoff": 15
           },
           "zerolinecolor": "#283442",
           "zerolinewidth": 2
          },
          "yaxis": {
           "automargin": true,
           "gridcolor": "#283442",
           "linecolor": "#506784",
           "ticks": "",
           "title": {
            "standoff": 15
           },
           "zerolinecolor": "#283442",
           "zerolinewidth": 2
          }
         }
        },
        "title": {
         "text": "Race result through the season"
        },
        "xaxis": {
         "anchor": "y",
         "domain": [
          0,
          1
         ],
         "title": {
          "text": "raceIndex"
         }
        },
        "yaxis": {
         "anchor": "x",
         "autorange": "reversed",
         "domain": [
          0,
          1
         ],
         "title": {
          "text": "result"
         }
        }
       }
      }
     },
     "metadata": {},
     "output_type": "display_data"
    }
   ],
   "source": [
    "# race result through the season\n",
    "fig = px.line(global_df, x=\"raceIndex\", y=\"result\", color=\"driver\", title=\"Race result through the season\", template=\"plotly_dark\", markers=True, color_discrete_map=driver_colors)\n",
    "fig.update_yaxes(autorange=\"reversed\")"
   ]
  },
  {
   "cell_type": "code",
   "execution_count": 46,
   "metadata": {},
   "outputs": [
    {
     "data": {
      "application/vnd.plotly.v1+json": {
       "config": {
        "plotlyServerURL": "https://plot.ly"
       },
       "data": [
        {
         "coloraxis": "coloraxis",
         "hovertemplate": "raceIndex: %{x}<br>driver: %{y}<br>color: %{z}<extra></extra>",
         "name": "0",
         "type": "heatmap",
         "x": [
          1,
          2,
          3,
          4,
          5,
          6,
          7,
          8,
          9,
          10
         ],
         "xaxis": "x",
         "y": [
          "ALB",
          "ALO",
          "BEA",
          "BOT",
          "GAS",
          "HAM",
          "HUL",
          "LEC",
          "MAG",
          "NOR",
          "OCO",
          "PER",
          "PIA",
          "RIC",
          "RUS",
          "SAI",
          "SAR",
          "STR",
          "TSU",
          "VER",
          "ZHO"
         ],
         "yaxis": "y",
         "z": [
          [
           13,
           12,
           12,
           14,
           14,
           14,
           14,
           9,
           10,
           19
          ],
          [
           6,
           4,
           10,
           5,
           3,
           15,
           19,
           16,
           6,
           11
          ],
          [
           null,
           11,
           null,
           null,
           null,
           null,
           null,
           null,
           null,
           null
          ],
          [
           16,
           16,
           13,
           13,
           10,
           16,
           16,
           19,
           17,
           12
          ],
          [
           20,
           18,
           17,
           17,
           15,
           12,
           15,
           10,
           15,
           7
          ],
          [
           9,
           8,
           11,
           7,
           18,
           8,
           8,
           7,
           7,
           3
          ],
          [
           10,
           15,
           16,
           12,
           9,
           9,
           10,
           12,
           19,
           13
          ],
          [
           2,
           2,
           5,
           8,
           6,
           2,
           4,
           1,
           11,
           5
          ],
          [
           15,
           13,
           14,
           18,
           17,
           19,
           18,
           15,
           14,
           16
          ],
          [
           7,
           6,
           4,
           3,
           4,
           5,
           3,
           4,
           3,
           1
          ],
          [
           19,
           17,
           15,
           15,
           13,
           13,
           12,
           11,
           18,
           9
          ],
          [
           5,
           3,
           3,
           2,
           2,
           4,
           11,
           18,
           16,
           8
          ],
          [
           8,
           5,
           6,
           6,
           5,
           6,
           2,
           2,
           4,
           10
          ],
          [
           14,
           14,
           18,
           11,
           12,
           18,
           9,
           13,
           5,
           18
          ],
          [
           3,
           7,
           7,
           9,
           8,
           7,
           6,
           5,
           1,
           4
          ],
          [
           4,
           null,
           2,
           4,
           7,
           3,
           5,
           3,
           12,
           6
          ],
          [
           18,
           19,
           null,
           19,
           20,
           17,
           20,
           17,
           13,
           20
          ],
          [
           12,
           10,
           9,
           16,
           11,
           11,
           13,
           14,
           9,
           14
          ],
          [
           11,
           9,
           8,
           10,
           19,
           10,
           7,
           8,
           8,
           17
          ],
          [
           1,
           1,
           1,
           1,
           1,
           1,
           1,
           6,
           2,
           2
          ],
          [
           17,
           20,
           19,
           20,
           16,
           20,
           17,
           20,
           20,
           15
          ]
         ]
        }
       ],
       "layout": {
        "coloraxis": {
         "colorscale": [
          [
           0,
           "#fde725"
          ],
          [
           0.1111111111111111,
           "#b5de2b"
          ],
          [
           0.2222222222222222,
           "#6ece58"
          ],
          [
           0.3333333333333333,
           "#35b779"
          ],
          [
           0.4444444444444444,
           "#1f9e89"
          ],
          [
           0.5555555555555556,
           "#26828e"
          ],
          [
           0.6666666666666666,
           "#31688e"
          ],
          [
           0.7777777777777778,
           "#3e4989"
          ],
          [
           0.8888888888888888,
           "#482878"
          ],
          [
           1,
           "#440154"
          ]
         ]
        },
        "height": 800,
        "template": {
         "data": {
          "bar": [
           {
            "error_x": {
             "color": "#f2f5fa"
            },
            "error_y": {
             "color": "#f2f5fa"
            },
            "marker": {
             "line": {
              "color": "rgb(17,17,17)",
              "width": 0.5
             },
             "pattern": {
              "fillmode": "overlay",
              "size": 10,
              "solidity": 0.2
             }
            },
            "type": "bar"
           }
          ],
          "barpolar": [
           {
            "marker": {
             "line": {
              "color": "rgb(17,17,17)",
              "width": 0.5
             },
             "pattern": {
              "fillmode": "overlay",
              "size": 10,
              "solidity": 0.2
             }
            },
            "type": "barpolar"
           }
          ],
          "carpet": [
           {
            "aaxis": {
             "endlinecolor": "#A2B1C6",
             "gridcolor": "#506784",
             "linecolor": "#506784",
             "minorgridcolor": "#506784",
             "startlinecolor": "#A2B1C6"
            },
            "baxis": {
             "endlinecolor": "#A2B1C6",
             "gridcolor": "#506784",
             "linecolor": "#506784",
             "minorgridcolor": "#506784",
             "startlinecolor": "#A2B1C6"
            },
            "type": "carpet"
           }
          ],
          "choropleth": [
           {
            "colorbar": {
             "outlinewidth": 0,
             "ticks": ""
            },
            "type": "choropleth"
           }
          ],
          "contour": [
           {
            "colorbar": {
             "outlinewidth": 0,
             "ticks": ""
            },
            "colorscale": [
             [
              0,
              "#0d0887"
             ],
             [
              0.1111111111111111,
              "#46039f"
             ],
             [
              0.2222222222222222,
              "#7201a8"
             ],
             [
              0.3333333333333333,
              "#9c179e"
             ],
             [
              0.4444444444444444,
              "#bd3786"
             ],
             [
              0.5555555555555556,
              "#d8576b"
             ],
             [
              0.6666666666666666,
              "#ed7953"
             ],
             [
              0.7777777777777778,
              "#fb9f3a"
             ],
             [
              0.8888888888888888,
              "#fdca26"
             ],
             [
              1,
              "#f0f921"
             ]
            ],
            "type": "contour"
           }
          ],
          "contourcarpet": [
           {
            "colorbar": {
             "outlinewidth": 0,
             "ticks": ""
            },
            "type": "contourcarpet"
           }
          ],
          "heatmap": [
           {
            "colorbar": {
             "outlinewidth": 0,
             "ticks": ""
            },
            "colorscale": [
             [
              0,
              "#0d0887"
             ],
             [
              0.1111111111111111,
              "#46039f"
             ],
             [
              0.2222222222222222,
              "#7201a8"
             ],
             [
              0.3333333333333333,
              "#9c179e"
             ],
             [
              0.4444444444444444,
              "#bd3786"
             ],
             [
              0.5555555555555556,
              "#d8576b"
             ],
             [
              0.6666666666666666,
              "#ed7953"
             ],
             [
              0.7777777777777778,
              "#fb9f3a"
             ],
             [
              0.8888888888888888,
              "#fdca26"
             ],
             [
              1,
              "#f0f921"
             ]
            ],
            "type": "heatmap"
           }
          ],
          "heatmapgl": [
           {
            "colorbar": {
             "outlinewidth": 0,
             "ticks": ""
            },
            "colorscale": [
             [
              0,
              "#0d0887"
             ],
             [
              0.1111111111111111,
              "#46039f"
             ],
             [
              0.2222222222222222,
              "#7201a8"
             ],
             [
              0.3333333333333333,
              "#9c179e"
             ],
             [
              0.4444444444444444,
              "#bd3786"
             ],
             [
              0.5555555555555556,
              "#d8576b"
             ],
             [
              0.6666666666666666,
              "#ed7953"
             ],
             [
              0.7777777777777778,
              "#fb9f3a"
             ],
             [
              0.8888888888888888,
              "#fdca26"
             ],
             [
              1,
              "#f0f921"
             ]
            ],
            "type": "heatmapgl"
           }
          ],
          "histogram": [
           {
            "marker": {
             "pattern": {
              "fillmode": "overlay",
              "size": 10,
              "solidity": 0.2
             }
            },
            "type": "histogram"
           }
          ],
          "histogram2d": [
           {
            "colorbar": {
             "outlinewidth": 0,
             "ticks": ""
            },
            "colorscale": [
             [
              0,
              "#0d0887"
             ],
             [
              0.1111111111111111,
              "#46039f"
             ],
             [
              0.2222222222222222,
              "#7201a8"
             ],
             [
              0.3333333333333333,
              "#9c179e"
             ],
             [
              0.4444444444444444,
              "#bd3786"
             ],
             [
              0.5555555555555556,
              "#d8576b"
             ],
             [
              0.6666666666666666,
              "#ed7953"
             ],
             [
              0.7777777777777778,
              "#fb9f3a"
             ],
             [
              0.8888888888888888,
              "#fdca26"
             ],
             [
              1,
              "#f0f921"
             ]
            ],
            "type": "histogram2d"
           }
          ],
          "histogram2dcontour": [
           {
            "colorbar": {
             "outlinewidth": 0,
             "ticks": ""
            },
            "colorscale": [
             [
              0,
              "#0d0887"
             ],
             [
              0.1111111111111111,
              "#46039f"
             ],
             [
              0.2222222222222222,
              "#7201a8"
             ],
             [
              0.3333333333333333,
              "#9c179e"
             ],
             [
              0.4444444444444444,
              "#bd3786"
             ],
             [
              0.5555555555555556,
              "#d8576b"
             ],
             [
              0.6666666666666666,
              "#ed7953"
             ],
             [
              0.7777777777777778,
              "#fb9f3a"
             ],
             [
              0.8888888888888888,
              "#fdca26"
             ],
             [
              1,
              "#f0f921"
             ]
            ],
            "type": "histogram2dcontour"
           }
          ],
          "mesh3d": [
           {
            "colorbar": {
             "outlinewidth": 0,
             "ticks": ""
            },
            "type": "mesh3d"
           }
          ],
          "parcoords": [
           {
            "line": {
             "colorbar": {
              "outlinewidth": 0,
              "ticks": ""
             }
            },
            "type": "parcoords"
           }
          ],
          "pie": [
           {
            "automargin": true,
            "type": "pie"
           }
          ],
          "scatter": [
           {
            "marker": {
             "line": {
              "color": "#283442"
             }
            },
            "type": "scatter"
           }
          ],
          "scatter3d": [
           {
            "line": {
             "colorbar": {
              "outlinewidth": 0,
              "ticks": ""
             }
            },
            "marker": {
             "colorbar": {
              "outlinewidth": 0,
              "ticks": ""
             }
            },
            "type": "scatter3d"
           }
          ],
          "scattercarpet": [
           {
            "marker": {
             "colorbar": {
              "outlinewidth": 0,
              "ticks": ""
             }
            },
            "type": "scattercarpet"
           }
          ],
          "scattergeo": [
           {
            "marker": {
             "colorbar": {
              "outlinewidth": 0,
              "ticks": ""
             }
            },
            "type": "scattergeo"
           }
          ],
          "scattergl": [
           {
            "marker": {
             "line": {
              "color": "#283442"
             }
            },
            "type": "scattergl"
           }
          ],
          "scattermapbox": [
           {
            "marker": {
             "colorbar": {
              "outlinewidth": 0,
              "ticks": ""
             }
            },
            "type": "scattermapbox"
           }
          ],
          "scatterpolar": [
           {
            "marker": {
             "colorbar": {
              "outlinewidth": 0,
              "ticks": ""
             }
            },
            "type": "scatterpolar"
           }
          ],
          "scatterpolargl": [
           {
            "marker": {
             "colorbar": {
              "outlinewidth": 0,
              "ticks": ""
             }
            },
            "type": "scatterpolargl"
           }
          ],
          "scatterternary": [
           {
            "marker": {
             "colorbar": {
              "outlinewidth": 0,
              "ticks": ""
             }
            },
            "type": "scatterternary"
           }
          ],
          "surface": [
           {
            "colorbar": {
             "outlinewidth": 0,
             "ticks": ""
            },
            "colorscale": [
             [
              0,
              "#0d0887"
             ],
             [
              0.1111111111111111,
              "#46039f"
             ],
             [
              0.2222222222222222,
              "#7201a8"
             ],
             [
              0.3333333333333333,
              "#9c179e"
             ],
             [
              0.4444444444444444,
              "#bd3786"
             ],
             [
              0.5555555555555556,
              "#d8576b"
             ],
             [
              0.6666666666666666,
              "#ed7953"
             ],
             [
              0.7777777777777778,
              "#fb9f3a"
             ],
             [
              0.8888888888888888,
              "#fdca26"
             ],
             [
              1,
              "#f0f921"
             ]
            ],
            "type": "surface"
           }
          ],
          "table": [
           {
            "cells": {
             "fill": {
              "color": "#506784"
             },
             "line": {
              "color": "rgb(17,17,17)"
             }
            },
            "header": {
             "fill": {
              "color": "#2a3f5f"
             },
             "line": {
              "color": "rgb(17,17,17)"
             }
            },
            "type": "table"
           }
          ]
         },
         "layout": {
          "annotationdefaults": {
           "arrowcolor": "#f2f5fa",
           "arrowhead": 0,
           "arrowwidth": 1
          },
          "autotypenumbers": "strict",
          "coloraxis": {
           "colorbar": {
            "outlinewidth": 0,
            "ticks": ""
           }
          },
          "colorscale": {
           "diverging": [
            [
             0,
             "#8e0152"
            ],
            [
             0.1,
             "#c51b7d"
            ],
            [
             0.2,
             "#de77ae"
            ],
            [
             0.3,
             "#f1b6da"
            ],
            [
             0.4,
             "#fde0ef"
            ],
            [
             0.5,
             "#f7f7f7"
            ],
            [
             0.6,
             "#e6f5d0"
            ],
            [
             0.7,
             "#b8e186"
            ],
            [
             0.8,
             "#7fbc41"
            ],
            [
             0.9,
             "#4d9221"
            ],
            [
             1,
             "#276419"
            ]
           ],
           "sequential": [
            [
             0,
             "#0d0887"
            ],
            [
             0.1111111111111111,
             "#46039f"
            ],
            [
             0.2222222222222222,
             "#7201a8"
            ],
            [
             0.3333333333333333,
             "#9c179e"
            ],
            [
             0.4444444444444444,
             "#bd3786"
            ],
            [
             0.5555555555555556,
             "#d8576b"
            ],
            [
             0.6666666666666666,
             "#ed7953"
            ],
            [
             0.7777777777777778,
             "#fb9f3a"
            ],
            [
             0.8888888888888888,
             "#fdca26"
            ],
            [
             1,
             "#f0f921"
            ]
           ],
           "sequentialminus": [
            [
             0,
             "#0d0887"
            ],
            [
             0.1111111111111111,
             "#46039f"
            ],
            [
             0.2222222222222222,
             "#7201a8"
            ],
            [
             0.3333333333333333,
             "#9c179e"
            ],
            [
             0.4444444444444444,
             "#bd3786"
            ],
            [
             0.5555555555555556,
             "#d8576b"
            ],
            [
             0.6666666666666666,
             "#ed7953"
            ],
            [
             0.7777777777777778,
             "#fb9f3a"
            ],
            [
             0.8888888888888888,
             "#fdca26"
            ],
            [
             1,
             "#f0f921"
            ]
           ]
          },
          "colorway": [
           "#636efa",
           "#EF553B",
           "#00cc96",
           "#ab63fa",
           "#FFA15A",
           "#19d3f3",
           "#FF6692",
           "#B6E880",
           "#FF97FF",
           "#FECB52"
          ],
          "font": {
           "color": "#f2f5fa"
          },
          "geo": {
           "bgcolor": "rgb(17,17,17)",
           "lakecolor": "rgb(17,17,17)",
           "landcolor": "rgb(17,17,17)",
           "showlakes": true,
           "showland": true,
           "subunitcolor": "#506784"
          },
          "hoverlabel": {
           "align": "left"
          },
          "hovermode": "closest",
          "mapbox": {
           "style": "dark"
          },
          "paper_bgcolor": "rgb(17,17,17)",
          "plot_bgcolor": "rgb(17,17,17)",
          "polar": {
           "angularaxis": {
            "gridcolor": "#506784",
            "linecolor": "#506784",
            "ticks": ""
           },
           "bgcolor": "rgb(17,17,17)",
           "radialaxis": {
            "gridcolor": "#506784",
            "linecolor": "#506784",
            "ticks": ""
           }
          },
          "scene": {
           "xaxis": {
            "backgroundcolor": "rgb(17,17,17)",
            "gridcolor": "#506784",
            "gridwidth": 2,
            "linecolor": "#506784",
            "showbackground": true,
            "ticks": "",
            "zerolinecolor": "#C8D4E3"
           },
           "yaxis": {
            "backgroundcolor": "rgb(17,17,17)",
            "gridcolor": "#506784",
            "gridwidth": 2,
            "linecolor": "#506784",
            "showbackground": true,
            "ticks": "",
            "zerolinecolor": "#C8D4E3"
           },
           "zaxis": {
            "backgroundcolor": "rgb(17,17,17)",
            "gridcolor": "#506784",
            "gridwidth": 2,
            "linecolor": "#506784",
            "showbackground": true,
            "ticks": "",
            "zerolinecolor": "#C8D4E3"
           }
          },
          "shapedefaults": {
           "line": {
            "color": "#f2f5fa"
           }
          },
          "sliderdefaults": {
           "bgcolor": "#C8D4E3",
           "bordercolor": "rgb(17,17,17)",
           "borderwidth": 1,
           "tickwidth": 0
          },
          "ternary": {
           "aaxis": {
            "gridcolor": "#506784",
            "linecolor": "#506784",
            "ticks": ""
           },
           "baxis": {
            "gridcolor": "#506784",
            "linecolor": "#506784",
            "ticks": ""
           },
           "bgcolor": "rgb(17,17,17)",
           "caxis": {
            "gridcolor": "#506784",
            "linecolor": "#506784",
            "ticks": ""
           }
          },
          "title": {
           "x": 0.05
          },
          "updatemenudefaults": {
           "bgcolor": "#506784",
           "borderwidth": 0
          },
          "xaxis": {
           "automargin": true,
           "gridcolor": "#283442",
           "linecolor": "#506784",
           "ticks": "",
           "title": {
            "standoff": 15
           },
           "zerolinecolor": "#283442",
           "zerolinewidth": 2
          },
          "yaxis": {
           "automargin": true,
           "gridcolor": "#283442",
           "linecolor": "#506784",
           "ticks": "",
           "title": {
            "standoff": 15
           },
           "zerolinecolor": "#283442",
           "zerolinewidth": 2
          }
         }
        },
        "title": {
         "text": "Global qualy per driver"
        },
        "width": 1200,
        "xaxis": {
         "anchor": "y",
         "constrain": "domain",
         "domain": [
          0,
          1
         ],
         "scaleanchor": "y",
         "title": {
          "text": "raceIndex"
         }
        },
        "yaxis": {
         "anchor": "x",
         "autorange": "reversed",
         "constrain": "domain",
         "domain": [
          0,
          1
         ],
         "title": {
          "text": "driver"
         }
        }
       }
      }
     },
     "metadata": {},
     "output_type": "display_data"
    }
   ],
   "source": [
    "# global per driver\n",
    "px.imshow(global_df.pivot(index=\"driver\", columns=\"raceIndex\", values=\"quali\"), title=\"Global qualy per driver\", template=\"plotly_dark\", width=1200, height=800, color_continuous_scale=\"Viridis_r\")\n"
   ]
  },
  {
   "cell_type": "code",
   "execution_count": 47,
   "metadata": {},
   "outputs": [
    {
     "data": {
      "application/vnd.plotly.v1+json": {
       "config": {
        "plotlyServerURL": "https://plot.ly"
       },
       "data": [
        {
         "coloraxis": "coloraxis",
         "hovertemplate": "raceIndex: %{x}<br>driver: %{y}<br>color: %{z}<extra></extra>",
         "name": "0",
         "type": "heatmap",
         "x": [
          1,
          2,
          3,
          4,
          5,
          6,
          7,
          8,
          9,
          10
         ],
         "xaxis": "x",
         "y": [
          "ALB",
          "ALO",
          "BEA",
          "BOT",
          "GAS",
          "HAM",
          "HUL",
          "LEC",
          "MAG",
          "NOR",
          "OCO",
          "PER",
          "PIA",
          "RIC",
          "RUS",
          "SAI",
          "SAR",
          "STR",
          "TSU",
          "VER",
          "ZHO"
         ],
         "yaxis": "y",
         "z": [
          [
           15,
           11,
           11,
           20,
           12,
           18,
           20,
           9,
           17,
           18
          ],
          [
           9,
           5,
           8,
           6,
           7,
           9,
           19,
           11,
           6,
           12
          ],
          [
           null,
           7,
           null,
           null,
           null,
           null,
           null,
           null,
           null,
           null
          ],
          [
           19,
           17,
           14,
           14,
           20,
           16,
           18,
           13,
           13,
           16
          ],
          [
           18,
           20,
           13,
           16,
           13,
           12,
           16,
           10,
           9,
           9
          ],
          [
           7,
           9,
           18,
           9,
           9,
           6,
           6,
           7,
           4,
           3
          ],
          [
           16,
           10,
           9,
           11,
           10,
           11,
           11,
           19,
           11,
           11
          ],
          [
           4,
           3,
           2,
           4,
           4,
           3,
           3,
           1,
           19,
           5
          ],
          [
           12,
           12,
           10,
           13,
           16,
           19,
           12,
           20,
           12,
           17
          ],
          [
           6,
           8,
           3,
           5,
           2,
           1,
           2,
           4,
           2,
           2
          ],
          [
           17,
           13,
           16,
           15,
           11,
           10,
           14,
           17,
           10,
           10
          ],
          [
           2,
           2,
           5,
           2,
           3,
           4,
           8,
           18,
           18,
           8
          ],
          [
           8,
           4,
           4,
           8,
           8,
           13,
           4,
           2,
           5,
           7
          ],
          [
           13,
           16,
           12,
           19,
           18,
           15,
           13,
           12,
           8,
           15
          ],
          [
           5,
           6,
           17,
           7,
           6,
           8,
           7,
           5,
           3,
           4
          ],
          [
           3,
           null,
           1,
           3,
           5,
           5,
           5,
           3,
           16,
           6
          ],
          [
           20,
           14,
           null,
           17,
           17,
           20,
           17,
           15,
           20,
           20
          ],
          [
           10,
           19,
           6,
           12,
           15,
           17,
           9,
           14,
           7,
           14
          ],
          [
           14,
           15,
           7,
           10,
           19,
           7,
           10,
           8,
           14,
           19
          ],
          [
           1,
           1,
           19,
           1,
           1,
           2,
           1,
           6,
           1,
           1
          ],
          [
           11,
           18,
           15,
           18,
           14,
           14,
           15,
           16,
           15,
           13
          ]
         ]
        }
       ],
       "layout": {
        "coloraxis": {
         "colorscale": [
          [
           0,
           "#fde725"
          ],
          [
           0.1111111111111111,
           "#b5de2b"
          ],
          [
           0.2222222222222222,
           "#6ece58"
          ],
          [
           0.3333333333333333,
           "#35b779"
          ],
          [
           0.4444444444444444,
           "#1f9e89"
          ],
          [
           0.5555555555555556,
           "#26828e"
          ],
          [
           0.6666666666666666,
           "#31688e"
          ],
          [
           0.7777777777777778,
           "#3e4989"
          ],
          [
           0.8888888888888888,
           "#482878"
          ],
          [
           1,
           "#440154"
          ]
         ]
        },
        "height": 800,
        "template": {
         "data": {
          "bar": [
           {
            "error_x": {
             "color": "#f2f5fa"
            },
            "error_y": {
             "color": "#f2f5fa"
            },
            "marker": {
             "line": {
              "color": "rgb(17,17,17)",
              "width": 0.5
             },
             "pattern": {
              "fillmode": "overlay",
              "size": 10,
              "solidity": 0.2
             }
            },
            "type": "bar"
           }
          ],
          "barpolar": [
           {
            "marker": {
             "line": {
              "color": "rgb(17,17,17)",
              "width": 0.5
             },
             "pattern": {
              "fillmode": "overlay",
              "size": 10,
              "solidity": 0.2
             }
            },
            "type": "barpolar"
           }
          ],
          "carpet": [
           {
            "aaxis": {
             "endlinecolor": "#A2B1C6",
             "gridcolor": "#506784",
             "linecolor": "#506784",
             "minorgridcolor": "#506784",
             "startlinecolor": "#A2B1C6"
            },
            "baxis": {
             "endlinecolor": "#A2B1C6",
             "gridcolor": "#506784",
             "linecolor": "#506784",
             "minorgridcolor": "#506784",
             "startlinecolor": "#A2B1C6"
            },
            "type": "carpet"
           }
          ],
          "choropleth": [
           {
            "colorbar": {
             "outlinewidth": 0,
             "ticks": ""
            },
            "type": "choropleth"
           }
          ],
          "contour": [
           {
            "colorbar": {
             "outlinewidth": 0,
             "ticks": ""
            },
            "colorscale": [
             [
              0,
              "#0d0887"
             ],
             [
              0.1111111111111111,
              "#46039f"
             ],
             [
              0.2222222222222222,
              "#7201a8"
             ],
             [
              0.3333333333333333,
              "#9c179e"
             ],
             [
              0.4444444444444444,
              "#bd3786"
             ],
             [
              0.5555555555555556,
              "#d8576b"
             ],
             [
              0.6666666666666666,
              "#ed7953"
             ],
             [
              0.7777777777777778,
              "#fb9f3a"
             ],
             [
              0.8888888888888888,
              "#fdca26"
             ],
             [
              1,
              "#f0f921"
             ]
            ],
            "type": "contour"
           }
          ],
          "contourcarpet": [
           {
            "colorbar": {
             "outlinewidth": 0,
             "ticks": ""
            },
            "type": "contourcarpet"
           }
          ],
          "heatmap": [
           {
            "colorbar": {
             "outlinewidth": 0,
             "ticks": ""
            },
            "colorscale": [
             [
              0,
              "#0d0887"
             ],
             [
              0.1111111111111111,
              "#46039f"
             ],
             [
              0.2222222222222222,
              "#7201a8"
             ],
             [
              0.3333333333333333,
              "#9c179e"
             ],
             [
              0.4444444444444444,
              "#bd3786"
             ],
             [
              0.5555555555555556,
              "#d8576b"
             ],
             [
              0.6666666666666666,
              "#ed7953"
             ],
             [
              0.7777777777777778,
              "#fb9f3a"
             ],
             [
              0.8888888888888888,
              "#fdca26"
             ],
             [
              1,
              "#f0f921"
             ]
            ],
            "type": "heatmap"
           }
          ],
          "heatmapgl": [
           {
            "colorbar": {
             "outlinewidth": 0,
             "ticks": ""
            },
            "colorscale": [
             [
              0,
              "#0d0887"
             ],
             [
              0.1111111111111111,
              "#46039f"
             ],
             [
              0.2222222222222222,
              "#7201a8"
             ],
             [
              0.3333333333333333,
              "#9c179e"
             ],
             [
              0.4444444444444444,
              "#bd3786"
             ],
             [
              0.5555555555555556,
              "#d8576b"
             ],
             [
              0.6666666666666666,
              "#ed7953"
             ],
             [
              0.7777777777777778,
              "#fb9f3a"
             ],
             [
              0.8888888888888888,
              "#fdca26"
             ],
             [
              1,
              "#f0f921"
             ]
            ],
            "type": "heatmapgl"
           }
          ],
          "histogram": [
           {
            "marker": {
             "pattern": {
              "fillmode": "overlay",
              "size": 10,
              "solidity": 0.2
             }
            },
            "type": "histogram"
           }
          ],
          "histogram2d": [
           {
            "colorbar": {
             "outlinewidth": 0,
             "ticks": ""
            },
            "colorscale": [
             [
              0,
              "#0d0887"
             ],
             [
              0.1111111111111111,
              "#46039f"
             ],
             [
              0.2222222222222222,
              "#7201a8"
             ],
             [
              0.3333333333333333,
              "#9c179e"
             ],
             [
              0.4444444444444444,
              "#bd3786"
             ],
             [
              0.5555555555555556,
              "#d8576b"
             ],
             [
              0.6666666666666666,
              "#ed7953"
             ],
             [
              0.7777777777777778,
              "#fb9f3a"
             ],
             [
              0.8888888888888888,
              "#fdca26"
             ],
             [
              1,
              "#f0f921"
             ]
            ],
            "type": "histogram2d"
           }
          ],
          "histogram2dcontour": [
           {
            "colorbar": {
             "outlinewidth": 0,
             "ticks": ""
            },
            "colorscale": [
             [
              0,
              "#0d0887"
             ],
             [
              0.1111111111111111,
              "#46039f"
             ],
             [
              0.2222222222222222,
              "#7201a8"
             ],
             [
              0.3333333333333333,
              "#9c179e"
             ],
             [
              0.4444444444444444,
              "#bd3786"
             ],
             [
              0.5555555555555556,
              "#d8576b"
             ],
             [
              0.6666666666666666,
              "#ed7953"
             ],
             [
              0.7777777777777778,
              "#fb9f3a"
             ],
             [
              0.8888888888888888,
              "#fdca26"
             ],
             [
              1,
              "#f0f921"
             ]
            ],
            "type": "histogram2dcontour"
           }
          ],
          "mesh3d": [
           {
            "colorbar": {
             "outlinewidth": 0,
             "ticks": ""
            },
            "type": "mesh3d"
           }
          ],
          "parcoords": [
           {
            "line": {
             "colorbar": {
              "outlinewidth": 0,
              "ticks": ""
             }
            },
            "type": "parcoords"
           }
          ],
          "pie": [
           {
            "automargin": true,
            "type": "pie"
           }
          ],
          "scatter": [
           {
            "marker": {
             "line": {
              "color": "#283442"
             }
            },
            "type": "scatter"
           }
          ],
          "scatter3d": [
           {
            "line": {
             "colorbar": {
              "outlinewidth": 0,
              "ticks": ""
             }
            },
            "marker": {
             "colorbar": {
              "outlinewidth": 0,
              "ticks": ""
             }
            },
            "type": "scatter3d"
           }
          ],
          "scattercarpet": [
           {
            "marker": {
             "colorbar": {
              "outlinewidth": 0,
              "ticks": ""
             }
            },
            "type": "scattercarpet"
           }
          ],
          "scattergeo": [
           {
            "marker": {
             "colorbar": {
              "outlinewidth": 0,
              "ticks": ""
             }
            },
            "type": "scattergeo"
           }
          ],
          "scattergl": [
           {
            "marker": {
             "line": {
              "color": "#283442"
             }
            },
            "type": "scattergl"
           }
          ],
          "scattermapbox": [
           {
            "marker": {
             "colorbar": {
              "outlinewidth": 0,
              "ticks": ""
             }
            },
            "type": "scattermapbox"
           }
          ],
          "scatterpolar": [
           {
            "marker": {
             "colorbar": {
              "outlinewidth": 0,
              "ticks": ""
             }
            },
            "type": "scatterpolar"
           }
          ],
          "scatterpolargl": [
           {
            "marker": {
             "colorbar": {
              "outlinewidth": 0,
              "ticks": ""
             }
            },
            "type": "scatterpolargl"
           }
          ],
          "scatterternary": [
           {
            "marker": {
             "colorbar": {
              "outlinewidth": 0,
              "ticks": ""
             }
            },
            "type": "scatterternary"
           }
          ],
          "surface": [
           {
            "colorbar": {
             "outlinewidth": 0,
             "ticks": ""
            },
            "colorscale": [
             [
              0,
              "#0d0887"
             ],
             [
              0.1111111111111111,
              "#46039f"
             ],
             [
              0.2222222222222222,
              "#7201a8"
             ],
             [
              0.3333333333333333,
              "#9c179e"
             ],
             [
              0.4444444444444444,
              "#bd3786"
             ],
             [
              0.5555555555555556,
              "#d8576b"
             ],
             [
              0.6666666666666666,
              "#ed7953"
             ],
             [
              0.7777777777777778,
              "#fb9f3a"
             ],
             [
              0.8888888888888888,
              "#fdca26"
             ],
             [
              1,
              "#f0f921"
             ]
            ],
            "type": "surface"
           }
          ],
          "table": [
           {
            "cells": {
             "fill": {
              "color": "#506784"
             },
             "line": {
              "color": "rgb(17,17,17)"
             }
            },
            "header": {
             "fill": {
              "color": "#2a3f5f"
             },
             "line": {
              "color": "rgb(17,17,17)"
             }
            },
            "type": "table"
           }
          ]
         },
         "layout": {
          "annotationdefaults": {
           "arrowcolor": "#f2f5fa",
           "arrowhead": 0,
           "arrowwidth": 1
          },
          "autotypenumbers": "strict",
          "coloraxis": {
           "colorbar": {
            "outlinewidth": 0,
            "ticks": ""
           }
          },
          "colorscale": {
           "diverging": [
            [
             0,
             "#8e0152"
            ],
            [
             0.1,
             "#c51b7d"
            ],
            [
             0.2,
             "#de77ae"
            ],
            [
             0.3,
             "#f1b6da"
            ],
            [
             0.4,
             "#fde0ef"
            ],
            [
             0.5,
             "#f7f7f7"
            ],
            [
             0.6,
             "#e6f5d0"
            ],
            [
             0.7,
             "#b8e186"
            ],
            [
             0.8,
             "#7fbc41"
            ],
            [
             0.9,
             "#4d9221"
            ],
            [
             1,
             "#276419"
            ]
           ],
           "sequential": [
            [
             0,
             "#0d0887"
            ],
            [
             0.1111111111111111,
             "#46039f"
            ],
            [
             0.2222222222222222,
             "#7201a8"
            ],
            [
             0.3333333333333333,
             "#9c179e"
            ],
            [
             0.4444444444444444,
             "#bd3786"
            ],
            [
             0.5555555555555556,
             "#d8576b"
            ],
            [
             0.6666666666666666,
             "#ed7953"
            ],
            [
             0.7777777777777778,
             "#fb9f3a"
            ],
            [
             0.8888888888888888,
             "#fdca26"
            ],
            [
             1,
             "#f0f921"
            ]
           ],
           "sequentialminus": [
            [
             0,
             "#0d0887"
            ],
            [
             0.1111111111111111,
             "#46039f"
            ],
            [
             0.2222222222222222,
             "#7201a8"
            ],
            [
             0.3333333333333333,
             "#9c179e"
            ],
            [
             0.4444444444444444,
             "#bd3786"
            ],
            [
             0.5555555555555556,
             "#d8576b"
            ],
            [
             0.6666666666666666,
             "#ed7953"
            ],
            [
             0.7777777777777778,
             "#fb9f3a"
            ],
            [
             0.8888888888888888,
             "#fdca26"
            ],
            [
             1,
             "#f0f921"
            ]
           ]
          },
          "colorway": [
           "#636efa",
           "#EF553B",
           "#00cc96",
           "#ab63fa",
           "#FFA15A",
           "#19d3f3",
           "#FF6692",
           "#B6E880",
           "#FF97FF",
           "#FECB52"
          ],
          "font": {
           "color": "#f2f5fa"
          },
          "geo": {
           "bgcolor": "rgb(17,17,17)",
           "lakecolor": "rgb(17,17,17)",
           "landcolor": "rgb(17,17,17)",
           "showlakes": true,
           "showland": true,
           "subunitcolor": "#506784"
          },
          "hoverlabel": {
           "align": "left"
          },
          "hovermode": "closest",
          "mapbox": {
           "style": "dark"
          },
          "paper_bgcolor": "rgb(17,17,17)",
          "plot_bgcolor": "rgb(17,17,17)",
          "polar": {
           "angularaxis": {
            "gridcolor": "#506784",
            "linecolor": "#506784",
            "ticks": ""
           },
           "bgcolor": "rgb(17,17,17)",
           "radialaxis": {
            "gridcolor": "#506784",
            "linecolor": "#506784",
            "ticks": ""
           }
          },
          "scene": {
           "xaxis": {
            "backgroundcolor": "rgb(17,17,17)",
            "gridcolor": "#506784",
            "gridwidth": 2,
            "linecolor": "#506784",
            "showbackground": true,
            "ticks": "",
            "zerolinecolor": "#C8D4E3"
           },
           "yaxis": {
            "backgroundcolor": "rgb(17,17,17)",
            "gridcolor": "#506784",
            "gridwidth": 2,
            "linecolor": "#506784",
            "showbackground": true,
            "ticks": "",
            "zerolinecolor": "#C8D4E3"
           },
           "zaxis": {
            "backgroundcolor": "rgb(17,17,17)",
            "gridcolor": "#506784",
            "gridwidth": 2,
            "linecolor": "#506784",
            "showbackground": true,
            "ticks": "",
            "zerolinecolor": "#C8D4E3"
           }
          },
          "shapedefaults": {
           "line": {
            "color": "#f2f5fa"
           }
          },
          "sliderdefaults": {
           "bgcolor": "#C8D4E3",
           "bordercolor": "rgb(17,17,17)",
           "borderwidth": 1,
           "tickwidth": 0
          },
          "ternary": {
           "aaxis": {
            "gridcolor": "#506784",
            "linecolor": "#506784",
            "ticks": ""
           },
           "baxis": {
            "gridcolor": "#506784",
            "linecolor": "#506784",
            "ticks": ""
           },
           "bgcolor": "rgb(17,17,17)",
           "caxis": {
            "gridcolor": "#506784",
            "linecolor": "#506784",
            "ticks": ""
           }
          },
          "title": {
           "x": 0.05
          },
          "updatemenudefaults": {
           "bgcolor": "#506784",
           "borderwidth": 0
          },
          "xaxis": {
           "automargin": true,
           "gridcolor": "#283442",
           "linecolor": "#506784",
           "ticks": "",
           "title": {
            "standoff": 15
           },
           "zerolinecolor": "#283442",
           "zerolinewidth": 2
          },
          "yaxis": {
           "automargin": true,
           "gridcolor": "#283442",
           "linecolor": "#506784",
           "ticks": "",
           "title": {
            "standoff": 15
           },
           "zerolinecolor": "#283442",
           "zerolinewidth": 2
          }
         }
        },
        "title": {
         "text": "Global result per driver"
        },
        "width": 1200,
        "xaxis": {
         "anchor": "y",
         "constrain": "domain",
         "domain": [
          0,
          1
         ],
         "scaleanchor": "y",
         "title": {
          "text": "raceIndex"
         }
        },
        "yaxis": {
         "anchor": "x",
         "autorange": "reversed",
         "constrain": "domain",
         "domain": [
          0,
          1
         ],
         "title": {
          "text": "driver"
         }
        }
       }
      }
     },
     "metadata": {},
     "output_type": "display_data"
    }
   ],
   "source": [
    "# global result per driver\n",
    "px.imshow(global_df.pivot(index=\"driver\", columns=\"raceIndex\", values=\"result\"), title=\"Global result per driver\", template=\"plotly_dark\", width=1200, height=800, color_continuous_scale=\"Viridis_r\")"
   ]
  },
  {
   "cell_type": "code",
   "execution_count": 48,
   "metadata": {},
   "outputs": [
    {
     "data": {
      "application/vnd.plotly.v1+json": {
       "config": {
        "plotlyServerURL": "https://plot.ly"
       },
       "data": [
        {
         "customdata": [
          [
           "NOR"
          ],
          [
           "RUS"
          ],
          [
           "LEC"
          ],
          [
           "VER"
          ],
          [
           "VER"
          ],
          [
           "VER"
          ],
          [
           "VER"
          ],
          [
           "VER"
          ],
          [
           "VER"
          ],
          [
           "VER"
          ]
         ],
         "domain": {
          "x": [
           0,
           1
          ],
          "y": [
           0,
           1
          ]
         },
         "hovertemplate": "driver=%{customdata[0]}<br>quali=%{value}<extra></extra>",
         "labels": [
          "NOR",
          "RUS",
          "LEC",
          "VER",
          "VER",
          "VER",
          "VER",
          "VER",
          "VER",
          "VER"
         ],
         "legendgroup": "",
         "marker": {
          "colors": [
           "#ff8000",
           "#27f4d2",
           "#e8002d",
           "#0600ef",
           "#0600ef",
           "#0600ef",
           "#0600ef",
           "#0600ef",
           "#0600ef",
           "#0600ef"
          ]
         },
         "name": "",
         "showlegend": true,
         "type": "pie",
         "values": [
          1,
          1,
          1,
          1,
          1,
          1,
          1,
          1,
          1,
          1
         ]
        }
       ],
       "layout": {
        "legend": {
         "tracegroupgap": 0
        },
        "template": {
         "data": {
          "bar": [
           {
            "error_x": {
             "color": "#f2f5fa"
            },
            "error_y": {
             "color": "#f2f5fa"
            },
            "marker": {
             "line": {
              "color": "rgb(17,17,17)",
              "width": 0.5
             },
             "pattern": {
              "fillmode": "overlay",
              "size": 10,
              "solidity": 0.2
             }
            },
            "type": "bar"
           }
          ],
          "barpolar": [
           {
            "marker": {
             "line": {
              "color": "rgb(17,17,17)",
              "width": 0.5
             },
             "pattern": {
              "fillmode": "overlay",
              "size": 10,
              "solidity": 0.2
             }
            },
            "type": "barpolar"
           }
          ],
          "carpet": [
           {
            "aaxis": {
             "endlinecolor": "#A2B1C6",
             "gridcolor": "#506784",
             "linecolor": "#506784",
             "minorgridcolor": "#506784",
             "startlinecolor": "#A2B1C6"
            },
            "baxis": {
             "endlinecolor": "#A2B1C6",
             "gridcolor": "#506784",
             "linecolor": "#506784",
             "minorgridcolor": "#506784",
             "startlinecolor": "#A2B1C6"
            },
            "type": "carpet"
           }
          ],
          "choropleth": [
           {
            "colorbar": {
             "outlinewidth": 0,
             "ticks": ""
            },
            "type": "choropleth"
           }
          ],
          "contour": [
           {
            "colorbar": {
             "outlinewidth": 0,
             "ticks": ""
            },
            "colorscale": [
             [
              0,
              "#0d0887"
             ],
             [
              0.1111111111111111,
              "#46039f"
             ],
             [
              0.2222222222222222,
              "#7201a8"
             ],
             [
              0.3333333333333333,
              "#9c179e"
             ],
             [
              0.4444444444444444,
              "#bd3786"
             ],
             [
              0.5555555555555556,
              "#d8576b"
             ],
             [
              0.6666666666666666,
              "#ed7953"
             ],
             [
              0.7777777777777778,
              "#fb9f3a"
             ],
             [
              0.8888888888888888,
              "#fdca26"
             ],
             [
              1,
              "#f0f921"
             ]
            ],
            "type": "contour"
           }
          ],
          "contourcarpet": [
           {
            "colorbar": {
             "outlinewidth": 0,
             "ticks": ""
            },
            "type": "contourcarpet"
           }
          ],
          "heatmap": [
           {
            "colorbar": {
             "outlinewidth": 0,
             "ticks": ""
            },
            "colorscale": [
             [
              0,
              "#0d0887"
             ],
             [
              0.1111111111111111,
              "#46039f"
             ],
             [
              0.2222222222222222,
              "#7201a8"
             ],
             [
              0.3333333333333333,
              "#9c179e"
             ],
             [
              0.4444444444444444,
              "#bd3786"
             ],
             [
              0.5555555555555556,
              "#d8576b"
             ],
             [
              0.6666666666666666,
              "#ed7953"
             ],
             [
              0.7777777777777778,
              "#fb9f3a"
             ],
             [
              0.8888888888888888,
              "#fdca26"
             ],
             [
              1,
              "#f0f921"
             ]
            ],
            "type": "heatmap"
           }
          ],
          "heatmapgl": [
           {
            "colorbar": {
             "outlinewidth": 0,
             "ticks": ""
            },
            "colorscale": [
             [
              0,
              "#0d0887"
             ],
             [
              0.1111111111111111,
              "#46039f"
             ],
             [
              0.2222222222222222,
              "#7201a8"
             ],
             [
              0.3333333333333333,
              "#9c179e"
             ],
             [
              0.4444444444444444,
              "#bd3786"
             ],
             [
              0.5555555555555556,
              "#d8576b"
             ],
             [
              0.6666666666666666,
              "#ed7953"
             ],
             [
              0.7777777777777778,
              "#fb9f3a"
             ],
             [
              0.8888888888888888,
              "#fdca26"
             ],
             [
              1,
              "#f0f921"
             ]
            ],
            "type": "heatmapgl"
           }
          ],
          "histogram": [
           {
            "marker": {
             "pattern": {
              "fillmode": "overlay",
              "size": 10,
              "solidity": 0.2
             }
            },
            "type": "histogram"
           }
          ],
          "histogram2d": [
           {
            "colorbar": {
             "outlinewidth": 0,
             "ticks": ""
            },
            "colorscale": [
             [
              0,
              "#0d0887"
             ],
             [
              0.1111111111111111,
              "#46039f"
             ],
             [
              0.2222222222222222,
              "#7201a8"
             ],
             [
              0.3333333333333333,
              "#9c179e"
             ],
             [
              0.4444444444444444,
              "#bd3786"
             ],
             [
              0.5555555555555556,
              "#d8576b"
             ],
             [
              0.6666666666666666,
              "#ed7953"
             ],
             [
              0.7777777777777778,
              "#fb9f3a"
             ],
             [
              0.8888888888888888,
              "#fdca26"
             ],
             [
              1,
              "#f0f921"
             ]
            ],
            "type": "histogram2d"
           }
          ],
          "histogram2dcontour": [
           {
            "colorbar": {
             "outlinewidth": 0,
             "ticks": ""
            },
            "colorscale": [
             [
              0,
              "#0d0887"
             ],
             [
              0.1111111111111111,
              "#46039f"
             ],
             [
              0.2222222222222222,
              "#7201a8"
             ],
             [
              0.3333333333333333,
              "#9c179e"
             ],
             [
              0.4444444444444444,
              "#bd3786"
             ],
             [
              0.5555555555555556,
              "#d8576b"
             ],
             [
              0.6666666666666666,
              "#ed7953"
             ],
             [
              0.7777777777777778,
              "#fb9f3a"
             ],
             [
              0.8888888888888888,
              "#fdca26"
             ],
             [
              1,
              "#f0f921"
             ]
            ],
            "type": "histogram2dcontour"
           }
          ],
          "mesh3d": [
           {
            "colorbar": {
             "outlinewidth": 0,
             "ticks": ""
            },
            "type": "mesh3d"
           }
          ],
          "parcoords": [
           {
            "line": {
             "colorbar": {
              "outlinewidth": 0,
              "ticks": ""
             }
            },
            "type": "parcoords"
           }
          ],
          "pie": [
           {
            "automargin": true,
            "type": "pie"
           }
          ],
          "scatter": [
           {
            "marker": {
             "line": {
              "color": "#283442"
             }
            },
            "type": "scatter"
           }
          ],
          "scatter3d": [
           {
            "line": {
             "colorbar": {
              "outlinewidth": 0,
              "ticks": ""
             }
            },
            "marker": {
             "colorbar": {
              "outlinewidth": 0,
              "ticks": ""
             }
            },
            "type": "scatter3d"
           }
          ],
          "scattercarpet": [
           {
            "marker": {
             "colorbar": {
              "outlinewidth": 0,
              "ticks": ""
             }
            },
            "type": "scattercarpet"
           }
          ],
          "scattergeo": [
           {
            "marker": {
             "colorbar": {
              "outlinewidth": 0,
              "ticks": ""
             }
            },
            "type": "scattergeo"
           }
          ],
          "scattergl": [
           {
            "marker": {
             "line": {
              "color": "#283442"
             }
            },
            "type": "scattergl"
           }
          ],
          "scattermapbox": [
           {
            "marker": {
             "colorbar": {
              "outlinewidth": 0,
              "ticks": ""
             }
            },
            "type": "scattermapbox"
           }
          ],
          "scatterpolar": [
           {
            "marker": {
             "colorbar": {
              "outlinewidth": 0,
              "ticks": ""
             }
            },
            "type": "scatterpolar"
           }
          ],
          "scatterpolargl": [
           {
            "marker": {
             "colorbar": {
              "outlinewidth": 0,
              "ticks": ""
             }
            },
            "type": "scatterpolargl"
           }
          ],
          "scatterternary": [
           {
            "marker": {
             "colorbar": {
              "outlinewidth": 0,
              "ticks": ""
             }
            },
            "type": "scatterternary"
           }
          ],
          "surface": [
           {
            "colorbar": {
             "outlinewidth": 0,
             "ticks": ""
            },
            "colorscale": [
             [
              0,
              "#0d0887"
             ],
             [
              0.1111111111111111,
              "#46039f"
             ],
             [
              0.2222222222222222,
              "#7201a8"
             ],
             [
              0.3333333333333333,
              "#9c179e"
             ],
             [
              0.4444444444444444,
              "#bd3786"
             ],
             [
              0.5555555555555556,
              "#d8576b"
             ],
             [
              0.6666666666666666,
              "#ed7953"
             ],
             [
              0.7777777777777778,
              "#fb9f3a"
             ],
             [
              0.8888888888888888,
              "#fdca26"
             ],
             [
              1,
              "#f0f921"
             ]
            ],
            "type": "surface"
           }
          ],
          "table": [
           {
            "cells": {
             "fill": {
              "color": "#506784"
             },
             "line": {
              "color": "rgb(17,17,17)"
             }
            },
            "header": {
             "fill": {
              "color": "#2a3f5f"
             },
             "line": {
              "color": "rgb(17,17,17)"
             }
            },
            "type": "table"
           }
          ]
         },
         "layout": {
          "annotationdefaults": {
           "arrowcolor": "#f2f5fa",
           "arrowhead": 0,
           "arrowwidth": 1
          },
          "autotypenumbers": "strict",
          "coloraxis": {
           "colorbar": {
            "outlinewidth": 0,
            "ticks": ""
           }
          },
          "colorscale": {
           "diverging": [
            [
             0,
             "#8e0152"
            ],
            [
             0.1,
             "#c51b7d"
            ],
            [
             0.2,
             "#de77ae"
            ],
            [
             0.3,
             "#f1b6da"
            ],
            [
             0.4,
             "#fde0ef"
            ],
            [
             0.5,
             "#f7f7f7"
            ],
            [
             0.6,
             "#e6f5d0"
            ],
            [
             0.7,
             "#b8e186"
            ],
            [
             0.8,
             "#7fbc41"
            ],
            [
             0.9,
             "#4d9221"
            ],
            [
             1,
             "#276419"
            ]
           ],
           "sequential": [
            [
             0,
             "#0d0887"
            ],
            [
             0.1111111111111111,
             "#46039f"
            ],
            [
             0.2222222222222222,
             "#7201a8"
            ],
            [
             0.3333333333333333,
             "#9c179e"
            ],
            [
             0.4444444444444444,
             "#bd3786"
            ],
            [
             0.5555555555555556,
             "#d8576b"
            ],
            [
             0.6666666666666666,
             "#ed7953"
            ],
            [
             0.7777777777777778,
             "#fb9f3a"
            ],
            [
             0.8888888888888888,
             "#fdca26"
            ],
            [
             1,
             "#f0f921"
            ]
           ],
           "sequentialminus": [
            [
             0,
             "#0d0887"
            ],
            [
             0.1111111111111111,
             "#46039f"
            ],
            [
             0.2222222222222222,
             "#7201a8"
            ],
            [
             0.3333333333333333,
             "#9c179e"
            ],
            [
             0.4444444444444444,
             "#bd3786"
            ],
            [
             0.5555555555555556,
             "#d8576b"
            ],
            [
             0.6666666666666666,
             "#ed7953"
            ],
            [
             0.7777777777777778,
             "#fb9f3a"
            ],
            [
             0.8888888888888888,
             "#fdca26"
            ],
            [
             1,
             "#f0f921"
            ]
           ]
          },
          "colorway": [
           "#636efa",
           "#EF553B",
           "#00cc96",
           "#ab63fa",
           "#FFA15A",
           "#19d3f3",
           "#FF6692",
           "#B6E880",
           "#FF97FF",
           "#FECB52"
          ],
          "font": {
           "color": "#f2f5fa"
          },
          "geo": {
           "bgcolor": "rgb(17,17,17)",
           "lakecolor": "rgb(17,17,17)",
           "landcolor": "rgb(17,17,17)",
           "showlakes": true,
           "showland": true,
           "subunitcolor": "#506784"
          },
          "hoverlabel": {
           "align": "left"
          },
          "hovermode": "closest",
          "mapbox": {
           "style": "dark"
          },
          "paper_bgcolor": "rgb(17,17,17)",
          "plot_bgcolor": "rgb(17,17,17)",
          "polar": {
           "angularaxis": {
            "gridcolor": "#506784",
            "linecolor": "#506784",
            "ticks": ""
           },
           "bgcolor": "rgb(17,17,17)",
           "radialaxis": {
            "gridcolor": "#506784",
            "linecolor": "#506784",
            "ticks": ""
           }
          },
          "scene": {
           "xaxis": {
            "backgroundcolor": "rgb(17,17,17)",
            "gridcolor": "#506784",
            "gridwidth": 2,
            "linecolor": "#506784",
            "showbackground": true,
            "ticks": "",
            "zerolinecolor": "#C8D4E3"
           },
           "yaxis": {
            "backgroundcolor": "rgb(17,17,17)",
            "gridcolor": "#506784",
            "gridwidth": 2,
            "linecolor": "#506784",
            "showbackground": true,
            "ticks": "",
            "zerolinecolor": "#C8D4E3"
           },
           "zaxis": {
            "backgroundcolor": "rgb(17,17,17)",
            "gridcolor": "#506784",
            "gridwidth": 2,
            "linecolor": "#506784",
            "showbackground": true,
            "ticks": "",
            "zerolinecolor": "#C8D4E3"
           }
          },
          "shapedefaults": {
           "line": {
            "color": "#f2f5fa"
           }
          },
          "sliderdefaults": {
           "bgcolor": "#C8D4E3",
           "bordercolor": "rgb(17,17,17)",
           "borderwidth": 1,
           "tickwidth": 0
          },
          "ternary": {
           "aaxis": {
            "gridcolor": "#506784",
            "linecolor": "#506784",
            "ticks": ""
           },
           "baxis": {
            "gridcolor": "#506784",
            "linecolor": "#506784",
            "ticks": ""
           },
           "bgcolor": "rgb(17,17,17)",
           "caxis": {
            "gridcolor": "#506784",
            "linecolor": "#506784",
            "ticks": ""
           }
          },
          "title": {
           "x": 0.05
          },
          "updatemenudefaults": {
           "bgcolor": "#506784",
           "borderwidth": 0
          },
          "xaxis": {
           "automargin": true,
           "gridcolor": "#283442",
           "linecolor": "#506784",
           "ticks": "",
           "title": {
            "standoff": 15
           },
           "zerolinecolor": "#283442",
           "zerolinewidth": 2
          },
          "yaxis": {
           "automargin": true,
           "gridcolor": "#283442",
           "linecolor": "#506784",
           "ticks": "",
           "title": {
            "standoff": 15
           },
           "zerolinecolor": "#283442",
           "zerolinewidth": 2
          }
         }
        },
        "title": {
         "text": "Top 1 qualifying"
        }
       }
      }
     },
     "metadata": {},
     "output_type": "display_data"
    }
   ],
   "source": [
    "# pie chart top 1 qualifying\n",
    "df_q1 = global_df[global_df[\"quali\"] == 1]\n",
    "px.pie(df_q1, names=\"driver\", values=\"quali\", title=\"Top 1 qualifying\", template=\"plotly_dark\", color=\"driver\", color_discrete_map=driver_colors)"
   ]
  },
  {
   "cell_type": "code",
   "execution_count": 49,
   "metadata": {},
   "outputs": [
    {
     "data": {
      "application/vnd.plotly.v1+json": {
       "config": {
        "plotlyServerURL": "https://plot.ly"
       },
       "data": [
        {
         "customdata": [
          [
           "VER"
          ],
          [
           "VER"
          ],
          [
           "LEC"
          ],
          [
           "VER"
          ],
          [
           "NOR"
          ],
          [
           "VER"
          ],
          [
           "VER"
          ],
          [
           "SAI"
          ],
          [
           "VER"
          ],
          [
           "VER"
          ]
         ],
         "domain": {
          "x": [
           0,
           1
          ],
          "y": [
           0,
           1
          ]
         },
         "hovertemplate": "driver=%{customdata[0]}<br>result=%{value}<extra></extra>",
         "labels": [
          "VER",
          "VER",
          "LEC",
          "VER",
          "NOR",
          "VER",
          "VER",
          "SAI",
          "VER",
          "VER"
         ],
         "legendgroup": "",
         "marker": {
          "colors": [
           "#0600ef",
           "#0600ef",
           "#e8002d",
           "#0600ef",
           "#ff8000",
           "#0600ef",
           "#0600ef",
           "#e8002d",
           "#0600ef",
           "#0600ef"
          ]
         },
         "name": "",
         "showlegend": true,
         "type": "pie",
         "values": [
          1,
          1,
          1,
          1,
          1,
          1,
          1,
          1,
          1,
          1
         ]
        }
       ],
       "layout": {
        "legend": {
         "tracegroupgap": 0
        },
        "template": {
         "data": {
          "bar": [
           {
            "error_x": {
             "color": "#f2f5fa"
            },
            "error_y": {
             "color": "#f2f5fa"
            },
            "marker": {
             "line": {
              "color": "rgb(17,17,17)",
              "width": 0.5
             },
             "pattern": {
              "fillmode": "overlay",
              "size": 10,
              "solidity": 0.2
             }
            },
            "type": "bar"
           }
          ],
          "barpolar": [
           {
            "marker": {
             "line": {
              "color": "rgb(17,17,17)",
              "width": 0.5
             },
             "pattern": {
              "fillmode": "overlay",
              "size": 10,
              "solidity": 0.2
             }
            },
            "type": "barpolar"
           }
          ],
          "carpet": [
           {
            "aaxis": {
             "endlinecolor": "#A2B1C6",
             "gridcolor": "#506784",
             "linecolor": "#506784",
             "minorgridcolor": "#506784",
             "startlinecolor": "#A2B1C6"
            },
            "baxis": {
             "endlinecolor": "#A2B1C6",
             "gridcolor": "#506784",
             "linecolor": "#506784",
             "minorgridcolor": "#506784",
             "startlinecolor": "#A2B1C6"
            },
            "type": "carpet"
           }
          ],
          "choropleth": [
           {
            "colorbar": {
             "outlinewidth": 0,
             "ticks": ""
            },
            "type": "choropleth"
           }
          ],
          "contour": [
           {
            "colorbar": {
             "outlinewidth": 0,
             "ticks": ""
            },
            "colorscale": [
             [
              0,
              "#0d0887"
             ],
             [
              0.1111111111111111,
              "#46039f"
             ],
             [
              0.2222222222222222,
              "#7201a8"
             ],
             [
              0.3333333333333333,
              "#9c179e"
             ],
             [
              0.4444444444444444,
              "#bd3786"
             ],
             [
              0.5555555555555556,
              "#d8576b"
             ],
             [
              0.6666666666666666,
              "#ed7953"
             ],
             [
              0.7777777777777778,
              "#fb9f3a"
             ],
             [
              0.8888888888888888,
              "#fdca26"
             ],
             [
              1,
              "#f0f921"
             ]
            ],
            "type": "contour"
           }
          ],
          "contourcarpet": [
           {
            "colorbar": {
             "outlinewidth": 0,
             "ticks": ""
            },
            "type": "contourcarpet"
           }
          ],
          "heatmap": [
           {
            "colorbar": {
             "outlinewidth": 0,
             "ticks": ""
            },
            "colorscale": [
             [
              0,
              "#0d0887"
             ],
             [
              0.1111111111111111,
              "#46039f"
             ],
             [
              0.2222222222222222,
              "#7201a8"
             ],
             [
              0.3333333333333333,
              "#9c179e"
             ],
             [
              0.4444444444444444,
              "#bd3786"
             ],
             [
              0.5555555555555556,
              "#d8576b"
             ],
             [
              0.6666666666666666,
              "#ed7953"
             ],
             [
              0.7777777777777778,
              "#fb9f3a"
             ],
             [
              0.8888888888888888,
              "#fdca26"
             ],
             [
              1,
              "#f0f921"
             ]
            ],
            "type": "heatmap"
           }
          ],
          "heatmapgl": [
           {
            "colorbar": {
             "outlinewidth": 0,
             "ticks": ""
            },
            "colorscale": [
             [
              0,
              "#0d0887"
             ],
             [
              0.1111111111111111,
              "#46039f"
             ],
             [
              0.2222222222222222,
              "#7201a8"
             ],
             [
              0.3333333333333333,
              "#9c179e"
             ],
             [
              0.4444444444444444,
              "#bd3786"
             ],
             [
              0.5555555555555556,
              "#d8576b"
             ],
             [
              0.6666666666666666,
              "#ed7953"
             ],
             [
              0.7777777777777778,
              "#fb9f3a"
             ],
             [
              0.8888888888888888,
              "#fdca26"
             ],
             [
              1,
              "#f0f921"
             ]
            ],
            "type": "heatmapgl"
           }
          ],
          "histogram": [
           {
            "marker": {
             "pattern": {
              "fillmode": "overlay",
              "size": 10,
              "solidity": 0.2
             }
            },
            "type": "histogram"
           }
          ],
          "histogram2d": [
           {
            "colorbar": {
             "outlinewidth": 0,
             "ticks": ""
            },
            "colorscale": [
             [
              0,
              "#0d0887"
             ],
             [
              0.1111111111111111,
              "#46039f"
             ],
             [
              0.2222222222222222,
              "#7201a8"
             ],
             [
              0.3333333333333333,
              "#9c179e"
             ],
             [
              0.4444444444444444,
              "#bd3786"
             ],
             [
              0.5555555555555556,
              "#d8576b"
             ],
             [
              0.6666666666666666,
              "#ed7953"
             ],
             [
              0.7777777777777778,
              "#fb9f3a"
             ],
             [
              0.8888888888888888,
              "#fdca26"
             ],
             [
              1,
              "#f0f921"
             ]
            ],
            "type": "histogram2d"
           }
          ],
          "histogram2dcontour": [
           {
            "colorbar": {
             "outlinewidth": 0,
             "ticks": ""
            },
            "colorscale": [
             [
              0,
              "#0d0887"
             ],
             [
              0.1111111111111111,
              "#46039f"
             ],
             [
              0.2222222222222222,
              "#7201a8"
             ],
             [
              0.3333333333333333,
              "#9c179e"
             ],
             [
              0.4444444444444444,
              "#bd3786"
             ],
             [
              0.5555555555555556,
              "#d8576b"
             ],
             [
              0.6666666666666666,
              "#ed7953"
             ],
             [
              0.7777777777777778,
              "#fb9f3a"
             ],
             [
              0.8888888888888888,
              "#fdca26"
             ],
             [
              1,
              "#f0f921"
             ]
            ],
            "type": "histogram2dcontour"
           }
          ],
          "mesh3d": [
           {
            "colorbar": {
             "outlinewidth": 0,
             "ticks": ""
            },
            "type": "mesh3d"
           }
          ],
          "parcoords": [
           {
            "line": {
             "colorbar": {
              "outlinewidth": 0,
              "ticks": ""
             }
            },
            "type": "parcoords"
           }
          ],
          "pie": [
           {
            "automargin": true,
            "type": "pie"
           }
          ],
          "scatter": [
           {
            "marker": {
             "line": {
              "color": "#283442"
             }
            },
            "type": "scatter"
           }
          ],
          "scatter3d": [
           {
            "line": {
             "colorbar": {
              "outlinewidth": 0,
              "ticks": ""
             }
            },
            "marker": {
             "colorbar": {
              "outlinewidth": 0,
              "ticks": ""
             }
            },
            "type": "scatter3d"
           }
          ],
          "scattercarpet": [
           {
            "marker": {
             "colorbar": {
              "outlinewidth": 0,
              "ticks": ""
             }
            },
            "type": "scattercarpet"
           }
          ],
          "scattergeo": [
           {
            "marker": {
             "colorbar": {
              "outlinewidth": 0,
              "ticks": ""
             }
            },
            "type": "scattergeo"
           }
          ],
          "scattergl": [
           {
            "marker": {
             "line": {
              "color": "#283442"
             }
            },
            "type": "scattergl"
           }
          ],
          "scattermapbox": [
           {
            "marker": {
             "colorbar": {
              "outlinewidth": 0,
              "ticks": ""
             }
            },
            "type": "scattermapbox"
           }
          ],
          "scatterpolar": [
           {
            "marker": {
             "colorbar": {
              "outlinewidth": 0,
              "ticks": ""
             }
            },
            "type": "scatterpolar"
           }
          ],
          "scatterpolargl": [
           {
            "marker": {
             "colorbar": {
              "outlinewidth": 0,
              "ticks": ""
             }
            },
            "type": "scatterpolargl"
           }
          ],
          "scatterternary": [
           {
            "marker": {
             "colorbar": {
              "outlinewidth": 0,
              "ticks": ""
             }
            },
            "type": "scatterternary"
           }
          ],
          "surface": [
           {
            "colorbar": {
             "outlinewidth": 0,
             "ticks": ""
            },
            "colorscale": [
             [
              0,
              "#0d0887"
             ],
             [
              0.1111111111111111,
              "#46039f"
             ],
             [
              0.2222222222222222,
              "#7201a8"
             ],
             [
              0.3333333333333333,
              "#9c179e"
             ],
             [
              0.4444444444444444,
              "#bd3786"
             ],
             [
              0.5555555555555556,
              "#d8576b"
             ],
             [
              0.6666666666666666,
              "#ed7953"
             ],
             [
              0.7777777777777778,
              "#fb9f3a"
             ],
             [
              0.8888888888888888,
              "#fdca26"
             ],
             [
              1,
              "#f0f921"
             ]
            ],
            "type": "surface"
           }
          ],
          "table": [
           {
            "cells": {
             "fill": {
              "color": "#506784"
             },
             "line": {
              "color": "rgb(17,17,17)"
             }
            },
            "header": {
             "fill": {
              "color": "#2a3f5f"
             },
             "line": {
              "color": "rgb(17,17,17)"
             }
            },
            "type": "table"
           }
          ]
         },
         "layout": {
          "annotationdefaults": {
           "arrowcolor": "#f2f5fa",
           "arrowhead": 0,
           "arrowwidth": 1
          },
          "autotypenumbers": "strict",
          "coloraxis": {
           "colorbar": {
            "outlinewidth": 0,
            "ticks": ""
           }
          },
          "colorscale": {
           "diverging": [
            [
             0,
             "#8e0152"
            ],
            [
             0.1,
             "#c51b7d"
            ],
            [
             0.2,
             "#de77ae"
            ],
            [
             0.3,
             "#f1b6da"
            ],
            [
             0.4,
             "#fde0ef"
            ],
            [
             0.5,
             "#f7f7f7"
            ],
            [
             0.6,
             "#e6f5d0"
            ],
            [
             0.7,
             "#b8e186"
            ],
            [
             0.8,
             "#7fbc41"
            ],
            [
             0.9,
             "#4d9221"
            ],
            [
             1,
             "#276419"
            ]
           ],
           "sequential": [
            [
             0,
             "#0d0887"
            ],
            [
             0.1111111111111111,
             "#46039f"
            ],
            [
             0.2222222222222222,
             "#7201a8"
            ],
            [
             0.3333333333333333,
             "#9c179e"
            ],
            [
             0.4444444444444444,
             "#bd3786"
            ],
            [
             0.5555555555555556,
             "#d8576b"
            ],
            [
             0.6666666666666666,
             "#ed7953"
            ],
            [
             0.7777777777777778,
             "#fb9f3a"
            ],
            [
             0.8888888888888888,
             "#fdca26"
            ],
            [
             1,
             "#f0f921"
            ]
           ],
           "sequentialminus": [
            [
             0,
             "#0d0887"
            ],
            [
             0.1111111111111111,
             "#46039f"
            ],
            [
             0.2222222222222222,
             "#7201a8"
            ],
            [
             0.3333333333333333,
             "#9c179e"
            ],
            [
             0.4444444444444444,
             "#bd3786"
            ],
            [
             0.5555555555555556,
             "#d8576b"
            ],
            [
             0.6666666666666666,
             "#ed7953"
            ],
            [
             0.7777777777777778,
             "#fb9f3a"
            ],
            [
             0.8888888888888888,
             "#fdca26"
            ],
            [
             1,
             "#f0f921"
            ]
           ]
          },
          "colorway": [
           "#636efa",
           "#EF553B",
           "#00cc96",
           "#ab63fa",
           "#FFA15A",
           "#19d3f3",
           "#FF6692",
           "#B6E880",
           "#FF97FF",
           "#FECB52"
          ],
          "font": {
           "color": "#f2f5fa"
          },
          "geo": {
           "bgcolor": "rgb(17,17,17)",
           "lakecolor": "rgb(17,17,17)",
           "landcolor": "rgb(17,17,17)",
           "showlakes": true,
           "showland": true,
           "subunitcolor": "#506784"
          },
          "hoverlabel": {
           "align": "left"
          },
          "hovermode": "closest",
          "mapbox": {
           "style": "dark"
          },
          "paper_bgcolor": "rgb(17,17,17)",
          "plot_bgcolor": "rgb(17,17,17)",
          "polar": {
           "angularaxis": {
            "gridcolor": "#506784",
            "linecolor": "#506784",
            "ticks": ""
           },
           "bgcolor": "rgb(17,17,17)",
           "radialaxis": {
            "gridcolor": "#506784",
            "linecolor": "#506784",
            "ticks": ""
           }
          },
          "scene": {
           "xaxis": {
            "backgroundcolor": "rgb(17,17,17)",
            "gridcolor": "#506784",
            "gridwidth": 2,
            "linecolor": "#506784",
            "showbackground": true,
            "ticks": "",
            "zerolinecolor": "#C8D4E3"
           },
           "yaxis": {
            "backgroundcolor": "rgb(17,17,17)",
            "gridcolor": "#506784",
            "gridwidth": 2,
            "linecolor": "#506784",
            "showbackground": true,
            "ticks": "",
            "zerolinecolor": "#C8D4E3"
           },
           "zaxis": {
            "backgroundcolor": "rgb(17,17,17)",
            "gridcolor": "#506784",
            "gridwidth": 2,
            "linecolor": "#506784",
            "showbackground": true,
            "ticks": "",
            "zerolinecolor": "#C8D4E3"
           }
          },
          "shapedefaults": {
           "line": {
            "color": "#f2f5fa"
           }
          },
          "sliderdefaults": {
           "bgcolor": "#C8D4E3",
           "bordercolor": "rgb(17,17,17)",
           "borderwidth": 1,
           "tickwidth": 0
          },
          "ternary": {
           "aaxis": {
            "gridcolor": "#506784",
            "linecolor": "#506784",
            "ticks": ""
           },
           "baxis": {
            "gridcolor": "#506784",
            "linecolor": "#506784",
            "ticks": ""
           },
           "bgcolor": "rgb(17,17,17)",
           "caxis": {
            "gridcolor": "#506784",
            "linecolor": "#506784",
            "ticks": ""
           }
          },
          "title": {
           "x": 0.05
          },
          "updatemenudefaults": {
           "bgcolor": "#506784",
           "borderwidth": 0
          },
          "xaxis": {
           "automargin": true,
           "gridcolor": "#283442",
           "linecolor": "#506784",
           "ticks": "",
           "title": {
            "standoff": 15
           },
           "zerolinecolor": "#283442",
           "zerolinewidth": 2
          },
          "yaxis": {
           "automargin": true,
           "gridcolor": "#283442",
           "linecolor": "#506784",
           "ticks": "",
           "title": {
            "standoff": 15
           },
           "zerolinecolor": "#283442",
           "zerolinewidth": 2
          }
         }
        },
        "title": {
         "text": "Top Driver P1"
        }
       }
      }
     },
     "metadata": {},
     "output_type": "display_data"
    }
   ],
   "source": [
    "# pie chart p1\n",
    "df_p1 = global_df[global_df[\"result\"] == 1]\n",
    "px.pie(df_p1, names=\"driver\", values=\"result\", title=\"Top Driver P1\", template=\"plotly_dark\", color=\"driver\", color_discrete_map=driver_colors)"
   ]
  },
  {
   "cell_type": "code",
   "execution_count": 50,
   "metadata": {},
   "outputs": [
    {
     "data": {
      "application/vnd.plotly.v1+json": {
       "config": {
        "plotlyServerURL": "https://plot.ly"
       },
       "data": [
        {
         "customdata": [
          [
           "HAM"
          ],
          [
           "VER"
          ],
          [
           "NOR"
          ],
          [
           "NOR"
          ],
          [
           "VER"
          ],
          [
           "RUS"
          ],
          [
           "SAI"
          ],
          [
           "PIA"
          ],
          [
           "LEC"
          ],
          [
           "LEC"
          ],
          [
           "NOR"
          ],
          [
           "VER"
          ],
          [
           "NOR"
          ],
          [
           "LEC"
          ],
          [
           "VER"
          ],
          [
           "NOR"
          ],
          [
           "PER"
          ],
          [
           "VER"
          ],
          [
           "SAI"
          ],
          [
           "PER"
          ],
          [
           "VER"
          ],
          [
           "LEC"
          ],
          [
           "NOR"
          ],
          [
           "SAI"
          ],
          [
           "PER"
          ],
          [
           "LEC"
          ],
          [
           "VER"
          ],
          [
           "PER"
          ],
          [
           "SAI"
          ],
          [
           "VER"
          ]
         ],
         "domain": {
          "x": [
           0,
           1
          ],
          "y": [
           0,
           1
          ]
         },
         "hovertemplate": "driver=%{customdata[0]}<br>result=%{value}<extra></extra>",
         "labels": [
          "HAM",
          "VER",
          "NOR",
          "NOR",
          "VER",
          "RUS",
          "SAI",
          "PIA",
          "LEC",
          "LEC",
          "NOR",
          "VER",
          "NOR",
          "LEC",
          "VER",
          "NOR",
          "PER",
          "VER",
          "SAI",
          "PER",
          "VER",
          "LEC",
          "NOR",
          "SAI",
          "PER",
          "LEC",
          "VER",
          "PER",
          "SAI",
          "VER"
         ],
         "legendgroup": "",
         "marker": {
          "colors": [
           "#27f4d2",
           "#0600ef",
           "#ff8000",
           "#ff8000",
           "#0600ef",
           "#27f4d2",
           "#e8002d",
           "#ff8000",
           "#e8002d",
           "#e8002d",
           "#ff8000",
           "#0600ef",
           "#ff8000",
           "#e8002d",
           "#0600ef",
           "#ff8000",
           "#0600ef",
           "#0600ef",
           "#e8002d",
           "#0600ef",
           "#0600ef",
           "#e8002d",
           "#ff8000",
           "#e8002d",
           "#0600ef",
           "#e8002d",
           "#0600ef",
           "#0600ef",
           "#e8002d",
           "#0600ef"
          ]
         },
         "name": "",
         "showlegend": true,
         "type": "pie",
         "values": [
          3,
          1,
          2,
          2,
          1,
          3,
          3,
          2,
          1,
          3,
          2,
          1,
          1,
          3,
          2,
          2,
          3,
          1,
          3,
          2,
          1,
          2,
          3,
          1,
          2,
          3,
          1,
          2,
          3,
          1
         ]
        }
       ],
       "layout": {
        "legend": {
         "tracegroupgap": 0
        },
        "template": {
         "data": {
          "bar": [
           {
            "error_x": {
             "color": "#f2f5fa"
            },
            "error_y": {
             "color": "#f2f5fa"
            },
            "marker": {
             "line": {
              "color": "rgb(17,17,17)",
              "width": 0.5
             },
             "pattern": {
              "fillmode": "overlay",
              "size": 10,
              "solidity": 0.2
             }
            },
            "type": "bar"
           }
          ],
          "barpolar": [
           {
            "marker": {
             "line": {
              "color": "rgb(17,17,17)",
              "width": 0.5
             },
             "pattern": {
              "fillmode": "overlay",
              "size": 10,
              "solidity": 0.2
             }
            },
            "type": "barpolar"
           }
          ],
          "carpet": [
           {
            "aaxis": {
             "endlinecolor": "#A2B1C6",
             "gridcolor": "#506784",
             "linecolor": "#506784",
             "minorgridcolor": "#506784",
             "startlinecolor": "#A2B1C6"
            },
            "baxis": {
             "endlinecolor": "#A2B1C6",
             "gridcolor": "#506784",
             "linecolor": "#506784",
             "minorgridcolor": "#506784",
             "startlinecolor": "#A2B1C6"
            },
            "type": "carpet"
           }
          ],
          "choropleth": [
           {
            "colorbar": {
             "outlinewidth": 0,
             "ticks": ""
            },
            "type": "choropleth"
           }
          ],
          "contour": [
           {
            "colorbar": {
             "outlinewidth": 0,
             "ticks": ""
            },
            "colorscale": [
             [
              0,
              "#0d0887"
             ],
             [
              0.1111111111111111,
              "#46039f"
             ],
             [
              0.2222222222222222,
              "#7201a8"
             ],
             [
              0.3333333333333333,
              "#9c179e"
             ],
             [
              0.4444444444444444,
              "#bd3786"
             ],
             [
              0.5555555555555556,
              "#d8576b"
             ],
             [
              0.6666666666666666,
              "#ed7953"
             ],
             [
              0.7777777777777778,
              "#fb9f3a"
             ],
             [
              0.8888888888888888,
              "#fdca26"
             ],
             [
              1,
              "#f0f921"
             ]
            ],
            "type": "contour"
           }
          ],
          "contourcarpet": [
           {
            "colorbar": {
             "outlinewidth": 0,
             "ticks": ""
            },
            "type": "contourcarpet"
           }
          ],
          "heatmap": [
           {
            "colorbar": {
             "outlinewidth": 0,
             "ticks": ""
            },
            "colorscale": [
             [
              0,
              "#0d0887"
             ],
             [
              0.1111111111111111,
              "#46039f"
             ],
             [
              0.2222222222222222,
              "#7201a8"
             ],
             [
              0.3333333333333333,
              "#9c179e"
             ],
             [
              0.4444444444444444,
              "#bd3786"
             ],
             [
              0.5555555555555556,
              "#d8576b"
             ],
             [
              0.6666666666666666,
              "#ed7953"
             ],
             [
              0.7777777777777778,
              "#fb9f3a"
             ],
             [
              0.8888888888888888,
              "#fdca26"
             ],
             [
              1,
              "#f0f921"
             ]
            ],
            "type": "heatmap"
           }
          ],
          "heatmapgl": [
           {
            "colorbar": {
             "outlinewidth": 0,
             "ticks": ""
            },
            "colorscale": [
             [
              0,
              "#0d0887"
             ],
             [
              0.1111111111111111,
              "#46039f"
             ],
             [
              0.2222222222222222,
              "#7201a8"
             ],
             [
              0.3333333333333333,
              "#9c179e"
             ],
             [
              0.4444444444444444,
              "#bd3786"
             ],
             [
              0.5555555555555556,
              "#d8576b"
             ],
             [
              0.6666666666666666,
              "#ed7953"
             ],
             [
              0.7777777777777778,
              "#fb9f3a"
             ],
             [
              0.8888888888888888,
              "#fdca26"
             ],
             [
              1,
              "#f0f921"
             ]
            ],
            "type": "heatmapgl"
           }
          ],
          "histogram": [
           {
            "marker": {
             "pattern": {
              "fillmode": "overlay",
              "size": 10,
              "solidity": 0.2
             }
            },
            "type": "histogram"
           }
          ],
          "histogram2d": [
           {
            "colorbar": {
             "outlinewidth": 0,
             "ticks": ""
            },
            "colorscale": [
             [
              0,
              "#0d0887"
             ],
             [
              0.1111111111111111,
              "#46039f"
             ],
             [
              0.2222222222222222,
              "#7201a8"
             ],
             [
              0.3333333333333333,
              "#9c179e"
             ],
             [
              0.4444444444444444,
              "#bd3786"
             ],
             [
              0.5555555555555556,
              "#d8576b"
             ],
             [
              0.6666666666666666,
              "#ed7953"
             ],
             [
              0.7777777777777778,
              "#fb9f3a"
             ],
             [
              0.8888888888888888,
              "#fdca26"
             ],
             [
              1,
              "#f0f921"
             ]
            ],
            "type": "histogram2d"
           }
          ],
          "histogram2dcontour": [
           {
            "colorbar": {
             "outlinewidth": 0,
             "ticks": ""
            },
            "colorscale": [
             [
              0,
              "#0d0887"
             ],
             [
              0.1111111111111111,
              "#46039f"
             ],
             [
              0.2222222222222222,
              "#7201a8"
             ],
             [
              0.3333333333333333,
              "#9c179e"
             ],
             [
              0.4444444444444444,
              "#bd3786"
             ],
             [
              0.5555555555555556,
              "#d8576b"
             ],
             [
              0.6666666666666666,
              "#ed7953"
             ],
             [
              0.7777777777777778,
              "#fb9f3a"
             ],
             [
              0.8888888888888888,
              "#fdca26"
             ],
             [
              1,
              "#f0f921"
             ]
            ],
            "type": "histogram2dcontour"
           }
          ],
          "mesh3d": [
           {
            "colorbar": {
             "outlinewidth": 0,
             "ticks": ""
            },
            "type": "mesh3d"
           }
          ],
          "parcoords": [
           {
            "line": {
             "colorbar": {
              "outlinewidth": 0,
              "ticks": ""
             }
            },
            "type": "parcoords"
           }
          ],
          "pie": [
           {
            "automargin": true,
            "type": "pie"
           }
          ],
          "scatter": [
           {
            "marker": {
             "line": {
              "color": "#283442"
             }
            },
            "type": "scatter"
           }
          ],
          "scatter3d": [
           {
            "line": {
             "colorbar": {
              "outlinewidth": 0,
              "ticks": ""
             }
            },
            "marker": {
             "colorbar": {
              "outlinewidth": 0,
              "ticks": ""
             }
            },
            "type": "scatter3d"
           }
          ],
          "scattercarpet": [
           {
            "marker": {
             "colorbar": {
              "outlinewidth": 0,
              "ticks": ""
             }
            },
            "type": "scattercarpet"
           }
          ],
          "scattergeo": [
           {
            "marker": {
             "colorbar": {
              "outlinewidth": 0,
              "ticks": ""
             }
            },
            "type": "scattergeo"
           }
          ],
          "scattergl": [
           {
            "marker": {
             "line": {
              "color": "#283442"
             }
            },
            "type": "scattergl"
           }
          ],
          "scattermapbox": [
           {
            "marker": {
             "colorbar": {
              "outlinewidth": 0,
              "ticks": ""
             }
            },
            "type": "scattermapbox"
           }
          ],
          "scatterpolar": [
           {
            "marker": {
             "colorbar": {
              "outlinewidth": 0,
              "ticks": ""
             }
            },
            "type": "scatterpolar"
           }
          ],
          "scatterpolargl": [
           {
            "marker": {
             "colorbar": {
              "outlinewidth": 0,
              "ticks": ""
             }
            },
            "type": "scatterpolargl"
           }
          ],
          "scatterternary": [
           {
            "marker": {
             "colorbar": {
              "outlinewidth": 0,
              "ticks": ""
             }
            },
            "type": "scatterternary"
           }
          ],
          "surface": [
           {
            "colorbar": {
             "outlinewidth": 0,
             "ticks": ""
            },
            "colorscale": [
             [
              0,
              "#0d0887"
             ],
             [
              0.1111111111111111,
              "#46039f"
             ],
             [
              0.2222222222222222,
              "#7201a8"
             ],
             [
              0.3333333333333333,
              "#9c179e"
             ],
             [
              0.4444444444444444,
              "#bd3786"
             ],
             [
              0.5555555555555556,
              "#d8576b"
             ],
             [
              0.6666666666666666,
              "#ed7953"
             ],
             [
              0.7777777777777778,
              "#fb9f3a"
             ],
             [
              0.8888888888888888,
              "#fdca26"
             ],
             [
              1,
              "#f0f921"
             ]
            ],
            "type": "surface"
           }
          ],
          "table": [
           {
            "cells": {
             "fill": {
              "color": "#506784"
             },
             "line": {
              "color": "rgb(17,17,17)"
             }
            },
            "header": {
             "fill": {
              "color": "#2a3f5f"
             },
             "line": {
              "color": "rgb(17,17,17)"
             }
            },
            "type": "table"
           }
          ]
         },
         "layout": {
          "annotationdefaults": {
           "arrowcolor": "#f2f5fa",
           "arrowhead": 0,
           "arrowwidth": 1
          },
          "autotypenumbers": "strict",
          "coloraxis": {
           "colorbar": {
            "outlinewidth": 0,
            "ticks": ""
           }
          },
          "colorscale": {
           "diverging": [
            [
             0,
             "#8e0152"
            ],
            [
             0.1,
             "#c51b7d"
            ],
            [
             0.2,
             "#de77ae"
            ],
            [
             0.3,
             "#f1b6da"
            ],
            [
             0.4,
             "#fde0ef"
            ],
            [
             0.5,
             "#f7f7f7"
            ],
            [
             0.6,
             "#e6f5d0"
            ],
            [
             0.7,
             "#b8e186"
            ],
            [
             0.8,
             "#7fbc41"
            ],
            [
             0.9,
             "#4d9221"
            ],
            [
             1,
             "#276419"
            ]
           ],
           "sequential": [
            [
             0,
             "#0d0887"
            ],
            [
             0.1111111111111111,
             "#46039f"
            ],
            [
             0.2222222222222222,
             "#7201a8"
            ],
            [
             0.3333333333333333,
             "#9c179e"
            ],
            [
             0.4444444444444444,
             "#bd3786"
            ],
            [
             0.5555555555555556,
             "#d8576b"
            ],
            [
             0.6666666666666666,
             "#ed7953"
            ],
            [
             0.7777777777777778,
             "#fb9f3a"
            ],
            [
             0.8888888888888888,
             "#fdca26"
            ],
            [
             1,
             "#f0f921"
            ]
           ],
           "sequentialminus": [
            [
             0,
             "#0d0887"
            ],
            [
             0.1111111111111111,
             "#46039f"
            ],
            [
             0.2222222222222222,
             "#7201a8"
            ],
            [
             0.3333333333333333,
             "#9c179e"
            ],
            [
             0.4444444444444444,
             "#bd3786"
            ],
            [
             0.5555555555555556,
             "#d8576b"
            ],
            [
             0.6666666666666666,
             "#ed7953"
            ],
            [
             0.7777777777777778,
             "#fb9f3a"
            ],
            [
             0.8888888888888888,
             "#fdca26"
            ],
            [
             1,
             "#f0f921"
            ]
           ]
          },
          "colorway": [
           "#636efa",
           "#EF553B",
           "#00cc96",
           "#ab63fa",
           "#FFA15A",
           "#19d3f3",
           "#FF6692",
           "#B6E880",
           "#FF97FF",
           "#FECB52"
          ],
          "font": {
           "color": "#f2f5fa"
          },
          "geo": {
           "bgcolor": "rgb(17,17,17)",
           "lakecolor": "rgb(17,17,17)",
           "landcolor": "rgb(17,17,17)",
           "showlakes": true,
           "showland": true,
           "subunitcolor": "#506784"
          },
          "hoverlabel": {
           "align": "left"
          },
          "hovermode": "closest",
          "mapbox": {
           "style": "dark"
          },
          "paper_bgcolor": "rgb(17,17,17)",
          "plot_bgcolor": "rgb(17,17,17)",
          "polar": {
           "angularaxis": {
            "gridcolor": "#506784",
            "linecolor": "#506784",
            "ticks": ""
           },
           "bgcolor": "rgb(17,17,17)",
           "radialaxis": {
            "gridcolor": "#506784",
            "linecolor": "#506784",
            "ticks": ""
           }
          },
          "scene": {
           "xaxis": {
            "backgroundcolor": "rgb(17,17,17)",
            "gridcolor": "#506784",
            "gridwidth": 2,
            "linecolor": "#506784",
            "showbackground": true,
            "ticks": "",
            "zerolinecolor": "#C8D4E3"
           },
           "yaxis": {
            "backgroundcolor": "rgb(17,17,17)",
            "gridcolor": "#506784",
            "gridwidth": 2,
            "linecolor": "#506784",
            "showbackground": true,
            "ticks": "",
            "zerolinecolor": "#C8D4E3"
           },
           "zaxis": {
            "backgroundcolor": "rgb(17,17,17)",
            "gridcolor": "#506784",
            "gridwidth": 2,
            "linecolor": "#506784",
            "showbackground": true,
            "ticks": "",
            "zerolinecolor": "#C8D4E3"
           }
          },
          "shapedefaults": {
           "line": {
            "color": "#f2f5fa"
           }
          },
          "sliderdefaults": {
           "bgcolor": "#C8D4E3",
           "bordercolor": "rgb(17,17,17)",
           "borderwidth": 1,
           "tickwidth": 0
          },
          "ternary": {
           "aaxis": {
            "gridcolor": "#506784",
            "linecolor": "#506784",
            "ticks": ""
           },
           "baxis": {
            "gridcolor": "#506784",
            "linecolor": "#506784",
            "ticks": ""
           },
           "bgcolor": "rgb(17,17,17)",
           "caxis": {
            "gridcolor": "#506784",
            "linecolor": "#506784",
            "ticks": ""
           }
          },
          "title": {
           "x": 0.05
          },
          "updatemenudefaults": {
           "bgcolor": "#506784",
           "borderwidth": 0
          },
          "xaxis": {
           "automargin": true,
           "gridcolor": "#283442",
           "linecolor": "#506784",
           "ticks": "",
           "title": {
            "standoff": 15
           },
           "zerolinecolor": "#283442",
           "zerolinewidth": 2
          },
          "yaxis": {
           "automargin": true,
           "gridcolor": "#283442",
           "linecolor": "#506784",
           "ticks": "",
           "title": {
            "standoff": 15
           },
           "zerolinecolor": "#283442",
           "zerolinewidth": 2
          }
         }
        },
        "title": {
         "text": "Podium"
        }
       }
      }
     },
     "metadata": {},
     "output_type": "display_data"
    }
   ],
   "source": [
    "# pie chart podium\n",
    "df_podium = global_df[global_df[\"result\"] <= 3]\n",
    "px.pie(df_podium, names=\"driver\", values=\"result\", title=\"Podium\", template=\"plotly_dark\", color=\"driver\", color_discrete_map=driver_colors)"
   ]
  },
  {
   "cell_type": "markdown",
   "metadata": {},
   "source": [
    "### Leclerc"
   ]
  },
  {
   "cell_type": "code",
   "execution_count": 53,
   "metadata": {},
   "outputs": [
    {
     "data": {
      "application/vnd.plotly.v1+json": {
       "config": {
        "plotlyServerURL": "https://plot.ly"
       },
       "data": [
        {
         "alignmentgroup": "True",
         "hovertemplate": "position=%{x}<br>qualy=%{y}<extra></extra>",
         "legendgroup": "",
         "marker": {
          "color": "#636efa",
          "pattern": {
           "shape": ""
          }
         },
         "name": "",
         "offsetgroup": "",
         "orientation": "v",
         "showlegend": false,
         "textposition": "auto",
         "type": "bar",
         "x": [
          1,
          2,
          4,
          5,
          6,
          8,
          11
         ],
         "xaxis": "x",
         "y": [
          1,
          3,
          1,
          2,
          1,
          1,
          1
         ],
         "yaxis": "y"
        }
       ],
       "layout": {
        "barmode": "relative",
        "legend": {
         "tracegroupgap": 0
        },
        "template": {
         "data": {
          "bar": [
           {
            "error_x": {
             "color": "#f2f5fa"
            },
            "error_y": {
             "color": "#f2f5fa"
            },
            "marker": {
             "line": {
              "color": "rgb(17,17,17)",
              "width": 0.5
             },
             "pattern": {
              "fillmode": "overlay",
              "size": 10,
              "solidity": 0.2
             }
            },
            "type": "bar"
           }
          ],
          "barpolar": [
           {
            "marker": {
             "line": {
              "color": "rgb(17,17,17)",
              "width": 0.5
             },
             "pattern": {
              "fillmode": "overlay",
              "size": 10,
              "solidity": 0.2
             }
            },
            "type": "barpolar"
           }
          ],
          "carpet": [
           {
            "aaxis": {
             "endlinecolor": "#A2B1C6",
             "gridcolor": "#506784",
             "linecolor": "#506784",
             "minorgridcolor": "#506784",
             "startlinecolor": "#A2B1C6"
            },
            "baxis": {
             "endlinecolor": "#A2B1C6",
             "gridcolor": "#506784",
             "linecolor": "#506784",
             "minorgridcolor": "#506784",
             "startlinecolor": "#A2B1C6"
            },
            "type": "carpet"
           }
          ],
          "choropleth": [
           {
            "colorbar": {
             "outlinewidth": 0,
             "ticks": ""
            },
            "type": "choropleth"
           }
          ],
          "contour": [
           {
            "colorbar": {
             "outlinewidth": 0,
             "ticks": ""
            },
            "colorscale": [
             [
              0,
              "#0d0887"
             ],
             [
              0.1111111111111111,
              "#46039f"
             ],
             [
              0.2222222222222222,
              "#7201a8"
             ],
             [
              0.3333333333333333,
              "#9c179e"
             ],
             [
              0.4444444444444444,
              "#bd3786"
             ],
             [
              0.5555555555555556,
              "#d8576b"
             ],
             [
              0.6666666666666666,
              "#ed7953"
             ],
             [
              0.7777777777777778,
              "#fb9f3a"
             ],
             [
              0.8888888888888888,
              "#fdca26"
             ],
             [
              1,
              "#f0f921"
             ]
            ],
            "type": "contour"
           }
          ],
          "contourcarpet": [
           {
            "colorbar": {
             "outlinewidth": 0,
             "ticks": ""
            },
            "type": "contourcarpet"
           }
          ],
          "heatmap": [
           {
            "colorbar": {
             "outlinewidth": 0,
             "ticks": ""
            },
            "colorscale": [
             [
              0,
              "#0d0887"
             ],
             [
              0.1111111111111111,
              "#46039f"
             ],
             [
              0.2222222222222222,
              "#7201a8"
             ],
             [
              0.3333333333333333,
              "#9c179e"
             ],
             [
              0.4444444444444444,
              "#bd3786"
             ],
             [
              0.5555555555555556,
              "#d8576b"
             ],
             [
              0.6666666666666666,
              "#ed7953"
             ],
             [
              0.7777777777777778,
              "#fb9f3a"
             ],
             [
              0.8888888888888888,
              "#fdca26"
             ],
             [
              1,
              "#f0f921"
             ]
            ],
            "type": "heatmap"
           }
          ],
          "heatmapgl": [
           {
            "colorbar": {
             "outlinewidth": 0,
             "ticks": ""
            },
            "colorscale": [
             [
              0,
              "#0d0887"
             ],
             [
              0.1111111111111111,
              "#46039f"
             ],
             [
              0.2222222222222222,
              "#7201a8"
             ],
             [
              0.3333333333333333,
              "#9c179e"
             ],
             [
              0.4444444444444444,
              "#bd3786"
             ],
             [
              0.5555555555555556,
              "#d8576b"
             ],
             [
              0.6666666666666666,
              "#ed7953"
             ],
             [
              0.7777777777777778,
              "#fb9f3a"
             ],
             [
              0.8888888888888888,
              "#fdca26"
             ],
             [
              1,
              "#f0f921"
             ]
            ],
            "type": "heatmapgl"
           }
          ],
          "histogram": [
           {
            "marker": {
             "pattern": {
              "fillmode": "overlay",
              "size": 10,
              "solidity": 0.2
             }
            },
            "type": "histogram"
           }
          ],
          "histogram2d": [
           {
            "colorbar": {
             "outlinewidth": 0,
             "ticks": ""
            },
            "colorscale": [
             [
              0,
              "#0d0887"
             ],
             [
              0.1111111111111111,
              "#46039f"
             ],
             [
              0.2222222222222222,
              "#7201a8"
             ],
             [
              0.3333333333333333,
              "#9c179e"
             ],
             [
              0.4444444444444444,
              "#bd3786"
             ],
             [
              0.5555555555555556,
              "#d8576b"
             ],
             [
              0.6666666666666666,
              "#ed7953"
             ],
             [
              0.7777777777777778,
              "#fb9f3a"
             ],
             [
              0.8888888888888888,
              "#fdca26"
             ],
             [
              1,
              "#f0f921"
             ]
            ],
            "type": "histogram2d"
           }
          ],
          "histogram2dcontour": [
           {
            "colorbar": {
             "outlinewidth": 0,
             "ticks": ""
            },
            "colorscale": [
             [
              0,
              "#0d0887"
             ],
             [
              0.1111111111111111,
              "#46039f"
             ],
             [
              0.2222222222222222,
              "#7201a8"
             ],
             [
              0.3333333333333333,
              "#9c179e"
             ],
             [
              0.4444444444444444,
              "#bd3786"
             ],
             [
              0.5555555555555556,
              "#d8576b"
             ],
             [
              0.6666666666666666,
              "#ed7953"
             ],
             [
              0.7777777777777778,
              "#fb9f3a"
             ],
             [
              0.8888888888888888,
              "#fdca26"
             ],
             [
              1,
              "#f0f921"
             ]
            ],
            "type": "histogram2dcontour"
           }
          ],
          "mesh3d": [
           {
            "colorbar": {
             "outlinewidth": 0,
             "ticks": ""
            },
            "type": "mesh3d"
           }
          ],
          "parcoords": [
           {
            "line": {
             "colorbar": {
              "outlinewidth": 0,
              "ticks": ""
             }
            },
            "type": "parcoords"
           }
          ],
          "pie": [
           {
            "automargin": true,
            "type": "pie"
           }
          ],
          "scatter": [
           {
            "marker": {
             "line": {
              "color": "#283442"
             }
            },
            "type": "scatter"
           }
          ],
          "scatter3d": [
           {
            "line": {
             "colorbar": {
              "outlinewidth": 0,
              "ticks": ""
             }
            },
            "marker": {
             "colorbar": {
              "outlinewidth": 0,
              "ticks": ""
             }
            },
            "type": "scatter3d"
           }
          ],
          "scattercarpet": [
           {
            "marker": {
             "colorbar": {
              "outlinewidth": 0,
              "ticks": ""
             }
            },
            "type": "scattercarpet"
           }
          ],
          "scattergeo": [
           {
            "marker": {
             "colorbar": {
              "outlinewidth": 0,
              "ticks": ""
             }
            },
            "type": "scattergeo"
           }
          ],
          "scattergl": [
           {
            "marker": {
             "line": {
              "color": "#283442"
             }
            },
            "type": "scattergl"
           }
          ],
          "scattermapbox": [
           {
            "marker": {
             "colorbar": {
              "outlinewidth": 0,
              "ticks": ""
             }
            },
            "type": "scattermapbox"
           }
          ],
          "scatterpolar": [
           {
            "marker": {
             "colorbar": {
              "outlinewidth": 0,
              "ticks": ""
             }
            },
            "type": "scatterpolar"
           }
          ],
          "scatterpolargl": [
           {
            "marker": {
             "colorbar": {
              "outlinewidth": 0,
              "ticks": ""
             }
            },
            "type": "scatterpolargl"
           }
          ],
          "scatterternary": [
           {
            "marker": {
             "colorbar": {
              "outlinewidth": 0,
              "ticks": ""
             }
            },
            "type": "scatterternary"
           }
          ],
          "surface": [
           {
            "colorbar": {
             "outlinewidth": 0,
             "ticks": ""
            },
            "colorscale": [
             [
              0,
              "#0d0887"
             ],
             [
              0.1111111111111111,
              "#46039f"
             ],
             [
              0.2222222222222222,
              "#7201a8"
             ],
             [
              0.3333333333333333,
              "#9c179e"
             ],
             [
              0.4444444444444444,
              "#bd3786"
             ],
             [
              0.5555555555555556,
              "#d8576b"
             ],
             [
              0.6666666666666666,
              "#ed7953"
             ],
             [
              0.7777777777777778,
              "#fb9f3a"
             ],
             [
              0.8888888888888888,
              "#fdca26"
             ],
             [
              1,
              "#f0f921"
             ]
            ],
            "type": "surface"
           }
          ],
          "table": [
           {
            "cells": {
             "fill": {
              "color": "#506784"
             },
             "line": {
              "color": "rgb(17,17,17)"
             }
            },
            "header": {
             "fill": {
              "color": "#2a3f5f"
             },
             "line": {
              "color": "rgb(17,17,17)"
             }
            },
            "type": "table"
           }
          ]
         },
         "layout": {
          "annotationdefaults": {
           "arrowcolor": "#f2f5fa",
           "arrowhead": 0,
           "arrowwidth": 1
          },
          "autotypenumbers": "strict",
          "coloraxis": {
           "colorbar": {
            "outlinewidth": 0,
            "ticks": ""
           }
          },
          "colorscale": {
           "diverging": [
            [
             0,
             "#8e0152"
            ],
            [
             0.1,
             "#c51b7d"
            ],
            [
             0.2,
             "#de77ae"
            ],
            [
             0.3,
             "#f1b6da"
            ],
            [
             0.4,
             "#fde0ef"
            ],
            [
             0.5,
             "#f7f7f7"
            ],
            [
             0.6,
             "#e6f5d0"
            ],
            [
             0.7,
             "#b8e186"
            ],
            [
             0.8,
             "#7fbc41"
            ],
            [
             0.9,
             "#4d9221"
            ],
            [
             1,
             "#276419"
            ]
           ],
           "sequential": [
            [
             0,
             "#0d0887"
            ],
            [
             0.1111111111111111,
             "#46039f"
            ],
            [
             0.2222222222222222,
             "#7201a8"
            ],
            [
             0.3333333333333333,
             "#9c179e"
            ],
            [
             0.4444444444444444,
             "#bd3786"
            ],
            [
             0.5555555555555556,
             "#d8576b"
            ],
            [
             0.6666666666666666,
             "#ed7953"
            ],
            [
             0.7777777777777778,
             "#fb9f3a"
            ],
            [
             0.8888888888888888,
             "#fdca26"
            ],
            [
             1,
             "#f0f921"
            ]
           ],
           "sequentialminus": [
            [
             0,
             "#0d0887"
            ],
            [
             0.1111111111111111,
             "#46039f"
            ],
            [
             0.2222222222222222,
             "#7201a8"
            ],
            [
             0.3333333333333333,
             "#9c179e"
            ],
            [
             0.4444444444444444,
             "#bd3786"
            ],
            [
             0.5555555555555556,
             "#d8576b"
            ],
            [
             0.6666666666666666,
             "#ed7953"
            ],
            [
             0.7777777777777778,
             "#fb9f3a"
            ],
            [
             0.8888888888888888,
             "#fdca26"
            ],
            [
             1,
             "#f0f921"
            ]
           ]
          },
          "colorway": [
           "#636efa",
           "#EF553B",
           "#00cc96",
           "#ab63fa",
           "#FFA15A",
           "#19d3f3",
           "#FF6692",
           "#B6E880",
           "#FF97FF",
           "#FECB52"
          ],
          "font": {
           "color": "#f2f5fa"
          },
          "geo": {
           "bgcolor": "rgb(17,17,17)",
           "lakecolor": "rgb(17,17,17)",
           "landcolor": "rgb(17,17,17)",
           "showlakes": true,
           "showland": true,
           "subunitcolor": "#506784"
          },
          "hoverlabel": {
           "align": "left"
          },
          "hovermode": "closest",
          "mapbox": {
           "style": "dark"
          },
          "paper_bgcolor": "rgb(17,17,17)",
          "plot_bgcolor": "rgb(17,17,17)",
          "polar": {
           "angularaxis": {
            "gridcolor": "#506784",
            "linecolor": "#506784",
            "ticks": ""
           },
           "bgcolor": "rgb(17,17,17)",
           "radialaxis": {
            "gridcolor": "#506784",
            "linecolor": "#506784",
            "ticks": ""
           }
          },
          "scene": {
           "xaxis": {
            "backgroundcolor": "rgb(17,17,17)",
            "gridcolor": "#506784",
            "gridwidth": 2,
            "linecolor": "#506784",
            "showbackground": true,
            "ticks": "",
            "zerolinecolor": "#C8D4E3"
           },
           "yaxis": {
            "backgroundcolor": "rgb(17,17,17)",
            "gridcolor": "#506784",
            "gridwidth": 2,
            "linecolor": "#506784",
            "showbackground": true,
            "ticks": "",
            "zerolinecolor": "#C8D4E3"
           },
           "zaxis": {
            "backgroundcolor": "rgb(17,17,17)",
            "gridcolor": "#506784",
            "gridwidth": 2,
            "linecolor": "#506784",
            "showbackground": true,
            "ticks": "",
            "zerolinecolor": "#C8D4E3"
           }
          },
          "shapedefaults": {
           "line": {
            "color": "#f2f5fa"
           }
          },
          "sliderdefaults": {
           "bgcolor": "#C8D4E3",
           "bordercolor": "rgb(17,17,17)",
           "borderwidth": 1,
           "tickwidth": 0
          },
          "ternary": {
           "aaxis": {
            "gridcolor": "#506784",
            "linecolor": "#506784",
            "ticks": ""
           },
           "baxis": {
            "gridcolor": "#506784",
            "linecolor": "#506784",
            "ticks": ""
           },
           "bgcolor": "rgb(17,17,17)",
           "caxis": {
            "gridcolor": "#506784",
            "linecolor": "#506784",
            "ticks": ""
           }
          },
          "title": {
           "x": 0.05
          },
          "updatemenudefaults": {
           "bgcolor": "#506784",
           "borderwidth": 0
          },
          "xaxis": {
           "automargin": true,
           "gridcolor": "#283442",
           "linecolor": "#506784",
           "ticks": "",
           "title": {
            "standoff": 15
           },
           "zerolinecolor": "#283442",
           "zerolinewidth": 2
          },
          "yaxis": {
           "automargin": true,
           "gridcolor": "#283442",
           "linecolor": "#506784",
           "ticks": "",
           "title": {
            "standoff": 15
           },
           "zerolinecolor": "#283442",
           "zerolinewidth": 2
          }
         }
        },
        "title": {
         "text": "Leclerc qualy result"
        },
        "xaxis": {
         "anchor": "y",
         "domain": [
          0,
          1
         ],
         "title": {
          "text": "position"
         }
        },
        "yaxis": {
         "anchor": "x",
         "domain": [
          0,
          1
         ],
         "title": {
          "text": "qualy"
         }
        }
       }
      }
     },
     "metadata": {},
     "output_type": "display_data"
    }
   ],
   "source": [
    "# bar chart leclerc qualy result\n",
    "px.bar(dfq, x=\"position\", y=\"qualy\", title=\"Leclerc qualy result\", template=\"plotly_dark\")"
   ]
  },
  {
   "cell_type": "code",
   "execution_count": 54,
   "metadata": {},
   "outputs": [
    {
     "data": {
      "application/vnd.plotly.v1+json": {
       "config": {
        "plotlyServerURL": "https://plot.ly"
       },
       "data": [
        {
         "alignmentgroup": "True",
         "hovertemplate": "position=%{x}<br>result=%{y}<extra></extra>",
         "legendgroup": "",
         "marker": {
          "color": "#636efa",
          "pattern": {
           "shape": ""
          }
         },
         "name": "",
         "offsetgroup": "",
         "orientation": "v",
         "showlegend": false,
         "textposition": "auto",
         "type": "bar",
         "x": [
          1,
          2,
          3,
          4,
          5,
          19
         ],
         "xaxis": "x",
         "y": [
          1,
          1,
          3,
          3,
          1,
          1
         ],
         "yaxis": "y"
        }
       ],
       "layout": {
        "barmode": "relative",
        "legend": {
         "tracegroupgap": 0
        },
        "template": {
         "data": {
          "bar": [
           {
            "error_x": {
             "color": "#f2f5fa"
            },
            "error_y": {
             "color": "#f2f5fa"
            },
            "marker": {
             "line": {
              "color": "rgb(17,17,17)",
              "width": 0.5
             },
             "pattern": {
              "fillmode": "overlay",
              "size": 10,
              "solidity": 0.2
             }
            },
            "type": "bar"
           }
          ],
          "barpolar": [
           {
            "marker": {
             "line": {
              "color": "rgb(17,17,17)",
              "width": 0.5
             },
             "pattern": {
              "fillmode": "overlay",
              "size": 10,
              "solidity": 0.2
             }
            },
            "type": "barpolar"
           }
          ],
          "carpet": [
           {
            "aaxis": {
             "endlinecolor": "#A2B1C6",
             "gridcolor": "#506784",
             "linecolor": "#506784",
             "minorgridcolor": "#506784",
             "startlinecolor": "#A2B1C6"
            },
            "baxis": {
             "endlinecolor": "#A2B1C6",
             "gridcolor": "#506784",
             "linecolor": "#506784",
             "minorgridcolor": "#506784",
             "startlinecolor": "#A2B1C6"
            },
            "type": "carpet"
           }
          ],
          "choropleth": [
           {
            "colorbar": {
             "outlinewidth": 0,
             "ticks": ""
            },
            "type": "choropleth"
           }
          ],
          "contour": [
           {
            "colorbar": {
             "outlinewidth": 0,
             "ticks": ""
            },
            "colorscale": [
             [
              0,
              "#0d0887"
             ],
             [
              0.1111111111111111,
              "#46039f"
             ],
             [
              0.2222222222222222,
              "#7201a8"
             ],
             [
              0.3333333333333333,
              "#9c179e"
             ],
             [
              0.4444444444444444,
              "#bd3786"
             ],
             [
              0.5555555555555556,
              "#d8576b"
             ],
             [
              0.6666666666666666,
              "#ed7953"
             ],
             [
              0.7777777777777778,
              "#fb9f3a"
             ],
             [
              0.8888888888888888,
              "#fdca26"
             ],
             [
              1,
              "#f0f921"
             ]
            ],
            "type": "contour"
           }
          ],
          "contourcarpet": [
           {
            "colorbar": {
             "outlinewidth": 0,
             "ticks": ""
            },
            "type": "contourcarpet"
           }
          ],
          "heatmap": [
           {
            "colorbar": {
             "outlinewidth": 0,
             "ticks": ""
            },
            "colorscale": [
             [
              0,
              "#0d0887"
             ],
             [
              0.1111111111111111,
              "#46039f"
             ],
             [
              0.2222222222222222,
              "#7201a8"
             ],
             [
              0.3333333333333333,
              "#9c179e"
             ],
             [
              0.4444444444444444,
              "#bd3786"
             ],
             [
              0.5555555555555556,
              "#d8576b"
             ],
             [
              0.6666666666666666,
              "#ed7953"
             ],
             [
              0.7777777777777778,
              "#fb9f3a"
             ],
             [
              0.8888888888888888,
              "#fdca26"
             ],
             [
              1,
              "#f0f921"
             ]
            ],
            "type": "heatmap"
           }
          ],
          "heatmapgl": [
           {
            "colorbar": {
             "outlinewidth": 0,
             "ticks": ""
            },
            "colorscale": [
             [
              0,
              "#0d0887"
             ],
             [
              0.1111111111111111,
              "#46039f"
             ],
             [
              0.2222222222222222,
              "#7201a8"
             ],
             [
              0.3333333333333333,
              "#9c179e"
             ],
             [
              0.4444444444444444,
              "#bd3786"
             ],
             [
              0.5555555555555556,
              "#d8576b"
             ],
             [
              0.6666666666666666,
              "#ed7953"
             ],
             [
              0.7777777777777778,
              "#fb9f3a"
             ],
             [
              0.8888888888888888,
              "#fdca26"
             ],
             [
              1,
              "#f0f921"
             ]
            ],
            "type": "heatmapgl"
           }
          ],
          "histogram": [
           {
            "marker": {
             "pattern": {
              "fillmode": "overlay",
              "size": 10,
              "solidity": 0.2
             }
            },
            "type": "histogram"
           }
          ],
          "histogram2d": [
           {
            "colorbar": {
             "outlinewidth": 0,
             "ticks": ""
            },
            "colorscale": [
             [
              0,
              "#0d0887"
             ],
             [
              0.1111111111111111,
              "#46039f"
             ],
             [
              0.2222222222222222,
              "#7201a8"
             ],
             [
              0.3333333333333333,
              "#9c179e"
             ],
             [
              0.4444444444444444,
              "#bd3786"
             ],
             [
              0.5555555555555556,
              "#d8576b"
             ],
             [
              0.6666666666666666,
              "#ed7953"
             ],
             [
              0.7777777777777778,
              "#fb9f3a"
             ],
             [
              0.8888888888888888,
              "#fdca26"
             ],
             [
              1,
              "#f0f921"
             ]
            ],
            "type": "histogram2d"
           }
          ],
          "histogram2dcontour": [
           {
            "colorbar": {
             "outlinewidth": 0,
             "ticks": ""
            },
            "colorscale": [
             [
              0,
              "#0d0887"
             ],
             [
              0.1111111111111111,
              "#46039f"
             ],
             [
              0.2222222222222222,
              "#7201a8"
             ],
             [
              0.3333333333333333,
              "#9c179e"
             ],
             [
              0.4444444444444444,
              "#bd3786"
             ],
             [
              0.5555555555555556,
              "#d8576b"
             ],
             [
              0.6666666666666666,
              "#ed7953"
             ],
             [
              0.7777777777777778,
              "#fb9f3a"
             ],
             [
              0.8888888888888888,
              "#fdca26"
             ],
             [
              1,
              "#f0f921"
             ]
            ],
            "type": "histogram2dcontour"
           }
          ],
          "mesh3d": [
           {
            "colorbar": {
             "outlinewidth": 0,
             "ticks": ""
            },
            "type": "mesh3d"
           }
          ],
          "parcoords": [
           {
            "line": {
             "colorbar": {
              "outlinewidth": 0,
              "ticks": ""
             }
            },
            "type": "parcoords"
           }
          ],
          "pie": [
           {
            "automargin": true,
            "type": "pie"
           }
          ],
          "scatter": [
           {
            "marker": {
             "line": {
              "color": "#283442"
             }
            },
            "type": "scatter"
           }
          ],
          "scatter3d": [
           {
            "line": {
             "colorbar": {
              "outlinewidth": 0,
              "ticks": ""
             }
            },
            "marker": {
             "colorbar": {
              "outlinewidth": 0,
              "ticks": ""
             }
            },
            "type": "scatter3d"
           }
          ],
          "scattercarpet": [
           {
            "marker": {
             "colorbar": {
              "outlinewidth": 0,
              "ticks": ""
             }
            },
            "type": "scattercarpet"
           }
          ],
          "scattergeo": [
           {
            "marker": {
             "colorbar": {
              "outlinewidth": 0,
              "ticks": ""
             }
            },
            "type": "scattergeo"
           }
          ],
          "scattergl": [
           {
            "marker": {
             "line": {
              "color": "#283442"
             }
            },
            "type": "scattergl"
           }
          ],
          "scattermapbox": [
           {
            "marker": {
             "colorbar": {
              "outlinewidth": 0,
              "ticks": ""
             }
            },
            "type": "scattermapbox"
           }
          ],
          "scatterpolar": [
           {
            "marker": {
             "colorbar": {
              "outlinewidth": 0,
              "ticks": ""
             }
            },
            "type": "scatterpolar"
           }
          ],
          "scatterpolargl": [
           {
            "marker": {
             "colorbar": {
              "outlinewidth": 0,
              "ticks": ""
             }
            },
            "type": "scatterpolargl"
           }
          ],
          "scatterternary": [
           {
            "marker": {
             "colorbar": {
              "outlinewidth": 0,
              "ticks": ""
             }
            },
            "type": "scatterternary"
           }
          ],
          "surface": [
           {
            "colorbar": {
             "outlinewidth": 0,
             "ticks": ""
            },
            "colorscale": [
             [
              0,
              "#0d0887"
             ],
             [
              0.1111111111111111,
              "#46039f"
             ],
             [
              0.2222222222222222,
              "#7201a8"
             ],
             [
              0.3333333333333333,
              "#9c179e"
             ],
             [
              0.4444444444444444,
              "#bd3786"
             ],
             [
              0.5555555555555556,
              "#d8576b"
             ],
             [
              0.6666666666666666,
              "#ed7953"
             ],
             [
              0.7777777777777778,
              "#fb9f3a"
             ],
             [
              0.8888888888888888,
              "#fdca26"
             ],
             [
              1,
              "#f0f921"
             ]
            ],
            "type": "surface"
           }
          ],
          "table": [
           {
            "cells": {
             "fill": {
              "color": "#506784"
             },
             "line": {
              "color": "rgb(17,17,17)"
             }
            },
            "header": {
             "fill": {
              "color": "#2a3f5f"
             },
             "line": {
              "color": "rgb(17,17,17)"
             }
            },
            "type": "table"
           }
          ]
         },
         "layout": {
          "annotationdefaults": {
           "arrowcolor": "#f2f5fa",
           "arrowhead": 0,
           "arrowwidth": 1
          },
          "autotypenumbers": "strict",
          "coloraxis": {
           "colorbar": {
            "outlinewidth": 0,
            "ticks": ""
           }
          },
          "colorscale": {
           "diverging": [
            [
             0,
             "#8e0152"
            ],
            [
             0.1,
             "#c51b7d"
            ],
            [
             0.2,
             "#de77ae"
            ],
            [
             0.3,
             "#f1b6da"
            ],
            [
             0.4,
             "#fde0ef"
            ],
            [
             0.5,
             "#f7f7f7"
            ],
            [
             0.6,
             "#e6f5d0"
            ],
            [
             0.7,
             "#b8e186"
            ],
            [
             0.8,
             "#7fbc41"
            ],
            [
             0.9,
             "#4d9221"
            ],
            [
             1,
             "#276419"
            ]
           ],
           "sequential": [
            [
             0,
             "#0d0887"
            ],
            [
             0.1111111111111111,
             "#46039f"
            ],
            [
             0.2222222222222222,
             "#7201a8"
            ],
            [
             0.3333333333333333,
             "#9c179e"
            ],
            [
             0.4444444444444444,
             "#bd3786"
            ],
            [
             0.5555555555555556,
             "#d8576b"
            ],
            [
             0.6666666666666666,
             "#ed7953"
            ],
            [
             0.7777777777777778,
             "#fb9f3a"
            ],
            [
             0.8888888888888888,
             "#fdca26"
            ],
            [
             1,
             "#f0f921"
            ]
           ],
           "sequentialminus": [
            [
             0,
             "#0d0887"
            ],
            [
             0.1111111111111111,
             "#46039f"
            ],
            [
             0.2222222222222222,
             "#7201a8"
            ],
            [
             0.3333333333333333,
             "#9c179e"
            ],
            [
             0.4444444444444444,
             "#bd3786"
            ],
            [
             0.5555555555555556,
             "#d8576b"
            ],
            [
             0.6666666666666666,
             "#ed7953"
            ],
            [
             0.7777777777777778,
             "#fb9f3a"
            ],
            [
             0.8888888888888888,
             "#fdca26"
            ],
            [
             1,
             "#f0f921"
            ]
           ]
          },
          "colorway": [
           "#636efa",
           "#EF553B",
           "#00cc96",
           "#ab63fa",
           "#FFA15A",
           "#19d3f3",
           "#FF6692",
           "#B6E880",
           "#FF97FF",
           "#FECB52"
          ],
          "font": {
           "color": "#f2f5fa"
          },
          "geo": {
           "bgcolor": "rgb(17,17,17)",
           "lakecolor": "rgb(17,17,17)",
           "landcolor": "rgb(17,17,17)",
           "showlakes": true,
           "showland": true,
           "subunitcolor": "#506784"
          },
          "hoverlabel": {
           "align": "left"
          },
          "hovermode": "closest",
          "mapbox": {
           "style": "dark"
          },
          "paper_bgcolor": "rgb(17,17,17)",
          "plot_bgcolor": "rgb(17,17,17)",
          "polar": {
           "angularaxis": {
            "gridcolor": "#506784",
            "linecolor": "#506784",
            "ticks": ""
           },
           "bgcolor": "rgb(17,17,17)",
           "radialaxis": {
            "gridcolor": "#506784",
            "linecolor": "#506784",
            "ticks": ""
           }
          },
          "scene": {
           "xaxis": {
            "backgroundcolor": "rgb(17,17,17)",
            "gridcolor": "#506784",
            "gridwidth": 2,
            "linecolor": "#506784",
            "showbackground": true,
            "ticks": "",
            "zerolinecolor": "#C8D4E3"
           },
           "yaxis": {
            "backgroundcolor": "rgb(17,17,17)",
            "gridcolor": "#506784",
            "gridwidth": 2,
            "linecolor": "#506784",
            "showbackground": true,
            "ticks": "",
            "zerolinecolor": "#C8D4E3"
           },
           "zaxis": {
            "backgroundcolor": "rgb(17,17,17)",
            "gridcolor": "#506784",
            "gridwidth": 2,
            "linecolor": "#506784",
            "showbackground": true,
            "ticks": "",
            "zerolinecolor": "#C8D4E3"
           }
          },
          "shapedefaults": {
           "line": {
            "color": "#f2f5fa"
           }
          },
          "sliderdefaults": {
           "bgcolor": "#C8D4E3",
           "bordercolor": "rgb(17,17,17)",
           "borderwidth": 1,
           "tickwidth": 0
          },
          "ternary": {
           "aaxis": {
            "gridcolor": "#506784",
            "linecolor": "#506784",
            "ticks": ""
           },
           "baxis": {
            "gridcolor": "#506784",
            "linecolor": "#506784",
            "ticks": ""
           },
           "bgcolor": "rgb(17,17,17)",
           "caxis": {
            "gridcolor": "#506784",
            "linecolor": "#506784",
            "ticks": ""
           }
          },
          "title": {
           "x": 0.05
          },
          "updatemenudefaults": {
           "bgcolor": "#506784",
           "borderwidth": 0
          },
          "xaxis": {
           "automargin": true,
           "gridcolor": "#283442",
           "linecolor": "#506784",
           "ticks": "",
           "title": {
            "standoff": 15
           },
           "zerolinecolor": "#283442",
           "zerolinewidth": 2
          },
          "yaxis": {
           "automargin": true,
           "gridcolor": "#283442",
           "linecolor": "#506784",
           "ticks": "",
           "title": {
            "standoff": 15
           },
           "zerolinecolor": "#283442",
           "zerolinewidth": 2
          }
         }
        },
        "title": {
         "text": "Leclerc race result"
        },
        "xaxis": {
         "anchor": "y",
         "domain": [
          0,
          1
         ],
         "title": {
          "text": "position"
         }
        },
        "yaxis": {
         "anchor": "x",
         "domain": [
          0,
          1
         ],
         "title": {
          "text": "result"
         }
        }
       }
      }
     },
     "metadata": {},
     "output_type": "display_data"
    }
   ],
   "source": [
    "# bar chart leclerc race result\n",
    "px.bar(dfr, x=\"position\", y=\"result\", title=\"Leclerc race result\", template=\"plotly_dark\")"
   ]
  }
 ],
 "metadata": {
  "kernelspec": {
   "display_name": "Python 3",
   "language": "python",
   "name": "python3"
  },
  "language_info": {
   "codemirror_mode": {
    "name": "ipython",
    "version": 3
   },
   "file_extension": ".py",
   "mimetype": "text/x-python",
   "name": "python",
   "nbconvert_exporter": "python",
   "pygments_lexer": "ipython3",
   "version": "3.12.3"
  }
 },
 "nbformat": 4,
 "nbformat_minor": 2
}
