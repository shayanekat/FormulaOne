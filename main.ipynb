{
 "cells": [
  {
   "cell_type": "markdown",
   "metadata": {},
   "source": [
    "# Formula 1 data analysis application season 2025\n",
    "This is the 2025 version\n",
    "\n",
    "This time, I use fastf1 for race data\n",
    "\n",
    "<h2 style=\"color: red;\">DON'T FORGET TO UPDATE RACE INDEX</h2>"
   ]
  },
  {
   "cell_type": "code",
   "execution_count": 1,
   "metadata": {},
   "outputs": [],
   "source": [
    "from racenameindex import RaceNameIndex\n",
    "\n",
    "race_idx = RaceNameIndex.Australia\n",
    "race_year = 2024"
   ]
  },
  {
   "cell_type": "code",
   "execution_count": 14,
   "metadata": {},
   "outputs": [
    {
     "name": "stderr",
     "output_type": "stream",
     "text": [
      "core           INFO \tLoading data for Bahrain Grand Prix - Race [v3.4.0]\n",
      "req            INFO \tUsing cached data for session_info\n",
      "req            INFO \tUsing cached data for driver_info\n",
      "req            INFO \tUsing cached data for session_status_data\n",
      "req            INFO \tUsing cached data for lap_count\n",
      "req            INFO \tUsing cached data for track_status_data\n",
      "req            INFO \tUsing cached data for _extended_timing_data\n",
      "req            INFO \tUsing cached data for timing_app_data\n",
      "core           INFO \tProcessing timing data...\n",
      "req            INFO \tUsing cached data for car_data\n",
      "req            INFO \tUsing cached data for position_data\n",
      "req            INFO \tUsing cached data for weather_data\n",
      "req            INFO \tUsing cached data for race_control_messages\n",
      "core           INFO \tFinished loading data for 20 drivers: ['1', '11', '55', '16', '63', '4', '44', '81', '14', '18', '24', '20', '3', '22', '23', '27', '31', '10', '77', '2']\n",
      "core           INFO \tLoading data for Bahrain Grand Prix - Qualifying [v3.4.0]\n",
      "req            INFO \tUsing cached data for session_info\n",
      "req            INFO \tUsing cached data for driver_info\n",
      "req            INFO \tUsing cached data for session_status_data\n",
      "req            INFO \tUsing cached data for track_status_data\n",
      "req            INFO \tUsing cached data for _extended_timing_data\n",
      "req            INFO \tUsing cached data for timing_app_data\n",
      "core           INFO \tProcessing timing data...\n",
      "req            INFO \tUsing cached data for car_data\n",
      "req            INFO \tUsing cached data for position_data\n",
      "req            INFO \tUsing cached data for weather_data\n",
      "req            INFO \tUsing cached data for race_control_messages\n",
      "core           INFO \tFinished loading data for 20 drivers: ['1', '16', '63', '55', '11', '14', '4', '81', '44', '27', '22', '18', '23', '3', '20', '77', '24', '2', '31', '10']\n",
      "C:\\Users\\Shayane\\AppData\\Local\\Temp\\ipykernel_14500\\1982474094.py:50: FutureWarning:\n",
      "\n",
      "Series.__getitem__ treating keys as positions is deprecated. In a future version, integer keys will always be treated as labels (consistent with DataFrame behavior). To access a value by position, use `ser.iloc[pos]`\n",
      "\n",
      "C:\\Users\\Shayane\\AppData\\Local\\Temp\\ipykernel_14500\\1982474094.py:51: FutureWarning:\n",
      "\n",
      "Series.__getitem__ treating keys as positions is deprecated. In a future version, integer keys will always be treated as labels (consistent with DataFrame behavior). To access a value by position, use `ser.iloc[pos]`\n",
      "\n",
      "C:\\Users\\Shayane\\AppData\\Local\\Temp\\ipykernel_14500\\1982474094.py:52: FutureWarning:\n",
      "\n",
      "Series.__getitem__ treating keys as positions is deprecated. In a future version, integer keys will always be treated as labels (consistent with DataFrame behavior). To access a value by position, use `ser.iloc[pos]`\n",
      "\n"
     ]
    },
    {
     "name": "stdout",
     "output_type": "stream",
     "text": [
      "No new data\n"
     ]
    }
   ],
   "source": [
    "# BackEnd\n",
    "import fastf1 as ff1\n",
    "import fastf1.plotting as ff1plt\n",
    "import numpy as np\n",
    "import pandas as pd\n",
    "import plotly.express as px\n",
    "from fastf1.core import Laps\n",
    "from globaldata import update_data\n",
    "\n",
    "# init\n",
    "ff1plt.setup_mpl(mpl_timedelta_support=True, misc_mpl_mods=False, color_scheme='fastf1')\n",
    "\n",
    "# last race data\n",
    "race = ff1.get_session(race_year, race_idx, 'R')\n",
    "race.load()\n",
    "driver_laps = race.laps.pick_drivers(race.drivers)\n",
    "driver_laps = driver_laps.reset_index()[driver_laps[\"IsAccurate\"] == True] \n",
    "driver_laps[\"LapTime(s)\"] = driver_laps[\"LapTime\"].dt.total_seconds()\n",
    "driver_laps[\"Time(s)\"] = driver_laps[\"Time\"].dt.total_seconds()\n",
    "average_lap_time = driver_laps.groupby(\"Driver\")[\"LapTime(s)\"].mean().reset_index()\n",
    "fastest = average_lap_time[\"LapTime(s)\"].min()\n",
    "average_lap_time['LapTimeDelta'] = average_lap_time['LapTime(s)'] - fastest\n",
    "finishing_order = [race.get_driver(i)[\"Abbreviation\"] for i in race.drivers]\n",
    "average_lap_time[\"Position\"] = average_lap_time[\"Driver\"].apply(lambda x: finishing_order.index(x) + 1)\n",
    "average_lap_time = average_lap_time.sort_values(by=\"Position\")\n",
    "# average_lap_time[\"Driver\"] = average_lap_time[\"Driver\"].str\n",
    "\n",
    "# qualifying data\n",
    "quali_session = ff1.get_session(race_year, race_idx, 'Q')\n",
    "quali_session.load()\n",
    "quali_data = quali_session.laps.pick_drivers(quali_session.drivers)\n",
    "quali_data = quali_data.reset_index()[quali_data[\"IsAccurate\"] == True]\n",
    "list_fastest_laps = list()\n",
    "for drv in quali_data[\"Driver\"].unique():\n",
    "    drvs_fastest_lap = quali_data.pick_driver(drv).pick_fastest()\n",
    "    list_fastest_laps.append(drvs_fastest_lap)\n",
    "fastest_laps = Laps(list_fastest_laps) \\\n",
    "    .sort_values(by='LapTime') \\\n",
    "    .reset_index(drop=True)\n",
    "pole_lap = fastest_laps.pick_fastest()\n",
    "fastest_laps['LapTimeDelta'] = fastest_laps['LapTime'] - pole_lap['LapTime']\n",
    "fastest_laps[\"LapTime\"] = fastest_laps[\"LapTime\"].dt.total_seconds()\n",
    "fastest_laps[\"LapTimeDelta\"] = fastest_laps[\"LapTimeDelta\"].dt.total_seconds()\n",
    "# fastest_laps[\"Driver\"] = fastest_laps[\"Driver\"].str\n",
    "\n",
    "# backend for 2 fastest drivers comparison\n",
    "result = quali_session.results\n",
    "r1 = result.loc[result['Position'] == 1]\n",
    "r2 = result.loc[result['Position'] == 2]\n",
    "lap = quali_session.laps.pick_driver(r1['Abbreviation'][0]).pick_fastest()\n",
    "lap2 = quali_session.laps.pick_driver(r2['Abbreviation'][0]).pick_fastest()\n",
    "colormap = {r1['Abbreviation'][0]: ff1plt.get_driver_color(r1['Abbreviation'][0], quali_session), r2['Abbreviation'][0]: ff1plt.get_driver_color(r2['Abbreviation'][0], quali_session)}\n",
    "tel = lap.get_telemetry()\n",
    "tel2 = lap2.get_telemetry()\n",
    "driver = lap.Driver\n",
    "driver2 = lap2.Driver\n",
    "x = np.array(tel['X'].values)\n",
    "y = np.array(tel['Y'].values)\n",
    "x2 = np.array(tel2['X'].values)\n",
    "y2 = np.array(tel2['Y'].values)\n",
    "def cumDist(x, y):\n",
    "    dist = np.sqrt(np.diff(x)**2 + np.diff(y)**2)\n",
    "    cumdist = np.cumsum(dist)\n",
    "    return np.concatenate(([0], cumdist))\n",
    "cd = cumDist(x, y)\n",
    "cd2 = cumDist(x2, y2)\n",
    "time = np.array(tel['Time'].values)\n",
    "time2 = np.array(tel2['Time'].values)\n",
    "dif = []\n",
    "for i in range(len(cd)):\n",
    "    cpd = cd[i]\n",
    "    t = time[i]\n",
    "    if t not in time2:\n",
    "        cpd2 = np.interp(np.float64(t), np.float64(time2), np.float64(cd2))\n",
    "    else:\n",
    "        cpd2 = cd2[np.where(time2 == t)[0][0]]\n",
    "    if cpd2 > cpd:\n",
    "        dif.append(driver2)\n",
    "    else:\n",
    "        dif.append(driver)\n",
    "qualy2 = pd.DataFrame({'X': x, 'Y': y, 'Driver': dif})\n",
    "\n",
    "# gap to winner\n",
    "winner_lap = driver_laps[driver_laps[\"Position\"] == 1].iloc[-1]\n",
    "winner_driver = winner_lap[\"Driver\"]\n",
    "winner_times = driver_laps[driver_laps[\"Driver\"] == winner_driver][[\"LapNumber\", \"Time(s)\"]].set_index(\"LapNumber\")\n",
    "driver_laps = driver_laps.merge(winner_times, on=\"LapNumber\", suffixes=(\"\", \"_Winner\"))\n",
    "driver_laps['GapToWinner'] = driver_laps['Time(s)'] - driver_laps['Time(s)_Winner']\n",
    "\n",
    "# stints\n",
    "stints = driver_laps[[\"Driver\", \"Stint\", \"Compound\", \"LapNumber\"]]\n",
    "stints = stints.groupby([\"Driver\", \"Stint\", \"Compound\"])\n",
    "stints = stints.count().reset_index()\n",
    "stints = stints.rename(columns={\"LapNumber\": \"StintLength\"})\n",
    "stint_idxs = {drv: [1] for drv in stints[\"Driver\"].unique()}\n",
    "# stints[\"Driver\"] = stints[\"Driver\"].str\n",
    "\n",
    "# colors\n",
    "colors = ff1plt.get_driver_color_mapping(session=race)\n",
    "compound_colors = {}\n",
    "for compound in stints[\"Compound\"].unique():\n",
    "    compound_colors[compound] = ff1plt.get_compound_color(compound, session=race)\n",
    "\n",
    "# global year\n",
    "global_df = update_data(race_year, race_idx)"
   ]
  },
  {
   "cell_type": "code",
   "execution_count": 17,
   "metadata": {},
   "outputs": [
    {
     "data": {
      "application/vnd.plotly.v1+json": {
       "config": {
        "plotlyServerURL": "https://plot.ly"
       },
       "data": [
        {
         "hovertemplate": "Driver=%{x}<br>LapTime(s)=%{y}<extra></extra>",
         "legendgroup": "",
         "marker": {
          "color": "#636efa",
          "symbol": "circle"
         },
         "mode": "markers",
         "name": "",
         "orientation": "v",
         "showlegend": false,
         "type": "scatter",
         "x": [
          "VER",
          "PER",
          "SAI",
          "LEC",
          "RUS",
          "NOR",
          "HAM",
          "PIA",
          "ALO",
          "STR",
          "ZHO",
          "MAG",
          "RIC",
          "TSU",
          "ALB",
          "HUL",
          "OCO",
          "GAS",
          "BOT",
          "SAR"
         ],
         "xaxis": "x",
         "y": [
          95.65440384615385,
          96.03984615384616,
          96.10307692307691,
          96.3683076923077,
          96.47413461538461,
          96.46351923076924,
          96.49499999999999,
          96.53767307692307,
          96.93990384615384,
          97.12436538461537,
          97.40729411764706,
          97.46507843137255,
          97.42864705882353,
          97.48550980392157,
          97.53456862745098,
          96.85468,
          97.81072549019608,
          97.30457142857142,
          97.71945098039215,
          97.56464583333333
         ],
         "yaxis": "y"
        }
       ],
       "layout": {
        "legend": {
         "tracegroupgap": 0
        },
        "template": {
         "data": {
          "bar": [
           {
            "error_x": {
             "color": "#f2f5fa"
            },
            "error_y": {
             "color": "#f2f5fa"
            },
            "marker": {
             "line": {
              "color": "rgb(17,17,17)",
              "width": 0.5
             },
             "pattern": {
              "fillmode": "overlay",
              "size": 10,
              "solidity": 0.2
             }
            },
            "type": "bar"
           }
          ],
          "barpolar": [
           {
            "marker": {
             "line": {
              "color": "rgb(17,17,17)",
              "width": 0.5
             },
             "pattern": {
              "fillmode": "overlay",
              "size": 10,
              "solidity": 0.2
             }
            },
            "type": "barpolar"
           }
          ],
          "carpet": [
           {
            "aaxis": {
             "endlinecolor": "#A2B1C6",
             "gridcolor": "#506784",
             "linecolor": "#506784",
             "minorgridcolor": "#506784",
             "startlinecolor": "#A2B1C6"
            },
            "baxis": {
             "endlinecolor": "#A2B1C6",
             "gridcolor": "#506784",
             "linecolor": "#506784",
             "minorgridcolor": "#506784",
             "startlinecolor": "#A2B1C6"
            },
            "type": "carpet"
           }
          ],
          "choropleth": [
           {
            "colorbar": {
             "outlinewidth": 0,
             "ticks": ""
            },
            "type": "choropleth"
           }
          ],
          "contour": [
           {
            "colorbar": {
             "outlinewidth": 0,
             "ticks": ""
            },
            "colorscale": [
             [
              0,
              "#0d0887"
             ],
             [
              0.1111111111111111,
              "#46039f"
             ],
             [
              0.2222222222222222,
              "#7201a8"
             ],
             [
              0.3333333333333333,
              "#9c179e"
             ],
             [
              0.4444444444444444,
              "#bd3786"
             ],
             [
              0.5555555555555556,
              "#d8576b"
             ],
             [
              0.6666666666666666,
              "#ed7953"
             ],
             [
              0.7777777777777778,
              "#fb9f3a"
             ],
             [
              0.8888888888888888,
              "#fdca26"
             ],
             [
              1,
              "#f0f921"
             ]
            ],
            "type": "contour"
           }
          ],
          "contourcarpet": [
           {
            "colorbar": {
             "outlinewidth": 0,
             "ticks": ""
            },
            "type": "contourcarpet"
           }
          ],
          "heatmap": [
           {
            "colorbar": {
             "outlinewidth": 0,
             "ticks": ""
            },
            "colorscale": [
             [
              0,
              "#0d0887"
             ],
             [
              0.1111111111111111,
              "#46039f"
             ],
             [
              0.2222222222222222,
              "#7201a8"
             ],
             [
              0.3333333333333333,
              "#9c179e"
             ],
             [
              0.4444444444444444,
              "#bd3786"
             ],
             [
              0.5555555555555556,
              "#d8576b"
             ],
             [
              0.6666666666666666,
              "#ed7953"
             ],
             [
              0.7777777777777778,
              "#fb9f3a"
             ],
             [
              0.8888888888888888,
              "#fdca26"
             ],
             [
              1,
              "#f0f921"
             ]
            ],
            "type": "heatmap"
           }
          ],
          "heatmapgl": [
           {
            "colorbar": {
             "outlinewidth": 0,
             "ticks": ""
            },
            "colorscale": [
             [
              0,
              "#0d0887"
             ],
             [
              0.1111111111111111,
              "#46039f"
             ],
             [
              0.2222222222222222,
              "#7201a8"
             ],
             [
              0.3333333333333333,
              "#9c179e"
             ],
             [
              0.4444444444444444,
              "#bd3786"
             ],
             [
              0.5555555555555556,
              "#d8576b"
             ],
             [
              0.6666666666666666,
              "#ed7953"
             ],
             [
              0.7777777777777778,
              "#fb9f3a"
             ],
             [
              0.8888888888888888,
              "#fdca26"
             ],
             [
              1,
              "#f0f921"
             ]
            ],
            "type": "heatmapgl"
           }
          ],
          "histogram": [
           {
            "marker": {
             "pattern": {
              "fillmode": "overlay",
              "size": 10,
              "solidity": 0.2
             }
            },
            "type": "histogram"
           }
          ],
          "histogram2d": [
           {
            "colorbar": {
             "outlinewidth": 0,
             "ticks": ""
            },
            "colorscale": [
             [
              0,
              "#0d0887"
             ],
             [
              0.1111111111111111,
              "#46039f"
             ],
             [
              0.2222222222222222,
              "#7201a8"
             ],
             [
              0.3333333333333333,
              "#9c179e"
             ],
             [
              0.4444444444444444,
              "#bd3786"
             ],
             [
              0.5555555555555556,
              "#d8576b"
             ],
             [
              0.6666666666666666,
              "#ed7953"
             ],
             [
              0.7777777777777778,
              "#fb9f3a"
             ],
             [
              0.8888888888888888,
              "#fdca26"
             ],
             [
              1,
              "#f0f921"
             ]
            ],
            "type": "histogram2d"
           }
          ],
          "histogram2dcontour": [
           {
            "colorbar": {
             "outlinewidth": 0,
             "ticks": ""
            },
            "colorscale": [
             [
              0,
              "#0d0887"
             ],
             [
              0.1111111111111111,
              "#46039f"
             ],
             [
              0.2222222222222222,
              "#7201a8"
             ],
             [
              0.3333333333333333,
              "#9c179e"
             ],
             [
              0.4444444444444444,
              "#bd3786"
             ],
             [
              0.5555555555555556,
              "#d8576b"
             ],
             [
              0.6666666666666666,
              "#ed7953"
             ],
             [
              0.7777777777777778,
              "#fb9f3a"
             ],
             [
              0.8888888888888888,
              "#fdca26"
             ],
             [
              1,
              "#f0f921"
             ]
            ],
            "type": "histogram2dcontour"
           }
          ],
          "mesh3d": [
           {
            "colorbar": {
             "outlinewidth": 0,
             "ticks": ""
            },
            "type": "mesh3d"
           }
          ],
          "parcoords": [
           {
            "line": {
             "colorbar": {
              "outlinewidth": 0,
              "ticks": ""
             }
            },
            "type": "parcoords"
           }
          ],
          "pie": [
           {
            "automargin": true,
            "type": "pie"
           }
          ],
          "scatter": [
           {
            "marker": {
             "line": {
              "color": "#283442"
             }
            },
            "type": "scatter"
           }
          ],
          "scatter3d": [
           {
            "line": {
             "colorbar": {
              "outlinewidth": 0,
              "ticks": ""
             }
            },
            "marker": {
             "colorbar": {
              "outlinewidth": 0,
              "ticks": ""
             }
            },
            "type": "scatter3d"
           }
          ],
          "scattercarpet": [
           {
            "marker": {
             "colorbar": {
              "outlinewidth": 0,
              "ticks": ""
             }
            },
            "type": "scattercarpet"
           }
          ],
          "scattergeo": [
           {
            "marker": {
             "colorbar": {
              "outlinewidth": 0,
              "ticks": ""
             }
            },
            "type": "scattergeo"
           }
          ],
          "scattergl": [
           {
            "marker": {
             "line": {
              "color": "#283442"
             }
            },
            "type": "scattergl"
           }
          ],
          "scattermapbox": [
           {
            "marker": {
             "colorbar": {
              "outlinewidth": 0,
              "ticks": ""
             }
            },
            "type": "scattermapbox"
           }
          ],
          "scatterpolar": [
           {
            "marker": {
             "colorbar": {
              "outlinewidth": 0,
              "ticks": ""
             }
            },
            "type": "scatterpolar"
           }
          ],
          "scatterpolargl": [
           {
            "marker": {
             "colorbar": {
              "outlinewidth": 0,
              "ticks": ""
             }
            },
            "type": "scatterpolargl"
           }
          ],
          "scatterternary": [
           {
            "marker": {
             "colorbar": {
              "outlinewidth": 0,
              "ticks": ""
             }
            },
            "type": "scatterternary"
           }
          ],
          "surface": [
           {
            "colorbar": {
             "outlinewidth": 0,
             "ticks": ""
            },
            "colorscale": [
             [
              0,
              "#0d0887"
             ],
             [
              0.1111111111111111,
              "#46039f"
             ],
             [
              0.2222222222222222,
              "#7201a8"
             ],
             [
              0.3333333333333333,
              "#9c179e"
             ],
             [
              0.4444444444444444,
              "#bd3786"
             ],
             [
              0.5555555555555556,
              "#d8576b"
             ],
             [
              0.6666666666666666,
              "#ed7953"
             ],
             [
              0.7777777777777778,
              "#fb9f3a"
             ],
             [
              0.8888888888888888,
              "#fdca26"
             ],
             [
              1,
              "#f0f921"
             ]
            ],
            "type": "surface"
           }
          ],
          "table": [
           {
            "cells": {
             "fill": {
              "color": "#506784"
             },
             "line": {
              "color": "rgb(17,17,17)"
             }
            },
            "header": {
             "fill": {
              "color": "#2a3f5f"
             },
             "line": {
              "color": "rgb(17,17,17)"
             }
            },
            "type": "table"
           }
          ]
         },
         "layout": {
          "annotationdefaults": {
           "arrowcolor": "#f2f5fa",
           "arrowhead": 0,
           "arrowwidth": 1
          },
          "autotypenumbers": "strict",
          "coloraxis": {
           "colorbar": {
            "outlinewidth": 0,
            "ticks": ""
           }
          },
          "colorscale": {
           "diverging": [
            [
             0,
             "#8e0152"
            ],
            [
             0.1,
             "#c51b7d"
            ],
            [
             0.2,
             "#de77ae"
            ],
            [
             0.3,
             "#f1b6da"
            ],
            [
             0.4,
             "#fde0ef"
            ],
            [
             0.5,
             "#f7f7f7"
            ],
            [
             0.6,
             "#e6f5d0"
            ],
            [
             0.7,
             "#b8e186"
            ],
            [
             0.8,
             "#7fbc41"
            ],
            [
             0.9,
             "#4d9221"
            ],
            [
             1,
             "#276419"
            ]
           ],
           "sequential": [
            [
             0,
             "#0d0887"
            ],
            [
             0.1111111111111111,
             "#46039f"
            ],
            [
             0.2222222222222222,
             "#7201a8"
            ],
            [
             0.3333333333333333,
             "#9c179e"
            ],
            [
             0.4444444444444444,
             "#bd3786"
            ],
            [
             0.5555555555555556,
             "#d8576b"
            ],
            [
             0.6666666666666666,
             "#ed7953"
            ],
            [
             0.7777777777777778,
             "#fb9f3a"
            ],
            [
             0.8888888888888888,
             "#fdca26"
            ],
            [
             1,
             "#f0f921"
            ]
           ],
           "sequentialminus": [
            [
             0,
             "#0d0887"
            ],
            [
             0.1111111111111111,
             "#46039f"
            ],
            [
             0.2222222222222222,
             "#7201a8"
            ],
            [
             0.3333333333333333,
             "#9c179e"
            ],
            [
             0.4444444444444444,
             "#bd3786"
            ],
            [
             0.5555555555555556,
             "#d8576b"
            ],
            [
             0.6666666666666666,
             "#ed7953"
            ],
            [
             0.7777777777777778,
             "#fb9f3a"
            ],
            [
             0.8888888888888888,
             "#fdca26"
            ],
            [
             1,
             "#f0f921"
            ]
           ]
          },
          "colorway": [
           "#636efa",
           "#EF553B",
           "#00cc96",
           "#ab63fa",
           "#FFA15A",
           "#19d3f3",
           "#FF6692",
           "#B6E880",
           "#FF97FF",
           "#FECB52"
          ],
          "font": {
           "color": "#f2f5fa"
          },
          "geo": {
           "bgcolor": "rgb(17,17,17)",
           "lakecolor": "rgb(17,17,17)",
           "landcolor": "rgb(17,17,17)",
           "showlakes": true,
           "showland": true,
           "subunitcolor": "#506784"
          },
          "hoverlabel": {
           "align": "left"
          },
          "hovermode": "closest",
          "mapbox": {
           "style": "dark"
          },
          "paper_bgcolor": "rgb(17,17,17)",
          "plot_bgcolor": "rgb(17,17,17)",
          "polar": {
           "angularaxis": {
            "gridcolor": "#506784",
            "linecolor": "#506784",
            "ticks": ""
           },
           "bgcolor": "rgb(17,17,17)",
           "radialaxis": {
            "gridcolor": "#506784",
            "linecolor": "#506784",
            "ticks": ""
           }
          },
          "scene": {
           "xaxis": {
            "backgroundcolor": "rgb(17,17,17)",
            "gridcolor": "#506784",
            "gridwidth": 2,
            "linecolor": "#506784",
            "showbackground": true,
            "ticks": "",
            "zerolinecolor": "#C8D4E3"
           },
           "yaxis": {
            "backgroundcolor": "rgb(17,17,17)",
            "gridcolor": "#506784",
            "gridwidth": 2,
            "linecolor": "#506784",
            "showbackground": true,
            "ticks": "",
            "zerolinecolor": "#C8D4E3"
           },
           "zaxis": {
            "backgroundcolor": "rgb(17,17,17)",
            "gridcolor": "#506784",
            "gridwidth": 2,
            "linecolor": "#506784",
            "showbackground": true,
            "ticks": "",
            "zerolinecolor": "#C8D4E3"
           }
          },
          "shapedefaults": {
           "line": {
            "color": "#f2f5fa"
           }
          },
          "sliderdefaults": {
           "bgcolor": "#C8D4E3",
           "bordercolor": "rgb(17,17,17)",
           "borderwidth": 1,
           "tickwidth": 0
          },
          "ternary": {
           "aaxis": {
            "gridcolor": "#506784",
            "linecolor": "#506784",
            "ticks": ""
           },
           "baxis": {
            "gridcolor": "#506784",
            "linecolor": "#506784",
            "ticks": ""
           },
           "bgcolor": "rgb(17,17,17)",
           "caxis": {
            "gridcolor": "#506784",
            "linecolor": "#506784",
            "ticks": ""
           }
          },
          "title": {
           "x": 0.05
          },
          "updatemenudefaults": {
           "bgcolor": "#506784",
           "borderwidth": 0
          },
          "xaxis": {
           "automargin": true,
           "gridcolor": "#283442",
           "linecolor": "#506784",
           "ticks": "",
           "title": {
            "standoff": 15
           },
           "zerolinecolor": "#283442",
           "zerolinewidth": 2
          },
          "yaxis": {
           "automargin": true,
           "gridcolor": "#283442",
           "linecolor": "#506784",
           "ticks": "",
           "title": {
            "standoff": 15
           },
           "zerolinecolor": "#283442",
           "zerolinewidth": 2
          }
         }
        },
        "title": {
         "text": "Average lap time per driver"
        },
        "xaxis": {
         "anchor": "y",
         "domain": [
          0,
          1
         ],
         "title": {
          "text": "Driver"
         }
        },
        "yaxis": {
         "anchor": "x",
         "domain": [
          0,
          1
         ],
         "title": {
          "text": "LapTime(s)"
         }
        }
       }
      }
     },
     "metadata": {},
     "output_type": "display_data"
    }
   ],
   "source": [
    "# get the average lap time per driver\n",
    "px.scatter(average_lap_time, x=\"Driver\", y=\"LapTime(s)\", title=\"Average lap time per driver\", template=\"plotly_dark\")"
   ]
  },
  {
   "cell_type": "code",
   "execution_count": 6,
   "metadata": {},
   "outputs": [
    {
     "data": {
      "application/vnd.plotly.v1+json": {
       "config": {
        "plotlyServerURL": "https://plot.ly"
       },
       "data": [
        {
         "hovertemplate": "Driver=VER<br>LapNumber=%{x}<br>LapTime(s)=%{y}<extra></extra>",
         "legendgroup": "VER",
         "line": {
          "color": "#0600ef",
          "dash": "solid"
         },
         "marker": {
          "symbol": "circle"
         },
         "mode": "lines",
         "name": "VER",
         "orientation": "v",
         "showlegend": true,
         "type": "scatter",
         "x": [
          2,
          3,
          4,
          5,
          6,
          7,
          8,
          9,
          10,
          11,
          14,
          17,
          18,
          19,
          20,
          21,
          22,
          23,
          24,
          25,
          26,
          27,
          28,
          29,
          30,
          31,
          32,
          33,
          34,
          35,
          36,
          37,
          38,
          39,
          40,
          41,
          42,
          43,
          44,
          45,
          46,
          47,
          48
         ],
         "xaxis": "x",
         "y": [
          109.632,
          109.13,
          109.608,
          109.245,
          108.795,
          108.797,
          108.643,
          108.448,
          109.448,
          109.645,
          108.269,
          107.718,
          108.461,
          107.89,
          107.89,
          107.903,
          108.679,
          108.908,
          110.602,
          108.356,
          109.021,
          109.092,
          109.185,
          109.216,
          108.994,
          108.846,
          108.392,
          108.299,
          109.244,
          107.996,
          107.718,
          107.403,
          107.282,
          107.34,
          107.136,
          107.525,
          106.798,
          107.147,
          107.149,
          107.184,
          107.135,
          107.721,
          107.749
         ],
         "yaxis": "y"
        },
        {
         "hovertemplate": "Driver=GAS<br>LapNumber=%{x}<br>LapTime(s)=%{y}<extra></extra>",
         "legendgroup": "GAS",
         "line": {
          "color": "#ff87bc",
          "dash": "solid"
         },
         "marker": {
          "symbol": "circle"
         },
         "mode": "lines",
         "name": "GAS",
         "orientation": "v",
         "showlegend": true,
         "type": "scatter",
         "x": [
          2,
          3,
          4,
          5,
          6,
          7,
          8,
          9,
          10,
          11,
          12,
          13,
          14,
          17,
          18,
          19,
          20,
          21,
          22,
          23,
          24,
          25,
          26,
          27,
          28,
          29,
          30,
          31,
          32,
          33,
          34,
          35,
          36,
          37,
          38,
          39,
          40,
          41,
          42,
          43,
          44,
          45,
          46,
          47,
          48,
          49
         ],
         "xaxis": "x",
         "y": [
          112.861,
          111.565,
          109.849,
          110.116,
          110.071,
          109.908,
          109.707,
          109.776,
          109.479,
          110.305,
          110.207,
          110.586,
          110.56,
          110.314,
          109.879,
          109.647,
          110.731,
          110.09,
          110.329,
          109.639,
          109.699,
          109.69,
          110.054,
          109.311,
          109.294,
          108.98,
          111.275,
          109.319,
          109.223,
          108.774,
          108.737,
          108.832,
          108.95,
          108.778,
          108.916,
          108.738,
          108.503,
          108.725,
          108.827,
          108.529,
          108.2,
          108.048,
          108.349,
          108.018,
          108.364,
          108.461
         ],
         "yaxis": "y"
        },
        {
         "hovertemplate": "Driver=PER<br>LapNumber=%{x}<br>LapTime(s)=%{y}<extra></extra>",
         "legendgroup": "PER",
         "line": {
          "color": "#0600ef",
          "dash": "solid"
         },
         "marker": {
          "symbol": "circle"
         },
         "mode": "lines",
         "name": "PER",
         "orientation": "v",
         "showlegend": true,
         "type": "scatter",
         "x": [
          2,
          3,
          4,
          5,
          6,
          7,
          8,
          9,
          10,
          11,
          12,
          17,
          18,
          19,
          20,
          21,
          22,
          23,
          24,
          25,
          26,
          27,
          28,
          29,
          30,
          31,
          32,
          33,
          34,
          35,
          36,
          37,
          38,
          39,
          40,
          41,
          42,
          43,
          44,
          45,
          46,
          47,
          48,
          49
         ],
         "xaxis": "x",
         "y": [
          109.236,
          108.814,
          108.727,
          108.768,
          108.604,
          108.519,
          108.153,
          107.826,
          108.769,
          108.721,
          109.117,
          108.836,
          109.43,
          107.572,
          107.655,
          107.719,
          108.111,
          107.46,
          107.385,
          107.485,
          107.591,
          107.333,
          107.464,
          107.633,
          107.536,
          107.927,
          107.63,
          108.442,
          108.143,
          108.209,
          108.518,
          108.328,
          107.787,
          107.632,
          107.609,
          107.089,
          107.139,
          107.96,
          107.43,
          107.57,
          107.013,
          107.645,
          108.303,
          108.45
         ],
         "yaxis": "y"
        },
        {
         "hovertemplate": "Driver=ALO<br>LapNumber=%{x}<br>LapTime(s)=%{y}<extra></extra>",
         "legendgroup": "ALO",
         "line": {
          "color": "#00665f",
          "dash": "solid"
         },
         "marker": {
          "symbol": "circle"
         },
         "mode": "lines",
         "name": "ALO",
         "orientation": "v",
         "showlegend": true,
         "type": "scatter",
         "x": [
          2,
          3,
          4,
          5,
          6,
          7,
          8,
          9,
          10,
          13,
          14,
          17,
          18,
          19,
          20,
          21,
          22,
          23,
          24,
          25,
          26,
          27,
          28,
          29,
          30,
          31,
          32,
          33,
          34,
          35,
          36,
          37,
          38,
          39,
          40,
          41,
          42,
          43,
          44,
          45,
          46,
          47,
          48,
          49
         ],
         "xaxis": "x",
         "y": [
          110.081,
          110.262,
          109.975,
          110.103,
          109.937,
          109.66,
          109.132,
          109.056,
          109.354,
          109.286,
          109.222,
          109.1,
          109.515,
          109.239,
          109.379,
          109.151,
          109.047,
          109.104,
          108.835,
          109.02,
          109.178,
          108.729,
          108.635,
          108.782,
          109.589,
          108.979,
          110.08,
          108.825,
          109.26,
          109.533,
          108.206,
          107.889,
          108.131,
          107.97,
          107.719,
          107.956,
          107.351,
          107.486,
          107.465,
          107.498,
          107.571,
          107.354,
          107.057,
          107.152
         ],
         "yaxis": "y"
        },
        {
         "hovertemplate": "Driver=LEC<br>LapNumber=%{x}<br>LapTime(s)=%{y}<extra></extra>",
         "legendgroup": "LEC",
         "line": {
          "color": "#e8002d",
          "dash": "solid"
         },
         "marker": {
          "symbol": "circle"
         },
         "mode": "lines",
         "name": "LEC",
         "orientation": "v",
         "showlegend": true,
         "type": "scatter",
         "x": [
          2,
          3,
          4,
          5,
          6,
          7,
          8,
          9,
          10,
          11,
          12,
          13,
          14,
          18,
          19,
          20,
          21,
          22,
          23,
          24,
          25,
          26,
          27,
          28,
          29,
          30,
          31,
          32,
          33,
          34,
          35,
          36,
          37,
          38,
          39,
          40,
          41,
          42,
          43,
          44,
          45,
          46,
          47,
          48,
          49
         ],
         "xaxis": "x",
         "y": [
          109.283,
          108.412,
          108.408,
          108.314,
          108.052,
          108.511,
          107.672,
          107.828,
          108.094,
          107.922,
          108.09,
          108.461,
          108.831,
          108.358,
          107.893,
          109.643,
          107.94,
          107.737,
          107.519,
          107.186,
          107.361,
          107.314,
          107.397,
          107.282,
          107.858,
          107.528,
          108.113,
          107.834,
          108.936,
          107.834,
          107.643,
          108.047,
          107.831,
          107.516,
          107.877,
          107.49,
          107.908,
          107.977,
          107.615,
          107.067,
          107.912,
          107.744,
          107.857,
          108.387,
          108.626
         ],
         "yaxis": "y"
        },
        {
         "hovertemplate": "Driver=STR<br>LapNumber=%{x}<br>LapTime(s)=%{y}<extra></extra>",
         "legendgroup": "STR",
         "line": {
          "color": "#00665f",
          "dash": "solid"
         },
         "marker": {
          "symbol": "circle"
         },
         "mode": "lines",
         "name": "STR",
         "orientation": "v",
         "showlegend": true,
         "type": "scatter",
         "x": [
          3,
          4,
          5,
          6,
          7,
          8,
          9,
          10,
          11,
          12,
          13,
          14,
          17,
          18,
          19,
          20,
          21,
          24,
          25,
          26,
          27,
          28,
          29,
          30,
          31,
          32,
          33,
          34,
          35,
          36,
          37,
          38,
          39,
          40,
          41,
          42,
          43,
          44
         ],
         "xaxis": "x",
         "y": [
          110.819,
          110.48,
          109.97,
          109.519,
          109.687,
          110.315,
          109.143,
          109.432,
          109.972,
          110.952,
          109.594,
          109.412,
          110.709,
          110.45,
          110.234,
          110.293,
          110.509,
          109.018,
          108.895,
          108.843,
          108.708,
          108.512,
          108.603,
          108.665,
          108.148,
          108.849,
          109.568,
          108.592,
          108.441,
          108.67,
          108.422,
          108.903,
          108.312,
          109.405,
          109.67,
          109.547,
          108.783,
          108.745
         ],
         "yaxis": "y"
        },
        {
         "hovertemplate": "Driver=TSU<br>LapNumber=%{x}<br>LapTime(s)=%{y}<extra></extra>",
         "legendgroup": "TSU",
         "line": {
          "color": "#364aa9",
          "dash": "solid"
         },
         "marker": {
          "symbol": "circle"
         },
         "mode": "lines",
         "name": "TSU",
         "orientation": "v",
         "showlegend": true,
         "type": "scatter",
         "x": [
          2,
          3,
          4,
          5,
          6,
          7,
          8,
          9,
          10,
          11
         ],
         "xaxis": "x",
         "y": [
          111.648,
          113.328,
          113.997,
          113.121,
          111.278,
          111.075,
          110.887,
          111.141,
          110.899,
          112.485
         ],
         "yaxis": "y"
        },
        {
         "hovertemplate": "Driver=ALB<br>LapNumber=%{x}<br>LapTime(s)=%{y}<extra></extra>",
         "legendgroup": "ALB",
         "line": {
          "color": "#00a0dd",
          "dash": "solid"
         },
         "marker": {
          "symbol": "circle"
         },
         "mode": "lines",
         "name": "ALB",
         "orientation": "v",
         "showlegend": true,
         "type": "scatter",
         "x": [
          2,
          3,
          4,
          5,
          6,
          7,
          8,
          9,
          10,
          11,
          12,
          13,
          14,
          17,
          18,
          19,
          20,
          21,
          22,
          23,
          24,
          25,
          26,
          27,
          28,
          29,
          30,
          33,
          34,
          35,
          36,
          37,
          38,
          39,
          40,
          41,
          42,
          43,
          44,
          45,
          46,
          47,
          48,
          49
         ],
         "xaxis": "x",
         "y": [
          110.846,
          110.457,
          110.185,
          109.78,
          109.64,
          109.533,
          109.207,
          109.358,
          109.291,
          109.199,
          109.191,
          109.04,
          108.783,
          110.315,
          109.962,
          109.777,
          109.282,
          109.213,
          109.181,
          109.247,
          110.191,
          109.231,
          109.179,
          109.077,
          109.115,
          109.187,
          109.041,
          107.551,
          108.556,
          109.733,
          107.955,
          108.394,
          108.124,
          108.117,
          107.613,
          107.953,
          107.213,
          106.947,
          107.04,
          107.392,
          107.586,
          107.569,
          107.153,
          107.35
         ],
         "yaxis": "y"
        },
        {
         "hovertemplate": "Driver=ZHO<br>LapNumber=%{x}<br>LapTime(s)=%{y}<extra></extra>",
         "legendgroup": "ZHO",
         "line": {
          "color": "#00e700",
          "dash": "solid"
         },
         "marker": {
          "symbol": "circle"
         },
         "mode": "lines",
         "name": "ZHO",
         "orientation": "v",
         "showlegend": true,
         "type": "scatter",
         "x": [
          2,
          3,
          4,
          5,
          6,
          7,
          8,
          9,
          10,
          11,
          12,
          13,
          14,
          17,
          18,
          19,
          20,
          21,
          22,
          23,
          24,
          25,
          26,
          27,
          28,
          29,
          30,
          31,
          32,
          33,
          36,
          37,
          38,
          39,
          40,
          41,
          42,
          43,
          44,
          45,
          46,
          47,
          48,
          49
         ],
         "xaxis": "x",
         "y": [
          113.999,
          112.11,
          111.671,
          113.333,
          111.235,
          111.105,
          111.313,
          111.018,
          110.765,
          111.018,
          110.575,
          110.614,
          110.635,
          110.518,
          111.803,
          110.496,
          110.45,
          110.483,
          110.37,
          110.563,
          110.276,
          110.054,
          110.102,
          110.036,
          109.76,
          109.685,
          109.741,
          109.794,
          109.357,
          109.199,
          108.304,
          108.112,
          108.378,
          108.001,
          108.014,
          108,
          108.054,
          107.644,
          107.907,
          107.934,
          108.647,
          108.077,
          108.505,
          108.049
         ],
         "yaxis": "y"
        },
        {
         "hovertemplate": "Driver=HUL<br>LapNumber=%{x}<br>LapTime(s)=%{y}<extra></extra>",
         "legendgroup": "HUL",
         "line": {
          "color": "#b6babd",
          "dash": "solid"
         },
         "marker": {
          "symbol": "circle"
         },
         "mode": "lines",
         "name": "HUL",
         "orientation": "v",
         "showlegend": true,
         "type": "scatter",
         "x": [
          2,
          3,
          4,
          5,
          6,
          7,
          8,
          9,
          10,
          11,
          12,
          13,
          14,
          17,
          18,
          19,
          20,
          21,
          22,
          23,
          24,
          25,
          26,
          27,
          28,
          29,
          30,
          31,
          32,
          33,
          34,
          35,
          36,
          37,
          38,
          39,
          40,
          41,
          42,
          43,
          44,
          45,
          46,
          47,
          48,
          49
         ],
         "xaxis": "x",
         "y": [
          112.034,
          110.45,
          110.277,
          109.113,
          109.761,
          109.918,
          109.333,
          109.819,
          109.401,
          109.554,
          109.484,
          109.797,
          110.366,
          109.105,
          109.153,
          108.539,
          108.001,
          108.275,
          108.925,
          108.804,
          107.925,
          108.093,
          108.387,
          108.337,
          108.567,
          108.314,
          108.263,
          108.105,
          109.185,
          107.811,
          108.69,
          109.429,
          108.542,
          108.515,
          109.638,
          108.637,
          108.125,
          107.993,
          107.691,
          108.322,
          107.934,
          107.827,
          107.957,
          107.693,
          109.587,
          109.408
         ],
         "yaxis": "y"
        },
        {
         "hovertemplate": "Driver=RIC<br>LapNumber=%{x}<br>LapTime(s)=%{y}<extra></extra>",
         "legendgroup": "RIC",
         "line": {
          "color": "#364aa9",
          "dash": "solid"
         },
         "marker": {
          "symbol": "circle"
         },
         "mode": "lines",
         "name": "RIC",
         "orientation": "v",
         "showlegend": true,
         "type": "scatter",
         "x": [
          2,
          3,
          4,
          5,
          6,
          7,
          8,
          9,
          10,
          11,
          12,
          13,
          14,
          17,
          18,
          19,
          20,
          21,
          22,
          23,
          24,
          25,
          26,
          27,
          28,
          29,
          30,
          31,
          32,
          33,
          34,
          35,
          36,
          37,
          38,
          39,
          40,
          41,
          42,
          43,
          44,
          45,
          46,
          47,
          48
         ],
         "xaxis": "x",
         "y": [
          112.896,
          111.71,
          109.436,
          109.69,
          109.7,
          109.297,
          109.721,
          109.513,
          110.118,
          110.332,
          110.73,
          110.925,
          111.455,
          111.619,
          111.379,
          111.033,
          111.449,
          111.501,
          112.589,
          111.304,
          110.531,
          110.119,
          109.724,
          109.355,
          109.328,
          108.994,
          109.231,
          108.948,
          108.668,
          108.457,
          108.549,
          108.869,
          108.755,
          108.623,
          108.864,
          108.38,
          108.452,
          108.54,
          108.863,
          108.924,
          108.762,
          108.507,
          108.679,
          109.14,
          109.604
         ],
         "yaxis": "y"
        },
        {
         "hovertemplate": "Driver=OCO<br>LapNumber=%{x}<br>LapTime(s)=%{y}<extra></extra>",
         "legendgroup": "OCO",
         "line": {
          "color": "#ff87bc",
          "dash": "solid"
         },
         "marker": {
          "symbol": "circle"
         },
         "mode": "lines",
         "name": "OCO",
         "orientation": "v",
         "showlegend": true,
         "type": "scatter",
         "x": [
          2,
          3,
          4,
          5,
          6,
          7,
          8,
          9,
          10,
          11,
          12,
          13,
          14,
          17,
          18,
          19,
          20,
          21,
          22,
          23,
          24,
          25,
          26,
          27,
          28,
          29,
          30,
          31,
          32,
          33,
          34,
          35,
          36,
          37,
          38,
          39,
          40,
          41,
          42,
          43,
          44,
          45,
          46,
          47,
          48
         ],
         "xaxis": "x",
         "y": [
          113.518,
          112.028,
          111.514,
          113.318,
          111.59,
          111.006,
          111.396,
          111.284,
          111.515,
          110.455,
          110.578,
          109.904,
          110.542,
          112.19,
          110.598,
          110.988,
          110.801,
          110.349,
          110.499,
          110.812,
          110.527,
          110.162,
          109.944,
          109.753,
          109.607,
          109.526,
          109.485,
          109.702,
          109.419,
          109.086,
          109.383,
          108.831,
          115.839,
          109.555,
          109.112,
          108.944,
          109.273,
          109.059,
          109.315,
          108.994,
          109.269,
          109.018,
          109.419,
          109.507,
          111.775
         ],
         "yaxis": "y"
        },
        {
         "hovertemplate": "Driver=NOR<br>LapNumber=%{x}<br>LapTime(s)=%{y}<extra></extra>",
         "legendgroup": "NOR",
         "line": {
          "color": "#ff8000",
          "dash": "solid"
         },
         "marker": {
          "symbol": "circle"
         },
         "mode": "lines",
         "name": "NOR",
         "orientation": "v",
         "showlegend": true,
         "type": "scatter",
         "x": [
          2,
          3,
          4,
          5,
          6,
          7,
          8,
          9,
          10,
          11,
          12,
          13,
          14,
          17,
          18,
          19,
          20,
          21,
          22,
          23,
          24,
          25,
          26,
          27,
          28,
          29,
          30,
          31,
          32,
          33,
          34,
          35,
          36,
          39,
          40,
          41,
          42,
          43,
          44,
          45,
          46,
          47,
          48,
          49
         ],
         "xaxis": "x",
         "y": [
          111.638,
          110.219,
          109.767,
          109.386,
          109.509,
          109.104,
          109.281,
          108.811,
          108.978,
          108.556,
          108.887,
          109.033,
          108.92,
          108.709,
          109.231,
          109.082,
          109.473,
          108.888,
          108.935,
          109.749,
          110.053,
          108.579,
          108.942,
          109.141,
          109.045,
          109.267,
          108.91,
          108.802,
          107.933,
          107.947,
          107.534,
          107.667,
          107.509,
          105.662,
          105.842,
          106.104,
          105.255,
          105.432,
          105.591,
          105.863,
          105.886,
          106.051,
          106.143,
          105.626
         ],
         "yaxis": "y"
        },
        {
         "hovertemplate": "Driver=COL<br>LapNumber=%{x}<br>LapTime(s)=%{y}<extra></extra>",
         "legendgroup": "COL",
         "line": {
          "color": "#00a0dd",
          "dash": "solid"
         },
         "marker": {
          "symbol": "circle"
         },
         "mode": "lines",
         "name": "COL",
         "orientation": "v",
         "showlegend": true,
         "type": "scatter",
         "x": [
          2,
          3,
          4,
          5,
          6,
          7,
          8,
          9,
          12,
          13,
          14,
          17,
          18,
          19,
          20,
          21,
          22,
          23,
          24,
          25,
          26,
          27,
          28,
          29,
          30,
          31,
          32,
          33,
          34,
          35,
          36,
          37,
          38,
          39,
          40,
          41,
          42,
          43,
          44,
          45,
          46,
          47,
          48,
          49
         ],
         "xaxis": "x",
         "y": [
          110.41,
          110.414,
          109.916,
          110.137,
          109.722,
          109.483,
          109.302,
          109.403,
          109.173,
          109.417,
          109.367,
          109.243,
          109.258,
          109.1,
          109.028,
          109.237,
          108.851,
          109.008,
          108.745,
          108.92,
          109.148,
          108.98,
          109.258,
          108.924,
          108.987,
          108.951,
          108.85,
          109.367,
          109.161,
          109.737,
          110.858,
          110.229,
          109.52,
          109.034,
          108.416,
          108.416,
          107.833,
          107.476,
          107.274,
          107.454,
          107.5,
          107.741,
          107.369,
          108.223
         ],
         "yaxis": "y"
        },
        {
         "hovertemplate": "Driver=HAM<br>LapNumber=%{x}<br>LapTime(s)=%{y}<extra></extra>",
         "legendgroup": "HAM",
         "line": {
          "color": "#27f4d2",
          "dash": "solid"
         },
         "marker": {
          "symbol": "circle"
         },
         "mode": "lines",
         "name": "HAM",
         "orientation": "v",
         "showlegend": true,
         "type": "scatter",
         "x": [
          2,
          3,
          4,
          5,
          6,
          7,
          8,
          9,
          10,
          11,
          14,
          17,
          18,
          19,
          20,
          21,
          22,
          23,
          24,
          25,
          26,
          27,
          28,
          29,
          30,
          31,
          32,
          33,
          34,
          35,
          36,
          37,
          38,
          39,
          40,
          41,
          42,
          43,
          44,
          45,
          46,
          47,
          48,
          49
         ],
         "xaxis": "x",
         "y": [
          112.922,
          110.97,
          110.351,
          110.358,
          109.791,
          109.399,
          109.59,
          109.698,
          109.993,
          110.712,
          108.984,
          109.487,
          108.632,
          108.563,
          108.495,
          109.616,
          110.666,
          108.588,
          108.433,
          108.29,
          107.828,
          107.898,
          108.045,
          107.777,
          108.494,
          108.128,
          107.867,
          107.33,
          109.101,
          107.998,
          108.903,
          110.671,
          109.22,
          109.264,
          108.576,
          108.492,
          107.3,
          107.679,
          108.135,
          107.629,
          107.667,
          107.3,
          107.236,
          107.947
         ],
         "yaxis": "y"
        },
        {
         "hovertemplate": "Driver=BEA<br>LapNumber=%{x}<br>LapTime(s)=%{y}<extra></extra>",
         "legendgroup": "BEA",
         "line": {
          "color": "#b6babd",
          "dash": "solid"
         },
         "marker": {
          "symbol": "circle"
         },
         "mode": "lines",
         "name": "BEA",
         "orientation": "v",
         "showlegend": true,
         "type": "scatter",
         "x": [
          2,
          3,
          4,
          5,
          6,
          7,
          8,
          9,
          10,
          11,
          12,
          13,
          17,
          18,
          19,
          20,
          21,
          22,
          23,
          24,
          25,
          26,
          27,
          28,
          29,
          30,
          31,
          32,
          33,
          34,
          35,
          36,
          37,
          38,
          39,
          40,
          41,
          42,
          43,
          44,
          45,
          46,
          47,
          48,
          49
         ],
         "xaxis": "x",
         "y": [
          110.738,
          110.677,
          110.282,
          110.51,
          110.991,
          110.084,
          111.194,
          109.877,
          111.117,
          110.119,
          110.055,
          110.193,
          109.571,
          108.714,
          108.457,
          108.769,
          108.487,
          109.905,
          108.487,
          108.214,
          108.113,
          108.305,
          108.004,
          108.312,
          108.703,
          108.046,
          107.552,
          108.147,
          108.578,
          108.342,
          108.655,
          108.819,
          110.561,
          109.56,
          108.85,
          109.166,
          110.629,
          107.883,
          107.681,
          107.345,
          107.68,
          107.281,
          107.048,
          107.369,
          107.435
         ],
         "yaxis": "y"
        },
        {
         "hovertemplate": "Driver=SAI<br>LapNumber=%{x}<br>LapTime(s)=%{y}<extra></extra>",
         "legendgroup": "SAI",
         "line": {
          "color": "#e8002d",
          "dash": "solid"
         },
         "marker": {
          "symbol": "circle"
         },
         "mode": "lines",
         "name": "SAI",
         "orientation": "v",
         "showlegend": true,
         "type": "scatter",
         "x": [
          2,
          3,
          4,
          5,
          6,
          7,
          8,
          9,
          10,
          11,
          12,
          13,
          14,
          19,
          20,
          21,
          22,
          23,
          24,
          25,
          26,
          27,
          28,
          29,
          30,
          31,
          32,
          33,
          34,
          35,
          36,
          37,
          38,
          39,
          40,
          41,
          42,
          43,
          44,
          45,
          46,
          47,
          48,
          49
         ],
         "xaxis": "x",
         "y": [
          109.12,
          109.375,
          109.167,
          109.039,
          108.826,
          108.596,
          108.482,
          108.154,
          108.389,
          108.77,
          109.348,
          108.594,
          108.672,
          107.939,
          108.091,
          107.879,
          108.582,
          108.331,
          108.474,
          107.746,
          107.593,
          107.325,
          107.072,
          107.448,
          107.826,
          107.388,
          107.33,
          107.205,
          107.402,
          107.31,
          107.473,
          108.379,
          107.116,
          107.229,
          106.964,
          107.458,
          106.928,
          107.267,
          107.081,
          107.262,
          106.866,
          106.934,
          108.117,
          108.443
         ],
         "yaxis": "y"
        },
        {
         "hovertemplate": "Driver=RUS<br>LapNumber=%{x}<br>LapTime(s)=%{y}<extra></extra>",
         "legendgroup": "RUS",
         "line": {
          "color": "#27f4d2",
          "dash": "solid"
         },
         "marker": {
          "symbol": "circle"
         },
         "mode": "lines",
         "name": "RUS",
         "orientation": "v",
         "showlegend": true,
         "type": "scatter",
         "x": [
          2,
          3,
          4,
          5,
          6,
          7,
          8,
          9,
          10,
          11,
          14,
          17,
          18,
          19,
          20,
          21,
          22,
          23,
          24,
          25,
          26,
          27,
          28,
          29,
          30,
          31,
          32,
          33,
          34,
          35,
          36,
          37,
          38,
          39,
          40,
          41,
          42,
          43,
          44,
          45,
          46,
          47,
          48,
          49
         ],
         "xaxis": "x",
         "y": [
          109.738,
          109.359,
          109.199,
          108.952,
          109.581,
          109.315,
          109.351,
          109.423,
          109.712,
          109.833,
          109.818,
          108.043,
          108.224,
          108.35,
          108.387,
          108.37,
          108.198,
          108.293,
          107.988,
          108.205,
          108.326,
          108.794,
          108.217,
          108.998,
          108.967,
          108.392,
          109.052,
          107.706,
          107.443,
          107.702,
          107.681,
          107.809,
          107.649,
          107.138,
          107,
          106.852,
          106.846,
          106.727,
          106.707,
          106.628,
          106.727,
          106.664,
          107.016,
          106.707
         ],
         "yaxis": "y"
        },
        {
         "hovertemplate": "Driver=BOT<br>LapNumber=%{x}<br>LapTime(s)=%{y}<extra></extra>",
         "legendgroup": "BOT",
         "line": {
          "color": "#00e700",
          "dash": "solid"
         },
         "marker": {
          "symbol": "circle"
         },
         "mode": "lines",
         "name": "BOT",
         "orientation": "v",
         "showlegend": true,
         "type": "scatter",
         "x": [
          2,
          3,
          4,
          5,
          6,
          7,
          8,
          9,
          10,
          13,
          14,
          17,
          18,
          19,
          20,
          21,
          22,
          23,
          24,
          25,
          26,
          27,
          28,
          29,
          30,
          31,
          32,
          33,
          34,
          35,
          36,
          37,
          38,
          39,
          40,
          41,
          42,
          43,
          44,
          45,
          46,
          47,
          48
         ],
         "xaxis": "x",
         "y": [
          114.291,
          112.71,
          111.585,
          113.313,
          111.039,
          111.374,
          111.315,
          111.467,
          112.685,
          109.999,
          110.005,
          109.792,
          109.718,
          109.911,
          109.692,
          109.687,
          109.727,
          109.77,
          109.617,
          109.463,
          109.646,
          109.455,
          109.459,
          109.321,
          109.41,
          109.406,
          109.281,
          111.477,
          109.598,
          109.231,
          109.038,
          108.871,
          108.836,
          109.012,
          108.501,
          108.418,
          108.742,
          108.467,
          108.683,
          108.498,
          110.67,
          108.863,
          114.753
         ],
         "yaxis": "y"
        },
        {
         "hovertemplate": "Driver=PIA<br>LapNumber=%{x}<br>LapTime(s)=%{y}<extra></extra>",
         "legendgroup": "PIA",
         "line": {
          "color": "#ff8000",
          "dash": "solid"
         },
         "marker": {
          "symbol": "circle"
         },
         "mode": "lines",
         "name": "PIA",
         "orientation": "v",
         "showlegend": true,
         "type": "scatter",
         "x": [
          2,
          3,
          4,
          5,
          6,
          7,
          8,
          9,
          10,
          11,
          12,
          13,
          14,
          17,
          18,
          19,
          20,
          21,
          22,
          23,
          24,
          25,
          26,
          27,
          28,
          29,
          30,
          31,
          32,
          33,
          34,
          35,
          36,
          37,
          38,
          39,
          40,
          41,
          42,
          43,
          44,
          45,
          46,
          47,
          48,
          49,
          50
         ],
         "xaxis": "x",
         "y": [
          108.944,
          108.811,
          108.408,
          108.07,
          108.848,
          108.755,
          108.297,
          108.225,
          108.601,
          108.304,
          108.948,
          109.194,
          109.577,
          108.556,
          107.817,
          107.465,
          108.866,
          107.854,
          107.751,
          107.481,
          107.066,
          107.408,
          107.528,
          107.368,
          107.558,
          107.601,
          107.661,
          107.923,
          108.135,
          108.436,
          107.927,
          107.821,
          107.873,
          107.857,
          107.682,
          107.776,
          107.721,
          107.875,
          107.688,
          107.616,
          107.365,
          107.727,
          107.269,
          107.06,
          107.488,
          107.547,
          107.258
         ],
         "yaxis": "y"
        }
       ],
       "layout": {
        "legend": {
         "title": {
          "text": "Driver"
         },
         "tracegroupgap": 0
        },
        "template": {
         "data": {
          "bar": [
           {
            "error_x": {
             "color": "#f2f5fa"
            },
            "error_y": {
             "color": "#f2f5fa"
            },
            "marker": {
             "line": {
              "color": "rgb(17,17,17)",
              "width": 0.5
             },
             "pattern": {
              "fillmode": "overlay",
              "size": 10,
              "solidity": 0.2
             }
            },
            "type": "bar"
           }
          ],
          "barpolar": [
           {
            "marker": {
             "line": {
              "color": "rgb(17,17,17)",
              "width": 0.5
             },
             "pattern": {
              "fillmode": "overlay",
              "size": 10,
              "solidity": 0.2
             }
            },
            "type": "barpolar"
           }
          ],
          "carpet": [
           {
            "aaxis": {
             "endlinecolor": "#A2B1C6",
             "gridcolor": "#506784",
             "linecolor": "#506784",
             "minorgridcolor": "#506784",
             "startlinecolor": "#A2B1C6"
            },
            "baxis": {
             "endlinecolor": "#A2B1C6",
             "gridcolor": "#506784",
             "linecolor": "#506784",
             "minorgridcolor": "#506784",
             "startlinecolor": "#A2B1C6"
            },
            "type": "carpet"
           }
          ],
          "choropleth": [
           {
            "colorbar": {
             "outlinewidth": 0,
             "ticks": ""
            },
            "type": "choropleth"
           }
          ],
          "contour": [
           {
            "colorbar": {
             "outlinewidth": 0,
             "ticks": ""
            },
            "colorscale": [
             [
              0,
              "#0d0887"
             ],
             [
              0.1111111111111111,
              "#46039f"
             ],
             [
              0.2222222222222222,
              "#7201a8"
             ],
             [
              0.3333333333333333,
              "#9c179e"
             ],
             [
              0.4444444444444444,
              "#bd3786"
             ],
             [
              0.5555555555555556,
              "#d8576b"
             ],
             [
              0.6666666666666666,
              "#ed7953"
             ],
             [
              0.7777777777777778,
              "#fb9f3a"
             ],
             [
              0.8888888888888888,
              "#fdca26"
             ],
             [
              1,
              "#f0f921"
             ]
            ],
            "type": "contour"
           }
          ],
          "contourcarpet": [
           {
            "colorbar": {
             "outlinewidth": 0,
             "ticks": ""
            },
            "type": "contourcarpet"
           }
          ],
          "heatmap": [
           {
            "colorbar": {
             "outlinewidth": 0,
             "ticks": ""
            },
            "colorscale": [
             [
              0,
              "#0d0887"
             ],
             [
              0.1111111111111111,
              "#46039f"
             ],
             [
              0.2222222222222222,
              "#7201a8"
             ],
             [
              0.3333333333333333,
              "#9c179e"
             ],
             [
              0.4444444444444444,
              "#bd3786"
             ],
             [
              0.5555555555555556,
              "#d8576b"
             ],
             [
              0.6666666666666666,
              "#ed7953"
             ],
             [
              0.7777777777777778,
              "#fb9f3a"
             ],
             [
              0.8888888888888888,
              "#fdca26"
             ],
             [
              1,
              "#f0f921"
             ]
            ],
            "type": "heatmap"
           }
          ],
          "heatmapgl": [
           {
            "colorbar": {
             "outlinewidth": 0,
             "ticks": ""
            },
            "colorscale": [
             [
              0,
              "#0d0887"
             ],
             [
              0.1111111111111111,
              "#46039f"
             ],
             [
              0.2222222222222222,
              "#7201a8"
             ],
             [
              0.3333333333333333,
              "#9c179e"
             ],
             [
              0.4444444444444444,
              "#bd3786"
             ],
             [
              0.5555555555555556,
              "#d8576b"
             ],
             [
              0.6666666666666666,
              "#ed7953"
             ],
             [
              0.7777777777777778,
              "#fb9f3a"
             ],
             [
              0.8888888888888888,
              "#fdca26"
             ],
             [
              1,
              "#f0f921"
             ]
            ],
            "type": "heatmapgl"
           }
          ],
          "histogram": [
           {
            "marker": {
             "pattern": {
              "fillmode": "overlay",
              "size": 10,
              "solidity": 0.2
             }
            },
            "type": "histogram"
           }
          ],
          "histogram2d": [
           {
            "colorbar": {
             "outlinewidth": 0,
             "ticks": ""
            },
            "colorscale": [
             [
              0,
              "#0d0887"
             ],
             [
              0.1111111111111111,
              "#46039f"
             ],
             [
              0.2222222222222222,
              "#7201a8"
             ],
             [
              0.3333333333333333,
              "#9c179e"
             ],
             [
              0.4444444444444444,
              "#bd3786"
             ],
             [
              0.5555555555555556,
              "#d8576b"
             ],
             [
              0.6666666666666666,
              "#ed7953"
             ],
             [
              0.7777777777777778,
              "#fb9f3a"
             ],
             [
              0.8888888888888888,
              "#fdca26"
             ],
             [
              1,
              "#f0f921"
             ]
            ],
            "type": "histogram2d"
           }
          ],
          "histogram2dcontour": [
           {
            "colorbar": {
             "outlinewidth": 0,
             "ticks": ""
            },
            "colorscale": [
             [
              0,
              "#0d0887"
             ],
             [
              0.1111111111111111,
              "#46039f"
             ],
             [
              0.2222222222222222,
              "#7201a8"
             ],
             [
              0.3333333333333333,
              "#9c179e"
             ],
             [
              0.4444444444444444,
              "#bd3786"
             ],
             [
              0.5555555555555556,
              "#d8576b"
             ],
             [
              0.6666666666666666,
              "#ed7953"
             ],
             [
              0.7777777777777778,
              "#fb9f3a"
             ],
             [
              0.8888888888888888,
              "#fdca26"
             ],
             [
              1,
              "#f0f921"
             ]
            ],
            "type": "histogram2dcontour"
           }
          ],
          "mesh3d": [
           {
            "colorbar": {
             "outlinewidth": 0,
             "ticks": ""
            },
            "type": "mesh3d"
           }
          ],
          "parcoords": [
           {
            "line": {
             "colorbar": {
              "outlinewidth": 0,
              "ticks": ""
             }
            },
            "type": "parcoords"
           }
          ],
          "pie": [
           {
            "automargin": true,
            "type": "pie"
           }
          ],
          "scatter": [
           {
            "marker": {
             "line": {
              "color": "#283442"
             }
            },
            "type": "scatter"
           }
          ],
          "scatter3d": [
           {
            "line": {
             "colorbar": {
              "outlinewidth": 0,
              "ticks": ""
             }
            },
            "marker": {
             "colorbar": {
              "outlinewidth": 0,
              "ticks": ""
             }
            },
            "type": "scatter3d"
           }
          ],
          "scattercarpet": [
           {
            "marker": {
             "colorbar": {
              "outlinewidth": 0,
              "ticks": ""
             }
            },
            "type": "scattercarpet"
           }
          ],
          "scattergeo": [
           {
            "marker": {
             "colorbar": {
              "outlinewidth": 0,
              "ticks": ""
             }
            },
            "type": "scattergeo"
           }
          ],
          "scattergl": [
           {
            "marker": {
             "line": {
              "color": "#283442"
             }
            },
            "type": "scattergl"
           }
          ],
          "scattermapbox": [
           {
            "marker": {
             "colorbar": {
              "outlinewidth": 0,
              "ticks": ""
             }
            },
            "type": "scattermapbox"
           }
          ],
          "scatterpolar": [
           {
            "marker": {
             "colorbar": {
              "outlinewidth": 0,
              "ticks": ""
             }
            },
            "type": "scatterpolar"
           }
          ],
          "scatterpolargl": [
           {
            "marker": {
             "colorbar": {
              "outlinewidth": 0,
              "ticks": ""
             }
            },
            "type": "scatterpolargl"
           }
          ],
          "scatterternary": [
           {
            "marker": {
             "colorbar": {
              "outlinewidth": 0,
              "ticks": ""
             }
            },
            "type": "scatterternary"
           }
          ],
          "surface": [
           {
            "colorbar": {
             "outlinewidth": 0,
             "ticks": ""
            },
            "colorscale": [
             [
              0,
              "#0d0887"
             ],
             [
              0.1111111111111111,
              "#46039f"
             ],
             [
              0.2222222222222222,
              "#7201a8"
             ],
             [
              0.3333333333333333,
              "#9c179e"
             ],
             [
              0.4444444444444444,
              "#bd3786"
             ],
             [
              0.5555555555555556,
              "#d8576b"
             ],
             [
              0.6666666666666666,
              "#ed7953"
             ],
             [
              0.7777777777777778,
              "#fb9f3a"
             ],
             [
              0.8888888888888888,
              "#fdca26"
             ],
             [
              1,
              "#f0f921"
             ]
            ],
            "type": "surface"
           }
          ],
          "table": [
           {
            "cells": {
             "fill": {
              "color": "#506784"
             },
             "line": {
              "color": "rgb(17,17,17)"
             }
            },
            "header": {
             "fill": {
              "color": "#2a3f5f"
             },
             "line": {
              "color": "rgb(17,17,17)"
             }
            },
            "type": "table"
           }
          ]
         },
         "layout": {
          "annotationdefaults": {
           "arrowcolor": "#f2f5fa",
           "arrowhead": 0,
           "arrowwidth": 1
          },
          "autotypenumbers": "strict",
          "coloraxis": {
           "colorbar": {
            "outlinewidth": 0,
            "ticks": ""
           }
          },
          "colorscale": {
           "diverging": [
            [
             0,
             "#8e0152"
            ],
            [
             0.1,
             "#c51b7d"
            ],
            [
             0.2,
             "#de77ae"
            ],
            [
             0.3,
             "#f1b6da"
            ],
            [
             0.4,
             "#fde0ef"
            ],
            [
             0.5,
             "#f7f7f7"
            ],
            [
             0.6,
             "#e6f5d0"
            ],
            [
             0.7,
             "#b8e186"
            ],
            [
             0.8,
             "#7fbc41"
            ],
            [
             0.9,
             "#4d9221"
            ],
            [
             1,
             "#276419"
            ]
           ],
           "sequential": [
            [
             0,
             "#0d0887"
            ],
            [
             0.1111111111111111,
             "#46039f"
            ],
            [
             0.2222222222222222,
             "#7201a8"
            ],
            [
             0.3333333333333333,
             "#9c179e"
            ],
            [
             0.4444444444444444,
             "#bd3786"
            ],
            [
             0.5555555555555556,
             "#d8576b"
            ],
            [
             0.6666666666666666,
             "#ed7953"
            ],
            [
             0.7777777777777778,
             "#fb9f3a"
            ],
            [
             0.8888888888888888,
             "#fdca26"
            ],
            [
             1,
             "#f0f921"
            ]
           ],
           "sequentialminus": [
            [
             0,
             "#0d0887"
            ],
            [
             0.1111111111111111,
             "#46039f"
            ],
            [
             0.2222222222222222,
             "#7201a8"
            ],
            [
             0.3333333333333333,
             "#9c179e"
            ],
            [
             0.4444444444444444,
             "#bd3786"
            ],
            [
             0.5555555555555556,
             "#d8576b"
            ],
            [
             0.6666666666666666,
             "#ed7953"
            ],
            [
             0.7777777777777778,
             "#fb9f3a"
            ],
            [
             0.8888888888888888,
             "#fdca26"
            ],
            [
             1,
             "#f0f921"
            ]
           ]
          },
          "colorway": [
           "#636efa",
           "#EF553B",
           "#00cc96",
           "#ab63fa",
           "#FFA15A",
           "#19d3f3",
           "#FF6692",
           "#B6E880",
           "#FF97FF",
           "#FECB52"
          ],
          "font": {
           "color": "#f2f5fa"
          },
          "geo": {
           "bgcolor": "rgb(17,17,17)",
           "lakecolor": "rgb(17,17,17)",
           "landcolor": "rgb(17,17,17)",
           "showlakes": true,
           "showland": true,
           "subunitcolor": "#506784"
          },
          "hoverlabel": {
           "align": "left"
          },
          "hovermode": "closest",
          "mapbox": {
           "style": "dark"
          },
          "paper_bgcolor": "rgb(17,17,17)",
          "plot_bgcolor": "rgb(17,17,17)",
          "polar": {
           "angularaxis": {
            "gridcolor": "#506784",
            "linecolor": "#506784",
            "ticks": ""
           },
           "bgcolor": "rgb(17,17,17)",
           "radialaxis": {
            "gridcolor": "#506784",
            "linecolor": "#506784",
            "ticks": ""
           }
          },
          "scene": {
           "xaxis": {
            "backgroundcolor": "rgb(17,17,17)",
            "gridcolor": "#506784",
            "gridwidth": 2,
            "linecolor": "#506784",
            "showbackground": true,
            "ticks": "",
            "zerolinecolor": "#C8D4E3"
           },
           "yaxis": {
            "backgroundcolor": "rgb(17,17,17)",
            "gridcolor": "#506784",
            "gridwidth": 2,
            "linecolor": "#506784",
            "showbackground": true,
            "ticks": "",
            "zerolinecolor": "#C8D4E3"
           },
           "zaxis": {
            "backgroundcolor": "rgb(17,17,17)",
            "gridcolor": "#506784",
            "gridwidth": 2,
            "linecolor": "#506784",
            "showbackground": true,
            "ticks": "",
            "zerolinecolor": "#C8D4E3"
           }
          },
          "shapedefaults": {
           "line": {
            "color": "#f2f5fa"
           }
          },
          "sliderdefaults": {
           "bgcolor": "#C8D4E3",
           "bordercolor": "rgb(17,17,17)",
           "borderwidth": 1,
           "tickwidth": 0
          },
          "ternary": {
           "aaxis": {
            "gridcolor": "#506784",
            "linecolor": "#506784",
            "ticks": ""
           },
           "baxis": {
            "gridcolor": "#506784",
            "linecolor": "#506784",
            "ticks": ""
           },
           "bgcolor": "rgb(17,17,17)",
           "caxis": {
            "gridcolor": "#506784",
            "linecolor": "#506784",
            "ticks": ""
           }
          },
          "title": {
           "x": 0.05
          },
          "updatemenudefaults": {
           "bgcolor": "#506784",
           "borderwidth": 0
          },
          "xaxis": {
           "automargin": true,
           "gridcolor": "#283442",
           "linecolor": "#506784",
           "ticks": "",
           "title": {
            "standoff": 15
           },
           "zerolinecolor": "#283442",
           "zerolinewidth": 2
          },
          "yaxis": {
           "automargin": true,
           "gridcolor": "#283442",
           "linecolor": "#506784",
           "ticks": "",
           "title": {
            "standoff": 15
           },
           "zerolinecolor": "#283442",
           "zerolinewidth": 2
          }
         }
        },
        "title": {
         "text": "Lap times per driver"
        },
        "xaxis": {
         "anchor": "y",
         "domain": [
          0,
          1
         ],
         "title": {
          "text": "LapNumber"
         }
        },
        "yaxis": {
         "anchor": "x",
         "domain": [
          0,
          1
         ],
         "title": {
          "text": "LapTime(s)"
         }
        }
       }
      }
     },
     "metadata": {},
     "output_type": "display_data"
    }
   ],
   "source": [
    "# line plot of the lap times per driver per lap with color per driver\n",
    "px.line(driver_laps, x=\"LapNumber\", y=\"LapTime(s)\", color=\"Driver\", title=\"Lap times per driver per lap\", template=\"plotly_dark\", color_discrete_map=colors)"
   ]
  },
  {
   "cell_type": "code",
   "execution_count": 7,
   "metadata": {},
   "outputs": [
    {
     "data": {
      "application/vnd.plotly.v1+json": {
       "config": {
        "plotlyServerURL": "https://plot.ly"
       },
       "data": [
        {
         "hovertemplate": "Driver=VER<br>LapNumber=%{x}<br>Position=%{y}<extra></extra>",
         "legendgroup": "VER",
         "line": {
          "color": "#0600ef",
          "dash": "solid"
         },
         "marker": {
          "symbol": "circle"
         },
         "mode": "lines",
         "name": "VER",
         "orientation": "v",
         "showlegend": true,
         "type": "scatter",
         "x": [
          2,
          3,
          4,
          5,
          6,
          7,
          8,
          9,
          10,
          11,
          14,
          17,
          18,
          19,
          20,
          21,
          22,
          23,
          24,
          25,
          26,
          27,
          28,
          29,
          30,
          31,
          32,
          33,
          34,
          35,
          36,
          37,
          38,
          39,
          40,
          41,
          42,
          43,
          44,
          45,
          46,
          47,
          48
         ],
         "xaxis": "x",
         "y": [
          5,
          5,
          5,
          5,
          5,
          5,
          5,
          5,
          5,
          5,
          8,
          7,
          7,
          7,
          7,
          7,
          7,
          7,
          7,
          7,
          7,
          7,
          7,
          7,
          7,
          6,
          6,
          6,
          7,
          7,
          7,
          7,
          6,
          6,
          6,
          6,
          6,
          6,
          6,
          6,
          6,
          6,
          6
         ],
         "yaxis": "y"
        },
        {
         "hovertemplate": "Driver=GAS<br>LapNumber=%{x}<br>Position=%{y}<extra></extra>",
         "legendgroup": "GAS",
         "line": {
          "color": "#ff87bc",
          "dash": "solid"
         },
         "marker": {
          "symbol": "circle"
         },
         "mode": "lines",
         "name": "GAS",
         "orientation": "v",
         "showlegend": true,
         "type": "scatter",
         "x": [
          2,
          3,
          4,
          5,
          6,
          7,
          8,
          9,
          10,
          11,
          12,
          13,
          14,
          17,
          18,
          19,
          20,
          21,
          22,
          23,
          24,
          25,
          26,
          27,
          28,
          29,
          30,
          31,
          32,
          33,
          34,
          35,
          36,
          37,
          38,
          39,
          40,
          41,
          42,
          43,
          44,
          45,
          46,
          47,
          48,
          49
         ],
         "xaxis": "x",
         "y": [
          15,
          15,
          14,
          14,
          14,
          14,
          14,
          14,
          14,
          13,
          12,
          11,
          9,
          10,
          10,
          11,
          11,
          11,
          11,
          11,
          11,
          12,
          12,
          12,
          12,
          12,
          14,
          14,
          14,
          14,
          14,
          14,
          14,
          14,
          14,
          14,
          14,
          14,
          14,
          14,
          14,
          14,
          14,
          14,
          14,
          14
         ],
         "yaxis": "y"
        },
        {
         "hovertemplate": "Driver=PER<br>LapNumber=%{x}<br>Position=%{y}<extra></extra>",
         "legendgroup": "PER",
         "line": {
          "color": "#0600ef",
          "dash": "solid"
         },
         "marker": {
          "symbol": "circle"
         },
         "mode": "lines",
         "name": "PER",
         "orientation": "v",
         "showlegend": true,
         "type": "scatter",
         "x": [
          2,
          3,
          4,
          5,
          6,
          7,
          8,
          9,
          10,
          11,
          12,
          17,
          18,
          19,
          20,
          21,
          22,
          23,
          24,
          25,
          26,
          27,
          28,
          29,
          30,
          31,
          32,
          33,
          34,
          35,
          36,
          37,
          38,
          39,
          40,
          41,
          42,
          43,
          44,
          45,
          46,
          47,
          48,
          49
         ],
         "xaxis": "x",
         "y": [
          3,
          3,
          3,
          3,
          3,
          3,
          3,
          3,
          3,
          3,
          3,
          5,
          4,
          3,
          3,
          3,
          3,
          3,
          3,
          3,
          3,
          3,
          3,
          3,
          3,
          3,
          3,
          3,
          3,
          3,
          3,
          3,
          3,
          3,
          3,
          3,
          3,
          3,
          3,
          3,
          3,
          3,
          3,
          3
         ],
         "yaxis": "y"
        },
        {
         "hovertemplate": "Driver=ALO<br>LapNumber=%{x}<br>Position=%{y}<extra></extra>",
         "legendgroup": "ALO",
         "line": {
          "color": "#00665f",
          "dash": "solid"
         },
         "marker": {
          "symbol": "circle"
         },
         "mode": "lines",
         "name": "ALO",
         "orientation": "v",
         "showlegend": true,
         "type": "scatter",
         "x": [
          2,
          3,
          4,
          5,
          6,
          7,
          8,
          9,
          10,
          13,
          14,
          17,
          18,
          19,
          20,
          21,
          22,
          23,
          24,
          25,
          26,
          27,
          28,
          29,
          30,
          31,
          32,
          33,
          34,
          35,
          36,
          37,
          38,
          39,
          40,
          41,
          42,
          43,
          44,
          45,
          46,
          47,
          48,
          49
         ],
         "xaxis": "x",
         "y": [
          7,
          7,
          7,
          7,
          7,
          7,
          7,
          7,
          7,
          13,
          13,
          9,
          9,
          9,
          9,
          9,
          9,
          9,
          9,
          9,
          9,
          9,
          9,
          9,
          9,
          9,
          8,
          8,
          8,
          8,
          8,
          8,
          8,
          8,
          8,
          8,
          8,
          8,
          8,
          8,
          8,
          8,
          8,
          8
         ],
         "yaxis": "y"
        },
        {
         "hovertemplate": "Driver=LEC<br>LapNumber=%{x}<br>Position=%{y}<extra></extra>",
         "legendgroup": "LEC",
         "line": {
          "color": "#e8002d",
          "dash": "solid"
         },
         "marker": {
          "symbol": "circle"
         },
         "mode": "lines",
         "name": "LEC",
         "orientation": "v",
         "showlegend": true,
         "type": "scatter",
         "x": [
          2,
          3,
          4,
          5,
          6,
          7,
          8,
          9,
          10,
          11,
          12,
          13,
          14,
          18,
          19,
          20,
          21,
          22,
          23,
          24,
          25,
          26,
          27,
          28,
          29,
          30,
          31,
          32,
          33,
          34,
          35,
          36,
          37,
          38,
          39,
          40,
          41,
          42,
          43,
          44,
          45,
          46,
          47,
          48,
          49
         ],
         "xaxis": "x",
         "y": [
          1,
          1,
          1,
          1,
          1,
          1,
          1,
          1,
          1,
          1,
          1,
          1,
          1,
          1,
          1,
          2,
          2,
          2,
          2,
          2,
          2,
          2,
          2,
          2,
          2,
          2,
          2,
          2,
          2,
          2,
          2,
          2,
          2,
          2,
          2,
          2,
          2,
          2,
          2,
          2,
          2,
          2,
          2,
          2,
          2
         ],
         "yaxis": "y"
        },
        {
         "hovertemplate": "Driver=STR<br>LapNumber=%{x}<br>Position=%{y}<extra></extra>",
         "legendgroup": "STR",
         "line": {
          "color": "#00665f",
          "dash": "solid"
         },
         "marker": {
          "symbol": "circle"
         },
         "mode": "lines",
         "name": "STR",
         "orientation": "v",
         "showlegend": true,
         "type": "scatter",
         "x": [
          3,
          4,
          5,
          6,
          7,
          8,
          9,
          10,
          11,
          12,
          13,
          14,
          17,
          18,
          19,
          20,
          21,
          24,
          25,
          26,
          27,
          28,
          29,
          30,
          31,
          32,
          33,
          34,
          35,
          36,
          37,
          38,
          39,
          40,
          41,
          42,
          43,
          44
         ],
         "xaxis": "x",
         "y": [
          20,
          20,
          20,
          20,
          20,
          20,
          20,
          20,
          19,
          18,
          17,
          17,
          18,
          18,
          18,
          18,
          18,
          19,
          19,
          19,
          19,
          19,
          19,
          19,
          19,
          19,
          18,
          18,
          17,
          17,
          17,
          17,
          17,
          17,
          17,
          17,
          17,
          17
         ],
         "yaxis": "y"
        },
        {
         "hovertemplate": "Driver=TSU<br>LapNumber=%{x}<br>Position=%{y}<extra></extra>",
         "legendgroup": "TSU",
         "line": {
          "color": "#364aa9",
          "dash": "solid"
         },
         "marker": {
          "symbol": "circle"
         },
         "mode": "lines",
         "name": "TSU",
         "orientation": "v",
         "showlegend": true,
         "type": "scatter",
         "x": [
          2,
          3,
          4,
          5,
          6,
          7,
          8,
          9,
          10,
          11
         ],
         "xaxis": "x",
         "y": [
          11,
          14,
          16,
          16,
          16,
          16,
          16,
          16,
          16,
          17
         ],
         "yaxis": "y"
        },
        {
         "hovertemplate": "Driver=ALB<br>LapNumber=%{x}<br>Position=%{y}<extra></extra>",
         "legendgroup": "ALB",
         "line": {
          "color": "#00a0dd",
          "dash": "solid"
         },
         "marker": {
          "symbol": "circle"
         },
         "mode": "lines",
         "name": "ALB",
         "orientation": "v",
         "showlegend": true,
         "type": "scatter",
         "x": [
          2,
          3,
          4,
          5,
          6,
          7,
          8,
          9,
          10,
          11,
          12,
          13,
          14,
          17,
          18,
          19,
          20,
          21,
          22,
          23,
          24,
          25,
          26,
          27,
          28,
          29,
          30,
          33,
          34,
          35,
          36,
          37,
          38,
          39,
          40,
          41,
          42,
          43,
          44,
          45,
          46,
          47,
          48,
          49
         ],
         "xaxis": "x",
         "y": [
          9,
          9,
          9,
          9,
          9,
          9,
          9,
          9,
          8,
          7,
          7,
          5,
          4,
          4,
          3,
          4,
          4,
          4,
          4,
          4,
          5,
          5,
          5,
          5,
          5,
          5,
          5,
          11,
          11,
          11,
          10,
          10,
          9,
          9,
          9,
          9,
          9,
          9,
          9,
          9,
          9,
          9,
          9,
          9
         ],
         "yaxis": "y"
        },
        {
         "hovertemplate": "Driver=ZHO<br>LapNumber=%{x}<br>Position=%{y}<extra></extra>",
         "legendgroup": "ZHO",
         "line": {
          "color": "#00e700",
          "dash": "solid"
         },
         "marker": {
          "symbol": "circle"
         },
         "mode": "lines",
         "name": "ZHO",
         "orientation": "v",
         "showlegend": true,
         "type": "scatter",
         "x": [
          2,
          3,
          4,
          5,
          6,
          7,
          8,
          9,
          10,
          11,
          12,
          13,
          14,
          17,
          18,
          19,
          20,
          21,
          22,
          23,
          24,
          25,
          26,
          27,
          28,
          29,
          30,
          31,
          32,
          33,
          36,
          37,
          38,
          39,
          40,
          41,
          42,
          43,
          44,
          45,
          46,
          47,
          48,
          49
         ],
         "xaxis": "x",
         "y": [
          18,
          18,
          18,
          18,
          18,
          18,
          18,
          18,
          17,
          16,
          16,
          15,
          15,
          15,
          16,
          16,
          16,
          16,
          16,
          16,
          16,
          16,
          16,
          16,
          16,
          16,
          16,
          16,
          16,
          16,
          19,
          19,
          19,
          19,
          19,
          19,
          19,
          19,
          19,
          18,
          17,
          17,
          16,
          16
         ],
         "yaxis": "y"
        },
        {
         "hovertemplate": "Driver=HUL<br>LapNumber=%{x}<br>Position=%{y}<extra></extra>",
         "legendgroup": "HUL",
         "line": {
          "color": "#b6babd",
          "dash": "solid"
         },
         "marker": {
          "symbol": "circle"
         },
         "mode": "lines",
         "name": "HUL",
         "orientation": "v",
         "showlegend": true,
         "type": "scatter",
         "x": [
          2,
          3,
          4,
          5,
          6,
          7,
          8,
          9,
          10,
          11,
          12,
          13,
          14,
          17,
          18,
          19,
          20,
          21,
          22,
          23,
          24,
          25,
          26,
          27,
          28,
          29,
          30,
          31,
          32,
          33,
          34,
          35,
          36,
          37,
          38,
          39,
          40,
          41,
          42,
          43,
          44,
          45,
          46,
          47,
          48,
          49
         ],
         "xaxis": "x",
         "y": [
          13,
          12,
          12,
          12,
          12,
          12,
          12,
          12,
          11,
          10,
          9,
          7,
          7,
          13,
          13,
          13,
          12,
          12,
          12,
          12,
          12,
          11,
          11,
          11,
          11,
          11,
          11,
          11,
          10,
          10,
          10,
          9,
          9,
          9,
          10,
          10,
          10,
          10,
          10,
          10,
          10,
          10,
          10,
          10,
          10,
          11
         ],
         "yaxis": "y"
        },
        {
         "hovertemplate": "Driver=RIC<br>LapNumber=%{x}<br>Position=%{y}<extra></extra>",
         "legendgroup": "RIC",
         "line": {
          "color": "#364aa9",
          "dash": "solid"
         },
         "marker": {
          "symbol": "circle"
         },
         "mode": "lines",
         "name": "RIC",
         "orientation": "v",
         "showlegend": true,
         "type": "scatter",
         "x": [
          2,
          3,
          4,
          5,
          6,
          7,
          8,
          9,
          10,
          11,
          12,
          13,
          14,
          17,
          18,
          19,
          20,
          21,
          22,
          23,
          24,
          25,
          26,
          27,
          28,
          29,
          30,
          31,
          32,
          33,
          34,
          35,
          36,
          37,
          38,
          39,
          40,
          41,
          42,
          43,
          44,
          45,
          46,
          47,
          48
         ],
         "xaxis": "x",
         "y": [
          14,
          13,
          13,
          13,
          13,
          13,
          13,
          13,
          13,
          12,
          11,
          10,
          11,
          12,
          12,
          12,
          13,
          13,
          15,
          15,
          15,
          15,
          15,
          15,
          15,
          15,
          15,
          15,
          15,
          15,
          15,
          15,
          15,
          15,
          15,
          15,
          15,
          15,
          15,
          15,
          15,
          15,
          15,
          15,
          15
         ],
         "yaxis": "y"
        },
        {
         "hovertemplate": "Driver=OCO<br>LapNumber=%{x}<br>Position=%{y}<extra></extra>",
         "legendgroup": "OCO",
         "line": {
          "color": "#ff87bc",
          "dash": "solid"
         },
         "marker": {
          "symbol": "circle"
         },
         "mode": "lines",
         "name": "OCO",
         "orientation": "v",
         "showlegend": true,
         "type": "scatter",
         "x": [
          2,
          3,
          4,
          5,
          6,
          7,
          8,
          9,
          10,
          11,
          12,
          13,
          14,
          17,
          18,
          19,
          20,
          21,
          22,
          23,
          24,
          25,
          26,
          27,
          28,
          29,
          30,
          31,
          32,
          33,
          34,
          35,
          36,
          37,
          38,
          39,
          40,
          41,
          42,
          43,
          44,
          45,
          46,
          47,
          48
         ],
         "xaxis": "x",
         "y": [
          19,
          19,
          19,
          19,
          19,
          19,
          19,
          19,
          18,
          18,
          17,
          16,
          16,
          17,
          17,
          17,
          17,
          17,
          17,
          17,
          17,
          17,
          17,
          17,
          17,
          17,
          17,
          17,
          17,
          17,
          16,
          16,
          16,
          16,
          16,
          16,
          16,
          16,
          16,
          16,
          16,
          16,
          16,
          16,
          17
         ],
         "yaxis": "y"
        },
        {
         "hovertemplate": "Driver=NOR<br>LapNumber=%{x}<br>Position=%{y}<extra></extra>",
         "legendgroup": "NOR",
         "line": {
          "color": "#ff8000",
          "dash": "solid"
         },
         "marker": {
          "symbol": "circle"
         },
         "mode": "lines",
         "name": "NOR",
         "orientation": "v",
         "showlegend": true,
         "type": "scatter",
         "x": [
          2,
          3,
          4,
          5,
          6,
          7,
          8,
          9,
          10,
          11,
          12,
          13,
          14,
          17,
          18,
          19,
          20,
          21,
          22,
          23,
          24,
          25,
          26,
          27,
          28,
          29,
          30,
          31,
          32,
          33,
          34,
          35,
          36,
          39,
          40,
          41,
          42,
          43,
          44,
          45,
          46,
          47,
          48,
          49
         ],
         "xaxis": "x",
         "y": [
          12,
          11,
          11,
          11,
          11,
          11,
          10,
          10,
          9,
          9,
          8,
          6,
          5,
          6,
          5,
          5,
          5,
          5,
          5,
          6,
          6,
          6,
          6,
          6,
          6,
          6,
          6,
          5,
          5,
          5,
          5,
          5,
          5,
          7,
          7,
          7,
          7,
          7,
          7,
          7,
          7,
          7,
          7,
          6
         ],
         "yaxis": "y"
        },
        {
         "hovertemplate": "Driver=COL<br>LapNumber=%{x}<br>Position=%{y}<extra></extra>",
         "legendgroup": "COL",
         "line": {
          "color": "#00a0dd",
          "dash": "solid"
         },
         "marker": {
          "symbol": "circle"
         },
         "mode": "lines",
         "name": "COL",
         "orientation": "v",
         "showlegend": true,
         "type": "scatter",
         "x": [
          2,
          3,
          4,
          5,
          6,
          7,
          8,
          9,
          12,
          13,
          14,
          17,
          18,
          19,
          20,
          21,
          22,
          23,
          24,
          25,
          26,
          27,
          28,
          29,
          30,
          31,
          32,
          33,
          34,
          35,
          36,
          37,
          38,
          39,
          40,
          41,
          42,
          43,
          44,
          45,
          46,
          47,
          48,
          49
         ],
         "xaxis": "x",
         "y": [
          8,
          8,
          8,
          8,
          8,
          8,
          8,
          8,
          15,
          14,
          14,
          11,
          11,
          10,
          10,
          10,
          10,
          10,
          10,
          10,
          10,
          10,
          10,
          10,
          10,
          10,
          9,
          9,
          9,
          10,
          11,
          11,
          11,
          11,
          11,
          11,
          11,
          11,
          11,
          11,
          11,
          11,
          11,
          10
         ],
         "yaxis": "y"
        },
        {
         "hovertemplate": "Driver=HAM<br>LapNumber=%{x}<br>Position=%{y}<extra></extra>",
         "legendgroup": "HAM",
         "line": {
          "color": "#27f4d2",
          "dash": "solid"
         },
         "marker": {
          "symbol": "circle"
         },
         "mode": "lines",
         "name": "HAM",
         "orientation": "v",
         "showlegend": true,
         "type": "scatter",
         "x": [
          2,
          3,
          4,
          5,
          6,
          7,
          8,
          9,
          10,
          11,
          14,
          17,
          18,
          19,
          20,
          21,
          22,
          23,
          24,
          25,
          26,
          27,
          28,
          29,
          30,
          31,
          32,
          33,
          34,
          35,
          36,
          37,
          38,
          39,
          40,
          41,
          42,
          43,
          44,
          45,
          46,
          47,
          48,
          49
         ],
         "xaxis": "x",
         "y": [
          16,
          16,
          15,
          15,
          15,
          15,
          15,
          15,
          15,
          14,
          18,
          16,
          15,
          15,
          15,
          15,
          14,
          14,
          14,
          14,
          14,
          14,
          14,
          14,
          13,
          13,
          13,
          13,
          13,
          13,
          13,
          13,
          13,
          13,
          13,
          12,
          12,
          12,
          12,
          12,
          12,
          12,
          12,
          12
         ],
         "yaxis": "y"
        },
        {
         "hovertemplate": "Driver=BEA<br>LapNumber=%{x}<br>Position=%{y}<extra></extra>",
         "legendgroup": "BEA",
         "line": {
          "color": "#b6babd",
          "dash": "solid"
         },
         "marker": {
          "symbol": "circle"
         },
         "mode": "lines",
         "name": "BEA",
         "orientation": "v",
         "showlegend": true,
         "type": "scatter",
         "x": [
          2,
          3,
          4,
          5,
          6,
          7,
          8,
          9,
          10,
          11,
          12,
          13,
          17,
          18,
          19,
          20,
          21,
          22,
          23,
          24,
          25,
          26,
          27,
          28,
          29,
          30,
          31,
          32,
          33,
          34,
          35,
          36,
          37,
          38,
          39,
          40,
          41,
          42,
          43,
          44,
          45,
          46,
          47,
          48,
          49
         ],
         "xaxis": "x",
         "y": [
          10,
          10,
          10,
          10,
          10,
          10,
          11,
          11,
          12,
          11,
          10,
          8,
          14,
          14,
          14,
          14,
          14,
          13,
          13,
          13,
          13,
          13,
          13,
          13,
          13,
          12,
          12,
          12,
          12,
          12,
          12,
          12,
          12,
          12,
          12,
          12,
          13,
          13,
          13,
          13,
          13,
          13,
          13,
          13,
          13
         ],
         "yaxis": "y"
        },
        {
         "hovertemplate": "Driver=SAI<br>LapNumber=%{x}<br>Position=%{y}<extra></extra>",
         "legendgroup": "SAI",
         "line": {
          "color": "#e8002d",
          "dash": "solid"
         },
         "marker": {
          "symbol": "circle"
         },
         "mode": "lines",
         "name": "SAI",
         "orientation": "v",
         "showlegend": true,
         "type": "scatter",
         "x": [
          2,
          3,
          4,
          5,
          6,
          7,
          8,
          9,
          10,
          11,
          12,
          13,
          14,
          19,
          20,
          21,
          22,
          23,
          24,
          25,
          26,
          27,
          28,
          29,
          30,
          31,
          32,
          33,
          34,
          35,
          36,
          37,
          38,
          39,
          40,
          41,
          42,
          43,
          44,
          45,
          46,
          47,
          48,
          49
         ],
         "xaxis": "x",
         "y": [
          4,
          4,
          4,
          4,
          4,
          4,
          4,
          4,
          4,
          4,
          4,
          3,
          3,
          6,
          6,
          6,
          6,
          5,
          4,
          4,
          4,
          4,
          4,
          4,
          4,
          4,
          4,
          4,
          4,
          4,
          4,
          4,
          4,
          4,
          4,
          4,
          4,
          4,
          4,
          4,
          4,
          4,
          4,
          4
         ],
         "yaxis": "y"
        },
        {
         "hovertemplate": "Driver=RUS<br>LapNumber=%{x}<br>Position=%{y}<extra></extra>",
         "legendgroup": "RUS",
         "line": {
          "color": "#27f4d2",
          "dash": "solid"
         },
         "marker": {
          "symbol": "circle"
         },
         "mode": "lines",
         "name": "RUS",
         "orientation": "v",
         "showlegend": true,
         "type": "scatter",
         "x": [
          2,
          3,
          4,
          5,
          6,
          7,
          8,
          9,
          10,
          11,
          14,
          17,
          18,
          19,
          20,
          21,
          22,
          23,
          24,
          25,
          26,
          27,
          28,
          29,
          30,
          31,
          32,
          33,
          34,
          35,
          36,
          37,
          38,
          39,
          40,
          41,
          42,
          43,
          44,
          45,
          46,
          47,
          48,
          49
         ],
         "xaxis": "x",
         "y": [
          6,
          6,
          6,
          6,
          6,
          6,
          6,
          6,
          6,
          6,
          10,
          8,
          8,
          8,
          8,
          8,
          8,
          8,
          8,
          8,
          8,
          8,
          8,
          8,
          8,
          7,
          7,
          7,
          6,
          6,
          6,
          5,
          5,
          5,
          5,
          5,
          5,
          5,
          5,
          5,
          5,
          5,
          5,
          5
         ],
         "yaxis": "y"
        },
        {
         "hovertemplate": "Driver=BOT<br>LapNumber=%{x}<br>Position=%{y}<extra></extra>",
         "legendgroup": "BOT",
         "line": {
          "color": "#00e700",
          "dash": "solid"
         },
         "marker": {
          "symbol": "circle"
         },
         "mode": "lines",
         "name": "BOT",
         "orientation": "v",
         "showlegend": true,
         "type": "scatter",
         "x": [
          2,
          3,
          4,
          5,
          6,
          7,
          8,
          9,
          10,
          13,
          14,
          17,
          18,
          19,
          20,
          21,
          22,
          23,
          24,
          25,
          26,
          27,
          28,
          29,
          30,
          31,
          32,
          33,
          34,
          35,
          36,
          37,
          38,
          39,
          40,
          41,
          42,
          43,
          44,
          45,
          46,
          47,
          48
         ],
         "xaxis": "x",
         "y": [
          17,
          17,
          17,
          17,
          17,
          17,
          17,
          17,
          19,
          19,
          19,
          19,
          19,
          19,
          19,
          19,
          19,
          18,
          18,
          18,
          18,
          18,
          18,
          18,
          18,
          18,
          18,
          19,
          19,
          18,
          18,
          18,
          18,
          18,
          18,
          18,
          18,
          18,
          18,
          17,
          18,
          18,
          18
         ],
         "yaxis": "y"
        },
        {
         "hovertemplate": "Driver=PIA<br>LapNumber=%{x}<br>Position=%{y}<extra></extra>",
         "legendgroup": "PIA",
         "line": {
          "color": "#ff8000",
          "dash": "solid"
         },
         "marker": {
          "symbol": "circle"
         },
         "mode": "lines",
         "name": "PIA",
         "orientation": "v",
         "showlegend": true,
         "type": "scatter",
         "x": [
          2,
          3,
          4,
          5,
          6,
          7,
          8,
          9,
          10,
          11,
          12,
          13,
          14,
          17,
          18,
          19,
          20,
          21,
          22,
          23,
          24,
          25,
          26,
          27,
          28,
          29,
          30,
          31,
          32,
          33,
          34,
          35,
          36,
          37,
          38,
          39,
          40,
          41,
          42,
          43,
          44,
          45,
          46,
          47,
          48,
          49,
          50
         ],
         "xaxis": "x",
         "y": [
          2,
          2,
          2,
          2,
          2,
          2,
          2,
          2,
          2,
          2,
          2,
          2,
          2,
          3,
          2,
          2,
          1,
          1,
          1,
          1,
          1,
          1,
          1,
          1,
          1,
          1,
          1,
          1,
          1,
          1,
          1,
          1,
          1,
          1,
          1,
          1,
          1,
          1,
          1,
          1,
          1,
          1,
          1,
          1,
          1,
          1,
          1
         ],
         "yaxis": "y"
        }
       ],
       "layout": {
        "legend": {
         "title": {
          "text": "Driver"
         },
         "tracegroupgap": 0
        },
        "template": {
         "data": {
          "bar": [
           {
            "error_x": {
             "color": "#f2f5fa"
            },
            "error_y": {
             "color": "#f2f5fa"
            },
            "marker": {
             "line": {
              "color": "rgb(17,17,17)",
              "width": 0.5
             },
             "pattern": {
              "fillmode": "overlay",
              "size": 10,
              "solidity": 0.2
             }
            },
            "type": "bar"
           }
          ],
          "barpolar": [
           {
            "marker": {
             "line": {
              "color": "rgb(17,17,17)",
              "width": 0.5
             },
             "pattern": {
              "fillmode": "overlay",
              "size": 10,
              "solidity": 0.2
             }
            },
            "type": "barpolar"
           }
          ],
          "carpet": [
           {
            "aaxis": {
             "endlinecolor": "#A2B1C6",
             "gridcolor": "#506784",
             "linecolor": "#506784",
             "minorgridcolor": "#506784",
             "startlinecolor": "#A2B1C6"
            },
            "baxis": {
             "endlinecolor": "#A2B1C6",
             "gridcolor": "#506784",
             "linecolor": "#506784",
             "minorgridcolor": "#506784",
             "startlinecolor": "#A2B1C6"
            },
            "type": "carpet"
           }
          ],
          "choropleth": [
           {
            "colorbar": {
             "outlinewidth": 0,
             "ticks": ""
            },
            "type": "choropleth"
           }
          ],
          "contour": [
           {
            "colorbar": {
             "outlinewidth": 0,
             "ticks": ""
            },
            "colorscale": [
             [
              0,
              "#0d0887"
             ],
             [
              0.1111111111111111,
              "#46039f"
             ],
             [
              0.2222222222222222,
              "#7201a8"
             ],
             [
              0.3333333333333333,
              "#9c179e"
             ],
             [
              0.4444444444444444,
              "#bd3786"
             ],
             [
              0.5555555555555556,
              "#d8576b"
             ],
             [
              0.6666666666666666,
              "#ed7953"
             ],
             [
              0.7777777777777778,
              "#fb9f3a"
             ],
             [
              0.8888888888888888,
              "#fdca26"
             ],
             [
              1,
              "#f0f921"
             ]
            ],
            "type": "contour"
           }
          ],
          "contourcarpet": [
           {
            "colorbar": {
             "outlinewidth": 0,
             "ticks": ""
            },
            "type": "contourcarpet"
           }
          ],
          "heatmap": [
           {
            "colorbar": {
             "outlinewidth": 0,
             "ticks": ""
            },
            "colorscale": [
             [
              0,
              "#0d0887"
             ],
             [
              0.1111111111111111,
              "#46039f"
             ],
             [
              0.2222222222222222,
              "#7201a8"
             ],
             [
              0.3333333333333333,
              "#9c179e"
             ],
             [
              0.4444444444444444,
              "#bd3786"
             ],
             [
              0.5555555555555556,
              "#d8576b"
             ],
             [
              0.6666666666666666,
              "#ed7953"
             ],
             [
              0.7777777777777778,
              "#fb9f3a"
             ],
             [
              0.8888888888888888,
              "#fdca26"
             ],
             [
              1,
              "#f0f921"
             ]
            ],
            "type": "heatmap"
           }
          ],
          "heatmapgl": [
           {
            "colorbar": {
             "outlinewidth": 0,
             "ticks": ""
            },
            "colorscale": [
             [
              0,
              "#0d0887"
             ],
             [
              0.1111111111111111,
              "#46039f"
             ],
             [
              0.2222222222222222,
              "#7201a8"
             ],
             [
              0.3333333333333333,
              "#9c179e"
             ],
             [
              0.4444444444444444,
              "#bd3786"
             ],
             [
              0.5555555555555556,
              "#d8576b"
             ],
             [
              0.6666666666666666,
              "#ed7953"
             ],
             [
              0.7777777777777778,
              "#fb9f3a"
             ],
             [
              0.8888888888888888,
              "#fdca26"
             ],
             [
              1,
              "#f0f921"
             ]
            ],
            "type": "heatmapgl"
           }
          ],
          "histogram": [
           {
            "marker": {
             "pattern": {
              "fillmode": "overlay",
              "size": 10,
              "solidity": 0.2
             }
            },
            "type": "histogram"
           }
          ],
          "histogram2d": [
           {
            "colorbar": {
             "outlinewidth": 0,
             "ticks": ""
            },
            "colorscale": [
             [
              0,
              "#0d0887"
             ],
             [
              0.1111111111111111,
              "#46039f"
             ],
             [
              0.2222222222222222,
              "#7201a8"
             ],
             [
              0.3333333333333333,
              "#9c179e"
             ],
             [
              0.4444444444444444,
              "#bd3786"
             ],
             [
              0.5555555555555556,
              "#d8576b"
             ],
             [
              0.6666666666666666,
              "#ed7953"
             ],
             [
              0.7777777777777778,
              "#fb9f3a"
             ],
             [
              0.8888888888888888,
              "#fdca26"
             ],
             [
              1,
              "#f0f921"
             ]
            ],
            "type": "histogram2d"
           }
          ],
          "histogram2dcontour": [
           {
            "colorbar": {
             "outlinewidth": 0,
             "ticks": ""
            },
            "colorscale": [
             [
              0,
              "#0d0887"
             ],
             [
              0.1111111111111111,
              "#46039f"
             ],
             [
              0.2222222222222222,
              "#7201a8"
             ],
             [
              0.3333333333333333,
              "#9c179e"
             ],
             [
              0.4444444444444444,
              "#bd3786"
             ],
             [
              0.5555555555555556,
              "#d8576b"
             ],
             [
              0.6666666666666666,
              "#ed7953"
             ],
             [
              0.7777777777777778,
              "#fb9f3a"
             ],
             [
              0.8888888888888888,
              "#fdca26"
             ],
             [
              1,
              "#f0f921"
             ]
            ],
            "type": "histogram2dcontour"
           }
          ],
          "mesh3d": [
           {
            "colorbar": {
             "outlinewidth": 0,
             "ticks": ""
            },
            "type": "mesh3d"
           }
          ],
          "parcoords": [
           {
            "line": {
             "colorbar": {
              "outlinewidth": 0,
              "ticks": ""
             }
            },
            "type": "parcoords"
           }
          ],
          "pie": [
           {
            "automargin": true,
            "type": "pie"
           }
          ],
          "scatter": [
           {
            "marker": {
             "line": {
              "color": "#283442"
             }
            },
            "type": "scatter"
           }
          ],
          "scatter3d": [
           {
            "line": {
             "colorbar": {
              "outlinewidth": 0,
              "ticks": ""
             }
            },
            "marker": {
             "colorbar": {
              "outlinewidth": 0,
              "ticks": ""
             }
            },
            "type": "scatter3d"
           }
          ],
          "scattercarpet": [
           {
            "marker": {
             "colorbar": {
              "outlinewidth": 0,
              "ticks": ""
             }
            },
            "type": "scattercarpet"
           }
          ],
          "scattergeo": [
           {
            "marker": {
             "colorbar": {
              "outlinewidth": 0,
              "ticks": ""
             }
            },
            "type": "scattergeo"
           }
          ],
          "scattergl": [
           {
            "marker": {
             "line": {
              "color": "#283442"
             }
            },
            "type": "scattergl"
           }
          ],
          "scattermapbox": [
           {
            "marker": {
             "colorbar": {
              "outlinewidth": 0,
              "ticks": ""
             }
            },
            "type": "scattermapbox"
           }
          ],
          "scatterpolar": [
           {
            "marker": {
             "colorbar": {
              "outlinewidth": 0,
              "ticks": ""
             }
            },
            "type": "scatterpolar"
           }
          ],
          "scatterpolargl": [
           {
            "marker": {
             "colorbar": {
              "outlinewidth": 0,
              "ticks": ""
             }
            },
            "type": "scatterpolargl"
           }
          ],
          "scatterternary": [
           {
            "marker": {
             "colorbar": {
              "outlinewidth": 0,
              "ticks": ""
             }
            },
            "type": "scatterternary"
           }
          ],
          "surface": [
           {
            "colorbar": {
             "outlinewidth": 0,
             "ticks": ""
            },
            "colorscale": [
             [
              0,
              "#0d0887"
             ],
             [
              0.1111111111111111,
              "#46039f"
             ],
             [
              0.2222222222222222,
              "#7201a8"
             ],
             [
              0.3333333333333333,
              "#9c179e"
             ],
             [
              0.4444444444444444,
              "#bd3786"
             ],
             [
              0.5555555555555556,
              "#d8576b"
             ],
             [
              0.6666666666666666,
              "#ed7953"
             ],
             [
              0.7777777777777778,
              "#fb9f3a"
             ],
             [
              0.8888888888888888,
              "#fdca26"
             ],
             [
              1,
              "#f0f921"
             ]
            ],
            "type": "surface"
           }
          ],
          "table": [
           {
            "cells": {
             "fill": {
              "color": "#506784"
             },
             "line": {
              "color": "rgb(17,17,17)"
             }
            },
            "header": {
             "fill": {
              "color": "#2a3f5f"
             },
             "line": {
              "color": "rgb(17,17,17)"
             }
            },
            "type": "table"
           }
          ]
         },
         "layout": {
          "annotationdefaults": {
           "arrowcolor": "#f2f5fa",
           "arrowhead": 0,
           "arrowwidth": 1
          },
          "autotypenumbers": "strict",
          "coloraxis": {
           "colorbar": {
            "outlinewidth": 0,
            "ticks": ""
           }
          },
          "colorscale": {
           "diverging": [
            [
             0,
             "#8e0152"
            ],
            [
             0.1,
             "#c51b7d"
            ],
            [
             0.2,
             "#de77ae"
            ],
            [
             0.3,
             "#f1b6da"
            ],
            [
             0.4,
             "#fde0ef"
            ],
            [
             0.5,
             "#f7f7f7"
            ],
            [
             0.6,
             "#e6f5d0"
            ],
            [
             0.7,
             "#b8e186"
            ],
            [
             0.8,
             "#7fbc41"
            ],
            [
             0.9,
             "#4d9221"
            ],
            [
             1,
             "#276419"
            ]
           ],
           "sequential": [
            [
             0,
             "#0d0887"
            ],
            [
             0.1111111111111111,
             "#46039f"
            ],
            [
             0.2222222222222222,
             "#7201a8"
            ],
            [
             0.3333333333333333,
             "#9c179e"
            ],
            [
             0.4444444444444444,
             "#bd3786"
            ],
            [
             0.5555555555555556,
             "#d8576b"
            ],
            [
             0.6666666666666666,
             "#ed7953"
            ],
            [
             0.7777777777777778,
             "#fb9f3a"
            ],
            [
             0.8888888888888888,
             "#fdca26"
            ],
            [
             1,
             "#f0f921"
            ]
           ],
           "sequentialminus": [
            [
             0,
             "#0d0887"
            ],
            [
             0.1111111111111111,
             "#46039f"
            ],
            [
             0.2222222222222222,
             "#7201a8"
            ],
            [
             0.3333333333333333,
             "#9c179e"
            ],
            [
             0.4444444444444444,
             "#bd3786"
            ],
            [
             0.5555555555555556,
             "#d8576b"
            ],
            [
             0.6666666666666666,
             "#ed7953"
            ],
            [
             0.7777777777777778,
             "#fb9f3a"
            ],
            [
             0.8888888888888888,
             "#fdca26"
            ],
            [
             1,
             "#f0f921"
            ]
           ]
          },
          "colorway": [
           "#636efa",
           "#EF553B",
           "#00cc96",
           "#ab63fa",
           "#FFA15A",
           "#19d3f3",
           "#FF6692",
           "#B6E880",
           "#FF97FF",
           "#FECB52"
          ],
          "font": {
           "color": "#f2f5fa"
          },
          "geo": {
           "bgcolor": "rgb(17,17,17)",
           "lakecolor": "rgb(17,17,17)",
           "landcolor": "rgb(17,17,17)",
           "showlakes": true,
           "showland": true,
           "subunitcolor": "#506784"
          },
          "hoverlabel": {
           "align": "left"
          },
          "hovermode": "closest",
          "mapbox": {
           "style": "dark"
          },
          "paper_bgcolor": "rgb(17,17,17)",
          "plot_bgcolor": "rgb(17,17,17)",
          "polar": {
           "angularaxis": {
            "gridcolor": "#506784",
            "linecolor": "#506784",
            "ticks": ""
           },
           "bgcolor": "rgb(17,17,17)",
           "radialaxis": {
            "gridcolor": "#506784",
            "linecolor": "#506784",
            "ticks": ""
           }
          },
          "scene": {
           "xaxis": {
            "backgroundcolor": "rgb(17,17,17)",
            "gridcolor": "#506784",
            "gridwidth": 2,
            "linecolor": "#506784",
            "showbackground": true,
            "ticks": "",
            "zerolinecolor": "#C8D4E3"
           },
           "yaxis": {
            "backgroundcolor": "rgb(17,17,17)",
            "gridcolor": "#506784",
            "gridwidth": 2,
            "linecolor": "#506784",
            "showbackground": true,
            "ticks": "",
            "zerolinecolor": "#C8D4E3"
           },
           "zaxis": {
            "backgroundcolor": "rgb(17,17,17)",
            "gridcolor": "#506784",
            "gridwidth": 2,
            "linecolor": "#506784",
            "showbackground": true,
            "ticks": "",
            "zerolinecolor": "#C8D4E3"
           }
          },
          "shapedefaults": {
           "line": {
            "color": "#f2f5fa"
           }
          },
          "sliderdefaults": {
           "bgcolor": "#C8D4E3",
           "bordercolor": "rgb(17,17,17)",
           "borderwidth": 1,
           "tickwidth": 0
          },
          "ternary": {
           "aaxis": {
            "gridcolor": "#506784",
            "linecolor": "#506784",
            "ticks": ""
           },
           "baxis": {
            "gridcolor": "#506784",
            "linecolor": "#506784",
            "ticks": ""
           },
           "bgcolor": "rgb(17,17,17)",
           "caxis": {
            "gridcolor": "#506784",
            "linecolor": "#506784",
            "ticks": ""
           }
          },
          "title": {
           "x": 0.05
          },
          "updatemenudefaults": {
           "bgcolor": "#506784",
           "borderwidth": 0
          },
          "xaxis": {
           "automargin": true,
           "gridcolor": "#283442",
           "linecolor": "#506784",
           "ticks": "",
           "title": {
            "standoff": 15
           },
           "zerolinecolor": "#283442",
           "zerolinewidth": 2
          },
          "yaxis": {
           "automargin": true,
           "gridcolor": "#283442",
           "linecolor": "#506784",
           "ticks": "",
           "title": {
            "standoff": 15
           },
           "zerolinecolor": "#283442",
           "zerolinewidth": 2
          }
         }
        },
        "title": {
         "text": "Position evolution per driver"
        },
        "xaxis": {
         "anchor": "y",
         "domain": [
          0,
          1
         ],
         "title": {
          "text": "LapNumber"
         }
        },
        "yaxis": {
         "anchor": "x",
         "autorange": "reversed",
         "domain": [
          0,
          1
         ],
         "title": {
          "text": "Position"
         }
        }
       }
      }
     },
     "metadata": {},
     "output_type": "display_data"
    }
   ],
   "source": [
    "# position evolution per driver per lap (reverse y-axis)\n",
    "fig = px.line(driver_laps, x=\"LapNumber\", y=\"Position\", color=\"Driver\", title=\"Position evolution per driver\", template=\"plotly_dark\", color_discrete_map=colors)\n",
    "fig.update_yaxes(autorange=\"reversed\")\n",
    "fig"
   ]
  },
  {
   "cell_type": "code",
   "execution_count": 16,
   "metadata": {},
   "outputs": [
    {
     "data": {
      "application/vnd.plotly.v1+json": {
       "config": {
        "plotlyServerURL": "https://plot.ly"
       },
       "data": [
        {
         "alignmentgroup": "True",
         "hovertemplate": "Compound=SOFT<br>StintLength=%{x}<br>Driver=%{y}<extra></extra>",
         "legendgroup": "SOFT",
         "marker": {
          "color": "#da291c",
          "pattern": {
           "shape": ""
          }
         },
         "name": "SOFT",
         "offsetgroup": "SOFT",
         "orientation": "h",
         "showlegend": true,
         "textposition": "auto",
         "type": "bar",
         "x": [
          13,
          13,
          10,
          10,
          12,
          10,
          14,
          9,
          9,
          11,
          8,
          10,
          19,
          10,
          11,
          18,
          9,
          12,
          8,
          14,
          7,
          12,
          15,
          19,
          7
         ],
         "xaxis": "x",
         "y": [
          "ALB",
          "ALO",
          "BOT",
          "GAS",
          "GAS",
          "HAM",
          "HUL",
          "LEC",
          "MAG",
          "NOR",
          "OCO",
          "PER",
          "PER",
          "PIA",
          "RIC",
          "RIC",
          "RUS",
          "SAI",
          "SAR",
          "SAR",
          "STR",
          "TSU",
          "VER",
          "VER",
          "ZHO"
         ],
         "yaxis": "y"
        },
        {
         "alignmentgroup": "True",
         "hovertemplate": "Compound=HARD<br>StintLength=%{x}<br>Driver=%{y}<extra></extra>",
         "legendgroup": "HARD",
         "marker": {
          "color": "#f0f0ec",
          "pattern": {
           "shape": ""
          }
         },
         "name": "HARD",
         "offsetgroup": "HARD",
         "orientation": "h",
         "showlegend": true,
         "textposition": "auto",
         "type": "bar",
         "x": [
          17,
          18,
          20,
          15,
          14,
          23,
          15,
          8,
          17,
          21,
          15,
          17,
          19,
          20,
          17,
          21,
          16,
          21,
          16,
          23,
          20,
          18,
          20,
          18,
          16,
          23,
          17,
          19,
          14,
          8,
          14,
          27,
          16,
          19,
          18,
          15,
          25
         ],
         "xaxis": "x",
         "y": [
          "ALB",
          "ALB",
          "ALO",
          "ALO",
          "BOT",
          "BOT",
          "GAS",
          "GAS",
          "HAM",
          "HAM",
          "HUL",
          "HUL",
          "LEC",
          "LEC",
          "MAG",
          "MAG",
          "NOR",
          "NOR",
          "OCO",
          "OCO",
          "PER",
          "PIA",
          "PIA",
          "RIC",
          "RUS",
          "RUS",
          "SAI",
          "SAI",
          "SAR",
          "SAR",
          "STR",
          "STR",
          "TSU",
          "TSU",
          "VER",
          "ZHO",
          "ZHO"
         ],
         "yaxis": "y"
        }
       ],
       "layout": {
        "barmode": "relative",
        "legend": {
         "title": {
          "text": "Compound"
         },
         "tracegroupgap": 0
        },
        "template": {
         "data": {
          "bar": [
           {
            "error_x": {
             "color": "#f2f5fa"
            },
            "error_y": {
             "color": "#f2f5fa"
            },
            "marker": {
             "line": {
              "color": "rgb(17,17,17)",
              "width": 0.5
             },
             "pattern": {
              "fillmode": "overlay",
              "size": 10,
              "solidity": 0.2
             }
            },
            "type": "bar"
           }
          ],
          "barpolar": [
           {
            "marker": {
             "line": {
              "color": "rgb(17,17,17)",
              "width": 0.5
             },
             "pattern": {
              "fillmode": "overlay",
              "size": 10,
              "solidity": 0.2
             }
            },
            "type": "barpolar"
           }
          ],
          "carpet": [
           {
            "aaxis": {
             "endlinecolor": "#A2B1C6",
             "gridcolor": "#506784",
             "linecolor": "#506784",
             "minorgridcolor": "#506784",
             "startlinecolor": "#A2B1C6"
            },
            "baxis": {
             "endlinecolor": "#A2B1C6",
             "gridcolor": "#506784",
             "linecolor": "#506784",
             "minorgridcolor": "#506784",
             "startlinecolor": "#A2B1C6"
            },
            "type": "carpet"
           }
          ],
          "choropleth": [
           {
            "colorbar": {
             "outlinewidth": 0,
             "ticks": ""
            },
            "type": "choropleth"
           }
          ],
          "contour": [
           {
            "colorbar": {
             "outlinewidth": 0,
             "ticks": ""
            },
            "colorscale": [
             [
              0,
              "#0d0887"
             ],
             [
              0.1111111111111111,
              "#46039f"
             ],
             [
              0.2222222222222222,
              "#7201a8"
             ],
             [
              0.3333333333333333,
              "#9c179e"
             ],
             [
              0.4444444444444444,
              "#bd3786"
             ],
             [
              0.5555555555555556,
              "#d8576b"
             ],
             [
              0.6666666666666666,
              "#ed7953"
             ],
             [
              0.7777777777777778,
              "#fb9f3a"
             ],
             [
              0.8888888888888888,
              "#fdca26"
             ],
             [
              1,
              "#f0f921"
             ]
            ],
            "type": "contour"
           }
          ],
          "contourcarpet": [
           {
            "colorbar": {
             "outlinewidth": 0,
             "ticks": ""
            },
            "type": "contourcarpet"
           }
          ],
          "heatmap": [
           {
            "colorbar": {
             "outlinewidth": 0,
             "ticks": ""
            },
            "colorscale": [
             [
              0,
              "#0d0887"
             ],
             [
              0.1111111111111111,
              "#46039f"
             ],
             [
              0.2222222222222222,
              "#7201a8"
             ],
             [
              0.3333333333333333,
              "#9c179e"
             ],
             [
              0.4444444444444444,
              "#bd3786"
             ],
             [
              0.5555555555555556,
              "#d8576b"
             ],
             [
              0.6666666666666666,
              "#ed7953"
             ],
             [
              0.7777777777777778,
              "#fb9f3a"
             ],
             [
              0.8888888888888888,
              "#fdca26"
             ],
             [
              1,
              "#f0f921"
             ]
            ],
            "type": "heatmap"
           }
          ],
          "heatmapgl": [
           {
            "colorbar": {
             "outlinewidth": 0,
             "ticks": ""
            },
            "colorscale": [
             [
              0,
              "#0d0887"
             ],
             [
              0.1111111111111111,
              "#46039f"
             ],
             [
              0.2222222222222222,
              "#7201a8"
             ],
             [
              0.3333333333333333,
              "#9c179e"
             ],
             [
              0.4444444444444444,
              "#bd3786"
             ],
             [
              0.5555555555555556,
              "#d8576b"
             ],
             [
              0.6666666666666666,
              "#ed7953"
             ],
             [
              0.7777777777777778,
              "#fb9f3a"
             ],
             [
              0.8888888888888888,
              "#fdca26"
             ],
             [
              1,
              "#f0f921"
             ]
            ],
            "type": "heatmapgl"
           }
          ],
          "histogram": [
           {
            "marker": {
             "pattern": {
              "fillmode": "overlay",
              "size": 10,
              "solidity": 0.2
             }
            },
            "type": "histogram"
           }
          ],
          "histogram2d": [
           {
            "colorbar": {
             "outlinewidth": 0,
             "ticks": ""
            },
            "colorscale": [
             [
              0,
              "#0d0887"
             ],
             [
              0.1111111111111111,
              "#46039f"
             ],
             [
              0.2222222222222222,
              "#7201a8"
             ],
             [
              0.3333333333333333,
              "#9c179e"
             ],
             [
              0.4444444444444444,
              "#bd3786"
             ],
             [
              0.5555555555555556,
              "#d8576b"
             ],
             [
              0.6666666666666666,
              "#ed7953"
             ],
             [
              0.7777777777777778,
              "#fb9f3a"
             ],
             [
              0.8888888888888888,
              "#fdca26"
             ],
             [
              1,
              "#f0f921"
             ]
            ],
            "type": "histogram2d"
           }
          ],
          "histogram2dcontour": [
           {
            "colorbar": {
             "outlinewidth": 0,
             "ticks": ""
            },
            "colorscale": [
             [
              0,
              "#0d0887"
             ],
             [
              0.1111111111111111,
              "#46039f"
             ],
             [
              0.2222222222222222,
              "#7201a8"
             ],
             [
              0.3333333333333333,
              "#9c179e"
             ],
             [
              0.4444444444444444,
              "#bd3786"
             ],
             [
              0.5555555555555556,
              "#d8576b"
             ],
             [
              0.6666666666666666,
              "#ed7953"
             ],
             [
              0.7777777777777778,
              "#fb9f3a"
             ],
             [
              0.8888888888888888,
              "#fdca26"
             ],
             [
              1,
              "#f0f921"
             ]
            ],
            "type": "histogram2dcontour"
           }
          ],
          "mesh3d": [
           {
            "colorbar": {
             "outlinewidth": 0,
             "ticks": ""
            },
            "type": "mesh3d"
           }
          ],
          "parcoords": [
           {
            "line": {
             "colorbar": {
              "outlinewidth": 0,
              "ticks": ""
             }
            },
            "type": "parcoords"
           }
          ],
          "pie": [
           {
            "automargin": true,
            "type": "pie"
           }
          ],
          "scatter": [
           {
            "marker": {
             "line": {
              "color": "#283442"
             }
            },
            "type": "scatter"
           }
          ],
          "scatter3d": [
           {
            "line": {
             "colorbar": {
              "outlinewidth": 0,
              "ticks": ""
             }
            },
            "marker": {
             "colorbar": {
              "outlinewidth": 0,
              "ticks": ""
             }
            },
            "type": "scatter3d"
           }
          ],
          "scattercarpet": [
           {
            "marker": {
             "colorbar": {
              "outlinewidth": 0,
              "ticks": ""
             }
            },
            "type": "scattercarpet"
           }
          ],
          "scattergeo": [
           {
            "marker": {
             "colorbar": {
              "outlinewidth": 0,
              "ticks": ""
             }
            },
            "type": "scattergeo"
           }
          ],
          "scattergl": [
           {
            "marker": {
             "line": {
              "color": "#283442"
             }
            },
            "type": "scattergl"
           }
          ],
          "scattermapbox": [
           {
            "marker": {
             "colorbar": {
              "outlinewidth": 0,
              "ticks": ""
             }
            },
            "type": "scattermapbox"
           }
          ],
          "scatterpolar": [
           {
            "marker": {
             "colorbar": {
              "outlinewidth": 0,
              "ticks": ""
             }
            },
            "type": "scatterpolar"
           }
          ],
          "scatterpolargl": [
           {
            "marker": {
             "colorbar": {
              "outlinewidth": 0,
              "ticks": ""
             }
            },
            "type": "scatterpolargl"
           }
          ],
          "scatterternary": [
           {
            "marker": {
             "colorbar": {
              "outlinewidth": 0,
              "ticks": ""
             }
            },
            "type": "scatterternary"
           }
          ],
          "surface": [
           {
            "colorbar": {
             "outlinewidth": 0,
             "ticks": ""
            },
            "colorscale": [
             [
              0,
              "#0d0887"
             ],
             [
              0.1111111111111111,
              "#46039f"
             ],
             [
              0.2222222222222222,
              "#7201a8"
             ],
             [
              0.3333333333333333,
              "#9c179e"
             ],
             [
              0.4444444444444444,
              "#bd3786"
             ],
             [
              0.5555555555555556,
              "#d8576b"
             ],
             [
              0.6666666666666666,
              "#ed7953"
             ],
             [
              0.7777777777777778,
              "#fb9f3a"
             ],
             [
              0.8888888888888888,
              "#fdca26"
             ],
             [
              1,
              "#f0f921"
             ]
            ],
            "type": "surface"
           }
          ],
          "table": [
           {
            "cells": {
             "fill": {
              "color": "#506784"
             },
             "line": {
              "color": "rgb(17,17,17)"
             }
            },
            "header": {
             "fill": {
              "color": "#2a3f5f"
             },
             "line": {
              "color": "rgb(17,17,17)"
             }
            },
            "type": "table"
           }
          ]
         },
         "layout": {
          "annotationdefaults": {
           "arrowcolor": "#f2f5fa",
           "arrowhead": 0,
           "arrowwidth": 1
          },
          "autotypenumbers": "strict",
          "coloraxis": {
           "colorbar": {
            "outlinewidth": 0,
            "ticks": ""
           }
          },
          "colorscale": {
           "diverging": [
            [
             0,
             "#8e0152"
            ],
            [
             0.1,
             "#c51b7d"
            ],
            [
             0.2,
             "#de77ae"
            ],
            [
             0.3,
             "#f1b6da"
            ],
            [
             0.4,
             "#fde0ef"
            ],
            [
             0.5,
             "#f7f7f7"
            ],
            [
             0.6,
             "#e6f5d0"
            ],
            [
             0.7,
             "#b8e186"
            ],
            [
             0.8,
             "#7fbc41"
            ],
            [
             0.9,
             "#4d9221"
            ],
            [
             1,
             "#276419"
            ]
           ],
           "sequential": [
            [
             0,
             "#0d0887"
            ],
            [
             0.1111111111111111,
             "#46039f"
            ],
            [
             0.2222222222222222,
             "#7201a8"
            ],
            [
             0.3333333333333333,
             "#9c179e"
            ],
            [
             0.4444444444444444,
             "#bd3786"
            ],
            [
             0.5555555555555556,
             "#d8576b"
            ],
            [
             0.6666666666666666,
             "#ed7953"
            ],
            [
             0.7777777777777778,
             "#fb9f3a"
            ],
            [
             0.8888888888888888,
             "#fdca26"
            ],
            [
             1,
             "#f0f921"
            ]
           ],
           "sequentialminus": [
            [
             0,
             "#0d0887"
            ],
            [
             0.1111111111111111,
             "#46039f"
            ],
            [
             0.2222222222222222,
             "#7201a8"
            ],
            [
             0.3333333333333333,
             "#9c179e"
            ],
            [
             0.4444444444444444,
             "#bd3786"
            ],
            [
             0.5555555555555556,
             "#d8576b"
            ],
            [
             0.6666666666666666,
             "#ed7953"
            ],
            [
             0.7777777777777778,
             "#fb9f3a"
            ],
            [
             0.8888888888888888,
             "#fdca26"
            ],
            [
             1,
             "#f0f921"
            ]
           ]
          },
          "colorway": [
           "#636efa",
           "#EF553B",
           "#00cc96",
           "#ab63fa",
           "#FFA15A",
           "#19d3f3",
           "#FF6692",
           "#B6E880",
           "#FF97FF",
           "#FECB52"
          ],
          "font": {
           "color": "#f2f5fa"
          },
          "geo": {
           "bgcolor": "rgb(17,17,17)",
           "lakecolor": "rgb(17,17,17)",
           "landcolor": "rgb(17,17,17)",
           "showlakes": true,
           "showland": true,
           "subunitcolor": "#506784"
          },
          "hoverlabel": {
           "align": "left"
          },
          "hovermode": "closest",
          "mapbox": {
           "style": "dark"
          },
          "paper_bgcolor": "rgb(17,17,17)",
          "plot_bgcolor": "rgb(17,17,17)",
          "polar": {
           "angularaxis": {
            "gridcolor": "#506784",
            "linecolor": "#506784",
            "ticks": ""
           },
           "bgcolor": "rgb(17,17,17)",
           "radialaxis": {
            "gridcolor": "#506784",
            "linecolor": "#506784",
            "ticks": ""
           }
          },
          "scene": {
           "xaxis": {
            "backgroundcolor": "rgb(17,17,17)",
            "gridcolor": "#506784",
            "gridwidth": 2,
            "linecolor": "#506784",
            "showbackground": true,
            "ticks": "",
            "zerolinecolor": "#C8D4E3"
           },
           "yaxis": {
            "backgroundcolor": "rgb(17,17,17)",
            "gridcolor": "#506784",
            "gridwidth": 2,
            "linecolor": "#506784",
            "showbackground": true,
            "ticks": "",
            "zerolinecolor": "#C8D4E3"
           },
           "zaxis": {
            "backgroundcolor": "rgb(17,17,17)",
            "gridcolor": "#506784",
            "gridwidth": 2,
            "linecolor": "#506784",
            "showbackground": true,
            "ticks": "",
            "zerolinecolor": "#C8D4E3"
           }
          },
          "shapedefaults": {
           "line": {
            "color": "#f2f5fa"
           }
          },
          "sliderdefaults": {
           "bgcolor": "#C8D4E3",
           "bordercolor": "rgb(17,17,17)",
           "borderwidth": 1,
           "tickwidth": 0
          },
          "ternary": {
           "aaxis": {
            "gridcolor": "#506784",
            "linecolor": "#506784",
            "ticks": ""
           },
           "baxis": {
            "gridcolor": "#506784",
            "linecolor": "#506784",
            "ticks": ""
           },
           "bgcolor": "rgb(17,17,17)",
           "caxis": {
            "gridcolor": "#506784",
            "linecolor": "#506784",
            "ticks": ""
           }
          },
          "title": {
           "x": 0.05
          },
          "updatemenudefaults": {
           "bgcolor": "#506784",
           "borderwidth": 0
          },
          "xaxis": {
           "automargin": true,
           "gridcolor": "#283442",
           "linecolor": "#506784",
           "ticks": "",
           "title": {
            "standoff": 15
           },
           "zerolinecolor": "#283442",
           "zerolinewidth": 2
          },
          "yaxis": {
           "automargin": true,
           "gridcolor": "#283442",
           "linecolor": "#506784",
           "ticks": "",
           "title": {
            "standoff": 15
           },
           "zerolinecolor": "#283442",
           "zerolinewidth": 2
          }
         }
        },
        "title": {
         "text": "Stint length per driver"
        },
        "xaxis": {
         "anchor": "y",
         "domain": [
          0,
          1
         ],
         "title": {
          "text": "StintLength"
         }
        },
        "yaxis": {
         "anchor": "x",
         "domain": [
          0,
          1
         ],
         "tickmode": "linear",
         "title": {
          "text": "Driver"
         }
        }
       }
      }
     },
     "metadata": {},
     "output_type": "display_data"
    }
   ],
   "source": [
    "# type of tyre per driver per lap (horizontal bar plot)\n",
    "fig = px.bar(stints, x=\"StintLength\", y=\"Driver\", color=\"Compound\", title=\"Stint length per driver\", template=\"plotly_dark\", color_discrete_map=compound_colors, orientation=\"h\")\n",
    "fig.update_yaxes(tickmode=\"linear\")\n",
    "fig"
   ]
  },
  {
   "cell_type": "code",
   "execution_count": 17,
   "metadata": {},
   "outputs": [
    {
     "data": {
      "application/vnd.plotly.v1+json": {
       "config": {
        "plotlyServerURL": "https://plot.ly"
       },
       "data": [
        {
         "hovertemplate": "Driver=VER<br>LapNumber=%{x}<br>GapToWinner=%{y}<extra></extra>",
         "legendgroup": "VER",
         "line": {
          "color": "#0600ef",
          "dash": "solid"
         },
         "marker": {
          "symbol": "circle"
         },
         "mode": "lines",
         "name": "VER",
         "orientation": "v",
         "showlegend": true,
         "type": "scatter",
         "x": [
          2,
          3,
          4,
          5,
          6,
          7,
          8,
          9,
          10,
          11,
          14,
          17,
          18,
          19,
          20,
          21,
          22,
          23,
          24,
          25,
          26,
          27,
          28,
          29,
          30,
          31,
          32,
          33,
          34,
          35,
          36,
          37,
          38,
          39,
          40,
          41,
          42,
          43,
          44,
          45,
          46,
          47,
          48
         ],
         "xaxis": "x",
         "y": [
          3.275000000000091,
          3.594000000000051,
          4.793999999999869,
          5.969000000000051,
          5.916000000000167,
          5.958000000000538,
          6.303999999999178,
          6.527000000000044,
          7.373999999999796,
          8.715000000000146,
          30.262000000000626,
          8.60399999999936,
          9.247999999999593,
          9.672999999999774,
          8.696999999999207,
          8.746000000000095,
          9.673999999999978,
          11.101000000000568,
          14.636999999999716,
          15.585000000000036,
          17.07799999999952,
          18.80200000000059,
          20.429000000000087,
          22.04399999999987,
          23.376999999999498,
          24.300000000000182,
          24.55699999999979,
          24.420000000000073,
          25.73700000000008,
          25.911999999999352,
          25.756999999999607,
          25.302999999999884,
          24.903000000000247,
          24.467000000000553,
          23.881999999999607,
          23.532000000000153,
          22.641999999999825,
          22.172999999999774,
          21.957000000000335,
          21.41399999999885,
          21.280000000000655,
          21.940999999998894,
          22.201999999999316
         ],
         "yaxis": "y"
        },
        {
         "hovertemplate": "Driver=GAS<br>LapNumber=%{x}<br>GapToWinner=%{y}<extra></extra>",
         "legendgroup": "GAS",
         "line": {
          "color": "#ff87bc",
          "dash": "solid"
         },
         "marker": {
          "symbol": "circle"
         },
         "mode": "lines",
         "name": "GAS",
         "orientation": "v",
         "showlegend": true,
         "type": "scatter",
         "x": [
          2,
          3,
          4,
          5,
          6,
          7,
          8,
          9,
          10,
          11,
          12,
          13,
          14,
          17,
          18,
          19,
          20,
          21,
          22,
          23,
          24,
          25,
          26,
          27,
          28,
          29,
          30,
          31,
          32,
          33,
          34,
          35,
          36,
          37,
          38,
          39,
          40,
          41,
          42,
          43,
          44,
          45,
          46,
          47,
          48,
          49
         ],
         "xaxis": "x",
         "y": [
          15.461999999999989,
          18.21600000000035,
          19.656999999999698,
          21.702999999999975,
          22.926000000000386,
          24.078999999999724,
          25.488999999999578,
          27.039999999999964,
          27.917999999999665,
          29.91900000000078,
          31.177999999999884,
          32.56999999999971,
          33.55300000000079,
          20.63299999999981,
          22.69499999999971,
          24.876999999999498,
          26.74199999999928,
          28.978000000000065,
          31.556000000000495,
          33.71399999999994,
          36.34699999999975,
          38.628999999999905,
          41.154999999999745,
          43.097999999999956,
          44.83400000000074,
          46.21299999999974,
          49.826999999999316,
          51.222999999999956,
          52.310999999999694,
          52.64900000000034,
          53.45900000000074,
          54.469999999999345,
          55.54699999999957,
          56.46799999999985,
          57.702000000000226,
          58.66400000000067,
          59.44599999999991,
          60.29600000000028,
          61.43499999999949,
          62.347999999999956,
          63.1830000000009,
          63.503999999998996,
          64.58400000000074,
          65.54199999999946,
          66.41799999999967,
          67.33200000000033
         ],
         "yaxis": "y"
        },
        {
         "hovertemplate": "Driver=PER<br>LapNumber=%{x}<br>GapToWinner=%{y}<extra></extra>",
         "legendgroup": "PER",
         "line": {
          "color": "#0600ef",
          "dash": "solid"
         },
         "marker": {
          "symbol": "circle"
         },
         "mode": "lines",
         "name": "PER",
         "orientation": "v",
         "showlegend": true,
         "type": "scatter",
         "x": [
          2,
          3,
          4,
          5,
          6,
          7,
          8,
          9,
          10,
          11,
          12,
          17,
          18,
          19,
          20,
          21,
          22,
          23,
          24,
          25,
          26,
          27,
          28,
          29,
          30,
          31,
          32,
          33,
          34,
          35,
          36,
          37,
          38,
          39,
          40,
          41,
          42,
          43,
          44,
          45,
          46,
          47,
          48,
          49
         ],
         "xaxis": "x",
         "y": [
          1.3119999999998981,
          1.3150000000000546,
          1.6340000000000146,
          2.3320000000003347,
          2.088000000000193,
          1.8519999999998618,
          1.707999999999629,
          1.3090000000001965,
          1.4769999999998618,
          1.8940000000002328,
          2.063000000000102,
          0.7950000000000728,
          2.407999999999447,
          2.514999999999418,
          1.3039999999991778,
          1.168999999999869,
          1.529000000000451,
          1.5080000000007203,
          1.826999999999316,
          1.904000000000451,
          1.9669999999996435,
          1.9320000000006985,
          1.8380000000006476,
          1.8699999999998909,
          1.7449999999998909,
          1.7489999999997963,
          1.2439999999996871,
          1.25,
          1.4660000000003492,
          1.8539999999993597,
          2.4989999999997963,
          2.9700000000002547,
          3.074999999999818,
          2.9310000000004948,
          2.8189999999995052,
          2.0330000000003565,
          1.4839999999994689,
          1.8279999999995198,
          1.893000000000029,
          1.7359999999989668,
          1.4800000000013824,
          2.0649999999986903,
          2.8800000000010186,
          3.782999999999447
         ],
         "yaxis": "y"
        },
        {
         "hovertemplate": "Driver=ALO<br>LapNumber=%{x}<br>GapToWinner=%{y}<extra></extra>",
         "legendgroup": "ALO",
         "line": {
          "color": "#00665f",
          "dash": "solid"
         },
         "marker": {
          "symbol": "circle"
         },
         "mode": "lines",
         "name": "ALO",
         "orientation": "v",
         "showlegend": true,
         "type": "scatter",
         "x": [
          2,
          3,
          4,
          5,
          6,
          7,
          8,
          9,
          10,
          13,
          14,
          17,
          18,
          19,
          20,
          21,
          22,
          23,
          24,
          25,
          26,
          27,
          28,
          29,
          30,
          31,
          32,
          33,
          34,
          35,
          36,
          37,
          38,
          39,
          40,
          41,
          42,
          43,
          44,
          45,
          46,
          47,
          48,
          49
         ],
         "xaxis": "x",
         "y": [
          5.6340000000000146,
          7.085000000000036,
          8.652000000000044,
          10.684999999999945,
          11.774000000000342,
          12.679000000000087,
          13.513999999999214,
          14.345000000000255,
          15.097999999999956,
          36.97899999999936,
          36.624000000000706,
          19.146999999999935,
          20.844999999999345,
          22.618999999999687,
          23.131999999999607,
          24.429000000000087,
          25.725000000000364,
          27.347999999999956,
          29.11699999999928,
          30.72900000000027,
          32.378999999999905,
          33.74000000000069,
          34.81700000000001,
          35.99799999999959,
          37.925999999999476,
          38.98199999999997,
          40.92699999999968,
          41.3159999999998,
          42.64900000000034,
          44.360999999999876,
          44.694000000000415,
          44.72599999999966,
          45.17500000000018,
          45.3690000000006,
          45.36700000000019,
          45.44800000000032,
          45.110999999999876,
          44.98099999999977,
          45.08100000000013,
          44.85199999999895,
          45.15400000000045,
          45.44800000000032,
          45.016999999999825,
          44.62199999999939
         ],
         "yaxis": "y"
        },
        {
         "hovertemplate": "Driver=LEC<br>LapNumber=%{x}<br>GapToWinner=%{y}<extra></extra>",
         "legendgroup": "LEC",
         "line": {
          "color": "#e8002d",
          "dash": "solid"
         },
         "marker": {
          "symbol": "circle"
         },
         "mode": "lines",
         "name": "LEC",
         "orientation": "v",
         "showlegend": true,
         "type": "scatter",
         "x": [
          2,
          3,
          4,
          5,
          6,
          7,
          8,
          9,
          10,
          11,
          12,
          13,
          14,
          18,
          19,
          20,
          21,
          22,
          23,
          24,
          25,
          26,
          27,
          28,
          29,
          30,
          31,
          32,
          33,
          34,
          35,
          36,
          37,
          38,
          39,
          40,
          41,
          42,
          43,
          44,
          45,
          46,
          47,
          48,
          49
         ],
         "xaxis": "x",
         "y": [
          -0.4580000000000837,
          -0.8569999999999709,
          -0.8569999999999709,
          -0.612999999999829,
          -1.4089999999996508,
          -1.6530000000002474,
          -2.2780000000002474,
          -2.675000000000182,
          -3.1820000000006985,
          -3.563999999999396,
          -4.421999999999571,
          -5.155000000000655,
          -5.90099999999984,
          -0.7750000000005457,
          -0.3470000000006621,
          0.42999999999938154,
          0.5160000000005311,
          0.5020000000004075,
          0.5399999999999636,
          0.6599999999998545,
          0.6130000000002838,
          0.3989999999994325,
          0.4280000000007931,
          0.15200000000004366,
          0.40899999999965075,
          0.27599999999983993,
          0.46600000000034925,
          0.16499999999996362,
          0.6649999999999636,
          0.5720000000001164,
          0.39399999999932334,
          0.568000000000211,
          0.5420000000003711,
          0.3760000000002037,
          0.47700000000077125,
          0.2460000000000946,
          0.2789999999995416,
          0.568000000000211,
          0.5670000000000073,
          0.26900000000023283,
          0.4539999999997235,
          0.9290000000000873,
          1.7259999999987485,
          2.625,
          3.7039999999997235
         ],
         "yaxis": "y"
        },
        {
         "hovertemplate": "Driver=STR<br>LapNumber=%{x}<br>GapToWinner=%{y}<extra></extra>",
         "legendgroup": "STR",
         "line": {
          "color": "#00665f",
          "dash": "solid"
         },
         "marker": {
          "symbol": "circle"
         },
         "mode": "lines",
         "name": "STR",
         "orientation": "v",
         "showlegend": true,
         "type": "scatter",
         "x": [
          3,
          4,
          5,
          6,
          7,
          8,
          9,
          10,
          11,
          12,
          13,
          14,
          17,
          18,
          19,
          20,
          21,
          24,
          25,
          26,
          27,
          28,
          29,
          30,
          31,
          32,
          33,
          34,
          35,
          36,
          37,
          38,
          39,
          40,
          41,
          42,
          43,
          44
         ],
         "xaxis": "x",
         "y": [
          39.5920000000001,
          41.66399999999976,
          43.564000000000306,
          44.23500000000013,
          45.16700000000037,
          47.18499999999949,
          48.103000000000065,
          48.93399999999929,
          50.60200000000077,
          52.60599999999977,
          53.0059999999994,
          52.84100000000035,
          40.09299999999985,
          42.72599999999966,
          45.49499999999989,
          46.92199999999957,
          49.577000000000226,
          77.1289999999999,
          78.61599999999999,
          79.93099999999959,
          81.27100000000064,
          82.22500000000036,
          83.22699999999986,
          84.23099999999977,
          84.45600000000013,
          85.17000000000007,
          86.30199999999968,
          86.96700000000055,
          87.58699999999953,
          88.38400000000001,
          88.94899999999961,
          90.17000000000007,
          90.70600000000013,
          92.39000000000033,
          94.18499999999949,
          96.04399999999987,
          97.21100000000024,
          98.59100000000035
         ],
         "yaxis": "y"
        },
        {
         "hovertemplate": "Driver=TSU<br>LapNumber=%{x}<br>GapToWinner=%{y}<extra></extra>",
         "legendgroup": "TSU",
         "line": {
          "color": "#364aa9",
          "dash": "solid"
         },
         "marker": {
          "symbol": "circle"
         },
         "mode": "lines",
         "name": "TSU",
         "orientation": "v",
         "showlegend": true,
         "type": "scatter",
         "x": [
          2,
          3,
          4,
          5,
          6,
          7,
          8,
          9,
          10,
          11
         ],
         "xaxis": "x",
         "y": [
          13.449999999999818,
          17.9670000000001,
          23.55600000000004,
          28.60699999999997,
          31.037000000000262,
          33.35699999999997,
          35.94699999999921,
          38.863000000000284,
          41.16099999999915,
          45.34200000000055
         ],
         "yaxis": "y"
        },
        {
         "hovertemplate": "Driver=ALB<br>LapNumber=%{x}<br>GapToWinner=%{y}<extra></extra>",
         "legendgroup": "ALB",
         "line": {
          "color": "#00a0dd",
          "dash": "solid"
         },
         "marker": {
          "symbol": "circle"
         },
         "mode": "lines",
         "name": "ALB",
         "orientation": "v",
         "showlegend": true,
         "type": "scatter",
         "x": [
          2,
          3,
          4,
          5,
          6,
          7,
          8,
          9,
          10,
          11,
          12,
          13,
          14,
          17,
          18,
          19,
          20,
          21,
          22,
          23,
          24,
          25,
          26,
          27,
          28,
          29,
          30,
          33,
          34,
          35,
          36,
          37,
          38,
          39,
          40,
          41,
          42,
          43,
          44,
          45,
          46,
          47,
          48,
          49
         ],
         "xaxis": "x",
         "y": [
          8.045999999999822,
          9.692000000000007,
          11.469000000000051,
          13.179000000000087,
          13.971000000000004,
          14.748999999999796,
          15.65899999999965,
          16.79200000000037,
          17.48199999999997,
          18.377000000000407,
          18.61999999999989,
          18.46599999999944,
          17.67200000000048,
          0.12299999999959255,
          2.268000000000029,
          4.579999999999927,
          4.995999999999185,
          6.355000000000473,
          7.7849999999998545,
          9.551000000000386,
          12.675999999999476,
          14.498999999999796,
          16.149999999999636,
          17.85900000000038,
          19.416000000000167,
          21.001999999999498,
          22.381999999999607,
          43.87700000000041,
          44.50600000000031,
          46.417999999999665,
          46.5,
          47.03700000000026,
          47.47900000000027,
          47.82000000000062,
          47.711999999999534,
          47.789999999999964,
          47.3149999999996,
          46.64599999999973,
          46.32099999999991,
          45.98599999999897,
          46.3030000000017,
          46.8119999999999,
          46.47700000000077,
          46.279999999998836
         ],
         "yaxis": "y"
        },
        {
         "hovertemplate": "Driver=ZHO<br>LapNumber=%{x}<br>GapToWinner=%{y}<extra></extra>",
         "legendgroup": "ZHO",
         "line": {
          "color": "#00e700",
          "dash": "solid"
         },
         "marker": {
          "symbol": "circle"
         },
         "mode": "lines",
         "name": "ZHO",
         "orientation": "v",
         "showlegend": true,
         "type": "scatter",
         "x": [
          2,
          3,
          4,
          5,
          6,
          7,
          8,
          9,
          10,
          11,
          12,
          13,
          14,
          17,
          18,
          19,
          20,
          21,
          22,
          23,
          24,
          25,
          26,
          27,
          28,
          29,
          30,
          31,
          32,
          33,
          36,
          37,
          38,
          39,
          40,
          41,
          42,
          43,
          44,
          45,
          46,
          47,
          48,
          49
         ],
         "xaxis": "x",
         "y": [
          17.95199999999977,
          21.251000000000204,
          24.51399999999967,
          29.777000000000044,
          32.164000000000215,
          34.514000000000124,
          37.529999999999745,
          40.32300000000032,
          42.48699999999917,
          45.20100000000002,
          46.82800000000043,
          48.24799999999959,
          49.306000000000495,
          35.8149999999996,
          39.800999999999476,
          42.831999999999425,
          44.41599999999926,
          47.04500000000007,
          49.66399999999976,
          52.746000000000095,
          55.95599999999922,
          58.60199999999986,
          61.175999999999476,
          63.84400000000005,
          66.04600000000028,
          68.13000000000011,
          70.21000000000004,
          72.08100000000013,
          73.30299999999988,
          74.0659999999998,
          98.8149999999996,
          99.06999999999971,
          99.76600000000053,
          99.99099999999999,
          100.28399999999965,
          100.40899999999965,
          100.77499999999964,
          100.80299999999988,
          101.34499999999935,
          101.55199999999968,
          102.93000000000029,
          103.94700000000012,
          104.96399999999994,
          105.46600000000035
         ],
         "yaxis": "y"
        },
        {
         "hovertemplate": "Driver=HUL<br>LapNumber=%{x}<br>GapToWinner=%{y}<extra></extra>",
         "legendgroup": "HUL",
         "line": {
          "color": "#b6babd",
          "dash": "solid"
         },
         "marker": {
          "symbol": "circle"
         },
         "mode": "lines",
         "name": "HUL",
         "orientation": "v",
         "showlegend": true,
         "type": "scatter",
         "x": [
          2,
          3,
          4,
          5,
          6,
          7,
          8,
          9,
          10,
          11,
          12,
          13,
          14,
          17,
          18,
          19,
          20,
          21,
          22,
          23,
          24,
          25,
          26,
          27,
          28,
          29,
          30,
          31,
          32,
          33,
          34,
          35,
          36,
          37,
          38,
          39,
          40,
          41,
          42,
          43,
          44,
          45,
          46,
          47,
          48,
          49
         ],
         "xaxis": "x",
         "y": [
          14.019999999999982,
          15.659000000000106,
          17.527999999999793,
          18.571000000000367,
          19.48400000000038,
          20.646999999999935,
          21.682999999999993,
          23.277000000000044,
          24.076999999999316,
          25.327000000000226,
          25.863000000000284,
          26.46599999999944,
          27.25500000000011,
          32.430999999999585,
          33.766999999999825,
          34.84099999999944,
          33.97599999999966,
          34.396999999999935,
          35.57099999999991,
          36.89400000000023,
          37.7529999999997,
          38.4380000000001,
          39.29699999999957,
          40.26600000000053,
          41.275000000000546,
          41.987999999999374,
          42.590000000000146,
          42.771999999999935,
          43.822000000000116,
          43.197000000000116,
          43.960000000000036,
          45.5679999999993,
          46.23700000000008,
          46.89500000000044,
          48.85100000000057,
          49.712000000000444,
          50.115999999999985,
          50.23400000000038,
          50.23700000000008,
          50.94300000000021,
          51.512000000000626,
          51.61199999999917,
          52.30000000000109,
          52.93299999999908,
          55.03200000000106,
          56.89300000000003
         ],
         "yaxis": "y"
        },
        {
         "hovertemplate": "Driver=RIC<br>LapNumber=%{x}<br>GapToWinner=%{y}<extra></extra>",
         "legendgroup": "RIC",
         "line": {
          "color": "#364aa9",
          "dash": "solid"
         },
         "marker": {
          "symbol": "circle"
         },
         "mode": "lines",
         "name": "RIC",
         "orientation": "v",
         "showlegend": true,
         "type": "scatter",
         "x": [
          2,
          3,
          4,
          5,
          6,
          7,
          8,
          9,
          10,
          11,
          12,
          13,
          14,
          17,
          18,
          19,
          20,
          21,
          22,
          23,
          24,
          25,
          26,
          27,
          28,
          29,
          30,
          31,
          32,
          33,
          34,
          35,
          36,
          37,
          38,
          39,
          40,
          41,
          42,
          43,
          44,
          45,
          46,
          47,
          48
         ],
         "xaxis": "x",
         "y": [
          14.978000000000065,
          17.877000000000407,
          18.904999999999745,
          20.52500000000009,
          21.377000000000407,
          21.91899999999987,
          23.342999999999847,
          24.631000000000313,
          26.14799999999923,
          28.176000000000386,
          29.95800000000054,
          31.688999999999396,
          33.56700000000001,
          24.354999999999563,
          27.91699999999946,
          31.484999999999673,
          34.0679999999993,
          37.715000000000146,
          42.552999999999884,
          46.376000000000204,
          49.84099999999944,
          52.55199999999968,
          54.74799999999959,
          56.73500000000058,
          58.50500000000011,
          59.89800000000014,
          61.46799999999985,
          62.49300000000039,
          63.02599999999984,
          63.04700000000048,
          63.66900000000078,
          64.71699999999964,
          65.59900000000016,
          66.36499999999978,
          67.54700000000048,
          68.15100000000075,
          68.8819999999996,
          69.54699999999957,
          70.72199999999975,
          72.02999999999975,
          73.42699999999968,
          74.20699999999852,
          75.61700000000019,
          77.69700000000012,
          79.8130000000001
         ],
         "yaxis": "y"
        },
        {
         "hovertemplate": "Driver=OCO<br>LapNumber=%{x}<br>GapToWinner=%{y}<extra></extra>",
         "legendgroup": "OCO",
         "line": {
          "color": "#ff87bc",
          "dash": "solid"
         },
         "marker": {
          "symbol": "circle"
         },
         "mode": "lines",
         "name": "OCO",
         "orientation": "v",
         "showlegend": true,
         "type": "scatter",
         "x": [
          2,
          3,
          4,
          5,
          6,
          7,
          8,
          9,
          10,
          11,
          12,
          13,
          14,
          17,
          18,
          19,
          20,
          21,
          22,
          23,
          24,
          25,
          26,
          27,
          28,
          29,
          30,
          31,
          32,
          33,
          34,
          35,
          36,
          37,
          38,
          39,
          40,
          41,
          42,
          43,
          44,
          45,
          46,
          47,
          48
         ],
         "xaxis": "x",
         "y": [
          18.639999999999873,
          21.857000000000426,
          24.962999999999738,
          30.21100000000024,
          32.95300000000043,
          35.20399999999972,
          38.302999999999884,
          41.36200000000008,
          44.27599999999984,
          46.42700000000059,
          48.05699999999979,
          48.766999999999825,
          49.73199999999997,
          38.29599999999937,
          41.076999999999316,
          44.599999999999454,
          46.534999999999854,
          49.030000000000655,
          51.77800000000025,
          55.10900000000038,
          58.56999999999971,
          61.324000000000524,
          63.73999999999978,
          66.125,
          68.17399999999998,
          70.09900000000016,
          71.92299999999977,
          73.70200000000023,
          74.98599999999988,
          75.63600000000042,
          77.09200000000055,
          78.10199999999986,
          86.06800000000021,
          87.76599999999962,
          89.19599999999991,
          90.36400000000049,
          91.91600000000017,
          93.10000000000036,
          94.72699999999986,
          96.10499999999956,
          98.00900000000001,
          99.29999999999927,
          101.45000000000073,
          103.89699999999903,
          108.18399999999929
         ],
         "yaxis": "y"
        },
        {
         "hovertemplate": "Driver=NOR<br>LapNumber=%{x}<br>GapToWinner=%{y}<extra></extra>",
         "legendgroup": "NOR",
         "line": {
          "color": "#ff8000",
          "dash": "solid"
         },
         "marker": {
          "symbol": "circle"
         },
         "mode": "lines",
         "name": "NOR",
         "orientation": "v",
         "showlegend": true,
         "type": "scatter",
         "x": [
          2,
          3,
          4,
          5,
          6,
          7,
          8,
          9,
          10,
          11,
          12,
          13,
          14,
          17,
          18,
          19,
          20,
          21,
          22,
          23,
          24,
          25,
          26,
          27,
          28,
          29,
          30,
          31,
          32,
          33,
          34,
          35,
          36,
          39,
          40,
          41,
          42,
          43,
          44,
          45,
          46,
          47,
          48,
          49
         ],
         "xaxis": "x",
         "y": [
          13.552000000000135,
          14.960000000000036,
          16.31899999999996,
          17.63500000000022,
          18.296000000000276,
          18.645000000000437,
          19.628999999999905,
          20.215000000000146,
          20.591999999999643,
          20.84400000000005,
          20.783000000000357,
          20.62199999999939,
          19.965000000000146,
          2.8519999999998618,
          4.265999999999622,
          5.882999999999811,
          6.489999999999782,
          7.524000000000342,
          8.707999999999629,
          10.976000000000568,
          13.962999999999738,
          15.134000000000015,
          16.547999999999774,
          18.321000000000822,
          19.807999999999993,
          21.47400000000016,
          22.722999999999956,
          23.60199999999986,
          23.399999999999636,
          22.911000000000058,
          22.51800000000003,
          22.363999999999578,
          22,
          37.875,
          35.996000000000095,
          34.225000000000364,
          31.79199999999946,
          29.608000000000175,
          27.833999999999833,
          25.969999999999345,
          24.587000000001353,
          23.57799999999952,
          22.233000000000175,
          20.311999999999898
         ],
         "yaxis": "y"
        },
        {
         "hovertemplate": "Driver=COL<br>LapNumber=%{x}<br>GapToWinner=%{y}<extra></extra>",
         "legendgroup": "COL",
         "line": {
          "color": "#00a0dd",
          "dash": "solid"
         },
         "marker": {
          "symbol": "circle"
         },
         "mode": "lines",
         "name": "COL",
         "orientation": "v",
         "showlegend": true,
         "type": "scatter",
         "x": [
          2,
          3,
          4,
          5,
          6,
          7,
          8,
          9,
          12,
          13,
          14,
          17,
          18,
          19,
          20,
          21,
          22,
          23,
          24,
          25,
          26,
          27,
          28,
          29,
          30,
          31,
          32,
          33,
          34,
          35,
          36,
          37,
          38,
          39,
          40,
          41,
          42,
          43,
          44,
          45,
          46,
          47,
          48,
          49
         ],
         "xaxis": "x",
         "y": [
          6.855999999999767,
          8.459000000000287,
          9.966999999999643,
          12.034000000000106,
          12.908000000000357,
          13.636000000000422,
          14.640999999999622,
          15.819000000000415,
          38.771999999999935,
          38.99499999999989,
          38.785000000000764,
          21.79199999999946,
          23.233000000000175,
          24.867999999999483,
          25.029999999999745,
          26.413000000000466,
          27.51299999999992,
          29.039999999999964,
          30.71899999999914,
          32.23099999999977,
          33.85099999999966,
          35.46300000000065,
          37.163000000000466,
          38.485999999999876,
          39.8119999999999,
          40.840000000000146,
          41.55499999999938,
          42.485999999999876,
          43.720000000000255,
          45.63599999999951,
          48.621000000000095,
          50.99300000000039,
          52.83100000000013,
          54.08899999999994,
          54.78399999999965,
          55.32499999999982,
          55.470000000000255,
          55.32999999999993,
          55.23899999999958,
          54.96599999999853,
          55.197000000000116,
          55.87799999999879,
          55.759000000000015,
          56.43499999999949
         ],
         "yaxis": "y"
        },
        {
         "hovertemplate": "Driver=HAM<br>LapNumber=%{x}<br>GapToWinner=%{y}<extra></extra>",
         "legendgroup": "HAM",
         "line": {
          "color": "#27f4d2",
          "dash": "solid"
         },
         "marker": {
          "symbol": "circle"
         },
         "mode": "lines",
         "name": "HAM",
         "orientation": "v",
         "showlegend": true,
         "type": "scatter",
         "x": [
          2,
          3,
          4,
          5,
          6,
          7,
          8,
          9,
          10,
          11,
          14,
          17,
          18,
          19,
          20,
          21,
          22,
          23,
          24,
          25,
          26,
          27,
          28,
          29,
          30,
          31,
          32,
          33,
          34,
          35,
          36,
          37,
          38,
          39,
          40,
          41,
          42,
          43,
          44,
          45,
          46,
          47,
          48,
          49
         ],
         "xaxis": "x",
         "y": [
          16.778999999999996,
          18.938000000000102,
          20.880999999999858,
          23.169000000000324,
          24.11200000000008,
          24.756000000000313,
          26.048999999999978,
          27.521999999999935,
          28.91399999999976,
          31.322000000000116,
          54.63100000000031,
          36.07899999999972,
          36.89399999999932,
          37.99199999999928,
          37.620999999999185,
          39.38299999999981,
          42.297999999999774,
          43.405000000000655,
          44.771999999999935,
          45.65400000000045,
          45.95399999999972,
          46.48400000000038,
          46.97100000000046,
          47.146999999999935,
          47.97999999999956,
          48.1850000000004,
          47.91699999999946,
          46.810999999999694,
          47.98500000000058,
          48.16199999999935,
          49.19200000000001,
          52.00600000000031,
          53.54399999999987,
          55.03200000000015,
          55.886999999999716,
          56.503999999999905,
          56.115999999999985,
          56.17900000000009,
          56.949000000000524,
          56.85099999999875,
          57.249000000001615,
          57.48899999999958,
          57.23700000000099,
          57.63699999999881
         ],
         "yaxis": "y"
        },
        {
         "hovertemplate": "Driver=BEA<br>LapNumber=%{x}<br>GapToWinner=%{y}<extra></extra>",
         "legendgroup": "BEA",
         "line": {
          "color": "#b6babd",
          "dash": "solid"
         },
         "marker": {
          "symbol": "circle"
         },
         "mode": "lines",
         "name": "BEA",
         "orientation": "v",
         "showlegend": true,
         "type": "scatter",
         "x": [
          2,
          3,
          4,
          5,
          6,
          7,
          8,
          9,
          10,
          11,
          12,
          13,
          17,
          18,
          19,
          20,
          21,
          22,
          23,
          24,
          25,
          26,
          27,
          28,
          29,
          30,
          31,
          32,
          33,
          34,
          35,
          36,
          37,
          38,
          39,
          40,
          41,
          42,
          43,
          44,
          45,
          46,
          47,
          48,
          49
         ],
         "xaxis": "x",
         "y": [
          8.898999999999887,
          10.765000000000327,
          12.638999999999669,
          15.079000000000178,
          17.222000000000207,
          18.551000000000386,
          21.44799999999941,
          23.100000000000364,
          25.615999999999985,
          27.431000000000495,
          28.538000000000466,
          29.536999999999352,
          35.66899999999987,
          36.5659999999998,
          37.55799999999999,
          37.46099999999933,
          38.09400000000005,
          40.24799999999959,
          41.253999999999905,
          42.401999999999134,
          43.10699999999997,
          43.884000000000015,
          44.52000000000044,
          45.27400000000034,
          46.376000000000204,
          46.76099999999951,
          46.39000000000033,
          46.402000000000044,
          46.54399999999987,
          46.95900000000074,
          47.792999999999665,
          48.73899999999958,
          51.44300000000021,
          53.32099999999991,
          54.39500000000044,
          55.840000000000146,
          58.59400000000005,
          58.78899999999976,
          58.85400000000027,
          58.83400000000074,
          58.78699999999844,
          58.79900000000089,
          58.78700000000026,
          58.667999999999665,
          58.556000000000495
         ],
         "yaxis": "y"
        },
        {
         "hovertemplate": "Driver=SAI<br>LapNumber=%{x}<br>GapToWinner=%{y}<extra></extra>",
         "legendgroup": "SAI",
         "line": {
          "color": "#e8002d",
          "dash": "solid"
         },
         "marker": {
          "symbol": "circle"
         },
         "mode": "lines",
         "name": "SAI",
         "orientation": "v",
         "showlegend": true,
         "type": "scatter",
         "x": [
          2,
          3,
          4,
          5,
          6,
          7,
          8,
          9,
          10,
          11,
          12,
          13,
          14,
          19,
          20,
          21,
          22,
          23,
          24,
          25,
          26,
          27,
          28,
          29,
          30,
          31,
          32,
          33,
          34,
          35,
          36,
          37,
          38,
          39,
          40,
          41,
          42,
          43,
          44,
          45,
          46,
          47,
          48,
          49
         ],
         "xaxis": "x",
         "y": [
          2.069999999999709,
          2.6340000000000146,
          3.393000000000029,
          4.36200000000008,
          4.3400000000001455,
          4.181000000000495,
          4.3659999999999854,
          4.295000000000073,
          4.082999999999629,
          4.548999999999978,
          4.949000000000524,
          4.348999999999251,
          3.4440000000004147,
          8.761999999999716,
          7.9869999999991705,
          8.012000000000626,
          8.842999999999847,
          9.693000000000211,
          11.100999999999658,
          11.439000000000306,
          11.503999999999905,
          11.46100000000024,
          10.975000000000364,
          10.822000000000116,
          10.98700000000008,
          10.452000000000226,
          9.646999999999935,
          8.416000000000167,
          7.891000000000531,
          7.3799999999992,
          6.979999999999563,
          7.5020000000004075,
          6.936000000000604,
          6.389000000000124,
          5.631999999999607,
          5.2150000000001455,
          4.454999999999927,
          4.105999999999767,
          3.8220000000001164,
          3.356999999999971,
          2.9540000000015425,
          2.82799999999952,
          3.4570000000003347,
          4.352999999999156
         ],
         "yaxis": "y"
        },
        {
         "hovertemplate": "Driver=RUS<br>LapNumber=%{x}<br>GapToWinner=%{y}<extra></extra>",
         "legendgroup": "RUS",
         "line": {
          "color": "#27f4d2",
          "dash": "solid"
         },
         "marker": {
          "symbol": "circle"
         },
         "mode": "lines",
         "name": "RUS",
         "orientation": "v",
         "showlegend": true,
         "type": "scatter",
         "x": [
          2,
          3,
          4,
          5,
          6,
          7,
          8,
          9,
          10,
          11,
          14,
          17,
          18,
          19,
          20,
          21,
          22,
          23,
          24,
          25,
          26,
          27,
          28,
          29,
          30,
          31,
          32,
          33,
          34,
          35,
          36,
          37,
          38,
          39,
          40,
          41,
          42,
          43,
          44,
          45,
          46,
          47,
          48,
          49
         ],
         "xaxis": "x",
         "y": [
          4.310999999999694,
          4.859000000000378,
          5.650000000000091,
          6.532000000000153,
          7.265000000000327,
          7.824999999999818,
          8.878999999999905,
          10.077000000000226,
          11.187999999999192,
          12.717000000000553,
          33.564000000000306,
          13.960000000000036,
          14.36700000000019,
          15.251999999999498,
          14.772999999999229,
          15.28900000000067,
          15.735999999999876,
          16.548000000000684,
          17.469999999999345,
          18.266999999999825,
          19.0649999999996,
          20.490999999999985,
          21.150000000000546,
          22.54699999999957,
          23.853000000000065,
          24.322000000000116,
          25.238999999999578,
          24.509000000000015,
          24.025000000000546,
          23.90599999999995,
          23.713999999999942,
          23.666000000000167,
          23.63299999999981,
          22.9950000000008,
          22.274000000000342,
          21.251000000000204,
          20.40899999999965,
          19.519999999999527,
          18.86200000000008,
          17.76299999999901,
          17.221000000001368,
          16.82499999999891,
          16.353000000000975,
          15.51299999999901
         ],
         "yaxis": "y"
        },
        {
         "hovertemplate": "Driver=BOT<br>LapNumber=%{x}<br>GapToWinner=%{y}<extra></extra>",
         "legendgroup": "BOT",
         "line": {
          "color": "#00e700",
          "dash": "solid"
         },
         "marker": {
          "symbol": "circle"
         },
         "mode": "lines",
         "name": "BOT",
         "orientation": "v",
         "showlegend": true,
         "type": "scatter",
         "x": [
          2,
          3,
          4,
          5,
          6,
          7,
          8,
          9,
          10,
          13,
          14,
          17,
          18,
          19,
          20,
          21,
          22,
          23,
          24,
          25,
          26,
          27,
          28,
          29,
          30,
          31,
          32,
          33,
          34,
          35,
          36,
          37,
          38,
          39,
          40,
          41,
          42,
          43,
          44,
          45,
          46,
          47,
          48
         ],
         "xaxis": "x",
         "y": [
          16.91300000000001,
          20.812000000000353,
          23.989000000000033,
          29.23199999999997,
          31.42300000000023,
          34.04200000000037,
          37.05999999999949,
          40.30200000000059,
          44.38599999999951,
          72.60999999999967,
          73.03800000000047,
          56.961999999999534,
          58.862999999999374,
          61.30899999999929,
          62.13499999999931,
          63.96799999999985,
          65.94400000000041,
          68.23300000000017,
          70.78399999999965,
          72.83899999999994,
          74.95699999999943,
          77.04400000000078,
          78.94500000000062,
          80.66499999999996,
          82.41399999999976,
          83.89699999999993,
          85.04299999999967,
          88.08399999999983,
          89.75500000000011,
          91.16499999999996,
          92.32999999999993,
          93.34400000000005,
          94.4980000000005,
          95.73400000000038,
          96.51400000000012,
          97.05699999999979,
          98.11099999999988,
          98.96199999999953,
          100.28000000000065,
          101.05099999999948,
          104.45200000000114,
          106.2549999999992,
          113.52000000000044
         ],
         "yaxis": "y"
        },
        {
         "hovertemplate": "Driver=PIA<br>LapNumber=%{x}<br>GapToWinner=%{y}<extra></extra>",
         "legendgroup": "PIA",
         "line": {
          "color": "#ff8000",
          "dash": "solid"
         },
         "marker": {
          "symbol": "circle"
         },
         "mode": "lines",
         "name": "PIA",
         "orientation": "v",
         "showlegend": true,
         "type": "scatter",
         "x": [
          2,
          3,
          4,
          5,
          6,
          7,
          8,
          9,
          10,
          11,
          12,
          13,
          14,
          17,
          18,
          19,
          20,
          21,
          22,
          23,
          24,
          25,
          26,
          27,
          28,
          29,
          30,
          31,
          32,
          33,
          34,
          35,
          36,
          37,
          38,
          39,
          40,
          41,
          42,
          43,
          44,
          45,
          46,
          47,
          48,
          49,
          50
         ],
         "xaxis": "x",
         "y": [
          0,
          0,
          0,
          0,
          0,
          0,
          0,
          0,
          0,
          0,
          0,
          0,
          0,
          0,
          0,
          0,
          0,
          0,
          0,
          0,
          0,
          0,
          0,
          0,
          0,
          0,
          0,
          0,
          0,
          0,
          0,
          0,
          0,
          0,
          0,
          0,
          0,
          0,
          0,
          0,
          0,
          0,
          0,
          0,
          0,
          0,
          0
         ],
         "yaxis": "y"
        }
       ],
       "layout": {
        "legend": {
         "title": {
          "text": "Driver"
         },
         "tracegroupgap": 0
        },
        "template": {
         "data": {
          "bar": [
           {
            "error_x": {
             "color": "#f2f5fa"
            },
            "error_y": {
             "color": "#f2f5fa"
            },
            "marker": {
             "line": {
              "color": "rgb(17,17,17)",
              "width": 0.5
             },
             "pattern": {
              "fillmode": "overlay",
              "size": 10,
              "solidity": 0.2
             }
            },
            "type": "bar"
           }
          ],
          "barpolar": [
           {
            "marker": {
             "line": {
              "color": "rgb(17,17,17)",
              "width": 0.5
             },
             "pattern": {
              "fillmode": "overlay",
              "size": 10,
              "solidity": 0.2
             }
            },
            "type": "barpolar"
           }
          ],
          "carpet": [
           {
            "aaxis": {
             "endlinecolor": "#A2B1C6",
             "gridcolor": "#506784",
             "linecolor": "#506784",
             "minorgridcolor": "#506784",
             "startlinecolor": "#A2B1C6"
            },
            "baxis": {
             "endlinecolor": "#A2B1C6",
             "gridcolor": "#506784",
             "linecolor": "#506784",
             "minorgridcolor": "#506784",
             "startlinecolor": "#A2B1C6"
            },
            "type": "carpet"
           }
          ],
          "choropleth": [
           {
            "colorbar": {
             "outlinewidth": 0,
             "ticks": ""
            },
            "type": "choropleth"
           }
          ],
          "contour": [
           {
            "colorbar": {
             "outlinewidth": 0,
             "ticks": ""
            },
            "colorscale": [
             [
              0,
              "#0d0887"
             ],
             [
              0.1111111111111111,
              "#46039f"
             ],
             [
              0.2222222222222222,
              "#7201a8"
             ],
             [
              0.3333333333333333,
              "#9c179e"
             ],
             [
              0.4444444444444444,
              "#bd3786"
             ],
             [
              0.5555555555555556,
              "#d8576b"
             ],
             [
              0.6666666666666666,
              "#ed7953"
             ],
             [
              0.7777777777777778,
              "#fb9f3a"
             ],
             [
              0.8888888888888888,
              "#fdca26"
             ],
             [
              1,
              "#f0f921"
             ]
            ],
            "type": "contour"
           }
          ],
          "contourcarpet": [
           {
            "colorbar": {
             "outlinewidth": 0,
             "ticks": ""
            },
            "type": "contourcarpet"
           }
          ],
          "heatmap": [
           {
            "colorbar": {
             "outlinewidth": 0,
             "ticks": ""
            },
            "colorscale": [
             [
              0,
              "#0d0887"
             ],
             [
              0.1111111111111111,
              "#46039f"
             ],
             [
              0.2222222222222222,
              "#7201a8"
             ],
             [
              0.3333333333333333,
              "#9c179e"
             ],
             [
              0.4444444444444444,
              "#bd3786"
             ],
             [
              0.5555555555555556,
              "#d8576b"
             ],
             [
              0.6666666666666666,
              "#ed7953"
             ],
             [
              0.7777777777777778,
              "#fb9f3a"
             ],
             [
              0.8888888888888888,
              "#fdca26"
             ],
             [
              1,
              "#f0f921"
             ]
            ],
            "type": "heatmap"
           }
          ],
          "heatmapgl": [
           {
            "colorbar": {
             "outlinewidth": 0,
             "ticks": ""
            },
            "colorscale": [
             [
              0,
              "#0d0887"
             ],
             [
              0.1111111111111111,
              "#46039f"
             ],
             [
              0.2222222222222222,
              "#7201a8"
             ],
             [
              0.3333333333333333,
              "#9c179e"
             ],
             [
              0.4444444444444444,
              "#bd3786"
             ],
             [
              0.5555555555555556,
              "#d8576b"
             ],
             [
              0.6666666666666666,
              "#ed7953"
             ],
             [
              0.7777777777777778,
              "#fb9f3a"
             ],
             [
              0.8888888888888888,
              "#fdca26"
             ],
             [
              1,
              "#f0f921"
             ]
            ],
            "type": "heatmapgl"
           }
          ],
          "histogram": [
           {
            "marker": {
             "pattern": {
              "fillmode": "overlay",
              "size": 10,
              "solidity": 0.2
             }
            },
            "type": "histogram"
           }
          ],
          "histogram2d": [
           {
            "colorbar": {
             "outlinewidth": 0,
             "ticks": ""
            },
            "colorscale": [
             [
              0,
              "#0d0887"
             ],
             [
              0.1111111111111111,
              "#46039f"
             ],
             [
              0.2222222222222222,
              "#7201a8"
             ],
             [
              0.3333333333333333,
              "#9c179e"
             ],
             [
              0.4444444444444444,
              "#bd3786"
             ],
             [
              0.5555555555555556,
              "#d8576b"
             ],
             [
              0.6666666666666666,
              "#ed7953"
             ],
             [
              0.7777777777777778,
              "#fb9f3a"
             ],
             [
              0.8888888888888888,
              "#fdca26"
             ],
             [
              1,
              "#f0f921"
             ]
            ],
            "type": "histogram2d"
           }
          ],
          "histogram2dcontour": [
           {
            "colorbar": {
             "outlinewidth": 0,
             "ticks": ""
            },
            "colorscale": [
             [
              0,
              "#0d0887"
             ],
             [
              0.1111111111111111,
              "#46039f"
             ],
             [
              0.2222222222222222,
              "#7201a8"
             ],
             [
              0.3333333333333333,
              "#9c179e"
             ],
             [
              0.4444444444444444,
              "#bd3786"
             ],
             [
              0.5555555555555556,
              "#d8576b"
             ],
             [
              0.6666666666666666,
              "#ed7953"
             ],
             [
              0.7777777777777778,
              "#fb9f3a"
             ],
             [
              0.8888888888888888,
              "#fdca26"
             ],
             [
              1,
              "#f0f921"
             ]
            ],
            "type": "histogram2dcontour"
           }
          ],
          "mesh3d": [
           {
            "colorbar": {
             "outlinewidth": 0,
             "ticks": ""
            },
            "type": "mesh3d"
           }
          ],
          "parcoords": [
           {
            "line": {
             "colorbar": {
              "outlinewidth": 0,
              "ticks": ""
             }
            },
            "type": "parcoords"
           }
          ],
          "pie": [
           {
            "automargin": true,
            "type": "pie"
           }
          ],
          "scatter": [
           {
            "marker": {
             "line": {
              "color": "#283442"
             }
            },
            "type": "scatter"
           }
          ],
          "scatter3d": [
           {
            "line": {
             "colorbar": {
              "outlinewidth": 0,
              "ticks": ""
             }
            },
            "marker": {
             "colorbar": {
              "outlinewidth": 0,
              "ticks": ""
             }
            },
            "type": "scatter3d"
           }
          ],
          "scattercarpet": [
           {
            "marker": {
             "colorbar": {
              "outlinewidth": 0,
              "ticks": ""
             }
            },
            "type": "scattercarpet"
           }
          ],
          "scattergeo": [
           {
            "marker": {
             "colorbar": {
              "outlinewidth": 0,
              "ticks": ""
             }
            },
            "type": "scattergeo"
           }
          ],
          "scattergl": [
           {
            "marker": {
             "line": {
              "color": "#283442"
             }
            },
            "type": "scattergl"
           }
          ],
          "scattermapbox": [
           {
            "marker": {
             "colorbar": {
              "outlinewidth": 0,
              "ticks": ""
             }
            },
            "type": "scattermapbox"
           }
          ],
          "scatterpolar": [
           {
            "marker": {
             "colorbar": {
              "outlinewidth": 0,
              "ticks": ""
             }
            },
            "type": "scatterpolar"
           }
          ],
          "scatterpolargl": [
           {
            "marker": {
             "colorbar": {
              "outlinewidth": 0,
              "ticks": ""
             }
            },
            "type": "scatterpolargl"
           }
          ],
          "scatterternary": [
           {
            "marker": {
             "colorbar": {
              "outlinewidth": 0,
              "ticks": ""
             }
            },
            "type": "scatterternary"
           }
          ],
          "surface": [
           {
            "colorbar": {
             "outlinewidth": 0,
             "ticks": ""
            },
            "colorscale": [
             [
              0,
              "#0d0887"
             ],
             [
              0.1111111111111111,
              "#46039f"
             ],
             [
              0.2222222222222222,
              "#7201a8"
             ],
             [
              0.3333333333333333,
              "#9c179e"
             ],
             [
              0.4444444444444444,
              "#bd3786"
             ],
             [
              0.5555555555555556,
              "#d8576b"
             ],
             [
              0.6666666666666666,
              "#ed7953"
             ],
             [
              0.7777777777777778,
              "#fb9f3a"
             ],
             [
              0.8888888888888888,
              "#fdca26"
             ],
             [
              1,
              "#f0f921"
             ]
            ],
            "type": "surface"
           }
          ],
          "table": [
           {
            "cells": {
             "fill": {
              "color": "#506784"
             },
             "line": {
              "color": "rgb(17,17,17)"
             }
            },
            "header": {
             "fill": {
              "color": "#2a3f5f"
             },
             "line": {
              "color": "rgb(17,17,17)"
             }
            },
            "type": "table"
           }
          ]
         },
         "layout": {
          "annotationdefaults": {
           "arrowcolor": "#f2f5fa",
           "arrowhead": 0,
           "arrowwidth": 1
          },
          "autotypenumbers": "strict",
          "coloraxis": {
           "colorbar": {
            "outlinewidth": 0,
            "ticks": ""
           }
          },
          "colorscale": {
           "diverging": [
            [
             0,
             "#8e0152"
            ],
            [
             0.1,
             "#c51b7d"
            ],
            [
             0.2,
             "#de77ae"
            ],
            [
             0.3,
             "#f1b6da"
            ],
            [
             0.4,
             "#fde0ef"
            ],
            [
             0.5,
             "#f7f7f7"
            ],
            [
             0.6,
             "#e6f5d0"
            ],
            [
             0.7,
             "#b8e186"
            ],
            [
             0.8,
             "#7fbc41"
            ],
            [
             0.9,
             "#4d9221"
            ],
            [
             1,
             "#276419"
            ]
           ],
           "sequential": [
            [
             0,
             "#0d0887"
            ],
            [
             0.1111111111111111,
             "#46039f"
            ],
            [
             0.2222222222222222,
             "#7201a8"
            ],
            [
             0.3333333333333333,
             "#9c179e"
            ],
            [
             0.4444444444444444,
             "#bd3786"
            ],
            [
             0.5555555555555556,
             "#d8576b"
            ],
            [
             0.6666666666666666,
             "#ed7953"
            ],
            [
             0.7777777777777778,
             "#fb9f3a"
            ],
            [
             0.8888888888888888,
             "#fdca26"
            ],
            [
             1,
             "#f0f921"
            ]
           ],
           "sequentialminus": [
            [
             0,
             "#0d0887"
            ],
            [
             0.1111111111111111,
             "#46039f"
            ],
            [
             0.2222222222222222,
             "#7201a8"
            ],
            [
             0.3333333333333333,
             "#9c179e"
            ],
            [
             0.4444444444444444,
             "#bd3786"
            ],
            [
             0.5555555555555556,
             "#d8576b"
            ],
            [
             0.6666666666666666,
             "#ed7953"
            ],
            [
             0.7777777777777778,
             "#fb9f3a"
            ],
            [
             0.8888888888888888,
             "#fdca26"
            ],
            [
             1,
             "#f0f921"
            ]
           ]
          },
          "colorway": [
           "#636efa",
           "#EF553B",
           "#00cc96",
           "#ab63fa",
           "#FFA15A",
           "#19d3f3",
           "#FF6692",
           "#B6E880",
           "#FF97FF",
           "#FECB52"
          ],
          "font": {
           "color": "#f2f5fa"
          },
          "geo": {
           "bgcolor": "rgb(17,17,17)",
           "lakecolor": "rgb(17,17,17)",
           "landcolor": "rgb(17,17,17)",
           "showlakes": true,
           "showland": true,
           "subunitcolor": "#506784"
          },
          "hoverlabel": {
           "align": "left"
          },
          "hovermode": "closest",
          "mapbox": {
           "style": "dark"
          },
          "paper_bgcolor": "rgb(17,17,17)",
          "plot_bgcolor": "rgb(17,17,17)",
          "polar": {
           "angularaxis": {
            "gridcolor": "#506784",
            "linecolor": "#506784",
            "ticks": ""
           },
           "bgcolor": "rgb(17,17,17)",
           "radialaxis": {
            "gridcolor": "#506784",
            "linecolor": "#506784",
            "ticks": ""
           }
          },
          "scene": {
           "xaxis": {
            "backgroundcolor": "rgb(17,17,17)",
            "gridcolor": "#506784",
            "gridwidth": 2,
            "linecolor": "#506784",
            "showbackground": true,
            "ticks": "",
            "zerolinecolor": "#C8D4E3"
           },
           "yaxis": {
            "backgroundcolor": "rgb(17,17,17)",
            "gridcolor": "#506784",
            "gridwidth": 2,
            "linecolor": "#506784",
            "showbackground": true,
            "ticks": "",
            "zerolinecolor": "#C8D4E3"
           },
           "zaxis": {
            "backgroundcolor": "rgb(17,17,17)",
            "gridcolor": "#506784",
            "gridwidth": 2,
            "linecolor": "#506784",
            "showbackground": true,
            "ticks": "",
            "zerolinecolor": "#C8D4E3"
           }
          },
          "shapedefaults": {
           "line": {
            "color": "#f2f5fa"
           }
          },
          "sliderdefaults": {
           "bgcolor": "#C8D4E3",
           "bordercolor": "rgb(17,17,17)",
           "borderwidth": 1,
           "tickwidth": 0
          },
          "ternary": {
           "aaxis": {
            "gridcolor": "#506784",
            "linecolor": "#506784",
            "ticks": ""
           },
           "baxis": {
            "gridcolor": "#506784",
            "linecolor": "#506784",
            "ticks": ""
           },
           "bgcolor": "rgb(17,17,17)",
           "caxis": {
            "gridcolor": "#506784",
            "linecolor": "#506784",
            "ticks": ""
           }
          },
          "title": {
           "x": 0.05
          },
          "updatemenudefaults": {
           "bgcolor": "#506784",
           "borderwidth": 0
          },
          "xaxis": {
           "automargin": true,
           "gridcolor": "#283442",
           "linecolor": "#506784",
           "ticks": "",
           "title": {
            "standoff": 15
           },
           "zerolinecolor": "#283442",
           "zerolinewidth": 2
          },
          "yaxis": {
           "automargin": true,
           "gridcolor": "#283442",
           "linecolor": "#506784",
           "ticks": "",
           "title": {
            "standoff": 15
           },
           "zerolinecolor": "#283442",
           "zerolinewidth": 2
          }
         }
        },
        "title": {
         "text": "Écart temporel au vainqueur par pilote"
        },
        "xaxis": {
         "anchor": "y",
         "domain": [
          0,
          1
         ],
         "title": {
          "text": "LapNumber"
         }
        },
        "yaxis": {
         "anchor": "x",
         "autorange": "reversed",
         "domain": [
          0,
          1
         ],
         "title": {
          "text": "GapToWinner"
         }
        }
       }
      }
     },
     "metadata": {},
     "output_type": "display_data"
    }
   ],
   "source": [
    "# gap to winner\n",
    "fig = px.line(driver_laps, x=\"LapNumber\", y=\"GapToWinner\", color=\"Driver\",\n",
    "              title=\"Écart temporel au vainqueur par pilote\",\n",
    "              template=\"plotly_dark\", color_discrete_map=colors)\n",
    "fig.update_yaxes(autorange=\"reversed\")\n",
    "fig"
   ]
  },
  {
   "cell_type": "code",
   "execution_count": 15,
   "metadata": {},
   "outputs": [
    {
     "data": {
      "application/vnd.plotly.v1+json": {
       "config": {
        "plotlyServerURL": "https://plot.ly"
       },
       "data": [
        {
         "hovertemplate": "Driver=%{x}<br>LapTime=%{y}<extra></extra>",
         "legendgroup": "LEC",
         "marker": {
          "color": "#e8002d",
          "symbol": "circle"
         },
         "mode": "markers",
         "name": "LEC",
         "orientation": "v",
         "showlegend": true,
         "type": "scatter",
         "x": [
          "LEC"
         ],
         "xaxis": "x",
         "y": [
          89.165
         ],
         "yaxis": "y"
        },
        {
         "hovertemplate": "Driver=%{x}<br>LapTime=%{y}<extra></extra>",
         "legendgroup": "VER",
         "marker": {
          "color": "#0600ef",
          "symbol": "circle"
         },
         "mode": "markers",
         "name": "VER",
         "orientation": "v",
         "showlegend": true,
         "type": "scatter",
         "x": [
          "VER"
         ],
         "xaxis": "x",
         "y": [
          89.179
         ],
         "yaxis": "y"
        },
        {
         "hovertemplate": "Driver=%{x}<br>LapTime=%{y}<extra></extra>",
         "legendgroup": "RUS",
         "marker": {
          "color": "#27f4d2",
          "symbol": "circle"
         },
         "mode": "markers",
         "name": "RUS",
         "orientation": "v",
         "showlegend": true,
         "type": "scatter",
         "x": [
          "RUS"
         ],
         "xaxis": "x",
         "y": [
          89.485
         ],
         "yaxis": "y"
        },
        {
         "hovertemplate": "Driver=%{x}<br>LapTime=%{y}<extra></extra>",
         "legendgroup": "SAI",
         "marker": {
          "color": "#e8002d",
          "symbol": "circle"
         },
         "mode": "markers",
         "name": "SAI",
         "orientation": "v",
         "showlegend": true,
         "type": "scatter",
         "x": [
          "SAI"
         ],
         "xaxis": "x",
         "y": [
          89.507
         ],
         "yaxis": "y"
        },
        {
         "hovertemplate": "Driver=%{x}<br>LapTime=%{y}<extra></extra>",
         "legendgroup": "PER",
         "marker": {
          "color": "#0600ef",
          "symbol": "circle"
         },
         "mode": "markers",
         "name": "PER",
         "orientation": "v",
         "showlegend": true,
         "type": "scatter",
         "x": [
          "PER"
         ],
         "xaxis": "x",
         "y": [
          89.537
         ],
         "yaxis": "y"
        },
        {
         "hovertemplate": "Driver=%{x}<br>LapTime=%{y}<extra></extra>",
         "legendgroup": "ALO",
         "marker": {
          "color": "#00665f",
          "symbol": "circle"
         },
         "mode": "markers",
         "name": "ALO",
         "orientation": "v",
         "showlegend": true,
         "type": "scatter",
         "x": [
          "ALO"
         ],
         "xaxis": "x",
         "y": [
          89.542
         ],
         "yaxis": "y"
        },
        {
         "hovertemplate": "Driver=%{x}<br>LapTime=%{y}<extra></extra>",
         "legendgroup": "NOR",
         "marker": {
          "color": "#ff8000",
          "symbol": "circle"
         },
         "mode": "markers",
         "name": "NOR",
         "orientation": "v",
         "showlegend": true,
         "type": "scatter",
         "x": [
          "NOR"
         ],
         "xaxis": "x",
         "y": [
          89.614
         ],
         "yaxis": "y"
        },
        {
         "hovertemplate": "Driver=%{x}<br>LapTime=%{y}<extra></extra>",
         "legendgroup": "PIA",
         "marker": {
          "color": "#ff8000",
          "symbol": "circle"
         },
         "mode": "markers",
         "name": "PIA",
         "orientation": "v",
         "showlegend": true,
         "type": "scatter",
         "x": [
          "PIA"
         ],
         "xaxis": "x",
         "y": [
          89.683
         ],
         "yaxis": "y"
        },
        {
         "hovertemplate": "Driver=%{x}<br>LapTime=%{y}<extra></extra>",
         "legendgroup": "HAM",
         "marker": {
          "color": "#27f4d2",
          "symbol": "circle"
         },
         "mode": "markers",
         "name": "HAM",
         "orientation": "v",
         "showlegend": true,
         "type": "scatter",
         "x": [
          "HAM"
         ],
         "xaxis": "x",
         "y": [
          89.71
         ],
         "yaxis": "y"
        },
        {
         "hovertemplate": "Driver=%{x}<br>LapTime=%{y}<extra></extra>",
         "legendgroup": "HUL",
         "marker": {
          "color": "#b6babd",
          "symbol": "circle"
         },
         "mode": "markers",
         "name": "HUL",
         "orientation": "v",
         "showlegend": true,
         "type": "scatter",
         "x": [
          "HUL"
         ],
         "xaxis": "x",
         "y": [
          89.851
         ],
         "yaxis": "y"
        },
        {
         "hovertemplate": "Driver=%{x}<br>LapTime=%{y}<extra></extra>",
         "legendgroup": "STR",
         "marker": {
          "color": "#00665f",
          "symbol": "circle"
         },
         "mode": "markers",
         "name": "STR",
         "orientation": "v",
         "showlegend": true,
         "type": "scatter",
         "x": [
          "STR"
         ],
         "xaxis": "x",
         "y": [
          89.965
         ],
         "yaxis": "y"
        },
        {
         "hovertemplate": "Driver=%{x}<br>LapTime=%{y}<extra></extra>",
         "legendgroup": "TSU",
         "marker": {
          "color": "#364aa9",
          "symbol": "circle"
         },
         "mode": "markers",
         "name": "TSU",
         "orientation": "v",
         "showlegend": true,
         "type": "scatter",
         "x": [
          "TSU"
         ],
         "xaxis": "x",
         "y": [
          90.129
         ],
         "yaxis": "y"
        },
        {
         "hovertemplate": "Driver=%{x}<br>LapTime=%{y}<extra></extra>",
         "legendgroup": "ALB",
         "marker": {
          "color": "#00a0dd",
          "symbol": "circle"
         },
         "mode": "markers",
         "name": "ALB",
         "orientation": "v",
         "showlegend": true,
         "type": "scatter",
         "x": [
          "ALB"
         ],
         "xaxis": "x",
         "y": [
          90.221
         ],
         "yaxis": "y"
        },
        {
         "hovertemplate": "Driver=%{x}<br>LapTime=%{y}<extra></extra>",
         "legendgroup": "RIC",
         "marker": {
          "color": "#364aa9",
          "symbol": "circle"
         },
         "mode": "markers",
         "name": "RIC",
         "orientation": "v",
         "showlegend": true,
         "type": "scatter",
         "x": [
          "RIC"
         ],
         "xaxis": "x",
         "y": [
          90.278
         ],
         "yaxis": "y"
        },
        {
         "hovertemplate": "Driver=%{x}<br>LapTime=%{y}<extra></extra>",
         "legendgroup": "MAG",
         "marker": {
          "color": "#b6babd",
          "symbol": "circle"
         },
         "mode": "markers",
         "name": "MAG",
         "orientation": "v",
         "showlegend": true,
         "type": "scatter",
         "x": [
          "MAG"
         ],
         "xaxis": "x",
         "y": [
          90.529
         ],
         "yaxis": "y"
        },
        {
         "hovertemplate": "Driver=%{x}<br>LapTime=%{y}<extra></extra>",
         "legendgroup": "BOT",
         "marker": {
          "color": "#00e700",
          "symbol": "circle"
         },
         "mode": "markers",
         "name": "BOT",
         "orientation": "v",
         "showlegend": true,
         "type": "scatter",
         "x": [
          "BOT"
         ],
         "xaxis": "x",
         "y": [
          90.756
         ],
         "yaxis": "y"
        },
        {
         "hovertemplate": "Driver=%{x}<br>LapTime=%{y}<extra></extra>",
         "legendgroup": "ZHO",
         "marker": {
          "color": "#00e700",
          "symbol": "circle"
         },
         "mode": "markers",
         "name": "ZHO",
         "orientation": "v",
         "showlegend": true,
         "type": "scatter",
         "x": [
          "ZHO"
         ],
         "xaxis": "x",
         "y": [
          90.757
         ],
         "yaxis": "y"
        },
        {
         "hovertemplate": "Driver=%{x}<br>LapTime=%{y}<extra></extra>",
         "legendgroup": "SAR",
         "marker": {
          "color": "#00a0dd",
          "symbol": "circle"
         },
         "mode": "markers",
         "name": "SAR",
         "orientation": "v",
         "showlegend": true,
         "type": "scatter",
         "x": [
          "SAR"
         ],
         "xaxis": "x",
         "y": [
          90.77
         ],
         "yaxis": "y"
        },
        {
         "hovertemplate": "Driver=%{x}<br>LapTime=%{y}<extra></extra>",
         "legendgroup": "OCO",
         "marker": {
          "color": "#ff87bc",
          "symbol": "circle"
         },
         "mode": "markers",
         "name": "OCO",
         "orientation": "v",
         "showlegend": true,
         "type": "scatter",
         "x": [
          "OCO"
         ],
         "xaxis": "x",
         "y": [
          90.793
         ],
         "yaxis": "y"
        },
        {
         "hovertemplate": "Driver=%{x}<br>LapTime=%{y}<extra></extra>",
         "legendgroup": "GAS",
         "marker": {
          "color": "#ff87bc",
          "symbol": "circle"
         },
         "mode": "markers",
         "name": "GAS",
         "orientation": "v",
         "showlegend": true,
         "type": "scatter",
         "x": [
          "GAS"
         ],
         "xaxis": "x",
         "y": [
          90.948
         ],
         "yaxis": "y"
        }
       ],
       "layout": {
        "annotations": [
         {
          "showarrow": false,
          "text": "107% rule",
          "x": 1,
          "xanchor": "right",
          "xref": "x domain",
          "y": 95.40655,
          "yanchor": "top",
          "yref": "y"
         },
         {
          "showarrow": false,
          "text": "eliminated in Q1",
          "x": 15,
          "xanchor": "left",
          "xref": "x",
          "y": 0,
          "yanchor": "bottom",
          "yref": "y domain"
         },
         {
          "showarrow": false,
          "text": "eliminated in Q2",
          "x": 10,
          "xanchor": "left",
          "xref": "x",
          "y": 0,
          "yanchor": "bottom",
          "yref": "y domain"
         }
        ],
        "legend": {
         "title": {
          "text": "Driver"
         },
         "tracegroupgap": 0
        },
        "shapes": [
         {
          "line": {
           "color": "red",
           "dash": "dot"
          },
          "type": "line",
          "x0": 0,
          "x1": 1,
          "xref": "x domain",
          "y0": 95.40655,
          "y1": 95.40655,
          "yref": "y"
         },
         {
          "line": {
           "color": "red",
           "dash": "dot"
          },
          "type": "line",
          "x0": 15,
          "x1": 15,
          "xref": "x",
          "y0": 0,
          "y1": 1,
          "yref": "y domain"
         },
         {
          "line": {
           "color": "red",
           "dash": "dot"
          },
          "type": "line",
          "x0": 10,
          "x1": 10,
          "xref": "x",
          "y0": 0,
          "y1": 1,
          "yref": "y domain"
         }
        ],
        "template": {
         "data": {
          "bar": [
           {
            "error_x": {
             "color": "#f2f5fa"
            },
            "error_y": {
             "color": "#f2f5fa"
            },
            "marker": {
             "line": {
              "color": "rgb(17,17,17)",
              "width": 0.5
             },
             "pattern": {
              "fillmode": "overlay",
              "size": 10,
              "solidity": 0.2
             }
            },
            "type": "bar"
           }
          ],
          "barpolar": [
           {
            "marker": {
             "line": {
              "color": "rgb(17,17,17)",
              "width": 0.5
             },
             "pattern": {
              "fillmode": "overlay",
              "size": 10,
              "solidity": 0.2
             }
            },
            "type": "barpolar"
           }
          ],
          "carpet": [
           {
            "aaxis": {
             "endlinecolor": "#A2B1C6",
             "gridcolor": "#506784",
             "linecolor": "#506784",
             "minorgridcolor": "#506784",
             "startlinecolor": "#A2B1C6"
            },
            "baxis": {
             "endlinecolor": "#A2B1C6",
             "gridcolor": "#506784",
             "linecolor": "#506784",
             "minorgridcolor": "#506784",
             "startlinecolor": "#A2B1C6"
            },
            "type": "carpet"
           }
          ],
          "choropleth": [
           {
            "colorbar": {
             "outlinewidth": 0,
             "ticks": ""
            },
            "type": "choropleth"
           }
          ],
          "contour": [
           {
            "colorbar": {
             "outlinewidth": 0,
             "ticks": ""
            },
            "colorscale": [
             [
              0,
              "#0d0887"
             ],
             [
              0.1111111111111111,
              "#46039f"
             ],
             [
              0.2222222222222222,
              "#7201a8"
             ],
             [
              0.3333333333333333,
              "#9c179e"
             ],
             [
              0.4444444444444444,
              "#bd3786"
             ],
             [
              0.5555555555555556,
              "#d8576b"
             ],
             [
              0.6666666666666666,
              "#ed7953"
             ],
             [
              0.7777777777777778,
              "#fb9f3a"
             ],
             [
              0.8888888888888888,
              "#fdca26"
             ],
             [
              1,
              "#f0f921"
             ]
            ],
            "type": "contour"
           }
          ],
          "contourcarpet": [
           {
            "colorbar": {
             "outlinewidth": 0,
             "ticks": ""
            },
            "type": "contourcarpet"
           }
          ],
          "heatmap": [
           {
            "colorbar": {
             "outlinewidth": 0,
             "ticks": ""
            },
            "colorscale": [
             [
              0,
              "#0d0887"
             ],
             [
              0.1111111111111111,
              "#46039f"
             ],
             [
              0.2222222222222222,
              "#7201a8"
             ],
             [
              0.3333333333333333,
              "#9c179e"
             ],
             [
              0.4444444444444444,
              "#bd3786"
             ],
             [
              0.5555555555555556,
              "#d8576b"
             ],
             [
              0.6666666666666666,
              "#ed7953"
             ],
             [
              0.7777777777777778,
              "#fb9f3a"
             ],
             [
              0.8888888888888888,
              "#fdca26"
             ],
             [
              1,
              "#f0f921"
             ]
            ],
            "type": "heatmap"
           }
          ],
          "heatmapgl": [
           {
            "colorbar": {
             "outlinewidth": 0,
             "ticks": ""
            },
            "colorscale": [
             [
              0,
              "#0d0887"
             ],
             [
              0.1111111111111111,
              "#46039f"
             ],
             [
              0.2222222222222222,
              "#7201a8"
             ],
             [
              0.3333333333333333,
              "#9c179e"
             ],
             [
              0.4444444444444444,
              "#bd3786"
             ],
             [
              0.5555555555555556,
              "#d8576b"
             ],
             [
              0.6666666666666666,
              "#ed7953"
             ],
             [
              0.7777777777777778,
              "#fb9f3a"
             ],
             [
              0.8888888888888888,
              "#fdca26"
             ],
             [
              1,
              "#f0f921"
             ]
            ],
            "type": "heatmapgl"
           }
          ],
          "histogram": [
           {
            "marker": {
             "pattern": {
              "fillmode": "overlay",
              "size": 10,
              "solidity": 0.2
             }
            },
            "type": "histogram"
           }
          ],
          "histogram2d": [
           {
            "colorbar": {
             "outlinewidth": 0,
             "ticks": ""
            },
            "colorscale": [
             [
              0,
              "#0d0887"
             ],
             [
              0.1111111111111111,
              "#46039f"
             ],
             [
              0.2222222222222222,
              "#7201a8"
             ],
             [
              0.3333333333333333,
              "#9c179e"
             ],
             [
              0.4444444444444444,
              "#bd3786"
             ],
             [
              0.5555555555555556,
              "#d8576b"
             ],
             [
              0.6666666666666666,
              "#ed7953"
             ],
             [
              0.7777777777777778,
              "#fb9f3a"
             ],
             [
              0.8888888888888888,
              "#fdca26"
             ],
             [
              1,
              "#f0f921"
             ]
            ],
            "type": "histogram2d"
           }
          ],
          "histogram2dcontour": [
           {
            "colorbar": {
             "outlinewidth": 0,
             "ticks": ""
            },
            "colorscale": [
             [
              0,
              "#0d0887"
             ],
             [
              0.1111111111111111,
              "#46039f"
             ],
             [
              0.2222222222222222,
              "#7201a8"
             ],
             [
              0.3333333333333333,
              "#9c179e"
             ],
             [
              0.4444444444444444,
              "#bd3786"
             ],
             [
              0.5555555555555556,
              "#d8576b"
             ],
             [
              0.6666666666666666,
              "#ed7953"
             ],
             [
              0.7777777777777778,
              "#fb9f3a"
             ],
             [
              0.8888888888888888,
              "#fdca26"
             ],
             [
              1,
              "#f0f921"
             ]
            ],
            "type": "histogram2dcontour"
           }
          ],
          "mesh3d": [
           {
            "colorbar": {
             "outlinewidth": 0,
             "ticks": ""
            },
            "type": "mesh3d"
           }
          ],
          "parcoords": [
           {
            "line": {
             "colorbar": {
              "outlinewidth": 0,
              "ticks": ""
             }
            },
            "type": "parcoords"
           }
          ],
          "pie": [
           {
            "automargin": true,
            "type": "pie"
           }
          ],
          "scatter": [
           {
            "marker": {
             "line": {
              "color": "#283442"
             }
            },
            "type": "scatter"
           }
          ],
          "scatter3d": [
           {
            "line": {
             "colorbar": {
              "outlinewidth": 0,
              "ticks": ""
             }
            },
            "marker": {
             "colorbar": {
              "outlinewidth": 0,
              "ticks": ""
             }
            },
            "type": "scatter3d"
           }
          ],
          "scattercarpet": [
           {
            "marker": {
             "colorbar": {
              "outlinewidth": 0,
              "ticks": ""
             }
            },
            "type": "scattercarpet"
           }
          ],
          "scattergeo": [
           {
            "marker": {
             "colorbar": {
              "outlinewidth": 0,
              "ticks": ""
             }
            },
            "type": "scattergeo"
           }
          ],
          "scattergl": [
           {
            "marker": {
             "line": {
              "color": "#283442"
             }
            },
            "type": "scattergl"
           }
          ],
          "scattermapbox": [
           {
            "marker": {
             "colorbar": {
              "outlinewidth": 0,
              "ticks": ""
             }
            },
            "type": "scattermapbox"
           }
          ],
          "scatterpolar": [
           {
            "marker": {
             "colorbar": {
              "outlinewidth": 0,
              "ticks": ""
             }
            },
            "type": "scatterpolar"
           }
          ],
          "scatterpolargl": [
           {
            "marker": {
             "colorbar": {
              "outlinewidth": 0,
              "ticks": ""
             }
            },
            "type": "scatterpolargl"
           }
          ],
          "scatterternary": [
           {
            "marker": {
             "colorbar": {
              "outlinewidth": 0,
              "ticks": ""
             }
            },
            "type": "scatterternary"
           }
          ],
          "surface": [
           {
            "colorbar": {
             "outlinewidth": 0,
             "ticks": ""
            },
            "colorscale": [
             [
              0,
              "#0d0887"
             ],
             [
              0.1111111111111111,
              "#46039f"
             ],
             [
              0.2222222222222222,
              "#7201a8"
             ],
             [
              0.3333333333333333,
              "#9c179e"
             ],
             [
              0.4444444444444444,
              "#bd3786"
             ],
             [
              0.5555555555555556,
              "#d8576b"
             ],
             [
              0.6666666666666666,
              "#ed7953"
             ],
             [
              0.7777777777777778,
              "#fb9f3a"
             ],
             [
              0.8888888888888888,
              "#fdca26"
             ],
             [
              1,
              "#f0f921"
             ]
            ],
            "type": "surface"
           }
          ],
          "table": [
           {
            "cells": {
             "fill": {
              "color": "#506784"
             },
             "line": {
              "color": "rgb(17,17,17)"
             }
            },
            "header": {
             "fill": {
              "color": "#2a3f5f"
             },
             "line": {
              "color": "rgb(17,17,17)"
             }
            },
            "type": "table"
           }
          ]
         },
         "layout": {
          "annotationdefaults": {
           "arrowcolor": "#f2f5fa",
           "arrowhead": 0,
           "arrowwidth": 1
          },
          "autotypenumbers": "strict",
          "coloraxis": {
           "colorbar": {
            "outlinewidth": 0,
            "ticks": ""
           }
          },
          "colorscale": {
           "diverging": [
            [
             0,
             "#8e0152"
            ],
            [
             0.1,
             "#c51b7d"
            ],
            [
             0.2,
             "#de77ae"
            ],
            [
             0.3,
             "#f1b6da"
            ],
            [
             0.4,
             "#fde0ef"
            ],
            [
             0.5,
             "#f7f7f7"
            ],
            [
             0.6,
             "#e6f5d0"
            ],
            [
             0.7,
             "#b8e186"
            ],
            [
             0.8,
             "#7fbc41"
            ],
            [
             0.9,
             "#4d9221"
            ],
            [
             1,
             "#276419"
            ]
           ],
           "sequential": [
            [
             0,
             "#0d0887"
            ],
            [
             0.1111111111111111,
             "#46039f"
            ],
            [
             0.2222222222222222,
             "#7201a8"
            ],
            [
             0.3333333333333333,
             "#9c179e"
            ],
            [
             0.4444444444444444,
             "#bd3786"
            ],
            [
             0.5555555555555556,
             "#d8576b"
            ],
            [
             0.6666666666666666,
             "#ed7953"
            ],
            [
             0.7777777777777778,
             "#fb9f3a"
            ],
            [
             0.8888888888888888,
             "#fdca26"
            ],
            [
             1,
             "#f0f921"
            ]
           ],
           "sequentialminus": [
            [
             0,
             "#0d0887"
            ],
            [
             0.1111111111111111,
             "#46039f"
            ],
            [
             0.2222222222222222,
             "#7201a8"
            ],
            [
             0.3333333333333333,
             "#9c179e"
            ],
            [
             0.4444444444444444,
             "#bd3786"
            ],
            [
             0.5555555555555556,
             "#d8576b"
            ],
            [
             0.6666666666666666,
             "#ed7953"
            ],
            [
             0.7777777777777778,
             "#fb9f3a"
            ],
            [
             0.8888888888888888,
             "#fdca26"
            ],
            [
             1,
             "#f0f921"
            ]
           ]
          },
          "colorway": [
           "#636efa",
           "#EF553B",
           "#00cc96",
           "#ab63fa",
           "#FFA15A",
           "#19d3f3",
           "#FF6692",
           "#B6E880",
           "#FF97FF",
           "#FECB52"
          ],
          "font": {
           "color": "#f2f5fa"
          },
          "geo": {
           "bgcolor": "rgb(17,17,17)",
           "lakecolor": "rgb(17,17,17)",
           "landcolor": "rgb(17,17,17)",
           "showlakes": true,
           "showland": true,
           "subunitcolor": "#506784"
          },
          "hoverlabel": {
           "align": "left"
          },
          "hovermode": "closest",
          "mapbox": {
           "style": "dark"
          },
          "paper_bgcolor": "rgb(17,17,17)",
          "plot_bgcolor": "rgb(17,17,17)",
          "polar": {
           "angularaxis": {
            "gridcolor": "#506784",
            "linecolor": "#506784",
            "ticks": ""
           },
           "bgcolor": "rgb(17,17,17)",
           "radialaxis": {
            "gridcolor": "#506784",
            "linecolor": "#506784",
            "ticks": ""
           }
          },
          "scene": {
           "xaxis": {
            "backgroundcolor": "rgb(17,17,17)",
            "gridcolor": "#506784",
            "gridwidth": 2,
            "linecolor": "#506784",
            "showbackground": true,
            "ticks": "",
            "zerolinecolor": "#C8D4E3"
           },
           "yaxis": {
            "backgroundcolor": "rgb(17,17,17)",
            "gridcolor": "#506784",
            "gridwidth": 2,
            "linecolor": "#506784",
            "showbackground": true,
            "ticks": "",
            "zerolinecolor": "#C8D4E3"
           },
           "zaxis": {
            "backgroundcolor": "rgb(17,17,17)",
            "gridcolor": "#506784",
            "gridwidth": 2,
            "linecolor": "#506784",
            "showbackground": true,
            "ticks": "",
            "zerolinecolor": "#C8D4E3"
           }
          },
          "shapedefaults": {
           "line": {
            "color": "#f2f5fa"
           }
          },
          "sliderdefaults": {
           "bgcolor": "#C8D4E3",
           "bordercolor": "rgb(17,17,17)",
           "borderwidth": 1,
           "tickwidth": 0
          },
          "ternary": {
           "aaxis": {
            "gridcolor": "#506784",
            "linecolor": "#506784",
            "ticks": ""
           },
           "baxis": {
            "gridcolor": "#506784",
            "linecolor": "#506784",
            "ticks": ""
           },
           "bgcolor": "rgb(17,17,17)",
           "caxis": {
            "gridcolor": "#506784",
            "linecolor": "#506784",
            "ticks": ""
           }
          },
          "title": {
           "x": 0.05
          },
          "updatemenudefaults": {
           "bgcolor": "#506784",
           "borderwidth": 0
          },
          "xaxis": {
           "automargin": true,
           "gridcolor": "#283442",
           "linecolor": "#506784",
           "ticks": "",
           "title": {
            "standoff": 15
           },
           "zerolinecolor": "#283442",
           "zerolinewidth": 2
          },
          "yaxis": {
           "automargin": true,
           "gridcolor": "#283442",
           "linecolor": "#506784",
           "ticks": "",
           "title": {
            "standoff": 15
           },
           "zerolinecolor": "#283442",
           "zerolinewidth": 2
          }
         }
        },
        "title": {
         "text": "Qualifying lap time delta to pole"
        },
        "xaxis": {
         "anchor": "y",
         "categoryarray": [
          "LEC",
          "VER",
          "RUS",
          "SAI",
          "PER",
          "ALO",
          "NOR",
          "PIA",
          "HAM",
          "HUL",
          "STR",
          "TSU",
          "ALB",
          "RIC",
          "MAG",
          "BOT",
          "ZHO",
          "SAR",
          "OCO",
          "GAS"
         ],
         "categoryorder": "array",
         "domain": [
          0,
          1
         ],
         "title": {
          "text": "Driver"
         }
        },
        "yaxis": {
         "anchor": "x",
         "domain": [
          0,
          1
         ],
         "title": {
          "text": "LapTime"
         }
        }
       }
      }
     },
     "metadata": {},
     "output_type": "display_data"
    }
   ],
   "source": [
    "# qualifying time\n",
    "fig = px.scatter(fastest_laps, x=\"Driver\", y=\"LapTime\", title=\"Qualifying lap time delta to pole\", template=\"plotly_dark\", color=\"Driver\", color_discrete_map=colors)\n",
    "\n",
    "# lines constants\n",
    "hundredsevenrule = pole_lap[\"LapTime\"] * 1.07\n",
    "hundredsevenrule = hundredsevenrule.total_seconds()\n",
    "q1toq2 = 15\n",
    "q2toq3 = 10\n",
    "\n",
    "# add lines\n",
    "fig.add_hline(y=hundredsevenrule, line_dash=\"dot\", line_color=\"red\", annotation_text=\"107% rule\", annotation_position=\"bottom right\") # 107% rule\n",
    "fig.add_vline(x=q1toq2, line_dash=\"dot\", line_color=\"red\", annotation_text=\"eliminated in Q1\", annotation_position=\"bottom right\") # Q1 to Q2\n",
    "fig.add_vline(x=q2toq3, line_dash=\"dot\", line_color=\"red\", annotation_text=\"eliminated in Q2\", annotation_position=\"bottom right\") # Q2 to Q3"
   ]
  },
  {
   "cell_type": "code",
   "execution_count": 9,
   "metadata": {},
   "outputs": [
    {
     "name": "stderr",
     "output_type": "stream",
     "text": [
      "C:\\Users\\Shayane\\AppData\\Local\\Temp\\ipykernel_14500\\966582036.py:2: FutureWarning:\n",
      "\n",
      "Series.__getitem__ treating keys as positions is deprecated. In a future version, integer keys will always be treated as labels (consistent with DataFrame behavior). To access a value by position, use `ser.iloc[pos]`\n",
      "\n"
     ]
    },
    {
     "data": {
      "application/vnd.plotly.v1+json": {
       "config": {
        "plotlyServerURL": "https://plot.ly"
       },
       "data": [
        {
         "hovertemplate": "Driver=VER<br>X=%{x}<br>Y=%{y}<extra></extra>",
         "legendgroup": "VER",
         "marker": {
          "color": "#0600ef",
          "symbol": "circle"
         },
         "mode": "markers",
         "name": "VER",
         "orientation": "v",
         "showlegend": true,
         "type": "scatter",
         "x": [
          -375,
          -337,
          -333,
          -331,
          -324,
          -318,
          -310,
          -309,
          -304,
          -303,
          -294,
          -293,
          -283,
          -276,
          -271,
          -269,
          -260,
          -253,
          -246,
          -246,
          -243,
          -243,
          -191,
          -187,
          -185,
          -181,
          -176,
          -171,
          -171,
          -166,
          -166,
          -161,
          -158,
          -155,
          -148,
          -147,
          -144,
          -143,
          -137,
          -136,
          497,
          535,
          538,
          556,
          682,
          693,
          749,
          782,
          851,
          857,
          931,
          935,
          1038,
          1103,
          1172,
          1248,
          1318,
          1365,
          1381,
          1473,
          1492,
          1582,
          1646,
          1696,
          1738,
          1896,
          1904,
          1997,
          2006,
          2162,
          2165,
          2269,
          2476,
          2483,
          2571,
          2617,
          2685,
          2903,
          2988,
          3052,
          3128,
          3226,
          3343,
          3454,
          3518,
          3532,
          3650,
          3767,
          3949,
          4005,
          4132,
          4147,
          4332,
          4380,
          4512,
          4630,
          4738,
          4816,
          4835,
          4899,
          4975,
          5123,
          5333,
          5371,
          5660,
          5734,
          5775,
          5837,
          6017,
          6023,
          6155,
          6184,
          6324,
          6386,
          6475,
          6653,
          6679,
          6825,
          6873,
          6984,
          6991,
          7096,
          7109,
          7191,
          7233,
          7256,
          7361,
          7402,
          7415,
          7421,
          7469,
          7476,
          7487,
          7491,
          7497,
          7498,
          7496,
          7494,
          7407,
          7384,
          7365,
          7337,
          7281,
          7246,
          7231,
          7149,
          7129,
          7064,
          7059,
          7039,
          6970,
          6918,
          6665,
          6635,
          6572,
          6521,
          6507,
          6397,
          6370,
          6312,
          6294,
          6230,
          6189,
          6066,
          5999,
          5917,
          5871,
          5852,
          5805,
          5762,
          5672,
          5664,
          5586,
          5540,
          5475,
          5363,
          5283,
          5254,
          5193,
          5183,
          5073,
          4988,
          4967,
          4886,
          4827,
          4785,
          4673,
          4632,
          4574,
          4530,
          4384,
          4222,
          4170,
          4072,
          4061,
          3848,
          3798,
          3744,
          3742,
          3668,
          3616,
          3562,
          3537,
          3420,
          3416,
          3284,
          3244,
          3232,
          3176,
          3150,
          3077,
          3046,
          3004,
          2966,
          2957,
          2882,
          2844,
          2816,
          2808,
          2734,
          2730,
          2713,
          2602,
          2596,
          2521,
          2517,
          2473,
          2460,
          2401,
          2390,
          2378,
          2374,
          2365,
          2345,
          2332,
          2326,
          2320,
          2298,
          2290,
          2288,
          2287,
          2289,
          2291,
          2294,
          2307,
          2309,
          2315,
          2323,
          2324,
          2342,
          2343,
          2365,
          2373,
          2381,
          2387,
          2412,
          2422,
          2446,
          2452,
          2499,
          2503,
          2524,
          2539,
          2556,
          2570,
          2593,
          2608,
          2614,
          2634,
          2646,
          2668,
          2669,
          2694,
          2701,
          2705,
          2714,
          2729,
          2744,
          2745,
          2752,
          2752,
          2743,
          2741,
          2715,
          2698,
          2661,
          2660,
          2601,
          2550,
          2531,
          2509,
          2483,
          2411,
          2395,
          2286,
          1923,
          1918,
          1904,
          1873,
          1872,
          1865,
          1863,
          1854,
          1853,
          1847,
          1811,
          1807,
          1802,
          1798,
          1790,
          1781,
          1778,
          1767,
          1766,
          1751,
          1749,
          1745,
          1740,
          1738,
          1733,
          1728,
          1727,
          1721,
          1712,
          1707,
          1704,
          1669,
          1668,
          1659,
          1658,
          1651,
          1651,
          1648,
          1646,
          1642,
          1638,
          1630,
          1629,
          1623,
          1620,
          1613,
          1604,
          1603,
          1592,
          1592,
          1583,
          1581,
          1575,
          1573,
          1566,
          1560,
          1557,
          1549,
          1543,
          1533,
          1532,
          1523,
          1521,
          1516,
          1517,
          1527,
          1531,
          1556,
          1557,
          1578,
          1661,
          1675,
          1728,
          1775,
          1841,
          1860,
          1975,
          2004,
          2081,
          2140,
          2228,
          2294,
          2371,
          2585,
          2589,
          2689,
          2803,
          2806,
          2899,
          2945,
          2949,
          3205,
          3238,
          3359,
          3367,
          3576,
          3627,
          3830,
          3935,
          4005,
          4064,
          4214,
          4319,
          4323,
          4693,
          4713,
          4829,
          4837,
          5005,
          5106,
          5222,
          5309,
          5601,
          5640,
          5739,
          5792,
          6217,
          6395,
          6418,
          6453,
          6636,
          6638,
          6136,
          6096,
          6018,
          4356,
          4254,
          4149,
          3482,
          3419,
          3337,
          3283,
          2935,
          2717,
          2700,
          2608,
          2329,
          2307,
          1981,
          1932,
          1541,
          1532,
          769,
          716,
          -569,
          -570,
          -545,
          -543,
          -514,
          -511,
          -485
         ],
         "xaxis": "x",
         "y": [
          1370,
          2264,
          2345,
          2419,
          2552,
          2695,
          2865,
          2887,
          2992,
          3004,
          3216,
          3248,
          3477,
          3633,
          3795,
          3839,
          4096,
          4290,
          4474,
          4486,
          4544,
          4557,
          6096,
          6250,
          6352,
          6504,
          6699,
          6854,
          6880,
          7069,
          7076,
          7218,
          7280,
          7387,
          7566,
          7574,
          7658,
          7666,
          7794,
          7815,
          8062,
          8026,
          8022,
          8008,
          7927,
          7921,
          7899,
          7889,
          7872,
          7870,
          7863,
          7863,
          7864,
          7873,
          7884,
          7898,
          7911,
          7922,
          7925,
          7950,
          7955,
          7985,
          8006,
          8022,
          8034,
          8065,
          8065,
          8071,
          8071,
          8069,
          8069,
          8064,
          8044,
          8044,
          8034,
          8025,
          8011,
          7968,
          7952,
          7939,
          7924,
          7904,
          7881,
          7858,
          7844,
          7842,
          7818,
          7793,
          7757,
          7745,
          7720,
          7718,
          7680,
          7671,
          7644,
          7621,
          7598,
          7583,
          7580,
          7568,
          7553,
          7524,
          7483,
          7475,
          7422,
          7407,
          7400,
          7388,
          7355,
          7355,
          7330,
          7324,
          7300,
          7288,
          7272,
          7240,
          7235,
          7209,
          7199,
          7177,
          7175,
          7148,
          7144,
          7113,
          7094,
          7082,
          7016,
          6987,
          6968,
          6960,
          6884,
          6866,
          6831,
          6812,
          6742,
          6720,
          6679,
          6660,
          6394,
          6358,
          6332,
          6297,
          6235,
          6202,
          6188,
          6117,
          6100,
          6050,
          6046,
          6033,
          5986,
          5951,
          5770,
          5748,
          5701,
          5660,
          5649,
          5558,
          5535,
          5483,
          5466,
          5402,
          5357,
          5214,
          5129,
          5012,
          4943,
          4913,
          4837,
          4767,
          4619,
          4606,
          4496,
          4448,
          4384,
          4303,
          4252,
          4234,
          4215,
          4214,
          4195,
          4185,
          4183,
          4183,
          4184,
          4186,
          4188,
          4189,
          4190,
          4189,
          4171,
          4143,
          4132,
          4090,
          4084,
          3968,
          3937,
          3887,
          3885,
          3812,
          3757,
          3693,
          3658,
          3489,
          3482,
          3272,
          3199,
          3178,
          3080,
          3038,
          2923,
          2875,
          2813,
          2766,
          2755,
          2660,
          2615,
          2585,
          2577,
          2514,
          2511,
          2502,
          2461,
          2459,
          2457,
          2458,
          2471,
          2479,
          2538,
          2550,
          2571,
          2581,
          2597,
          2638,
          2668,
          2684,
          2703,
          2792,
          2864,
          2875,
          2920,
          2957,
          3009,
          3040,
          3151,
          3163,
          3207,
          3260,
          3263,
          3361,
          3367,
          3476,
          3510,
          3545,
          3572,
          3686,
          3730,
          3844,
          3872,
          4089,
          4110,
          4195,
          4259,
          4328,
          4387,
          4488,
          4560,
          4589,
          4684,
          4743,
          4856,
          4860,
          5005,
          5047,
          5074,
          5139,
          5238,
          5385,
          5391,
          5671,
          5689,
          5787,
          5794,
          5924,
          5984,
          6083,
          6088,
          6207,
          6301,
          6331,
          6358,
          6388,
          6465,
          6478,
          6561,
          6472,
          6461,
          6429,
          6314,
          6308,
          6278,
          6263,
          6215,
          6208,
          6168,
          5867,
          5819,
          5772,
          5735,
          5638,
          5524,
          5495,
          5315,
          5293,
          5058,
          5019,
          4950,
          4856,
          4837,
          4740,
          4665,
          4635,
          4527,
          4345,
          4237,
          4191,
          3460,
          3426,
          3226,
          3215,
          3058,
          3039,
          2961,
          2934,
          2834,
          2758,
          2572,
          2530,
          2402,
          2335,
          2206,
          2012,
          1999,
          1797,
          1779,
          1595,
          1565,
          1431,
          1376,
          1240,
          1138,
          1070,
          933,
          813,
          650,
          624,
          435,
          407,
          187,
          164,
          -6,
          -57,
          -180,
          -186,
          -262,
          -433,
          -456,
          -508,
          -537,
          -575,
          -583,
          -628,
          -639,
          -665,
          -667,
          -667,
          -666,
          -659,
          -587,
          -586,
          -536,
          -466,
          -465,
          -393,
          -352,
          -347,
          -24,
          34,
          296,
          316,
          807,
          893,
          1164,
          1275,
          1328,
          1365,
          1446,
          1497,
          1499,
          1604,
          1607,
          1616,
          1616,
          1607,
          1587,
          1560,
          1535,
          1395,
          1377,
          1327,
          1301,
          1094,
          977,
          962,
          934,
          658,
          652,
          -242,
          -266,
          -309,
          -1194,
          -1251,
          -1308,
          -1679,
          -1715,
          -1760,
          -1791,
          -1984,
          -2106,
          -2116,
          -2167,
          -2322,
          -2335,
          -2516,
          -2543,
          -2766,
          -2771,
          -3205,
          -3236,
          -2673,
          -2670,
          -1783,
          -1756,
          -1250,
          -1197,
          -721
         ],
         "yaxis": "y"
        },
        {
         "hovertemplate": "Driver=LEC<br>X=%{x}<br>Y=%{y}<extra></extra>",
         "legendgroup": "LEC",
         "marker": {
          "color": "#e8002d",
          "symbol": "circle"
         },
         "mode": "markers",
         "name": "LEC",
         "orientation": "v",
         "showlegend": true,
         "type": "scatter",
         "x": [
          -374,
          -372,
          -368,
          -366,
          -359,
          -356,
          -350,
          -346,
          -346,
          -235,
          -235,
          -229,
          -227,
          -225,
          -221,
          -216,
          -212,
          -209,
          -208,
          -201,
          -198,
          -192,
          -133,
          -133,
          -127,
          -124,
          -111,
          -111,
          -101,
          -93,
          -68,
          -62,
          -51,
          -12,
          -6,
          18,
          20,
          61,
          63,
          89,
          104,
          125,
          151,
          182,
          187,
          223,
          230,
          287,
          312,
          321,
          361,
          384,
          406,
          442,
          454,
          6845,
          6793,
          6785,
          2314,
          2305,
          2247,
          2222,
          2213,
          2194,
          2136,
          2109,
          2086,
          2066,
          2032,
          2031,
          2007,
          1987,
          1962,
          1958,
          1896,
          1888,
          1885,
          1844,
          1842,
          1835,
          1831,
          1820,
          1699,
          1697,
          1693,
          1689,
          1683,
          1681,
          1676,
          2436,
          3046,
          3058,
          3121,
          3131,
          3279,
          3288,
          3417,
          3438,
          3501,
          3503,
          3532,
          3692,
          3706,
          4448,
          4473,
          5364,
          5419,
          5943,
          6023,
          6080,
          6150,
          6481,
          6539,
          6563,
          6647,
          6650,
          6657,
          6666,
          6666,
          6654,
          6641,
          6627,
          6624,
          6597,
          6572,
          6567,
          6535,
          6482,
          6462,
          6416,
          6378,
          6344,
          6311,
          6282,
          5964,
          5930,
          5841,
          5801,
          5725,
          5718,
          5693,
          5595,
          5565,
          5461,
          5453,
          5335,
          5316,
          5242,
          5136,
          5032,
          4968,
          4871,
          4812,
          4735,
          4597,
          4562,
          4464,
          4395,
          4098,
          3981,
          3945,
          3838,
          3769,
          3707,
          3648,
          3248,
          3132,
          3082,
          2981,
          2574,
          2150,
          1828,
          1825,
          1718,
          1683,
          1442,
          1322,
          1214,
          1144,
          1029,
          967,
          958,
          635,
          601,
          544,
          428,
          335,
          307,
          267,
          237,
          135,
          94,
          56,
          22,
          17,
          -54,
          -110,
          -128,
          -163,
          -216,
          -236,
          -261,
          -296,
          -305,
          -345,
          -354,
          -388,
          -399,
          -451,
          -470,
          -502,
          -507,
          -539,
          -545,
          -574,
          -576,
          -578,
          -577,
          -576,
          -568,
          -566,
          -563,
          -560,
          -553,
          -536,
          -534,
          -531,
          -528,
          -519,
          -504,
          -504,
          -493,
          -493,
          -479,
          -477,
          -470,
          -469,
          -462,
          -462,
          -455,
          -443,
          -442,
          -436,
          -430,
          -428,
          -421,
          -421,
          -414,
          -414,
          -407,
          -402,
          -401,
          -388,
          -387,
          -384,
          -378
         ],
         "xaxis": "x",
         "y": [
          1402,
          1441,
          1535,
          1560,
          1736,
          1798,
          1939,
          2036,
          2041,
          4778,
          4806,
          4967,
          5004,
          5085,
          5227,
          5347,
          5477,
          5559,
          5602,
          5809,
          5905,
          6084,
          7852,
          7864,
          7943,
          7976,
          8076,
          8079,
          8128,
          8156,
          8214,
          8225,
          8244,
          8290,
          8295,
          8315,
          8316,
          8337,
          8338,
          8345,
          8347,
          8346,
          8344,
          8336,
          8334,
          8317,
          8313,
          8272,
          8250,
          8243,
          8205,
          8181,
          8159,
          8120,
          8106,
          5901,
          5863,
          5857,
          2718,
          2756,
          6584,
          6592,
          6595,
          6602,
          6613,
          6615,
          6613,
          6610,
          6596,
          6596,
          6582,
          6567,
          6541,
          6535,
          6401,
          6376,
          6365,
          6139,
          6125,
          6071,
          6042,
          5949,
          4063,
          4023,
          3918,
          3837,
          3712,
          3673,
          3577,
          -639,
          -246,
          -231,
          -152,
          -139,
          115,
          135,
          445,
          502,
          656,
          660,
          723,
          991,
          1010,
          1546,
          1554,
          1510,
          1484,
          1228,
          1189,
          1163,
          1129,
          907,
          844,
          806,
          613,
          600,
          559,
          464,
          461,
          330,
          268,
          239,
          233,
          175,
          134,
          125,
          79,
          18,
          -1,
          -45,
          -77,
          -106,
          -131,
          -153,
          -337,
          -354,
          -401,
          -421,
          -462,
          -465,
          -479,
          -529,
          -544,
          -599,
          -602,
          -664,
          -673,
          -713,
          -770,
          -825,
          -860,
          -913,
          -944,
          -986,
          -1061,
          -1079,
          -1134,
          -1173,
          -1337,
          -1402,
          -1421,
          -1481,
          -1520,
          -1553,
          -1587,
          -1810,
          -1875,
          -1902,
          -1959,
          -2186,
          -2422,
          -2602,
          -2604,
          -2664,
          -2685,
          -2823,
          -2891,
          -2953,
          -2992,
          -3058,
          -3094,
          -3098,
          -3281,
          -3301,
          -3332,
          -3393,
          -3433,
          -3445,
          -3459,
          -3468,
          -3489,
          -3496,
          -3500,
          -3500,
          -3499,
          -3496,
          -3486,
          -3479,
          -3465,
          -3431,
          -3417,
          -3394,
          -3358,
          -3346,
          -3298,
          -3285,
          -3234,
          -3219,
          -3126,
          -3081,
          -3004,
          -2991,
          -2878,
          -2846,
          -2604,
          -2527,
          -2458,
          -2388,
          -2353,
          -2187,
          -2137,
          -2080,
          -2025,
          -1912,
          -1650,
          -1612,
          -1569,
          -1505,
          -1347,
          -1075,
          -1068,
          -875,
          -869,
          -609,
          -587,
          -469,
          -434,
          -319,
          -301,
          -167,
          46,
          67,
          164,
          296,
          321,
          445,
          465,
          601,
          606,
          732,
          824,
          860,
          1115,
          1129,
          1196,
          1322
         ],
         "yaxis": "y"
        }
       ],
       "layout": {
        "legend": {
         "title": {
          "text": "Driver"
         },
         "tracegroupgap": 0
        },
        "template": {
         "data": {
          "bar": [
           {
            "error_x": {
             "color": "#f2f5fa"
            },
            "error_y": {
             "color": "#f2f5fa"
            },
            "marker": {
             "line": {
              "color": "rgb(17,17,17)",
              "width": 0.5
             },
             "pattern": {
              "fillmode": "overlay",
              "size": 10,
              "solidity": 0.2
             }
            },
            "type": "bar"
           }
          ],
          "barpolar": [
           {
            "marker": {
             "line": {
              "color": "rgb(17,17,17)",
              "width": 0.5
             },
             "pattern": {
              "fillmode": "overlay",
              "size": 10,
              "solidity": 0.2
             }
            },
            "type": "barpolar"
           }
          ],
          "carpet": [
           {
            "aaxis": {
             "endlinecolor": "#A2B1C6",
             "gridcolor": "#506784",
             "linecolor": "#506784",
             "minorgridcolor": "#506784",
             "startlinecolor": "#A2B1C6"
            },
            "baxis": {
             "endlinecolor": "#A2B1C6",
             "gridcolor": "#506784",
             "linecolor": "#506784",
             "minorgridcolor": "#506784",
             "startlinecolor": "#A2B1C6"
            },
            "type": "carpet"
           }
          ],
          "choropleth": [
           {
            "colorbar": {
             "outlinewidth": 0,
             "ticks": ""
            },
            "type": "choropleth"
           }
          ],
          "contour": [
           {
            "colorbar": {
             "outlinewidth": 0,
             "ticks": ""
            },
            "colorscale": [
             [
              0,
              "#0d0887"
             ],
             [
              0.1111111111111111,
              "#46039f"
             ],
             [
              0.2222222222222222,
              "#7201a8"
             ],
             [
              0.3333333333333333,
              "#9c179e"
             ],
             [
              0.4444444444444444,
              "#bd3786"
             ],
             [
              0.5555555555555556,
              "#d8576b"
             ],
             [
              0.6666666666666666,
              "#ed7953"
             ],
             [
              0.7777777777777778,
              "#fb9f3a"
             ],
             [
              0.8888888888888888,
              "#fdca26"
             ],
             [
              1,
              "#f0f921"
             ]
            ],
            "type": "contour"
           }
          ],
          "contourcarpet": [
           {
            "colorbar": {
             "outlinewidth": 0,
             "ticks": ""
            },
            "type": "contourcarpet"
           }
          ],
          "heatmap": [
           {
            "colorbar": {
             "outlinewidth": 0,
             "ticks": ""
            },
            "colorscale": [
             [
              0,
              "#0d0887"
             ],
             [
              0.1111111111111111,
              "#46039f"
             ],
             [
              0.2222222222222222,
              "#7201a8"
             ],
             [
              0.3333333333333333,
              "#9c179e"
             ],
             [
              0.4444444444444444,
              "#bd3786"
             ],
             [
              0.5555555555555556,
              "#d8576b"
             ],
             [
              0.6666666666666666,
              "#ed7953"
             ],
             [
              0.7777777777777778,
              "#fb9f3a"
             ],
             [
              0.8888888888888888,
              "#fdca26"
             ],
             [
              1,
              "#f0f921"
             ]
            ],
            "type": "heatmap"
           }
          ],
          "heatmapgl": [
           {
            "colorbar": {
             "outlinewidth": 0,
             "ticks": ""
            },
            "colorscale": [
             [
              0,
              "#0d0887"
             ],
             [
              0.1111111111111111,
              "#46039f"
             ],
             [
              0.2222222222222222,
              "#7201a8"
             ],
             [
              0.3333333333333333,
              "#9c179e"
             ],
             [
              0.4444444444444444,
              "#bd3786"
             ],
             [
              0.5555555555555556,
              "#d8576b"
             ],
             [
              0.6666666666666666,
              "#ed7953"
             ],
             [
              0.7777777777777778,
              "#fb9f3a"
             ],
             [
              0.8888888888888888,
              "#fdca26"
             ],
             [
              1,
              "#f0f921"
             ]
            ],
            "type": "heatmapgl"
           }
          ],
          "histogram": [
           {
            "marker": {
             "pattern": {
              "fillmode": "overlay",
              "size": 10,
              "solidity": 0.2
             }
            },
            "type": "histogram"
           }
          ],
          "histogram2d": [
           {
            "colorbar": {
             "outlinewidth": 0,
             "ticks": ""
            },
            "colorscale": [
             [
              0,
              "#0d0887"
             ],
             [
              0.1111111111111111,
              "#46039f"
             ],
             [
              0.2222222222222222,
              "#7201a8"
             ],
             [
              0.3333333333333333,
              "#9c179e"
             ],
             [
              0.4444444444444444,
              "#bd3786"
             ],
             [
              0.5555555555555556,
              "#d8576b"
             ],
             [
              0.6666666666666666,
              "#ed7953"
             ],
             [
              0.7777777777777778,
              "#fb9f3a"
             ],
             [
              0.8888888888888888,
              "#fdca26"
             ],
             [
              1,
              "#f0f921"
             ]
            ],
            "type": "histogram2d"
           }
          ],
          "histogram2dcontour": [
           {
            "colorbar": {
             "outlinewidth": 0,
             "ticks": ""
            },
            "colorscale": [
             [
              0,
              "#0d0887"
             ],
             [
              0.1111111111111111,
              "#46039f"
             ],
             [
              0.2222222222222222,
              "#7201a8"
             ],
             [
              0.3333333333333333,
              "#9c179e"
             ],
             [
              0.4444444444444444,
              "#bd3786"
             ],
             [
              0.5555555555555556,
              "#d8576b"
             ],
             [
              0.6666666666666666,
              "#ed7953"
             ],
             [
              0.7777777777777778,
              "#fb9f3a"
             ],
             [
              0.8888888888888888,
              "#fdca26"
             ],
             [
              1,
              "#f0f921"
             ]
            ],
            "type": "histogram2dcontour"
           }
          ],
          "mesh3d": [
           {
            "colorbar": {
             "outlinewidth": 0,
             "ticks": ""
            },
            "type": "mesh3d"
           }
          ],
          "parcoords": [
           {
            "line": {
             "colorbar": {
              "outlinewidth": 0,
              "ticks": ""
             }
            },
            "type": "parcoords"
           }
          ],
          "pie": [
           {
            "automargin": true,
            "type": "pie"
           }
          ],
          "scatter": [
           {
            "marker": {
             "line": {
              "color": "#283442"
             }
            },
            "type": "scatter"
           }
          ],
          "scatter3d": [
           {
            "line": {
             "colorbar": {
              "outlinewidth": 0,
              "ticks": ""
             }
            },
            "marker": {
             "colorbar": {
              "outlinewidth": 0,
              "ticks": ""
             }
            },
            "type": "scatter3d"
           }
          ],
          "scattercarpet": [
           {
            "marker": {
             "colorbar": {
              "outlinewidth": 0,
              "ticks": ""
             }
            },
            "type": "scattercarpet"
           }
          ],
          "scattergeo": [
           {
            "marker": {
             "colorbar": {
              "outlinewidth": 0,
              "ticks": ""
             }
            },
            "type": "scattergeo"
           }
          ],
          "scattergl": [
           {
            "marker": {
             "line": {
              "color": "#283442"
             }
            },
            "type": "scattergl"
           }
          ],
          "scattermapbox": [
           {
            "marker": {
             "colorbar": {
              "outlinewidth": 0,
              "ticks": ""
             }
            },
            "type": "scattermapbox"
           }
          ],
          "scatterpolar": [
           {
            "marker": {
             "colorbar": {
              "outlinewidth": 0,
              "ticks": ""
             }
            },
            "type": "scatterpolar"
           }
          ],
          "scatterpolargl": [
           {
            "marker": {
             "colorbar": {
              "outlinewidth": 0,
              "ticks": ""
             }
            },
            "type": "scatterpolargl"
           }
          ],
          "scatterternary": [
           {
            "marker": {
             "colorbar": {
              "outlinewidth": 0,
              "ticks": ""
             }
            },
            "type": "scatterternary"
           }
          ],
          "surface": [
           {
            "colorbar": {
             "outlinewidth": 0,
             "ticks": ""
            },
            "colorscale": [
             [
              0,
              "#0d0887"
             ],
             [
              0.1111111111111111,
              "#46039f"
             ],
             [
              0.2222222222222222,
              "#7201a8"
             ],
             [
              0.3333333333333333,
              "#9c179e"
             ],
             [
              0.4444444444444444,
              "#bd3786"
             ],
             [
              0.5555555555555556,
              "#d8576b"
             ],
             [
              0.6666666666666666,
              "#ed7953"
             ],
             [
              0.7777777777777778,
              "#fb9f3a"
             ],
             [
              0.8888888888888888,
              "#fdca26"
             ],
             [
              1,
              "#f0f921"
             ]
            ],
            "type": "surface"
           }
          ],
          "table": [
           {
            "cells": {
             "fill": {
              "color": "#506784"
             },
             "line": {
              "color": "rgb(17,17,17)"
             }
            },
            "header": {
             "fill": {
              "color": "#2a3f5f"
             },
             "line": {
              "color": "rgb(17,17,17)"
             }
            },
            "type": "table"
           }
          ]
         },
         "layout": {
          "annotationdefaults": {
           "arrowcolor": "#f2f5fa",
           "arrowhead": 0,
           "arrowwidth": 1
          },
          "autotypenumbers": "strict",
          "coloraxis": {
           "colorbar": {
            "outlinewidth": 0,
            "ticks": ""
           }
          },
          "colorscale": {
           "diverging": [
            [
             0,
             "#8e0152"
            ],
            [
             0.1,
             "#c51b7d"
            ],
            [
             0.2,
             "#de77ae"
            ],
            [
             0.3,
             "#f1b6da"
            ],
            [
             0.4,
             "#fde0ef"
            ],
            [
             0.5,
             "#f7f7f7"
            ],
            [
             0.6,
             "#e6f5d0"
            ],
            [
             0.7,
             "#b8e186"
            ],
            [
             0.8,
             "#7fbc41"
            ],
            [
             0.9,
             "#4d9221"
            ],
            [
             1,
             "#276419"
            ]
           ],
           "sequential": [
            [
             0,
             "#0d0887"
            ],
            [
             0.1111111111111111,
             "#46039f"
            ],
            [
             0.2222222222222222,
             "#7201a8"
            ],
            [
             0.3333333333333333,
             "#9c179e"
            ],
            [
             0.4444444444444444,
             "#bd3786"
            ],
            [
             0.5555555555555556,
             "#d8576b"
            ],
            [
             0.6666666666666666,
             "#ed7953"
            ],
            [
             0.7777777777777778,
             "#fb9f3a"
            ],
            [
             0.8888888888888888,
             "#fdca26"
            ],
            [
             1,
             "#f0f921"
            ]
           ],
           "sequentialminus": [
            [
             0,
             "#0d0887"
            ],
            [
             0.1111111111111111,
             "#46039f"
            ],
            [
             0.2222222222222222,
             "#7201a8"
            ],
            [
             0.3333333333333333,
             "#9c179e"
            ],
            [
             0.4444444444444444,
             "#bd3786"
            ],
            [
             0.5555555555555556,
             "#d8576b"
            ],
            [
             0.6666666666666666,
             "#ed7953"
            ],
            [
             0.7777777777777778,
             "#fb9f3a"
            ],
            [
             0.8888888888888888,
             "#fdca26"
            ],
            [
             1,
             "#f0f921"
            ]
           ]
          },
          "colorway": [
           "#636efa",
           "#EF553B",
           "#00cc96",
           "#ab63fa",
           "#FFA15A",
           "#19d3f3",
           "#FF6692",
           "#B6E880",
           "#FF97FF",
           "#FECB52"
          ],
          "font": {
           "color": "#f2f5fa"
          },
          "geo": {
           "bgcolor": "rgb(17,17,17)",
           "lakecolor": "rgb(17,17,17)",
           "landcolor": "rgb(17,17,17)",
           "showlakes": true,
           "showland": true,
           "subunitcolor": "#506784"
          },
          "hoverlabel": {
           "align": "left"
          },
          "hovermode": "closest",
          "mapbox": {
           "style": "dark"
          },
          "paper_bgcolor": "rgb(17,17,17)",
          "plot_bgcolor": "rgb(17,17,17)",
          "polar": {
           "angularaxis": {
            "gridcolor": "#506784",
            "linecolor": "#506784",
            "ticks": ""
           },
           "bgcolor": "rgb(17,17,17)",
           "radialaxis": {
            "gridcolor": "#506784",
            "linecolor": "#506784",
            "ticks": ""
           }
          },
          "scene": {
           "xaxis": {
            "backgroundcolor": "rgb(17,17,17)",
            "gridcolor": "#506784",
            "gridwidth": 2,
            "linecolor": "#506784",
            "showbackground": true,
            "ticks": "",
            "zerolinecolor": "#C8D4E3"
           },
           "yaxis": {
            "backgroundcolor": "rgb(17,17,17)",
            "gridcolor": "#506784",
            "gridwidth": 2,
            "linecolor": "#506784",
            "showbackground": true,
            "ticks": "",
            "zerolinecolor": "#C8D4E3"
           },
           "zaxis": {
            "backgroundcolor": "rgb(17,17,17)",
            "gridcolor": "#506784",
            "gridwidth": 2,
            "linecolor": "#506784",
            "showbackground": true,
            "ticks": "",
            "zerolinecolor": "#C8D4E3"
           }
          },
          "shapedefaults": {
           "line": {
            "color": "#f2f5fa"
           }
          },
          "sliderdefaults": {
           "bgcolor": "#C8D4E3",
           "bordercolor": "rgb(17,17,17)",
           "borderwidth": 1,
           "tickwidth": 0
          },
          "ternary": {
           "aaxis": {
            "gridcolor": "#506784",
            "linecolor": "#506784",
            "ticks": ""
           },
           "baxis": {
            "gridcolor": "#506784",
            "linecolor": "#506784",
            "ticks": ""
           },
           "bgcolor": "rgb(17,17,17)",
           "caxis": {
            "gridcolor": "#506784",
            "linecolor": "#506784",
            "ticks": ""
           }
          },
          "title": {
           "x": 0.05
          },
          "updatemenudefaults": {
           "bgcolor": "#506784",
           "borderwidth": 0
          },
          "xaxis": {
           "automargin": true,
           "gridcolor": "#283442",
           "linecolor": "#506784",
           "ticks": "",
           "title": {
            "standoff": 15
           },
           "zerolinecolor": "#283442",
           "zerolinewidth": 2
          },
          "yaxis": {
           "automargin": true,
           "gridcolor": "#283442",
           "linecolor": "#506784",
           "ticks": "",
           "title": {
            "standoff": 15
           },
           "zerolinecolor": "#283442",
           "zerolinewidth": 2
          }
         }
        },
        "title": {
         "text": "VER vs LEC in qualy"
        },
        "xaxis": {
         "anchor": "y",
         "domain": [
          0,
          1
         ],
         "title": {
          "text": "X"
         }
        },
        "yaxis": {
         "anchor": "x",
         "domain": [
          0,
          1
         ],
         "title": {
          "text": "Y"
         }
        }
       }
      }
     },
     "metadata": {},
     "output_type": "display_data"
    }
   ],
   "source": [
    "# 2 fastest drivers of qualy comparison\n",
    "px.scatter(qualy2, x='X', y='Y', color='Driver', color_discrete_map=colormap, title=f\"{r1[\"Abbreviation\"][0]} vs {r2[\"Abbreviation\"][0]} in qualy\", template=\"plotly_dark\")"
   ]
  }
 ],
 "metadata": {
  "kernelspec": {
   "display_name": "Python 3",
   "language": "python",
   "name": "python3"
  },
  "language_info": {
   "codemirror_mode": {
    "name": "ipython",
    "version": 3
   },
   "file_extension": ".py",
   "mimetype": "text/x-python",
   "name": "python",
   "nbconvert_exporter": "python",
   "pygments_lexer": "ipython3",
   "version": "3.12.3"
  }
 },
 "nbformat": 4,
 "nbformat_minor": 2
}
